{
 "cells": [
  {
   "cell_type": "markdown",
   "id": "5c6f4686",
   "metadata": {},
   "source": [
    "📍Introduction\n",
    "\n",
    "Welcome to \"AutoScout Data Analysis Project\". This is the capstone project of Data Analysis Module. Auto Scout data which using for this project, scraped from the on-line car trading company in 2019, contains many features of 9 different car models. In this project, you will have the opportunity to apply many commonly used algorithms for Data Cleaning and Exploratory Data Analysis by using many Python libraries such as Numpy, Pandas, Matplotlib, Seaborn, Scipy you will analyze clean dataset.\n",
    "\n",
    "📌The project consists of 3 parts:\n",
    "\n",
    "🔍First part is related with 'data cleaning'. It deals with Incorrect Headers, Incorrect Format, Anomalies, Dropping useless columns.\n",
    "\n",
    "🔍Second part is related with 'filling data'. It deals with Missing Values. Categorical to numeric transformation is done.\n",
    "\n",
    "🔍Third part is related with 'handling outliers of data' via Visualisation libraries. Some insights are extracted."
   ]
  },
  {
   "cell_type": "markdown",
   "id": "c501c8df",
   "metadata": {},
   "source": [
    "🔍Need to Study :\n",
    "\n",
    ".str.method  \n",
    ".contains()    \n",
    ".extract()    \n",
    ".to_datetime()   \n",
    ".get_dummies()     \n",
    ".add_prefix()      \n",
    ".sample()    \n",
    ".regex   \n",
    ".to_numeric()    \n",
    ".isin()     \n",
    ".corr()      "
   ]
  },
  {
   "cell_type": "code",
   "execution_count": 2,
   "id": "e165a300",
   "metadata": {},
   "outputs": [],
   "source": [
    "import numpy as np\n",
    "import pandas as pd\n",
    "import seaborn as sns\n",
    "import matplotlib.pyplot as plt "
   ]
  },
  {
   "cell_type": "code",
   "execution_count": 3,
   "id": "ad561212",
   "metadata": {},
   "outputs": [],
   "source": [
    "import warnings\n",
    "warnings.filterwarnings('ignore')\n",
    "warnings.warn('this will not show')"
   ]
  },
  {
   "cell_type": "code",
   "execution_count": 4,
   "id": "38f713a2",
   "metadata": {
    "scrolled": true
   },
   "outputs": [
    {
     "data": {
      "text/html": [
       "<div>\n",
       "<style scoped>\n",
       "    .dataframe tbody tr th:only-of-type {\n",
       "        vertical-align: middle;\n",
       "    }\n",
       "\n",
       "    .dataframe tbody tr th {\n",
       "        vertical-align: top;\n",
       "    }\n",
       "\n",
       "    .dataframe thead th {\n",
       "        text-align: right;\n",
       "    }\n",
       "</style>\n",
       "<table border=\"1\" class=\"dataframe\">\n",
       "  <thead>\n",
       "    <tr style=\"text-align: right;\">\n",
       "      <th></th>\n",
       "      <th>Unnamed: 0</th>\n",
       "      <th>Price</th>\n",
       "      <th>hp</th>\n",
       "      <th>Type</th>\n",
       "      <th>Warranty</th>\n",
       "      <th>Brand</th>\n",
       "      <th>Model</th>\n",
       "      <th>Age</th>\n",
       "      <th>Nr_of_Doors</th>\n",
       "      <th>Number_of_Seats</th>\n",
       "      <th>...</th>\n",
       "      <th>Prev_Owner</th>\n",
       "      <th>Inspection_New</th>\n",
       "      <th>Body_Color</th>\n",
       "      <th>Paint_Type</th>\n",
       "      <th>Uphol_Material</th>\n",
       "      <th>Uphol_Colors</th>\n",
       "      <th>Country_Cons</th>\n",
       "      <th>City_Cons</th>\n",
       "      <th>Comb_Cons</th>\n",
       "      <th>New_KM</th>\n",
       "    </tr>\n",
       "  </thead>\n",
       "  <tbody>\n",
       "    <tr>\n",
       "      <th>0</th>\n",
       "      <td>0</td>\n",
       "      <td>15770</td>\n",
       "      <td>66</td>\n",
       "      <td>Used</td>\n",
       "      <td>12.0</td>\n",
       "      <td>Audi</td>\n",
       "      <td>A1</td>\n",
       "      <td>3.0</td>\n",
       "      <td>5.0</td>\n",
       "      <td>5.0</td>\n",
       "      <td>...</td>\n",
       "      <td>2.0</td>\n",
       "      <td>Yes</td>\n",
       "      <td>Black</td>\n",
       "      <td>Metallic</td>\n",
       "      <td>Cloth</td>\n",
       "      <td>Black</td>\n",
       "      <td>4.3</td>\n",
       "      <td>3.5</td>\n",
       "      <td>3.8</td>\n",
       "      <td>56013.0</td>\n",
       "    </tr>\n",
       "    <tr>\n",
       "      <th>1</th>\n",
       "      <td>1</td>\n",
       "      <td>14500</td>\n",
       "      <td>141</td>\n",
       "      <td>Used</td>\n",
       "      <td>12.0</td>\n",
       "      <td>Audi</td>\n",
       "      <td>A1</td>\n",
       "      <td>2.0</td>\n",
       "      <td>3.0</td>\n",
       "      <td>4.0</td>\n",
       "      <td>...</td>\n",
       "      <td>1.0</td>\n",
       "      <td>No</td>\n",
       "      <td>Red</td>\n",
       "      <td>Metallic</td>\n",
       "      <td>Cloth</td>\n",
       "      <td>Grey</td>\n",
       "      <td>7.1</td>\n",
       "      <td>4.7</td>\n",
       "      <td>5.6</td>\n",
       "      <td>80000.0</td>\n",
       "    </tr>\n",
       "    <tr>\n",
       "      <th>2</th>\n",
       "      <td>2</td>\n",
       "      <td>14640</td>\n",
       "      <td>85</td>\n",
       "      <td>Used</td>\n",
       "      <td>12.0</td>\n",
       "      <td>Audi</td>\n",
       "      <td>A1</td>\n",
       "      <td>3.0</td>\n",
       "      <td>4.0</td>\n",
       "      <td>4.0</td>\n",
       "      <td>...</td>\n",
       "      <td>1.0</td>\n",
       "      <td>No</td>\n",
       "      <td>Black</td>\n",
       "      <td>Metallic</td>\n",
       "      <td>Cloth</td>\n",
       "      <td>Black</td>\n",
       "      <td>4.4</td>\n",
       "      <td>3.4</td>\n",
       "      <td>3.8</td>\n",
       "      <td>83450.0</td>\n",
       "    </tr>\n",
       "    <tr>\n",
       "      <th>3</th>\n",
       "      <td>3</td>\n",
       "      <td>14500</td>\n",
       "      <td>66</td>\n",
       "      <td>Used</td>\n",
       "      <td>12.0</td>\n",
       "      <td>Audi</td>\n",
       "      <td>A1</td>\n",
       "      <td>3.0</td>\n",
       "      <td>3.0</td>\n",
       "      <td>4.0</td>\n",
       "      <td>...</td>\n",
       "      <td>1.0</td>\n",
       "      <td>No</td>\n",
       "      <td>Brown</td>\n",
       "      <td>Metallic</td>\n",
       "      <td>Cloth</td>\n",
       "      <td>Grey</td>\n",
       "      <td>4.3</td>\n",
       "      <td>3.5</td>\n",
       "      <td>3.8</td>\n",
       "      <td>73000.0</td>\n",
       "    </tr>\n",
       "    <tr>\n",
       "      <th>4</th>\n",
       "      <td>4</td>\n",
       "      <td>16790</td>\n",
       "      <td>66</td>\n",
       "      <td>Used</td>\n",
       "      <td>12.0</td>\n",
       "      <td>Audi</td>\n",
       "      <td>A1</td>\n",
       "      <td>3.0</td>\n",
       "      <td>5.0</td>\n",
       "      <td>5.0</td>\n",
       "      <td>...</td>\n",
       "      <td>1.0</td>\n",
       "      <td>Yes</td>\n",
       "      <td>Black</td>\n",
       "      <td>Metallic</td>\n",
       "      <td>Cloth</td>\n",
       "      <td>Black</td>\n",
       "      <td>4.6</td>\n",
       "      <td>3.8</td>\n",
       "      <td>4.1</td>\n",
       "      <td>16200.0</td>\n",
       "    </tr>\n",
       "  </tbody>\n",
       "</table>\n",
       "<p>5 rows × 35 columns</p>\n",
       "</div>"
      ],
      "text/plain": [
       "   Unnamed: 0  Price   hp  Type  Warranty Brand Model  Age  Nr_of_Doors  \\\n",
       "0           0  15770   66  Used      12.0  Audi    A1  3.0          5.0   \n",
       "1           1  14500  141  Used      12.0  Audi    A1  2.0          3.0   \n",
       "2           2  14640   85  Used      12.0  Audi    A1  3.0          4.0   \n",
       "3           3  14500   66  Used      12.0  Audi    A1  3.0          3.0   \n",
       "4           4  16790   66  Used      12.0  Audi    A1  3.0          5.0   \n",
       "\n",
       "   Number_of_Seats  ... Prev_Owner  Inspection_New  Body_Color Paint_Type  \\\n",
       "0              5.0  ...        2.0             Yes       Black   Metallic   \n",
       "1              4.0  ...        1.0              No         Red   Metallic   \n",
       "2              4.0  ...        1.0              No       Black   Metallic   \n",
       "3              4.0  ...        1.0              No       Brown   Metallic   \n",
       "4              5.0  ...        1.0             Yes       Black   Metallic   \n",
       "\n",
       "  Uphol_Material  Uphol_Colors Country_Cons City_Cons Comb_Cons   New_KM  \n",
       "0          Cloth         Black          4.3       3.5       3.8  56013.0  \n",
       "1          Cloth          Grey          7.1       4.7       5.6  80000.0  \n",
       "2          Cloth         Black          4.4       3.4       3.8  83450.0  \n",
       "3          Cloth          Grey          4.3       3.5       3.8  73000.0  \n",
       "4          Cloth         Black          4.6       3.8       4.1  16200.0  \n",
       "\n",
       "[5 rows x 35 columns]"
      ]
     },
     "execution_count": 4,
     "metadata": {},
     "output_type": "execute_result"
    }
   ],
   "source": [
    "df=pd.read_csv('part_2_scout_not_dummy.csv')\n",
    "df.head()"
   ]
  },
  {
   "cell_type": "code",
   "execution_count": 5,
   "id": "b7407a34",
   "metadata": {},
   "outputs": [],
   "source": [
    "df.drop('Unnamed: 0', axis=1, inplace=True)"
   ]
  },
  {
   "cell_type": "markdown",
   "id": "bf7dcd88",
   "metadata": {},
   "source": [
    "## FUNCTIONS"
   ]
  },
  {
   "cell_type": "code",
   "execution_count": 6,
   "id": "9f3433bd",
   "metadata": {},
   "outputs": [],
   "source": [
    "def check_col(df,check_col):\n",
    "    print(check_col,\", Sumation of isnull :\",df[check_col].isnull().sum())\n",
    "    print(\"-----------------\")\n",
    "    print( \"Samples for\",check_col, \"\\n\", df[check_col].sample(10))\n",
    "    print(\"-----------------\")\n",
    "    print(check_col, \"Value_counts is\", \"\\n\",df[check_col].value_counts(dropna=False))"
   ]
  },
  {
   "cell_type": "code",
   "execution_count": 7,
   "id": "f0d00f4a",
   "metadata": {},
   "outputs": [],
   "source": [
    "def remove_outlier_IQR(df):\n",
    "    Q1=df.quantile(0.25)\n",
    "    Q3=df.quantile(0.75)\n",
    "    IQR=Q3-Q1\n",
    "    df_final=df[~((df<(Q1-1.5*IQR)) | (df>(Q3+1.5*IQR)))]\n",
    "    return df_final"
   ]
  },
  {
   "cell_type": "code",
   "execution_count": 8,
   "id": "c9fd4014",
   "metadata": {},
   "outputs": [],
   "source": [
    "def fill_most(df, group_col, col_name):\n",
    "    '''Fills the missing values with the most existing value (mode) in the relevant column according to single-stage grouping'''\n",
    "    for group in list(df[group_col].unique()):\n",
    "        cond = df[group_col]==group\n",
    "        grp_inx = list(df[cond][col_name].index)\n",
    "        mode = list(df[cond][col_name].mode())\n",
    "        if mode != []:\n",
    "            df[col_name].iloc[grp_inx] = df[col_name].iloc[grp_inx].fillna(df[cond][col_name].mode()[0])\n",
    "        else:\n",
    "            df[col_name].iloc[grp_inx] = df[col_name].iloc[grp_inx].fillna(df[col_name].mode()[0])\n",
    "    print(\"Number of NaN : \",df[col_name].isnull().sum())\n",
    "    print(\"------------------\")\n",
    "    print(df[col_name].value_counts(dropna=False))"
   ]
  },
  {
   "cell_type": "code",
   "execution_count": 9,
   "id": "0c0b6d21",
   "metadata": {},
   "outputs": [],
   "source": [
    "def fill_prop(df, group_col, col_name):\n",
    "    '''Fills the missing values with \"ffill and bfill method\" according to single-stage grouping'''\n",
    "    for group in list(df[group_col].unique()):\n",
    "        cond = df[group_col]==group\n",
    "        grp_inx = list(df[cond][col_name].index)\n",
    "        df.loc[cond, col_name] = df.loc[cond, col_name].fillna(method=\"ffill\").fillna(method=\"bfill\")\n",
    "    df[col_name] = df[col_name].fillna(method=\"ffill\").fillna(method=\"bfill\")\n",
    "    print(\"Number of NaN : \",df[col_name].isnull().sum())\n",
    "    print(\"------------------\")\n",
    "    print(df[col_name].value_counts(dropna=False))"
   ]
  },
  {
   "cell_type": "code",
   "execution_count": 10,
   "id": "eba3a537",
   "metadata": {},
   "outputs": [],
   "source": [
    "def fill(df, group_col1, group_col2, col_name, method): # method can be \"mode\" or \"median\" or \"ffill\"\n",
    "    '''Fills the missing values based on selected method (mode/median/ffill) according to two-stage grouping'''\n",
    "    if method == \"mode\":\n",
    "        for group1 in list(df[group_col1].unique()):\n",
    "            for group2 in list(df[group_col2].unique()):\n",
    "                cond1 = df[group_col1]==group1\n",
    "                cond2 = (df[group_col1]==group1) & (df[group_col2]==group2)\n",
    "                grp_inx = list(df[cond2][col_name].index)\n",
    "                mode1 = list(df[cond1][col_name].mode())\n",
    "                mode2 = list(df[cond2][col_name].mode())\n",
    "                if (mode1 != []) and (mode2 != []):\n",
    "                    df[col_name].iloc[grp_inx] = df[col_name].iloc[grp_inx].fillna(df[cond2][col_name].mode()[0]).fillna(df[cond1][col_name].mode()[0])\n",
    "                elif mode1 != []:\n",
    "                    df[col_name].iloc[grp_inx] = df[col_name].iloc[grp_inx].fillna(df[cond1][col_name].mode()[0])\n",
    "                else:\n",
    "                    df[col_name].iloc[grp_inx] = df[col_name].iloc[grp_inx].fillna(df[col_name].mode()[0])\n",
    "                \n",
    "    elif method == \"median\":\n",
    "        for group1 in list(df[group_col1].unique()):\n",
    "            for group2 in list(df[group_col2].unique()):\n",
    "                cond1 = df[group_col1]==group1\n",
    "                cond2 = (df[group_col1]==group1) & (df[group_col2]==group2)\n",
    "                grp_inx = list(df[cond2][col_name].index)\n",
    "                df[col_name].iloc[grp_inx] = df[col_name].iloc[grp_inx].fillna(df[cond2][col_name].median()).fillna(df[cond1][col_name].median()).fillna(df[col_name].median())\n",
    "                \n",
    "    elif method == \"ffill\":           \n",
    "        for group1 in list(df[group_col1].unique()):\n",
    "            for group2 in list(df[group_col2].unique()):\n",
    "                cond1 = df[group_col1]==group1\n",
    "                cond2 = (df[group_col1]==group1) & (df[group_col2]==group2)\n",
    "                grp_inx = list(df[cond2][col_name].index)\n",
    "                df.loc[cond2, col_name] = df.loc[cond2, col_name].fillna(method=\"ffill\").fillna(method=\"bfill\")\n",
    "                \n",
    "        for group1 in list(df[group_col1].unique()):\n",
    "            cond1 = df[group_col1]==group1\n",
    "            df.loc[cond1, col_name] = df.loc[cond1, col_name].fillna(method=\"ffill\").fillna(method=\"bfill\")            \n",
    "           \n",
    "        df[col_name] = df[col_name].fillna(method=\"ffill\").fillna(method=\"bfill\")\n",
    "    \n",
    "    print(\"Number of NaN : \",df[col_name].isnull().sum())\n",
    "    print(\"------------------\")\n",
    "    print(df[col_name].value_counts(dropna=False))"
   ]
  },
  {
   "cell_type": "code",
   "execution_count": 11,
   "id": "5274f2ef",
   "metadata": {
    "scrolled": true
   },
   "outputs": [
    {
     "data": {
      "text/html": [
       "<div>\n",
       "<style scoped>\n",
       "    .dataframe tbody tr th:only-of-type {\n",
       "        vertical-align: middle;\n",
       "    }\n",
       "\n",
       "    .dataframe tbody tr th {\n",
       "        vertical-align: top;\n",
       "    }\n",
       "\n",
       "    .dataframe thead th {\n",
       "        text-align: right;\n",
       "    }\n",
       "</style>\n",
       "<table border=\"1\" class=\"dataframe\">\n",
       "  <thead>\n",
       "    <tr style=\"text-align: right;\">\n",
       "      <th></th>\n",
       "      <th>0</th>\n",
       "      <th>1</th>\n",
       "      <th>2</th>\n",
       "      <th>3</th>\n",
       "      <th>4</th>\n",
       "    </tr>\n",
       "  </thead>\n",
       "  <tbody>\n",
       "    <tr>\n",
       "      <th>Price</th>\n",
       "      <td>15770</td>\n",
       "      <td>14500</td>\n",
       "      <td>14640</td>\n",
       "      <td>14500</td>\n",
       "      <td>16790</td>\n",
       "    </tr>\n",
       "    <tr>\n",
       "      <th>hp</th>\n",
       "      <td>66</td>\n",
       "      <td>141</td>\n",
       "      <td>85</td>\n",
       "      <td>66</td>\n",
       "      <td>66</td>\n",
       "    </tr>\n",
       "    <tr>\n",
       "      <th>Type</th>\n",
       "      <td>Used</td>\n",
       "      <td>Used</td>\n",
       "      <td>Used</td>\n",
       "      <td>Used</td>\n",
       "      <td>Used</td>\n",
       "    </tr>\n",
       "    <tr>\n",
       "      <th>Warranty</th>\n",
       "      <td>12.0</td>\n",
       "      <td>12.0</td>\n",
       "      <td>12.0</td>\n",
       "      <td>12.0</td>\n",
       "      <td>12.0</td>\n",
       "    </tr>\n",
       "    <tr>\n",
       "      <th>Brand</th>\n",
       "      <td>Audi</td>\n",
       "      <td>Audi</td>\n",
       "      <td>Audi</td>\n",
       "      <td>Audi</td>\n",
       "      <td>Audi</td>\n",
       "    </tr>\n",
       "    <tr>\n",
       "      <th>Model</th>\n",
       "      <td>A1</td>\n",
       "      <td>A1</td>\n",
       "      <td>A1</td>\n",
       "      <td>A1</td>\n",
       "      <td>A1</td>\n",
       "    </tr>\n",
       "    <tr>\n",
       "      <th>Age</th>\n",
       "      <td>3.0</td>\n",
       "      <td>2.0</td>\n",
       "      <td>3.0</td>\n",
       "      <td>3.0</td>\n",
       "      <td>3.0</td>\n",
       "    </tr>\n",
       "    <tr>\n",
       "      <th>Nr_of_Doors</th>\n",
       "      <td>5.0</td>\n",
       "      <td>3.0</td>\n",
       "      <td>4.0</td>\n",
       "      <td>3.0</td>\n",
       "      <td>5.0</td>\n",
       "    </tr>\n",
       "    <tr>\n",
       "      <th>Number_of_Seats</th>\n",
       "      <td>5.0</td>\n",
       "      <td>4.0</td>\n",
       "      <td>4.0</td>\n",
       "      <td>4.0</td>\n",
       "      <td>5.0</td>\n",
       "    </tr>\n",
       "    <tr>\n",
       "      <th>Gearing_Type</th>\n",
       "      <td>Automatic</td>\n",
       "      <td>Automatic</td>\n",
       "      <td>Automatic</td>\n",
       "      <td>Automatic</td>\n",
       "      <td>Automatic</td>\n",
       "    </tr>\n",
       "    <tr>\n",
       "      <th>Engine_Disp_cc</th>\n",
       "      <td>1422.0</td>\n",
       "      <td>1798.0</td>\n",
       "      <td>1598.0</td>\n",
       "      <td>1422.0</td>\n",
       "      <td>1422.0</td>\n",
       "    </tr>\n",
       "    <tr>\n",
       "      <th>Cylinders</th>\n",
       "      <td>3.0</td>\n",
       "      <td>4.0</td>\n",
       "      <td>3.0</td>\n",
       "      <td>3.0</td>\n",
       "      <td>3.0</td>\n",
       "    </tr>\n",
       "    <tr>\n",
       "      <th>Drive_chain</th>\n",
       "      <td>front</td>\n",
       "      <td>front</td>\n",
       "      <td>front</td>\n",
       "      <td>front</td>\n",
       "      <td>front</td>\n",
       "    </tr>\n",
       "    <tr>\n",
       "      <th>Fuel</th>\n",
       "      <td>Diesel</td>\n",
       "      <td>Benzine</td>\n",
       "      <td>Diesel</td>\n",
       "      <td>Diesel</td>\n",
       "      <td>Diesel</td>\n",
       "    </tr>\n",
       "    <tr>\n",
       "      <th>CO2_Emission</th>\n",
       "      <td>99.0</td>\n",
       "      <td>129.0</td>\n",
       "      <td>99.0</td>\n",
       "      <td>99.0</td>\n",
       "      <td>109.0</td>\n",
       "    </tr>\n",
       "    <tr>\n",
       "      <th>Emission_Class</th>\n",
       "      <td>Euro 6</td>\n",
       "      <td>Euro 6</td>\n",
       "      <td>Euro 6</td>\n",
       "      <td>Euro 6</td>\n",
       "      <td>Euro 6</td>\n",
       "    </tr>\n",
       "    <tr>\n",
       "      <th>Comfort_Convenience</th>\n",
       "      <td>Air conditioning,Armrest,Automatic climate con...</td>\n",
       "      <td>Air conditioning,Automatic climate control,Hil...</td>\n",
       "      <td>Air conditioning,Cruise control,Electrical sid...</td>\n",
       "      <td>Air suspension,Armrest,Auxiliary heating,Elect...</td>\n",
       "      <td>Air conditioning,Armrest,Automatic climate con...</td>\n",
       "    </tr>\n",
       "    <tr>\n",
       "      <th>Entertainment_Media</th>\n",
       "      <td>['Bluetooth', 'Hands-free equipment', 'On-boar...</td>\n",
       "      <td>['Bluetooth', 'Hands-free equipment', 'On-boar...</td>\n",
       "      <td>['MP3', 'On-board computer']</td>\n",
       "      <td>['Bluetooth', 'CD player', 'Hands-free equipme...</td>\n",
       "      <td>['Bluetooth', 'CD player', 'Hands-free equipme...</td>\n",
       "    </tr>\n",
       "    <tr>\n",
       "      <th>Extras</th>\n",
       "      <td>Alloy wheels,Catalytic Converter,Voice Control</td>\n",
       "      <td>Alloy wheels,Sport seats,Sport suspension,Voic...</td>\n",
       "      <td>Alloy wheels,Voice Control</td>\n",
       "      <td>Alloy wheels,Sport seats,Voice Control</td>\n",
       "      <td>Alloy wheels,Sport package,Sport suspension,Vo...</td>\n",
       "    </tr>\n",
       "    <tr>\n",
       "      <th>Safety_Security</th>\n",
       "      <td>ABS,Central door lock,Daytime running lights,D...</td>\n",
       "      <td>ABS,Central door lock,Central door lock with r...</td>\n",
       "      <td>ABS,Central door lock,Daytime running lights,D...</td>\n",
       "      <td>ABS,Alarm system,Central door lock with remote...</td>\n",
       "      <td>ABS,Central door lock,Driver-side airbag,Elect...</td>\n",
       "    </tr>\n",
       "    <tr>\n",
       "      <th>Gears</th>\n",
       "      <td>5.0</td>\n",
       "      <td>7.0</td>\n",
       "      <td>5.0</td>\n",
       "      <td>6.0</td>\n",
       "      <td>5.0</td>\n",
       "    </tr>\n",
       "    <tr>\n",
       "      <th>Body_Type</th>\n",
       "      <td>Sedan</td>\n",
       "      <td>Sedan</td>\n",
       "      <td>Sedan</td>\n",
       "      <td>Sedan</td>\n",
       "      <td>Sedan</td>\n",
       "    </tr>\n",
       "    <tr>\n",
       "      <th>VAT_Deductable</th>\n",
       "      <td>True</td>\n",
       "      <td>False</td>\n",
       "      <td>True</td>\n",
       "      <td>False</td>\n",
       "      <td>False</td>\n",
       "    </tr>\n",
       "    <tr>\n",
       "      <th>Price_Negotiable</th>\n",
       "      <td>False</td>\n",
       "      <td>True</td>\n",
       "      <td>False</td>\n",
       "      <td>False</td>\n",
       "      <td>False</td>\n",
       "    </tr>\n",
       "    <tr>\n",
       "      <th>Prev_Owner</th>\n",
       "      <td>2.0</td>\n",
       "      <td>1.0</td>\n",
       "      <td>1.0</td>\n",
       "      <td>1.0</td>\n",
       "      <td>1.0</td>\n",
       "    </tr>\n",
       "    <tr>\n",
       "      <th>Inspection_New</th>\n",
       "      <td>Yes</td>\n",
       "      <td>No</td>\n",
       "      <td>No</td>\n",
       "      <td>No</td>\n",
       "      <td>Yes</td>\n",
       "    </tr>\n",
       "    <tr>\n",
       "      <th>Body_Color</th>\n",
       "      <td>Black</td>\n",
       "      <td>Red</td>\n",
       "      <td>Black</td>\n",
       "      <td>Brown</td>\n",
       "      <td>Black</td>\n",
       "    </tr>\n",
       "    <tr>\n",
       "      <th>Paint_Type</th>\n",
       "      <td>Metallic</td>\n",
       "      <td>Metallic</td>\n",
       "      <td>Metallic</td>\n",
       "      <td>Metallic</td>\n",
       "      <td>Metallic</td>\n",
       "    </tr>\n",
       "    <tr>\n",
       "      <th>Uphol_Material</th>\n",
       "      <td>Cloth</td>\n",
       "      <td>Cloth</td>\n",
       "      <td>Cloth</td>\n",
       "      <td>Cloth</td>\n",
       "      <td>Cloth</td>\n",
       "    </tr>\n",
       "    <tr>\n",
       "      <th>Uphol_Colors</th>\n",
       "      <td>Black</td>\n",
       "      <td>Grey</td>\n",
       "      <td>Black</td>\n",
       "      <td>Grey</td>\n",
       "      <td>Black</td>\n",
       "    </tr>\n",
       "    <tr>\n",
       "      <th>Country_Cons</th>\n",
       "      <td>4.3</td>\n",
       "      <td>7.1</td>\n",
       "      <td>4.4</td>\n",
       "      <td>4.3</td>\n",
       "      <td>4.6</td>\n",
       "    </tr>\n",
       "    <tr>\n",
       "      <th>City_Cons</th>\n",
       "      <td>3.5</td>\n",
       "      <td>4.7</td>\n",
       "      <td>3.4</td>\n",
       "      <td>3.5</td>\n",
       "      <td>3.8</td>\n",
       "    </tr>\n",
       "    <tr>\n",
       "      <th>Comb_Cons</th>\n",
       "      <td>3.8</td>\n",
       "      <td>5.6</td>\n",
       "      <td>3.8</td>\n",
       "      <td>3.8</td>\n",
       "      <td>4.1</td>\n",
       "    </tr>\n",
       "    <tr>\n",
       "      <th>New_KM</th>\n",
       "      <td>56013.0</td>\n",
       "      <td>80000.0</td>\n",
       "      <td>83450.0</td>\n",
       "      <td>73000.0</td>\n",
       "      <td>16200.0</td>\n",
       "    </tr>\n",
       "  </tbody>\n",
       "</table>\n",
       "</div>"
      ],
      "text/plain": [
       "                                                                     0  \\\n",
       "Price                                                            15770   \n",
       "hp                                                                  66   \n",
       "Type                                                              Used   \n",
       "Warranty                                                          12.0   \n",
       "Brand                                                             Audi   \n",
       "Model                                                               A1   \n",
       "Age                                                                3.0   \n",
       "Nr_of_Doors                                                        5.0   \n",
       "Number_of_Seats                                                    5.0   \n",
       "Gearing_Type                                                 Automatic   \n",
       "Engine_Disp_cc                                                  1422.0   \n",
       "Cylinders                                                          3.0   \n",
       "Drive_chain                                                      front   \n",
       "Fuel                                                            Diesel   \n",
       "CO2_Emission                                                      99.0   \n",
       "Emission_Class                                                  Euro 6   \n",
       "Comfort_Convenience  Air conditioning,Armrest,Automatic climate con...   \n",
       "Entertainment_Media  ['Bluetooth', 'Hands-free equipment', 'On-boar...   \n",
       "Extras                  Alloy wheels,Catalytic Converter,Voice Control   \n",
       "Safety_Security      ABS,Central door lock,Daytime running lights,D...   \n",
       "Gears                                                              5.0   \n",
       "Body_Type                                                        Sedan   \n",
       "VAT_Deductable                                                    True   \n",
       "Price_Negotiable                                                 False   \n",
       "Prev_Owner                                                         2.0   \n",
       "Inspection_New                                                     Yes   \n",
       "Body_Color                                                       Black   \n",
       "Paint_Type                                                    Metallic   \n",
       "Uphol_Material                                                   Cloth   \n",
       "Uphol_Colors                                                     Black   \n",
       "Country_Cons                                                       4.3   \n",
       "City_Cons                                                          3.5   \n",
       "Comb_Cons                                                          3.8   \n",
       "New_KM                                                         56013.0   \n",
       "\n",
       "                                                                     1  \\\n",
       "Price                                                            14500   \n",
       "hp                                                                 141   \n",
       "Type                                                              Used   \n",
       "Warranty                                                          12.0   \n",
       "Brand                                                             Audi   \n",
       "Model                                                               A1   \n",
       "Age                                                                2.0   \n",
       "Nr_of_Doors                                                        3.0   \n",
       "Number_of_Seats                                                    4.0   \n",
       "Gearing_Type                                                 Automatic   \n",
       "Engine_Disp_cc                                                  1798.0   \n",
       "Cylinders                                                          4.0   \n",
       "Drive_chain                                                      front   \n",
       "Fuel                                                           Benzine   \n",
       "CO2_Emission                                                     129.0   \n",
       "Emission_Class                                                  Euro 6   \n",
       "Comfort_Convenience  Air conditioning,Automatic climate control,Hil...   \n",
       "Entertainment_Media  ['Bluetooth', 'Hands-free equipment', 'On-boar...   \n",
       "Extras               Alloy wheels,Sport seats,Sport suspension,Voic...   \n",
       "Safety_Security      ABS,Central door lock,Central door lock with r...   \n",
       "Gears                                                              7.0   \n",
       "Body_Type                                                        Sedan   \n",
       "VAT_Deductable                                                   False   \n",
       "Price_Negotiable                                                  True   \n",
       "Prev_Owner                                                         1.0   \n",
       "Inspection_New                                                      No   \n",
       "Body_Color                                                         Red   \n",
       "Paint_Type                                                    Metallic   \n",
       "Uphol_Material                                                   Cloth   \n",
       "Uphol_Colors                                                      Grey   \n",
       "Country_Cons                                                       7.1   \n",
       "City_Cons                                                          4.7   \n",
       "Comb_Cons                                                          5.6   \n",
       "New_KM                                                         80000.0   \n",
       "\n",
       "                                                                     2  \\\n",
       "Price                                                            14640   \n",
       "hp                                                                  85   \n",
       "Type                                                              Used   \n",
       "Warranty                                                          12.0   \n",
       "Brand                                                             Audi   \n",
       "Model                                                               A1   \n",
       "Age                                                                3.0   \n",
       "Nr_of_Doors                                                        4.0   \n",
       "Number_of_Seats                                                    4.0   \n",
       "Gearing_Type                                                 Automatic   \n",
       "Engine_Disp_cc                                                  1598.0   \n",
       "Cylinders                                                          3.0   \n",
       "Drive_chain                                                      front   \n",
       "Fuel                                                            Diesel   \n",
       "CO2_Emission                                                      99.0   \n",
       "Emission_Class                                                  Euro 6   \n",
       "Comfort_Convenience  Air conditioning,Cruise control,Electrical sid...   \n",
       "Entertainment_Media                       ['MP3', 'On-board computer']   \n",
       "Extras                                      Alloy wheels,Voice Control   \n",
       "Safety_Security      ABS,Central door lock,Daytime running lights,D...   \n",
       "Gears                                                              5.0   \n",
       "Body_Type                                                        Sedan   \n",
       "VAT_Deductable                                                    True   \n",
       "Price_Negotiable                                                 False   \n",
       "Prev_Owner                                                         1.0   \n",
       "Inspection_New                                                      No   \n",
       "Body_Color                                                       Black   \n",
       "Paint_Type                                                    Metallic   \n",
       "Uphol_Material                                                   Cloth   \n",
       "Uphol_Colors                                                     Black   \n",
       "Country_Cons                                                       4.4   \n",
       "City_Cons                                                          3.4   \n",
       "Comb_Cons                                                          3.8   \n",
       "New_KM                                                         83450.0   \n",
       "\n",
       "                                                                     3  \\\n",
       "Price                                                            14500   \n",
       "hp                                                                  66   \n",
       "Type                                                              Used   \n",
       "Warranty                                                          12.0   \n",
       "Brand                                                             Audi   \n",
       "Model                                                               A1   \n",
       "Age                                                                3.0   \n",
       "Nr_of_Doors                                                        3.0   \n",
       "Number_of_Seats                                                    4.0   \n",
       "Gearing_Type                                                 Automatic   \n",
       "Engine_Disp_cc                                                  1422.0   \n",
       "Cylinders                                                          3.0   \n",
       "Drive_chain                                                      front   \n",
       "Fuel                                                            Diesel   \n",
       "CO2_Emission                                                      99.0   \n",
       "Emission_Class                                                  Euro 6   \n",
       "Comfort_Convenience  Air suspension,Armrest,Auxiliary heating,Elect...   \n",
       "Entertainment_Media  ['Bluetooth', 'CD player', 'Hands-free equipme...   \n",
       "Extras                          Alloy wheels,Sport seats,Voice Control   \n",
       "Safety_Security      ABS,Alarm system,Central door lock with remote...   \n",
       "Gears                                                              6.0   \n",
       "Body_Type                                                        Sedan   \n",
       "VAT_Deductable                                                   False   \n",
       "Price_Negotiable                                                 False   \n",
       "Prev_Owner                                                         1.0   \n",
       "Inspection_New                                                      No   \n",
       "Body_Color                                                       Brown   \n",
       "Paint_Type                                                    Metallic   \n",
       "Uphol_Material                                                   Cloth   \n",
       "Uphol_Colors                                                      Grey   \n",
       "Country_Cons                                                       4.3   \n",
       "City_Cons                                                          3.5   \n",
       "Comb_Cons                                                          3.8   \n",
       "New_KM                                                         73000.0   \n",
       "\n",
       "                                                                     4  \n",
       "Price                                                            16790  \n",
       "hp                                                                  66  \n",
       "Type                                                              Used  \n",
       "Warranty                                                          12.0  \n",
       "Brand                                                             Audi  \n",
       "Model                                                               A1  \n",
       "Age                                                                3.0  \n",
       "Nr_of_Doors                                                        5.0  \n",
       "Number_of_Seats                                                    5.0  \n",
       "Gearing_Type                                                 Automatic  \n",
       "Engine_Disp_cc                                                  1422.0  \n",
       "Cylinders                                                          3.0  \n",
       "Drive_chain                                                      front  \n",
       "Fuel                                                            Diesel  \n",
       "CO2_Emission                                                     109.0  \n",
       "Emission_Class                                                  Euro 6  \n",
       "Comfort_Convenience  Air conditioning,Armrest,Automatic climate con...  \n",
       "Entertainment_Media  ['Bluetooth', 'CD player', 'Hands-free equipme...  \n",
       "Extras               Alloy wheels,Sport package,Sport suspension,Vo...  \n",
       "Safety_Security      ABS,Central door lock,Driver-side airbag,Elect...  \n",
       "Gears                                                              5.0  \n",
       "Body_Type                                                        Sedan  \n",
       "VAT_Deductable                                                   False  \n",
       "Price_Negotiable                                                 False  \n",
       "Prev_Owner                                                         1.0  \n",
       "Inspection_New                                                     Yes  \n",
       "Body_Color                                                       Black  \n",
       "Paint_Type                                                    Metallic  \n",
       "Uphol_Material                                                   Cloth  \n",
       "Uphol_Colors                                                     Black  \n",
       "Country_Cons                                                       4.6  \n",
       "City_Cons                                                          3.8  \n",
       "Comb_Cons                                                          4.1  \n",
       "New_KM                                                         16200.0  "
      ]
     },
     "execution_count": 11,
     "metadata": {},
     "output_type": "execute_result"
    }
   ],
   "source": [
    "df.head(5).T"
   ]
  },
  {
   "cell_type": "code",
   "execution_count": 12,
   "id": "50625e31",
   "metadata": {},
   "outputs": [
    {
     "data": {
      "text/plain": [
       "(15919, 34)"
      ]
     },
     "execution_count": 12,
     "metadata": {},
     "output_type": "execute_result"
    }
   ],
   "source": [
    "df.shape"
   ]
  },
  {
   "cell_type": "code",
   "execution_count": 13,
   "id": "47625b49",
   "metadata": {
    "scrolled": false
   },
   "outputs": [
    {
     "data": {
      "text/plain": [
       "['Price',\n",
       " 'hp',\n",
       " 'Type',\n",
       " 'Warranty',\n",
       " 'Brand',\n",
       " 'Model',\n",
       " 'Age',\n",
       " 'Nr_of_Doors',\n",
       " 'Number_of_Seats',\n",
       " 'Gearing_Type',\n",
       " 'Engine_Disp_cc',\n",
       " 'Cylinders',\n",
       " 'Drive_chain',\n",
       " 'Fuel',\n",
       " 'CO2_Emission',\n",
       " 'Emission_Class',\n",
       " 'Comfort_Convenience',\n",
       " 'Entertainment_Media',\n",
       " 'Extras',\n",
       " 'Safety_Security',\n",
       " 'Gears',\n",
       " 'Body_Type',\n",
       " 'VAT_Deductable',\n",
       " 'Price_Negotiable',\n",
       " 'Prev_Owner',\n",
       " 'Inspection_New',\n",
       " 'Body_Color',\n",
       " 'Paint_Type',\n",
       " 'Uphol_Material',\n",
       " 'Uphol_Colors',\n",
       " 'Country_Cons',\n",
       " 'City_Cons',\n",
       " 'Comb_Cons',\n",
       " 'New_KM']"
      ]
     },
     "execution_count": 13,
     "metadata": {},
     "output_type": "execute_result"
    }
   ],
   "source": [
    "list(df.columns)"
   ]
  },
  {
   "cell_type": "code",
   "execution_count": 14,
   "id": "6415efda",
   "metadata": {},
   "outputs": [
    {
     "data": {
      "text/html": [
       "<div>\n",
       "<style scoped>\n",
       "    .dataframe tbody tr th:only-of-type {\n",
       "        vertical-align: middle;\n",
       "    }\n",
       "\n",
       "    .dataframe tbody tr th {\n",
       "        vertical-align: top;\n",
       "    }\n",
       "\n",
       "    .dataframe thead th {\n",
       "        text-align: right;\n",
       "    }\n",
       "</style>\n",
       "<table border=\"1\" class=\"dataframe\">\n",
       "  <thead>\n",
       "    <tr style=\"text-align: right;\">\n",
       "      <th></th>\n",
       "      <th>count</th>\n",
       "      <th>mean</th>\n",
       "      <th>std</th>\n",
       "      <th>min</th>\n",
       "      <th>25%</th>\n",
       "      <th>50%</th>\n",
       "      <th>75%</th>\n",
       "      <th>max</th>\n",
       "    </tr>\n",
       "  </thead>\n",
       "  <tbody>\n",
       "    <tr>\n",
       "      <th>Price</th>\n",
       "      <td>15919.0</td>\n",
       "      <td>18019.896727</td>\n",
       "      <td>7386.169409</td>\n",
       "      <td>13.0</td>\n",
       "      <td>12850.0</td>\n",
       "      <td>16900.0</td>\n",
       "      <td>21900.0</td>\n",
       "      <td>74600.0</td>\n",
       "    </tr>\n",
       "    <tr>\n",
       "      <th>hp</th>\n",
       "      <td>15919.0</td>\n",
       "      <td>88.416107</td>\n",
       "      <td>26.877475</td>\n",
       "      <td>1.0</td>\n",
       "      <td>66.0</td>\n",
       "      <td>85.0</td>\n",
       "      <td>101.0</td>\n",
       "      <td>294.0</td>\n",
       "    </tr>\n",
       "    <tr>\n",
       "      <th>Warranty</th>\n",
       "      <td>15919.0</td>\n",
       "      <td>15.050757</td>\n",
       "      <td>9.855008</td>\n",
       "      <td>1.0</td>\n",
       "      <td>12.0</td>\n",
       "      <td>12.0</td>\n",
       "      <td>12.0</td>\n",
       "      <td>72.0</td>\n",
       "    </tr>\n",
       "    <tr>\n",
       "      <th>Age</th>\n",
       "      <td>15919.0</td>\n",
       "      <td>1.417614</td>\n",
       "      <td>1.104472</td>\n",
       "      <td>0.0</td>\n",
       "      <td>0.0</td>\n",
       "      <td>1.0</td>\n",
       "      <td>2.0</td>\n",
       "      <td>3.0</td>\n",
       "    </tr>\n",
       "    <tr>\n",
       "      <th>Nr_of_Doors</th>\n",
       "      <td>15919.0</td>\n",
       "      <td>4.660783</td>\n",
       "      <td>0.641285</td>\n",
       "      <td>2.0</td>\n",
       "      <td>4.0</td>\n",
       "      <td>5.0</td>\n",
       "      <td>5.0</td>\n",
       "      <td>5.0</td>\n",
       "    </tr>\n",
       "    <tr>\n",
       "      <th>Number_of_Seats</th>\n",
       "      <td>15919.0</td>\n",
       "      <td>4.951379</td>\n",
       "      <td>0.500557</td>\n",
       "      <td>2.0</td>\n",
       "      <td>5.0</td>\n",
       "      <td>5.0</td>\n",
       "      <td>5.0</td>\n",
       "      <td>7.0</td>\n",
       "    </tr>\n",
       "    <tr>\n",
       "      <th>Engine_Disp_cc</th>\n",
       "      <td>15919.0</td>\n",
       "      <td>1426.172561</td>\n",
       "      <td>329.676109</td>\n",
       "      <td>1.0</td>\n",
       "      <td>1229.0</td>\n",
       "      <td>1461.0</td>\n",
       "      <td>1598.0</td>\n",
       "      <td>16000.0</td>\n",
       "    </tr>\n",
       "    <tr>\n",
       "      <th>Cylinders</th>\n",
       "      <td>15919.0</td>\n",
       "      <td>3.792701</td>\n",
       "      <td>0.418800</td>\n",
       "      <td>1.0</td>\n",
       "      <td>4.0</td>\n",
       "      <td>4.0</td>\n",
       "      <td>4.0</td>\n",
       "      <td>8.0</td>\n",
       "    </tr>\n",
       "    <tr>\n",
       "      <th>CO2_Emission</th>\n",
       "      <td>15919.0</td>\n",
       "      <td>109.659724</td>\n",
       "      <td>35.742491</td>\n",
       "      <td>0.0</td>\n",
       "      <td>103.0</td>\n",
       "      <td>115.0</td>\n",
       "      <td>128.0</td>\n",
       "      <td>990.0</td>\n",
       "    </tr>\n",
       "    <tr>\n",
       "      <th>Gears</th>\n",
       "      <td>15919.0</td>\n",
       "      <td>5.813493</td>\n",
       "      <td>0.780433</td>\n",
       "      <td>1.0</td>\n",
       "      <td>5.0</td>\n",
       "      <td>6.0</td>\n",
       "      <td>6.0</td>\n",
       "      <td>50.0</td>\n",
       "    </tr>\n",
       "    <tr>\n",
       "      <th>Prev_Owner</th>\n",
       "      <td>15919.0</td>\n",
       "      <td>1.055594</td>\n",
       "      <td>0.235364</td>\n",
       "      <td>1.0</td>\n",
       "      <td>1.0</td>\n",
       "      <td>1.0</td>\n",
       "      <td>1.0</td>\n",
       "      <td>4.0</td>\n",
       "    </tr>\n",
       "    <tr>\n",
       "      <th>Country_Cons</th>\n",
       "      <td>15919.0</td>\n",
       "      <td>5.679710</td>\n",
       "      <td>1.407674</td>\n",
       "      <td>0.0</td>\n",
       "      <td>4.5</td>\n",
       "      <td>5.6</td>\n",
       "      <td>6.8</td>\n",
       "      <td>9.9</td>\n",
       "    </tr>\n",
       "    <tr>\n",
       "      <th>City_Cons</th>\n",
       "      <td>15919.0</td>\n",
       "      <td>4.181444</td>\n",
       "      <td>0.694567</td>\n",
       "      <td>0.0</td>\n",
       "      <td>3.7</td>\n",
       "      <td>4.2</td>\n",
       "      <td>4.5</td>\n",
       "      <td>8.6</td>\n",
       "    </tr>\n",
       "    <tr>\n",
       "      <th>Comb_Cons</th>\n",
       "      <td>15919.0</td>\n",
       "      <td>4.810032</td>\n",
       "      <td>0.914701</td>\n",
       "      <td>0.0</td>\n",
       "      <td>4.0</td>\n",
       "      <td>4.8</td>\n",
       "      <td>5.4</td>\n",
       "      <td>9.1</td>\n",
       "    </tr>\n",
       "    <tr>\n",
       "      <th>New_KM</th>\n",
       "      <td>15919.0</td>\n",
       "      <td>32329.414691</td>\n",
       "      <td>36881.261861</td>\n",
       "      <td>0.0</td>\n",
       "      <td>3000.0</td>\n",
       "      <td>20550.0</td>\n",
       "      <td>47000.0</td>\n",
       "      <td>317000.0</td>\n",
       "    </tr>\n",
       "  </tbody>\n",
       "</table>\n",
       "</div>"
      ],
      "text/plain": [
       "                   count          mean           std   min      25%      50%  \\\n",
       "Price            15919.0  18019.896727   7386.169409  13.0  12850.0  16900.0   \n",
       "hp               15919.0     88.416107     26.877475   1.0     66.0     85.0   \n",
       "Warranty         15919.0     15.050757      9.855008   1.0     12.0     12.0   \n",
       "Age              15919.0      1.417614      1.104472   0.0      0.0      1.0   \n",
       "Nr_of_Doors      15919.0      4.660783      0.641285   2.0      4.0      5.0   \n",
       "Number_of_Seats  15919.0      4.951379      0.500557   2.0      5.0      5.0   \n",
       "Engine_Disp_cc   15919.0   1426.172561    329.676109   1.0   1229.0   1461.0   \n",
       "Cylinders        15919.0      3.792701      0.418800   1.0      4.0      4.0   \n",
       "CO2_Emission     15919.0    109.659724     35.742491   0.0    103.0    115.0   \n",
       "Gears            15919.0      5.813493      0.780433   1.0      5.0      6.0   \n",
       "Prev_Owner       15919.0      1.055594      0.235364   1.0      1.0      1.0   \n",
       "Country_Cons     15919.0      5.679710      1.407674   0.0      4.5      5.6   \n",
       "City_Cons        15919.0      4.181444      0.694567   0.0      3.7      4.2   \n",
       "Comb_Cons        15919.0      4.810032      0.914701   0.0      4.0      4.8   \n",
       "New_KM           15919.0  32329.414691  36881.261861   0.0   3000.0  20550.0   \n",
       "\n",
       "                     75%       max  \n",
       "Price            21900.0   74600.0  \n",
       "hp                 101.0     294.0  \n",
       "Warranty            12.0      72.0  \n",
       "Age                  2.0       3.0  \n",
       "Nr_of_Doors          5.0       5.0  \n",
       "Number_of_Seats      5.0       7.0  \n",
       "Engine_Disp_cc    1598.0   16000.0  \n",
       "Cylinders            4.0       8.0  \n",
       "CO2_Emission       128.0     990.0  \n",
       "Gears                6.0      50.0  \n",
       "Prev_Owner           1.0       4.0  \n",
       "Country_Cons         6.8       9.9  \n",
       "City_Cons            4.5       8.6  \n",
       "Comb_Cons            5.4       9.1  \n",
       "New_KM           47000.0  317000.0  "
      ]
     },
     "execution_count": 14,
     "metadata": {},
     "output_type": "execute_result"
    }
   ],
   "source": [
    "df.describe().T"
   ]
  },
  {
   "cell_type": "code",
   "execution_count": 15,
   "id": "9f14f7fc",
   "metadata": {},
   "outputs": [],
   "source": [
    "#category=['Type','Brand','Model','Gearing_Type','Drive_chain','Fuel','Emission_Class','Comfort_Convenience','Entertainment_Media','Extras',\n",
    "         #'Safety_Security','Body_Type','Inspection_New','Body_Color','Paint_Type','Uphol_Material','Uphol_Colors']"
   ]
  },
  {
   "cell_type": "markdown",
   "id": "57295090",
   "metadata": {},
   "source": [
    "## 📌Price"
   ]
  },
  {
   "cell_type": "code",
   "execution_count": 16,
   "id": "763b5d46",
   "metadata": {},
   "outputs": [
    {
     "data": {
      "text/plain": [
       "14990    154\n",
       "15990    151\n",
       "10990    139\n",
       "15900    106\n",
       "17990    102\n",
       "        ... \n",
       "31940      1\n",
       "15540      1\n",
       "21649      1\n",
       "27790      1\n",
       "34815      1\n",
       "Name: Price, Length: 2956, dtype: int64"
      ]
     },
     "execution_count": 16,
     "metadata": {},
     "output_type": "execute_result"
    }
   ],
   "source": [
    "df.Price.value_counts()"
   ]
  },
  {
   "cell_type": "code",
   "execution_count": 17,
   "id": "2e3dce44",
   "metadata": {},
   "outputs": [
    {
     "data": {
      "text/plain": [
       "count    15919.000000\n",
       "mean     18019.896727\n",
       "std       7386.169409\n",
       "min         13.000000\n",
       "25%      12850.000000\n",
       "50%      16900.000000\n",
       "75%      21900.000000\n",
       "max      74600.000000\n",
       "Name: Price, dtype: float64"
      ]
     },
     "execution_count": 17,
     "metadata": {},
     "output_type": "execute_result"
    }
   ],
   "source": [
    "df.Price.describe().T"
   ]
  },
  {
   "cell_type": "code",
   "execution_count": 18,
   "id": "64416434",
   "metadata": {
    "scrolled": false
   },
   "outputs": [
    {
     "data": {
      "image/png": "[encoded data removed]",
      "text/plain": [
       "<Figure size 720x432 with 1 Axes>"
      ]
     },
     "metadata": {
      "needs_background": "light"
     },
     "output_type": "display_data"
    }
   ],
   "source": [
    "plt.figure(figsize=(10,6))\n",
    "plt.boxplot(df.Price)\n",
    "\n",
    "plt.show()"
   ]
  },
  {
   "cell_type": "code",
   "execution_count": 19,
   "id": "3f5accc5",
   "metadata": {},
   "outputs": [
    {
     "data": {
      "image/png": "[encoded data removed]",
      "text/plain": [
       "<Figure size 864x432 with 1 Axes>"
      ]
     },
     "metadata": {
      "needs_background": "light"
     },
     "output_type": "display_data"
    }
   ],
   "source": [
    "plt.figure(figsize=(12,6))\n",
    "plt.hist(df.Price, bins=40)\n",
    "\n",
    "plt.show()"
   ]
  },
  {
   "cell_type": "code",
   "execution_count": 20,
   "id": "e4b09772",
   "metadata": {},
   "outputs": [],
   "source": [
    "price_outliers=list(df[(df.Price < 3000) | (df.Price > 35475)].index)"
   ]
  },
  {
   "cell_type": "code",
   "execution_count": 21,
   "id": "38038902",
   "metadata": {},
   "outputs": [],
   "source": [
    "df.loc[price_outliers,'Price']= np.nan"
   ]
  },
  {
   "cell_type": "code",
   "execution_count": 22,
   "id": "b77e71c7",
   "metadata": {},
   "outputs": [
    {
     "data": {
      "text/plain": [
       "713     NaN\n",
       "732     NaN\n",
       "3587    NaN\n",
       "3589    NaN\n",
       "3590    NaN\n",
       "         ..\n",
       "15914   NaN\n",
       "15915   NaN\n",
       "15916   NaN\n",
       "15917   NaN\n",
       "15918   NaN\n",
       "Name: Price, Length: 483, dtype: float64"
      ]
     },
     "execution_count": 22,
     "metadata": {},
     "output_type": "execute_result"
    }
   ],
   "source": [
    "df.loc[price_outliers,'Price']"
   ]
  },
  {
   "cell_type": "code",
   "execution_count": 23,
   "id": "2e5084b5",
   "metadata": {},
   "outputs": [
    {
     "name": "stdout",
     "output_type": "stream",
     "text": [
      "Number of NaN :  0\n",
      "------------------\n",
      "14990.0    154\n",
      "15990.0    151\n",
      "10990.0    139\n",
      "33975.0    125\n",
      "15900.0    106\n",
      "          ... \n",
      "8440.0       1\n",
      "13895.0      1\n",
      "9965.0       1\n",
      "13660.0      1\n",
      "13860.0      1\n",
      "Name: Price, Length: 2665, dtype: int64\n"
     ]
    }
   ],
   "source": [
    "fill(df,'Model','Age','Price','ffill')"
   ]
  },
  {
   "cell_type": "code",
   "execution_count": 24,
   "id": "6aa25e30",
   "metadata": {},
   "outputs": [
    {
     "data": {
      "image/png": "[encoded data removed]",
      "text/plain": [
       "<Figure size 864x432 with 1 Axes>"
      ]
     },
     "metadata": {
      "needs_background": "light"
     },
     "output_type": "display_data"
    }
   ],
   "source": [
    "plt.figure(figsize=(12,6))\n",
    "plt.boxplot(df.Price)\n",
    "\n",
    "plt.show()"
   ]
  },
  {
   "cell_type": "code",
   "execution_count": 25,
   "id": "d65d0c4b",
   "metadata": {},
   "outputs": [
    {
     "data": {
      "image/png": "[encoded data removed]",
      "text/plain": [
       "<Figure size 864x432 with 1 Axes>"
      ]
     },
     "metadata": {
      "needs_background": "light"
     },
     "output_type": "display_data"
    }
   ],
   "source": [
    "plt.figure(figsize=(12,6))\n",
    "plt.hist(df.Price, bins=20)\n",
    "\n",
    "plt.show()"
   ]
  },
  {
   "cell_type": "markdown",
   "id": "f6590c50",
   "metadata": {},
   "source": [
    "## 📌HP"
   ]
  },
  {
   "cell_type": "code",
   "execution_count": 26,
   "id": "d10c294c",
   "metadata": {
    "scrolled": true
   },
   "outputs": [
    {
     "name": "stdout",
     "output_type": "stream",
     "text": [
      "hp , Sumation of isnull : 0\n",
      "-----------------\n",
      "Samples for hp \n",
      " 7911      77\n",
      "5230      85\n",
      "2054      85\n",
      "8197      81\n",
      "11816    121\n",
      "9806      55\n",
      "12710    100\n",
      "290       85\n",
      "6177      81\n",
      "5091      85\n",
      "Name: hp, dtype: int64\n",
      "-----------------\n",
      "hp Value_counts is \n",
      " 85     2544\n",
      "66     2130\n",
      "81     1402\n",
      "100    1309\n",
      "110    1114\n",
      "       ... \n",
      "4         1\n",
      "44        1\n",
      "84        1\n",
      "132       1\n",
      "239       1\n",
      "Name: hp, Length: 80, dtype: int64\n"
     ]
    }
   ],
   "source": [
    "check_col(df,'hp')"
   ]
  },
  {
   "cell_type": "code",
   "execution_count": 27,
   "id": "e913e114",
   "metadata": {},
   "outputs": [
    {
     "data": {
      "text/plain": [
       "count    15919.000000\n",
       "mean        88.416107\n",
       "std         26.877475\n",
       "min          1.000000\n",
       "25%         66.000000\n",
       "50%         85.000000\n",
       "75%        101.000000\n",
       "max        294.000000\n",
       "Name: hp, dtype: float64"
      ]
     },
     "execution_count": 27,
     "metadata": {},
     "output_type": "execute_result"
    }
   ],
   "source": [
    "df.hp.describe()"
   ]
  },
  {
   "cell_type": "code",
   "execution_count": 28,
   "id": "f53121a9",
   "metadata": {
    "scrolled": false
   },
   "outputs": [
    {
     "data": {
      "image/png": "[encoded data removed]",
      "text/plain": [
       "<Figure size 864x432 with 1 Axes>"
      ]
     },
     "metadata": {
      "needs_background": "light"
     },
     "output_type": "display_data"
    }
   ],
   "source": [
    "plt.figure(figsize=(12,6))\n",
    "plt.boxplot(df.hp)\n",
    "\n",
    "plt.show()"
   ]
  },
  {
   "cell_type": "markdown",
   "id": "cb94dbd7",
   "metadata": {},
   "source": [
    "📍IQR = 2,5 olarak aldik."
   ]
  },
  {
   "cell_type": "code",
   "execution_count": 29,
   "id": "bc4c29a0",
   "metadata": {},
   "outputs": [],
   "source": [
    "hp_anomali=list(df[df.hp < 44].index)"
   ]
  },
  {
   "cell_type": "code",
   "execution_count": 30,
   "id": "fe0fb878",
   "metadata": {},
   "outputs": [],
   "source": [
    "df.loc[hp_anomali,'hp']= np.nan"
   ]
  },
  {
   "cell_type": "code",
   "execution_count": 31,
   "id": "a97ebbeb",
   "metadata": {},
   "outputs": [
    {
     "data": {
      "text/plain": [
       "3913    NaN\n",
       "6005    NaN\n",
       "6034    NaN\n",
       "6946    NaN\n",
       "7014    NaN\n",
       "7016    NaN\n",
       "7018    NaN\n",
       "7019    NaN\n",
       "8857    NaN\n",
       "9285    NaN\n",
       "9287    NaN\n",
       "9288    NaN\n",
       "9289    NaN\n",
       "9290    NaN\n",
       "9292    NaN\n",
       "9299    NaN\n",
       "10468   NaN\n",
       "10579   NaN\n",
       "10580   NaN\n",
       "10610   NaN\n",
       "13759   NaN\n",
       "13885   NaN\n",
       "15155   NaN\n",
       "15156   NaN\n",
       "Name: hp, dtype: float64"
      ]
     },
     "execution_count": 31,
     "metadata": {},
     "output_type": "execute_result"
    }
   ],
   "source": [
    "df.loc[hp_anomali,'hp']"
   ]
  },
  {
   "cell_type": "code",
   "execution_count": 32,
   "id": "b168a23c",
   "metadata": {},
   "outputs": [
    {
     "name": "stdout",
     "output_type": "stream",
     "text": [
      "Number of NaN :  0\n",
      "------------------\n",
      "85.0     2545\n",
      "66.0     2131\n",
      "81.0     1402\n",
      "100.0    1312\n",
      "110.0    1118\n",
      "         ... \n",
      "163.0       1\n",
      "84.0        1\n",
      "137.0       1\n",
      "123.0       1\n",
      "75.0        1\n",
      "Name: hp, Length: 76, dtype: int64\n"
     ]
    }
   ],
   "source": [
    "fill(df,'Model','Body_Type','hp','mode')"
   ]
  },
  {
   "cell_type": "code",
   "execution_count": 33,
   "id": "0fb69941",
   "metadata": {},
   "outputs": [
    {
     "data": {
      "text/plain": [
       "0"
      ]
     },
     "execution_count": 33,
     "metadata": {},
     "output_type": "execute_result"
    }
   ],
   "source": [
    "df.hp.isnull().sum()"
   ]
  },
  {
   "cell_type": "code",
   "execution_count": 34,
   "id": "fce24710",
   "metadata": {},
   "outputs": [
    {
     "data": {
      "image/png": "[encoded data removed]",
      "text/plain": [
       "<Figure size 864x432 with 1 Axes>"
      ]
     },
     "metadata": {
      "needs_background": "light"
     },
     "output_type": "display_data"
    }
   ],
   "source": [
    "plt.figure(figsize=(12,6))\n",
    "plt.boxplot(df.hp)\n",
    "\n",
    "plt.show()"
   ]
  },
  {
   "cell_type": "code",
   "execution_count": 35,
   "id": "ae187afd",
   "metadata": {},
   "outputs": [
    {
     "data": {
      "image/png": "[encoded data removed]",
      "text/plain": [
       "<Figure size 864x432 with 1 Axes>"
      ]
     },
     "metadata": {
      "needs_background": "light"
     },
     "output_type": "display_data"
    }
   ],
   "source": [
    "plt.figure(figsize=(12,6))\n",
    "plt.hist(df.hp, bins=20)\n",
    "\n",
    "plt.show()"
   ]
  },
  {
   "cell_type": "markdown",
   "id": "bd19df98",
   "metadata": {},
   "source": [
    "## 📌Type"
   ]
  },
  {
   "cell_type": "code",
   "execution_count": 36,
   "id": "40d945ee",
   "metadata": {
    "scrolled": true
   },
   "outputs": [
    {
     "name": "stdout",
     "output_type": "stream",
     "text": [
      "Type , Sumation of isnull : 0\n",
      "-----------------\n",
      "Samples for Type \n",
      " 14393              Used\n",
      "7238     Pre-registered\n",
      "3529               Used\n",
      "11386              Used\n",
      "11071              Used\n",
      "3503               Used\n",
      "831                Used\n",
      "9734     Employee's car\n",
      "14910              Used\n",
      "4818               Used\n",
      "Name: Type, dtype: object\n",
      "-----------------\n",
      "Type Value_counts is \n",
      " Used              11098\n",
      "New                1650\n",
      "Pre-registered     1364\n",
      "Employee's car     1011\n",
      "Demonstration       796\n",
      "Name: Type, dtype: int64\n"
     ]
    }
   ],
   "source": [
    "check_col(df,'Type')"
   ]
  },
  {
   "cell_type": "markdown",
   "id": "3beda836",
   "metadata": {},
   "source": [
    "## 📌 Warranty"
   ]
  },
  {
   "cell_type": "code",
   "execution_count": 37,
   "id": "79470a1b",
   "metadata": {
    "scrolled": true
   },
   "outputs": [
    {
     "name": "stdout",
     "output_type": "stream",
     "text": [
      "Warranty , Sumation of isnull : 0\n",
      "-----------------\n",
      "Samples for Warranty \n",
      " 14334    12.0\n",
      "15117    12.0\n",
      "13974    12.0\n",
      "3725     12.0\n",
      "12236    12.0\n",
      "3927     12.0\n",
      "7128     12.0\n",
      "6083      6.0\n",
      "1334     12.0\n",
      "4367     12.0\n",
      "Name: Warranty, dtype: float64\n",
      "-----------------\n",
      "Warranty Value_counts is \n",
      " 12.0    13636\n",
      "24.0     1124\n",
      "60.0      402\n",
      "36.0      289\n",
      "48.0      149\n",
      "6.0       125\n",
      "72.0       59\n",
      "3.0        33\n",
      "23.0       11\n",
      "16.0       11\n",
      "18.0       10\n",
      "20.0        7\n",
      "25.0        6\n",
      "2.0         5\n",
      "50.0        4\n",
      "26.0        4\n",
      "34.0        3\n",
      "1.0         3\n",
      "13.0        3\n",
      "4.0         3\n",
      "19.0        3\n",
      "9.0         2\n",
      "17.0        2\n",
      "14.0        2\n",
      "28.0        2\n",
      "11.0        2\n",
      "21.0        2\n",
      "45.0        2\n",
      "46.0        2\n",
      "22.0        2\n",
      "15.0        1\n",
      "33.0        1\n",
      "30.0        1\n",
      "56.0        1\n",
      "7.0         1\n",
      "8.0         1\n",
      "10.0        1\n",
      "49.0        1\n",
      "47.0        1\n",
      "40.0        1\n",
      "65.0        1\n",
      "Name: Warranty, dtype: int64\n"
     ]
    }
   ],
   "source": [
    "check_col(df,'Warranty')"
   ]
  },
  {
   "cell_type": "code",
   "execution_count": 38,
   "id": "19dd2fe6",
   "metadata": {},
   "outputs": [],
   "source": [
    "df.drop('Warranty', axis=1, inplace=True)"
   ]
  },
  {
   "cell_type": "markdown",
   "id": "e6a6500c",
   "metadata": {},
   "source": [
    "## 📌Brand"
   ]
  },
  {
   "cell_type": "code",
   "execution_count": 39,
   "id": "c7c5549b",
   "metadata": {},
   "outputs": [
    {
     "name": "stdout",
     "output_type": "stream",
     "text": [
      "Brand , Sumation of isnull : 0\n",
      "-----------------\n",
      "Samples for Brand \n",
      " 4014        Audi\n",
      "15335    Renault\n",
      "8136        Opel\n",
      "8870        Opel\n",
      "6118        Opel\n",
      "4515        Audi\n",
      "13657    Renault\n",
      "3418        Audi\n",
      "1571        Audi\n",
      "14555    Renault\n",
      "Name: Brand, dtype: object\n",
      "-----------------\n",
      "Brand Value_counts is \n",
      " Opel       7343\n",
      "Audi       5712\n",
      "Renault    2864\n",
      "Name: Brand, dtype: int64\n"
     ]
    }
   ],
   "source": [
    "check_col(df,'Brand')"
   ]
  },
  {
   "cell_type": "markdown",
   "id": "ebf20b21",
   "metadata": {},
   "source": [
    "## 📌 Model"
   ]
  },
  {
   "cell_type": "code",
   "execution_count": 40,
   "id": "6310357c",
   "metadata": {},
   "outputs": [
    {
     "name": "stdout",
     "output_type": "stream",
     "text": [
      "Model , Sumation of isnull : 0\n",
      "-----------------\n",
      "Samples for Model \n",
      " 10411     Corsa\n",
      "2638         A3\n",
      "14674      Clio\n",
      "6910      Astra\n",
      "15693    Espace\n",
      "8966      Corsa\n",
      "4942         A3\n",
      "6122      Astra\n",
      "598          A1\n",
      "4205         A3\n",
      "Name: Model, dtype: object\n",
      "-----------------\n",
      "Model Value_counts is \n",
      " A3          3097\n",
      "A1          2614\n",
      "Insignia    2598\n",
      "Astra       2526\n",
      "Corsa       2219\n",
      "Clio        1839\n",
      "Espace       991\n",
      "Duster        34\n",
      "A2             1\n",
      "Name: Model, dtype: int64\n"
     ]
    }
   ],
   "source": [
    "check_col(df,'Model')"
   ]
  },
  {
   "cell_type": "markdown",
   "id": "d704ffd3",
   "metadata": {},
   "source": [
    "## 📌Age"
   ]
  },
  {
   "cell_type": "code",
   "execution_count": 41,
   "id": "182936a1",
   "metadata": {},
   "outputs": [
    {
     "name": "stdout",
     "output_type": "stream",
     "text": [
      "Age , Sumation of isnull : 0\n",
      "-----------------\n",
      "Samples for Age \n",
      " 8457     1.0\n",
      "8205     0.0\n",
      "12164    1.0\n",
      "1475     1.0\n",
      "4005     2.0\n",
      "1279     1.0\n",
      "6527     1.0\n",
      "12571    0.0\n",
      "8680     3.0\n",
      "10146    0.0\n",
      "Name: Age, dtype: float64\n",
      "-----------------\n",
      "Age Value_counts is \n",
      " 1.0    4813\n",
      "0.0    4077\n",
      "3.0    3696\n",
      "2.0    3333\n",
      "Name: Age, dtype: int64\n"
     ]
    }
   ],
   "source": [
    "check_col(df,'Age')"
   ]
  },
  {
   "cell_type": "code",
   "execution_count": 42,
   "id": "bd64ab32",
   "metadata": {
    "scrolled": true
   },
   "outputs": [
    {
     "data": {
      "image/png": "[encoded data removed]",
      "text/plain": [
       "<Figure size 432x288 with 1 Axes>"
      ]
     },
     "metadata": {
      "needs_background": "light"
     },
     "output_type": "display_data"
    }
   ],
   "source": [
    "sns.barplot(x=df.Age,y=df.New_KM);"
   ]
  },
  {
   "cell_type": "code",
   "execution_count": 43,
   "id": "5222a4f1",
   "metadata": {},
   "outputs": [
    {
     "data": {
      "image/png": "[encoded data removed]",
      "text/plain": [
       "<Figure size 432x288 with 1 Axes>"
      ]
     },
     "metadata": {
      "needs_background": "light"
     },
     "output_type": "display_data"
    }
   ],
   "source": [
    "sns.scatterplot(x=df.Age,y=df.New_KM);"
   ]
  },
  {
   "cell_type": "markdown",
   "id": "85322c14",
   "metadata": {},
   "source": [
    "## 📌Nr_of_Doors"
   ]
  },
  {
   "cell_type": "code",
   "execution_count": 44,
   "id": "a18a1513",
   "metadata": {},
   "outputs": [
    {
     "name": "stdout",
     "output_type": "stream",
     "text": [
      "Nr_of_Doors , Sumation of isnull : 0\n",
      "-----------------\n",
      "Samples for Nr_of_Doors \n",
      " 3577     5.0\n",
      "15466    4.0\n",
      "584      3.0\n",
      "7808     5.0\n",
      "12891    5.0\n",
      "13483    5.0\n",
      "7177     5.0\n",
      "1558     5.0\n",
      "9425     4.0\n",
      "5359     5.0\n",
      "Name: Nr_of_Doors, dtype: float64\n",
      "-----------------\n",
      "Nr_of_Doors Value_counts is \n",
      " 5.0    11789\n",
      "4.0     3079\n",
      "3.0      832\n",
      "2.0      219\n",
      "Name: Nr_of_Doors, dtype: int64\n"
     ]
    }
   ],
   "source": [
    "check_col(df,'Nr_of_Doors')"
   ]
  },
  {
   "cell_type": "code",
   "execution_count": 45,
   "id": "649117e8",
   "metadata": {},
   "outputs": [],
   "source": [
    "df.drop('Nr_of_Doors', axis=1, inplace=True)"
   ]
  },
  {
   "cell_type": "markdown",
   "id": "ec1377bb",
   "metadata": {},
   "source": [
    "## 📌 Number_of_Seats"
   ]
  },
  {
   "cell_type": "code",
   "execution_count": 46,
   "id": "970fcef8",
   "metadata": {
    "scrolled": true
   },
   "outputs": [
    {
     "name": "stdout",
     "output_type": "stream",
     "text": [
      "Number_of_Seats , Sumation of isnull : 0\n",
      "-----------------\n",
      "Samples for Number_of_Seats \n",
      " 8578     5.0\n",
      "2739     5.0\n",
      "1628     4.0\n",
      "8483     5.0\n",
      "9668     5.0\n",
      "3032     5.0\n",
      "6217     5.0\n",
      "860      4.0\n",
      "5931     5.0\n",
      "15485    7.0\n",
      "Name: Number_of_Seats, dtype: float64\n",
      "-----------------\n",
      "Number_of_Seats Value_counts is \n",
      " 5.0    14179\n",
      "4.0     1196\n",
      "7.0      409\n",
      "2.0      132\n",
      "6.0        2\n",
      "3.0        1\n",
      "Name: Number_of_Seats, dtype: int64\n"
     ]
    }
   ],
   "source": [
    "check_col(df,'Number_of_Seats')"
   ]
  },
  {
   "cell_type": "code",
   "execution_count": 47,
   "id": "40b38cb3",
   "metadata": {},
   "outputs": [],
   "source": [
    "df.drop('Number_of_Seats', axis=1, inplace=True)"
   ]
  },
  {
   "cell_type": "markdown",
   "id": "78c5fd43",
   "metadata": {},
   "source": [
    "## 📌Gearing_Type"
   ]
  },
  {
   "cell_type": "code",
   "execution_count": 48,
   "id": "db02b9a9",
   "metadata": {},
   "outputs": [
    {
     "name": "stdout",
     "output_type": "stream",
     "text": [
      "Gearing_Type , Sumation of isnull : 0\n",
      "-----------------\n",
      "Samples for Gearing_Type \n",
      " 10857    Automatic\n",
      "7370        Manual\n",
      "13545       Manual\n",
      "7427        Manual\n",
      "2513        Manual\n",
      "1183        Manual\n",
      "14931    Automatic\n",
      "403      Automatic\n",
      "7486        Manual\n",
      "7008        Manual\n",
      "Name: Gearing_Type, dtype: object\n",
      "-----------------\n",
      "Gearing_Type Value_counts is \n",
      " Manual            8153\n",
      "Automatic         7297\n",
      "Semi-automatic     469\n",
      "Name: Gearing_Type, dtype: int64\n"
     ]
    }
   ],
   "source": [
    "check_col(df,'Gearing_Type')"
   ]
  },
  {
   "cell_type": "code",
   "execution_count": 49,
   "id": "7c5c7533",
   "metadata": {},
   "outputs": [
    {
     "data": {
      "image/png": "[encoded data removed]",
      "text/plain": [
       "<Figure size 432x288 with 1 Axes>"
      ]
     },
     "metadata": {
      "needs_background": "light"
     },
     "output_type": "display_data"
    }
   ],
   "source": [
    "sns.barplot(x=df.Gearing_Type, y=df.Price);"
   ]
  },
  {
   "cell_type": "markdown",
   "id": "255f5826",
   "metadata": {},
   "source": [
    "## 📌Engine_Disp_cc"
   ]
  },
  {
   "cell_type": "code",
   "execution_count": 50,
   "id": "f78c62b0",
   "metadata": {},
   "outputs": [
    {
     "name": "stdout",
     "output_type": "stream",
     "text": [
      "Engine_Disp_cc , Sumation of isnull : 0\n",
      "-----------------\n",
      "Samples for Engine_Disp_cc \n",
      " 14675     898.0\n",
      "14231    1461.0\n",
      "12533    1598.0\n",
      "13116    1197.0\n",
      "3085     1598.0\n",
      "11586    1956.0\n",
      "3890     1598.0\n",
      "13223    1197.0\n",
      "13788    1618.0\n",
      "3782     1598.0\n",
      "Name: Engine_Disp_cc, dtype: float64\n",
      "-----------------\n",
      "Engine_Disp_cc Value_counts is \n",
      " 1598.0    5063\n",
      "999.0     2467\n",
      "1398.0    1388\n",
      "1399.0     749\n",
      "1461.0     686\n",
      "          ... \n",
      "122.0        1\n",
      "140.0        1\n",
      "1390.0       1\n",
      "54.0         1\n",
      "1533.0       1\n",
      "Name: Engine_Disp_cc, Length: 77, dtype: int64\n"
     ]
    }
   ],
   "source": [
    "check_col(df,'Engine_Disp_cc')"
   ]
  },
  {
   "cell_type": "code",
   "execution_count": 51,
   "id": "1b8e5de2",
   "metadata": {},
   "outputs": [
    {
     "data": {
      "image/png": "[encoded data removed]",
      "text/plain": [
       "<Figure size 864x432 with 1 Axes>"
      ]
     },
     "metadata": {
      "needs_background": "light"
     },
     "output_type": "display_data"
    }
   ],
   "source": [
    "plt.figure(figsize=(12,6))\n",
    "plt.boxplot(df.Engine_Disp_cc)\n",
    "\n",
    "plt.show()"
   ]
  },
  {
   "cell_type": "code",
   "execution_count": 52,
   "id": "fbb0f4ac",
   "metadata": {},
   "outputs": [
    {
     "data": {
      "text/plain": [
       "count    15919.000000\n",
       "mean      1426.172561\n",
       "std        329.676109\n",
       "min          1.000000\n",
       "25%       1229.000000\n",
       "50%       1461.000000\n",
       "75%       1598.000000\n",
       "max      16000.000000\n",
       "Name: Engine_Disp_cc, dtype: float64"
      ]
     },
     "execution_count": 52,
     "metadata": {},
     "output_type": "execute_result"
    }
   ],
   "source": [
    "df.Engine_Disp_cc.describe()"
   ]
  },
  {
   "cell_type": "code",
   "execution_count": 53,
   "id": "0231efe5",
   "metadata": {
    "scrolled": true
   },
   "outputs": [
    {
     "data": {
      "text/html": [
       "<div>\n",
       "<style scoped>\n",
       "    .dataframe tbody tr th:only-of-type {\n",
       "        vertical-align: middle;\n",
       "    }\n",
       "\n",
       "    .dataframe tbody tr th {\n",
       "        vertical-align: top;\n",
       "    }\n",
       "\n",
       "    .dataframe thead th {\n",
       "        text-align: right;\n",
       "    }\n",
       "</style>\n",
       "<table border=\"1\" class=\"dataframe\">\n",
       "  <thead>\n",
       "    <tr style=\"text-align: right;\">\n",
       "      <th></th>\n",
       "      <th>Engine_Disp_cc</th>\n",
       "      <th>Model</th>\n",
       "    </tr>\n",
       "  </thead>\n",
       "  <tbody>\n",
       "    <tr>\n",
       "      <th>14315</th>\n",
       "      <td>1.0</td>\n",
       "      <td>Clio</td>\n",
       "    </tr>\n",
       "    <tr>\n",
       "      <th>12800</th>\n",
       "      <td>1.0</td>\n",
       "      <td>Insignia</td>\n",
       "    </tr>\n",
       "    <tr>\n",
       "      <th>12798</th>\n",
       "      <td>1.0</td>\n",
       "      <td>Insignia</td>\n",
       "    </tr>\n",
       "    <tr>\n",
       "      <th>12796</th>\n",
       "      <td>1.0</td>\n",
       "      <td>Insignia</td>\n",
       "    </tr>\n",
       "    <tr>\n",
       "      <th>12484</th>\n",
       "      <td>1.0</td>\n",
       "      <td>Insignia</td>\n",
       "    </tr>\n",
       "    <tr>\n",
       "      <th>12790</th>\n",
       "      <td>1.0</td>\n",
       "      <td>Insignia</td>\n",
       "    </tr>\n",
       "    <tr>\n",
       "      <th>12786</th>\n",
       "      <td>1.0</td>\n",
       "      <td>Insignia</td>\n",
       "    </tr>\n",
       "    <tr>\n",
       "      <th>12783</th>\n",
       "      <td>1.0</td>\n",
       "      <td>Insignia</td>\n",
       "    </tr>\n",
       "    <tr>\n",
       "      <th>14327</th>\n",
       "      <td>1.0</td>\n",
       "      <td>Clio</td>\n",
       "    </tr>\n",
       "    <tr>\n",
       "      <th>12781</th>\n",
       "      <td>1.0</td>\n",
       "      <td>Insignia</td>\n",
       "    </tr>\n",
       "    <tr>\n",
       "      <th>14326</th>\n",
       "      <td>1.0</td>\n",
       "      <td>Clio</td>\n",
       "    </tr>\n",
       "    <tr>\n",
       "      <th>14325</th>\n",
       "      <td>1.0</td>\n",
       "      <td>Clio</td>\n",
       "    </tr>\n",
       "    <tr>\n",
       "      <th>12769</th>\n",
       "      <td>1.0</td>\n",
       "      <td>Insignia</td>\n",
       "    </tr>\n",
       "    <tr>\n",
       "      <th>12815</th>\n",
       "      <td>1.0</td>\n",
       "      <td>Insignia</td>\n",
       "    </tr>\n",
       "    <tr>\n",
       "      <th>14324</th>\n",
       "      <td>1.0</td>\n",
       "      <td>Clio</td>\n",
       "    </tr>\n",
       "    <tr>\n",
       "      <th>12768</th>\n",
       "      <td>1.0</td>\n",
       "      <td>Insignia</td>\n",
       "    </tr>\n",
       "    <tr>\n",
       "      <th>12750</th>\n",
       "      <td>1.0</td>\n",
       "      <td>Insignia</td>\n",
       "    </tr>\n",
       "    <tr>\n",
       "      <th>14322</th>\n",
       "      <td>1.0</td>\n",
       "      <td>Clio</td>\n",
       "    </tr>\n",
       "    <tr>\n",
       "      <th>14321</th>\n",
       "      <td>1.0</td>\n",
       "      <td>Clio</td>\n",
       "    </tr>\n",
       "    <tr>\n",
       "      <th>12670</th>\n",
       "      <td>1.0</td>\n",
       "      <td>Insignia</td>\n",
       "    </tr>\n",
       "    <tr>\n",
       "      <th>12604</th>\n",
       "      <td>1.0</td>\n",
       "      <td>Insignia</td>\n",
       "    </tr>\n",
       "    <tr>\n",
       "      <th>14320</th>\n",
       "      <td>1.0</td>\n",
       "      <td>Clio</td>\n",
       "    </tr>\n",
       "    <tr>\n",
       "      <th>12467</th>\n",
       "      <td>1.0</td>\n",
       "      <td>Insignia</td>\n",
       "    </tr>\n",
       "    <tr>\n",
       "      <th>12473</th>\n",
       "      <td>1.0</td>\n",
       "      <td>Insignia</td>\n",
       "    </tr>\n",
       "    <tr>\n",
       "      <th>12554</th>\n",
       "      <td>1.0</td>\n",
       "      <td>Insignia</td>\n",
       "    </tr>\n",
       "    <tr>\n",
       "      <th>12501</th>\n",
       "      <td>1.0</td>\n",
       "      <td>Insignia</td>\n",
       "    </tr>\n",
       "    <tr>\n",
       "      <th>12499</th>\n",
       "      <td>1.0</td>\n",
       "      <td>Insignia</td>\n",
       "    </tr>\n",
       "    <tr>\n",
       "      <th>14319</th>\n",
       "      <td>1.0</td>\n",
       "      <td>Clio</td>\n",
       "    </tr>\n",
       "    <tr>\n",
       "      <th>12823</th>\n",
       "      <td>1.0</td>\n",
       "      <td>Insignia</td>\n",
       "    </tr>\n",
       "    <tr>\n",
       "      <th>14328</th>\n",
       "      <td>1.0</td>\n",
       "      <td>Clio</td>\n",
       "    </tr>\n",
       "    <tr>\n",
       "      <th>12849</th>\n",
       "      <td>1.0</td>\n",
       "      <td>Insignia</td>\n",
       "    </tr>\n",
       "    <tr>\n",
       "      <th>13904</th>\n",
       "      <td>1.0</td>\n",
       "      <td>Clio</td>\n",
       "    </tr>\n",
       "    <tr>\n",
       "      <th>12848</th>\n",
       "      <td>1.0</td>\n",
       "      <td>Insignia</td>\n",
       "    </tr>\n",
       "    <tr>\n",
       "      <th>12835</th>\n",
       "      <td>1.0</td>\n",
       "      <td>Insignia</td>\n",
       "    </tr>\n",
       "    <tr>\n",
       "      <th>14314</th>\n",
       "      <td>1.0</td>\n",
       "      <td>Clio</td>\n",
       "    </tr>\n",
       "    <tr>\n",
       "      <th>14284</th>\n",
       "      <td>1.0</td>\n",
       "      <td>Clio</td>\n",
       "    </tr>\n",
       "    <tr>\n",
       "      <th>14198</th>\n",
       "      <td>2.0</td>\n",
       "      <td>Clio</td>\n",
       "    </tr>\n",
       "    <tr>\n",
       "      <th>10559</th>\n",
       "      <td>2.0</td>\n",
       "      <td>Insignia</td>\n",
       "    </tr>\n",
       "    <tr>\n",
       "      <th>13912</th>\n",
       "      <td>54.0</td>\n",
       "      <td>Clio</td>\n",
       "    </tr>\n",
       "    <tr>\n",
       "      <th>10194</th>\n",
       "      <td>122.0</td>\n",
       "      <td>Corsa</td>\n",
       "    </tr>\n",
       "    <tr>\n",
       "      <th>7812</th>\n",
       "      <td>139.0</td>\n",
       "      <td>Astra</td>\n",
       "    </tr>\n",
       "    <tr>\n",
       "      <th>7811</th>\n",
       "      <td>139.0</td>\n",
       "      <td>Astra</td>\n",
       "    </tr>\n",
       "    <tr>\n",
       "      <th>7810</th>\n",
       "      <td>139.0</td>\n",
       "      <td>Astra</td>\n",
       "    </tr>\n",
       "    <tr>\n",
       "      <th>7809</th>\n",
       "      <td>139.0</td>\n",
       "      <td>Astra</td>\n",
       "    </tr>\n",
       "    <tr>\n",
       "      <th>8128</th>\n",
       "      <td>140.0</td>\n",
       "      <td>Astra</td>\n",
       "    </tr>\n",
       "    <tr>\n",
       "      <th>15578</th>\n",
       "      <td>160.0</td>\n",
       "      <td>Espace</td>\n",
       "    </tr>\n",
       "    <tr>\n",
       "      <th>15579</th>\n",
       "      <td>160.0</td>\n",
       "      <td>Espace</td>\n",
       "    </tr>\n",
       "    <tr>\n",
       "      <th>15574</th>\n",
       "      <td>160.0</td>\n",
       "      <td>Espace</td>\n",
       "    </tr>\n",
       "    <tr>\n",
       "      <th>15575</th>\n",
       "      <td>160.0</td>\n",
       "      <td>Espace</td>\n",
       "    </tr>\n",
       "    <tr>\n",
       "      <th>15576</th>\n",
       "      <td>160.0</td>\n",
       "      <td>Espace</td>\n",
       "    </tr>\n",
       "    <tr>\n",
       "      <th>15577</th>\n",
       "      <td>160.0</td>\n",
       "      <td>Espace</td>\n",
       "    </tr>\n",
       "    <tr>\n",
       "      <th>13653</th>\n",
       "      <td>890.0</td>\n",
       "      <td>Clio</td>\n",
       "    </tr>\n",
       "    <tr>\n",
       "      <th>14702</th>\n",
       "      <td>898.0</td>\n",
       "      <td>Clio</td>\n",
       "    </tr>\n",
       "    <tr>\n",
       "      <th>14726</th>\n",
       "      <td>898.0</td>\n",
       "      <td>Clio</td>\n",
       "    </tr>\n",
       "    <tr>\n",
       "      <th>14703</th>\n",
       "      <td>898.0</td>\n",
       "      <td>Clio</td>\n",
       "    </tr>\n",
       "  </tbody>\n",
       "</table>\n",
       "</div>"
      ],
      "text/plain": [
       "       Engine_Disp_cc     Model\n",
       "14315             1.0      Clio\n",
       "12800             1.0  Insignia\n",
       "12798             1.0  Insignia\n",
       "12796             1.0  Insignia\n",
       "12484             1.0  Insignia\n",
       "12790             1.0  Insignia\n",
       "12786             1.0  Insignia\n",
       "12783             1.0  Insignia\n",
       "14327             1.0      Clio\n",
       "12781             1.0  Insignia\n",
       "14326             1.0      Clio\n",
       "14325             1.0      Clio\n",
       "12769             1.0  Insignia\n",
       "12815             1.0  Insignia\n",
       "14324             1.0      Clio\n",
       "12768             1.0  Insignia\n",
       "12750             1.0  Insignia\n",
       "14322             1.0      Clio\n",
       "14321             1.0      Clio\n",
       "12670             1.0  Insignia\n",
       "12604             1.0  Insignia\n",
       "14320             1.0      Clio\n",
       "12467             1.0  Insignia\n",
       "12473             1.0  Insignia\n",
       "12554             1.0  Insignia\n",
       "12501             1.0  Insignia\n",
       "12499             1.0  Insignia\n",
       "14319             1.0      Clio\n",
       "12823             1.0  Insignia\n",
       "14328             1.0      Clio\n",
       "12849             1.0  Insignia\n",
       "13904             1.0      Clio\n",
       "12848             1.0  Insignia\n",
       "12835             1.0  Insignia\n",
       "14314             1.0      Clio\n",
       "14284             1.0      Clio\n",
       "14198             2.0      Clio\n",
       "10559             2.0  Insignia\n",
       "13912            54.0      Clio\n",
       "10194           122.0     Corsa\n",
       "7812            139.0     Astra\n",
       "7811            139.0     Astra\n",
       "7810            139.0     Astra\n",
       "7809            139.0     Astra\n",
       "8128            140.0     Astra\n",
       "15578           160.0    Espace\n",
       "15579           160.0    Espace\n",
       "15574           160.0    Espace\n",
       "15575           160.0    Espace\n",
       "15576           160.0    Espace\n",
       "15577           160.0    Espace\n",
       "13653           890.0      Clio\n",
       "14702           898.0      Clio\n",
       "14726           898.0      Clio\n",
       "14703           898.0      Clio"
      ]
     },
     "execution_count": 53,
     "metadata": {},
     "output_type": "execute_result"
    }
   ],
   "source": [
    "df.sort_values(by=['Engine_Disp_cc'], ascending=True)[['Engine_Disp_cc','Model']].head(55)"
   ]
  },
  {
   "cell_type": "code",
   "execution_count": 54,
   "id": "4a51bb47",
   "metadata": {
    "scrolled": true
   },
   "outputs": [
    {
     "data": {
      "text/html": [
       "<div>\n",
       "<style scoped>\n",
       "    .dataframe tbody tr th:only-of-type {\n",
       "        vertical-align: middle;\n",
       "    }\n",
       "\n",
       "    .dataframe tbody tr th {\n",
       "        vertical-align: top;\n",
       "    }\n",
       "\n",
       "    .dataframe thead th {\n",
       "        text-align: right;\n",
       "    }\n",
       "</style>\n",
       "<table border=\"1\" class=\"dataframe\">\n",
       "  <thead>\n",
       "    <tr style=\"text-align: right;\">\n",
       "      <th></th>\n",
       "      <th>Engine_Disp_cc</th>\n",
       "      <th>Model</th>\n",
       "    </tr>\n",
       "  </thead>\n",
       "  <tbody>\n",
       "    <tr>\n",
       "      <th>10932</th>\n",
       "      <td>16000.0</td>\n",
       "      <td>Insignia</td>\n",
       "    </tr>\n",
       "    <tr>\n",
       "      <th>7169</th>\n",
       "      <td>15898.0</td>\n",
       "      <td>Astra</td>\n",
       "    </tr>\n",
       "    <tr>\n",
       "      <th>10771</th>\n",
       "      <td>2967.0</td>\n",
       "      <td>Insignia</td>\n",
       "    </tr>\n",
       "    <tr>\n",
       "      <th>3592</th>\n",
       "      <td>2480.0</td>\n",
       "      <td>A3</td>\n",
       "    </tr>\n",
       "    <tr>\n",
       "      <th>3609</th>\n",
       "      <td>2480.0</td>\n",
       "      <td>A3</td>\n",
       "    </tr>\n",
       "    <tr>\n",
       "      <th>3608</th>\n",
       "      <td>2480.0</td>\n",
       "      <td>A3</td>\n",
       "    </tr>\n",
       "    <tr>\n",
       "      <th>3606</th>\n",
       "      <td>2480.0</td>\n",
       "      <td>A3</td>\n",
       "    </tr>\n",
       "    <tr>\n",
       "      <th>3605</th>\n",
       "      <td>2480.0</td>\n",
       "      <td>A3</td>\n",
       "    </tr>\n",
       "    <tr>\n",
       "      <th>3603</th>\n",
       "      <td>2480.0</td>\n",
       "      <td>A3</td>\n",
       "    </tr>\n",
       "    <tr>\n",
       "      <th>3648</th>\n",
       "      <td>2480.0</td>\n",
       "      <td>A3</td>\n",
       "    </tr>\n",
       "    <tr>\n",
       "      <th>3602</th>\n",
       "      <td>2480.0</td>\n",
       "      <td>A3</td>\n",
       "    </tr>\n",
       "    <tr>\n",
       "      <th>3601</th>\n",
       "      <td>2480.0</td>\n",
       "      <td>A3</td>\n",
       "    </tr>\n",
       "    <tr>\n",
       "      <th>3610</th>\n",
       "      <td>2480.0</td>\n",
       "      <td>A3</td>\n",
       "    </tr>\n",
       "    <tr>\n",
       "      <th>3604</th>\n",
       "      <td>2480.0</td>\n",
       "      <td>A3</td>\n",
       "    </tr>\n",
       "    <tr>\n",
       "      <th>3649</th>\n",
       "      <td>2480.0</td>\n",
       "      <td>A3</td>\n",
       "    </tr>\n",
       "    <tr>\n",
       "      <th>3590</th>\n",
       "      <td>2480.0</td>\n",
       "      <td>A3</td>\n",
       "    </tr>\n",
       "    <tr>\n",
       "      <th>3600</th>\n",
       "      <td>2480.0</td>\n",
       "      <td>A3</td>\n",
       "    </tr>\n",
       "    <tr>\n",
       "      <th>3599</th>\n",
       "      <td>2480.0</td>\n",
       "      <td>A3</td>\n",
       "    </tr>\n",
       "    <tr>\n",
       "      <th>3598</th>\n",
       "      <td>2480.0</td>\n",
       "      <td>A3</td>\n",
       "    </tr>\n",
       "    <tr>\n",
       "      <th>3593</th>\n",
       "      <td>2480.0</td>\n",
       "      <td>A3</td>\n",
       "    </tr>\n",
       "    <tr>\n",
       "      <th>3595</th>\n",
       "      <td>2480.0</td>\n",
       "      <td>A3</td>\n",
       "    </tr>\n",
       "    <tr>\n",
       "      <th>3587</th>\n",
       "      <td>2480.0</td>\n",
       "      <td>A3</td>\n",
       "    </tr>\n",
       "    <tr>\n",
       "      <th>3596</th>\n",
       "      <td>2480.0</td>\n",
       "      <td>A3</td>\n",
       "    </tr>\n",
       "    <tr>\n",
       "      <th>11978</th>\n",
       "      <td>2000.0</td>\n",
       "      <td>Insignia</td>\n",
       "    </tr>\n",
       "    <tr>\n",
       "      <th>11988</th>\n",
       "      <td>2000.0</td>\n",
       "      <td>Insignia</td>\n",
       "    </tr>\n",
       "    <tr>\n",
       "      <th>2903</th>\n",
       "      <td>2000.0</td>\n",
       "      <td>A3</td>\n",
       "    </tr>\n",
       "    <tr>\n",
       "      <th>12520</th>\n",
       "      <td>2000.0</td>\n",
       "      <td>Insignia</td>\n",
       "    </tr>\n",
       "    <tr>\n",
       "      <th>12519</th>\n",
       "      <td>2000.0</td>\n",
       "      <td>Insignia</td>\n",
       "    </tr>\n",
       "    <tr>\n",
       "      <th>12503</th>\n",
       "      <td>2000.0</td>\n",
       "      <td>Insignia</td>\n",
       "    </tr>\n",
       "    <tr>\n",
       "      <th>12181</th>\n",
       "      <td>2000.0</td>\n",
       "      <td>Insignia</td>\n",
       "    </tr>\n",
       "    <tr>\n",
       "      <th>12938</th>\n",
       "      <td>2000.0</td>\n",
       "      <td>Insignia</td>\n",
       "    </tr>\n",
       "    <tr>\n",
       "      <th>12414</th>\n",
       "      <td>2000.0</td>\n",
       "      <td>Insignia</td>\n",
       "    </tr>\n",
       "    <tr>\n",
       "      <th>12518</th>\n",
       "      <td>2000.0</td>\n",
       "      <td>Insignia</td>\n",
       "    </tr>\n",
       "    <tr>\n",
       "      <th>11977</th>\n",
       "      <td>2000.0</td>\n",
       "      <td>Insignia</td>\n",
       "    </tr>\n",
       "    <tr>\n",
       "      <th>11800</th>\n",
       "      <td>2000.0</td>\n",
       "      <td>Insignia</td>\n",
       "    </tr>\n",
       "    <tr>\n",
       "      <th>12226</th>\n",
       "      <td>2000.0</td>\n",
       "      <td>Insignia</td>\n",
       "    </tr>\n",
       "    <tr>\n",
       "      <th>12945</th>\n",
       "      <td>2000.0</td>\n",
       "      <td>Insignia</td>\n",
       "    </tr>\n",
       "    <tr>\n",
       "      <th>12179</th>\n",
       "      <td>2000.0</td>\n",
       "      <td>Insignia</td>\n",
       "    </tr>\n",
       "    <tr>\n",
       "      <th>12170</th>\n",
       "      <td>2000.0</td>\n",
       "      <td>Insignia</td>\n",
       "    </tr>\n",
       "    <tr>\n",
       "      <th>12521</th>\n",
       "      <td>2000.0</td>\n",
       "      <td>Insignia</td>\n",
       "    </tr>\n",
       "    <tr>\n",
       "      <th>11234</th>\n",
       "      <td>2000.0</td>\n",
       "      <td>Insignia</td>\n",
       "    </tr>\n",
       "    <tr>\n",
       "      <th>10556</th>\n",
       "      <td>2000.0</td>\n",
       "      <td>Insignia</td>\n",
       "    </tr>\n",
       "    <tr>\n",
       "      <th>13027</th>\n",
       "      <td>2000.0</td>\n",
       "      <td>Insignia</td>\n",
       "    </tr>\n",
       "    <tr>\n",
       "      <th>13029</th>\n",
       "      <td>2000.0</td>\n",
       "      <td>Insignia</td>\n",
       "    </tr>\n",
       "    <tr>\n",
       "      <th>13050</th>\n",
       "      <td>2000.0</td>\n",
       "      <td>Insignia</td>\n",
       "    </tr>\n",
       "    <tr>\n",
       "      <th>13054</th>\n",
       "      <td>2000.0</td>\n",
       "      <td>Insignia</td>\n",
       "    </tr>\n",
       "    <tr>\n",
       "      <th>12462</th>\n",
       "      <td>2000.0</td>\n",
       "      <td>Insignia</td>\n",
       "    </tr>\n",
       "    <tr>\n",
       "      <th>11032</th>\n",
       "      <td>2000.0</td>\n",
       "      <td>Insignia</td>\n",
       "    </tr>\n",
       "    <tr>\n",
       "      <th>15197</th>\n",
       "      <td>2000.0</td>\n",
       "      <td>Espace</td>\n",
       "    </tr>\n",
       "    <tr>\n",
       "      <th>12527</th>\n",
       "      <td>2000.0</td>\n",
       "      <td>Insignia</td>\n",
       "    </tr>\n",
       "    <tr>\n",
       "      <th>12464</th>\n",
       "      <td>2000.0</td>\n",
       "      <td>Insignia</td>\n",
       "    </tr>\n",
       "    <tr>\n",
       "      <th>12469</th>\n",
       "      <td>2000.0</td>\n",
       "      <td>Insignia</td>\n",
       "    </tr>\n",
       "    <tr>\n",
       "      <th>12470</th>\n",
       "      <td>2000.0</td>\n",
       "      <td>Insignia</td>\n",
       "    </tr>\n",
       "    <tr>\n",
       "      <th>12472</th>\n",
       "      <td>2000.0</td>\n",
       "      <td>Insignia</td>\n",
       "    </tr>\n",
       "    <tr>\n",
       "      <th>12114</th>\n",
       "      <td>2000.0</td>\n",
       "      <td>Insignia</td>\n",
       "    </tr>\n",
       "  </tbody>\n",
       "</table>\n",
       "</div>"
      ],
      "text/plain": [
       "       Engine_Disp_cc     Model\n",
       "10932         16000.0  Insignia\n",
       "7169          15898.0     Astra\n",
       "10771          2967.0  Insignia\n",
       "3592           2480.0        A3\n",
       "3609           2480.0        A3\n",
       "3608           2480.0        A3\n",
       "3606           2480.0        A3\n",
       "3605           2480.0        A3\n",
       "3603           2480.0        A3\n",
       "3648           2480.0        A3\n",
       "3602           2480.0        A3\n",
       "3601           2480.0        A3\n",
       "3610           2480.0        A3\n",
       "3604           2480.0        A3\n",
       "3649           2480.0        A3\n",
       "3590           2480.0        A3\n",
       "3600           2480.0        A3\n",
       "3599           2480.0        A3\n",
       "3598           2480.0        A3\n",
       "3593           2480.0        A3\n",
       "3595           2480.0        A3\n",
       "3587           2480.0        A3\n",
       "3596           2480.0        A3\n",
       "11978          2000.0  Insignia\n",
       "11988          2000.0  Insignia\n",
       "2903           2000.0        A3\n",
       "12520          2000.0  Insignia\n",
       "12519          2000.0  Insignia\n",
       "12503          2000.0  Insignia\n",
       "12181          2000.0  Insignia\n",
       "12938          2000.0  Insignia\n",
       "12414          2000.0  Insignia\n",
       "12518          2000.0  Insignia\n",
       "11977          2000.0  Insignia\n",
       "11800          2000.0  Insignia\n",
       "12226          2000.0  Insignia\n",
       "12945          2000.0  Insignia\n",
       "12179          2000.0  Insignia\n",
       "12170          2000.0  Insignia\n",
       "12521          2000.0  Insignia\n",
       "11234          2000.0  Insignia\n",
       "10556          2000.0  Insignia\n",
       "13027          2000.0  Insignia\n",
       "13029          2000.0  Insignia\n",
       "13050          2000.0  Insignia\n",
       "13054          2000.0  Insignia\n",
       "12462          2000.0  Insignia\n",
       "11032          2000.0  Insignia\n",
       "15197          2000.0    Espace\n",
       "12527          2000.0  Insignia\n",
       "12464          2000.0  Insignia\n",
       "12469          2000.0  Insignia\n",
       "12470          2000.0  Insignia\n",
       "12472          2000.0  Insignia\n",
       "12114          2000.0  Insignia"
      ]
     },
     "execution_count": 54,
     "metadata": {},
     "output_type": "execute_result"
    }
   ],
   "source": [
    "df.sort_values(by=['Engine_Disp_cc'], ascending=False)[['Engine_Disp_cc','Model']].head(55)"
   ]
  },
  {
   "cell_type": "code",
   "execution_count": 55,
   "id": "bc5a0108",
   "metadata": {},
   "outputs": [],
   "source": [
    "Engine_Disp_cc_anomalies=list(df[(df.Engine_Disp_cc < 898)|(df.Engine_Disp_cc > 2480)].index)"
   ]
  },
  {
   "cell_type": "code",
   "execution_count": 56,
   "id": "3aebf52c",
   "metadata": {},
   "outputs": [],
   "source": [
    "df.loc[Engine_Disp_cc_anomalies,'Engine_Disp_cc']= np.nan"
   ]
  },
  {
   "cell_type": "code",
   "execution_count": 57,
   "id": "91683d86",
   "metadata": {
    "scrolled": true
   },
   "outputs": [
    {
     "data": {
      "text/plain": [
       "7169    NaN\n",
       "7809    NaN\n",
       "7810    NaN\n",
       "7811    NaN\n",
       "7812    NaN\n",
       "8128    NaN\n",
       "10194   NaN\n",
       "10559   NaN\n",
       "10771   NaN\n",
       "10932   NaN\n",
       "12467   NaN\n",
       "12473   NaN\n",
       "12484   NaN\n",
       "12499   NaN\n",
       "12501   NaN\n",
       "12554   NaN\n",
       "12604   NaN\n",
       "12670   NaN\n",
       "12750   NaN\n",
       "12768   NaN\n",
       "12769   NaN\n",
       "12781   NaN\n",
       "12783   NaN\n",
       "12786   NaN\n",
       "12790   NaN\n",
       "12796   NaN\n",
       "12798   NaN\n",
       "12800   NaN\n",
       "12815   NaN\n",
       "12823   NaN\n",
       "12835   NaN\n",
       "12848   NaN\n",
       "12849   NaN\n",
       "13653   NaN\n",
       "13904   NaN\n",
       "13912   NaN\n",
       "14198   NaN\n",
       "14284   NaN\n",
       "14314   NaN\n",
       "14315   NaN\n",
       "14319   NaN\n",
       "14320   NaN\n",
       "14321   NaN\n",
       "14322   NaN\n",
       "14324   NaN\n",
       "14325   NaN\n",
       "14326   NaN\n",
       "14327   NaN\n",
       "14328   NaN\n",
       "15574   NaN\n",
       "15575   NaN\n",
       "15576   NaN\n",
       "15577   NaN\n",
       "15578   NaN\n",
       "15579   NaN\n",
       "Name: Engine_Disp_cc, dtype: float64"
      ]
     },
     "execution_count": 57,
     "metadata": {},
     "output_type": "execute_result"
    }
   ],
   "source": [
    "df.loc[Engine_Disp_cc_anomalies,'Engine_Disp_cc']"
   ]
  },
  {
   "cell_type": "code",
   "execution_count": 58,
   "id": "46a6695c",
   "metadata": {},
   "outputs": [
    {
     "name": "stdout",
     "output_type": "stream",
     "text": [
      "Number of NaN :  0\n",
      "------------------\n",
      "1598.0    5097\n",
      "999.0     2467\n",
      "1398.0    1389\n",
      "1399.0     753\n",
      "1461.0     702\n",
      "          ... \n",
      "1195.0       1\n",
      "1696.0       1\n",
      "1350.0       1\n",
      "1390.0       1\n",
      "1533.0       1\n",
      "Name: Engine_Disp_cc, Length: 66, dtype: int64\n"
     ]
    }
   ],
   "source": [
    "fill(df, 'Model', 'Body_Type','Engine_Disp_cc','median')"
   ]
  },
  {
   "cell_type": "markdown",
   "id": "6da90b8e",
   "metadata": {},
   "source": [
    "## 📌Cylinders"
   ]
  },
  {
   "cell_type": "code",
   "execution_count": 59,
   "id": "47427d2b",
   "metadata": {
    "scrolled": true
   },
   "outputs": [
    {
     "name": "stdout",
     "output_type": "stream",
     "text": [
      "Cylinders , Sumation of isnull : 0\n",
      "-----------------\n",
      "Samples for Cylinders \n",
      " 8056     3.0\n",
      "3039     4.0\n",
      "13312    4.0\n",
      "8611     4.0\n",
      "12790    4.0\n",
      "6925     4.0\n",
      "14907    4.0\n",
      "5646     4.0\n",
      "6727     4.0\n",
      "886      3.0\n",
      "Name: Cylinders, dtype: float64\n",
      "-----------------\n",
      "Cylinders Value_counts is \n",
      " 4.0    12544\n",
      "3.0     3340\n",
      "5.0       23\n",
      "8.0        5\n",
      "6.0        3\n",
      "2.0        3\n",
      "1.0        1\n",
      "Name: Cylinders, dtype: int64\n"
     ]
    }
   ],
   "source": [
    "check_col(df,'Cylinders')"
   ]
  },
  {
   "cell_type": "code",
   "execution_count": 60,
   "id": "a1f7c593",
   "metadata": {},
   "outputs": [],
   "source": [
    "Cylinders_anomalies=list(df[(df.Cylinders < 3.0)|(df.Cylinders > 5.0)].index) #1,2,6 ve 8 i anomali olarak aldik."
   ]
  },
  {
   "cell_type": "code",
   "execution_count": 61,
   "id": "7e3d73c2",
   "metadata": {},
   "outputs": [],
   "source": [
    "df.loc[Cylinders_anomalies,'Cylinders']= np.nan"
   ]
  },
  {
   "cell_type": "code",
   "execution_count": 62,
   "id": "dcc57d13",
   "metadata": {},
   "outputs": [
    {
     "data": {
      "text/plain": [
       "535     NaN\n",
       "536     NaN\n",
       "537     NaN\n",
       "9956    NaN\n",
       "10771   NaN\n",
       "10826   NaN\n",
       "11342   NaN\n",
       "12897   NaN\n",
       "15055   NaN\n",
       "15056   NaN\n",
       "15835   NaN\n",
       "15836   NaN\n",
       "Name: Cylinders, dtype: float64"
      ]
     },
     "execution_count": 62,
     "metadata": {},
     "output_type": "execute_result"
    }
   ],
   "source": [
    "df.loc[Cylinders_anomalies,'Cylinders']"
   ]
  },
  {
   "cell_type": "code",
   "execution_count": 63,
   "id": "bb6f8170",
   "metadata": {},
   "outputs": [
    {
     "name": "stdout",
     "output_type": "stream",
     "text": [
      "Number of NaN :  0\n",
      "------------------\n",
      "4.0    12553\n",
      "3.0     3343\n",
      "5.0       23\n",
      "Name: Cylinders, dtype: int64\n"
     ]
    }
   ],
   "source": [
    "fill(df,'Model','Body_Type','Cylinders','mode')"
   ]
  },
  {
   "cell_type": "code",
   "execution_count": null,
   "id": "f7799874",
   "metadata": {},
   "outputs": [],
   "source": []
  },
  {
   "cell_type": "code",
   "execution_count": null,
   "id": "febc7f3f",
   "metadata": {},
   "outputs": [],
   "source": []
  },
  {
   "cell_type": "markdown",
   "id": "3fdb8e3d",
   "metadata": {},
   "source": [
    "## Drive_chain"
   ]
  },
  {
   "cell_type": "code",
   "execution_count": 64,
   "id": "03c0ad22",
   "metadata": {},
   "outputs": [
    {
     "name": "stdout",
     "output_type": "stream",
     "text": [
      "Drive_chain , Sumation of isnull : 0\n",
      "-----------------\n",
      "Samples for Drive_chain \n",
      " 11578    front\n",
      "9029     front\n",
      "6472     front\n",
      "5167     front\n",
      "4445     front\n",
      "10667    front\n",
      "11540    front\n",
      "14116    front\n",
      "11800    front\n",
      "15732    front\n",
      "Name: Drive_chain, dtype: object\n",
      "-----------------\n",
      "Drive_chain Value_counts is \n",
      " front    15711\n",
      "4WD        204\n",
      "rear         4\n",
      "Name: Drive_chain, dtype: int64\n"
     ]
    }
   ],
   "source": [
    "check_col(df,'Drive_chain')"
   ]
  },
  {
   "cell_type": "code",
   "execution_count": 65,
   "id": "a14b50e7",
   "metadata": {},
   "outputs": [],
   "source": [
    "df.drop('Drive_chain',axis = 1,inplace = True)"
   ]
  },
  {
   "cell_type": "markdown",
   "id": "21a71677",
   "metadata": {},
   "source": [
    "## Fuel"
   ]
  },
  {
   "cell_type": "code",
   "execution_count": 66,
   "id": "7fe154ae",
   "metadata": {},
   "outputs": [
    {
     "name": "stdout",
     "output_type": "stream",
     "text": [
      "Fuel , Sumation of isnull : 0\n",
      "-----------------\n",
      "Samples for Fuel \n",
      " 6889      Diesel\n",
      "7703      Others\n",
      "12258    Benzine\n",
      "15183     Diesel\n",
      "15205     Diesel\n",
      "1935     Benzine\n",
      "6488      Diesel\n",
      "8806     Benzine\n",
      "176       Diesel\n",
      "10848     Diesel\n",
      "Name: Fuel, dtype: object\n",
      "-----------------\n",
      "Fuel Value_counts is \n",
      " Benzine     7707\n",
      "Diesel      7299\n",
      "Others       844\n",
      "CNG/LPG       64\n",
      "Electric       5\n",
      "Name: Fuel, dtype: int64\n"
     ]
    }
   ],
   "source": [
    "check_col(df,'Fuel')"
   ]
  },
  {
   "cell_type": "code",
   "execution_count": 67,
   "id": "12b41307",
   "metadata": {},
   "outputs": [],
   "source": [
    "Fuel_missing=list(df[df.Fuel == 'Others'].index)"
   ]
  },
  {
   "cell_type": "code",
   "execution_count": 68,
   "id": "ebdcd37e",
   "metadata": {},
   "outputs": [],
   "source": [
    "df.loc[Fuel_missing,'Fuel']= np.nan"
   ]
  },
  {
   "cell_type": "code",
   "execution_count": 69,
   "id": "86ab15b0",
   "metadata": {},
   "outputs": [
    {
     "name": "stdout",
     "output_type": "stream",
     "text": [
      "Number of NaN :  0\n",
      "------------------\n",
      "Benzine     8273\n",
      "Diesel      7577\n",
      "CNG/LPG       64\n",
      "Electric       5\n",
      "Name: Fuel, dtype: int64\n"
     ]
    }
   ],
   "source": [
    "fill(df,'Model','Body_Type','Fuel','mode')"
   ]
  },
  {
   "cell_type": "code",
   "execution_count": 70,
   "id": "9e70dc42",
   "metadata": {},
   "outputs": [
    {
     "data": {
      "text/plain": [
       "Index(['Price', 'hp', 'Type', 'Brand', 'Model', 'Age', 'Gearing_Type',\n",
       "       'Engine_Disp_cc', 'Cylinders', 'Fuel', 'CO2_Emission', 'Emission_Class',\n",
       "       'Comfort_Convenience', 'Entertainment_Media', 'Extras',\n",
       "       'Safety_Security', 'Gears', 'Body_Type', 'VAT_Deductable',\n",
       "       'Price_Negotiable', 'Prev_Owner', 'Inspection_New', 'Body_Color',\n",
       "       'Paint_Type', 'Uphol_Material', 'Uphol_Colors', 'Country_Cons',\n",
       "       'City_Cons', 'Comb_Cons', 'New_KM'],\n",
       "      dtype='object')"
      ]
     },
     "execution_count": 70,
     "metadata": {},
     "output_type": "execute_result"
    }
   ],
   "source": [
    "df.columns"
   ]
  },
  {
   "cell_type": "markdown",
   "id": "17c8b30c",
   "metadata": {},
   "source": [
    "## CO2_Emission"
   ]
  },
  {
   "cell_type": "code",
   "execution_count": 71,
   "id": "ec963a34",
   "metadata": {},
   "outputs": [
    {
     "name": "stdout",
     "output_type": "stream",
     "text": [
      "CO2_Emission , Sumation of isnull : 0\n",
      "-----------------\n",
      "Samples for CO2_Emission \n",
      " 2555     106.0\n",
      "13348      9.0\n",
      "10915    119.0\n",
      "2100     108.0\n",
      "5284     103.0\n",
      "15092    125.0\n",
      "10222    129.0\n",
      "6282     127.0\n",
      "2525     104.0\n",
      "7934     107.0\n",
      "Name: CO2_Emission, dtype: float64\n",
      "-----------------\n",
      "CO2_Emission Value_counts is \n",
      " 120.000    920\n",
      "97.000     620\n",
      "99.000     619\n",
      "104.000    599\n",
      "10.000     541\n",
      "          ... \n",
      "12.324       1\n",
      "45.000       1\n",
      "51.000       1\n",
      "13.983       1\n",
      "177.000      1\n",
      "Name: CO2_Emission, Length: 120, dtype: int64\n"
     ]
    }
   ],
   "source": [
    "check_col(df,'CO2_Emission')"
   ]
  },
  {
   "cell_type": "code",
   "execution_count": 72,
   "id": "bfa08f43",
   "metadata": {},
   "outputs": [],
   "source": [
    "df.drop('CO2_Emission',axis = 1,inplace = True)"
   ]
  },
  {
   "cell_type": "markdown",
   "id": "d1dd96b1",
   "metadata": {},
   "source": [
    "## Emission_Class"
   ]
  },
  {
   "cell_type": "code",
   "execution_count": 73,
   "id": "63c964c8",
   "metadata": {},
   "outputs": [
    {
     "name": "stdout",
     "output_type": "stream",
     "text": [
      "Emission_Class , Sumation of isnull : 0\n",
      "-----------------\n",
      "Samples for Emission_Class \n",
      " 2055           Euro 6\n",
      "2324     Euro 6d-TEMP\n",
      "9224           Euro 6\n",
      "14223          Euro 6\n",
      "12997    Euro 6d-TEMP\n",
      "15375          Euro 6\n",
      "902            Euro 6\n",
      "367            Euro 6\n",
      "4871           Euro 6\n",
      "3424           Euro 6\n",
      "Name: Emission_Class, dtype: object\n",
      "-----------------\n",
      "Emission_Class Value_counts is \n",
      " Euro 6          13143\n",
      "Euro 6d-TEMP     2467\n",
      "Euro 6c           127\n",
      "Euro 5             78\n",
      "Euro 6d            62\n",
      "Euro 4             42\n",
      "Name: Emission_Class, dtype: int64\n"
     ]
    }
   ],
   "source": [
    "check_col(df,'Emission_Class')"
   ]
  },
  {
   "cell_type": "code",
   "execution_count": 74,
   "id": "f912a361",
   "metadata": {},
   "outputs": [],
   "source": [
    "df.drop('Emission_Class',axis = 1,inplace=True)"
   ]
  },
  {
   "cell_type": "markdown",
   "id": "4256625c",
   "metadata": {},
   "source": [
    "## Comfort_Convenience"
   ]
  },
  {
   "cell_type": "code",
   "execution_count": 75,
   "id": "dfce3151",
   "metadata": {},
   "outputs": [
    {
     "name": "stdout",
     "output_type": "stream",
     "text": [
      "Comfort_Convenience , Sumation of isnull : 0\n",
      "-----------------\n",
      "Samples for Comfort_Convenience \n",
      " 14056    Air conditioning,Automatic climate control,Cru...\n",
      "3457     Air conditioning,Armrest,Automatic climate con...\n",
      "12498    Air conditioning,Armrest,Automatic climate con...\n",
      "7838     Air conditioning,Armrest,Automatic climate con...\n",
      "5160     Air conditioning,Armrest,Automatic climate con...\n",
      "5419     Armrest,Cruise control,Electrical side mirrors...\n",
      "2991                         Multi-function steering wheel\n",
      "3047     Air conditioning,Cruise control,Electrically a...\n",
      "11167    Air conditioning,Armrest,Cruise control,Electr...\n",
      "10818    Air conditioning,Air suspension,Armrest,Automa...\n",
      "Name: Comfort_Convenience, dtype: object\n",
      "-----------------\n",
      "Comfort_Convenience Value_counts is \n",
      " Air conditioning,Electrical side mirrors,Hill Holder,Power windows                                                                                                                                                                                                                                                                                                                                                                     234\n",
      "Air conditioning,Electrical side mirrors,Power windows                                                                                                                                                                                                                                                                                                                                                                                 155\n",
      "Air conditioning,Power windows                                                                                                                                                                                                                                                                                                                                                                                                         148\n",
      "Air conditioning,Armrest,Automatic climate control,Cruise control,Electrical side mirrors,Leather steering wheel,Light sensor,Lumbar support,Multi-function steering wheel,Navigation system,Park Distance Control,Parking assist system sensors front,Parking assist system sensors rear,Power windows,Rain sensor,Seat heating,Start-stop system                                                                                     106\n",
      "Air conditioning,Armrest,Automatic climate control,Cruise control,Electrical side mirrors,Hill Holder,Leather steering wheel,Light sensor,Multi-function steering wheel,Navigation system,Park Distance Control,Parking assist system sensors rear,Power windows,Rain sensor,Seat heating,Start-stop system                                                                                                                             92\n",
      "                                                                                                                                                                                                                                                                                                                                                                                                                                      ... \n",
      "Air conditioning,Armrest,Automatic climate control,Cruise control,Electrically adjustable seats,Electrical side mirrors,Hill Holder,Leather seats,Leather steering wheel,Multi-function steering wheel,Navigation system,Park Distance Control,Parking assist system camera,Parking assist system sensors front,Parking assist system sensors rear,Power windows,Seat ventilation,Split rear seats,Start-stop system,Tinted windows      1\n",
      "Air conditioning,Armrest,Electrical side mirrors,Leather steering wheel,Light sensor,Multi-function steering wheel,Parking assist system sensors front,Parking assist system sensors rear,Power windows,Rain sensor,Split rear seats,Start-stop system                                                                                                                                                                                   1\n",
      "Air conditioning,Cruise control,Electrical side mirrors,Hill Holder,Leather steering wheel,Navigation system,Park Distance Control,Parking assist system sensors rear,Power windows,Seat heating,Start-stop system                                                                                                                                                                                                                       1\n",
      "Air conditioning,Armrest,Cruise control,Electrical side mirrors,Hill Holder,Leather steering wheel,Multi-function steering wheel,Navigation system,Power windows,Split rear seats                                                                                                                                                                                                                                                        1\n",
      "Air conditioning,Cruise control,Electrically adjustable seats,Electrical side mirrors,Multi-function steering wheel,Navigation system,Park Distance Control,Parking assist system sensors front,Parking assist system sensors rear,Power windows,Rain sensor,Seat heating                                                                                                                                                                1\n",
      "Name: Comfort_Convenience, Length: 6198, dtype: int64\n"
     ]
    }
   ],
   "source": [
    "check_col(df,'Comfort_Convenience') #getdummy() uygulanacak."
   ]
  },
  {
   "cell_type": "markdown",
   "id": "886b5b37",
   "metadata": {},
   "source": [
    "## Entertainment_Media"
   ]
  },
  {
   "cell_type": "code",
   "execution_count": 76,
   "id": "0c7727c8",
   "metadata": {},
   "outputs": [
    {
     "name": "stdout",
     "output_type": "stream",
     "text": [
      "Entertainment_Media , Sumation of isnull : 0\n",
      "-----------------\n",
      "Samples for Entertainment_Media \n",
      " 10820    ['Hands-free equipment', 'MP3', 'On-board comp...\n",
      "9304     ['Bluetooth', 'Hands-free equipment', 'On-boar...\n",
      "658      ['Bluetooth', 'Hands-free equipment', 'MP3', '...\n",
      "3379     ['Bluetooth', 'CD player', 'Digital radio', 'H...\n",
      "995      ['Bluetooth', 'CD player', 'Hands-free equipme...\n",
      "13383          ['Bluetooth', 'On-board computer', 'Radio']\n",
      "5204                                ['Bluetooth', 'Radio']\n",
      "5116                 ['Bluetooth', 'Hands-free equipment']\n",
      "14796    ['Bluetooth', 'CD player', 'On-board computer'...\n",
      "11159    ['Bluetooth', 'On-board computer', 'Radio', 'U...\n",
      "Name: Entertainment_Media, dtype: object\n",
      "-----------------\n",
      "Entertainment_Media Value_counts is \n",
      " ['Bluetooth', 'Hands-free equipment', 'On-board computer', 'Radio', 'USB']                                                              1381\n",
      "['Bluetooth', 'Hands-free equipment', 'MP3', 'On-board computer', 'Radio', 'USB']                                                       1040\n",
      "['Bluetooth', 'CD player', 'Hands-free equipment', 'MP3', 'On-board computer', 'Radio', 'USB']                                           842\n",
      "['On-board computer']                                                                                                                    531\n",
      "['On-board computer', 'Radio']                                                                                                           525\n",
      "                                                                                                                                        ... \n",
      "['Bluetooth', 'CD player', 'Digital radio', 'On-board computer', 'Radio']                                                                  1\n",
      "['Bluetooth', 'Digital radio', 'On-board computer', 'Radio', 'Television', 'USB']                                                          1\n",
      "['Bluetooth', 'Digital radio', 'MP3', 'On-board computer', 'Radio', 'Sound system']                                                        1\n",
      "['Bluetooth', 'Digital radio', 'On-board computer', 'Sound system', 'USB']                                                                 1\n",
      "['Bluetooth', 'CD player', 'Digital radio', 'Hands-free equipment', 'MP3', 'On-board computer', 'Sound system', 'Television', 'USB']       1\n",
      "Name: Entertainment_Media, Length: 346, dtype: int64\n"
     ]
    }
   ],
   "source": [
    "check_col(df,'Entertainment_Media')#getdummy() uygulanacak."
   ]
  },
  {
   "cell_type": "markdown",
   "id": "e3781582",
   "metadata": {},
   "source": [
    "##  Extras"
   ]
  },
  {
   "cell_type": "code",
   "execution_count": 77,
   "id": "cdd26c19",
   "metadata": {},
   "outputs": [
    {
     "name": "stdout",
     "output_type": "stream",
     "text": [
      "Extras , Sumation of isnull : 0\n",
      "-----------------\n",
      "Samples for Extras \n",
      " 6890                            Touch screen,Voice Control\n",
      "11386                            Alloy wheels,Touch screen\n",
      "9622     Alloy wheels,Catalytic Converter,Handicapped e...\n",
      "15846              Alloy wheels,Touch screen,Voice Control\n",
      "9626                                          Alloy wheels\n",
      "8720                                          Alloy wheels\n",
      "8046                                   Catalytic Converter\n",
      "7576                 Alloy wheels,Sport seats,Touch screen\n",
      "14883                     Catalytic Converter,Touch screen\n",
      "7666     Alloy wheels,Catalytic Converter,Sport seats,T...\n",
      "Name: Extras, dtype: object\n",
      "-----------------\n",
      "Extras Value_counts is \n",
      " Alloy wheels                                                                                                            3900\n",
      "Alloy wheels,Touch screen                                                                                                833\n",
      "Alloy wheels,Voice Control                                                                                               701\n",
      "Alloy wheels,Touch screen,Voice Control                                                                                  639\n",
      "Roof rack                                                                                                                525\n",
      "                                                                                                                        ... \n",
      "Alloy wheels,Roof rack,Ski bag,Sport package,Sport seats,Touch screen,Trailer hitch,Voice Control                          1\n",
      "Alloy wheels,Catalytic Converter,Roof rack,Touch screen,Winter tyres                                                       1\n",
      "Alloy wheels,Catalytic Converter,Sport package,Sport seats,Sport suspension,Trailer hitch,Voice Control,Winter tyres       1\n",
      "Alloy wheels,Catalytic Converter,Ski bag,Sport package,Sport seats,Sport suspension                                        1\n",
      "Alloy wheels,Handicapped enabled,Touch screen,Voice Control,Winter tyres                                                   1\n",
      "Name: Extras, Length: 659, dtype: int64\n"
     ]
    }
   ],
   "source": [
    "check_col(df,'Extras') #getdummy() uygulanacak"
   ]
  },
  {
   "cell_type": "markdown",
   "id": "e9970e7e",
   "metadata": {},
   "source": [
    "## Safety_Security"
   ]
  },
  {
   "cell_type": "code",
   "execution_count": 78,
   "id": "cbbb41b9",
   "metadata": {},
   "outputs": [
    {
     "name": "stdout",
     "output_type": "stream",
     "text": [
      "Safety_Security , Sumation of isnull : 0\n",
      "-----------------\n",
      "Samples for Safety_Security \n",
      " 6108     ABS,Central door lock with remote control,Dayt...\n",
      "7083     ABS,Central door lock with remote control,Driv...\n",
      "9561     ABS,Central door lock,Daytime running lights,D...\n",
      "13309    ABS,Central door lock,Fog lights,Isofix,Power ...\n",
      "8276     ABS,Central door lock,Daytime running lights,D...\n",
      "11114    ABS,Adaptive headlights,Central door lock,Dayt...\n",
      "12647    ABS,Adaptive Cruise Control,Adaptive headlight...\n",
      "1300     ABS,Central door lock,Daytime running lights,D...\n",
      "13803    ABS,Alarm system,Central door lock,Central doo...\n",
      "14564             ABS,Central door lock,Driver-side airbag\n",
      "Name: Safety_Security, dtype: object\n",
      "-----------------\n",
      "Safety_Security Value_counts is \n",
      " ABS,Central door lock,Daytime running lights,Driver-side airbag,Electronic stability control,Fog lights,Immobilizer,Isofix,Passenger-side airbag,Power steering,Side airbag,Tire pressure monitoring system,Traction control                                                                                                                                                                                                                                                                                                                               567\n",
      "ABS,Central door lock,Daytime running lights,Driver-side airbag,Electronic stability control,Immobilizer,Isofix,Passenger-side airbag,Power steering,Side airbag,Tire pressure monitoring system,Traction control                                                                                                                                                                                                                                                                                                                                          515\n",
      "ABS,Central door lock,Daytime running lights,Driver-side airbag,Electronic stability control,Immobilizer,Isofix,LED Daytime Running Lights,Passenger-side airbag,Power steering,Side airbag,Tire pressure monitoring system,Traction control                                                                                                                                                                                                                                                                                                               285\n",
      "ABS,Central door lock,Daytime running lights,Driver-side airbag,Electronic stability control,Fog lights,Immobilizer,Isofix,LED Daytime Running Lights,Passenger-side airbag,Power steering,Side airbag,Tire pressure monitoring system,Traction control                                                                                                                                                                                                                                                                                                    284\n",
      "ABS,Central door lock,Daytime running lights,Driver-side airbag,Electronic stability control,Immobilizer,Isofix,Passenger-side airbag,Power steering,Side airbag,Tire pressure monitoring system,Traction control,Xenon headlights                                                                                                                                                                                                                                                                                                                         277\n",
      "                                                                                                                                                                                                                                                                                                                                                                                                                                                                                                                                                          ... \n",
      "ABS,Adaptive headlights,Central door lock,Daytime running lights,Driver-side airbag,Electronic stability control,Emergency brake assistant,Fog lights,Immobilizer,Isofix,LED Daytime Running Lights,LED Headlights,Passenger-side airbag,Side airbag,Tire pressure monitoring system,Traction control                                                                                                                                                                                                                                                        1\n",
      "ABS,Central door lock with remote control,Driver-side airbag,Electronic stability control,Head airbag,Isofix,Lane departure warning system,LED Headlights,Passenger-side airbag,Power steering,Side airbag,Tire pressure monitoring system,Traction control,Traffic sign recognition                                                                                                                                                                                                                                                                         1\n",
      "ABS,Adaptive Cruise Control,Adaptive headlights,Alarm system,Blind spot monitor,Central door lock,Central door lock with remote control,Daytime running lights,Driver drowsiness detection,Driver-side airbag,Electronic stability control,Emergency system,Fog lights,Head airbag,Immobilizer,Isofix,Lane departure warning system,LED Daytime Running Lights,LED Headlights,Night view assist,Passenger-side airbag,Power steering,Rear airbag,Side airbag,Tire pressure monitoring system,Traction control,Traffic sign recognition,Xenon headlights      1\n",
      "ABS,Adaptive Cruise Control,Central door lock,Daytime running lights,Driver-side airbag,Electronic stability control,Fog lights,LED Daytime Running Lights,Passenger-side airbag,Power steering,Rear airbag,Side airbag,Tire pressure monitoring system,Traffic sign recognition                                                                                                                                                                                                                                                                             1\n",
      "ABS,Adaptive headlights,Blind spot monitor,Central door lock,Daytime running lights,Driver-side airbag,Electronic stability control,Immobilizer,Isofix,Lane departure warning system,LED Headlights,Passenger-side airbag,Power steering,Side airbag,Tire pressure monitoring system,Traction control,Traffic sign recognition,Xenon headlights                                                                                                                                                                                                              1\n",
      "Name: Safety_Security, Length: 4443, dtype: int64\n"
     ]
    }
   ],
   "source": [
    "check_col(df,'Safety_Security') #getdummy() uygulanacak."
   ]
  },
  {
   "cell_type": "markdown",
   "id": "03aee807",
   "metadata": {},
   "source": [
    "##  Gears"
   ]
  },
  {
   "cell_type": "code",
   "execution_count": 79,
   "id": "00327621",
   "metadata": {},
   "outputs": [
    {
     "name": "stdout",
     "output_type": "stream",
     "text": [
      "Gears , Sumation of isnull : 0\n",
      "-----------------\n",
      "Samples for Gears \n",
      " 11355    6.0\n",
      "15382    6.0\n",
      "10100    5.0\n",
      "7998     5.0\n",
      "13139    5.0\n",
      "7180     6.0\n",
      "13743    5.0\n",
      "2781     7.0\n",
      "4659     7.0\n",
      "4339     6.0\n",
      "Name: Gears, dtype: float64\n",
      "-----------------\n",
      "Gears Value_counts is \n",
      " 6.0     8410\n",
      "5.0     5363\n",
      "7.0     1908\n",
      "8.0      224\n",
      "9.0        6\n",
      "4.0        2\n",
      "1.0        2\n",
      "3.0        2\n",
      "50.0       1\n",
      "2.0        1\n",
      "Name: Gears, dtype: int64\n"
     ]
    }
   ],
   "source": [
    "check_col(df,'Gears') "
   ]
  },
  {
   "cell_type": "code",
   "execution_count": 80,
   "id": "914bdaf6",
   "metadata": {},
   "outputs": [],
   "source": [
    "Gears_anomalies=list(df[(df.Gears == 50) | (df.Gears <5)].index)"
   ]
  },
  {
   "cell_type": "code",
   "execution_count": 81,
   "id": "080e41f0",
   "metadata": {},
   "outputs": [],
   "source": [
    "df.loc[Gears_anomalies,'Gears']= np.nan"
   ]
  },
  {
   "cell_type": "code",
   "execution_count": 82,
   "id": "b19d5ab7",
   "metadata": {},
   "outputs": [
    {
     "name": "stdout",
     "output_type": "stream",
     "text": [
      "Number of NaN :  0\n",
      "------------------\n",
      "6.0    8414\n",
      "5.0    5367\n",
      "7.0    1908\n",
      "8.0     224\n",
      "9.0       6\n",
      "Name: Gears, dtype: int64\n"
     ]
    }
   ],
   "source": [
    "fill(df,'Model','Body_Type','Gears','mode')"
   ]
  },
  {
   "cell_type": "code",
   "execution_count": 83,
   "id": "2e93bc32",
   "metadata": {},
   "outputs": [],
   "source": [
    "df.drop('Gears',axis = 1,inplace = True)"
   ]
  },
  {
   "cell_type": "markdown",
   "id": "a8b73aab",
   "metadata": {},
   "source": [
    "## Body_Type"
   ]
  },
  {
   "cell_type": "code",
   "execution_count": 84,
   "id": "c814f879",
   "metadata": {},
   "outputs": [
    {
     "name": "stdout",
     "output_type": "stream",
     "text": [
      "Body_Type , Sumation of isnull : 0\n",
      "-----------------\n",
      "Samples for Body_Type \n",
      " 12022    Station wagon\n",
      "2016             Sedan\n",
      "6032     Station wagon\n",
      "1838             Sedan\n",
      "5018             Sedan\n",
      "15871              Van\n",
      "10592    Station wagon\n",
      "12527            Sedan\n",
      "276            Compact\n",
      "4291             Sedan\n",
      "Name: Body_Type, dtype: object\n",
      "-----------------\n",
      "Body_Type Value_counts is \n",
      " Sedan            8005\n",
      "Station wagon    3678\n",
      "Compact          3242\n",
      "Van               817\n",
      "Transporter        88\n",
      "Off-Road           56\n",
      "Coupe              25\n",
      "Convertible         8\n",
      "Name: Body_Type, dtype: int64\n"
     ]
    }
   ],
   "source": [
    "check_col(df,'Body_Type') "
   ]
  },
  {
   "cell_type": "markdown",
   "id": "64e8d3ef",
   "metadata": {},
   "source": [
    "## VAT_Deductable"
   ]
  },
  {
   "cell_type": "code",
   "execution_count": 85,
   "id": "6cc45524",
   "metadata": {},
   "outputs": [
    {
     "name": "stdout",
     "output_type": "stream",
     "text": [
      "VAT_Deductable , Sumation of isnull : 0\n",
      "-----------------\n",
      "Samples for VAT_Deductable \n",
      " 14003    False\n",
      "9326      True\n",
      "3413     False\n",
      "5614      True\n",
      "6455      True\n",
      "15424     True\n",
      "5079      True\n",
      "6845     False\n",
      "3934     False\n",
      "760      False\n",
      "Name: VAT_Deductable, dtype: bool\n",
      "-----------------\n",
      "VAT_Deductable Value_counts is \n",
      " True     10980\n",
      "False     4939\n",
      "Name: VAT_Deductable, dtype: int64\n"
     ]
    }
   ],
   "source": [
    "check_col(df,'VAT_Deductable') "
   ]
  },
  {
   "cell_type": "markdown",
   "id": "54087852",
   "metadata": {},
   "source": [
    "## Price_Negotiable"
   ]
  },
  {
   "cell_type": "code",
   "execution_count": 86,
   "id": "9a9b1e81",
   "metadata": {},
   "outputs": [
    {
     "name": "stdout",
     "output_type": "stream",
     "text": [
      "Price_Negotiable , Sumation of isnull : 0\n",
      "-----------------\n",
      "Samples for Price_Negotiable \n",
      " 11639    False\n",
      "10947    False\n",
      "10714    False\n",
      "2290     False\n",
      "14769    False\n",
      "3223     False\n",
      "5243     False\n",
      "8703     False\n",
      "3707     False\n",
      "2669     False\n",
      "Name: Price_Negotiable, dtype: bool\n",
      "-----------------\n",
      "Price_Negotiable Value_counts is \n",
      " False    15493\n",
      "True       426\n",
      "Name: Price_Negotiable, dtype: int64\n"
     ]
    }
   ],
   "source": [
    "check_col(df,'Price_Negotiable') "
   ]
  },
  {
   "cell_type": "code",
   "execution_count": 87,
   "id": "c74e48b8",
   "metadata": {},
   "outputs": [],
   "source": [
    "df.drop('Price_Negotiable',axis = 1, inplace = True)"
   ]
  },
  {
   "cell_type": "markdown",
   "id": "f47da799",
   "metadata": {},
   "source": [
    "## Prev_Owner"
   ]
  },
  {
   "cell_type": "code",
   "execution_count": 88,
   "id": "99577f15",
   "metadata": {},
   "outputs": [
    {
     "name": "stdout",
     "output_type": "stream",
     "text": [
      "Prev_Owner , Sumation of isnull : 0\n",
      "-----------------\n",
      "Samples for Prev_Owner \n",
      " 14739    1.0\n",
      "2675     1.0\n",
      "14821    1.0\n",
      "12805    1.0\n",
      "5173     1.0\n",
      "10093    1.0\n",
      "9461     1.0\n",
      "7956     1.0\n",
      "1887     1.0\n",
      "9366     1.0\n",
      "Name: Prev_Owner, dtype: float64\n",
      "-----------------\n",
      "Prev_Owner Value_counts is \n",
      " 1.0    15055\n",
      "2.0      845\n",
      "3.0       17\n",
      "4.0        2\n",
      "Name: Prev_Owner, dtype: int64\n"
     ]
    }
   ],
   "source": [
    "check_col(df,'Prev_Owner') "
   ]
  },
  {
   "cell_type": "code",
   "execution_count": 89,
   "id": "4c18977a",
   "metadata": {},
   "outputs": [],
   "source": [
    "df.drop('Prev_Owner',axis = 1,inplace = True)"
   ]
  },
  {
   "cell_type": "markdown",
   "id": "4c4b4401",
   "metadata": {},
   "source": [
    "## Inspection_New"
   ]
  },
  {
   "cell_type": "code",
   "execution_count": 90,
   "id": "426bf195",
   "metadata": {},
   "outputs": [
    {
     "name": "stdout",
     "output_type": "stream",
     "text": [
      "Inspection_New , Sumation of isnull : 0\n",
      "-----------------\n",
      "Samples for Inspection_New \n",
      " 1678     Yes\n",
      "6369      No\n",
      "15913     No\n",
      "7307      No\n",
      "11336     No\n",
      "11468    Yes\n",
      "14077     No\n",
      "5512      No\n",
      "4685      No\n",
      "7162     Yes\n",
      "Name: Inspection_New, dtype: object\n",
      "-----------------\n",
      "Inspection_New Value_counts is \n",
      " No     11987\n",
      "Yes     3932\n",
      "Name: Inspection_New, dtype: int64\n"
     ]
    }
   ],
   "source": [
    "check_col(df,'Inspection_New') "
   ]
  },
  {
   "cell_type": "markdown",
   "id": "2c499978",
   "metadata": {},
   "source": [
    "## Body_Color"
   ]
  },
  {
   "cell_type": "code",
   "execution_count": 91,
   "id": "eaee90af",
   "metadata": {},
   "outputs": [
    {
     "name": "stdout",
     "output_type": "stream",
     "text": [
      "Body_Color , Sumation of isnull : 0\n",
      "-----------------\n",
      "Samples for Body_Color \n",
      " 21       Black\n",
      "11351     Grey\n",
      "10531    Black\n",
      "14217    White\n",
      "2777     White\n",
      "15257    Brown\n",
      "13176      Red\n",
      "13599    White\n",
      "3490     Black\n",
      "5783     Brown\n",
      "Name: Body_Color, dtype: object\n",
      "-----------------\n",
      "Body_Color Value_counts is \n",
      " Black     3900\n",
      "Grey      3615\n",
      "White     3520\n",
      "Silver    1707\n",
      "Blue      1522\n",
      "Red        995\n",
      "Brown      298\n",
      "Green      166\n",
      "Beige      116\n",
      "Yellow      51\n",
      "Violet      18\n",
      "Bronze       6\n",
      "Orange       3\n",
      "Gold         2\n",
      "Name: Body_Color, dtype: int64\n"
     ]
    }
   ],
   "source": [
    "check_col(df,'Body_Color') "
   ]
  },
  {
   "cell_type": "code",
   "execution_count": 92,
   "id": "53496600",
   "metadata": {},
   "outputs": [],
   "source": [
    "df.drop('Body_Color',axis = 1, inplace = True)"
   ]
  },
  {
   "cell_type": "markdown",
   "id": "202eef61",
   "metadata": {},
   "source": [
    "## Paint_Type"
   ]
  },
  {
   "cell_type": "code",
   "execution_count": 93,
   "id": "68f065c0",
   "metadata": {},
   "outputs": [
    {
     "name": "stdout",
     "output_type": "stream",
     "text": [
      "Paint_Type , Sumation of isnull : 0\n",
      "-----------------\n",
      "Samples for Paint_Type \n",
      " 11550     Metallic\n",
      "14609     Metallic\n",
      "14359     Metallic\n",
      "6527      Metallic\n",
      "11482     Metallic\n",
      "14939     Metallic\n",
      "12994    Uni/basic\n",
      "4976      Metallic\n",
      "10938     Metallic\n",
      "2030      Metallic\n",
      "Name: Paint_Type, dtype: object\n",
      "-----------------\n",
      "Paint_Type Value_counts is \n",
      " Metallic       15549\n",
      "Uni/basic        364\n",
      "Perl effect        6\n",
      "Name: Paint_Type, dtype: int64\n"
     ]
    }
   ],
   "source": [
    "check_col(df,'Paint_Type') "
   ]
  },
  {
   "cell_type": "markdown",
   "id": "e653aa64",
   "metadata": {},
   "source": [
    "## Uphol_Material"
   ]
  },
  {
   "cell_type": "code",
   "execution_count": 94,
   "id": "ee29d23a",
   "metadata": {},
   "outputs": [
    {
     "name": "stdout",
     "output_type": "stream",
     "text": [
      "Uphol_Material , Sumation of isnull : 0\n",
      "-----------------\n",
      "Samples for Uphol_Material \n",
      " 10411           Cloth\n",
      "2138            Cloth\n",
      "7642     Full leather\n",
      "9771            Cloth\n",
      "116             Cloth\n",
      "1809            Cloth\n",
      "4189            Cloth\n",
      "5515     Part leather\n",
      "2314            Cloth\n",
      "3137            Cloth\n",
      "Name: Uphol_Material, dtype: object\n",
      "-----------------\n",
      "Uphol_Material Value_counts is \n",
      " Cloth           11693\n",
      "Part leather     2135\n",
      "Full leather     1402\n",
      "Other             518\n",
      "alcantara          92\n",
      "Velour             79\n",
      "Name: Uphol_Material, dtype: int64\n"
     ]
    }
   ],
   "source": [
    "check_col(df,'Uphol_Material') "
   ]
  },
  {
   "cell_type": "markdown",
   "id": "1d7fa53c",
   "metadata": {},
   "source": [
    "##  Uphol_Colors"
   ]
  },
  {
   "cell_type": "code",
   "execution_count": 95,
   "id": "a89b0831",
   "metadata": {},
   "outputs": [
    {
     "name": "stdout",
     "output_type": "stream",
     "text": [
      "Uphol_Colors , Sumation of isnull : 0\n",
      "-----------------\n",
      "Samples for Uphol_Colors \n",
      " 4346     Black\n",
      "4734     Black\n",
      "14421    Black\n",
      "15755    Other\n",
      "4377     Black\n",
      "12893    Other\n",
      "12019    Black\n",
      "2393     Black\n",
      "13300    Other\n",
      "5853      Grey\n",
      "Name: Uphol_Colors, dtype: object\n",
      "-----------------\n",
      "Uphol_Colors Value_counts is \n",
      " Black           10481\n",
      "Grey             1975\n",
      "Other            1416\n",
      "Cloth            1215\n",
      "Brown             318\n",
      "Full leather      182\n",
      "Part leather      180\n",
      "Beige              70\n",
      "White              27\n",
      "Blue               22\n",
      "Velour             16\n",
      "Red                10\n",
      "Yellow              4\n",
      "alcantara           2\n",
      "Orange              1\n",
      "Name: Uphol_Colors, dtype: int64\n"
     ]
    }
   ],
   "source": [
    "check_col(df,'Uphol_Colors') "
   ]
  },
  {
   "cell_type": "code",
   "execution_count": 96,
   "id": "b7e4003f",
   "metadata": {},
   "outputs": [],
   "source": [
    "#df.drop('Uphol_Colors',axis =1,inplace = True)"
   ]
  },
  {
   "cell_type": "markdown",
   "id": "5d177334",
   "metadata": {},
   "source": [
    "## Upholstery"
   ]
  },
  {
   "cell_type": "code",
   "execution_count": 97,
   "id": "ab57aa53",
   "metadata": {},
   "outputs": [],
   "source": [
    "df[\"Upholstery\"]=df[\"Uphol_Colors\"] +\",\"+ df[\"Uphol_Material\"]"
   ]
  },
  {
   "cell_type": "code",
   "execution_count": 98,
   "id": "07890c53",
   "metadata": {},
   "outputs": [
    {
     "data": {
      "text/plain": [
       "0                      Black,Cloth\n",
       "1                       Grey,Cloth\n",
       "2                      Black,Cloth\n",
       "3                       Grey,Cloth\n",
       "4                      Black,Cloth\n",
       "                   ...            \n",
       "15914           Brown,Full leather\n",
       "15915           Cloth,Full leather\n",
       "15916           Black,Full leather\n",
       "15917    Part leather,Full leather\n",
       "15918           Brown,Full leather\n",
       "Name: Upholstery, Length: 15919, dtype: object"
      ]
     },
     "execution_count": 98,
     "metadata": {},
     "output_type": "execute_result"
    }
   ],
   "source": [
    "df.Upholstery"
   ]
  },
  {
   "cell_type": "markdown",
   "id": "f7c99ae9",
   "metadata": {},
   "source": [
    "## Country_Cons"
   ]
  },
  {
   "cell_type": "code",
   "execution_count": 99,
   "id": "46db6adf",
   "metadata": {},
   "outputs": [
    {
     "name": "stdout",
     "output_type": "stream",
     "text": [
      "Country_Cons , Sumation of isnull : 0\n",
      "-----------------\n",
      "Samples for Country_Cons \n",
      " 5905     5.8\n",
      "12578    9.4\n",
      "9202     6.0\n",
      "13396    3.5\n",
      "12987    5.4\n",
      "6172     6.3\n",
      "14731    4.0\n",
      "3518     4.5\n",
      "7231     5.7\n",
      "13383    3.5\n",
      "Name: Country_Cons, dtype: float64\n",
      "-----------------\n",
      "Country_Cons Value_counts is \n",
      " 5.0    1024\n",
      "4.0     957\n",
      "5.8     678\n",
      "4.5     677\n",
      "5.1     636\n",
      "       ... \n",
      "3.6       2\n",
      "9.0       2\n",
      "8.8       2\n",
      "9.5       2\n",
      "9.7       1\n",
      "Name: Country_Cons, Length: 69, dtype: int64\n"
     ]
    }
   ],
   "source": [
    "check_col(df,'Country_Cons') "
   ]
  },
  {
   "cell_type": "code",
   "execution_count": 100,
   "id": "5e0c89e0",
   "metadata": {},
   "outputs": [],
   "source": [
    "df.drop('Country_Cons',axis =1,inplace = True)"
   ]
  },
  {
   "cell_type": "markdown",
   "id": "d0ac11a3",
   "metadata": {},
   "source": [
    "## City_Cons"
   ]
  },
  {
   "cell_type": "code",
   "execution_count": 101,
   "id": "ccdc96d6",
   "metadata": {
    "scrolled": true
   },
   "outputs": [
    {
     "name": "stdout",
     "output_type": "stream",
     "text": [
      "City_Cons , Sumation of isnull : 0\n",
      "-----------------\n",
      "Samples for City_Cons \n",
      " 10814    5.0\n",
      "12790    4.1\n",
      "5038     4.4\n",
      "14088    3.3\n",
      "1467     4.2\n",
      "5480     4.1\n",
      "11940    4.6\n",
      "14629    3.1\n",
      "11557    4.9\n",
      "2179     4.2\n",
      "Name: City_Cons, dtype: float64\n",
      "-----------------\n",
      "City_Cons Value_counts is \n",
      " 4.2    1410\n",
      "3.7    1230\n",
      "4.4    1144\n",
      "4.5    1049\n",
      "3.8     941\n",
      "3.9     937\n",
      "4.1     718\n",
      "4.0     712\n",
      "4.7     705\n",
      "4.3     627\n",
      "3.5     610\n",
      "4.6     590\n",
      "3.1     574\n",
      "3.6     562\n",
      "3.3     559\n",
      "4.9     547\n",
      "3.4     419\n",
      "4.8     372\n",
      "5.3     319\n",
      "5.1     255\n",
      "5.7     244\n",
      "5.4     243\n",
      "3.2     211\n",
      "5.6     181\n",
      "3.0     177\n",
      "5.0     143\n",
      "5.2     100\n",
      "6.3      55\n",
      "5.5      44\n",
      "6.0      43\n",
      "5.8      35\n",
      "1.0      35\n",
      "7.7      20\n",
      "6.6      19\n",
      "6.4      16\n",
      "2.9      16\n",
      "0.0      12\n",
      "2.8      10\n",
      "7.1       7\n",
      "6.5       4\n",
      "7.3       4\n",
      "5.9       3\n",
      "6.7       3\n",
      "2.0       3\n",
      "6.9       3\n",
      "7.8       2\n",
      "7.0       2\n",
      "7.6       1\n",
      "6.1       1\n",
      "8.0       1\n",
      "8.6       1\n",
      "Name: City_Cons, dtype: int64\n"
     ]
    }
   ],
   "source": [
    "check_col(df,'City_Cons') "
   ]
  },
  {
   "cell_type": "code",
   "execution_count": 102,
   "id": "97fa57cf",
   "metadata": {},
   "outputs": [],
   "source": [
    "df.drop('City_Cons',axis =1,inplace = True)"
   ]
  },
  {
   "cell_type": "markdown",
   "id": "af7e53d4",
   "metadata": {},
   "source": [
    "## Comb_Cons"
   ]
  },
  {
   "cell_type": "code",
   "execution_count": 103,
   "id": "99182228",
   "metadata": {
    "scrolled": true
   },
   "outputs": [
    {
     "name": "stdout",
     "output_type": "stream",
     "text": [
      "Comb_Cons , Sumation of isnull : 0\n",
      "-----------------\n",
      "Samples for Comb_Cons \n",
      " 15619    5.1\n",
      "2900     3.8\n",
      "11262    4.1\n",
      "7811     6.1\n",
      "3716     3.9\n",
      "1294     5.1\n",
      "7959     4.7\n",
      "7859     4.8\n",
      "15239    4.6\n",
      "12815    4.9\n",
      "Name: Comb_Cons, dtype: float64\n",
      "-----------------\n",
      "Comb_Cons Value_counts is \n",
      " 5.4    834\n",
      "3.9    814\n",
      "4.0    799\n",
      "5.6    774\n",
      "5.1    739\n",
      "3.8    726\n",
      "4.7    725\n",
      "4.4    711\n",
      "5.0    616\n",
      "4.5    606\n",
      "4.8    596\n",
      "4.6    552\n",
      "5.2    524\n",
      "4.2    485\n",
      "5.3    479\n",
      "5.5    437\n",
      "4.9    428\n",
      "3.7    414\n",
      "3.3    396\n",
      "5.9    393\n",
      "4.3    391\n",
      "4.1    389\n",
      "5.7    386\n",
      "3.5    344\n",
      "6.0    341\n",
      "6.2    233\n",
      "3.6    218\n",
      "5.8    199\n",
      "6.3    189\n",
      "6.1    176\n",
      "6.6    171\n",
      "6.8    149\n",
      "3.4    126\n",
      "3.0     82\n",
      "6.4     77\n",
      "7.4     70\n",
      "6.7     52\n",
      "6.5     39\n",
      "1.0     38\n",
      "7.1     38\n",
      "3.2     33\n",
      "6.9     28\n",
      "8.3     21\n",
      "7.6     14\n",
      "7.0     12\n",
      "3.1     11\n",
      "7.8     10\n",
      "7.2      8\n",
      "8.0      6\n",
      "8.6      5\n",
      "8.7      3\n",
      "7.9      2\n",
      "7.5      2\n",
      "7.3      2\n",
      "8.1      2\n",
      "0.0      2\n",
      "1.2      1\n",
      "9.1      1\n",
      "Name: Comb_Cons, dtype: int64\n"
     ]
    }
   ],
   "source": [
    "check_col(df,'Comb_Cons') "
   ]
  },
  {
   "cell_type": "markdown",
   "id": "c3ec07ad",
   "metadata": {},
   "source": [
    "## New_KM"
   ]
  },
  {
   "cell_type": "code",
   "execution_count": 104,
   "id": "ce99d134",
   "metadata": {},
   "outputs": [
    {
     "name": "stdout",
     "output_type": "stream",
     "text": [
      "New_KM , Sumation of isnull : 0\n",
      "-----------------\n",
      "Samples for New_KM \n",
      " 10756    97000.000000\n",
      "15025    20329.000000\n",
      "11336    25272.000000\n",
      "14484    32000.000000\n",
      "11069    40000.000000\n",
      "3062     77536.000000\n",
      "5464        10.000000\n",
      "15755     5550.000000\n",
      "13009     1748.271975\n",
      "10230       15.000000\n",
      "Name: New_KM, dtype: float64\n",
      "-----------------\n",
      "New_KM Value_counts is \n",
      " 10.000000       1045\n",
      "1748.271975      812\n",
      "1.000000         367\n",
      "17479.470969     180\n",
      "5.000000         170\n",
      "                ... \n",
      "20719.000000       1\n",
      "91910.000000       1\n",
      "39860.000000       1\n",
      "28084.000000       1\n",
      "57889.000000       1\n",
      "Name: New_KM, Length: 6693, dtype: int64\n"
     ]
    }
   ],
   "source": [
    "check_col(df,'New_KM') "
   ]
  },
  {
   "cell_type": "code",
   "execution_count": 105,
   "id": "1002d179",
   "metadata": {},
   "outputs": [],
   "source": [
    "df.rename(columns = {'New_KM':'KM'}, inplace = True)"
   ]
  },
  {
   "cell_type": "code",
   "execution_count": 106,
   "id": "1e8decd2",
   "metadata": {},
   "outputs": [
    {
     "data": {
      "text/plain": [
       "Index(['Price', 'hp', 'Type', 'Brand', 'Model', 'Age', 'Gearing_Type',\n",
       "       'Engine_Disp_cc', 'Cylinders', 'Fuel', 'Comfort_Convenience',\n",
       "       'Entertainment_Media', 'Extras', 'Safety_Security', 'Body_Type',\n",
       "       'VAT_Deductable', 'Inspection_New', 'Paint_Type', 'Uphol_Material',\n",
       "       'Uphol_Colors', 'Comb_Cons', 'KM', 'Upholstery'],\n",
       "      dtype='object')"
      ]
     },
     "execution_count": 106,
     "metadata": {},
     "output_type": "execute_result"
    }
   ],
   "source": [
    "df.columns"
   ]
  },
  {
   "cell_type": "code",
   "execution_count": 107,
   "id": "c507b2e8",
   "metadata": {},
   "outputs": [
    {
     "data": {
      "text/plain": [
       "(15919, 23)"
      ]
     },
     "execution_count": 107,
     "metadata": {},
     "output_type": "execute_result"
    }
   ],
   "source": [
    "df.shape"
   ]
  },
  {
   "cell_type": "code",
   "execution_count": 108,
   "id": "02ff86f7",
   "metadata": {},
   "outputs": [],
   "source": [
    "hp_anomali=list(df[df.hp < 44].index)"
   ]
  },
  {
   "cell_type": "code",
   "execution_count": 109,
   "id": "e5aadae7",
   "metadata": {},
   "outputs": [],
   "source": [
    "df.loc[hp_anomali,'hp']= np.nan"
   ]
  },
  {
   "cell_type": "code",
   "execution_count": 110,
   "id": "f22c41dc",
   "metadata": {},
   "outputs": [
    {
     "data": {
      "text/plain": [
       "Series([], Name: hp, dtype: float64)"
      ]
     },
     "execution_count": 110,
     "metadata": {},
     "output_type": "execute_result"
    }
   ],
   "source": [
    "df.loc[hp_anomali,'hp']"
   ]
  },
  {
   "cell_type": "code",
   "execution_count": 111,
   "id": "041b4165",
   "metadata": {},
   "outputs": [
    {
     "data": {
      "text/plain": [
       "['Price',\n",
       " 'hp',\n",
       " 'Type',\n",
       " 'Brand',\n",
       " 'Model',\n",
       " 'Age',\n",
       " 'Gearing_Type',\n",
       " 'Engine_Disp_cc',\n",
       " 'Cylinders',\n",
       " 'Fuel',\n",
       " 'Comfort_Convenience',\n",
       " 'Entertainment_Media',\n",
       " 'Extras',\n",
       " 'Safety_Security',\n",
       " 'Body_Type',\n",
       " 'VAT_Deductable',\n",
       " 'Inspection_New',\n",
       " 'Paint_Type',\n",
       " 'Uphol_Material',\n",
       " 'Uphol_Colors',\n",
       " 'Comb_Cons',\n",
       " 'KM',\n",
       " 'Upholstery']"
      ]
     },
     "execution_count": 111,
     "metadata": {},
     "output_type": "execute_result"
    }
   ],
   "source": [
    "list(df.columns)"
   ]
  },
  {
   "cell_type": "code",
   "execution_count": 112,
   "id": "a33d9556",
   "metadata": {},
   "outputs": [],
   "source": [
    "df1=pd.read_csv(\"Upholstery.csv\")"
   ]
  },
  {
   "cell_type": "code",
   "execution_count": 113,
   "id": "e5f2cc17",
   "metadata": {
    "scrolled": true
   },
   "outputs": [
    {
     "name": "stdout",
     "output_type": "stream",
     "text": [
      "Upholstery , Sumation of isnull : 3720\n",
      "-----------------\n",
      "Samples for Upholstery \n",
      " 4547            Cloth, Black\n",
      "8276            Cloth, Black\n",
      "10046           Cloth, Black\n",
      "5392            Cloth, Other\n",
      "7300     Part leather, Black\n",
      "5958                     NaN\n",
      "14504           Cloth, Black\n",
      "10599    Full leather, Black\n",
      "11360                    NaN\n",
      "12840     Part leather, Grey\n",
      "Name: Upholstery, dtype: object\n",
      "-----------------\n",
      "Upholstery Value_counts is \n",
      " Cloth, Black           5821\n",
      "NaN                    3720\n",
      "Part leather, Black    1121\n",
      "Cloth                  1005\n",
      "Cloth, Grey             891\n",
      "Cloth, Other            639\n",
      "Full leather, Black     575\n",
      "Black                   491\n",
      "Grey                    273\n",
      "Other, Other            182\n",
      "Part leather            140\n",
      "Full leather            139\n",
      "Part leather, Grey      116\n",
      "Full leather, Brown     116\n",
      "Other, Black            110\n",
      "Full leather, Other      72\n",
      "Full leather, Grey       67\n",
      "Part leather, Other      65\n",
      "Other                    56\n",
      "Part leather, Brown      50\n",
      "alcantara, Black         47\n",
      "Full leather, Beige      36\n",
      "Velour, Black            36\n",
      "Cloth, Brown             28\n",
      "Velour                   16\n",
      "Other, Grey              15\n",
      "Cloth, Beige             13\n",
      "Brown                    12\n",
      "Cloth, Blue              12\n",
      "Velour, Grey              8\n",
      "Cloth, White              8\n",
      "alcantara, Grey           6\n",
      "Cloth, Red                5\n",
      "Other, Yellow             4\n",
      "Beige                     3\n",
      "Part leather, Red         3\n",
      "Part leather, White       2\n",
      "Full leather, Blue        2\n",
      "White                     2\n",
      "Blue                      2\n",
      "alcantara                 2\n",
      "Part leather, Beige       2\n",
      "alcantara, Other          2\n",
      "Other, Brown              1\n",
      "Full leather, Red         1\n",
      "Cloth, Orange             1\n",
      "Full leather, White       1\n",
      "Name: Upholstery, dtype: int64\n"
     ]
    }
   ],
   "source": [
    "check_col(df1,\"Upholstery\")"
   ]
  },
  {
   "cell_type": "code",
   "execution_count": 114,
   "id": "da54164c",
   "metadata": {
    "scrolled": true
   },
   "outputs": [
    {
     "data": {
      "text/plain": [
       "Cloth           11693\n",
       "Part leather     2135\n",
       "Full leather     1402\n",
       "Other             518\n",
       "alcantara          92\n",
       "Velour             79\n",
       "Name: Uphol_Material, dtype: int64"
      ]
     },
     "execution_count": 114,
     "metadata": {},
     "output_type": "execute_result"
    }
   ],
   "source": [
    "df.Uphol_Material.value_counts()"
   ]
  },
  {
   "cell_type": "code",
   "execution_count": 115,
   "id": "667ca7dc",
   "metadata": {},
   "outputs": [],
   "source": [
    "Uphol_Material_anomali = list(df[(df.Uphol_Material == \"Other\")].index)"
   ]
  },
  {
   "cell_type": "code",
   "execution_count": 116,
   "id": "c7ce1e19",
   "metadata": {},
   "outputs": [],
   "source": [
    "df.loc[Uphol_Material_anomali,\"Uphol_Material\"] = np.nan"
   ]
  },
  {
   "cell_type": "code",
   "execution_count": 117,
   "id": "372e346e",
   "metadata": {
    "scrolled": true
   },
   "outputs": [
    {
     "name": "stdout",
     "output_type": "stream",
     "text": [
      "Number of NaN :  0\n",
      "------------------\n",
      "Cloth           12173\n",
      "Part leather     2137\n",
      "Full leather     1438\n",
      "alcantara          92\n",
      "Velour             79\n",
      "Name: Uphol_Material, dtype: int64\n"
     ]
    }
   ],
   "source": [
    "fill(df,\"Model\",\"Body_Type\",\"Uphol_Material\",\"mode\")"
   ]
  },
  {
   "cell_type": "code",
   "execution_count": 118,
   "id": "cd50246a",
   "metadata": {
    "scrolled": true
   },
   "outputs": [
    {
     "name": "stdout",
     "output_type": "stream",
     "text": [
      "Uphol_Material , Sumation of isnull : 0\n",
      "-----------------\n",
      "Samples for Uphol_Material \n",
      " 5665            Cloth\n",
      "9082            Cloth\n",
      "633      Part leather\n",
      "5809     Part leather\n",
      "15403    Full leather\n",
      "8293            Cloth\n",
      "10785    Full leather\n",
      "2416            Cloth\n",
      "3205            Cloth\n",
      "1987            Cloth\n",
      "Name: Uphol_Material, dtype: object\n",
      "-----------------\n",
      "Uphol_Material Value_counts is \n",
      " Cloth           12173\n",
      "Part leather     2137\n",
      "Full leather     1438\n",
      "alcantara          92\n",
      "Velour             79\n",
      "Name: Uphol_Material, dtype: int64\n"
     ]
    }
   ],
   "source": [
    "check_col(df,\"Uphol_Material\")"
   ]
  },
  {
   "cell_type": "code",
   "execution_count": 119,
   "id": "9c9fe897",
   "metadata": {
    "scrolled": true
   },
   "outputs": [],
   "source": [
    "df.drop('Uphol_Colors', axis=1, inplace=True)"
   ]
  },
  {
   "cell_type": "code",
   "execution_count": 120,
   "id": "5ead0ccb",
   "metadata": {
    "scrolled": false
   },
   "outputs": [
    {
     "data": {
      "text/plain": [
       "Price                  0\n",
       "hp                     0\n",
       "Type                   0\n",
       "Brand                  0\n",
       "Model                  0\n",
       "Age                    0\n",
       "Gearing_Type           0\n",
       "Engine_Disp_cc         0\n",
       "Cylinders              0\n",
       "Fuel                   0\n",
       "Comfort_Convenience    0\n",
       "Entertainment_Media    0\n",
       "Extras                 0\n",
       "Safety_Security        0\n",
       "Body_Type              0\n",
       "VAT_Deductable         0\n",
       "Inspection_New         0\n",
       "Paint_Type             0\n",
       "Uphol_Material         0\n",
       "Comb_Cons              0\n",
       "KM                     0\n",
       "Upholstery             0\n",
       "dtype: int64"
      ]
     },
     "execution_count": 120,
     "metadata": {},
     "output_type": "execute_result"
    }
   ],
   "source": [
    "df.isnull().sum()"
   ]
  },
  {
   "cell_type": "code",
   "execution_count": 150,
   "id": "2aa0d034",
   "metadata": {},
   "outputs": [],
   "source": [
    "numeric_column=['Price', 'KM', 'Age', 'hp', 'Engine_Disp_cc', 'Cylinders', 'Comb_Cons']"
   ]
  },
  {
   "cell_type": "code",
   "execution_count": 151,
   "id": "13a2bb97",
   "metadata": {},
   "outputs": [],
   "source": [
    "df_num_column=df[numeric_column]"
   ]
  },
  {
   "cell_type": "code",
   "execution_count": 152,
   "id": "f9937dfb",
   "metadata": {},
   "outputs": [
    {
     "data": {
      "text/html": [
       "<div>\n",
       "<style scoped>\n",
       "    .dataframe tbody tr th:only-of-type {\n",
       "        vertical-align: middle;\n",
       "    }\n",
       "\n",
       "    .dataframe tbody tr th {\n",
       "        vertical-align: top;\n",
       "    }\n",
       "\n",
       "    .dataframe thead th {\n",
       "        text-align: right;\n",
       "    }\n",
       "</style>\n",
       "<table border=\"1\" class=\"dataframe\">\n",
       "  <thead>\n",
       "    <tr style=\"text-align: right;\">\n",
       "      <th></th>\n",
       "      <th>Price</th>\n",
       "      <th>KM</th>\n",
       "      <th>Age</th>\n",
       "      <th>hp</th>\n",
       "      <th>Engine_Disp_cc</th>\n",
       "      <th>Cylinders</th>\n",
       "      <th>Comb_Cons</th>\n",
       "    </tr>\n",
       "  </thead>\n",
       "  <tbody>\n",
       "    <tr>\n",
       "      <th>0</th>\n",
       "      <td>15770.0</td>\n",
       "      <td>56013.000000</td>\n",
       "      <td>3.0</td>\n",
       "      <td>66.0</td>\n",
       "      <td>1422.0</td>\n",
       "      <td>3.0</td>\n",
       "      <td>3.8</td>\n",
       "    </tr>\n",
       "    <tr>\n",
       "      <th>1</th>\n",
       "      <td>14500.0</td>\n",
       "      <td>80000.000000</td>\n",
       "      <td>2.0</td>\n",
       "      <td>141.0</td>\n",
       "      <td>1798.0</td>\n",
       "      <td>4.0</td>\n",
       "      <td>5.6</td>\n",
       "    </tr>\n",
       "    <tr>\n",
       "      <th>2</th>\n",
       "      <td>14640.0</td>\n",
       "      <td>83450.000000</td>\n",
       "      <td>3.0</td>\n",
       "      <td>85.0</td>\n",
       "      <td>1598.0</td>\n",
       "      <td>3.0</td>\n",
       "      <td>3.8</td>\n",
       "    </tr>\n",
       "    <tr>\n",
       "      <th>3</th>\n",
       "      <td>14500.0</td>\n",
       "      <td>73000.000000</td>\n",
       "      <td>3.0</td>\n",
       "      <td>66.0</td>\n",
       "      <td>1422.0</td>\n",
       "      <td>3.0</td>\n",
       "      <td>3.8</td>\n",
       "    </tr>\n",
       "    <tr>\n",
       "      <th>4</th>\n",
       "      <td>16790.0</td>\n",
       "      <td>16200.000000</td>\n",
       "      <td>3.0</td>\n",
       "      <td>66.0</td>\n",
       "      <td>1422.0</td>\n",
       "      <td>3.0</td>\n",
       "      <td>4.1</td>\n",
       "    </tr>\n",
       "    <tr>\n",
       "      <th>...</th>\n",
       "      <td>...</td>\n",
       "      <td>...</td>\n",
       "      <td>...</td>\n",
       "      <td>...</td>\n",
       "      <td>...</td>\n",
       "      <td>...</td>\n",
       "      <td>...</td>\n",
       "    </tr>\n",
       "    <tr>\n",
       "      <th>15914</th>\n",
       "      <td>33975.0</td>\n",
       "      <td>1748.271975</td>\n",
       "      <td>0.0</td>\n",
       "      <td>147.0</td>\n",
       "      <td>1997.0</td>\n",
       "      <td>4.0</td>\n",
       "      <td>5.3</td>\n",
       "    </tr>\n",
       "    <tr>\n",
       "      <th>15915</th>\n",
       "      <td>33975.0</td>\n",
       "      <td>9900.000000</td>\n",
       "      <td>0.0</td>\n",
       "      <td>165.0</td>\n",
       "      <td>1798.0</td>\n",
       "      <td>4.0</td>\n",
       "      <td>6.8</td>\n",
       "    </tr>\n",
       "    <tr>\n",
       "      <th>15916</th>\n",
       "      <td>33975.0</td>\n",
       "      <td>15.000000</td>\n",
       "      <td>0.0</td>\n",
       "      <td>146.0</td>\n",
       "      <td>1997.0</td>\n",
       "      <td>4.0</td>\n",
       "      <td>5.3</td>\n",
       "    </tr>\n",
       "    <tr>\n",
       "      <th>15917</th>\n",
       "      <td>33975.0</td>\n",
       "      <td>10.000000</td>\n",
       "      <td>0.0</td>\n",
       "      <td>147.0</td>\n",
       "      <td>1997.0</td>\n",
       "      <td>4.0</td>\n",
       "      <td>5.3</td>\n",
       "    </tr>\n",
       "    <tr>\n",
       "      <th>15918</th>\n",
       "      <td>33975.0</td>\n",
       "      <td>1748.271975</td>\n",
       "      <td>0.0</td>\n",
       "      <td>165.0</td>\n",
       "      <td>1798.0</td>\n",
       "      <td>4.0</td>\n",
       "      <td>6.8</td>\n",
       "    </tr>\n",
       "  </tbody>\n",
       "</table>\n",
       "<p>15919 rows × 7 columns</p>\n",
       "</div>"
      ],
      "text/plain": [
       "         Price            KM  Age     hp  Engine_Disp_cc  Cylinders  Comb_Cons\n",
       "0      15770.0  56013.000000  3.0   66.0          1422.0        3.0        3.8\n",
       "1      14500.0  80000.000000  2.0  141.0          1798.0        4.0        5.6\n",
       "2      14640.0  83450.000000  3.0   85.0          1598.0        3.0        3.8\n",
       "3      14500.0  73000.000000  3.0   66.0          1422.0        3.0        3.8\n",
       "4      16790.0  16200.000000  3.0   66.0          1422.0        3.0        4.1\n",
       "...        ...           ...  ...    ...             ...        ...        ...\n",
       "15914  33975.0   1748.271975  0.0  147.0          1997.0        4.0        5.3\n",
       "15915  33975.0   9900.000000  0.0  165.0          1798.0        4.0        6.8\n",
       "15916  33975.0     15.000000  0.0  146.0          1997.0        4.0        5.3\n",
       "15917  33975.0     10.000000  0.0  147.0          1997.0        4.0        5.3\n",
       "15918  33975.0   1748.271975  0.0  165.0          1798.0        4.0        6.8\n",
       "\n",
       "[15919 rows x 7 columns]"
      ]
     },
     "execution_count": 152,
     "metadata": {},
     "output_type": "execute_result"
    }
   ],
   "source": [
    "df_num_column"
   ]
  },
  {
   "cell_type": "code",
   "execution_count": 154,
   "id": "5308293c",
   "metadata": {},
   "outputs": [
    {
     "data": {
      "image/png": "[encoded data removed]",
      "text/plain": [
       "<Figure size 1260x1260 with 56 Axes>"
      ]
     },
     "metadata": {
      "needs_background": "light"
     },
     "output_type": "display_data"
    }
   ],
   "source": [
    "sns.pairplot(df_num_column, size=2.5)\n",
    "\n",
    "plt.show()"
   ]
  },
  {
   "cell_type": "code",
   "execution_count": 162,
   "id": "3ce4199b",
   "metadata": {},
   "outputs": [
    {
     "data": {
      "text/html": [
       "<div>\n",
       "<style scoped>\n",
       "    .dataframe tbody tr th:only-of-type {\n",
       "        vertical-align: middle;\n",
       "    }\n",
       "\n",
       "    .dataframe tbody tr th {\n",
       "        vertical-align: top;\n",
       "    }\n",
       "\n",
       "    .dataframe thead th {\n",
       "        text-align: right;\n",
       "    }\n",
       "</style>\n",
       "<table border=\"1\" class=\"dataframe\">\n",
       "  <thead>\n",
       "    <tr style=\"text-align: right;\">\n",
       "      <th></th>\n",
       "      <th>Price</th>\n",
       "      <th>KM</th>\n",
       "      <th>Age</th>\n",
       "      <th>hp</th>\n",
       "      <th>Engine_Disp_cc</th>\n",
       "      <th>Cylinders</th>\n",
       "      <th>Comb_Cons</th>\n",
       "    </tr>\n",
       "  </thead>\n",
       "  <tbody>\n",
       "    <tr>\n",
       "      <th>Price</th>\n",
       "      <td>1.000000</td>\n",
       "      <td>-0.416244</td>\n",
       "      <td>-0.489023</td>\n",
       "      <td>0.667083</td>\n",
       "      <td>0.249837</td>\n",
       "      <td>-0.038820</td>\n",
       "      <td>0.269737</td>\n",
       "    </tr>\n",
       "    <tr>\n",
       "      <th>KM</th>\n",
       "      <td>-0.416244</td>\n",
       "      <td>1.000000</td>\n",
       "      <td>0.751166</td>\n",
       "      <td>0.001794</td>\n",
       "      <td>0.301592</td>\n",
       "      <td>0.212916</td>\n",
       "      <td>-0.326854</td>\n",
       "    </tr>\n",
       "    <tr>\n",
       "      <th>Age</th>\n",
       "      <td>-0.489023</td>\n",
       "      <td>0.751166</td>\n",
       "      <td>1.000000</td>\n",
       "      <td>-0.090888</td>\n",
       "      <td>0.200168</td>\n",
       "      <td>0.168556</td>\n",
       "      <td>-0.349193</td>\n",
       "    </tr>\n",
       "    <tr>\n",
       "      <th>hp</th>\n",
       "      <td>0.667083</td>\n",
       "      <td>0.001794</td>\n",
       "      <td>-0.090888</td>\n",
       "      <td>1.000000</td>\n",
       "      <td>0.596479</td>\n",
       "      <td>0.293484</td>\n",
       "      <td>0.402660</td>\n",
       "    </tr>\n",
       "    <tr>\n",
       "      <th>Engine_Disp_cc</th>\n",
       "      <td>0.249837</td>\n",
       "      <td>0.301592</td>\n",
       "      <td>0.200168</td>\n",
       "      <td>0.596479</td>\n",
       "      <td>1.000000</td>\n",
       "      <td>0.643609</td>\n",
       "      <td>0.021661</td>\n",
       "    </tr>\n",
       "    <tr>\n",
       "      <th>Cylinders</th>\n",
       "      <td>-0.038820</td>\n",
       "      <td>0.212916</td>\n",
       "      <td>0.168556</td>\n",
       "      <td>0.293484</td>\n",
       "      <td>0.643609</td>\n",
       "      <td>1.000000</td>\n",
       "      <td>0.154261</td>\n",
       "    </tr>\n",
       "    <tr>\n",
       "      <th>Comb_Cons</th>\n",
       "      <td>0.269737</td>\n",
       "      <td>-0.326854</td>\n",
       "      <td>-0.349193</td>\n",
       "      <td>0.402660</td>\n",
       "      <td>0.021661</td>\n",
       "      <td>0.154261</td>\n",
       "      <td>1.000000</td>\n",
       "    </tr>\n",
       "  </tbody>\n",
       "</table>\n",
       "</div>"
      ],
      "text/plain": [
       "                   Price        KM       Age        hp  Engine_Disp_cc  \\\n",
       "Price           1.000000 -0.416244 -0.489023  0.667083        0.249837   \n",
       "KM             -0.416244  1.000000  0.751166  0.001794        0.301592   \n",
       "Age            -0.489023  0.751166  1.000000 -0.090888        0.200168   \n",
       "hp              0.667083  0.001794 -0.090888  1.000000        0.596479   \n",
       "Engine_Disp_cc  0.249837  0.301592  0.200168  0.596479        1.000000   \n",
       "Cylinders      -0.038820  0.212916  0.168556  0.293484        0.643609   \n",
       "Comb_Cons       0.269737 -0.326854 -0.349193  0.402660        0.021661   \n",
       "\n",
       "                Cylinders  Comb_Cons  \n",
       "Price           -0.038820   0.269737  \n",
       "KM               0.212916  -0.326854  \n",
       "Age              0.168556  -0.349193  \n",
       "hp               0.293484   0.402660  \n",
       "Engine_Disp_cc   0.643609   0.021661  \n",
       "Cylinders        1.000000   0.154261  \n",
       "Comb_Cons        0.154261   1.000000  "
      ]
     },
     "execution_count": 162,
     "metadata": {},
     "output_type": "execute_result"
    }
   ],
   "source": [
    "df_num_column.corr()"
   ]
  },
  {
   "cell_type": "code",
   "execution_count": 168,
   "id": "facf93ea",
   "metadata": {},
   "outputs": [
    {
     "data": {
      "image/png": "[encoded data removed]",
      "text/plain": [
       "<Figure size 1152x648 with 2 Axes>"
      ]
     },
     "metadata": {
      "needs_background": "light"
     },
     "output_type": "display_data"
    }
   ],
   "source": [
    "plt.figure(figsize = (16,9))\n",
    "sns.heatmap(df_num_column.corr(),cmap=\"YlGnBu\", annot=True)\n",
    "plt.show();"
   ]
  },
  {
   "cell_type": "code",
   "execution_count": 132,
   "id": "f2bd538a",
   "metadata": {},
   "outputs": [],
   "source": [
    "df.to_csv('final_10_not_dummy.csv', index=False)"
   ]
  },
  {
   "cell_type": "code",
   "execution_count": 133,
   "id": "2f61b141",
   "metadata": {},
   "outputs": [],
   "source": [
    "df = df.join(df['Comfort_Convenience'].str.get_dummies(\",\").add_prefix(\"Cc_\"))"
   ]
  },
  {
   "cell_type": "code",
   "execution_count": 134,
   "id": "9b70a115",
   "metadata": {},
   "outputs": [
    {
     "data": {
      "text/plain": [
       "(15919, 60)"
      ]
     },
     "execution_count": 134,
     "metadata": {},
     "output_type": "execute_result"
    }
   ],
   "source": [
    "df.shape"
   ]
  },
  {
   "cell_type": "code",
   "execution_count": 135,
   "id": "63b2c40f",
   "metadata": {},
   "outputs": [],
   "source": [
    "df = df.join(df['Entertainment_Media'].str.get_dummies(\", \").add_prefix(\"Ee_\"))"
   ]
  },
  {
   "cell_type": "code",
   "execution_count": 136,
   "id": "e8f43455",
   "metadata": {},
   "outputs": [
    {
     "data": {
      "text/plain": [
       "(15919, 94)"
      ]
     },
     "execution_count": 136,
     "metadata": {},
     "output_type": "execute_result"
    }
   ],
   "source": [
    "df.shape"
   ]
  },
  {
   "cell_type": "code",
   "execution_count": 137,
   "id": "87d45d30",
   "metadata": {},
   "outputs": [],
   "source": [
    "df = df.join(df['Extras'].str.get_dummies(\",\").add_prefix(\"Ex_\"))"
   ]
  },
  {
   "cell_type": "code",
   "execution_count": 138,
   "id": "3d867b30",
   "metadata": {},
   "outputs": [
    {
     "data": {
      "text/plain": [
       "(15919, 111)"
      ]
     },
     "execution_count": 138,
     "metadata": {},
     "output_type": "execute_result"
    }
   ],
   "source": [
    "df.shape"
   ]
  },
  {
   "cell_type": "code",
   "execution_count": 139,
   "id": "606c2fae",
   "metadata": {},
   "outputs": [],
   "source": [
    "df = df.join(df['Safety_Security'].str.get_dummies(\",\").add_prefix(\"Ss_\"))"
   ]
  },
  {
   "cell_type": "code",
   "execution_count": 140,
   "id": "dcee0b33",
   "metadata": {},
   "outputs": [
    {
     "data": {
      "text/plain": [
       "(15919, 140)"
      ]
     },
     "execution_count": 140,
     "metadata": {},
     "output_type": "execute_result"
    }
   ],
   "source": [
    "df.shape"
   ]
  },
  {
   "cell_type": "code",
   "execution_count": 141,
   "id": "1f113ace",
   "metadata": {},
   "outputs": [],
   "source": [
    "df.drop([\"Entertainment_Media\",\"Comfort_Convenience\",\"Extras\",\"Safety_Security\"],axis=1,inplace = True)"
   ]
  },
  {
   "cell_type": "code",
   "execution_count": 142,
   "id": "dbf0e531",
   "metadata": {},
   "outputs": [
    {
     "data": {
      "text/plain": [
       "(15919, 136)"
      ]
     },
     "execution_count": 142,
     "metadata": {},
     "output_type": "execute_result"
    }
   ],
   "source": [
    "df.shape"
   ]
  },
  {
   "cell_type": "code",
   "execution_count": 143,
   "id": "3102bcef",
   "metadata": {},
   "outputs": [],
   "source": [
    "df_final = pd.get_dummies(df)"
   ]
  },
  {
   "cell_type": "code",
   "execution_count": 144,
   "id": "587cb8f9",
   "metadata": {},
   "outputs": [
    {
     "data": {
      "text/plain": [
       "(15919, 221)"
      ]
     },
     "execution_count": 144,
     "metadata": {},
     "output_type": "execute_result"
    }
   ],
   "source": [
    "df_final.shape"
   ]
  },
  {
   "cell_type": "code",
   "execution_count": 146,
   "id": "5719d58a",
   "metadata": {
    "scrolled": true
   },
   "outputs": [
    {
     "data": {
      "text/plain": [
       "['Price',\n",
       " 'hp',\n",
       " 'Age',\n",
       " 'Engine_Disp_cc',\n",
       " 'Cylinders',\n",
       " 'VAT_Deductable',\n",
       " 'Comb_Cons',\n",
       " 'KM',\n",
       " 'Cc_Air conditioning',\n",
       " 'Cc_Air suspension',\n",
       " 'Cc_Armrest',\n",
       " 'Cc_Automatic climate control',\n",
       " 'Cc_Auxiliary heating',\n",
       " 'Cc_Cruise control',\n",
       " 'Cc_Electric Starter',\n",
       " 'Cc_Electric tailgate',\n",
       " 'Cc_Electrical side mirrors',\n",
       " 'Cc_Electrically adjustable seats',\n",
       " 'Cc_Electrically heated windshield',\n",
       " 'Cc_Heads-up display',\n",
       " 'Cc_Heated steering wheel',\n",
       " 'Cc_Hill Holder',\n",
       " 'Cc_Keyless central door lock',\n",
       " 'Cc_Leather seats',\n",
       " 'Cc_Leather steering wheel',\n",
       " 'Cc_Light sensor',\n",
       " 'Cc_Lumbar support',\n",
       " 'Cc_Massage seats',\n",
       " 'Cc_Multi-function steering wheel',\n",
       " 'Cc_Navigation system',\n",
       " 'Cc_Panorama roof',\n",
       " 'Cc_Park Distance Control',\n",
       " 'Cc_Parking assist system camera',\n",
       " 'Cc_Parking assist system self-steering',\n",
       " 'Cc_Parking assist system sensors front',\n",
       " 'Cc_Parking assist system sensors rear',\n",
       " 'Cc_Power windows',\n",
       " 'Cc_Rain sensor',\n",
       " 'Cc_Seat heating',\n",
       " 'Cc_Seat ventilation',\n",
       " 'Cc_Split rear seats',\n",
       " 'Cc_Start-stop system',\n",
       " 'Cc_Sunroof',\n",
       " 'Cc_Tinted windows',\n",
       " 'Cc_Wind deflector',\n",
       " 'Cc_Windshield',\n",
       " \"Ee_'CD player'\",\n",
       " \"Ee_'CD player']\",\n",
       " \"Ee_'Digital radio'\",\n",
       " \"Ee_'Digital radio']\",\n",
       " \"Ee_'Hands-free equipment'\",\n",
       " \"Ee_'Hands-free equipment']\",\n",
       " \"Ee_'MP3'\",\n",
       " \"Ee_'MP3']\",\n",
       " \"Ee_'On-board computer'\",\n",
       " \"Ee_'On-board computer']\",\n",
       " \"Ee_'Radio'\",\n",
       " \"Ee_'Radio']\",\n",
       " \"Ee_'Sound system'\",\n",
       " \"Ee_'Sound system']\",\n",
       " \"Ee_'Television'\",\n",
       " \"Ee_'Television']\",\n",
       " \"Ee_'USB']\",\n",
       " \"Ee_['Bluetooth'\",\n",
       " \"Ee_['Bluetooth']\",\n",
       " \"Ee_['CD player'\",\n",
       " \"Ee_['CD player']\",\n",
       " \"Ee_['Digital radio'\",\n",
       " \"Ee_['Digital radio']\",\n",
       " \"Ee_['Hands-free equipment'\",\n",
       " \"Ee_['Hands-free equipment']\",\n",
       " \"Ee_['MP3'\",\n",
       " \"Ee_['MP3']\",\n",
       " \"Ee_['On-board computer'\",\n",
       " \"Ee_['On-board computer']\",\n",
       " \"Ee_['Radio'\",\n",
       " \"Ee_['Radio']\",\n",
       " \"Ee_['Sound system'\",\n",
       " \"Ee_['Sound system']\",\n",
       " \"Ee_['USB']\",\n",
       " 'Ex_Alloy wheels',\n",
       " 'Ex_Cab or rented Car',\n",
       " 'Ex_Catalytic Converter',\n",
       " 'Ex_Handicapped enabled',\n",
       " 'Ex_Right hand drive',\n",
       " 'Ex_Roof rack',\n",
       " 'Ex_Shift paddles',\n",
       " 'Ex_Ski bag',\n",
       " 'Ex_Sliding door',\n",
       " 'Ex_Sport package',\n",
       " 'Ex_Sport seats',\n",
       " 'Ex_Sport suspension',\n",
       " 'Ex_Touch screen',\n",
       " 'Ex_Trailer hitch',\n",
       " 'Ex_Tuned car',\n",
       " 'Ex_Voice Control',\n",
       " 'Ex_Winter tyres',\n",
       " 'Ss_ABS',\n",
       " 'Ss_Adaptive Cruise Control',\n",
       " 'Ss_Adaptive headlights',\n",
       " 'Ss_Alarm system',\n",
       " 'Ss_Blind spot monitor',\n",
       " 'Ss_Central door lock',\n",
       " 'Ss_Central door lock with remote control',\n",
       " 'Ss_Daytime running lights',\n",
       " 'Ss_Driver drowsiness detection',\n",
       " 'Ss_Driver-side airbag',\n",
       " 'Ss_Electronic stability control',\n",
       " 'Ss_Emergency brake assistant',\n",
       " 'Ss_Emergency system',\n",
       " 'Ss_Fog lights',\n",
       " 'Ss_Head airbag',\n",
       " 'Ss_Immobilizer',\n",
       " 'Ss_Isofix',\n",
       " 'Ss_LED Daytime Running Lights',\n",
       " 'Ss_LED Headlights',\n",
       " 'Ss_Lane departure warning system',\n",
       " 'Ss_Night view assist',\n",
       " 'Ss_Passenger-side airbag',\n",
       " 'Ss_Power steering',\n",
       " 'Ss_Rear airbag',\n",
       " 'Ss_Side airbag',\n",
       " 'Ss_Tire pressure monitoring system',\n",
       " 'Ss_Traction control',\n",
       " 'Ss_Traffic sign recognition',\n",
       " 'Ss_Xenon headlights',\n",
       " 'Type_Demonstration',\n",
       " \"Type_Employee's car\",\n",
       " 'Type_New',\n",
       " 'Type_Pre-registered',\n",
       " 'Type_Used',\n",
       " 'Brand_Audi',\n",
       " 'Brand_Opel',\n",
       " 'Brand_Renault',\n",
       " 'Model_A1',\n",
       " 'Model_A2',\n",
       " 'Model_A3',\n",
       " 'Model_Astra',\n",
       " 'Model_Clio',\n",
       " 'Model_Corsa',\n",
       " 'Model_Duster',\n",
       " 'Model_Espace',\n",
       " 'Model_Insignia',\n",
       " 'Gearing_Type_Automatic',\n",
       " 'Gearing_Type_Manual',\n",
       " 'Gearing_Type_Semi-automatic',\n",
       " 'Fuel_Benzine',\n",
       " 'Fuel_CNG/LPG',\n",
       " 'Fuel_Diesel',\n",
       " 'Fuel_Electric',\n",
       " 'Body_Type_Compact',\n",
       " 'Body_Type_Convertible',\n",
       " 'Body_Type_Coupe',\n",
       " 'Body_Type_Off-Road',\n",
       " 'Body_Type_Sedan',\n",
       " 'Body_Type_Station wagon',\n",
       " 'Body_Type_Transporter',\n",
       " 'Body_Type_Van',\n",
       " 'Inspection_New_No',\n",
       " 'Inspection_New_Yes',\n",
       " 'Paint_Type_Metallic',\n",
       " 'Paint_Type_Perl effect',\n",
       " 'Paint_Type_Uni/basic',\n",
       " 'Uphol_Material_Cloth',\n",
       " 'Uphol_Material_Full leather',\n",
       " 'Uphol_Material_Part leather',\n",
       " 'Uphol_Material_Velour',\n",
       " 'Uphol_Material_alcantara',\n",
       " 'Upholstery_Beige,Cloth',\n",
       " 'Upholstery_Beige,Full leather',\n",
       " 'Upholstery_Beige,Part leather',\n",
       " 'Upholstery_Black,Cloth',\n",
       " 'Upholstery_Black,Full leather',\n",
       " 'Upholstery_Black,Other',\n",
       " 'Upholstery_Black,Part leather',\n",
       " 'Upholstery_Black,Velour',\n",
       " 'Upholstery_Black,alcantara',\n",
       " 'Upholstery_Blue,Cloth',\n",
       " 'Upholstery_Blue,Full leather',\n",
       " 'Upholstery_Brown,Cloth',\n",
       " 'Upholstery_Brown,Full leather',\n",
       " 'Upholstery_Brown,Other',\n",
       " 'Upholstery_Brown,Part leather',\n",
       " 'Upholstery_Cloth,Cloth',\n",
       " 'Upholstery_Cloth,Full leather',\n",
       " 'Upholstery_Cloth,Other',\n",
       " 'Upholstery_Cloth,Part leather',\n",
       " 'Upholstery_Cloth,Velour',\n",
       " 'Upholstery_Cloth,alcantara',\n",
       " 'Upholstery_Full leather,Cloth',\n",
       " 'Upholstery_Full leather,Full leather',\n",
       " 'Upholstery_Full leather,Other',\n",
       " 'Upholstery_Full leather,Part leather',\n",
       " 'Upholstery_Grey,Cloth',\n",
       " 'Upholstery_Grey,Full leather',\n",
       " 'Upholstery_Grey,Other',\n",
       " 'Upholstery_Grey,Part leather',\n",
       " 'Upholstery_Grey,Velour',\n",
       " 'Upholstery_Grey,alcantara',\n",
       " 'Upholstery_Orange,Cloth',\n",
       " 'Upholstery_Other,Cloth',\n",
       " 'Upholstery_Other,Full leather',\n",
       " 'Upholstery_Other,Other',\n",
       " 'Upholstery_Other,Part leather',\n",
       " 'Upholstery_Other,alcantara',\n",
       " 'Upholstery_Part leather,Cloth',\n",
       " 'Upholstery_Part leather,Full leather',\n",
       " 'Upholstery_Part leather,Other',\n",
       " 'Upholstery_Part leather,Part leather',\n",
       " 'Upholstery_Red,Cloth',\n",
       " 'Upholstery_Red,Full leather',\n",
       " 'Upholstery_Red,Part leather',\n",
       " 'Upholstery_Velour,Cloth',\n",
       " 'Upholstery_Velour,Part leather',\n",
       " 'Upholstery_Velour,Velour',\n",
       " 'Upholstery_White,Cloth',\n",
       " 'Upholstery_White,Full leather',\n",
       " 'Upholstery_White,Part leather',\n",
       " 'Upholstery_Yellow,Other',\n",
       " 'Upholstery_alcantara,Cloth',\n",
       " 'Upholstery_alcantara,Full leather']"
      ]
     },
     "execution_count": 146,
     "metadata": {},
     "output_type": "execute_result"
    }
   ],
   "source": [
    "list(df_final.columns)"
   ]
  },
  {
   "cell_type": "code",
   "execution_count": 147,
   "id": "2bc59c1c",
   "metadata": {},
   "outputs": [],
   "source": [
    "df_final.to_csv('final_10_done_dummy.csv', index=False)"
   ]
  }
 ],
 "metadata": {
  "kernelspec": {
   "display_name": "Python 3",
   "language": "python",
   "name": "python3"
  },
  "language_info": {
   "codemirror_mode": {
    "name": "ipython",
    "version": 3
   },
   "file_extension": ".py",
   "mimetype": "text/x-python",
   "name": "python",
   "nbconvert_exporter": "python",
   "pygments_lexer": "ipython3",
   "version": "3.8.8"
  }
 },
 "nbformat": 4,
 "nbformat_minor": 5
}
