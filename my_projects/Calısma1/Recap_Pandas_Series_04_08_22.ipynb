{
  "nbformat": 4,
  "nbformat_minor": 0,
  "metadata": {
    "colab": {
      "name": "Recap_Pandas_Series_04_08_22.ipynb",
      "provenance": [],
      "collapsed_sections": []
    },
    "kernelspec": {
      "name": "python3",
      "display_name": "Python 3"
    },
    "language_info": {
      "name": "python"
    }
  },
  "cells": [
    {
      "cell_type": "code",
      "execution_count": 18,
      "metadata": {
        "id": "4Oswgrps8TUi"
      },
      "outputs": [],
      "source": [
        "import numpy as np\n",
        "import pandas as pd"
      ]
    },
    {
      "cell_type": "code",
      "source": [
        "labels = ['a', 'b', 'c']\n",
        "my_list = [10, 20, 30]\n",
        "arr = np.array([10, 20, 30])\n",
        "d = {'a': 10, 'b': 20, 'c': 30}"
      ],
      "metadata": {
        "id": "_kq7Yqeb8e7k"
      },
      "execution_count": 19,
      "outputs": []
    },
    {
      "cell_type": "markdown",
      "source": [
        "**Pandas Series Oluşturma**"
      ],
      "metadata": {
        "id": "_rRtJcR3C5Ls"
      }
    },
    {
      "cell_type": "code",
      "source": [
        "pd.Series(my_list) # list kullanarak Pandas Series oluşturma"
      ],
      "metadata": {
        "colab": {
          "base_uri": "https://localhost:8080/"
        },
        "id": "qWvxTcRn8slk",
        "outputId": "39680550-cb72-4d8e-dbb0-f31ad23a12be"
      },
      "execution_count": 20,
      "outputs": [
        {
          "output_type": "execute_result",
          "data": {
            "text/plain": [
              "0    10\n",
              "1    20\n",
              "2    30\n",
              "dtype: int64"
            ]
          },
          "metadata": {},
          "execution_count": 20
        }
      ]
    },
    {
      "cell_type": "code",
      "source": [
        "pd.Series([21,48,11,27,42,33]) # liste kullanarak Pandas Series oluşturma. List' i direk fonksiyon içinede yazabiliriz."
      ],
      "metadata": {
        "colab": {
          "base_uri": "https://localhost:8080/"
        },
        "id": "vRTAN8xd86OE",
        "outputId": "0c23b7ba-af8f-46a1-860c-10392c796d0e"
      },
      "execution_count": 21,
      "outputs": [
        {
          "output_type": "execute_result",
          "data": {
            "text/plain": [
              "0    21\n",
              "1    48\n",
              "2    11\n",
              "3    27\n",
              "4    42\n",
              "5    33\n",
              "dtype: int64"
            ]
          },
          "metadata": {},
          "execution_count": 21
        }
      ]
    },
    {
      "cell_type": "code",
      "source": [
        "pd.Series(data = arr, index = labels) # numpy array kullanarak Pandas series oluşturma"
      ],
      "metadata": {
        "colab": {
          "base_uri": "https://localhost:8080/"
        },
        "id": "Lie5OTvZ9Otc",
        "outputId": "01b8a8c5-27f1-4b15-fcde-2b81a76e74f7"
      },
      "execution_count": 22,
      "outputs": [
        {
          "output_type": "execute_result",
          "data": {
            "text/plain": [
              "a    10\n",
              "b    20\n",
              "c    30\n",
              "dtype: int64"
            ]
          },
          "metadata": {},
          "execution_count": 22
        }
      ]
    },
    {
      "cell_type": "code",
      "source": [
        "d"
      ],
      "metadata": {
        "colab": {
          "base_uri": "https://localhost:8080/"
        },
        "id": "XNqUb20i9eYU",
        "outputId": "462ed053-25e8-41c2-bc84-82bd4b606983"
      },
      "execution_count": 23,
      "outputs": [
        {
          "output_type": "execute_result",
          "data": {
            "text/plain": [
              "{'a': 10, 'b': 20, 'c': 30}"
            ]
          },
          "metadata": {},
          "execution_count": 23
        }
      ]
    },
    {
      "cell_type": "code",
      "source": [
        "pd.Series(d) # Dictionaries kullanarak Pandas series oluşturma"
      ],
      "metadata": {
        "colab": {
          "base_uri": "https://localhost:8080/"
        },
        "id": "1nsv_aGz9cpO",
        "outputId": "01f08ea2-cc6a-4873-df95-e617055c9f2b"
      },
      "execution_count": 24,
      "outputs": [
        {
          "output_type": "execute_result",
          "data": {
            "text/plain": [
              "a    10\n",
              "b    20\n",
              "c    30\n",
              "dtype: int64"
            ]
          },
          "metadata": {},
          "execution_count": 24
        }
      ]
    },
    {
      "cell_type": "code",
      "source": [
        "x = (1,2,3,4,5,8,11,25) # Tuple kullanarak Pandas series oluşturma\n",
        "pd.Series(x)"
      ],
      "metadata": {
        "colab": {
          "base_uri": "https://localhost:8080/"
        },
        "id": "KHi_wIem9n8U",
        "outputId": "c61ece7d-b924-4106-acaf-8712ed02cc50"
      },
      "execution_count": 25,
      "outputs": [
        {
          "output_type": "execute_result",
          "data": {
            "text/plain": [
              "0     1\n",
              "1     2\n",
              "2     3\n",
              "3     4\n",
              "4     5\n",
              "5     8\n",
              "6    11\n",
              "7    25\n",
              "dtype: int64"
            ]
          },
          "metadata": {},
          "execution_count": 25
        }
      ]
    },
    {
      "cell_type": "code",
      "source": [
        "pd.Series(data=x, index = range(len(x))) # Pandas index'lerini verimizin sayısına göre yeniden oluşturma"
      ],
      "metadata": {
        "colab": {
          "base_uri": "https://localhost:8080/"
        },
        "id": "MchoRT_n96A1",
        "outputId": "302f7a2c-024e-4e11-bbd6-7c776171bbef"
      },
      "execution_count": 26,
      "outputs": [
        {
          "output_type": "execute_result",
          "data": {
            "text/plain": [
              "0     1\n",
              "1     2\n",
              "2     3\n",
              "3     4\n",
              "4     5\n",
              "5     8\n",
              "6    11\n",
              "7    25\n",
              "dtype: int64"
            ]
          },
          "metadata": {},
          "execution_count": 26
        }
      ]
    },
    {
      "cell_type": "code",
      "source": [
        "pd.Series(data = \"tom\") # veri ismini elle yazarak p.Series oluşturma"
      ],
      "metadata": {
        "colab": {
          "base_uri": "https://localhost:8080/"
        },
        "id": "9NmWHS1T-k3F",
        "outputId": "5e294e04-b1c8-48da-ac74-edbf01ef19ad"
      },
      "execution_count": 27,
      "outputs": [
        {
          "output_type": "execute_result",
          "data": {
            "text/plain": [
              "0    tom\n",
              "dtype: object"
            ]
          },
          "metadata": {},
          "execution_count": 27
        }
      ]
    },
    {
      "cell_type": "code",
      "source": [
        "pd.Series(data = \"mu kim\", index =range(3)) # veri ismini elle yazarak p.Series oluşturma"
      ],
      "metadata": {
        "colab": {
          "base_uri": "https://localhost:8080/"
        },
        "id": "JdpKoF9--zWE",
        "outputId": "e82f4940-0816-492d-a715-5f56a656187c"
      },
      "execution_count": 28,
      "outputs": [
        {
          "output_type": "execute_result",
          "data": {
            "text/plain": [
              "0    mu kim\n",
              "1    mu kim\n",
              "2    mu kim\n",
              "dtype: object"
            ]
          },
          "metadata": {},
          "execution_count": 28
        }
      ]
    },
    {
      "cell_type": "code",
      "source": [
        "ser = pd.Series([set, list, dict]) # Pandas series içerisinde fonkisyonda tutabililyor.\n",
        "ser"
      ],
      "metadata": {
        "colab": {
          "base_uri": "https://localhost:8080/"
        },
        "id": "QqDr9V4DAmJl",
        "outputId": "a3282e40-ae3e-4978-e583-4df3df8eedb5"
      },
      "execution_count": 29,
      "outputs": [
        {
          "output_type": "execute_result",
          "data": {
            "text/plain": [
              "0     <class 'set'>\n",
              "1    <class 'list'>\n",
              "2    <class 'dict'>\n",
              "dtype: object"
            ]
          },
          "metadata": {},
          "execution_count": 29
        }
      ]
    },
    {
      "cell_type": "code",
      "source": [
        "ser[0]([0,1,1,2,5,5,3,4,8,9]) # Pandas series 'in içindeki set(küme) fonksiyonunu çalıştırmış olduk. (Set'lerde aynı değere sahip value'ler tekrarlamaz.) Series içinde bir fnoksiyon çalışırken \"()\" ihtiyaç duymuyor."
      ],
      "metadata": {
        "colab": {
          "base_uri": "https://localhost:8080/"
        },
        "id": "WpltmEUdAy99",
        "outputId": "2f23b1ab-874a-4910-f409-0c933f1cc02d"
      },
      "execution_count": 31,
      "outputs": [
        {
          "output_type": "execute_result",
          "data": {
            "text/plain": [
              "{0, 1, 2, 3, 4, 5, 8, 9}"
            ]
          },
          "metadata": {},
          "execution_count": 31
        }
      ]
    },
    {
      "cell_type": "code",
      "source": [
        "ser = pd.Series([set, list, dict]) # series içine eklediğimiz print fonksiyonu çalıştırmış olduk. \n",
        "pd.Series([sum, print,len])[1](\"Hello world\")"
      ],
      "metadata": {
        "colab": {
          "base_uri": "https://localhost:8080/"
        },
        "id": "Yto7btHCCYd-",
        "outputId": "94b227dc-971f-4117-fb4d-7b9429e6db6c"
      },
      "execution_count": 32,
      "outputs": [
        {
          "output_type": "stream",
          "name": "stdout",
          "text": [
            "Hello world\n"
          ]
        }
      ]
    },
    {
      "cell_type": "code",
      "source": [
        "mixdata = [\"Edwin\", 2, True,10.2] # Pandas tüm data tiplerini koruyarak tutar.\n",
        "ser = pd.Series(mixdata)\n",
        "ser"
      ],
      "metadata": {
        "colab": {
          "base_uri": "https://localhost:8080/"
        },
        "id": "xbLFrvHvC0VF",
        "outputId": "d30086e0-2c6e-43e4-acca-50e98b5dc274"
      },
      "execution_count": 33,
      "outputs": [
        {
          "output_type": "execute_result",
          "data": {
            "text/plain": [
              "0    Edwin\n",
              "1        2\n",
              "2     True\n",
              "3     10.2\n",
              "dtype: object"
            ]
          },
          "metadata": {},
          "execution_count": 33
        }
      ]
    },
    {
      "cell_type": "markdown",
      "source": [
        "**Pandas Series Attributes & Methods**"
      ],
      "metadata": {
        "id": "i8P6UHlPDC_e"
      }
    },
    {
      "cell_type": "code",
      "source": [
        "ser = pd.Series(np.random.randint(0,100,7)) # random değerlerden pandas series oluşturma\n",
        "ser"
      ],
      "metadata": {
        "colab": {
          "base_uri": "https://localhost:8080/"
        },
        "id": "XX7QuuXuC-39",
        "outputId": "4d911869-6d3f-4eaf-ddea-6f5770561290"
      },
      "execution_count": 42,
      "outputs": [
        {
          "output_type": "execute_result",
          "data": {
            "text/plain": [
              "0    58\n",
              "1    10\n",
              "2    10\n",
              "3    34\n",
              "4    38\n",
              "5    22\n",
              "6     8\n",
              "dtype: int64"
            ]
          },
          "metadata": {},
          "execution_count": 42
        }
      ]
    },
    {
      "cell_type": "code",
      "source": [
        "len(ser) # Ps(Pandas Series) uzunluğu"
      ],
      "metadata": {
        "colab": {
          "base_uri": "https://localhost:8080/"
        },
        "id": "MRV_yShkDU32",
        "outputId": "9753b98f-7a5a-4094-9c80-9cad8efce593"
      },
      "execution_count": 43,
      "outputs": [
        {
          "output_type": "execute_result",
          "data": {
            "text/plain": [
              "7"
            ]
          },
          "metadata": {},
          "execution_count": 43
        }
      ]
    },
    {
      "cell_type": "code",
      "source": [
        "ser.dtype # Ps veri tipi"
      ],
      "metadata": {
        "colab": {
          "base_uri": "https://localhost:8080/"
        },
        "id": "dP-jXVgxDhYO",
        "outputId": "8b46ebe3-9401-419c-fe98-2af730381e0f"
      },
      "execution_count": 44,
      "outputs": [
        {
          "output_type": "execute_result",
          "data": {
            "text/plain": [
              "dtype('int64')"
            ]
          },
          "metadata": {},
          "execution_count": 44
        }
      ]
    },
    {
      "cell_type": "code",
      "source": [
        "ser.index # Ps indexler\n",
        "list(ser.index) # indexleri obje olarak tuttuğu için görebilmek için list fonksiyonunu kullandık.(for döngüsüde kullanabiliriz)"
      ],
      "metadata": {
        "colab": {
          "base_uri": "https://localhost:8080/"
        },
        "id": "RyegqEZUDtjv",
        "outputId": "84e3e62b-77d7-44d8-e6a4-5c5fa0b7551c"
      },
      "execution_count": 45,
      "outputs": [
        {
          "output_type": "execute_result",
          "data": {
            "text/plain": [
              "[0, 1, 2, 3, 4, 5, 6]"
            ]
          },
          "metadata": {},
          "execution_count": 45
        }
      ]
    },
    {
      "cell_type": "code",
      "source": [
        "ser_label = pd.Series(data = [121, 200, 150, 99], index = [\"terry\", \"micheal\", \"orion\", \"jason\"]) # veri ve index'leri girerek Ps oluşturma\n",
        "ser_label"
      ],
      "metadata": {
        "colab": {
          "base_uri": "https://localhost:8080/"
        },
        "id": "hXRX-EnZEKf3",
        "outputId": "6dc7fbb8-13c3-407f-fa35-dcc8fb8432cb"
      },
      "execution_count": 46,
      "outputs": [
        {
          "output_type": "execute_result",
          "data": {
            "text/plain": [
              "terry      121\n",
              "micheal    200\n",
              "orion      150\n",
              "jason       99\n",
              "dtype: int64"
            ]
          },
          "metadata": {},
          "execution_count": 46
        }
      ]
    },
    {
      "cell_type": "code",
      "source": [
        "ser.values # Ps values"
      ],
      "metadata": {
        "colab": {
          "base_uri": "https://localhost:8080/"
        },
        "id": "M0HYV0sfEUdv",
        "outputId": "08d97fb0-db15-4c75-ffed-77aea7013500"
      },
      "execution_count": 47,
      "outputs": [
        {
          "output_type": "execute_result",
          "data": {
            "text/plain": [
              "array([58, 10, 10, 34, 38, 22,  8])"
            ]
          },
          "metadata": {},
          "execution_count": 47
        }
      ]
    },
    {
      "cell_type": "code",
      "source": [
        "ser.items # Ps index ve values sadece görüntüler"
      ],
      "metadata": {
        "colab": {
          "base_uri": "https://localhost:8080/"
        },
        "id": "mZJn6xWHEkG2",
        "outputId": "840d6a08-0321-49fc-ec39-2e1d9f6678ad"
      },
      "execution_count": 48,
      "outputs": [
        {
          "output_type": "execute_result",
          "data": {
            "text/plain": [
              "<bound method Series.items of 0    58\n",
              "1    10\n",
              "2    10\n",
              "3    34\n",
              "4    38\n",
              "5    22\n",
              "6     8\n",
              "dtype: int64>"
            ]
          },
          "metadata": {},
          "execution_count": 48
        }
      ]
    },
    {
      "cell_type": "code",
      "source": [
        "ser.items() # indexleri kullanabilmek için items()  indexleri obje olarak tuttuğu için kullanabilmek ve görebilmek için list ya da for döngüsü kullanabiliriz."
      ],
      "metadata": {
        "colab": {
          "base_uri": "https://localhost:8080/"
        },
        "id": "B0KH5qT7FLkm",
        "outputId": "c803a5d8-a759-4af4-e6ec-948358c20ce5"
      },
      "execution_count": 49,
      "outputs": [
        {
          "output_type": "execute_result",
          "data": {
            "text/plain": [
              "<zip at 0x7f2203cdb140>"
            ]
          },
          "metadata": {},
          "execution_count": 49
        }
      ]
    },
    {
      "cell_type": "code",
      "source": [
        "list(ser.items()) # list fonksiyou ile items() method'u oluşan değerleri görebiliyoruz. index ve yanında değeri olan tuple şeklinde"
      ],
      "metadata": {
        "colab": {
          "base_uri": "https://localhost:8080/"
        },
        "id": "VVwhXeZ1FLdG",
        "outputId": "69b5d183-43dd-42dd-fd11-48b0585997e2"
      },
      "execution_count": 50,
      "outputs": [
        {
          "output_type": "execute_result",
          "data": {
            "text/plain": [
              "[(0, 58), (1, 10), (2, 10), (3, 34), (4, 38), (5, 22), (6, 8)]"
            ]
          },
          "metadata": {},
          "execution_count": 50
        }
      ]
    },
    {
      "cell_type": "code",
      "source": [
        "ser.head() # Ps ilk beş değeri görütüleme.. head() içine yazılan değer kadar gösterir default değer = 5"
      ],
      "metadata": {
        "id": "YbZrsJEvGNnw"
      },
      "execution_count": null,
      "outputs": []
    },
    {
      "cell_type": "code",
      "source": [
        "ser.tail() # Ps son beş değeri görütüleme.. tail() içine yazılan değer kadar gösterir default değer = 5"
      ],
      "metadata": {
        "id": "DjjWY2CXGdN3"
      },
      "execution_count": null,
      "outputs": []
    },
    {
      "cell_type": "code",
      "source": [
        "ser.sample(3) # Ps içinden rastgele değerler görüntüleme  "
      ],
      "metadata": {
        "id": "i2aXFHYGGodX"
      },
      "execution_count": null,
      "outputs": []
    },
    {
      "cell_type": "code",
      "source": [
        "ser.sort_index(ascending =True).head() # Ps index'leri sıralama"
      ],
      "metadata": {
        "id": "ztPzuo3CG3JA"
      },
      "execution_count": null,
      "outputs": []
    },
    {
      "cell_type": "code",
      "source": [
        "ser"
      ],
      "metadata": {
        "colab": {
          "base_uri": "https://localhost:8080/"
        },
        "id": "B1SncIBZHADw",
        "outputId": "fb621757-b8bf-4745-907a-a20c951064f2"
      },
      "execution_count": 51,
      "outputs": [
        {
          "output_type": "execute_result",
          "data": {
            "text/plain": [
              "0    58\n",
              "1    10\n",
              "2    10\n",
              "3    34\n",
              "4    38\n",
              "5    22\n",
              "6     8\n",
              "dtype: int64"
            ]
          },
          "metadata": {},
          "execution_count": 51
        }
      ]
    },
    {
      "cell_type": "code",
      "source": [
        "ser.sort_values(ascending= False).head(3) # Ps index'leri sıralama"
      ],
      "metadata": {
        "colab": {
          "base_uri": "https://localhost:8080/"
        },
        "id": "B3LpuknXHCyH",
        "outputId": "a145b0a6-04aa-4c14-ac96-057db552e564"
      },
      "execution_count": 52,
      "outputs": [
        {
          "output_type": "execute_result",
          "data": {
            "text/plain": [
              "0    58\n",
              "4    38\n",
              "3    34\n",
              "dtype: int64"
            ]
          },
          "metadata": {},
          "execution_count": 52
        }
      ]
    },
    {
      "cell_type": "code",
      "source": [
        "ser1 = pd.Series([1, 2, 3, 4], index = ['USA', 'Germany','RF', 'Japan'])\n",
        "ser2 = pd.Series([1, 2, 5, 4, 6], index = ['USA', 'Germany','Italy', 'Japan', 'Spain'])\n",
        "ser1"
      ],
      "metadata": {
        "colab": {
          "base_uri": "https://localhost:8080/"
        },
        "id": "1ycnnqwgHLBA",
        "outputId": "8d5e7fc9-fe11-4c67-c741-ee8eaf9ad014"
      },
      "execution_count": 53,
      "outputs": [
        {
          "output_type": "execute_result",
          "data": {
            "text/plain": [
              "USA        1\n",
              "Germany    2\n",
              "RF         3\n",
              "Japan      4\n",
              "dtype: int64"
            ]
          },
          "metadata": {},
          "execution_count": 53
        }
      ]
    },
    {
      "cell_type": "code",
      "source": [
        "ser1.sort_values() # Ps values'leri sıralama"
      ],
      "metadata": {
        "colab": {
          "base_uri": "https://localhost:8080/"
        },
        "id": "Z3P2UtKOHVJo",
        "outputId": "9c38fbb0-b7b0-4194-f6bb-9e8baebd887c"
      },
      "execution_count": 54,
      "outputs": [
        {
          "output_type": "execute_result",
          "data": {
            "text/plain": [
              "USA        1\n",
              "Germany    2\n",
              "RF         3\n",
              "Japan      4\n",
              "dtype: int64"
            ]
          },
          "metadata": {},
          "execution_count": 54
        }
      ]
    },
    {
      "cell_type": "markdown",
      "source": [
        "**Ps select**"
      ],
      "metadata": {
        "id": "kTW-ZNCyHd-P"
      }
    },
    {
      "cell_type": "code",
      "source": [
        "ser1[0] # python ile aynı şekilde seçim yapma"
      ],
      "metadata": {
        "colab": {
          "base_uri": "https://localhost:8080/"
        },
        "id": "CwDfae5OHhSX",
        "outputId": "8e764288-9fe6-47f6-e836-c1018c68528d"
      },
      "execution_count": 55,
      "outputs": [
        {
          "output_type": "execute_result",
          "data": {
            "text/plain": [
              "1"
            ]
          },
          "metadata": {},
          "execution_count": 55
        }
      ]
    },
    {
      "cell_type": "code",
      "source": [
        "ser1.index.get_loc(\"Japan\") # index (label) ile seçim"
      ],
      "metadata": {
        "colab": {
          "base_uri": "https://localhost:8080/"
        },
        "id": "KRFN5zz6HdHv",
        "outputId": "39f0fb50-7fe3-4148-cbe5-3a0d4fce040c"
      },
      "execution_count": 56,
      "outputs": [
        {
          "output_type": "execute_result",
          "data": {
            "text/plain": [
              "3"
            ]
          },
          "metadata": {},
          "execution_count": 56
        }
      ]
    },
    {
      "cell_type": "markdown",
      "source": [
        "**Ps slicing**"
      ],
      "metadata": {
        "id": "hSnJrAAOIQGR"
      }
    },
    {
      "cell_type": "code",
      "source": [
        "ser2[2:] # python ile aynı şekilde "
      ],
      "metadata": {
        "colab": {
          "base_uri": "https://localhost:8080/"
        },
        "id": "rKK-AKbMIKBI",
        "outputId": "d747f3d8-a8d0-4782-a703-13bc41712522"
      },
      "execution_count": 58,
      "outputs": [
        {
          "output_type": "execute_result",
          "data": {
            "text/plain": [
              "Italy    5\n",
              "Japan    4\n",
              "Spain    6\n",
              "dtype: int64"
            ]
          },
          "metadata": {},
          "execution_count": 58
        }
      ]
    },
    {
      "cell_type": "code",
      "source": [
        "ser2[::-1] # python ile aynı şekilde "
      ],
      "metadata": {
        "colab": {
          "base_uri": "https://localhost:8080/"
        },
        "id": "AEEww3GHIcU3",
        "outputId": "8333acd5-b565-4ac7-c10a-d207192cbf3b"
      },
      "execution_count": 59,
      "outputs": [
        {
          "output_type": "execute_result",
          "data": {
            "text/plain": [
              "Spain      6\n",
              "Japan      4\n",
              "Italy      5\n",
              "Germany    2\n",
              "USA        1\n",
              "dtype: int64"
            ]
          },
          "metadata": {},
          "execution_count": 59
        }
      ]
    },
    {
      "cell_type": "code",
      "source": [
        "ser[[0,2]] # iki ayrı index seçme"
      ],
      "metadata": {
        "colab": {
          "base_uri": "https://localhost:8080/"
        },
        "id": "hK_E0jRxKniZ",
        "outputId": "667af7fc-1f05-48cc-d179-0ac2e35d3f8d"
      },
      "execution_count": 63,
      "outputs": [
        {
          "output_type": "execute_result",
          "data": {
            "text/plain": [
              "terry    121\n",
              "orion    150\n",
              "dtype: int64"
            ]
          },
          "metadata": {},
          "execution_count": 63
        }
      ]
    },
    {
      "cell_type": "code",
      "source": [
        "ser[0:3] # aralık vererek seçme"
      ],
      "metadata": {
        "colab": {
          "base_uri": "https://localhost:8080/"
        },
        "id": "6eGH52mfKtS5",
        "outputId": "9707e1a6-6f63-4f02-fa91-2e7633abc39e"
      },
      "execution_count": 64,
      "outputs": [
        {
          "output_type": "execute_result",
          "data": {
            "text/plain": [
              "terry      121\n",
              "micheal    200\n",
              "orion      150\n",
              "dtype: int64"
            ]
          },
          "metadata": {},
          "execution_count": 64
        }
      ]
    },
    {
      "cell_type": "code",
      "source": [
        "ser[\"terry\" : \"orion\"] # son index dahil getirdi sayısal indexlerde son index dahil olmaz label indexlerde dahil olur"
      ],
      "metadata": {
        "colab": {
          "base_uri": "https://localhost:8080/"
        },
        "id": "2imlN08iK8nz",
        "outputId": "200305fc-f94c-4bfb-c1e0-c2a35a54e384"
      },
      "execution_count": 65,
      "outputs": [
        {
          "output_type": "execute_result",
          "data": {
            "text/plain": [
              "terry      121\n",
              "micheal    200\n",
              "orion      150\n",
              "dtype: int64"
            ]
          },
          "metadata": {},
          "execution_count": 65
        }
      ]
    },
    {
      "cell_type": "code",
      "source": [
        "ser"
      ],
      "metadata": {
        "colab": {
          "base_uri": "https://localhost:8080/"
        },
        "id": "_vVSMg0eLiYq",
        "outputId": "7960b778-a031-4f8d-a41d-55ce3f9afec3"
      },
      "execution_count": 67,
      "outputs": [
        {
          "output_type": "execute_result",
          "data": {
            "text/plain": [
              "terry      121\n",
              "micheal    200\n",
              "orion      150\n",
              "jason       99\n",
              "dtype: int64"
            ]
          },
          "metadata": {},
          "execution_count": 67
        }
      ]
    },
    {
      "cell_type": "code",
      "source": [
        "ser < 100 # value'ları 100'den küçük olanları True olmayaları False gösterir."
      ],
      "metadata": {
        "colab": {
          "base_uri": "https://localhost:8080/"
        },
        "id": "K56y45nXLHOp",
        "outputId": "e970e34d-406a-4682-8468-8ee760935e7d"
      },
      "execution_count": 66,
      "outputs": [
        {
          "output_type": "execute_result",
          "data": {
            "text/plain": [
              "terry      False\n",
              "micheal    False\n",
              "orion      False\n",
              "jason       True\n",
              "dtype: bool"
            ]
          },
          "metadata": {},
          "execution_count": 66
        }
      ]
    },
    {
      "cell_type": "code",
      "source": [
        "ser[ser < 100] #  bu şekilde (ser[]) true olan satır ya da satırları getirir"
      ],
      "metadata": {
        "colab": {
          "base_uri": "https://localhost:8080/"
        },
        "id": "gDJ93bC5L7vp",
        "outputId": "f2f90795-b0f2-41a3-aee9-d85ca9c63561"
      },
      "execution_count": 68,
      "outputs": [
        {
          "output_type": "execute_result",
          "data": {
            "text/plain": [
              "jason    99\n",
              "dtype: int64"
            ]
          },
          "metadata": {},
          "execution_count": 68
        }
      ]
    },
    {
      "cell_type": "code",
      "source": [
        "ser[ser < 100] = 100 # jason değeri 99'du. 100 olarak değiştirdik\n",
        "ser"
      ],
      "metadata": {
        "colab": {
          "base_uri": "https://localhost:8080/"
        },
        "id": "ZtdV4fdAMITx",
        "outputId": "08c4657d-cba9-4d99-cb4a-986ed14005b2"
      },
      "execution_count": 70,
      "outputs": [
        {
          "output_type": "execute_result",
          "data": {
            "text/plain": [
              "terry      121\n",
              "micheal    200\n",
              "orion      150\n",
              "jason      100\n",
              "dtype: int64"
            ]
          },
          "metadata": {},
          "execution_count": 70
        }
      ]
    },
    {
      "cell_type": "code",
      "source": [
        "\"terry\" in ser # ser value'ler içinde terry var mı ? varsa True"
      ],
      "metadata": {
        "colab": {
          "base_uri": "https://localhost:8080/"
        },
        "id": "UVgfffNcMWAZ",
        "outputId": "84af4230-8a6c-4df9-ed08-c43b5c2ff8ad"
      },
      "execution_count": 74,
      "outputs": [
        {
          "output_type": "execute_result",
          "data": {
            "text/plain": [
              "True"
            ]
          },
          "metadata": {},
          "execution_count": 74
        }
      ]
    },
    {
      "cell_type": "code",
      "source": [
        "121 in ser # label olmadığı için False"
      ],
      "metadata": {
        "colab": {
          "base_uri": "https://localhost:8080/"
        },
        "id": "ZKo3-68uMZRi",
        "outputId": "3c413511-c661-4aed-d948-107d75c6c6af"
      },
      "execution_count": 72,
      "outputs": [
        {
          "output_type": "execute_result",
          "data": {
            "text/plain": [
              "False"
            ]
          },
          "metadata": {},
          "execution_count": 72
        }
      ]
    },
    {
      "cell_type": "code",
      "source": [
        "121 in ser.values  # value'de aramak için"
      ],
      "metadata": {
        "colab": {
          "base_uri": "https://localhost:8080/"
        },
        "id": "LYo6wLjQMbQB",
        "outputId": "02c333be-f4cb-44ae-8328-9fe20ba067b7"
      },
      "execution_count": 73,
      "outputs": [
        {
          "output_type": "execute_result",
          "data": {
            "text/plain": [
              "True"
            ]
          },
          "metadata": {},
          "execution_count": 73
        }
      ]
    },
    {
      "cell_type": "code",
      "source": [
        "ser.isin([121]) # value değeri 121 olan True, diğerleri False"
      ],
      "metadata": {
        "colab": {
          "base_uri": "https://localhost:8080/"
        },
        "id": "qMXW48FtMpYC",
        "outputId": "b0d1255b-8b30-4e44-dbaf-da8dd7c92c06"
      },
      "execution_count": 75,
      "outputs": [
        {
          "output_type": "execute_result",
          "data": {
            "text/plain": [
              "terry       True\n",
              "micheal    False\n",
              "orion      False\n",
              "jason      False\n",
              "dtype: bool"
            ]
          },
          "metadata": {},
          "execution_count": 75
        }
      ]
    },
    {
      "cell_type": "code",
      "source": [
        "ser.isin([121,150]) # value değeri 121 ve 150 olan True, diğerleri False"
      ],
      "metadata": {
        "colab": {
          "base_uri": "https://localhost:8080/"
        },
        "id": "kzb_KMYTM0ES",
        "outputId": "21b9cf0f-fa2e-4abe-e362-16f8d6b15a45"
      },
      "execution_count": 76,
      "outputs": [
        {
          "output_type": "execute_result",
          "data": {
            "text/plain": [
              "terry       True\n",
              "micheal    False\n",
              "orion       True\n",
              "jason      False\n",
              "dtype: bool"
            ]
          },
          "metadata": {},
          "execution_count": 76
        }
      ]
    },
    {
      "cell_type": "code",
      "source": [
        "ser[ser.isin([121])] # şekilde tüm satır seçilir"
      ],
      "metadata": {
        "colab": {
          "base_uri": "https://localhost:8080/"
        },
        "id": "W0WwR-0nNDM5",
        "outputId": "d94ae58e-cc19-4f06-f2e2-04e36150e0c2"
      },
      "execution_count": 77,
      "outputs": [
        {
          "output_type": "execute_result",
          "data": {
            "text/plain": [
              "terry    121\n",
              "dtype: int64"
            ]
          },
          "metadata": {},
          "execution_count": 77
        }
      ]
    },
    {
      "cell_type": "code",
      "source": [
        "ser[ser.isin([121])] = 125 # 121 olan value değerine bu şekilde yeni değer atanır.\n",
        "ser"
      ],
      "metadata": {
        "colab": {
          "base_uri": "https://localhost:8080/"
        },
        "id": "l5tkhlKDNKL5",
        "outputId": "92e8cbc9-8255-4482-bdfc-7b22c7722058"
      },
      "execution_count": 79,
      "outputs": [
        {
          "output_type": "execute_result",
          "data": {
            "text/plain": [
              "terry      125\n",
              "micheal    200\n",
              "orion      150\n",
              "jason      100\n",
              "dtype: int64"
            ]
          },
          "metadata": {},
          "execution_count": 79
        }
      ]
    },
    {
      "cell_type": "markdown",
      "source": [
        "***Ps İşlemler***"
      ],
      "metadata": {
        "id": "oF1VIY_0J3Rw"
      }
    },
    {
      "cell_type": "code",
      "source": [
        "a = np.array([3,6,9])\n",
        "b = np.array([2,4,8,10])"
      ],
      "metadata": {
        "id": "sOMk5UkiJ0fp"
      },
      "execution_count": 60,
      "outputs": []
    },
    {
      "cell_type": "code",
      "source": [
        "a+b #array'ler işlem yapabilmek için shapeler eşit olmalı. O nedenle bu toplama işlemi hata verir"
      ],
      "metadata": {
        "id": "8EeLalnMJ2G4"
      },
      "execution_count": null,
      "outputs": []
    },
    {
      "cell_type": "code",
      "source": [
        "ser1 + ser2 # pandas series'lerde shape ler eşit olmasada işlem yapar karşılığı boşsa NaN yapar"
      ],
      "metadata": {
        "colab": {
          "base_uri": "https://localhost:8080/"
        },
        "id": "nx6KCCNmKZnQ",
        "outputId": "0cca08db-b34e-4c2f-862d-af0fa207609f"
      },
      "execution_count": 61,
      "outputs": [
        {
          "output_type": "execute_result",
          "data": {
            "text/plain": [
              "Germany    4.0\n",
              "Italy      NaN\n",
              "Japan      8.0\n",
              "RF         NaN\n",
              "Spain      NaN\n",
              "USA        2.0\n",
              "dtype: float64"
            ]
          },
          "metadata": {},
          "execution_count": 61
        }
      ]
    },
    {
      "cell_type": "code",
      "source": [
        "ser = pd.Series(data = [121, 200, 150, 99], index = [\"terry\", \"micheal\", \"orion\", \"jason\"])\n",
        "ser"
      ],
      "metadata": {
        "colab": {
          "base_uri": "https://localhost:8080/"
        },
        "id": "o0WOUPPsKgSw",
        "outputId": "f54bd7d3-4c2b-497f-8add-81d5e0c7cf8a"
      },
      "execution_count": 62,
      "outputs": [
        {
          "output_type": "execute_result",
          "data": {
            "text/plain": [
              "terry      121\n",
              "micheal    200\n",
              "orion      150\n",
              "jason       99\n",
              "dtype: int64"
            ]
          },
          "metadata": {},
          "execution_count": 62
        }
      ]
    }
  ]
}