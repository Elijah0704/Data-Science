{
 "cells": [
  {
   "cell_type": "markdown",
   "id": "5c6f4686",
   "metadata": {},
   "source": [
    "📍Introduction\n",
    "\n",
    "Welcome to \"AutoScout Data Analysis Project\". This is the capstone project of Data Analysis Module. Auto Scout data which using for this project, scraped from the on-line car trading company in 2019, contains many features of 9 different car models. In this project, you will have the opportunity to apply many commonly used algorithms for Data Cleaning and Exploratory Data Analysis by using many Python libraries such as Numpy, Pandas, Matplotlib, Seaborn, Scipy you will analyze clean dataset.\n",
    "\n",
    "📌The project consists of 3 parts:\n",
    "\n",
    "🔍First part is related with 'data cleaning'. It deals with Incorrect Headers, Incorrect Format, Anomalies, Dropping useless columns.\n",
    "\n",
    "🔍Second part is related with 'filling data'. It deals with Missing Values. Categorical to numeric transformation is done.\n",
    "\n",
    "🔍Third part is related with 'handling outliers of data' via Visualisation libraries. Some insights are extracted."
   ]
  },
  {
   "cell_type": "markdown",
   "id": "c501c8df",
   "metadata": {},
   "source": [
    "🔍Need to Study :\n",
    "\n",
    ".str.method  \n",
    ".contains()    \n",
    ".extract()    \n",
    ".to_datetime()   \n",
    ".get_dummies()     \n",
    ".add_prefix()      \n",
    ".sample()    \n",
    ".regex   \n",
    ".to_numeric()    \n",
    ".isin()     \n",
    ".corr()      "
   ]
  },
  {
   "cell_type": "code",
   "execution_count": 1,
   "id": "e165a300",
   "metadata": {},
   "outputs": [],
   "source": [
    "import numpy as np\n",
    "import pandas as pd\n",
    "import seaborn as sns\n",
    "import matplotlib.pyplot as plt "
   ]
  },
  {
   "cell_type": "code",
   "execution_count": 2,
   "id": "ad561212",
   "metadata": {},
   "outputs": [],
   "source": [
    "import warnings\n",
    "warnings.filterwarnings('ignore')\n",
    "warnings.warn('this will not show')"
   ]
  },
  {
   "cell_type": "code",
   "execution_count": 3,
   "id": "38f713a2",
   "metadata": {
    "scrolled": true
   },
   "outputs": [
    {
     "data": {
      "text/html": [
       "<div>\n",
       "<style scoped>\n",
       "    .dataframe tbody tr th:only-of-type {\n",
       "        vertical-align: middle;\n",
       "    }\n",
       "\n",
       "    .dataframe tbody tr th {\n",
       "        vertical-align: top;\n",
       "    }\n",
       "\n",
       "    .dataframe thead th {\n",
       "        text-align: right;\n",
       "    }\n",
       "</style>\n",
       "<table border=\"1\" class=\"dataframe\">\n",
       "  <thead>\n",
       "    <tr style=\"text-align: right;\">\n",
       "      <th></th>\n",
       "      <th>Price</th>\n",
       "      <th>km</th>\n",
       "      <th>hp</th>\n",
       "      <th>Type</th>\n",
       "      <th>Warranty</th>\n",
       "      <th>Brand</th>\n",
       "      <th>Model</th>\n",
       "      <th>Age</th>\n",
       "      <th>Nr_of_Doors</th>\n",
       "      <th>Number_of_Seats</th>\n",
       "      <th>...</th>\n",
       "      <th>VAT_Deductable</th>\n",
       "      <th>Price_Negotiable</th>\n",
       "      <th>Prev_Owner</th>\n",
       "      <th>Inspection_New</th>\n",
       "      <th>Body_Color</th>\n",
       "      <th>Paint_Type</th>\n",
       "      <th>Uphol_Material</th>\n",
       "      <th>Country_Cons</th>\n",
       "      <th>City_Cons</th>\n",
       "      <th>Comb_Cons</th>\n",
       "    </tr>\n",
       "  </thead>\n",
       "  <tbody>\n",
       "    <tr>\n",
       "      <th>0</th>\n",
       "      <td>15770</td>\n",
       "      <td>56013.0</td>\n",
       "      <td>66.0</td>\n",
       "      <td>Used</td>\n",
       "      <td>12.0</td>\n",
       "      <td>Audi</td>\n",
       "      <td>A1</td>\n",
       "      <td>3.0</td>\n",
       "      <td>5.0</td>\n",
       "      <td>5.0</td>\n",
       "      <td>...</td>\n",
       "      <td>True</td>\n",
       "      <td>False</td>\n",
       "      <td>2.0</td>\n",
       "      <td>Yes</td>\n",
       "      <td>Black</td>\n",
       "      <td>Metallic</td>\n",
       "      <td>Cloth</td>\n",
       "      <td>4.3</td>\n",
       "      <td>3.5</td>\n",
       "      <td>3.8</td>\n",
       "    </tr>\n",
       "    <tr>\n",
       "      <th>1</th>\n",
       "      <td>14500</td>\n",
       "      <td>80000.0</td>\n",
       "      <td>141.0</td>\n",
       "      <td>Used</td>\n",
       "      <td>12.0</td>\n",
       "      <td>Audi</td>\n",
       "      <td>A1</td>\n",
       "      <td>2.0</td>\n",
       "      <td>3.0</td>\n",
       "      <td>4.0</td>\n",
       "      <td>...</td>\n",
       "      <td>False</td>\n",
       "      <td>True</td>\n",
       "      <td>1.0</td>\n",
       "      <td>No</td>\n",
       "      <td>Red</td>\n",
       "      <td>Metallic</td>\n",
       "      <td>Cloth</td>\n",
       "      <td>7.1</td>\n",
       "      <td>4.7</td>\n",
       "      <td>5.6</td>\n",
       "    </tr>\n",
       "    <tr>\n",
       "      <th>2</th>\n",
       "      <td>14640</td>\n",
       "      <td>83450.0</td>\n",
       "      <td>85.0</td>\n",
       "      <td>Used</td>\n",
       "      <td>12.0</td>\n",
       "      <td>Audi</td>\n",
       "      <td>A1</td>\n",
       "      <td>3.0</td>\n",
       "      <td>4.0</td>\n",
       "      <td>4.0</td>\n",
       "      <td>...</td>\n",
       "      <td>True</td>\n",
       "      <td>False</td>\n",
       "      <td>1.0</td>\n",
       "      <td>No</td>\n",
       "      <td>Black</td>\n",
       "      <td>Metallic</td>\n",
       "      <td>Cloth</td>\n",
       "      <td>4.4</td>\n",
       "      <td>3.4</td>\n",
       "      <td>3.8</td>\n",
       "    </tr>\n",
       "    <tr>\n",
       "      <th>3</th>\n",
       "      <td>14500</td>\n",
       "      <td>73000.0</td>\n",
       "      <td>66.0</td>\n",
       "      <td>Used</td>\n",
       "      <td>12.0</td>\n",
       "      <td>Audi</td>\n",
       "      <td>A1</td>\n",
       "      <td>3.0</td>\n",
       "      <td>3.0</td>\n",
       "      <td>4.0</td>\n",
       "      <td>...</td>\n",
       "      <td>False</td>\n",
       "      <td>False</td>\n",
       "      <td>1.0</td>\n",
       "      <td>No</td>\n",
       "      <td>Brown</td>\n",
       "      <td>Metallic</td>\n",
       "      <td>Cloth</td>\n",
       "      <td>4.3</td>\n",
       "      <td>3.5</td>\n",
       "      <td>3.8</td>\n",
       "    </tr>\n",
       "    <tr>\n",
       "      <th>4</th>\n",
       "      <td>16790</td>\n",
       "      <td>16200.0</td>\n",
       "      <td>66.0</td>\n",
       "      <td>Used</td>\n",
       "      <td>12.0</td>\n",
       "      <td>Audi</td>\n",
       "      <td>A1</td>\n",
       "      <td>3.0</td>\n",
       "      <td>5.0</td>\n",
       "      <td>5.0</td>\n",
       "      <td>...</td>\n",
       "      <td>False</td>\n",
       "      <td>False</td>\n",
       "      <td>1.0</td>\n",
       "      <td>Yes</td>\n",
       "      <td>Black</td>\n",
       "      <td>Metallic</td>\n",
       "      <td>Cloth</td>\n",
       "      <td>4.6</td>\n",
       "      <td>3.8</td>\n",
       "      <td>4.1</td>\n",
       "    </tr>\n",
       "  </tbody>\n",
       "</table>\n",
       "<p>5 rows × 33 columns</p>\n",
       "</div>"
      ],
      "text/plain": [
       "   Price       km     hp  Type  Warranty Brand Model  Age  Nr_of_Doors  \\\n",
       "0  15770  56013.0   66.0  Used      12.0  Audi    A1  3.0          5.0   \n",
       "1  14500  80000.0  141.0  Used      12.0  Audi    A1  2.0          3.0   \n",
       "2  14640  83450.0   85.0  Used      12.0  Audi    A1  3.0          4.0   \n",
       "3  14500  73000.0   66.0  Used      12.0  Audi    A1  3.0          3.0   \n",
       "4  16790  16200.0   66.0  Used      12.0  Audi    A1  3.0          5.0   \n",
       "\n",
       "   Number_of_Seats  ... VAT_Deductable  Price_Negotiable  Prev_Owner  \\\n",
       "0              5.0  ...           True             False         2.0   \n",
       "1              4.0  ...          False              True         1.0   \n",
       "2              4.0  ...           True             False         1.0   \n",
       "3              4.0  ...          False             False         1.0   \n",
       "4              5.0  ...          False             False         1.0   \n",
       "\n",
       "  Inspection_New Body_Color  Paint_Type Uphol_Material Country_Cons City_Cons  \\\n",
       "0            Yes      Black    Metallic          Cloth          4.3       3.5   \n",
       "1             No        Red    Metallic          Cloth          7.1       4.7   \n",
       "2             No      Black    Metallic          Cloth          4.4       3.4   \n",
       "3             No      Brown    Metallic          Cloth          4.3       3.5   \n",
       "4            Yes      Black    Metallic          Cloth          4.6       3.8   \n",
       "\n",
       "  Comb_Cons  \n",
       "0       3.8  \n",
       "1       5.6  \n",
       "2       3.8  \n",
       "3       3.8  \n",
       "4       4.1  \n",
       "\n",
       "[5 rows x 33 columns]"
      ]
     },
     "execution_count": 3,
     "metadata": {},
     "output_type": "execute_result"
    }
   ],
   "source": [
    "df=pd.read_csv('part_2_final_scout_not_dummy.csv')\n",
    "df.head()"
   ]
  },
  {
   "cell_type": "markdown",
   "id": "bf7dcd88",
   "metadata": {},
   "source": [
    "## FUNCTIONS"
   ]
  },
  {
   "cell_type": "code",
   "execution_count": 4,
   "id": "9f3433bd",
   "metadata": {},
   "outputs": [],
   "source": [
    "def check_col(df,check_col):\n",
    "    print(check_col,\", Sumation of isnull :\",df[check_col].isnull().sum())\n",
    "    print(\"-----------------\")\n",
    "    print( \"Samples for\",check_col, \"\\n\", df[check_col].sample(10))\n",
    "    print(\"-----------------\")\n",
    "    print(check_col, \"Value_counts is\", \"\\n\",df[check_col].value_counts(dropna=False))"
   ]
  },
  {
   "cell_type": "code",
   "execution_count": 5,
   "id": "f0d00f4a",
   "metadata": {},
   "outputs": [],
   "source": [
    "def remove_outlier_IQR(df):\n",
    "    Q1=df.quantile(0.25)\n",
    "    Q3=df.quantile(0.75)\n",
    "    IQR=Q3-Q1\n",
    "    df_final=df[~((df<(Q1-1.5*IQR)) | (df>(Q3+1.5*IQR)))]\n",
    "    return df_final"
   ]
  },
  {
   "cell_type": "code",
   "execution_count": 6,
   "id": "c9fd4014",
   "metadata": {},
   "outputs": [],
   "source": [
    "def fill_most(df, group_col, col_name):\n",
    "    '''Fills the missing values with the most existing value (mode) in the relevant column according to single-stage grouping'''\n",
    "    for group in list(df[group_col].unique()):\n",
    "        cond = df[group_col]==group\n",
    "        grp_inx = list(df[cond][col_name].index)\n",
    "        mode = list(df[cond][col_name].mode())\n",
    "        if mode != []:\n",
    "            df[col_name].iloc[grp_inx] = df[col_name].iloc[grp_inx].fillna(df[cond][col_name].mode()[0])\n",
    "        else:\n",
    "            df[col_name].iloc[grp_inx] = df[col_name].iloc[grp_inx].fillna(df[col_name].mode()[0])\n",
    "    print(\"Number of NaN : \",df[col_name].isnull().sum())\n",
    "    print(\"------------------\")\n",
    "    print(df[col_name].value_counts(dropna=False))"
   ]
  },
  {
   "cell_type": "code",
   "execution_count": 7,
   "id": "0c0b6d21",
   "metadata": {},
   "outputs": [],
   "source": [
    "def fill_prop(df, group_col, col_name):\n",
    "    '''Fills the missing values with \"ffill and bfill method\" according to single-stage grouping'''\n",
    "    for group in list(df[group_col].unique()):\n",
    "        cond = df[group_col]==group\n",
    "        grp_inx = list(df[cond][col_name].index)\n",
    "        df.loc[cond, col_name] = df.loc[cond, col_name].fillna(method=\"ffill\").fillna(method=\"bfill\")\n",
    "    df[col_name] = df[col_name].fillna(method=\"ffill\").fillna(method=\"bfill\")\n",
    "    print(\"Number of NaN : \",df[col_name].isnull().sum())\n",
    "    print(\"------------------\")\n",
    "    print(df[col_name].value_counts(dropna=False))"
   ]
  },
  {
   "cell_type": "code",
   "execution_count": 8,
   "id": "eba3a537",
   "metadata": {},
   "outputs": [],
   "source": [
    "def fill(df, group_col1, group_col2, col_name, method): # method can be \"mode\" or \"median\" or \"ffill\"\n",
    "    '''Fills the missing values based on selected method (mode/median/ffill) according to two-stage grouping'''\n",
    "    if method == \"mode\":\n",
    "        for group1 in list(df[group_col1].unique()):\n",
    "            for group2 in list(df[group_col2].unique()):\n",
    "                cond1 = df[group_col1]==group1\n",
    "                cond2 = (df[group_col1]==group1) & (df[group_col2]==group2)\n",
    "                grp_inx = list(df[cond2][col_name].index)\n",
    "                mode1 = list(df[cond1][col_name].mode())\n",
    "                mode2 = list(df[cond2][col_name].mode())\n",
    "                if (mode1 != []) and (mode2 != []):\n",
    "                    df[col_name].iloc[grp_inx] = df[col_name].iloc[grp_inx].fillna(df[cond2][col_name].mode()[0]).fillna(df[cond1][col_name].mode()[0])\n",
    "                elif mode1 != []:\n",
    "                    df[col_name].iloc[grp_inx] = df[col_name].iloc[grp_inx].fillna(df[cond1][col_name].mode()[0])\n",
    "                else:\n",
    "                    df[col_name].iloc[grp_inx] = df[col_name].iloc[grp_inx].fillna(df[col_name].mode()[0])\n",
    "                \n",
    "    elif method == \"median\":\n",
    "        for group1 in list(df[group_col1].unique()):\n",
    "            for group2 in list(df[group_col2].unique()):\n",
    "                cond1 = df[group_col1]==group1\n",
    "                cond2 = (df[group_col1]==group1) & (df[group_col2]==group2)\n",
    "                grp_inx = list(df[cond2][col_name].index)\n",
    "                df[col_name].iloc[grp_inx] = df[col_name].iloc[grp_inx].fillna(df[cond2][col_name].median()).fillna(df[cond1][col_name].median()).fillna(df[col_name].median())\n",
    "                \n",
    "    elif method == \"ffill\":           \n",
    "        for group1 in list(df[group_col1].unique()):\n",
    "            for group2 in list(df[group_col2].unique()):\n",
    "                cond1 = df[group_col1]==group1\n",
    "                cond2 = (df[group_col1]==group1) & (df[group_col2]==group2)\n",
    "                grp_inx = list(df[cond2][col_name].index)\n",
    "                df.loc[cond2, col_name] = df.loc[cond2, col_name].fillna(method=\"ffill\").fillna(method=\"bfill\")\n",
    "                \n",
    "        for group1 in list(df[group_col1].unique()):\n",
    "            cond1 = df[group_col1]==group1\n",
    "            df.loc[cond1, col_name] = df.loc[cond1, col_name].fillna(method=\"ffill\").fillna(method=\"bfill\")            \n",
    "           \n",
    "        df[col_name] = df[col_name].fillna(method=\"ffill\").fillna(method=\"bfill\")\n",
    "    \n",
    "    print(\"Number of NaN : \",df[col_name].isnull().sum())\n",
    "    print(\"------------------\")\n",
    "    print(df[col_name].value_counts(dropna=False))"
   ]
  },
  {
   "cell_type": "code",
   "execution_count": 9,
   "id": "5274f2ef",
   "metadata": {
    "scrolled": true
   },
   "outputs": [
    {
     "data": {
      "text/html": [
       "<div>\n",
       "<style scoped>\n",
       "    .dataframe tbody tr th:only-of-type {\n",
       "        vertical-align: middle;\n",
       "    }\n",
       "\n",
       "    .dataframe tbody tr th {\n",
       "        vertical-align: top;\n",
       "    }\n",
       "\n",
       "    .dataframe thead th {\n",
       "        text-align: right;\n",
       "    }\n",
       "</style>\n",
       "<table border=\"1\" class=\"dataframe\">\n",
       "  <thead>\n",
       "    <tr style=\"text-align: right;\">\n",
       "      <th></th>\n",
       "      <th>0</th>\n",
       "      <th>1</th>\n",
       "      <th>2</th>\n",
       "      <th>3</th>\n",
       "      <th>4</th>\n",
       "    </tr>\n",
       "  </thead>\n",
       "  <tbody>\n",
       "    <tr>\n",
       "      <th>Price</th>\n",
       "      <td>15770</td>\n",
       "      <td>14500</td>\n",
       "      <td>14640</td>\n",
       "      <td>14500</td>\n",
       "      <td>16790</td>\n",
       "    </tr>\n",
       "    <tr>\n",
       "      <th>km</th>\n",
       "      <td>56013.0</td>\n",
       "      <td>80000.0</td>\n",
       "      <td>83450.0</td>\n",
       "      <td>73000.0</td>\n",
       "      <td>16200.0</td>\n",
       "    </tr>\n",
       "    <tr>\n",
       "      <th>hp</th>\n",
       "      <td>66.0</td>\n",
       "      <td>141.0</td>\n",
       "      <td>85.0</td>\n",
       "      <td>66.0</td>\n",
       "      <td>66.0</td>\n",
       "    </tr>\n",
       "    <tr>\n",
       "      <th>Type</th>\n",
       "      <td>Used</td>\n",
       "      <td>Used</td>\n",
       "      <td>Used</td>\n",
       "      <td>Used</td>\n",
       "      <td>Used</td>\n",
       "    </tr>\n",
       "    <tr>\n",
       "      <th>Warranty</th>\n",
       "      <td>12.0</td>\n",
       "      <td>12.0</td>\n",
       "      <td>12.0</td>\n",
       "      <td>12.0</td>\n",
       "      <td>12.0</td>\n",
       "    </tr>\n",
       "    <tr>\n",
       "      <th>Brand</th>\n",
       "      <td>Audi</td>\n",
       "      <td>Audi</td>\n",
       "      <td>Audi</td>\n",
       "      <td>Audi</td>\n",
       "      <td>Audi</td>\n",
       "    </tr>\n",
       "    <tr>\n",
       "      <th>Model</th>\n",
       "      <td>A1</td>\n",
       "      <td>A1</td>\n",
       "      <td>A1</td>\n",
       "      <td>A1</td>\n",
       "      <td>A1</td>\n",
       "    </tr>\n",
       "    <tr>\n",
       "      <th>Age</th>\n",
       "      <td>3.0</td>\n",
       "      <td>2.0</td>\n",
       "      <td>3.0</td>\n",
       "      <td>3.0</td>\n",
       "      <td>3.0</td>\n",
       "    </tr>\n",
       "    <tr>\n",
       "      <th>Nr_of_Doors</th>\n",
       "      <td>5.0</td>\n",
       "      <td>3.0</td>\n",
       "      <td>4.0</td>\n",
       "      <td>3.0</td>\n",
       "      <td>5.0</td>\n",
       "    </tr>\n",
       "    <tr>\n",
       "      <th>Number_of_Seats</th>\n",
       "      <td>5.0</td>\n",
       "      <td>4.0</td>\n",
       "      <td>4.0</td>\n",
       "      <td>4.0</td>\n",
       "      <td>5.0</td>\n",
       "    </tr>\n",
       "    <tr>\n",
       "      <th>Gearing_Type</th>\n",
       "      <td>Automatic</td>\n",
       "      <td>Automatic</td>\n",
       "      <td>Automatic</td>\n",
       "      <td>Automatic</td>\n",
       "      <td>Automatic</td>\n",
       "    </tr>\n",
       "    <tr>\n",
       "      <th>Engine_Disp_cc</th>\n",
       "      <td>1422.0</td>\n",
       "      <td>1798.0</td>\n",
       "      <td>1598.0</td>\n",
       "      <td>1422.0</td>\n",
       "      <td>1422.0</td>\n",
       "    </tr>\n",
       "    <tr>\n",
       "      <th>Cylinders</th>\n",
       "      <td>3.0</td>\n",
       "      <td>4.0</td>\n",
       "      <td>3.0</td>\n",
       "      <td>3.0</td>\n",
       "      <td>3.0</td>\n",
       "    </tr>\n",
       "    <tr>\n",
       "      <th>Drive_chain</th>\n",
       "      <td>front</td>\n",
       "      <td>front</td>\n",
       "      <td>front</td>\n",
       "      <td>front</td>\n",
       "      <td>front</td>\n",
       "    </tr>\n",
       "    <tr>\n",
       "      <th>Fuel</th>\n",
       "      <td>Diesel</td>\n",
       "      <td>Benzine</td>\n",
       "      <td>Diesel</td>\n",
       "      <td>Diesel</td>\n",
       "      <td>Diesel</td>\n",
       "    </tr>\n",
       "    <tr>\n",
       "      <th>CO2_Emission</th>\n",
       "      <td>99.0</td>\n",
       "      <td>129.0</td>\n",
       "      <td>99.0</td>\n",
       "      <td>99.0</td>\n",
       "      <td>109.0</td>\n",
       "    </tr>\n",
       "    <tr>\n",
       "      <th>Emission_Class</th>\n",
       "      <td>Euro 6</td>\n",
       "      <td>Euro 6</td>\n",
       "      <td>Euro 6</td>\n",
       "      <td>Euro 6</td>\n",
       "      <td>Euro 6</td>\n",
       "    </tr>\n",
       "    <tr>\n",
       "      <th>Comfort_Convenience</th>\n",
       "      <td>Air conditioning,Armrest,Automatic climate con...</td>\n",
       "      <td>Air conditioning,Automatic climate control,Hil...</td>\n",
       "      <td>Air conditioning,Cruise control,Electrical sid...</td>\n",
       "      <td>Air suspension,Armrest,Auxiliary heating,Elect...</td>\n",
       "      <td>Air conditioning,Armrest,Automatic climate con...</td>\n",
       "    </tr>\n",
       "    <tr>\n",
       "      <th>Entertainment_Media</th>\n",
       "      <td>Bluetooth,Hands-free equipment,On-board comput...</td>\n",
       "      <td>Bluetooth,Hands-free equipment,On-board comput...</td>\n",
       "      <td>MP3,On-board computer</td>\n",
       "      <td>Bluetooth,CD player,Hands-free equipment,MP3,O...</td>\n",
       "      <td>Bluetooth,CD player,Hands-free equipment,MP3,O...</td>\n",
       "    </tr>\n",
       "    <tr>\n",
       "      <th>Extras</th>\n",
       "      <td>Alloy wheels,Catalytic Converter,Voice Control</td>\n",
       "      <td>Alloy wheels,Sport seats,Sport suspension,Voic...</td>\n",
       "      <td>Alloy wheels,Voice Control</td>\n",
       "      <td>Alloy wheels,Sport seats,Voice Control</td>\n",
       "      <td>Alloy wheels,Sport package,Sport suspension,Vo...</td>\n",
       "    </tr>\n",
       "    <tr>\n",
       "      <th>Safety_Security</th>\n",
       "      <td>ABS,Central door lock,Daytime running lights,D...</td>\n",
       "      <td>ABS,Central door lock,Central door lock with r...</td>\n",
       "      <td>ABS,Central door lock,Daytime running lights,D...</td>\n",
       "      <td>ABS,Alarm system,Central door lock with remote...</td>\n",
       "      <td>ABS,Central door lock,Driver-side airbag,Elect...</td>\n",
       "    </tr>\n",
       "    <tr>\n",
       "      <th>Gears</th>\n",
       "      <td>5.0</td>\n",
       "      <td>7.0</td>\n",
       "      <td>5.0</td>\n",
       "      <td>6.0</td>\n",
       "      <td>5.0</td>\n",
       "    </tr>\n",
       "    <tr>\n",
       "      <th>Body_Type</th>\n",
       "      <td>Sedan</td>\n",
       "      <td>Sedan</td>\n",
       "      <td>Sedan</td>\n",
       "      <td>Sedan</td>\n",
       "      <td>Sedan</td>\n",
       "    </tr>\n",
       "    <tr>\n",
       "      <th>VAT_Deductable</th>\n",
       "      <td>True</td>\n",
       "      <td>False</td>\n",
       "      <td>True</td>\n",
       "      <td>False</td>\n",
       "      <td>False</td>\n",
       "    </tr>\n",
       "    <tr>\n",
       "      <th>Price_Negotiable</th>\n",
       "      <td>False</td>\n",
       "      <td>True</td>\n",
       "      <td>False</td>\n",
       "      <td>False</td>\n",
       "      <td>False</td>\n",
       "    </tr>\n",
       "    <tr>\n",
       "      <th>Prev_Owner</th>\n",
       "      <td>2.0</td>\n",
       "      <td>1.0</td>\n",
       "      <td>1.0</td>\n",
       "      <td>1.0</td>\n",
       "      <td>1.0</td>\n",
       "    </tr>\n",
       "    <tr>\n",
       "      <th>Inspection_New</th>\n",
       "      <td>Yes</td>\n",
       "      <td>No</td>\n",
       "      <td>No</td>\n",
       "      <td>No</td>\n",
       "      <td>Yes</td>\n",
       "    </tr>\n",
       "    <tr>\n",
       "      <th>Body_Color</th>\n",
       "      <td>Black</td>\n",
       "      <td>Red</td>\n",
       "      <td>Black</td>\n",
       "      <td>Brown</td>\n",
       "      <td>Black</td>\n",
       "    </tr>\n",
       "    <tr>\n",
       "      <th>Paint_Type</th>\n",
       "      <td>Metallic</td>\n",
       "      <td>Metallic</td>\n",
       "      <td>Metallic</td>\n",
       "      <td>Metallic</td>\n",
       "      <td>Metallic</td>\n",
       "    </tr>\n",
       "    <tr>\n",
       "      <th>Uphol_Material</th>\n",
       "      <td>Cloth</td>\n",
       "      <td>Cloth</td>\n",
       "      <td>Cloth</td>\n",
       "      <td>Cloth</td>\n",
       "      <td>Cloth</td>\n",
       "    </tr>\n",
       "    <tr>\n",
       "      <th>Country_Cons</th>\n",
       "      <td>4.3</td>\n",
       "      <td>7.1</td>\n",
       "      <td>4.4</td>\n",
       "      <td>4.3</td>\n",
       "      <td>4.6</td>\n",
       "    </tr>\n",
       "    <tr>\n",
       "      <th>City_Cons</th>\n",
       "      <td>3.5</td>\n",
       "      <td>4.7</td>\n",
       "      <td>3.4</td>\n",
       "      <td>3.5</td>\n",
       "      <td>3.8</td>\n",
       "    </tr>\n",
       "    <tr>\n",
       "      <th>Comb_Cons</th>\n",
       "      <td>3.8</td>\n",
       "      <td>5.6</td>\n",
       "      <td>3.8</td>\n",
       "      <td>3.8</td>\n",
       "      <td>4.1</td>\n",
       "    </tr>\n",
       "  </tbody>\n",
       "</table>\n",
       "</div>"
      ],
      "text/plain": [
       "                                                                     0  \\\n",
       "Price                                                            15770   \n",
       "km                                                             56013.0   \n",
       "hp                                                                66.0   \n",
       "Type                                                              Used   \n",
       "Warranty                                                          12.0   \n",
       "Brand                                                             Audi   \n",
       "Model                                                               A1   \n",
       "Age                                                                3.0   \n",
       "Nr_of_Doors                                                        5.0   \n",
       "Number_of_Seats                                                    5.0   \n",
       "Gearing_Type                                                 Automatic   \n",
       "Engine_Disp_cc                                                  1422.0   \n",
       "Cylinders                                                          3.0   \n",
       "Drive_chain                                                      front   \n",
       "Fuel                                                            Diesel   \n",
       "CO2_Emission                                                      99.0   \n",
       "Emission_Class                                                  Euro 6   \n",
       "Comfort_Convenience  Air conditioning,Armrest,Automatic climate con...   \n",
       "Entertainment_Media  Bluetooth,Hands-free equipment,On-board comput...   \n",
       "Extras                  Alloy wheels,Catalytic Converter,Voice Control   \n",
       "Safety_Security      ABS,Central door lock,Daytime running lights,D...   \n",
       "Gears                                                              5.0   \n",
       "Body_Type                                                        Sedan   \n",
       "VAT_Deductable                                                    True   \n",
       "Price_Negotiable                                                 False   \n",
       "Prev_Owner                                                         2.0   \n",
       "Inspection_New                                                     Yes   \n",
       "Body_Color                                                       Black   \n",
       "Paint_Type                                                    Metallic   \n",
       "Uphol_Material                                                   Cloth   \n",
       "Country_Cons                                                       4.3   \n",
       "City_Cons                                                          3.5   \n",
       "Comb_Cons                                                          3.8   \n",
       "\n",
       "                                                                     1  \\\n",
       "Price                                                            14500   \n",
       "km                                                             80000.0   \n",
       "hp                                                               141.0   \n",
       "Type                                                              Used   \n",
       "Warranty                                                          12.0   \n",
       "Brand                                                             Audi   \n",
       "Model                                                               A1   \n",
       "Age                                                                2.0   \n",
       "Nr_of_Doors                                                        3.0   \n",
       "Number_of_Seats                                                    4.0   \n",
       "Gearing_Type                                                 Automatic   \n",
       "Engine_Disp_cc                                                  1798.0   \n",
       "Cylinders                                                          4.0   \n",
       "Drive_chain                                                      front   \n",
       "Fuel                                                           Benzine   \n",
       "CO2_Emission                                                     129.0   \n",
       "Emission_Class                                                  Euro 6   \n",
       "Comfort_Convenience  Air conditioning,Automatic climate control,Hil...   \n",
       "Entertainment_Media  Bluetooth,Hands-free equipment,On-board comput...   \n",
       "Extras               Alloy wheels,Sport seats,Sport suspension,Voic...   \n",
       "Safety_Security      ABS,Central door lock,Central door lock with r...   \n",
       "Gears                                                              7.0   \n",
       "Body_Type                                                        Sedan   \n",
       "VAT_Deductable                                                   False   \n",
       "Price_Negotiable                                                  True   \n",
       "Prev_Owner                                                         1.0   \n",
       "Inspection_New                                                      No   \n",
       "Body_Color                                                         Red   \n",
       "Paint_Type                                                    Metallic   \n",
       "Uphol_Material                                                   Cloth   \n",
       "Country_Cons                                                       7.1   \n",
       "City_Cons                                                          4.7   \n",
       "Comb_Cons                                                          5.6   \n",
       "\n",
       "                                                                     2  \\\n",
       "Price                                                            14640   \n",
       "km                                                             83450.0   \n",
       "hp                                                                85.0   \n",
       "Type                                                              Used   \n",
       "Warranty                                                          12.0   \n",
       "Brand                                                             Audi   \n",
       "Model                                                               A1   \n",
       "Age                                                                3.0   \n",
       "Nr_of_Doors                                                        4.0   \n",
       "Number_of_Seats                                                    4.0   \n",
       "Gearing_Type                                                 Automatic   \n",
       "Engine_Disp_cc                                                  1598.0   \n",
       "Cylinders                                                          3.0   \n",
       "Drive_chain                                                      front   \n",
       "Fuel                                                            Diesel   \n",
       "CO2_Emission                                                      99.0   \n",
       "Emission_Class                                                  Euro 6   \n",
       "Comfort_Convenience  Air conditioning,Cruise control,Electrical sid...   \n",
       "Entertainment_Media                              MP3,On-board computer   \n",
       "Extras                                      Alloy wheels,Voice Control   \n",
       "Safety_Security      ABS,Central door lock,Daytime running lights,D...   \n",
       "Gears                                                              5.0   \n",
       "Body_Type                                                        Sedan   \n",
       "VAT_Deductable                                                    True   \n",
       "Price_Negotiable                                                 False   \n",
       "Prev_Owner                                                         1.0   \n",
       "Inspection_New                                                      No   \n",
       "Body_Color                                                       Black   \n",
       "Paint_Type                                                    Metallic   \n",
       "Uphol_Material                                                   Cloth   \n",
       "Country_Cons                                                       4.4   \n",
       "City_Cons                                                          3.4   \n",
       "Comb_Cons                                                          3.8   \n",
       "\n",
       "                                                                     3  \\\n",
       "Price                                                            14500   \n",
       "km                                                             73000.0   \n",
       "hp                                                                66.0   \n",
       "Type                                                              Used   \n",
       "Warranty                                                          12.0   \n",
       "Brand                                                             Audi   \n",
       "Model                                                               A1   \n",
       "Age                                                                3.0   \n",
       "Nr_of_Doors                                                        3.0   \n",
       "Number_of_Seats                                                    4.0   \n",
       "Gearing_Type                                                 Automatic   \n",
       "Engine_Disp_cc                                                  1422.0   \n",
       "Cylinders                                                          3.0   \n",
       "Drive_chain                                                      front   \n",
       "Fuel                                                            Diesel   \n",
       "CO2_Emission                                                      99.0   \n",
       "Emission_Class                                                  Euro 6   \n",
       "Comfort_Convenience  Air suspension,Armrest,Auxiliary heating,Elect...   \n",
       "Entertainment_Media  Bluetooth,CD player,Hands-free equipment,MP3,O...   \n",
       "Extras                          Alloy wheels,Sport seats,Voice Control   \n",
       "Safety_Security      ABS,Alarm system,Central door lock with remote...   \n",
       "Gears                                                              6.0   \n",
       "Body_Type                                                        Sedan   \n",
       "VAT_Deductable                                                   False   \n",
       "Price_Negotiable                                                 False   \n",
       "Prev_Owner                                                         1.0   \n",
       "Inspection_New                                                      No   \n",
       "Body_Color                                                       Brown   \n",
       "Paint_Type                                                    Metallic   \n",
       "Uphol_Material                                                   Cloth   \n",
       "Country_Cons                                                       4.3   \n",
       "City_Cons                                                          3.5   \n",
       "Comb_Cons                                                          3.8   \n",
       "\n",
       "                                                                     4  \n",
       "Price                                                            16790  \n",
       "km                                                             16200.0  \n",
       "hp                                                                66.0  \n",
       "Type                                                              Used  \n",
       "Warranty                                                          12.0  \n",
       "Brand                                                             Audi  \n",
       "Model                                                               A1  \n",
       "Age                                                                3.0  \n",
       "Nr_of_Doors                                                        5.0  \n",
       "Number_of_Seats                                                    5.0  \n",
       "Gearing_Type                                                 Automatic  \n",
       "Engine_Disp_cc                                                  1422.0  \n",
       "Cylinders                                                          3.0  \n",
       "Drive_chain                                                      front  \n",
       "Fuel                                                            Diesel  \n",
       "CO2_Emission                                                     109.0  \n",
       "Emission_Class                                                  Euro 6  \n",
       "Comfort_Convenience  Air conditioning,Armrest,Automatic climate con...  \n",
       "Entertainment_Media  Bluetooth,CD player,Hands-free equipment,MP3,O...  \n",
       "Extras               Alloy wheels,Sport package,Sport suspension,Vo...  \n",
       "Safety_Security      ABS,Central door lock,Driver-side airbag,Elect...  \n",
       "Gears                                                              5.0  \n",
       "Body_Type                                                        Sedan  \n",
       "VAT_Deductable                                                   False  \n",
       "Price_Negotiable                                                 False  \n",
       "Prev_Owner                                                         1.0  \n",
       "Inspection_New                                                     Yes  \n",
       "Body_Color                                                       Black  \n",
       "Paint_Type                                                    Metallic  \n",
       "Uphol_Material                                                   Cloth  \n",
       "Country_Cons                                                       4.6  \n",
       "City_Cons                                                          3.8  \n",
       "Comb_Cons                                                          4.1  "
      ]
     },
     "execution_count": 9,
     "metadata": {},
     "output_type": "execute_result"
    }
   ],
   "source": [
    "df.head(5).T"
   ]
  },
  {
   "cell_type": "code",
   "execution_count": 10,
   "id": "50625e31",
   "metadata": {},
   "outputs": [
    {
     "data": {
      "text/plain": [
       "(15919, 33)"
      ]
     },
     "execution_count": 10,
     "metadata": {},
     "output_type": "execute_result"
    }
   ],
   "source": [
    "df.shape"
   ]
  },
  {
   "cell_type": "code",
   "execution_count": 11,
   "id": "47625b49",
   "metadata": {
    "scrolled": false
   },
   "outputs": [
    {
     "data": {
      "text/plain": [
       "['Price',\n",
       " 'km',\n",
       " 'hp',\n",
       " 'Type',\n",
       " 'Warranty',\n",
       " 'Brand',\n",
       " 'Model',\n",
       " 'Age',\n",
       " 'Nr_of_Doors',\n",
       " 'Number_of_Seats',\n",
       " 'Gearing_Type',\n",
       " 'Engine_Disp_cc',\n",
       " 'Cylinders',\n",
       " 'Drive_chain',\n",
       " 'Fuel',\n",
       " 'CO2_Emission',\n",
       " 'Emission_Class',\n",
       " 'Comfort_Convenience',\n",
       " 'Entertainment_Media',\n",
       " 'Extras',\n",
       " 'Safety_Security',\n",
       " 'Gears',\n",
       " 'Body_Type',\n",
       " 'VAT_Deductable',\n",
       " 'Price_Negotiable',\n",
       " 'Prev_Owner',\n",
       " 'Inspection_New',\n",
       " 'Body_Color',\n",
       " 'Paint_Type',\n",
       " 'Uphol_Material',\n",
       " 'Country_Cons',\n",
       " 'City_Cons',\n",
       " 'Comb_Cons']"
      ]
     },
     "execution_count": 11,
     "metadata": {},
     "output_type": "execute_result"
    }
   ],
   "source": [
    "list(df.columns)"
   ]
  },
  {
   "cell_type": "code",
   "execution_count": 12,
   "id": "6415efda",
   "metadata": {},
   "outputs": [
    {
     "data": {
      "text/html": [
       "<div>\n",
       "<style scoped>\n",
       "    .dataframe tbody tr th:only-of-type {\n",
       "        vertical-align: middle;\n",
       "    }\n",
       "\n",
       "    .dataframe tbody tr th {\n",
       "        vertical-align: top;\n",
       "    }\n",
       "\n",
       "    .dataframe thead th {\n",
       "        text-align: right;\n",
       "    }\n",
       "</style>\n",
       "<table border=\"1\" class=\"dataframe\">\n",
       "  <thead>\n",
       "    <tr style=\"text-align: right;\">\n",
       "      <th></th>\n",
       "      <th>count</th>\n",
       "      <th>mean</th>\n",
       "      <th>std</th>\n",
       "      <th>min</th>\n",
       "      <th>25%</th>\n",
       "      <th>50%</th>\n",
       "      <th>75%</th>\n",
       "      <th>max</th>\n",
       "    </tr>\n",
       "  </thead>\n",
       "  <tbody>\n",
       "    <tr>\n",
       "      <th>Price</th>\n",
       "      <td>15919.0</td>\n",
       "      <td>18019.896727</td>\n",
       "      <td>7386.169409</td>\n",
       "      <td>13.0</td>\n",
       "      <td>12850.0</td>\n",
       "      <td>16900.0</td>\n",
       "      <td>21900.0</td>\n",
       "      <td>74600.0</td>\n",
       "    </tr>\n",
       "    <tr>\n",
       "      <th>km</th>\n",
       "      <td>15919.0</td>\n",
       "      <td>32329.414691</td>\n",
       "      <td>36881.261861</td>\n",
       "      <td>0.0</td>\n",
       "      <td>3000.0</td>\n",
       "      <td>20550.0</td>\n",
       "      <td>47000.0</td>\n",
       "      <td>317000.0</td>\n",
       "    </tr>\n",
       "    <tr>\n",
       "      <th>hp</th>\n",
       "      <td>15919.0</td>\n",
       "      <td>88.541617</td>\n",
       "      <td>26.689225</td>\n",
       "      <td>51.0</td>\n",
       "      <td>66.0</td>\n",
       "      <td>85.0</td>\n",
       "      <td>103.0</td>\n",
       "      <td>294.0</td>\n",
       "    </tr>\n",
       "    <tr>\n",
       "      <th>Warranty</th>\n",
       "      <td>15919.0</td>\n",
       "      <td>18.111753</td>\n",
       "      <td>10.272870</td>\n",
       "      <td>1.0</td>\n",
       "      <td>12.0</td>\n",
       "      <td>12.0</td>\n",
       "      <td>24.0</td>\n",
       "      <td>72.0</td>\n",
       "    </tr>\n",
       "    <tr>\n",
       "      <th>Age</th>\n",
       "      <td>15919.0</td>\n",
       "      <td>1.417614</td>\n",
       "      <td>1.104472</td>\n",
       "      <td>0.0</td>\n",
       "      <td>0.0</td>\n",
       "      <td>1.0</td>\n",
       "      <td>2.0</td>\n",
       "      <td>3.0</td>\n",
       "    </tr>\n",
       "    <tr>\n",
       "      <th>Nr_of_Doors</th>\n",
       "      <td>15919.0</td>\n",
       "      <td>4.660783</td>\n",
       "      <td>0.641285</td>\n",
       "      <td>2.0</td>\n",
       "      <td>4.0</td>\n",
       "      <td>5.0</td>\n",
       "      <td>5.0</td>\n",
       "      <td>5.0</td>\n",
       "    </tr>\n",
       "    <tr>\n",
       "      <th>Number_of_Seats</th>\n",
       "      <td>15919.0</td>\n",
       "      <td>4.951379</td>\n",
       "      <td>0.500557</td>\n",
       "      <td>2.0</td>\n",
       "      <td>5.0</td>\n",
       "      <td>5.0</td>\n",
       "      <td>5.0</td>\n",
       "      <td>7.0</td>\n",
       "    </tr>\n",
       "    <tr>\n",
       "      <th>Engine_Disp_cc</th>\n",
       "      <td>15919.0</td>\n",
       "      <td>1424.332653</td>\n",
       "      <td>330.058129</td>\n",
       "      <td>1.0</td>\n",
       "      <td>1229.0</td>\n",
       "      <td>1461.0</td>\n",
       "      <td>1598.0</td>\n",
       "      <td>16000.0</td>\n",
       "    </tr>\n",
       "    <tr>\n",
       "      <th>Cylinders</th>\n",
       "      <td>15919.0</td>\n",
       "      <td>3.804071</td>\n",
       "      <td>0.405693</td>\n",
       "      <td>1.0</td>\n",
       "      <td>4.0</td>\n",
       "      <td>4.0</td>\n",
       "      <td>4.0</td>\n",
       "      <td>8.0</td>\n",
       "    </tr>\n",
       "    <tr>\n",
       "      <th>CO2_Emission</th>\n",
       "      <td>15919.0</td>\n",
       "      <td>109.659724</td>\n",
       "      <td>35.742491</td>\n",
       "      <td>0.0</td>\n",
       "      <td>103.0</td>\n",
       "      <td>115.0</td>\n",
       "      <td>128.0</td>\n",
       "      <td>990.0</td>\n",
       "    </tr>\n",
       "    <tr>\n",
       "      <th>Gears</th>\n",
       "      <td>15919.0</td>\n",
       "      <td>5.813493</td>\n",
       "      <td>0.780433</td>\n",
       "      <td>1.0</td>\n",
       "      <td>5.0</td>\n",
       "      <td>6.0</td>\n",
       "      <td>6.0</td>\n",
       "      <td>50.0</td>\n",
       "    </tr>\n",
       "    <tr>\n",
       "      <th>Prev_Owner</th>\n",
       "      <td>15919.0</td>\n",
       "      <td>1.055594</td>\n",
       "      <td>0.235364</td>\n",
       "      <td>1.0</td>\n",
       "      <td>1.0</td>\n",
       "      <td>1.0</td>\n",
       "      <td>1.0</td>\n",
       "      <td>4.0</td>\n",
       "    </tr>\n",
       "    <tr>\n",
       "      <th>Country_Cons</th>\n",
       "      <td>15919.0</td>\n",
       "      <td>5.679710</td>\n",
       "      <td>1.407674</td>\n",
       "      <td>0.0</td>\n",
       "      <td>4.5</td>\n",
       "      <td>5.6</td>\n",
       "      <td>6.8</td>\n",
       "      <td>9.9</td>\n",
       "    </tr>\n",
       "    <tr>\n",
       "      <th>City_Cons</th>\n",
       "      <td>15919.0</td>\n",
       "      <td>4.181444</td>\n",
       "      <td>0.694567</td>\n",
       "      <td>0.0</td>\n",
       "      <td>3.7</td>\n",
       "      <td>4.2</td>\n",
       "      <td>4.5</td>\n",
       "      <td>8.6</td>\n",
       "    </tr>\n",
       "    <tr>\n",
       "      <th>Comb_Cons</th>\n",
       "      <td>15919.0</td>\n",
       "      <td>4.810032</td>\n",
       "      <td>0.914701</td>\n",
       "      <td>0.0</td>\n",
       "      <td>4.0</td>\n",
       "      <td>4.8</td>\n",
       "      <td>5.4</td>\n",
       "      <td>9.1</td>\n",
       "    </tr>\n",
       "  </tbody>\n",
       "</table>\n",
       "</div>"
      ],
      "text/plain": [
       "                   count          mean           std   min      25%      50%  \\\n",
       "Price            15919.0  18019.896727   7386.169409  13.0  12850.0  16900.0   \n",
       "km               15919.0  32329.414691  36881.261861   0.0   3000.0  20550.0   \n",
       "hp               15919.0     88.541617     26.689225  51.0     66.0     85.0   \n",
       "Warranty         15919.0     18.111753     10.272870   1.0     12.0     12.0   \n",
       "Age              15919.0      1.417614      1.104472   0.0      0.0      1.0   \n",
       "Nr_of_Doors      15919.0      4.660783      0.641285   2.0      4.0      5.0   \n",
       "Number_of_Seats  15919.0      4.951379      0.500557   2.0      5.0      5.0   \n",
       "Engine_Disp_cc   15919.0   1424.332653    330.058129   1.0   1229.0   1461.0   \n",
       "Cylinders        15919.0      3.804071      0.405693   1.0      4.0      4.0   \n",
       "CO2_Emission     15919.0    109.659724     35.742491   0.0    103.0    115.0   \n",
       "Gears            15919.0      5.813493      0.780433   1.0      5.0      6.0   \n",
       "Prev_Owner       15919.0      1.055594      0.235364   1.0      1.0      1.0   \n",
       "Country_Cons     15919.0      5.679710      1.407674   0.0      4.5      5.6   \n",
       "City_Cons        15919.0      4.181444      0.694567   0.0      3.7      4.2   \n",
       "Comb_Cons        15919.0      4.810032      0.914701   0.0      4.0      4.8   \n",
       "\n",
       "                     75%       max  \n",
       "Price            21900.0   74600.0  \n",
       "km               47000.0  317000.0  \n",
       "hp                 103.0     294.0  \n",
       "Warranty            24.0      72.0  \n",
       "Age                  2.0       3.0  \n",
       "Nr_of_Doors          5.0       5.0  \n",
       "Number_of_Seats      5.0       7.0  \n",
       "Engine_Disp_cc    1598.0   16000.0  \n",
       "Cylinders            4.0       8.0  \n",
       "CO2_Emission       128.0     990.0  \n",
       "Gears                6.0      50.0  \n",
       "Prev_Owner           1.0       4.0  \n",
       "Country_Cons         6.8       9.9  \n",
       "City_Cons            4.5       8.6  \n",
       "Comb_Cons            5.4       9.1  "
      ]
     },
     "execution_count": 12,
     "metadata": {},
     "output_type": "execute_result"
    }
   ],
   "source": [
    "df.describe().T"
   ]
  },
  {
   "cell_type": "code",
   "execution_count": 13,
   "id": "9f14f7fc",
   "metadata": {},
   "outputs": [],
   "source": [
    "#categori_column=['Type','Brand','Model','Gearing_Type','Drive_chain','Fuel','Emission_Class','Comfort_Convenience','Entertainment_Media','Extras',\n",
    "         #'Safety_Security','Body_Type','Inspection_New','Body_Color','Paint_Type','Uphol_Material']"
   ]
  },
  {
   "cell_type": "markdown",
   "id": "57295090",
   "metadata": {},
   "source": [
    "## 📌Price"
   ]
  },
  {
   "cell_type": "code",
   "execution_count": 15,
   "id": "763b5d46",
   "metadata": {},
   "outputs": [
    {
     "name": "stdout",
     "output_type": "stream",
     "text": [
      "Price , Sumation of isnull : 0\n",
      "-----------------\n",
      "Samples for Price \n",
      " 8505     11450\n",
      "14399    23021\n",
      "3075     15470\n",
      "8387     12490\n",
      "552      13790\n",
      "10234    10900\n",
      "15396    23000\n",
      "2024     26980\n",
      "12111    20990\n",
      "14730    11490\n",
      "Name: Price, dtype: int64\n",
      "-----------------\n",
      "Price Value_counts is \n",
      " 14990    154\n",
      "15990    151\n",
      "10990    139\n",
      "15900    106\n",
      "17990    102\n",
      "        ... \n",
      "31940      1\n",
      "15540      1\n",
      "21649      1\n",
      "27790      1\n",
      "34815      1\n",
      "Name: Price, Length: 2956, dtype: int64\n"
     ]
    }
   ],
   "source": [
    "check_col(df, \"Price\")"
   ]
  },
  {
   "cell_type": "code",
   "execution_count": 16,
   "id": "2e3dce44",
   "metadata": {},
   "outputs": [
    {
     "data": {
      "text/plain": [
       "count    15919.000000\n",
       "mean     18019.896727\n",
       "std       7386.169409\n",
       "min         13.000000\n",
       "25%      12850.000000\n",
       "50%      16900.000000\n",
       "75%      21900.000000\n",
       "max      74600.000000\n",
       "Name: Price, dtype: float64"
      ]
     },
     "execution_count": 16,
     "metadata": {},
     "output_type": "execute_result"
    }
   ],
   "source": [
    "df.Price.describe().T"
   ]
  },
  {
   "cell_type": "code",
   "execution_count": 17,
   "id": "64416434",
   "metadata": {
    "scrolled": false
   },
   "outputs": [
    {
     "data": {
      "image/png": "[encoded data removed]",
      "text/plain": [
       "<Figure size 720x432 with 1 Axes>"
      ]
     },
     "metadata": {
      "needs_background": "light"
     },
     "output_type": "display_data"
    }
   ],
   "source": [
    "plt.figure(figsize=(10,6))\n",
    "plt.boxplot(df.Price)\n",
    "\n",
    "plt.show()"
   ]
  },
  {
   "cell_type": "code",
   "execution_count": 18,
   "id": "3f5accc5",
   "metadata": {},
   "outputs": [
    {
     "data": {
      "image/png": "[encoded data removed]",
      "text/plain": [
       "<Figure size 864x432 with 1 Axes>"
      ]
     },
     "metadata": {
      "needs_background": "light"
     },
     "output_type": "display_data"
    }
   ],
   "source": [
    "plt.figure(figsize=(12,6))\n",
    "plt.hist(df.Price, bins=40)\n",
    "\n",
    "plt.show()"
   ]
  },
  {
   "cell_type": "code",
   "execution_count": 19,
   "id": "e4b09772",
   "metadata": {},
   "outputs": [],
   "source": [
    "# 3000'den büyük, 35475'ten küçük olan değerlerin dışındakileri outlier olarak aldık.\n",
    "price_outliers=list(df[(df.Price < 3000) | (df.Price > 35475)].index) "
   ]
  },
  {
   "cell_type": "code",
   "execution_count": 20,
   "id": "38038902",
   "metadata": {},
   "outputs": [],
   "source": [
    "df.loc[price_outliers,'Price']= np.nan"
   ]
  },
  {
   "cell_type": "code",
   "execution_count": 21,
   "id": "b77e71c7",
   "metadata": {},
   "outputs": [
    {
     "data": {
      "text/plain": [
       "713     NaN\n",
       "732     NaN\n",
       "3587    NaN\n",
       "3589    NaN\n",
       "3590    NaN\n",
       "         ..\n",
       "15914   NaN\n",
       "15915   NaN\n",
       "15916   NaN\n",
       "15917   NaN\n",
       "15918   NaN\n",
       "Name: Price, Length: 483, dtype: float64"
      ]
     },
     "execution_count": 21,
     "metadata": {},
     "output_type": "execute_result"
    }
   ],
   "source": [
    "df.loc[price_outliers,'Price']"
   ]
  },
  {
   "cell_type": "code",
   "execution_count": 22,
   "id": "2e5084b5",
   "metadata": {},
   "outputs": [
    {
     "name": "stdout",
     "output_type": "stream",
     "text": [
      "Number of NaN :  0\n",
      "------------------\n",
      "14990.0    154\n",
      "15990.0    151\n",
      "10990.0    139\n",
      "33975.0    125\n",
      "15900.0    106\n",
      "          ... \n",
      "8440.0       1\n",
      "13895.0      1\n",
      "9965.0       1\n",
      "13660.0      1\n",
      "13860.0      1\n",
      "Name: Price, Length: 2665, dtype: int64\n"
     ]
    }
   ],
   "source": [
    "fill(df,'Model','Age','Price','ffill') # NaN olarak gelen outlier'lara ffill metoduyla doldurduk."
   ]
  },
  {
   "cell_type": "code",
   "execution_count": 23,
   "id": "6aa25e30",
   "metadata": {},
   "outputs": [
    {
     "data": {
      "image/png": "[encoded data removed]",
      "text/plain": [
       "<Figure size 864x432 with 1 Axes>"
      ]
     },
     "metadata": {
      "needs_background": "light"
     },
     "output_type": "display_data"
    }
   ],
   "source": [
    "plt.figure(figsize=(12,6))\n",
    "plt.boxplot(df.Price)\n",
    "\n",
    "plt.show()"
   ]
  },
  {
   "cell_type": "code",
   "execution_count": 24,
   "id": "d65d0c4b",
   "metadata": {},
   "outputs": [
    {
     "data": {
      "image/png": "[encoded data removed]",
      "text/plain": [
       "<Figure size 864x432 with 1 Axes>"
      ]
     },
     "metadata": {
      "needs_background": "light"
     },
     "output_type": "display_data"
    }
   ],
   "source": [
    "plt.figure(figsize=(12,6))\n",
    "plt.hist(df.Price, bins=20)\n",
    "\n",
    "plt.show()"
   ]
  },
  {
   "cell_type": "markdown",
   "id": "f6590c50",
   "metadata": {},
   "source": [
    "## 📌HP"
   ]
  },
  {
   "cell_type": "code",
   "execution_count": 25,
   "id": "d10c294c",
   "metadata": {
    "scrolled": true
   },
   "outputs": [
    {
     "name": "stdout",
     "output_type": "stream",
     "text": [
      "hp , Sumation of isnull : 0\n",
      "-----------------\n",
      "Samples for hp \n",
      " 2533      71.0\n",
      "6056     100.0\n",
      "11057    103.0\n",
      "13574     55.0\n",
      "14813     56.0\n",
      "15917    147.0\n",
      "2228      70.0\n",
      "1864      70.0\n",
      "5018      85.0\n",
      "773       66.0\n",
      "Name: hp, dtype: float64\n",
      "-----------------\n",
      "hp Value_counts is \n",
      " 85.0     2544\n",
      "66.0     2138\n",
      "81.0     1403\n",
      "100.0    1315\n",
      "110.0    1119\n",
      "         ... \n",
      "163.0       1\n",
      "84.0        1\n",
      "137.0       1\n",
      "123.0       1\n",
      "75.0        1\n",
      "Name: hp, Length: 75, dtype: int64\n"
     ]
    }
   ],
   "source": [
    "check_col(df,'hp')"
   ]
  },
  {
   "cell_type": "code",
   "execution_count": 26,
   "id": "e913e114",
   "metadata": {},
   "outputs": [
    {
     "data": {
      "text/plain": [
       "count    15919.000000\n",
       "mean        88.541617\n",
       "std         26.689225\n",
       "min         51.000000\n",
       "25%         66.000000\n",
       "50%         85.000000\n",
       "75%        103.000000\n",
       "max        294.000000\n",
       "Name: hp, dtype: float64"
      ]
     },
     "execution_count": 26,
     "metadata": {},
     "output_type": "execute_result"
    }
   ],
   "source": [
    "df.hp.describe()"
   ]
  },
  {
   "cell_type": "code",
   "execution_count": 34,
   "id": "f53121a9",
   "metadata": {
    "scrolled": false
   },
   "outputs": [
    {
     "data": {
      "image/png": "[encoded data removed]",
      "text/plain": [
       "<Figure size 864x432 with 1 Axes>"
      ]
     },
     "metadata": {
      "needs_background": "light"
     },
     "output_type": "display_data"
    }
   ],
   "source": [
    "plt.figure(figsize=(12,6))\n",
    "plt.boxplot(df.hp)\n",
    "\n",
    "plt.show()"
   ]
  },
  {
   "cell_type": "markdown",
   "id": "cb94dbd7",
   "metadata": {},
   "source": [
    "    📍IQR = 2,5 olarak aldik."
   ]
  },
  {
   "cell_type": "code",
   "execution_count": 35,
   "id": "bc4c29a0",
   "metadata": {},
   "outputs": [],
   "source": [
    "hp_anomali=list(df[df.hp < 44].index) "
   ]
  },
  {
   "cell_type": "code",
   "execution_count": 36,
   "id": "fe0fb878",
   "metadata": {},
   "outputs": [],
   "source": [
    "df.loc[hp_anomali,'hp']= np.nan"
   ]
  },
  {
   "cell_type": "code",
   "execution_count": 37,
   "id": "a97ebbeb",
   "metadata": {},
   "outputs": [
    {
     "data": {
      "text/plain": [
       "Series([], Name: hp, dtype: float64)"
      ]
     },
     "execution_count": 37,
     "metadata": {},
     "output_type": "execute_result"
    }
   ],
   "source": [
    "df.loc[hp_anomali,'hp']"
   ]
  },
  {
   "cell_type": "code",
   "execution_count": 38,
   "id": "b168a23c",
   "metadata": {},
   "outputs": [
    {
     "name": "stdout",
     "output_type": "stream",
     "text": [
      "Number of NaN :  0\n",
      "------------------\n",
      "85.0     2544\n",
      "66.0     2138\n",
      "81.0     1403\n",
      "100.0    1315\n",
      "110.0    1119\n",
      "         ... \n",
      "163.0       1\n",
      "84.0        1\n",
      "137.0       1\n",
      "123.0       1\n",
      "75.0        1\n",
      "Name: hp, Length: 75, dtype: int64\n"
     ]
    }
   ],
   "source": [
    "fill(df,'Model','Body_Type','hp','mode')"
   ]
  },
  {
   "cell_type": "code",
   "execution_count": 39,
   "id": "0fb69941",
   "metadata": {},
   "outputs": [
    {
     "data": {
      "text/plain": [
       "0"
      ]
     },
     "execution_count": 39,
     "metadata": {},
     "output_type": "execute_result"
    }
   ],
   "source": [
    "df.hp.isnull().sum()"
   ]
  },
  {
   "cell_type": "code",
   "execution_count": 40,
   "id": "fce24710",
   "metadata": {},
   "outputs": [
    {
     "data": {
      "image/png": "[encoded data removed]",
      "text/plain": [
       "<Figure size 864x432 with 1 Axes>"
      ]
     },
     "metadata": {
      "needs_background": "light"
     },
     "output_type": "display_data"
    }
   ],
   "source": [
    "plt.figure(figsize=(12,6))\n",
    "plt.boxplot(df.hp)\n",
    "\n",
    "plt.show()"
   ]
  },
  {
   "cell_type": "code",
   "execution_count": 44,
   "id": "ae187afd",
   "metadata": {},
   "outputs": [
    {
     "data": {
      "image/png": "[encoded data removed]",
      "text/plain": [
       "<Figure size 864x432 with 1 Axes>"
      ]
     },
     "metadata": {
      "needs_background": "light"
     },
     "output_type": "display_data"
    }
   ],
   "source": [
    "plt.figure(figsize=(12,6))\n",
    "plt.hist(df.hp, bins=20)\n",
    "\n",
    "plt.show()"
   ]
  },
  {
   "cell_type": "markdown",
   "id": "bd19df98",
   "metadata": {},
   "source": [
    "## 📌Type"
   ]
  },
  {
   "cell_type": "code",
   "execution_count": 45,
   "id": "40d945ee",
   "metadata": {
    "scrolled": true
   },
   "outputs": [
    {
     "name": "stdout",
     "output_type": "stream",
     "text": [
      "Type , Sumation of isnull : 0\n",
      "-----------------\n",
      "Samples for Type \n",
      " 894                Used\n",
      "9202               Used\n",
      "414                Used\n",
      "12808               New\n",
      "10217    Pre-registered\n",
      "13281              Used\n",
      "7582     Employee's car\n",
      "15175              Used\n",
      "7477     Employee's car\n",
      "9652     Pre-registered\n",
      "Name: Type, dtype: object\n",
      "-----------------\n",
      "Type Value_counts is \n",
      " Used              11098\n",
      "New                1650\n",
      "Pre-registered     1364\n",
      "Employee's car     1011\n",
      "Demonstration       796\n",
      "Name: Type, dtype: int64\n"
     ]
    }
   ],
   "source": [
    "check_col(df,'Type')"
   ]
  },
  {
   "cell_type": "markdown",
   "id": "3beda836",
   "metadata": {},
   "source": [
    "## 📌 Warranty"
   ]
  },
  {
   "cell_type": "code",
   "execution_count": 46,
   "id": "79470a1b",
   "metadata": {
    "scrolled": true
   },
   "outputs": [
    {
     "name": "stdout",
     "output_type": "stream",
     "text": [
      "Warranty , Sumation of isnull : 0\n",
      "-----------------\n",
      "Samples for Warranty \n",
      " 10721    12.0\n",
      "6425     12.0\n",
      "15080    12.0\n",
      "4174     12.0\n",
      "3744     12.0\n",
      "12402    24.0\n",
      "34       12.0\n",
      "1815     24.0\n",
      "1102     24.0\n",
      "3791     12.0\n",
      "Name: Warranty, dtype: float64\n",
      "-----------------\n",
      "Warranty Value_counts is \n",
      " 12.0    9567\n",
      "24.0    5211\n",
      "60.0     401\n",
      "36.0     279\n",
      "48.0     149\n",
      "6.0      125\n",
      "72.0      59\n",
      "3.0       33\n",
      "23.0      11\n",
      "18.0      10\n",
      "20.0       7\n",
      "25.0       6\n",
      "2.0        5\n",
      "16.0       4\n",
      "26.0       4\n",
      "50.0       4\n",
      "4.0        3\n",
      "34.0       3\n",
      "13.0       3\n",
      "19.0       3\n",
      "1.0        3\n",
      "21.0       2\n",
      "45.0       2\n",
      "11.0       2\n",
      "46.0       2\n",
      "9.0        2\n",
      "14.0       2\n",
      "28.0       2\n",
      "17.0       2\n",
      "22.0       2\n",
      "15.0       1\n",
      "33.0       1\n",
      "30.0       1\n",
      "56.0       1\n",
      "7.0        1\n",
      "8.0        1\n",
      "10.0       1\n",
      "49.0       1\n",
      "47.0       1\n",
      "40.0       1\n",
      "65.0       1\n",
      "Name: Warranty, dtype: int64\n"
     ]
    }
   ],
   "source": [
    "check_col(df,'Warranty')"
   ]
  },
  {
   "cell_type": "code",
   "execution_count": 47,
   "id": "19dd2fe6",
   "metadata": {},
   "outputs": [],
   "source": [
    "df.drop('Warranty', axis=1, inplace=True)"
   ]
  },
  {
   "cell_type": "markdown",
   "id": "e6a6500c",
   "metadata": {},
   "source": [
    "## 📌Brand"
   ]
  },
  {
   "cell_type": "code",
   "execution_count": 48,
   "id": "c7c5549b",
   "metadata": {},
   "outputs": [
    {
     "name": "stdout",
     "output_type": "stream",
     "text": [
      "Brand , Sumation of isnull : 0\n",
      "-----------------\n",
      "Samples for Brand \n",
      " 1914        Audi\n",
      "11081       Opel\n",
      "4464        Audi\n",
      "3636        Audi\n",
      "4927        Audi\n",
      "10340       Opel\n",
      "10965       Opel\n",
      "2035        Audi\n",
      "13141    Renault\n",
      "13061    Renault\n",
      "Name: Brand, dtype: object\n",
      "-----------------\n",
      "Brand Value_counts is \n",
      " Opel       7343\n",
      "Audi       5712\n",
      "Renault    2864\n",
      "Name: Brand, dtype: int64\n"
     ]
    }
   ],
   "source": [
    "check_col(df,'Brand')"
   ]
  },
  {
   "cell_type": "markdown",
   "id": "ebf20b21",
   "metadata": {},
   "source": [
    "## 📌 Model"
   ]
  },
  {
   "cell_type": "code",
   "execution_count": 49,
   "id": "6310357c",
   "metadata": {},
   "outputs": [
    {
     "name": "stdout",
     "output_type": "stream",
     "text": [
      "Model , Sumation of isnull : 0\n",
      "-----------------\n",
      "Samples for Model \n",
      " 14362        Clio\n",
      "4246           A3\n",
      "7275        Astra\n",
      "15065      Espace\n",
      "5097           A3\n",
      "11127    Insignia\n",
      "15423      Espace\n",
      "11723    Insignia\n",
      "9546        Corsa\n",
      "1233           A1\n",
      "Name: Model, dtype: object\n",
      "-----------------\n",
      "Model Value_counts is \n",
      " A3          3097\n",
      "A1          2614\n",
      "Insignia    2598\n",
      "Astra       2526\n",
      "Corsa       2219\n",
      "Clio        1839\n",
      "Espace       991\n",
      "Duster        34\n",
      "A2             1\n",
      "Name: Model, dtype: int64\n"
     ]
    }
   ],
   "source": [
    "check_col(df,'Model')"
   ]
  },
  {
   "cell_type": "markdown",
   "id": "d704ffd3",
   "metadata": {},
   "source": [
    "## 📌Age"
   ]
  },
  {
   "cell_type": "code",
   "execution_count": 50,
   "id": "182936a1",
   "metadata": {},
   "outputs": [
    {
     "name": "stdout",
     "output_type": "stream",
     "text": [
      "Age , Sumation of isnull : 0\n",
      "-----------------\n",
      "Samples for Age \n",
      " 14774    0.0\n",
      "9059     3.0\n",
      "5667     0.0\n",
      "13220    2.0\n",
      "7031     1.0\n",
      "4422     1.0\n",
      "3814     2.0\n",
      "13788    0.0\n",
      "14982    1.0\n",
      "15624    1.0\n",
      "Name: Age, dtype: float64\n",
      "-----------------\n",
      "Age Value_counts is \n",
      " 1.0    4813\n",
      "0.0    4077\n",
      "3.0    3696\n",
      "2.0    3333\n",
      "Name: Age, dtype: int64\n"
     ]
    }
   ],
   "source": [
    "check_col(df,'Age')"
   ]
  },
  {
   "cell_type": "code",
   "execution_count": 52,
   "id": "bd64ab32",
   "metadata": {
    "scrolled": true
   },
   "outputs": [
    {
     "data": {
      "image/png": "[encoded data removed]",
      "text/plain": [
       "<Figure size 432x288 with 1 Axes>"
      ]
     },
     "metadata": {
      "needs_background": "light"
     },
     "output_type": "display_data"
    }
   ],
   "source": [
    "sns.barplot(x=df.Age,y=df.km);"
   ]
  },
  {
   "cell_type": "code",
   "execution_count": 54,
   "id": "5222a4f1",
   "metadata": {},
   "outputs": [
    {
     "data": {
      "image/png": "[encoded data removed]",
      "text/plain": [
       "<Figure size 432x288 with 1 Axes>"
      ]
     },
     "metadata": {
      "needs_background": "light"
     },
     "output_type": "display_data"
    }
   ],
   "source": [
    "sns.scatterplot(x=df.Age,y=df.km);"
   ]
  },
  {
   "cell_type": "markdown",
   "id": "85322c14",
   "metadata": {},
   "source": [
    "## 📌Nr_of_Doors"
   ]
  },
  {
   "cell_type": "code",
   "execution_count": 55,
   "id": "a18a1513",
   "metadata": {},
   "outputs": [
    {
     "name": "stdout",
     "output_type": "stream",
     "text": [
      "Nr_of_Doors , Sumation of isnull : 0\n",
      "-----------------\n",
      "Samples for Nr_of_Doors \n",
      " 2818     4.0\n",
      "4437     5.0\n",
      "2687     5.0\n",
      "11995    4.0\n",
      "4658     5.0\n",
      "13607    5.0\n",
      "11982    5.0\n",
      "302      4.0\n",
      "12118    4.0\n",
      "12289    4.0\n",
      "Name: Nr_of_Doors, dtype: float64\n",
      "-----------------\n",
      "Nr_of_Doors Value_counts is \n",
      " 5.0    11789\n",
      "4.0     3079\n",
      "3.0      832\n",
      "2.0      219\n",
      "Name: Nr_of_Doors, dtype: int64\n"
     ]
    }
   ],
   "source": [
    "check_col(df,'Nr_of_Doors')"
   ]
  },
  {
   "cell_type": "code",
   "execution_count": 56,
   "id": "649117e8",
   "metadata": {},
   "outputs": [],
   "source": [
    "df.drop('Nr_of_Doors', axis=1, inplace=True)"
   ]
  },
  {
   "cell_type": "markdown",
   "id": "ec1377bb",
   "metadata": {},
   "source": [
    "## 📌 Number_of_Seats"
   ]
  },
  {
   "cell_type": "code",
   "execution_count": 57,
   "id": "970fcef8",
   "metadata": {
    "scrolled": true
   },
   "outputs": [
    {
     "name": "stdout",
     "output_type": "stream",
     "text": [
      "Number_of_Seats , Sumation of isnull : 0\n",
      "-----------------\n",
      "Samples for Number_of_Seats \n",
      " 1297     4.0\n",
      "9413     5.0\n",
      "10263    5.0\n",
      "4851     5.0\n",
      "13824    5.0\n",
      "4039     5.0\n",
      "7242     5.0\n",
      "14014    5.0\n",
      "13926    5.0\n",
      "11858    5.0\n",
      "Name: Number_of_Seats, dtype: float64\n",
      "-----------------\n",
      "Number_of_Seats Value_counts is \n",
      " 5.0    14179\n",
      "4.0     1196\n",
      "7.0      409\n",
      "2.0      132\n",
      "6.0        2\n",
      "3.0        1\n",
      "Name: Number_of_Seats, dtype: int64\n"
     ]
    }
   ],
   "source": [
    "check_col(df,'Number_of_Seats')"
   ]
  },
  {
   "cell_type": "code",
   "execution_count": 58,
   "id": "40b38cb3",
   "metadata": {},
   "outputs": [],
   "source": [
    "df.drop('Number_of_Seats', axis=1, inplace=True)"
   ]
  },
  {
   "cell_type": "markdown",
   "id": "78c5fd43",
   "metadata": {},
   "source": [
    "## 📌Gearing_Type"
   ]
  },
  {
   "cell_type": "code",
   "execution_count": 59,
   "id": "db02b9a9",
   "metadata": {},
   "outputs": [
    {
     "name": "stdout",
     "output_type": "stream",
     "text": [
      "Gearing_Type , Sumation of isnull : 0\n",
      "-----------------\n",
      "Samples for Gearing_Type \n",
      " 5882     Automatic\n",
      "12735       Manual\n",
      "10118    Automatic\n",
      "13646       Manual\n",
      "15514    Automatic\n",
      "9214        Manual\n",
      "9351     Automatic\n",
      "15475    Automatic\n",
      "15680    Automatic\n",
      "14655       Manual\n",
      "Name: Gearing_Type, dtype: object\n",
      "-----------------\n",
      "Gearing_Type Value_counts is \n",
      " Manual            8153\n",
      "Automatic         7297\n",
      "Semi-automatic     469\n",
      "Name: Gearing_Type, dtype: int64\n"
     ]
    }
   ],
   "source": [
    "check_col(df,'Gearing_Type')"
   ]
  },
  {
   "cell_type": "code",
   "execution_count": 60,
   "id": "7c5c7533",
   "metadata": {},
   "outputs": [
    {
     "data": {
      "image/png": "[encoded data removed]",
      "text/plain": [
       "<Figure size 432x288 with 1 Axes>"
      ]
     },
     "metadata": {
      "needs_background": "light"
     },
     "output_type": "display_data"
    }
   ],
   "source": [
    "sns.barplot(x=df.Gearing_Type, y=df.Price);"
   ]
  },
  {
   "cell_type": "markdown",
   "id": "255f5826",
   "metadata": {},
   "source": [
    "## 📌Engine_Disp_cc"
   ]
  },
  {
   "cell_type": "code",
   "execution_count": 61,
   "id": "f78c62b0",
   "metadata": {},
   "outputs": [
    {
     "name": "stdout",
     "output_type": "stream",
     "text": [
      "Engine_Disp_cc , Sumation of isnull : 0\n",
      "-----------------\n",
      "Samples for Engine_Disp_cc \n",
      " 13635    1461.0\n",
      "10377    1229.0\n",
      "5432     1598.0\n",
      "13913    1461.0\n",
      "6735     1598.0\n",
      "1221      999.0\n",
      "9093     1229.0\n",
      "11937    1956.0\n",
      "10371    1229.0\n",
      "448       999.0\n",
      "Name: Engine_Disp_cc, dtype: float64\n",
      "-----------------\n",
      "Engine_Disp_cc Value_counts is \n",
      " 1598.0    5042\n",
      "999.0     2466\n",
      "1398.0    1334\n",
      "1399.0     768\n",
      "1229.0     677\n",
      "          ... \n",
      "1696.0       1\n",
      "122.0        1\n",
      "140.0        1\n",
      "1390.0       1\n",
      "1533.0       1\n",
      "Name: Engine_Disp_cc, Length: 80, dtype: int64\n"
     ]
    }
   ],
   "source": [
    "check_col(df,'Engine_Disp_cc')"
   ]
  },
  {
   "cell_type": "code",
   "execution_count": 62,
   "id": "1b8e5de2",
   "metadata": {},
   "outputs": [
    {
     "data": {
      "image/png": "[encoded data removed]",
      "text/plain": [
       "<Figure size 864x432 with 1 Axes>"
      ]
     },
     "metadata": {
      "needs_background": "light"
     },
     "output_type": "display_data"
    }
   ],
   "source": [
    "plt.figure(figsize=(12,6))\n",
    "plt.boxplot(df.Engine_Disp_cc)\n",
    "\n",
    "plt.show()"
   ]
  },
  {
   "cell_type": "code",
   "execution_count": 63,
   "id": "fbb0f4ac",
   "metadata": {},
   "outputs": [
    {
     "data": {
      "text/plain": [
       "count    15919.000000\n",
       "mean      1424.332653\n",
       "std        330.058129\n",
       "min          1.000000\n",
       "25%       1229.000000\n",
       "50%       1461.000000\n",
       "75%       1598.000000\n",
       "max      16000.000000\n",
       "Name: Engine_Disp_cc, dtype: float64"
      ]
     },
     "execution_count": 63,
     "metadata": {},
     "output_type": "execute_result"
    }
   ],
   "source": [
    "df.Engine_Disp_cc.describe()"
   ]
  },
  {
   "cell_type": "code",
   "execution_count": 64,
   "id": "0231efe5",
   "metadata": {
    "scrolled": true
   },
   "outputs": [
    {
     "data": {
      "text/html": [
       "<div>\n",
       "<style scoped>\n",
       "    .dataframe tbody tr th:only-of-type {\n",
       "        vertical-align: middle;\n",
       "    }\n",
       "\n",
       "    .dataframe tbody tr th {\n",
       "        vertical-align: top;\n",
       "    }\n",
       "\n",
       "    .dataframe thead th {\n",
       "        text-align: right;\n",
       "    }\n",
       "</style>\n",
       "<table border=\"1\" class=\"dataframe\">\n",
       "  <thead>\n",
       "    <tr style=\"text-align: right;\">\n",
       "      <th></th>\n",
       "      <th>Engine_Disp_cc</th>\n",
       "      <th>Model</th>\n",
       "    </tr>\n",
       "  </thead>\n",
       "  <tbody>\n",
       "    <tr>\n",
       "      <th>12849</th>\n",
       "      <td>1.0</td>\n",
       "      <td>Insignia</td>\n",
       "    </tr>\n",
       "    <tr>\n",
       "      <th>12786</th>\n",
       "      <td>1.0</td>\n",
       "      <td>Insignia</td>\n",
       "    </tr>\n",
       "    <tr>\n",
       "      <th>12783</th>\n",
       "      <td>1.0</td>\n",
       "      <td>Insignia</td>\n",
       "    </tr>\n",
       "    <tr>\n",
       "      <th>12781</th>\n",
       "      <td>1.0</td>\n",
       "      <td>Insignia</td>\n",
       "    </tr>\n",
       "    <tr>\n",
       "      <th>12769</th>\n",
       "      <td>1.0</td>\n",
       "      <td>Insignia</td>\n",
       "    </tr>\n",
       "    <tr>\n",
       "      <th>14321</th>\n",
       "      <td>1.0</td>\n",
       "      <td>Clio</td>\n",
       "    </tr>\n",
       "    <tr>\n",
       "      <th>12768</th>\n",
       "      <td>1.0</td>\n",
       "      <td>Insignia</td>\n",
       "    </tr>\n",
       "    <tr>\n",
       "      <th>14314</th>\n",
       "      <td>1.0</td>\n",
       "      <td>Clio</td>\n",
       "    </tr>\n",
       "    <tr>\n",
       "      <th>14315</th>\n",
       "      <td>1.0</td>\n",
       "      <td>Clio</td>\n",
       "    </tr>\n",
       "    <tr>\n",
       "      <th>14320</th>\n",
       "      <td>1.0</td>\n",
       "      <td>Clio</td>\n",
       "    </tr>\n",
       "    <tr>\n",
       "      <th>12750</th>\n",
       "      <td>1.0</td>\n",
       "      <td>Insignia</td>\n",
       "    </tr>\n",
       "    <tr>\n",
       "      <th>12670</th>\n",
       "      <td>1.0</td>\n",
       "      <td>Insignia</td>\n",
       "    </tr>\n",
       "    <tr>\n",
       "      <th>14319</th>\n",
       "      <td>1.0</td>\n",
       "      <td>Clio</td>\n",
       "    </tr>\n",
       "    <tr>\n",
       "      <th>14322</th>\n",
       "      <td>1.0</td>\n",
       "      <td>Clio</td>\n",
       "    </tr>\n",
       "    <tr>\n",
       "      <th>12604</th>\n",
       "      <td>1.0</td>\n",
       "      <td>Insignia</td>\n",
       "    </tr>\n",
       "    <tr>\n",
       "      <th>13904</th>\n",
       "      <td>1.0</td>\n",
       "      <td>Clio</td>\n",
       "    </tr>\n",
       "    <tr>\n",
       "      <th>12467</th>\n",
       "      <td>1.0</td>\n",
       "      <td>Insignia</td>\n",
       "    </tr>\n",
       "    <tr>\n",
       "      <th>12554</th>\n",
       "      <td>1.0</td>\n",
       "      <td>Insignia</td>\n",
       "    </tr>\n",
       "    <tr>\n",
       "      <th>12473</th>\n",
       "      <td>1.0</td>\n",
       "      <td>Insignia</td>\n",
       "    </tr>\n",
       "    <tr>\n",
       "      <th>12484</th>\n",
       "      <td>1.0</td>\n",
       "      <td>Insignia</td>\n",
       "    </tr>\n",
       "    <tr>\n",
       "      <th>12501</th>\n",
       "      <td>1.0</td>\n",
       "      <td>Insignia</td>\n",
       "    </tr>\n",
       "    <tr>\n",
       "      <th>12796</th>\n",
       "      <td>1.0</td>\n",
       "      <td>Insignia</td>\n",
       "    </tr>\n",
       "    <tr>\n",
       "      <th>12790</th>\n",
       "      <td>1.0</td>\n",
       "      <td>Insignia</td>\n",
       "    </tr>\n",
       "    <tr>\n",
       "      <th>12499</th>\n",
       "      <td>1.0</td>\n",
       "      <td>Insignia</td>\n",
       "    </tr>\n",
       "    <tr>\n",
       "      <th>14284</th>\n",
       "      <td>1.0</td>\n",
       "      <td>Clio</td>\n",
       "    </tr>\n",
       "    <tr>\n",
       "      <th>12835</th>\n",
       "      <td>1.0</td>\n",
       "      <td>Insignia</td>\n",
       "    </tr>\n",
       "    <tr>\n",
       "      <th>14326</th>\n",
       "      <td>1.0</td>\n",
       "      <td>Clio</td>\n",
       "    </tr>\n",
       "    <tr>\n",
       "      <th>14327</th>\n",
       "      <td>1.0</td>\n",
       "      <td>Clio</td>\n",
       "    </tr>\n",
       "    <tr>\n",
       "      <th>14328</th>\n",
       "      <td>1.0</td>\n",
       "      <td>Clio</td>\n",
       "    </tr>\n",
       "    <tr>\n",
       "      <th>12798</th>\n",
       "      <td>1.0</td>\n",
       "      <td>Insignia</td>\n",
       "    </tr>\n",
       "    <tr>\n",
       "      <th>12823</th>\n",
       "      <td>1.0</td>\n",
       "      <td>Insignia</td>\n",
       "    </tr>\n",
       "    <tr>\n",
       "      <th>14324</th>\n",
       "      <td>1.0</td>\n",
       "      <td>Clio</td>\n",
       "    </tr>\n",
       "    <tr>\n",
       "      <th>12800</th>\n",
       "      <td>1.0</td>\n",
       "      <td>Insignia</td>\n",
       "    </tr>\n",
       "    <tr>\n",
       "      <th>12848</th>\n",
       "      <td>1.0</td>\n",
       "      <td>Insignia</td>\n",
       "    </tr>\n",
       "    <tr>\n",
       "      <th>12815</th>\n",
       "      <td>1.0</td>\n",
       "      <td>Insignia</td>\n",
       "    </tr>\n",
       "    <tr>\n",
       "      <th>14325</th>\n",
       "      <td>1.0</td>\n",
       "      <td>Clio</td>\n",
       "    </tr>\n",
       "    <tr>\n",
       "      <th>14198</th>\n",
       "      <td>2.0</td>\n",
       "      <td>Clio</td>\n",
       "    </tr>\n",
       "    <tr>\n",
       "      <th>10559</th>\n",
       "      <td>2.0</td>\n",
       "      <td>Insignia</td>\n",
       "    </tr>\n",
       "    <tr>\n",
       "      <th>13912</th>\n",
       "      <td>54.0</td>\n",
       "      <td>Clio</td>\n",
       "    </tr>\n",
       "    <tr>\n",
       "      <th>10194</th>\n",
       "      <td>122.0</td>\n",
       "      <td>Corsa</td>\n",
       "    </tr>\n",
       "    <tr>\n",
       "      <th>7809</th>\n",
       "      <td>139.0</td>\n",
       "      <td>Astra</td>\n",
       "    </tr>\n",
       "    <tr>\n",
       "      <th>7812</th>\n",
       "      <td>139.0</td>\n",
       "      <td>Astra</td>\n",
       "    </tr>\n",
       "    <tr>\n",
       "      <th>7811</th>\n",
       "      <td>139.0</td>\n",
       "      <td>Astra</td>\n",
       "    </tr>\n",
       "    <tr>\n",
       "      <th>7810</th>\n",
       "      <td>139.0</td>\n",
       "      <td>Astra</td>\n",
       "    </tr>\n",
       "    <tr>\n",
       "      <th>8128</th>\n",
       "      <td>140.0</td>\n",
       "      <td>Astra</td>\n",
       "    </tr>\n",
       "    <tr>\n",
       "      <th>15574</th>\n",
       "      <td>160.0</td>\n",
       "      <td>Espace</td>\n",
       "    </tr>\n",
       "    <tr>\n",
       "      <th>15575</th>\n",
       "      <td>160.0</td>\n",
       "      <td>Espace</td>\n",
       "    </tr>\n",
       "    <tr>\n",
       "      <th>15576</th>\n",
       "      <td>160.0</td>\n",
       "      <td>Espace</td>\n",
       "    </tr>\n",
       "    <tr>\n",
       "      <th>15577</th>\n",
       "      <td>160.0</td>\n",
       "      <td>Espace</td>\n",
       "    </tr>\n",
       "    <tr>\n",
       "      <th>15578</th>\n",
       "      <td>160.0</td>\n",
       "      <td>Espace</td>\n",
       "    </tr>\n",
       "    <tr>\n",
       "      <th>15579</th>\n",
       "      <td>160.0</td>\n",
       "      <td>Espace</td>\n",
       "    </tr>\n",
       "    <tr>\n",
       "      <th>13653</th>\n",
       "      <td>890.0</td>\n",
       "      <td>Clio</td>\n",
       "    </tr>\n",
       "    <tr>\n",
       "      <th>14770</th>\n",
       "      <td>898.0</td>\n",
       "      <td>Clio</td>\n",
       "    </tr>\n",
       "    <tr>\n",
       "      <th>14768</th>\n",
       "      <td>898.0</td>\n",
       "      <td>Clio</td>\n",
       "    </tr>\n",
       "    <tr>\n",
       "      <th>14769</th>\n",
       "      <td>898.0</td>\n",
       "      <td>Clio</td>\n",
       "    </tr>\n",
       "  </tbody>\n",
       "</table>\n",
       "</div>"
      ],
      "text/plain": [
       "       Engine_Disp_cc     Model\n",
       "12849             1.0  Insignia\n",
       "12786             1.0  Insignia\n",
       "12783             1.0  Insignia\n",
       "12781             1.0  Insignia\n",
       "12769             1.0  Insignia\n",
       "14321             1.0      Clio\n",
       "12768             1.0  Insignia\n",
       "14314             1.0      Clio\n",
       "14315             1.0      Clio\n",
       "14320             1.0      Clio\n",
       "12750             1.0  Insignia\n",
       "12670             1.0  Insignia\n",
       "14319             1.0      Clio\n",
       "14322             1.0      Clio\n",
       "12604             1.0  Insignia\n",
       "13904             1.0      Clio\n",
       "12467             1.0  Insignia\n",
       "12554             1.0  Insignia\n",
       "12473             1.0  Insignia\n",
       "12484             1.0  Insignia\n",
       "12501             1.0  Insignia\n",
       "12796             1.0  Insignia\n",
       "12790             1.0  Insignia\n",
       "12499             1.0  Insignia\n",
       "14284             1.0      Clio\n",
       "12835             1.0  Insignia\n",
       "14326             1.0      Clio\n",
       "14327             1.0      Clio\n",
       "14328             1.0      Clio\n",
       "12798             1.0  Insignia\n",
       "12823             1.0  Insignia\n",
       "14324             1.0      Clio\n",
       "12800             1.0  Insignia\n",
       "12848             1.0  Insignia\n",
       "12815             1.0  Insignia\n",
       "14325             1.0      Clio\n",
       "14198             2.0      Clio\n",
       "10559             2.0  Insignia\n",
       "13912            54.0      Clio\n",
       "10194           122.0     Corsa\n",
       "7809            139.0     Astra\n",
       "7812            139.0     Astra\n",
       "7811            139.0     Astra\n",
       "7810            139.0     Astra\n",
       "8128            140.0     Astra\n",
       "15574           160.0    Espace\n",
       "15575           160.0    Espace\n",
       "15576           160.0    Espace\n",
       "15577           160.0    Espace\n",
       "15578           160.0    Espace\n",
       "15579           160.0    Espace\n",
       "13653           890.0      Clio\n",
       "14770           898.0      Clio\n",
       "14768           898.0      Clio\n",
       "14769           898.0      Clio"
      ]
     },
     "execution_count": 64,
     "metadata": {},
     "output_type": "execute_result"
    }
   ],
   "source": [
    "# Piyasadaki en düşük motor hacmi 898cc Clio marka araca aittir. Bu nedenle 898cc'den küçükleri NaN yapar median ile doldurduk.\n",
    "df.sort_values(by=['Engine_Disp_cc'], ascending=True)[['Engine_Disp_cc','Model']].head(55)"
   ]
  },
  {
   "cell_type": "code",
   "execution_count": 65,
   "id": "4a51bb47",
   "metadata": {
    "scrolled": true
   },
   "outputs": [
    {
     "data": {
      "text/html": [
       "<div>\n",
       "<style scoped>\n",
       "    .dataframe tbody tr th:only-of-type {\n",
       "        vertical-align: middle;\n",
       "    }\n",
       "\n",
       "    .dataframe tbody tr th {\n",
       "        vertical-align: top;\n",
       "    }\n",
       "\n",
       "    .dataframe thead th {\n",
       "        text-align: right;\n",
       "    }\n",
       "</style>\n",
       "<table border=\"1\" class=\"dataframe\">\n",
       "  <thead>\n",
       "    <tr style=\"text-align: right;\">\n",
       "      <th></th>\n",
       "      <th>Engine_Disp_cc</th>\n",
       "      <th>Model</th>\n",
       "    </tr>\n",
       "  </thead>\n",
       "  <tbody>\n",
       "    <tr>\n",
       "      <th>10932</th>\n",
       "      <td>16000.0</td>\n",
       "      <td>Insignia</td>\n",
       "    </tr>\n",
       "    <tr>\n",
       "      <th>7169</th>\n",
       "      <td>15898.0</td>\n",
       "      <td>Astra</td>\n",
       "    </tr>\n",
       "    <tr>\n",
       "      <th>10771</th>\n",
       "      <td>2967.0</td>\n",
       "      <td>Insignia</td>\n",
       "    </tr>\n",
       "    <tr>\n",
       "      <th>3592</th>\n",
       "      <td>2480.0</td>\n",
       "      <td>A3</td>\n",
       "    </tr>\n",
       "    <tr>\n",
       "      <th>3609</th>\n",
       "      <td>2480.0</td>\n",
       "      <td>A3</td>\n",
       "    </tr>\n",
       "    <tr>\n",
       "      <th>3610</th>\n",
       "      <td>2480.0</td>\n",
       "      <td>A3</td>\n",
       "    </tr>\n",
       "    <tr>\n",
       "      <th>3600</th>\n",
       "      <td>2480.0</td>\n",
       "      <td>A3</td>\n",
       "    </tr>\n",
       "    <tr>\n",
       "      <th>3649</th>\n",
       "      <td>2480.0</td>\n",
       "      <td>A3</td>\n",
       "    </tr>\n",
       "    <tr>\n",
       "      <th>3648</th>\n",
       "      <td>2480.0</td>\n",
       "      <td>A3</td>\n",
       "    </tr>\n",
       "    <tr>\n",
       "      <th>3587</th>\n",
       "      <td>2480.0</td>\n",
       "      <td>A3</td>\n",
       "    </tr>\n",
       "    <tr>\n",
       "      <th>3608</th>\n",
       "      <td>2480.0</td>\n",
       "      <td>A3</td>\n",
       "    </tr>\n",
       "    <tr>\n",
       "      <th>3606</th>\n",
       "      <td>2480.0</td>\n",
       "      <td>A3</td>\n",
       "    </tr>\n",
       "    <tr>\n",
       "      <th>3590</th>\n",
       "      <td>2480.0</td>\n",
       "      <td>A3</td>\n",
       "    </tr>\n",
       "    <tr>\n",
       "      <th>3601</th>\n",
       "      <td>2480.0</td>\n",
       "      <td>A3</td>\n",
       "    </tr>\n",
       "    <tr>\n",
       "      <th>3596</th>\n",
       "      <td>2480.0</td>\n",
       "      <td>A3</td>\n",
       "    </tr>\n",
       "    <tr>\n",
       "      <th>3595</th>\n",
       "      <td>2480.0</td>\n",
       "      <td>A3</td>\n",
       "    </tr>\n",
       "    <tr>\n",
       "      <th>3602</th>\n",
       "      <td>2480.0</td>\n",
       "      <td>A3</td>\n",
       "    </tr>\n",
       "    <tr>\n",
       "      <th>3603</th>\n",
       "      <td>2480.0</td>\n",
       "      <td>A3</td>\n",
       "    </tr>\n",
       "    <tr>\n",
       "      <th>3599</th>\n",
       "      <td>2480.0</td>\n",
       "      <td>A3</td>\n",
       "    </tr>\n",
       "    <tr>\n",
       "      <th>3593</th>\n",
       "      <td>2480.0</td>\n",
       "      <td>A3</td>\n",
       "    </tr>\n",
       "    <tr>\n",
       "      <th>3604</th>\n",
       "      <td>2480.0</td>\n",
       "      <td>A3</td>\n",
       "    </tr>\n",
       "    <tr>\n",
       "      <th>3598</th>\n",
       "      <td>2480.0</td>\n",
       "      <td>A3</td>\n",
       "    </tr>\n",
       "    <tr>\n",
       "      <th>3605</th>\n",
       "      <td>2480.0</td>\n",
       "      <td>A3</td>\n",
       "    </tr>\n",
       "    <tr>\n",
       "      <th>11988</th>\n",
       "      <td>2000.0</td>\n",
       "      <td>Insignia</td>\n",
       "    </tr>\n",
       "    <tr>\n",
       "      <th>11978</th>\n",
       "      <td>2000.0</td>\n",
       "      <td>Insignia</td>\n",
       "    </tr>\n",
       "    <tr>\n",
       "      <th>11935</th>\n",
       "      <td>2000.0</td>\n",
       "      <td>Insignia</td>\n",
       "    </tr>\n",
       "    <tr>\n",
       "      <th>12181</th>\n",
       "      <td>2000.0</td>\n",
       "      <td>Insignia</td>\n",
       "    </tr>\n",
       "    <tr>\n",
       "      <th>11800</th>\n",
       "      <td>2000.0</td>\n",
       "      <td>Insignia</td>\n",
       "    </tr>\n",
       "    <tr>\n",
       "      <th>12521</th>\n",
       "      <td>2000.0</td>\n",
       "      <td>Insignia</td>\n",
       "    </tr>\n",
       "    <tr>\n",
       "      <th>12518</th>\n",
       "      <td>2000.0</td>\n",
       "      <td>Insignia</td>\n",
       "    </tr>\n",
       "    <tr>\n",
       "      <th>12519</th>\n",
       "      <td>2000.0</td>\n",
       "      <td>Insignia</td>\n",
       "    </tr>\n",
       "    <tr>\n",
       "      <th>11977</th>\n",
       "      <td>2000.0</td>\n",
       "      <td>Insignia</td>\n",
       "    </tr>\n",
       "    <tr>\n",
       "      <th>12411</th>\n",
       "      <td>2000.0</td>\n",
       "      <td>Insignia</td>\n",
       "    </tr>\n",
       "    <tr>\n",
       "      <th>12520</th>\n",
       "      <td>2000.0</td>\n",
       "      <td>Insignia</td>\n",
       "    </tr>\n",
       "    <tr>\n",
       "      <th>12494</th>\n",
       "      <td>2000.0</td>\n",
       "      <td>Insignia</td>\n",
       "    </tr>\n",
       "    <tr>\n",
       "      <th>12170</th>\n",
       "      <td>2000.0</td>\n",
       "      <td>Insignia</td>\n",
       "    </tr>\n",
       "    <tr>\n",
       "      <th>12412</th>\n",
       "      <td>2000.0</td>\n",
       "      <td>Insignia</td>\n",
       "    </tr>\n",
       "    <tr>\n",
       "      <th>12470</th>\n",
       "      <td>2000.0</td>\n",
       "      <td>Insignia</td>\n",
       "    </tr>\n",
       "    <tr>\n",
       "      <th>11929</th>\n",
       "      <td>2000.0</td>\n",
       "      <td>Insignia</td>\n",
       "    </tr>\n",
       "    <tr>\n",
       "      <th>12462</th>\n",
       "      <td>2000.0</td>\n",
       "      <td>Insignia</td>\n",
       "    </tr>\n",
       "    <tr>\n",
       "      <th>12938</th>\n",
       "      <td>2000.0</td>\n",
       "      <td>Insignia</td>\n",
       "    </tr>\n",
       "    <tr>\n",
       "      <th>12945</th>\n",
       "      <td>2000.0</td>\n",
       "      <td>Insignia</td>\n",
       "    </tr>\n",
       "    <tr>\n",
       "      <th>12526</th>\n",
       "      <td>2000.0</td>\n",
       "      <td>Insignia</td>\n",
       "    </tr>\n",
       "    <tr>\n",
       "      <th>12959</th>\n",
       "      <td>2000.0</td>\n",
       "      <td>Insignia</td>\n",
       "    </tr>\n",
       "    <tr>\n",
       "      <th>12527</th>\n",
       "      <td>2000.0</td>\n",
       "      <td>Insignia</td>\n",
       "    </tr>\n",
       "    <tr>\n",
       "      <th>12464</th>\n",
       "      <td>2000.0</td>\n",
       "      <td>Insignia</td>\n",
       "    </tr>\n",
       "    <tr>\n",
       "      <th>12469</th>\n",
       "      <td>2000.0</td>\n",
       "      <td>Insignia</td>\n",
       "    </tr>\n",
       "    <tr>\n",
       "      <th>12472</th>\n",
       "      <td>2000.0</td>\n",
       "      <td>Insignia</td>\n",
       "    </tr>\n",
       "    <tr>\n",
       "      <th>12414</th>\n",
       "      <td>2000.0</td>\n",
       "      <td>Insignia</td>\n",
       "    </tr>\n",
       "    <tr>\n",
       "      <th>13027</th>\n",
       "      <td>2000.0</td>\n",
       "      <td>Insignia</td>\n",
       "    </tr>\n",
       "    <tr>\n",
       "      <th>13029</th>\n",
       "      <td>2000.0</td>\n",
       "      <td>Insignia</td>\n",
       "    </tr>\n",
       "    <tr>\n",
       "      <th>15197</th>\n",
       "      <td>2000.0</td>\n",
       "      <td>Espace</td>\n",
       "    </tr>\n",
       "    <tr>\n",
       "      <th>12114</th>\n",
       "      <td>2000.0</td>\n",
       "      <td>Insignia</td>\n",
       "    </tr>\n",
       "    <tr>\n",
       "      <th>13050</th>\n",
       "      <td>2000.0</td>\n",
       "      <td>Insignia</td>\n",
       "    </tr>\n",
       "    <tr>\n",
       "      <th>13054</th>\n",
       "      <td>2000.0</td>\n",
       "      <td>Insignia</td>\n",
       "    </tr>\n",
       "  </tbody>\n",
       "</table>\n",
       "</div>"
      ],
      "text/plain": [
       "       Engine_Disp_cc     Model\n",
       "10932         16000.0  Insignia\n",
       "7169          15898.0     Astra\n",
       "10771          2967.0  Insignia\n",
       "3592           2480.0        A3\n",
       "3609           2480.0        A3\n",
       "3610           2480.0        A3\n",
       "3600           2480.0        A3\n",
       "3649           2480.0        A3\n",
       "3648           2480.0        A3\n",
       "3587           2480.0        A3\n",
       "3608           2480.0        A3\n",
       "3606           2480.0        A3\n",
       "3590           2480.0        A3\n",
       "3601           2480.0        A3\n",
       "3596           2480.0        A3\n",
       "3595           2480.0        A3\n",
       "3602           2480.0        A3\n",
       "3603           2480.0        A3\n",
       "3599           2480.0        A3\n",
       "3593           2480.0        A3\n",
       "3604           2480.0        A3\n",
       "3598           2480.0        A3\n",
       "3605           2480.0        A3\n",
       "11988          2000.0  Insignia\n",
       "11978          2000.0  Insignia\n",
       "11935          2000.0  Insignia\n",
       "12181          2000.0  Insignia\n",
       "11800          2000.0  Insignia\n",
       "12521          2000.0  Insignia\n",
       "12518          2000.0  Insignia\n",
       "12519          2000.0  Insignia\n",
       "11977          2000.0  Insignia\n",
       "12411          2000.0  Insignia\n",
       "12520          2000.0  Insignia\n",
       "12494          2000.0  Insignia\n",
       "12170          2000.0  Insignia\n",
       "12412          2000.0  Insignia\n",
       "12470          2000.0  Insignia\n",
       "11929          2000.0  Insignia\n",
       "12462          2000.0  Insignia\n",
       "12938          2000.0  Insignia\n",
       "12945          2000.0  Insignia\n",
       "12526          2000.0  Insignia\n",
       "12959          2000.0  Insignia\n",
       "12527          2000.0  Insignia\n",
       "12464          2000.0  Insignia\n",
       "12469          2000.0  Insignia\n",
       "12472          2000.0  Insignia\n",
       "12414          2000.0  Insignia\n",
       "13027          2000.0  Insignia\n",
       "13029          2000.0  Insignia\n",
       "15197          2000.0    Espace\n",
       "12114          2000.0  Insignia\n",
       "13050          2000.0  Insignia\n",
       "13054          2000.0  Insignia"
      ]
     },
     "execution_count": 65,
     "metadata": {},
     "output_type": "execute_result"
    }
   ],
   "source": [
    "df.sort_values(by=['Engine_Disp_cc'], ascending=False)[['Engine_Disp_cc','Model']].head(55)"
   ]
  },
  {
   "cell_type": "code",
   "execution_count": 66,
   "id": "bc5a0108",
   "metadata": {},
   "outputs": [],
   "source": [
    "Engine_Disp_cc_anomalies=list(df[(df.Engine_Disp_cc < 898)|(df.Engine_Disp_cc > 2480)].index)"
   ]
  },
  {
   "cell_type": "code",
   "execution_count": 67,
   "id": "3aebf52c",
   "metadata": {},
   "outputs": [],
   "source": [
    "df.loc[Engine_Disp_cc_anomalies,'Engine_Disp_cc']= np.nan"
   ]
  },
  {
   "cell_type": "code",
   "execution_count": 68,
   "id": "91683d86",
   "metadata": {
    "scrolled": true
   },
   "outputs": [
    {
     "data": {
      "text/plain": [
       "7169    NaN\n",
       "7809    NaN\n",
       "7810    NaN\n",
       "7811    NaN\n",
       "7812    NaN\n",
       "8128    NaN\n",
       "10194   NaN\n",
       "10559   NaN\n",
       "10771   NaN\n",
       "10932   NaN\n",
       "12467   NaN\n",
       "12473   NaN\n",
       "12484   NaN\n",
       "12499   NaN\n",
       "12501   NaN\n",
       "12554   NaN\n",
       "12604   NaN\n",
       "12670   NaN\n",
       "12750   NaN\n",
       "12768   NaN\n",
       "12769   NaN\n",
       "12781   NaN\n",
       "12783   NaN\n",
       "12786   NaN\n",
       "12790   NaN\n",
       "12796   NaN\n",
       "12798   NaN\n",
       "12800   NaN\n",
       "12815   NaN\n",
       "12823   NaN\n",
       "12835   NaN\n",
       "12848   NaN\n",
       "12849   NaN\n",
       "13653   NaN\n",
       "13904   NaN\n",
       "13912   NaN\n",
       "14198   NaN\n",
       "14284   NaN\n",
       "14314   NaN\n",
       "14315   NaN\n",
       "14319   NaN\n",
       "14320   NaN\n",
       "14321   NaN\n",
       "14322   NaN\n",
       "14324   NaN\n",
       "14325   NaN\n",
       "14326   NaN\n",
       "14327   NaN\n",
       "14328   NaN\n",
       "15574   NaN\n",
       "15575   NaN\n",
       "15576   NaN\n",
       "15577   NaN\n",
       "15578   NaN\n",
       "15579   NaN\n",
       "Name: Engine_Disp_cc, dtype: float64"
      ]
     },
     "execution_count": 68,
     "metadata": {},
     "output_type": "execute_result"
    }
   ],
   "source": [
    "df.loc[Engine_Disp_cc_anomalies,'Engine_Disp_cc']"
   ]
  },
  {
   "cell_type": "code",
   "execution_count": 69,
   "id": "46a6695c",
   "metadata": {},
   "outputs": [
    {
     "name": "stdout",
     "output_type": "stream",
     "text": [
      "Number of NaN :  0\n",
      "------------------\n",
      "1598.0    5076\n",
      "999.0     2466\n",
      "1398.0    1335\n",
      "1399.0     772\n",
      "1229.0     677\n",
      "          ... \n",
      "1100.0       1\n",
      "1195.0       1\n",
      "1580.0       1\n",
      "1350.0       1\n",
      "1533.0       1\n",
      "Name: Engine_Disp_cc, Length: 69, dtype: int64\n"
     ]
    }
   ],
   "source": [
    "fill(df, 'Model', 'Body_Type','Engine_Disp_cc','median')"
   ]
  },
  {
   "cell_type": "markdown",
   "id": "6da90b8e",
   "metadata": {},
   "source": [
    "## 📌Cylinders"
   ]
  },
  {
   "cell_type": "code",
   "execution_count": 70,
   "id": "47427d2b",
   "metadata": {
    "scrolled": true
   },
   "outputs": [
    {
     "name": "stdout",
     "output_type": "stream",
     "text": [
      "Cylinders , Sumation of isnull : 0\n",
      "-----------------\n",
      "Samples for Cylinders \n",
      " 3039     4.0\n",
      "14877    3.0\n",
      "6301     4.0\n",
      "12729    4.0\n",
      "2884     4.0\n",
      "13832    4.0\n",
      "4602     3.0\n",
      "2714     4.0\n",
      "15671    4.0\n",
      "908      3.0\n",
      "Name: Cylinders, dtype: float64\n",
      "-----------------\n",
      "Cylinders Value_counts is \n",
      " 4.0    12741\n",
      "3.0     3148\n",
      "5.0       22\n",
      "6.0        3\n",
      "8.0        2\n",
      "2.0        2\n",
      "1.0        1\n",
      "Name: Cylinders, dtype: int64\n"
     ]
    }
   ],
   "source": [
    "check_col(df,'Cylinders')"
   ]
  },
  {
   "cell_type": "code",
   "execution_count": 75,
   "id": "a1f7c593",
   "metadata": {},
   "outputs": [],
   "source": [
    "Cylinders_anomalies=list(df[(df.Cylinders < 3.0)|(df.Cylinders > 5.0)].index) #1,2,6 ve 8 i anomali olarak aldik."
   ]
  },
  {
   "cell_type": "code",
   "execution_count": 76,
   "id": "7e3d73c2",
   "metadata": {},
   "outputs": [],
   "source": [
    "df.loc[Cylinders_anomalies,'Cylinders']= np.nan"
   ]
  },
  {
   "cell_type": "code",
   "execution_count": 77,
   "id": "dcc57d13",
   "metadata": {},
   "outputs": [
    {
     "data": {
      "text/plain": [
       "Series([], Name: Cylinders, dtype: float64)"
      ]
     },
     "execution_count": 77,
     "metadata": {},
     "output_type": "execute_result"
    }
   ],
   "source": [
    "df.loc[Cylinders_anomalies,'Cylinders']"
   ]
  },
  {
   "cell_type": "code",
   "execution_count": 78,
   "id": "bb6f8170",
   "metadata": {},
   "outputs": [
    {
     "name": "stdout",
     "output_type": "stream",
     "text": [
      "Number of NaN :  0\n",
      "------------------\n",
      "4.0    12748\n",
      "3.0     3149\n",
      "5.0       22\n",
      "Name: Cylinders, dtype: int64\n"
     ]
    }
   ],
   "source": [
    "fill(df,'Model','Body_Type','Cylinders','mode')"
   ]
  },
  {
   "cell_type": "markdown",
   "id": "3fdb8e3d",
   "metadata": {},
   "source": [
    "## Drive_chain"
   ]
  },
  {
   "cell_type": "code",
   "execution_count": 79,
   "id": "03c0ad22",
   "metadata": {},
   "outputs": [
    {
     "name": "stdout",
     "output_type": "stream",
     "text": [
      "Drive_chain , Sumation of isnull : 0\n",
      "-----------------\n",
      "Samples for Drive_chain \n",
      " 10266    front\n",
      "15897      4WD\n",
      "9090     front\n",
      "12532      4WD\n",
      "7861     front\n",
      "12178    front\n",
      "15749    front\n",
      "12589    front\n",
      "8156     front\n",
      "13620    front\n",
      "Name: Drive_chain, dtype: object\n",
      "-----------------\n",
      "Drive_chain Value_counts is \n",
      " front    15711\n",
      "4WD        204\n",
      "rear         4\n",
      "Name: Drive_chain, dtype: int64\n"
     ]
    }
   ],
   "source": [
    "check_col(df,'Drive_chain')"
   ]
  },
  {
   "cell_type": "code",
   "execution_count": 80,
   "id": "a14b50e7",
   "metadata": {},
   "outputs": [],
   "source": [
    "df.drop('Drive_chain',axis = 1,inplace = True)"
   ]
  },
  {
   "cell_type": "markdown",
   "id": "21a71677",
   "metadata": {},
   "source": [
    "## Fuel"
   ]
  },
  {
   "cell_type": "code",
   "execution_count": 81,
   "id": "7fe154ae",
   "metadata": {},
   "outputs": [
    {
     "name": "stdout",
     "output_type": "stream",
     "text": [
      "Fuel , Sumation of isnull : 0\n",
      "-----------------\n",
      "Samples for Fuel \n",
      " 2985      Diesel\n",
      "12582    Benzine\n",
      "12163    Benzine\n",
      "13464    Benzine\n",
      "4563     Benzine\n",
      "7881      Diesel\n",
      "11077     Diesel\n",
      "15785    Benzine\n",
      "5462      Diesel\n",
      "3694      Diesel\n",
      "Name: Fuel, dtype: object\n",
      "-----------------\n",
      "Fuel Value_counts is \n",
      " Benzine     7707\n",
      "Diesel      7299\n",
      "Others       844\n",
      "CNG/LPG       64\n",
      "Electric       5\n",
      "Name: Fuel, dtype: int64\n"
     ]
    }
   ],
   "source": [
    "check_col(df,'Fuel')"
   ]
  },
  {
   "cell_type": "code",
   "execution_count": 82,
   "id": "12b41307",
   "metadata": {},
   "outputs": [],
   "source": [
    "Fuel_missing=list(df[df.Fuel == 'Others'].index)"
   ]
  },
  {
   "cell_type": "code",
   "execution_count": 83,
   "id": "ebdcd37e",
   "metadata": {},
   "outputs": [],
   "source": [
    "df.loc[Fuel_missing,'Fuel']= np.nan"
   ]
  },
  {
   "cell_type": "code",
   "execution_count": 84,
   "id": "86ab15b0",
   "metadata": {},
   "outputs": [
    {
     "name": "stdout",
     "output_type": "stream",
     "text": [
      "Number of NaN :  0\n",
      "------------------\n",
      "Benzine     8273\n",
      "Diesel      7577\n",
      "CNG/LPG       64\n",
      "Electric       5\n",
      "Name: Fuel, dtype: int64\n"
     ]
    }
   ],
   "source": [
    "fill(df,'Model','Body_Type','Fuel','mode')"
   ]
  },
  {
   "cell_type": "code",
   "execution_count": 85,
   "id": "9e70dc42",
   "metadata": {},
   "outputs": [
    {
     "data": {
      "text/plain": [
       "Index(['Price', 'km', 'hp', 'Type', 'Brand', 'Model', 'Age', 'Gearing_Type',\n",
       "       'Engine_Disp_cc', 'Cylinders', 'Fuel', 'CO2_Emission', 'Emission_Class',\n",
       "       'Comfort_Convenience', 'Entertainment_Media', 'Extras',\n",
       "       'Safety_Security', 'Gears', 'Body_Type', 'VAT_Deductable',\n",
       "       'Price_Negotiable', 'Prev_Owner', 'Inspection_New', 'Body_Color',\n",
       "       'Paint_Type', 'Uphol_Material', 'Country_Cons', 'City_Cons',\n",
       "       'Comb_Cons'],\n",
       "      dtype='object')"
      ]
     },
     "execution_count": 85,
     "metadata": {},
     "output_type": "execute_result"
    }
   ],
   "source": [
    "df.columns"
   ]
  },
  {
   "cell_type": "markdown",
   "id": "17c8b30c",
   "metadata": {},
   "source": [
    "## CO2_Emission"
   ]
  },
  {
   "cell_type": "code",
   "execution_count": 86,
   "id": "ec963a34",
   "metadata": {},
   "outputs": [
    {
     "name": "stdout",
     "output_type": "stream",
     "text": [
      "CO2_Emission , Sumation of isnull : 0\n",
      "-----------------\n",
      "Samples for CO2_Emission \n",
      " 4363      99.0\n",
      "6471      10.0\n",
      "2349     138.0\n",
      "14750    113.0\n",
      "2585     105.0\n",
      "9960     143.0\n",
      "13963      8.0\n",
      "11686    141.0\n",
      "4035     107.0\n",
      "13111    120.0\n",
      "Name: CO2_Emission, dtype: float64\n",
      "-----------------\n",
      "CO2_Emission Value_counts is \n",
      " 120.000    920\n",
      "97.000     620\n",
      "99.000     619\n",
      "104.000    599\n",
      "10.000     541\n",
      "          ... \n",
      "12.324       1\n",
      "45.000       1\n",
      "51.000       1\n",
      "13.983       1\n",
      "177.000      1\n",
      "Name: CO2_Emission, Length: 120, dtype: int64\n"
     ]
    }
   ],
   "source": [
    "check_col(df,'CO2_Emission')"
   ]
  },
  {
   "cell_type": "code",
   "execution_count": 87,
   "id": "bfa08f43",
   "metadata": {},
   "outputs": [],
   "source": [
    "df.drop('CO2_Emission',axis = 1,inplace = True)"
   ]
  },
  {
   "cell_type": "markdown",
   "id": "d1dd96b1",
   "metadata": {},
   "source": [
    "## Emission_Class"
   ]
  },
  {
   "cell_type": "code",
   "execution_count": 88,
   "id": "63c964c8",
   "metadata": {},
   "outputs": [
    {
     "name": "stdout",
     "output_type": "stream",
     "text": [
      "Emission_Class , Sumation of isnull : 0\n",
      "-----------------\n",
      "Samples for Emission_Class \n",
      " 12743    Euro 6d-TEMP\n",
      "3738           Euro 6\n",
      "5920           Euro 6\n",
      "718            Euro 6\n",
      "5393           Euro 6\n",
      "7280           Euro 6\n",
      "1377           Euro 6\n",
      "2979           Euro 6\n",
      "1460     Euro 6d-TEMP\n",
      "1441           Euro 6\n",
      "Name: Emission_Class, dtype: object\n",
      "-----------------\n",
      "Emission_Class Value_counts is \n",
      " Euro 6          13143\n",
      "Euro 6d-TEMP     2467\n",
      "Euro 6c           127\n",
      "Euro 5             78\n",
      "Euro 6d            62\n",
      "Euro 4             42\n",
      "Name: Emission_Class, dtype: int64\n"
     ]
    }
   ],
   "source": [
    "check_col(df,'Emission_Class')"
   ]
  },
  {
   "cell_type": "code",
   "execution_count": 89,
   "id": "f912a361",
   "metadata": {},
   "outputs": [],
   "source": [
    "df.drop('Emission_Class',axis = 1,inplace=True)"
   ]
  },
  {
   "cell_type": "markdown",
   "id": "4256625c",
   "metadata": {},
   "source": [
    "## Comfort_Convenience"
   ]
  },
  {
   "cell_type": "code",
   "execution_count": 90,
   "id": "dfce3151",
   "metadata": {},
   "outputs": [
    {
     "name": "stdout",
     "output_type": "stream",
     "text": [
      "Comfort_Convenience , Sumation of isnull : 0\n",
      "-----------------\n",
      "Samples for Comfort_Convenience \n",
      " 12134    Air conditioning,Armrest,Automatic climate con...\n",
      "10138    Air conditioning,Automatic climate control,Cru...\n",
      "14841    Cruise control,Electrical side mirrors,Power w...\n",
      "9913     Air conditioning,Automatic climate control,Cru...\n",
      "2445     Air conditioning,Armrest,Automatic climate con...\n",
      "15156    Air conditioning,Automatic climate control,Cru...\n",
      "1103     Air conditioning,Armrest,Automatic climate con...\n",
      "5981     Air conditioning,Cruise control,Electrical sid...\n",
      "9957     Air conditioning,Cruise control,Electrically h...\n",
      "11       Air conditioning,Automatic climate control,Ele...\n",
      "Name: Comfort_Convenience, dtype: object\n",
      "-----------------\n",
      "Comfort_Convenience Value_counts is \n",
      " Air conditioning,Electrical side mirrors,Hill Holder,Power windows                                                                                                                                                                                                                                                                                                                                                   234\n",
      "Air conditioning,Electrical side mirrors,Power windows                                                                                                                                                                                                                                                                                                                                                               155\n",
      "Air conditioning,Power windows                                                                                                                                                                                                                                                                                                                                                                                       148\n",
      "Air conditioning,Armrest,Automatic climate control,Cruise control,Electrical side mirrors,Leather steering wheel,Light sensor,Lumbar support,Multi-function steering wheel,Navigation system,Park Distance Control,Parking assist system sensors front,Parking assist system sensors rear,Power windows,Rain sensor,Seat heating,Start-stop system                                                                   106\n",
      "Air conditioning,Armrest,Automatic climate control,Cruise control,Electrical side mirrors,Hill Holder,Leather steering wheel,Light sensor,Multi-function steering wheel,Navigation system,Park Distance Control,Parking assist system sensors rear,Power windows,Rain sensor,Seat heating,Start-stop system                                                                                                           92\n",
      "                                                                                                                                                                                                                                                                                                                                                                                                                    ... \n",
      "Air conditioning,Automatic climate control,Cruise control,Electrical side mirrors,Heated steering wheel,Light sensor,Multi-function steering wheel,Park Distance Control,Parking assist system camera,Parking assist system sensors rear,Power windows,Rain sensor,Seat heating,Start-stop system                                                                                                                      1\n",
      "Air conditioning,Cruise control,Electrical side mirrors,Hill Holder,Leather steering wheel,Park Distance Control,Parking assist system camera,Parking assist system sensors front,Parking assist system sensors rear,Power windows                                                                                                                                                                                     1\n",
      "Air conditioning,Armrest,Automatic climate control,Cruise control,Electrically adjustable seats,Electrical side mirrors,Heated steering wheel,Leather steering wheel,Light sensor,Lumbar support,Multi-function steering wheel,Navigation system,Park Distance Control,Parking assist system camera,Parking assist system sensors front,Parking assist system sensors rear,Power windows,Rain sensor,Seat heating      1\n",
      "Air conditioning,Cruise control,Electrical side mirrors,Heated steering wheel,Hill Holder,Leather steering wheel,Multi-function steering wheel,Navigation system,Park Distance Control,Parking assist system sensors rear,Power windows,Rain sensor,Seat heating,Tinted windows                                                                                                                                        1\n",
      "Air conditioning,Armrest,Automatic climate control,Cruise control,Electrically adjustable seats,Electrical side mirrors,Electric tailgate,Heads-up display,Leather steering wheel,Lumbar support,Navigation system,Park Distance Control,Parking assist system camera,Parking assist system sensors front,Parking assist system sensors rear,Power windows,Rain sensor,Seat heating,Split rear seats                   1\n",
      "Name: Comfort_Convenience, Length: 6198, dtype: int64\n"
     ]
    }
   ],
   "source": [
    "check_col(df,'Comfort_Convenience') #getdummy() uygulanacak."
   ]
  },
  {
   "cell_type": "markdown",
   "id": "886b5b37",
   "metadata": {},
   "source": [
    "## Entertainment_Media"
   ]
  },
  {
   "cell_type": "code",
   "execution_count": 91,
   "id": "0c7727c8",
   "metadata": {},
   "outputs": [
    {
     "name": "stdout",
     "output_type": "stream",
     "text": [
      "Entertainment_Media , Sumation of isnull : 0\n",
      "-----------------\n",
      "Samples for Entertainment_Media \n",
      " 10122    Bluetooth,Hands-free equipment,On-board comput...\n",
      "5838     Bluetooth,Hands-free equipment,MP3,On-board co...\n",
      "10179                                                Radio\n",
      "4658                                                 Radio\n",
      "9503     Bluetooth,CD player,Hands-free equipment,On-bo...\n",
      "7197                       Bluetooth,MP3,On-board computer\n",
      "9341     Bluetooth,Hands-free equipment,On-board comput...\n",
      "930                        MP3,On-board computer,Radio,USB\n",
      "7717     Bluetooth,Hands-free equipment,MP3,On-board co...\n",
      "8294     Bluetooth,CD player,Hands-free equipment,On-bo...\n",
      "Name: Entertainment_Media, dtype: object\n",
      "-----------------\n",
      "Entertainment_Media Value_counts is \n",
      " Bluetooth,Hands-free equipment,On-board computer,Radio,USB                  1381\n",
      "Bluetooth,Hands-free equipment,MP3,On-board computer,Radio,USB              1040\n",
      "Bluetooth,CD player,Hands-free equipment,MP3,On-board computer,Radio,USB     842\n",
      "On-board computer                                                            531\n",
      "On-board computer,Radio                                                      525\n",
      "                                                                            ... \n",
      "CD player,Digital radio,MP3                                                    1\n",
      "Bluetooth,CD player,Digital radio,Hands-free equipment,USB                     1\n",
      "Digital radio,USB                                                              1\n",
      "Bluetooth,Digital radio,USB                                                    1\n",
      "Bluetooth,CD player,On-board computer,Sound system,USB                         1\n",
      "Name: Entertainment_Media, Length: 346, dtype: int64\n"
     ]
    }
   ],
   "source": [
    "check_col(df,'Entertainment_Media')#getdummy() uygulanacak."
   ]
  },
  {
   "cell_type": "markdown",
   "id": "e3781582",
   "metadata": {},
   "source": [
    "##  Extras"
   ]
  },
  {
   "cell_type": "code",
   "execution_count": 92,
   "id": "cdd26c19",
   "metadata": {},
   "outputs": [
    {
     "name": "stdout",
     "output_type": "stream",
     "text": [
      "Extras , Sumation of isnull : 0\n",
      "-----------------\n",
      "Samples for Extras \n",
      " 13154        Alloy wheels,Catalytic Converter,Touch screen\n",
      "4330                                          Alloy wheels\n",
      "13391                                         Alloy wheels\n",
      "3086     Alloy wheels,Sport package,Sport seats,Sport s...\n",
      "1301     Alloy wheels,Catalytic Converter,Sport seats,V...\n",
      "4510                                          Alloy wheels\n",
      "4566                                          Alloy wheels\n",
      "985                 Alloy wheels,Sport seats,Voice Control\n",
      "992                                          Sport package\n",
      "791                                           Alloy wheels\n",
      "Name: Extras, dtype: object\n",
      "-----------------\n",
      "Extras Value_counts is \n",
      " Alloy wheels                                                                                                                      3900\n",
      "Alloy wheels,Touch screen                                                                                                          833\n",
      "Alloy wheels,Voice Control                                                                                                         701\n",
      "Alloy wheels,Touch screen,Voice Control                                                                                            639\n",
      "Roof rack                                                                                                                          525\n",
      "                                                                                                                                  ... \n",
      "Sport seats,Sport suspension,Trailer hitch,Voice Control                                                                             1\n",
      "Alloy wheels,Roof rack,Sport package,Sport suspension,Voice Control,Winter tyres                                                     1\n",
      "Alloy wheels,Catalytic Converter,Sport package,Sport seats,Trailer hitch,Winter tyres                                                1\n",
      "Alloy wheels,Catalytic Converter,Right hand drive,Ski bag,Sport package,Sport seats,Touch screen,Voice Control                       1\n",
      "Alloy wheels,Catalytic Converter,Roof rack,Sport package,Sport seats,Sport suspension,Touch screen,Trailer hitch,Voice Control       1\n",
      "Name: Extras, Length: 659, dtype: int64\n"
     ]
    }
   ],
   "source": [
    "check_col(df,'Extras') #getdummy() uygulanacak"
   ]
  },
  {
   "cell_type": "markdown",
   "id": "e9970e7e",
   "metadata": {},
   "source": [
    "## Safety_Security"
   ]
  },
  {
   "cell_type": "code",
   "execution_count": 93,
   "id": "cbbb41b9",
   "metadata": {},
   "outputs": [
    {
     "name": "stdout",
     "output_type": "stream",
     "text": [
      "Safety_Security , Sumation of isnull : 0\n",
      "-----------------\n",
      "Samples for Safety_Security \n",
      " 2163     ABS,Central door lock,Driver-side airbag,Elect...\n",
      "1138     ABS,Central door lock,Daytime running lights,D...\n",
      "2351     ABS,Central door lock,Daytime running lights,E...\n",
      "4957     ABS,Driver-side airbag,Electronic stability co...\n",
      "8100     ABS,Central door lock,Daytime running lights,D...\n",
      "6093     ABS,Central door lock,Daytime running lights,D...\n",
      "10669    ABS,Central door lock,Daytime running lights,D...\n",
      "3298     ABS,Central door lock,Daytime running lights,D...\n",
      "13574    ABS,Alarm system,Central door lock,Driver-side...\n",
      "1743     ABS,Central door lock,Daytime running lights,D...\n",
      "Name: Safety_Security, dtype: object\n",
      "-----------------\n",
      "Safety_Security Value_counts is \n",
      " ABS,Central door lock,Daytime running lights,Driver-side airbag,Electronic stability control,Fog lights,Immobilizer,Isofix,Passenger-side airbag,Power steering,Side airbag,Tire pressure monitoring system,Traction control                                                                         567\n",
      "ABS,Central door lock,Daytime running lights,Driver-side airbag,Electronic stability control,Immobilizer,Isofix,Passenger-side airbag,Power steering,Side airbag,Tire pressure monitoring system,Traction control                                                                                    515\n",
      "ABS,Central door lock,Daytime running lights,Driver-side airbag,Electronic stability control,Immobilizer,Isofix,LED Daytime Running Lights,Passenger-side airbag,Power steering,Side airbag,Tire pressure monitoring system,Traction control                                                         285\n",
      "ABS,Central door lock,Daytime running lights,Driver-side airbag,Electronic stability control,Fog lights,Immobilizer,Isofix,LED Daytime Running Lights,Passenger-side airbag,Power steering,Side airbag,Tire pressure monitoring system,Traction control                                              284\n",
      "ABS,Central door lock,Daytime running lights,Driver-side airbag,Electronic stability control,Immobilizer,Isofix,Passenger-side airbag,Power steering,Side airbag,Tire pressure monitoring system,Traction control,Xenon headlights                                                                   277\n",
      "                                                                                                                                                                                                                                                                                                    ... \n",
      "ABS,Adaptive Cruise Control,Central door lock,Daytime running lights,Driver-side airbag,Electronic stability control,Emergency brake assistant,Emergency system,Immobilizer,Isofix,Lane departure warning system,LED Headlights,Passenger-side airbag,Power steering,Side airbag,Traction control      1\n",
      "ABS,Central door lock,Daytime running lights,Driver-side airbag,Electronic stability control,Emergency system,Immobilizer,Passenger-side airbag,Side airbag,Traction control                                                                                                                           1\n",
      "Alarm system,Central door lock,Central door lock with remote control,Daytime running lights,Driver-side airbag,Electronic stability control,Head airbag,Isofix,Lane departure warning system,Passenger-side airbag,Side airbag,Tire pressure monitoring system                                         1\n",
      "Daytime running lights,Driver-side airbag,Electronic stability control,Immobilizer,Isofix,Passenger-side airbag,Power steering,Side airbag,Xenon headlights                                                                                                                                            1\n",
      "ABS,Central door lock with remote control,Daytime running lights,Driver-side airbag,Fog lights,Head airbag,Immobilizer,Isofix,Passenger-side airbag,Power steering,Side airbag,Tire pressure monitoring system,Xenon headlights                                                                        1\n",
      "Name: Safety_Security, Length: 4443, dtype: int64\n"
     ]
    }
   ],
   "source": [
    "check_col(df,'Safety_Security') #getdummy() uygulanacak."
   ]
  },
  {
   "cell_type": "markdown",
   "id": "03aee807",
   "metadata": {},
   "source": [
    "##  Gears"
   ]
  },
  {
   "cell_type": "code",
   "execution_count": 94,
   "id": "00327621",
   "metadata": {},
   "outputs": [
    {
     "name": "stdout",
     "output_type": "stream",
     "text": [
      "Gears , Sumation of isnull : 0\n",
      "-----------------\n",
      "Samples for Gears \n",
      " 3494     6.0\n",
      "4408     7.0\n",
      "15748    6.0\n",
      "8161     6.0\n",
      "15630    7.0\n",
      "13871    5.0\n",
      "11987    6.0\n",
      "4752     6.0\n",
      "4686     7.0\n",
      "1618     7.0\n",
      "Name: Gears, dtype: float64\n",
      "-----------------\n",
      "Gears Value_counts is \n",
      " 6.0     8410\n",
      "5.0     5363\n",
      "7.0     1908\n",
      "8.0      224\n",
      "9.0        6\n",
      "4.0        2\n",
      "1.0        2\n",
      "3.0        2\n",
      "50.0       1\n",
      "2.0        1\n",
      "Name: Gears, dtype: int64\n"
     ]
    }
   ],
   "source": [
    "check_col(df,'Gears') "
   ]
  },
  {
   "cell_type": "code",
   "execution_count": 95,
   "id": "914bdaf6",
   "metadata": {},
   "outputs": [],
   "source": [
    "Gears_anomalies=list(df[(df.Gears == 50) | (df.Gears <5)].index) # Anomaliler tespit edildi, indexlendi ve listeye alındı. "
   ]
  },
  {
   "cell_type": "code",
   "execution_count": 97,
   "id": "080e41f0",
   "metadata": {},
   "outputs": [],
   "source": [
    "df.loc[Gears_anomalies,'Gears']= np.nan # Anomalilere NaN değerler atandı."
   ]
  },
  {
   "cell_type": "code",
   "execution_count": 98,
   "id": "b19d5ab7",
   "metadata": {},
   "outputs": [
    {
     "name": "stdout",
     "output_type": "stream",
     "text": [
      "Number of NaN :  0\n",
      "------------------\n",
      "6.0    8414\n",
      "5.0    5367\n",
      "7.0    1908\n",
      "8.0     224\n",
      "9.0       6\n",
      "Name: Gears, dtype: int64\n"
     ]
    }
   ],
   "source": [
    "fill(df,'Model','Body_Type','Gears','mode') # Nan değerler mode ile dolduruldu."
   ]
  },
  {
   "cell_type": "code",
   "execution_count": 99,
   "id": "2e93bc32",
   "metadata": {},
   "outputs": [],
   "source": [
    "df.drop('Gears',axis = 1,inplace = True) "
   ]
  },
  {
   "cell_type": "markdown",
   "id": "a8b73aab",
   "metadata": {},
   "source": [
    "## Body_Type"
   ]
  },
  {
   "cell_type": "code",
   "execution_count": 100,
   "id": "c814f879",
   "metadata": {},
   "outputs": [
    {
     "name": "stdout",
     "output_type": "stream",
     "text": [
      "Body_Type , Sumation of isnull : 0\n",
      "-----------------\n",
      "Samples for Body_Type \n",
      " 9492           Compact\n",
      "722            Compact\n",
      "9032             Sedan\n",
      "11510    Station wagon\n",
      "4016             Sedan\n",
      "6914     Station wagon\n",
      "4601             Sedan\n",
      "11863            Sedan\n",
      "5311             Sedan\n",
      "14968            Sedan\n",
      "Name: Body_Type, dtype: object\n",
      "-----------------\n",
      "Body_Type Value_counts is \n",
      " Sedan            8005\n",
      "Station wagon    3678\n",
      "Compact          3242\n",
      "Van               817\n",
      "Transporter        88\n",
      "Off-Road           56\n",
      "Coupe              25\n",
      "Convertible         8\n",
      "Name: Body_Type, dtype: int64\n"
     ]
    }
   ],
   "source": [
    "check_col(df,'Body_Type') "
   ]
  },
  {
   "cell_type": "markdown",
   "id": "64e8d3ef",
   "metadata": {},
   "source": [
    "## VAT_Deductable"
   ]
  },
  {
   "cell_type": "code",
   "execution_count": 101,
   "id": "6cc45524",
   "metadata": {},
   "outputs": [
    {
     "name": "stdout",
     "output_type": "stream",
     "text": [
      "VAT_Deductable , Sumation of isnull : 0\n",
      "-----------------\n",
      "Samples for VAT_Deductable \n",
      " 12111     True\n",
      "2703      True\n",
      "9181     False\n",
      "11728     True\n",
      "6294     False\n",
      "6586      True\n",
      "144      False\n",
      "6232      True\n",
      "5275      True\n",
      "4594      True\n",
      "Name: VAT_Deductable, dtype: bool\n",
      "-----------------\n",
      "VAT_Deductable Value_counts is \n",
      " True     10980\n",
      "False     4939\n",
      "Name: VAT_Deductable, dtype: int64\n"
     ]
    }
   ],
   "source": [
    "check_col(df,'VAT_Deductable') "
   ]
  },
  {
   "cell_type": "markdown",
   "id": "54087852",
   "metadata": {},
   "source": [
    "## Price_Negotiable"
   ]
  },
  {
   "cell_type": "code",
   "execution_count": 102,
   "id": "9a9b1e81",
   "metadata": {},
   "outputs": [
    {
     "name": "stdout",
     "output_type": "stream",
     "text": [
      "Price_Negotiable , Sumation of isnull : 0\n",
      "-----------------\n",
      "Samples for Price_Negotiable \n",
      " 11714    False\n",
      "12689    False\n",
      "342      False\n",
      "7910     False\n",
      "14988     True\n",
      "10830    False\n",
      "14825    False\n",
      "7150     False\n",
      "10439    False\n",
      "5980     False\n",
      "Name: Price_Negotiable, dtype: bool\n",
      "-----------------\n",
      "Price_Negotiable Value_counts is \n",
      " False    15493\n",
      "True       426\n",
      "Name: Price_Negotiable, dtype: int64\n"
     ]
    }
   ],
   "source": [
    "check_col(df,'Price_Negotiable') "
   ]
  },
  {
   "cell_type": "code",
   "execution_count": 103,
   "id": "c74e48b8",
   "metadata": {},
   "outputs": [],
   "source": [
    "df.drop('Price_Negotiable',axis = 1, inplace = True)"
   ]
  },
  {
   "cell_type": "markdown",
   "id": "f47da799",
   "metadata": {},
   "source": [
    "## Prev_Owner"
   ]
  },
  {
   "cell_type": "code",
   "execution_count": 104,
   "id": "99577f15",
   "metadata": {},
   "outputs": [
    {
     "name": "stdout",
     "output_type": "stream",
     "text": [
      "Prev_Owner , Sumation of isnull : 0\n",
      "-----------------\n",
      "Samples for Prev_Owner \n",
      " 7871     1.0\n",
      "9753     1.0\n",
      "8467     2.0\n",
      "2883     1.0\n",
      "10571    1.0\n",
      "14462    1.0\n",
      "3045     1.0\n",
      "15356    2.0\n",
      "11257    1.0\n",
      "4918     1.0\n",
      "Name: Prev_Owner, dtype: float64\n",
      "-----------------\n",
      "Prev_Owner Value_counts is \n",
      " 1.0    15055\n",
      "2.0      845\n",
      "3.0       17\n",
      "4.0        2\n",
      "Name: Prev_Owner, dtype: int64\n"
     ]
    }
   ],
   "source": [
    "check_col(df,'Prev_Owner') "
   ]
  },
  {
   "cell_type": "code",
   "execution_count": 105,
   "id": "4c18977a",
   "metadata": {},
   "outputs": [],
   "source": [
    "df.drop('Prev_Owner',axis = 1,inplace = True)"
   ]
  },
  {
   "cell_type": "markdown",
   "id": "4c4b4401",
   "metadata": {},
   "source": [
    "## Inspection_New"
   ]
  },
  {
   "cell_type": "code",
   "execution_count": 106,
   "id": "426bf195",
   "metadata": {},
   "outputs": [
    {
     "name": "stdout",
     "output_type": "stream",
     "text": [
      "Inspection_New , Sumation of isnull : 0\n",
      "-----------------\n",
      "Samples for Inspection_New \n",
      " 1416      No\n",
      "4151      No\n",
      "11087     No\n",
      "4594      No\n",
      "911      Yes\n",
      "1128      No\n",
      "6543      No\n",
      "5598      No\n",
      "295       No\n",
      "5356      No\n",
      "Name: Inspection_New, dtype: object\n",
      "-----------------\n",
      "Inspection_New Value_counts is \n",
      " No     11987\n",
      "Yes     3932\n",
      "Name: Inspection_New, dtype: int64\n"
     ]
    }
   ],
   "source": [
    "check_col(df,'Inspection_New') "
   ]
  },
  {
   "cell_type": "markdown",
   "id": "2c499978",
   "metadata": {},
   "source": [
    "## Body_Color"
   ]
  },
  {
   "cell_type": "code",
   "execution_count": 107,
   "id": "eaee90af",
   "metadata": {},
   "outputs": [
    {
     "name": "stdout",
     "output_type": "stream",
     "text": [
      "Body_Color , Sumation of isnull : 0\n",
      "-----------------\n",
      "Samples for Body_Color \n",
      " 12088      Grey\n",
      "11863     White\n",
      "15064     Black\n",
      "8199      White\n",
      "15894     White\n",
      "12939     Black\n",
      "14669     White\n",
      "8044      White\n",
      "8881      White\n",
      "15388    Silver\n",
      "Name: Body_Color, dtype: object\n",
      "-----------------\n",
      "Body_Color Value_counts is \n",
      " Black     3900\n",
      "Grey      3615\n",
      "White     3520\n",
      "Silver    1707\n",
      "Blue      1522\n",
      "Red        995\n",
      "Brown      298\n",
      "Green      166\n",
      "Beige      116\n",
      "Yellow      51\n",
      "Violet      18\n",
      "Bronze       6\n",
      "Orange       3\n",
      "Gold         2\n",
      "Name: Body_Color, dtype: int64\n"
     ]
    }
   ],
   "source": [
    "check_col(df,'Body_Color') "
   ]
  },
  {
   "cell_type": "code",
   "execution_count": 108,
   "id": "53496600",
   "metadata": {},
   "outputs": [],
   "source": [
    "df.drop('Body_Color',axis = 1, inplace = True)"
   ]
  },
  {
   "cell_type": "markdown",
   "id": "202eef61",
   "metadata": {},
   "source": [
    "## Paint_Type"
   ]
  },
  {
   "cell_type": "code",
   "execution_count": 109,
   "id": "68f065c0",
   "metadata": {},
   "outputs": [
    {
     "name": "stdout",
     "output_type": "stream",
     "text": [
      "Paint_Type , Sumation of isnull : 0\n",
      "-----------------\n",
      "Samples for Paint_Type \n",
      " 5611     Metallic\n",
      "7106     Metallic\n",
      "5579     Metallic\n",
      "3442     Metallic\n",
      "12518    Metallic\n",
      "5143     Metallic\n",
      "1982     Metallic\n",
      "3715     Metallic\n",
      "285      Metallic\n",
      "7826     Metallic\n",
      "Name: Paint_Type, dtype: object\n",
      "-----------------\n",
      "Paint_Type Value_counts is \n",
      " Metallic       15549\n",
      "Uni/basic        364\n",
      "Perl effect        6\n",
      "Name: Paint_Type, dtype: int64\n"
     ]
    }
   ],
   "source": [
    "check_col(df,'Paint_Type') "
   ]
  },
  {
   "cell_type": "markdown",
   "id": "e653aa64",
   "metadata": {},
   "source": [
    "## Uphol_Material"
   ]
  },
  {
   "cell_type": "code",
   "execution_count": 110,
   "id": "ee29d23a",
   "metadata": {},
   "outputs": [
    {
     "name": "stdout",
     "output_type": "stream",
     "text": [
      "Uphol_Material , Sumation of isnull : 0\n",
      "-----------------\n",
      "Samples for Uphol_Material \n",
      " 13873           Cloth\n",
      "15589    Full leather\n",
      "9129            Cloth\n",
      "8411            Cloth\n",
      "13491           Cloth\n",
      "11327           Cloth\n",
      "12943           Cloth\n",
      "8213            Cloth\n",
      "9649            Cloth\n",
      "14971    Part leather\n",
      "Name: Uphol_Material, dtype: object\n",
      "-----------------\n",
      "Uphol_Material Value_counts is \n",
      " Cloth           13057\n",
      "Part leather     1383\n",
      "Full leather     1380\n",
      "alcantara          55\n",
      "Velour             44\n",
      "Name: Uphol_Material, dtype: int64\n"
     ]
    }
   ],
   "source": [
    "check_col(df,'Uphol_Material') "
   ]
  },
  {
   "cell_type": "markdown",
   "id": "f7c99ae9",
   "metadata": {},
   "source": [
    "## Country_Cons"
   ]
  },
  {
   "cell_type": "code",
   "execution_count": 113,
   "id": "46db6adf",
   "metadata": {},
   "outputs": [
    {
     "name": "stdout",
     "output_type": "stream",
     "text": [
      "Country_Cons , Sumation of isnull : 0\n",
      "-----------------\n",
      "Samples for Country_Cons \n",
      " 13891    7.2\n",
      "1867     5.2\n",
      "15800    9.2\n",
      "12287    6.0\n",
      "13769    7.6\n",
      "13324    6.8\n",
      "5888     5.8\n",
      "1363     5.2\n",
      "13780    6.8\n",
      "6234     4.0\n",
      "Name: Country_Cons, dtype: float64\n",
      "-----------------\n",
      "Country_Cons Value_counts is \n",
      " 5.0    1024\n",
      "4.0     957\n",
      "5.8     678\n",
      "4.5     677\n",
      "5.1     636\n",
      "       ... \n",
      "3.6       2\n",
      "9.0       2\n",
      "8.8       2\n",
      "9.5       2\n",
      "9.7       1\n",
      "Name: Country_Cons, Length: 69, dtype: int64\n"
     ]
    }
   ],
   "source": [
    "check_col(df,'Country_Cons') "
   ]
  },
  {
   "cell_type": "code",
   "execution_count": 114,
   "id": "5e0c89e0",
   "metadata": {},
   "outputs": [],
   "source": [
    "df.drop('Country_Cons',axis =1,inplace = True)"
   ]
  },
  {
   "cell_type": "markdown",
   "id": "d0ac11a3",
   "metadata": {},
   "source": [
    "## City_Cons"
   ]
  },
  {
   "cell_type": "code",
   "execution_count": 115,
   "id": "ccdc96d6",
   "metadata": {
    "scrolled": true
   },
   "outputs": [
    {
     "name": "stdout",
     "output_type": "stream",
     "text": [
      "City_Cons , Sumation of isnull : 0\n",
      "-----------------\n",
      "Samples for City_Cons \n",
      " 9378     4.2\n",
      "10646    4.9\n",
      "11481    3.9\n",
      "993      3.6\n",
      "5737     4.3\n",
      "15405    4.4\n",
      "14680    4.2\n",
      "2133     4.2\n",
      "12138    4.9\n",
      "8516     4.3\n",
      "Name: City_Cons, dtype: float64\n",
      "-----------------\n",
      "City_Cons Value_counts is \n",
      " 4.2    1410\n",
      "3.7    1230\n",
      "4.4    1144\n",
      "4.5    1049\n",
      "3.8     941\n",
      "3.9     937\n",
      "4.1     718\n",
      "4.0     712\n",
      "4.7     705\n",
      "4.3     627\n",
      "3.5     610\n",
      "4.6     590\n",
      "3.1     574\n",
      "3.6     562\n",
      "3.3     559\n",
      "4.9     547\n",
      "3.4     419\n",
      "4.8     372\n",
      "5.3     319\n",
      "5.1     255\n",
      "5.7     244\n",
      "5.4     243\n",
      "3.2     211\n",
      "5.6     181\n",
      "3.0     177\n",
      "5.0     143\n",
      "5.2     100\n",
      "6.3      55\n",
      "5.5      44\n",
      "6.0      43\n",
      "5.8      35\n",
      "1.0      35\n",
      "7.7      20\n",
      "6.6      19\n",
      "6.4      16\n",
      "2.9      16\n",
      "0.0      12\n",
      "2.8      10\n",
      "7.1       7\n",
      "6.5       4\n",
      "7.3       4\n",
      "5.9       3\n",
      "6.7       3\n",
      "2.0       3\n",
      "6.9       3\n",
      "7.8       2\n",
      "7.0       2\n",
      "7.6       1\n",
      "6.1       1\n",
      "8.0       1\n",
      "8.6       1\n",
      "Name: City_Cons, dtype: int64\n"
     ]
    }
   ],
   "source": [
    "check_col(df,'City_Cons') "
   ]
  },
  {
   "cell_type": "code",
   "execution_count": 116,
   "id": "97fa57cf",
   "metadata": {},
   "outputs": [],
   "source": [
    "df.drop('City_Cons',axis =1,inplace = True)"
   ]
  },
  {
   "cell_type": "markdown",
   "id": "af7e53d4",
   "metadata": {},
   "source": [
    "## Comb_Cons"
   ]
  },
  {
   "cell_type": "code",
   "execution_count": 117,
   "id": "99182228",
   "metadata": {
    "scrolled": true
   },
   "outputs": [
    {
     "name": "stdout",
     "output_type": "stream",
     "text": [
      "Comb_Cons , Sumation of isnull : 0\n",
      "-----------------\n",
      "Samples for Comb_Cons \n",
      " 12913    4.8\n",
      "12544    6.0\n",
      "15188    4.7\n",
      "10592    5.1\n",
      "6219     4.3\n",
      "7091     5.4\n",
      "4516     5.5\n",
      "12133    5.8\n",
      "2655     4.5\n",
      "15628    4.7\n",
      "Name: Comb_Cons, dtype: float64\n",
      "-----------------\n",
      "Comb_Cons Value_counts is \n",
      " 5.4    834\n",
      "3.9    814\n",
      "4.0    799\n",
      "5.6    774\n",
      "5.1    739\n",
      "3.8    726\n",
      "4.7    725\n",
      "4.4    711\n",
      "5.0    616\n",
      "4.5    606\n",
      "4.8    596\n",
      "4.6    552\n",
      "5.2    524\n",
      "4.2    485\n",
      "5.3    479\n",
      "5.5    437\n",
      "4.9    428\n",
      "3.7    414\n",
      "3.3    396\n",
      "5.9    393\n",
      "4.3    391\n",
      "4.1    389\n",
      "5.7    386\n",
      "3.5    344\n",
      "6.0    341\n",
      "6.2    233\n",
      "3.6    218\n",
      "5.8    199\n",
      "6.3    189\n",
      "6.1    176\n",
      "6.6    171\n",
      "6.8    149\n",
      "3.4    126\n",
      "3.0     82\n",
      "6.4     77\n",
      "7.4     70\n",
      "6.7     52\n",
      "6.5     39\n",
      "1.0     38\n",
      "7.1     38\n",
      "3.2     33\n",
      "6.9     28\n",
      "8.3     21\n",
      "7.6     14\n",
      "7.0     12\n",
      "3.1     11\n",
      "7.8     10\n",
      "7.2      8\n",
      "8.0      6\n",
      "8.6      5\n",
      "8.7      3\n",
      "7.9      2\n",
      "7.5      2\n",
      "7.3      2\n",
      "8.1      2\n",
      "0.0      2\n",
      "1.2      1\n",
      "9.1      1\n",
      "Name: Comb_Cons, dtype: int64\n"
     ]
    }
   ],
   "source": [
    "check_col(df,'Comb_Cons') "
   ]
  },
  {
   "cell_type": "markdown",
   "id": "c3ec07ad",
   "metadata": {},
   "source": [
    "## km"
   ]
  },
  {
   "cell_type": "code",
   "execution_count": 119,
   "id": "ce99d134",
   "metadata": {},
   "outputs": [
    {
     "name": "stdout",
     "output_type": "stream",
     "text": [
      "km , Sumation of isnull : 0\n",
      "-----------------\n",
      "Samples for km \n",
      " 1999       100.0\n",
      "13738    28500.0\n",
      "13834     7000.0\n",
      "6765     58200.0\n",
      "6604     25078.0\n",
      "7971         6.0\n",
      "4609     17976.0\n",
      "8456      4900.0\n",
      "8842      5977.0\n",
      "2360      1900.0\n",
      "Name: km, dtype: float64\n",
      "-----------------\n",
      "km Value_counts is \n",
      " 10.000000       1045\n",
      "1748.271975      812\n",
      "1.000000         367\n",
      "17479.470969     180\n",
      "5.000000         170\n",
      "                ... \n",
      "20719.000000       1\n",
      "91910.000000       1\n",
      "39860.000000       1\n",
      "28084.000000       1\n",
      "57889.000000       1\n",
      "Name: km, Length: 6693, dtype: int64\n"
     ]
    }
   ],
   "source": [
    "check_col(df,'km') "
   ]
  },
  {
   "cell_type": "code",
   "execution_count": 126,
   "id": "1002d179",
   "metadata": {},
   "outputs": [],
   "source": [
    "df.rename(columns = {'km':'KM'}, inplace = True)"
   ]
  },
  {
   "cell_type": "code",
   "execution_count": 127,
   "id": "1e8decd2",
   "metadata": {},
   "outputs": [
    {
     "data": {
      "text/plain": [
       "Index(['Price', 'KM', 'hp', 'Type', 'Brand', 'Model', 'Age', 'Gearing_Type',\n",
       "       'Engine_Disp_cc', 'Cylinders', 'Fuel', 'Comfort_Convenience',\n",
       "       'Entertainment_Media', 'Extras', 'Safety_Security', 'Body_Type',\n",
       "       'VAT_Deductable', 'Inspection_New', 'Paint_Type', 'Uphol_Material',\n",
       "       'Comb_Cons'],\n",
       "      dtype='object')"
      ]
     },
     "execution_count": 127,
     "metadata": {},
     "output_type": "execute_result"
    }
   ],
   "source": [
    "df.columns"
   ]
  },
  {
   "cell_type": "code",
   "execution_count": 128,
   "id": "c507b2e8",
   "metadata": {},
   "outputs": [
    {
     "data": {
      "text/plain": [
       "(15919, 21)"
      ]
     },
     "execution_count": 128,
     "metadata": {},
     "output_type": "execute_result"
    }
   ],
   "source": [
    "df.shape"
   ]
  },
  {
   "cell_type": "markdown",
   "id": "5894de5c",
   "metadata": {},
   "source": [
    "## Data Visualization "
   ]
  },
  {
   "cell_type": "code",
   "execution_count": 132,
   "id": "2aa0d034",
   "metadata": {},
   "outputs": [],
   "source": [
    "# Numeric column'ları listeleyerek visualization yapıldı.\n",
    "numeric_column=['Price', 'KM', 'Age', 'hp', 'Engine_Disp_cc', 'Cylinders', 'Comb_Cons']"
   ]
  },
  {
   "cell_type": "code",
   "execution_count": 133,
   "id": "13a2bb97",
   "metadata": {},
   "outputs": [],
   "source": [
    "df_num_column=df[numeric_column]"
   ]
  },
  {
   "cell_type": "code",
   "execution_count": 134,
   "id": "f9937dfb",
   "metadata": {},
   "outputs": [
    {
     "data": {
      "text/html": [
       "<div>\n",
       "<style scoped>\n",
       "    .dataframe tbody tr th:only-of-type {\n",
       "        vertical-align: middle;\n",
       "    }\n",
       "\n",
       "    .dataframe tbody tr th {\n",
       "        vertical-align: top;\n",
       "    }\n",
       "\n",
       "    .dataframe thead th {\n",
       "        text-align: right;\n",
       "    }\n",
       "</style>\n",
       "<table border=\"1\" class=\"dataframe\">\n",
       "  <thead>\n",
       "    <tr style=\"text-align: right;\">\n",
       "      <th></th>\n",
       "      <th>Price</th>\n",
       "      <th>KM</th>\n",
       "      <th>Age</th>\n",
       "      <th>hp</th>\n",
       "      <th>Engine_Disp_cc</th>\n",
       "      <th>Cylinders</th>\n",
       "      <th>Comb_Cons</th>\n",
       "    </tr>\n",
       "  </thead>\n",
       "  <tbody>\n",
       "    <tr>\n",
       "      <th>0</th>\n",
       "      <td>15770.0</td>\n",
       "      <td>56013.000000</td>\n",
       "      <td>3.0</td>\n",
       "      <td>66.0</td>\n",
       "      <td>1422.0</td>\n",
       "      <td>3.0</td>\n",
       "      <td>3.8</td>\n",
       "    </tr>\n",
       "    <tr>\n",
       "      <th>1</th>\n",
       "      <td>14500.0</td>\n",
       "      <td>80000.000000</td>\n",
       "      <td>2.0</td>\n",
       "      <td>141.0</td>\n",
       "      <td>1798.0</td>\n",
       "      <td>4.0</td>\n",
       "      <td>5.6</td>\n",
       "    </tr>\n",
       "    <tr>\n",
       "      <th>2</th>\n",
       "      <td>14640.0</td>\n",
       "      <td>83450.000000</td>\n",
       "      <td>3.0</td>\n",
       "      <td>85.0</td>\n",
       "      <td>1598.0</td>\n",
       "      <td>3.0</td>\n",
       "      <td>3.8</td>\n",
       "    </tr>\n",
       "    <tr>\n",
       "      <th>3</th>\n",
       "      <td>14500.0</td>\n",
       "      <td>73000.000000</td>\n",
       "      <td>3.0</td>\n",
       "      <td>66.0</td>\n",
       "      <td>1422.0</td>\n",
       "      <td>3.0</td>\n",
       "      <td>3.8</td>\n",
       "    </tr>\n",
       "    <tr>\n",
       "      <th>4</th>\n",
       "      <td>16790.0</td>\n",
       "      <td>16200.000000</td>\n",
       "      <td>3.0</td>\n",
       "      <td>66.0</td>\n",
       "      <td>1422.0</td>\n",
       "      <td>3.0</td>\n",
       "      <td>4.1</td>\n",
       "    </tr>\n",
       "    <tr>\n",
       "      <th>...</th>\n",
       "      <td>...</td>\n",
       "      <td>...</td>\n",
       "      <td>...</td>\n",
       "      <td>...</td>\n",
       "      <td>...</td>\n",
       "      <td>...</td>\n",
       "      <td>...</td>\n",
       "    </tr>\n",
       "    <tr>\n",
       "      <th>15914</th>\n",
       "      <td>33975.0</td>\n",
       "      <td>1748.271975</td>\n",
       "      <td>0.0</td>\n",
       "      <td>147.0</td>\n",
       "      <td>1997.0</td>\n",
       "      <td>4.0</td>\n",
       "      <td>5.3</td>\n",
       "    </tr>\n",
       "    <tr>\n",
       "      <th>15915</th>\n",
       "      <td>33975.0</td>\n",
       "      <td>9900.000000</td>\n",
       "      <td>0.0</td>\n",
       "      <td>165.0</td>\n",
       "      <td>1798.0</td>\n",
       "      <td>4.0</td>\n",
       "      <td>6.8</td>\n",
       "    </tr>\n",
       "    <tr>\n",
       "      <th>15916</th>\n",
       "      <td>33975.0</td>\n",
       "      <td>15.000000</td>\n",
       "      <td>0.0</td>\n",
       "      <td>146.0</td>\n",
       "      <td>1997.0</td>\n",
       "      <td>4.0</td>\n",
       "      <td>5.3</td>\n",
       "    </tr>\n",
       "    <tr>\n",
       "      <th>15917</th>\n",
       "      <td>33975.0</td>\n",
       "      <td>10.000000</td>\n",
       "      <td>0.0</td>\n",
       "      <td>147.0</td>\n",
       "      <td>1997.0</td>\n",
       "      <td>4.0</td>\n",
       "      <td>5.3</td>\n",
       "    </tr>\n",
       "    <tr>\n",
       "      <th>15918</th>\n",
       "      <td>33975.0</td>\n",
       "      <td>1748.271975</td>\n",
       "      <td>0.0</td>\n",
       "      <td>165.0</td>\n",
       "      <td>1798.0</td>\n",
       "      <td>4.0</td>\n",
       "      <td>6.8</td>\n",
       "    </tr>\n",
       "  </tbody>\n",
       "</table>\n",
       "<p>15919 rows × 7 columns</p>\n",
       "</div>"
      ],
      "text/plain": [
       "         Price            KM  Age     hp  Engine_Disp_cc  Cylinders  Comb_Cons\n",
       "0      15770.0  56013.000000  3.0   66.0          1422.0        3.0        3.8\n",
       "1      14500.0  80000.000000  2.0  141.0          1798.0        4.0        5.6\n",
       "2      14640.0  83450.000000  3.0   85.0          1598.0        3.0        3.8\n",
       "3      14500.0  73000.000000  3.0   66.0          1422.0        3.0        3.8\n",
       "4      16790.0  16200.000000  3.0   66.0          1422.0        3.0        4.1\n",
       "...        ...           ...  ...    ...             ...        ...        ...\n",
       "15914  33975.0   1748.271975  0.0  147.0          1997.0        4.0        5.3\n",
       "15915  33975.0   9900.000000  0.0  165.0          1798.0        4.0        6.8\n",
       "15916  33975.0     15.000000  0.0  146.0          1997.0        4.0        5.3\n",
       "15917  33975.0     10.000000  0.0  147.0          1997.0        4.0        5.3\n",
       "15918  33975.0   1748.271975  0.0  165.0          1798.0        4.0        6.8\n",
       "\n",
       "[15919 rows x 7 columns]"
      ]
     },
     "execution_count": 134,
     "metadata": {},
     "output_type": "execute_result"
    }
   ],
   "source": [
    "df_num_column"
   ]
  },
  {
   "cell_type": "code",
   "execution_count": 135,
   "id": "5308293c",
   "metadata": {},
   "outputs": [
    {
     "data": {
      "image/png": "[encoded data removed]",
      "text/plain": [
       "<Figure size 1260x1260 with 56 Axes>"
      ]
     },
     "metadata": {
      "needs_background": "light"
     },
     "output_type": "display_data"
    }
   ],
   "source": [
    "sns.pairplot(df_num_column, size=2.5)\n",
    "\n",
    "plt.show()"
   ]
  },
  {
   "cell_type": "code",
   "execution_count": 136,
   "id": "3ce4199b",
   "metadata": {},
   "outputs": [
    {
     "data": {
      "text/html": [
       "<div>\n",
       "<style scoped>\n",
       "    .dataframe tbody tr th:only-of-type {\n",
       "        vertical-align: middle;\n",
       "    }\n",
       "\n",
       "    .dataframe tbody tr th {\n",
       "        vertical-align: top;\n",
       "    }\n",
       "\n",
       "    .dataframe thead th {\n",
       "        text-align: right;\n",
       "    }\n",
       "</style>\n",
       "<table border=\"1\" class=\"dataframe\">\n",
       "  <thead>\n",
       "    <tr style=\"text-align: right;\">\n",
       "      <th></th>\n",
       "      <th>Price</th>\n",
       "      <th>KM</th>\n",
       "      <th>Age</th>\n",
       "      <th>hp</th>\n",
       "      <th>Engine_Disp_cc</th>\n",
       "      <th>Cylinders</th>\n",
       "      <th>Comb_Cons</th>\n",
       "    </tr>\n",
       "  </thead>\n",
       "  <tbody>\n",
       "    <tr>\n",
       "      <th>Price</th>\n",
       "      <td>1.000000</td>\n",
       "      <td>-0.416244</td>\n",
       "      <td>-0.489023</td>\n",
       "      <td>0.667199</td>\n",
       "      <td>0.258124</td>\n",
       "      <td>-0.049656</td>\n",
       "      <td>0.269737</td>\n",
       "    </tr>\n",
       "    <tr>\n",
       "      <th>KM</th>\n",
       "      <td>-0.416244</td>\n",
       "      <td>1.000000</td>\n",
       "      <td>0.751166</td>\n",
       "      <td>0.001689</td>\n",
       "      <td>0.296555</td>\n",
       "      <td>0.186828</td>\n",
       "      <td>-0.326854</td>\n",
       "    </tr>\n",
       "    <tr>\n",
       "      <th>Age</th>\n",
       "      <td>-0.489023</td>\n",
       "      <td>0.751166</td>\n",
       "      <td>1.000000</td>\n",
       "      <td>-0.090962</td>\n",
       "      <td>0.196621</td>\n",
       "      <td>0.120760</td>\n",
       "      <td>-0.349193</td>\n",
       "    </tr>\n",
       "    <tr>\n",
       "      <th>hp</th>\n",
       "      <td>0.667199</td>\n",
       "      <td>0.001689</td>\n",
       "      <td>-0.090962</td>\n",
       "      <td>1.000000</td>\n",
       "      <td>0.602586</td>\n",
       "      <td>0.281389</td>\n",
       "      <td>0.402955</td>\n",
       "    </tr>\n",
       "    <tr>\n",
       "      <th>Engine_Disp_cc</th>\n",
       "      <td>0.258124</td>\n",
       "      <td>0.296555</td>\n",
       "      <td>0.196621</td>\n",
       "      <td>0.602586</td>\n",
       "      <td>1.000000</td>\n",
       "      <td>0.620237</td>\n",
       "      <td>0.026634</td>\n",
       "    </tr>\n",
       "    <tr>\n",
       "      <th>Cylinders</th>\n",
       "      <td>-0.049656</td>\n",
       "      <td>0.186828</td>\n",
       "      <td>0.120760</td>\n",
       "      <td>0.281389</td>\n",
       "      <td>0.620237</td>\n",
       "      <td>1.000000</td>\n",
       "      <td>0.180721</td>\n",
       "    </tr>\n",
       "    <tr>\n",
       "      <th>Comb_Cons</th>\n",
       "      <td>0.269737</td>\n",
       "      <td>-0.326854</td>\n",
       "      <td>-0.349193</td>\n",
       "      <td>0.402955</td>\n",
       "      <td>0.026634</td>\n",
       "      <td>0.180721</td>\n",
       "      <td>1.000000</td>\n",
       "    </tr>\n",
       "  </tbody>\n",
       "</table>\n",
       "</div>"
      ],
      "text/plain": [
       "                   Price        KM       Age        hp  Engine_Disp_cc  \\\n",
       "Price           1.000000 -0.416244 -0.489023  0.667199        0.258124   \n",
       "KM             -0.416244  1.000000  0.751166  0.001689        0.296555   \n",
       "Age            -0.489023  0.751166  1.000000 -0.090962        0.196621   \n",
       "hp              0.667199  0.001689 -0.090962  1.000000        0.602586   \n",
       "Engine_Disp_cc  0.258124  0.296555  0.196621  0.602586        1.000000   \n",
       "Cylinders      -0.049656  0.186828  0.120760  0.281389        0.620237   \n",
       "Comb_Cons       0.269737 -0.326854 -0.349193  0.402955        0.026634   \n",
       "\n",
       "                Cylinders  Comb_Cons  \n",
       "Price           -0.049656   0.269737  \n",
       "KM               0.186828  -0.326854  \n",
       "Age              0.120760  -0.349193  \n",
       "hp               0.281389   0.402955  \n",
       "Engine_Disp_cc   0.620237   0.026634  \n",
       "Cylinders        1.000000   0.180721  \n",
       "Comb_Cons        0.180721   1.000000  "
      ]
     },
     "execution_count": 136,
     "metadata": {},
     "output_type": "execute_result"
    }
   ],
   "source": [
    "df_num_column.corr()"
   ]
  },
  {
   "cell_type": "code",
   "execution_count": 137,
   "id": "facf93ea",
   "metadata": {},
   "outputs": [
    {
     "data": {
      "image/png": "[encoded data removed]",
      "text/plain": [
       "<Figure size 1152x648 with 2 Axes>"
      ]
     },
     "metadata": {
      "needs_background": "light"
     },
     "output_type": "display_data"
    }
   ],
   "source": [
    "plt.figure(figsize = (16,9))\n",
    "sns.heatmap(df_num_column.corr(),cmap=\"YlGnBu\", annot=True)\n",
    "plt.show();"
   ]
  },
  {
   "cell_type": "code",
   "execution_count": 138,
   "id": "f2bd538a",
   "metadata": {},
   "outputs": [],
   "source": [
    "df.to_csv('Part_3_final_not_dummy.csv', index=False)"
   ]
  },
  {
   "cell_type": "code",
   "execution_count": 139,
   "id": "05b77139",
   "metadata": {},
   "outputs": [
    {
     "data": {
      "text/plain": [
       "(15919, 21)"
      ]
     },
     "execution_count": 139,
     "metadata": {},
     "output_type": "execute_result"
    }
   ],
   "source": [
    "df.shape"
   ]
  },
  {
   "cell_type": "markdown",
   "id": "9681fa4a",
   "metadata": {},
   "source": [
    "## GET DUMMİES OPERATİON"
   ]
  },
  {
   "cell_type": "code",
   "execution_count": 151,
   "id": "eacfe9f7",
   "metadata": {},
   "outputs": [],
   "source": [
    "df = pd.read_csv('Part_3_final_not_dummy.csv')"
   ]
  },
  {
   "cell_type": "code",
   "execution_count": 152,
   "id": "2f61b141",
   "metadata": {},
   "outputs": [],
   "source": [
    "df = df.join(df['Comfort_Convenience'].str.get_dummies(\",\").add_prefix(\"Cc_\"))"
   ]
  },
  {
   "cell_type": "code",
   "execution_count": 153,
   "id": "9b70a115",
   "metadata": {},
   "outputs": [
    {
     "data": {
      "text/plain": [
       "(15919, 59)"
      ]
     },
     "execution_count": 153,
     "metadata": {},
     "output_type": "execute_result"
    }
   ],
   "source": [
    "df.shape"
   ]
  },
  {
   "cell_type": "code",
   "execution_count": 155,
   "id": "63b2c40f",
   "metadata": {},
   "outputs": [],
   "source": [
    "df = df.join(df['Entertainment_Media'].str.get_dummies(\",\").add_prefix(\"Ee_\"))"
   ]
  },
  {
   "cell_type": "code",
   "execution_count": 156,
   "id": "796ad0df",
   "metadata": {},
   "outputs": [
    {
     "data": {
      "text/plain": [
       "(15919, 69)"
      ]
     },
     "execution_count": 156,
     "metadata": {},
     "output_type": "execute_result"
    }
   ],
   "source": [
    "df.shape"
   ]
  },
  {
   "cell_type": "code",
   "execution_count": 157,
   "id": "87d45d30",
   "metadata": {},
   "outputs": [],
   "source": [
    "df = df.join(df['Extras'].str.get_dummies(\",\").add_prefix(\"Ex_\"))"
   ]
  },
  {
   "cell_type": "code",
   "execution_count": 158,
   "id": "3d867b30",
   "metadata": {},
   "outputs": [
    {
     "data": {
      "text/plain": [
       "(15919, 86)"
      ]
     },
     "execution_count": 158,
     "metadata": {},
     "output_type": "execute_result"
    }
   ],
   "source": [
    "df.shape"
   ]
  },
  {
   "cell_type": "code",
   "execution_count": 159,
   "id": "606c2fae",
   "metadata": {},
   "outputs": [],
   "source": [
    "df = df.join(df['Safety_Security'].str.get_dummies(\",\").add_prefix(\"Ss_\"))"
   ]
  },
  {
   "cell_type": "code",
   "execution_count": 160,
   "id": "dcee0b33",
   "metadata": {},
   "outputs": [
    {
     "data": {
      "text/plain": [
       "(15919, 115)"
      ]
     },
     "execution_count": 160,
     "metadata": {},
     "output_type": "execute_result"
    }
   ],
   "source": [
    "df.shape"
   ]
  },
  {
   "cell_type": "code",
   "execution_count": 161,
   "id": "1f113ace",
   "metadata": {},
   "outputs": [],
   "source": [
    "df.drop([\"Entertainment_Media\",\"Comfort_Convenience\",\"Extras\",\"Safety_Security\"],axis=1,inplace = True)"
   ]
  },
  {
   "cell_type": "code",
   "execution_count": 162,
   "id": "dbf0e531",
   "metadata": {},
   "outputs": [
    {
     "data": {
      "text/plain": [
       "(15919, 111)"
      ]
     },
     "execution_count": 162,
     "metadata": {},
     "output_type": "execute_result"
    }
   ],
   "source": [
    "df.shape"
   ]
  },
  {
   "cell_type": "code",
   "execution_count": 165,
   "id": "3102bcef",
   "metadata": {},
   "outputs": [],
   "source": [
    "df_final = pd.get_dummies(df)"
   ]
  },
  {
   "cell_type": "code",
   "execution_count": 166,
   "id": "587cb8f9",
   "metadata": {},
   "outputs": [
    {
     "data": {
      "text/plain": [
       "(15919, 144)"
      ]
     },
     "execution_count": 166,
     "metadata": {},
     "output_type": "execute_result"
    }
   ],
   "source": [
    "df_final.shape"
   ]
  },
  {
   "cell_type": "code",
   "execution_count": 167,
   "id": "5719d58a",
   "metadata": {
    "scrolled": true
   },
   "outputs": [
    {
     "data": {
      "text/plain": [
       "['Price',\n",
       " 'KM',\n",
       " 'hp',\n",
       " 'Age',\n",
       " 'Engine_Disp_cc',\n",
       " 'Cylinders',\n",
       " 'VAT_Deductable',\n",
       " 'Comb_Cons',\n",
       " 'Cc_Air conditioning',\n",
       " 'Cc_Air suspension',\n",
       " 'Cc_Armrest',\n",
       " 'Cc_Automatic climate control',\n",
       " 'Cc_Auxiliary heating',\n",
       " 'Cc_Cruise control',\n",
       " 'Cc_Electric Starter',\n",
       " 'Cc_Electric tailgate',\n",
       " 'Cc_Electrical side mirrors',\n",
       " 'Cc_Electrically adjustable seats',\n",
       " 'Cc_Electrically heated windshield',\n",
       " 'Cc_Heads-up display',\n",
       " 'Cc_Heated steering wheel',\n",
       " 'Cc_Hill Holder',\n",
       " 'Cc_Keyless central door lock',\n",
       " 'Cc_Leather seats',\n",
       " 'Cc_Leather steering wheel',\n",
       " 'Cc_Light sensor',\n",
       " 'Cc_Lumbar support',\n",
       " 'Cc_Massage seats',\n",
       " 'Cc_Multi-function steering wheel',\n",
       " 'Cc_Navigation system',\n",
       " 'Cc_Panorama roof',\n",
       " 'Cc_Park Distance Control',\n",
       " 'Cc_Parking assist system camera',\n",
       " 'Cc_Parking assist system self-steering',\n",
       " 'Cc_Parking assist system sensors front',\n",
       " 'Cc_Parking assist system sensors rear',\n",
       " 'Cc_Power windows',\n",
       " 'Cc_Rain sensor',\n",
       " 'Cc_Seat heating',\n",
       " 'Cc_Seat ventilation',\n",
       " 'Cc_Split rear seats',\n",
       " 'Cc_Start-stop system',\n",
       " 'Cc_Sunroof',\n",
       " 'Cc_Tinted windows',\n",
       " 'Cc_Wind deflector',\n",
       " 'Cc_Windshield',\n",
       " 'Ee_Bluetooth',\n",
       " 'Ee_CD player',\n",
       " 'Ee_Digital radio',\n",
       " 'Ee_Hands-free equipment',\n",
       " 'Ee_MP3',\n",
       " 'Ee_On-board computer',\n",
       " 'Ee_Radio',\n",
       " 'Ee_Sound system',\n",
       " 'Ee_Television',\n",
       " 'Ee_USB',\n",
       " 'Ex_Alloy wheels',\n",
       " 'Ex_Cab or rented Car',\n",
       " 'Ex_Catalytic Converter',\n",
       " 'Ex_Handicapped enabled',\n",
       " 'Ex_Right hand drive',\n",
       " 'Ex_Roof rack',\n",
       " 'Ex_Shift paddles',\n",
       " 'Ex_Ski bag',\n",
       " 'Ex_Sliding door',\n",
       " 'Ex_Sport package',\n",
       " 'Ex_Sport seats',\n",
       " 'Ex_Sport suspension',\n",
       " 'Ex_Touch screen',\n",
       " 'Ex_Trailer hitch',\n",
       " 'Ex_Tuned car',\n",
       " 'Ex_Voice Control',\n",
       " 'Ex_Winter tyres',\n",
       " 'Ss_ABS',\n",
       " 'Ss_Adaptive Cruise Control',\n",
       " 'Ss_Adaptive headlights',\n",
       " 'Ss_Alarm system',\n",
       " 'Ss_Blind spot monitor',\n",
       " 'Ss_Central door lock',\n",
       " 'Ss_Central door lock with remote control',\n",
       " 'Ss_Daytime running lights',\n",
       " 'Ss_Driver drowsiness detection',\n",
       " 'Ss_Driver-side airbag',\n",
       " 'Ss_Electronic stability control',\n",
       " 'Ss_Emergency brake assistant',\n",
       " 'Ss_Emergency system',\n",
       " 'Ss_Fog lights',\n",
       " 'Ss_Head airbag',\n",
       " 'Ss_Immobilizer',\n",
       " 'Ss_Isofix',\n",
       " 'Ss_LED Daytime Running Lights',\n",
       " 'Ss_LED Headlights',\n",
       " 'Ss_Lane departure warning system',\n",
       " 'Ss_Night view assist',\n",
       " 'Ss_Passenger-side airbag',\n",
       " 'Ss_Power steering',\n",
       " 'Ss_Rear airbag',\n",
       " 'Ss_Side airbag',\n",
       " 'Ss_Tire pressure monitoring system',\n",
       " 'Ss_Traction control',\n",
       " 'Ss_Traffic sign recognition',\n",
       " 'Ss_Xenon headlights',\n",
       " 'Type_Demonstration',\n",
       " \"Type_Employee's car\",\n",
       " 'Type_New',\n",
       " 'Type_Pre-registered',\n",
       " 'Type_Used',\n",
       " 'Brand_Audi',\n",
       " 'Brand_Opel',\n",
       " 'Brand_Renault',\n",
       " 'Model_A1',\n",
       " 'Model_A2',\n",
       " 'Model_A3',\n",
       " 'Model_Astra',\n",
       " 'Model_Clio',\n",
       " 'Model_Corsa',\n",
       " 'Model_Duster',\n",
       " 'Model_Espace',\n",
       " 'Model_Insignia',\n",
       " 'Gearing_Type_Automatic',\n",
       " 'Gearing_Type_Manual',\n",
       " 'Gearing_Type_Semi-automatic',\n",
       " 'Fuel_Benzine',\n",
       " 'Fuel_CNG/LPG',\n",
       " 'Fuel_Diesel',\n",
       " 'Fuel_Electric',\n",
       " 'Body_Type_Compact',\n",
       " 'Body_Type_Convertible',\n",
       " 'Body_Type_Coupe',\n",
       " 'Body_Type_Off-Road',\n",
       " 'Body_Type_Sedan',\n",
       " 'Body_Type_Station wagon',\n",
       " 'Body_Type_Transporter',\n",
       " 'Body_Type_Van',\n",
       " 'Inspection_New_No',\n",
       " 'Inspection_New_Yes',\n",
       " 'Paint_Type_Metallic',\n",
       " 'Paint_Type_Perl effect',\n",
       " 'Paint_Type_Uni/basic',\n",
       " 'Uphol_Material_Cloth',\n",
       " 'Uphol_Material_Full leather',\n",
       " 'Uphol_Material_Part leather',\n",
       " 'Uphol_Material_Velour',\n",
       " 'Uphol_Material_alcantara']"
      ]
     },
     "execution_count": 167,
     "metadata": {},
     "output_type": "execute_result"
    }
   ],
   "source": [
    "list(df_final.columns)"
   ]
  },
  {
   "cell_type": "code",
   "execution_count": 168,
   "id": "2bc59c1c",
   "metadata": {},
   "outputs": [],
   "source": [
    "df_final.to_csv('final_scout_done_dummy.csv', index=False)"
   ]
  },
  {
   "cell_type": "code",
   "execution_count": null,
   "id": "c71c8a73",
   "metadata": {},
   "outputs": [],
   "source": []
  }
 ],
 "metadata": {
  "kernelspec": {
   "display_name": "Python 3",
   "language": "python",
   "name": "python3"
  },
  "language_info": {
   "codemirror_mode": {
    "name": "ipython",
    "version": 3
   },
   "file_extension": ".py",
   "mimetype": "text/x-python",
   "name": "python",
   "nbconvert_exporter": "python",
   "pygments_lexer": "ipython3",
   "version": "3.8.8"
  }
 },
 "nbformat": 4,
 "nbformat_minor": 5
}
