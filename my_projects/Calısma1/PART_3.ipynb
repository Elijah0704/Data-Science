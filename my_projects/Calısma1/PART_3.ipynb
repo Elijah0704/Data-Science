{
 "cells": [
  {
   "cell_type": "markdown",
   "id": "e7985c5b",
   "metadata": {},
   "source": [
    "📍Introduction\n",
    "\n",
    "Welcome to \"AutoScout Data Analysis Project\". This is the capstone project of Data Analysis Module. Auto Scout data which using for this project, scraped from the on-line car trading company in 2019, contains many features of 9 different car models. In this project, you will have the opportunity to apply many commonly used algorithms for Data Cleaning and Exploratory Data Analysis by using many Python libraries such as Numpy, Pandas, Matplotlib, Seaborn, Scipy you will analyze clean dataset.\n",
    "\n",
    "📌The project consists of 3 parts:\n",
    "\n",
    "🔍First part is related with 'data cleaning'. It deals with Incorrect Headers, Incorrect Format, Anomalies, Dropping useless columns.\n",
    "\n",
    "🔍Second part is related with 'filling data'. It deals with Missing Values. Categorical to numeric transformation is done.\n",
    "\n",
    "🔍Third part is related with 'handling outliers of data' via Visualisation libraries. Some insights are extracted."
   ]
  },
  {
   "cell_type": "code",
   "execution_count": 2,
   "id": "3cf761bb",
   "metadata": {},
   "outputs": [],
   "source": [
    "import numpy as np\n",
    "import pandas as pd\n",
    "import seaborn as sns\n",
    "import matplotlib.pyplot as plt "
   ]
  },
  {
   "cell_type": "code",
   "execution_count": 3,
   "id": "2bcb0515",
   "metadata": {},
   "outputs": [],
   "source": [
    "import warnings\n",
    "warnings.filterwarnings('ignore')\n",
    "warnings.warn('this will not show')"
   ]
  },
  {
   "cell_type": "code",
   "execution_count": 4,
   "id": "a318c4a3",
   "metadata": {
    "scrolled": true
   },
   "outputs": [
    {
     "data": {
      "text/html": [
       "<div>\n",
       "<style scoped>\n",
       "    .dataframe tbody tr th:only-of-type {\n",
       "        vertical-align: middle;\n",
       "    }\n",
       "\n",
       "    .dataframe tbody tr th {\n",
       "        vertical-align: top;\n",
       "    }\n",
       "\n",
       "    .dataframe thead th {\n",
       "        text-align: right;\n",
       "    }\n",
       "</style>\n",
       "<table border=\"1\" class=\"dataframe\">\n",
       "  <thead>\n",
       "    <tr style=\"text-align: right;\">\n",
       "      <th></th>\n",
       "      <th>Unnamed: 0</th>\n",
       "      <th>Price</th>\n",
       "      <th>hp</th>\n",
       "      <th>Type</th>\n",
       "      <th>Warranty</th>\n",
       "      <th>Brand</th>\n",
       "      <th>Model</th>\n",
       "      <th>Age</th>\n",
       "      <th>Nr_of_Doors</th>\n",
       "      <th>Number_of_Seats</th>\n",
       "      <th>...</th>\n",
       "      <th>Prev_Owner</th>\n",
       "      <th>Inspection_New</th>\n",
       "      <th>Body_Color</th>\n",
       "      <th>Paint_Type</th>\n",
       "      <th>Uphol_Material</th>\n",
       "      <th>Uphol_Colors</th>\n",
       "      <th>Country_Cons</th>\n",
       "      <th>City_Cons</th>\n",
       "      <th>Comb_Cons</th>\n",
       "      <th>New_KM</th>\n",
       "    </tr>\n",
       "  </thead>\n",
       "  <tbody>\n",
       "    <tr>\n",
       "      <th>0</th>\n",
       "      <td>0</td>\n",
       "      <td>15770</td>\n",
       "      <td>66</td>\n",
       "      <td>Used</td>\n",
       "      <td>12.0</td>\n",
       "      <td>Audi</td>\n",
       "      <td>A1</td>\n",
       "      <td>3.0</td>\n",
       "      <td>5.0</td>\n",
       "      <td>5.0</td>\n",
       "      <td>...</td>\n",
       "      <td>2.0</td>\n",
       "      <td>Yes</td>\n",
       "      <td>Black</td>\n",
       "      <td>Metallic</td>\n",
       "      <td>Cloth</td>\n",
       "      <td>Black</td>\n",
       "      <td>4.3</td>\n",
       "      <td>3.5</td>\n",
       "      <td>3.8</td>\n",
       "      <td>56013.0</td>\n",
       "    </tr>\n",
       "    <tr>\n",
       "      <th>1</th>\n",
       "      <td>1</td>\n",
       "      <td>14500</td>\n",
       "      <td>141</td>\n",
       "      <td>Used</td>\n",
       "      <td>12.0</td>\n",
       "      <td>Audi</td>\n",
       "      <td>A1</td>\n",
       "      <td>2.0</td>\n",
       "      <td>3.0</td>\n",
       "      <td>4.0</td>\n",
       "      <td>...</td>\n",
       "      <td>1.0</td>\n",
       "      <td>No</td>\n",
       "      <td>Red</td>\n",
       "      <td>Metallic</td>\n",
       "      <td>Cloth</td>\n",
       "      <td>Grey</td>\n",
       "      <td>7.1</td>\n",
       "      <td>4.7</td>\n",
       "      <td>5.6</td>\n",
       "      <td>80000.0</td>\n",
       "    </tr>\n",
       "    <tr>\n",
       "      <th>2</th>\n",
       "      <td>2</td>\n",
       "      <td>14640</td>\n",
       "      <td>85</td>\n",
       "      <td>Used</td>\n",
       "      <td>12.0</td>\n",
       "      <td>Audi</td>\n",
       "      <td>A1</td>\n",
       "      <td>3.0</td>\n",
       "      <td>4.0</td>\n",
       "      <td>4.0</td>\n",
       "      <td>...</td>\n",
       "      <td>1.0</td>\n",
       "      <td>No</td>\n",
       "      <td>Black</td>\n",
       "      <td>Metallic</td>\n",
       "      <td>Cloth</td>\n",
       "      <td>Black</td>\n",
       "      <td>4.4</td>\n",
       "      <td>3.4</td>\n",
       "      <td>3.8</td>\n",
       "      <td>83450.0</td>\n",
       "    </tr>\n",
       "    <tr>\n",
       "      <th>3</th>\n",
       "      <td>3</td>\n",
       "      <td>14500</td>\n",
       "      <td>66</td>\n",
       "      <td>Used</td>\n",
       "      <td>12.0</td>\n",
       "      <td>Audi</td>\n",
       "      <td>A1</td>\n",
       "      <td>3.0</td>\n",
       "      <td>3.0</td>\n",
       "      <td>4.0</td>\n",
       "      <td>...</td>\n",
       "      <td>1.0</td>\n",
       "      <td>No</td>\n",
       "      <td>Brown</td>\n",
       "      <td>Metallic</td>\n",
       "      <td>Cloth</td>\n",
       "      <td>Grey</td>\n",
       "      <td>4.3</td>\n",
       "      <td>3.5</td>\n",
       "      <td>3.8</td>\n",
       "      <td>73000.0</td>\n",
       "    </tr>\n",
       "    <tr>\n",
       "      <th>4</th>\n",
       "      <td>4</td>\n",
       "      <td>16790</td>\n",
       "      <td>66</td>\n",
       "      <td>Used</td>\n",
       "      <td>12.0</td>\n",
       "      <td>Audi</td>\n",
       "      <td>A1</td>\n",
       "      <td>3.0</td>\n",
       "      <td>5.0</td>\n",
       "      <td>5.0</td>\n",
       "      <td>...</td>\n",
       "      <td>1.0</td>\n",
       "      <td>Yes</td>\n",
       "      <td>Black</td>\n",
       "      <td>Metallic</td>\n",
       "      <td>Cloth</td>\n",
       "      <td>Black</td>\n",
       "      <td>4.6</td>\n",
       "      <td>3.8</td>\n",
       "      <td>4.1</td>\n",
       "      <td>16200.0</td>\n",
       "    </tr>\n",
       "  </tbody>\n",
       "</table>\n",
       "<p>5 rows × 35 columns</p>\n",
       "</div>"
      ],
      "text/plain": [
       "   Unnamed: 0  Price   hp  Type  Warranty Brand Model  Age  Nr_of_Doors  \\\n",
       "0           0  15770   66  Used      12.0  Audi    A1  3.0          5.0   \n",
       "1           1  14500  141  Used      12.0  Audi    A1  2.0          3.0   \n",
       "2           2  14640   85  Used      12.0  Audi    A1  3.0          4.0   \n",
       "3           3  14500   66  Used      12.0  Audi    A1  3.0          3.0   \n",
       "4           4  16790   66  Used      12.0  Audi    A1  3.0          5.0   \n",
       "\n",
       "   Number_of_Seats  ... Prev_Owner  Inspection_New  Body_Color Paint_Type  \\\n",
       "0              5.0  ...        2.0             Yes       Black   Metallic   \n",
       "1              4.0  ...        1.0              No         Red   Metallic   \n",
       "2              4.0  ...        1.0              No       Black   Metallic   \n",
       "3              4.0  ...        1.0              No       Brown   Metallic   \n",
       "4              5.0  ...        1.0             Yes       Black   Metallic   \n",
       "\n",
       "  Uphol_Material  Uphol_Colors Country_Cons City_Cons Comb_Cons   New_KM  \n",
       "0          Cloth         Black          4.3       3.5       3.8  56013.0  \n",
       "1          Cloth          Grey          7.1       4.7       5.6  80000.0  \n",
       "2          Cloth         Black          4.4       3.4       3.8  83450.0  \n",
       "3          Cloth          Grey          4.3       3.5       3.8  73000.0  \n",
       "4          Cloth         Black          4.6       3.8       4.1  16200.0  \n",
       "\n",
       "[5 rows x 35 columns]"
      ]
     },
     "execution_count": 4,
     "metadata": {},
     "output_type": "execute_result"
    }
   ],
   "source": [
    "df=pd.read_csv('part_2_scout_not_dummy.csv')\n",
    "df.head()"
   ]
  },
  {
   "cell_type": "code",
   "execution_count": 5,
   "id": "415f2ca2",
   "metadata": {},
   "outputs": [],
   "source": [
    "df.drop('Unnamed: 0', axis=1, inplace=True)"
   ]
  },
  {
   "cell_type": "markdown",
   "id": "e6c9e886",
   "metadata": {},
   "source": [
    "## FUNCTIONS"
   ]
  },
  {
   "cell_type": "code",
   "execution_count": 6,
   "id": "11d34c9b",
   "metadata": {},
   "outputs": [],
   "source": [
    "def check_col(df,check_col):\n",
    "    print(check_col,\", Sumation of isnull :\",df[check_col].isnull().sum())\n",
    "    print(\"-----------------\")\n",
    "    print( \"Samples for\",check_col, \"\\n\", df[check_col].sample(10))\n",
    "    print(\"-----------------\")\n",
    "    print(check_col, \"Value_counts is\", \"\\n\",df[check_col].value_counts(dropna=False))"
   ]
  },
  {
   "cell_type": "code",
   "execution_count": 7,
   "id": "15535a78",
   "metadata": {},
   "outputs": [],
   "source": [
    "def remove_outlier_IQR(df):\n",
    "    Q1=df.quantile(0.25)\n",
    "    Q3=df.quantile(0.75)\n",
    "    IQR=Q3-Q1\n",
    "    df_final=df[~((df<(Q1-1.5*IQR)) | (df>(Q3+1.5*IQR)))]\n",
    "    return df_final"
   ]
  },
  {
   "cell_type": "code",
   "execution_count": 8,
   "id": "cdfeacc7",
   "metadata": {},
   "outputs": [],
   "source": [
    "def fill_most(df, group_col, col_name):\n",
    "    '''Fills the missing values with the most existing value (mode) in the relevant column according to single-stage grouping'''\n",
    "    for group in list(df[group_col].unique()):\n",
    "        cond = df[group_col]==group\n",
    "        grp_inx = list(df[cond][col_name].index)\n",
    "        mode = list(df[cond][col_name].mode())\n",
    "        if mode != []:\n",
    "            df[col_name].iloc[grp_inx] = df[col_name].iloc[grp_inx].fillna(df[cond][col_name].mode()[0])\n",
    "        else:\n",
    "            df[col_name].iloc[grp_inx] = df[col_name].iloc[grp_inx].fillna(df[col_name].mode()[0])\n",
    "    print(\"Number of NaN : \",df[col_name].isnull().sum())\n",
    "    print(\"------------------\")\n",
    "    print(df[col_name].value_counts(dropna=False))"
   ]
  },
  {
   "cell_type": "code",
   "execution_count": 9,
   "id": "39f45d93",
   "metadata": {},
   "outputs": [],
   "source": [
    "def fill_prop(df, group_col, col_name):\n",
    "    '''Fills the missing values with \"ffill and bfill method\" according to single-stage grouping'''\n",
    "    for group in list(df[group_col].unique()):\n",
    "        cond = df[group_col]==group\n",
    "        grp_inx = list(df[cond][col_name].index)\n",
    "        df.loc[cond, col_name] = df.loc[cond, col_name].fillna(method=\"ffill\").fillna(method=\"bfill\")\n",
    "    df[col_name] = df[col_name].fillna(method=\"ffill\").fillna(method=\"bfill\")\n",
    "    print(\"Number of NaN : \",df[col_name].isnull().sum())\n",
    "    print(\"------------------\")\n",
    "    print(df[col_name].value_counts(dropna=False))"
   ]
  },
  {
   "cell_type": "code",
   "execution_count": 10,
   "id": "d4b666b3",
   "metadata": {},
   "outputs": [],
   "source": [
    "def fill(df, group_col1, group_col2, col_name, method): # method can be \"mode\" or \"median\" or \"ffill\"\n",
    "    '''Fills the missing values based on selected method (mode/median/ffill) according to two-stage grouping'''\n",
    "    if method == \"mode\":\n",
    "        for group1 in list(df[group_col1].unique()):\n",
    "            for group2 in list(df[group_col2].unique()):\n",
    "                cond1 = df[group_col1]==group1\n",
    "                cond2 = (df[group_col1]==group1) & (df[group_col2]==group2)\n",
    "                grp_inx = list(df[cond2][col_name].index)\n",
    "                mode1 = list(df[cond1][col_name].mode())\n",
    "                mode2 = list(df[cond2][col_name].mode())\n",
    "                if (mode1 != []) and (mode2 != []):\n",
    "                    df[col_name].iloc[grp_inx] = df[col_name].iloc[grp_inx].fillna(df[cond2][col_name].mode()[0]).fillna(df[cond1][col_name].mode()[0])\n",
    "                elif mode1 != []:\n",
    "                    df[col_name].iloc[grp_inx] = df[col_name].iloc[grp_inx].fillna(df[cond1][col_name].mode()[0])\n",
    "                else:\n",
    "                    df[col_name].iloc[grp_inx] = df[col_name].iloc[grp_inx].fillna(df[col_name].mode()[0])\n",
    "                \n",
    "    elif method == \"median\":\n",
    "        for group1 in list(df[group_col1].unique()):\n",
    "            for group2 in list(df[group_col2].unique()):\n",
    "                cond1 = df[group_col1]==group1\n",
    "                cond2 = (df[group_col1]==group1) & (df[group_col2]==group2)\n",
    "                grp_inx = list(df[cond2][col_name].index)\n",
    "                df[col_name].iloc[grp_inx] = df[col_name].iloc[grp_inx].fillna(df[cond2][col_name].median()).fillna(df[cond1][col_name].median()).fillna(df[col_name].median())\n",
    "                \n",
    "    elif method == \"ffill\":           \n",
    "        for group1 in list(df[group_col1].unique()):\n",
    "            for group2 in list(df[group_col2].unique()):\n",
    "                cond1 = df[group_col1]==group1\n",
    "                cond2 = (df[group_col1]==group1) & (df[group_col2]==group2)\n",
    "                grp_inx = list(df[cond2][col_name].index)\n",
    "                df.loc[cond2, col_name] = df.loc[cond2, col_name].fillna(method=\"ffill\").fillna(method=\"bfill\")\n",
    "                \n",
    "        for group1 in list(df[group_col1].unique()):\n",
    "            cond1 = df[group_col1]==group1\n",
    "            df.loc[cond1, col_name] = df.loc[cond1, col_name].fillna(method=\"ffill\").fillna(method=\"bfill\")            \n",
    "           \n",
    "        df[col_name] = df[col_name].fillna(method=\"ffill\").fillna(method=\"bfill\")\n",
    "    \n",
    "    print(\"Number of NaN : \",df[col_name].isnull().sum())\n",
    "    print(\"------------------\")\n",
    "    print(df[col_name].value_counts(dropna=False))"
   ]
  },
  {
   "cell_type": "code",
   "execution_count": 11,
   "id": "5c7c9837",
   "metadata": {},
   "outputs": [
    {
     "data": {
      "text/html": [
       "<div>\n",
       "<style scoped>\n",
       "    .dataframe tbody tr th:only-of-type {\n",
       "        vertical-align: middle;\n",
       "    }\n",
       "\n",
       "    .dataframe tbody tr th {\n",
       "        vertical-align: top;\n",
       "    }\n",
       "\n",
       "    .dataframe thead th {\n",
       "        text-align: right;\n",
       "    }\n",
       "</style>\n",
       "<table border=\"1\" class=\"dataframe\">\n",
       "  <thead>\n",
       "    <tr style=\"text-align: right;\">\n",
       "      <th></th>\n",
       "      <th>0</th>\n",
       "      <th>1</th>\n",
       "      <th>2</th>\n",
       "      <th>3</th>\n",
       "      <th>4</th>\n",
       "    </tr>\n",
       "  </thead>\n",
       "  <tbody>\n",
       "    <tr>\n",
       "      <th>Price</th>\n",
       "      <td>15770</td>\n",
       "      <td>14500</td>\n",
       "      <td>14640</td>\n",
       "      <td>14500</td>\n",
       "      <td>16790</td>\n",
       "    </tr>\n",
       "    <tr>\n",
       "      <th>hp</th>\n",
       "      <td>66</td>\n",
       "      <td>141</td>\n",
       "      <td>85</td>\n",
       "      <td>66</td>\n",
       "      <td>66</td>\n",
       "    </tr>\n",
       "    <tr>\n",
       "      <th>Type</th>\n",
       "      <td>Used</td>\n",
       "      <td>Used</td>\n",
       "      <td>Used</td>\n",
       "      <td>Used</td>\n",
       "      <td>Used</td>\n",
       "    </tr>\n",
       "    <tr>\n",
       "      <th>Warranty</th>\n",
       "      <td>12.0</td>\n",
       "      <td>12.0</td>\n",
       "      <td>12.0</td>\n",
       "      <td>12.0</td>\n",
       "      <td>12.0</td>\n",
       "    </tr>\n",
       "    <tr>\n",
       "      <th>Brand</th>\n",
       "      <td>Audi</td>\n",
       "      <td>Audi</td>\n",
       "      <td>Audi</td>\n",
       "      <td>Audi</td>\n",
       "      <td>Audi</td>\n",
       "    </tr>\n",
       "    <tr>\n",
       "      <th>Model</th>\n",
       "      <td>A1</td>\n",
       "      <td>A1</td>\n",
       "      <td>A1</td>\n",
       "      <td>A1</td>\n",
       "      <td>A1</td>\n",
       "    </tr>\n",
       "    <tr>\n",
       "      <th>Age</th>\n",
       "      <td>3.0</td>\n",
       "      <td>2.0</td>\n",
       "      <td>3.0</td>\n",
       "      <td>3.0</td>\n",
       "      <td>3.0</td>\n",
       "    </tr>\n",
       "    <tr>\n",
       "      <th>Nr_of_Doors</th>\n",
       "      <td>5.0</td>\n",
       "      <td>3.0</td>\n",
       "      <td>4.0</td>\n",
       "      <td>3.0</td>\n",
       "      <td>5.0</td>\n",
       "    </tr>\n",
       "    <tr>\n",
       "      <th>Number_of_Seats</th>\n",
       "      <td>5.0</td>\n",
       "      <td>4.0</td>\n",
       "      <td>4.0</td>\n",
       "      <td>4.0</td>\n",
       "      <td>5.0</td>\n",
       "    </tr>\n",
       "    <tr>\n",
       "      <th>Gearing_Type</th>\n",
       "      <td>Automatic</td>\n",
       "      <td>Automatic</td>\n",
       "      <td>Automatic</td>\n",
       "      <td>Automatic</td>\n",
       "      <td>Automatic</td>\n",
       "    </tr>\n",
       "    <tr>\n",
       "      <th>Engine_Disp_cc</th>\n",
       "      <td>1422.0</td>\n",
       "      <td>1798.0</td>\n",
       "      <td>1598.0</td>\n",
       "      <td>1422.0</td>\n",
       "      <td>1422.0</td>\n",
       "    </tr>\n",
       "    <tr>\n",
       "      <th>Cylinders</th>\n",
       "      <td>3.0</td>\n",
       "      <td>4.0</td>\n",
       "      <td>3.0</td>\n",
       "      <td>3.0</td>\n",
       "      <td>3.0</td>\n",
       "    </tr>\n",
       "    <tr>\n",
       "      <th>Drive_chain</th>\n",
       "      <td>front</td>\n",
       "      <td>front</td>\n",
       "      <td>front</td>\n",
       "      <td>front</td>\n",
       "      <td>front</td>\n",
       "    </tr>\n",
       "    <tr>\n",
       "      <th>Fuel</th>\n",
       "      <td>Diesel</td>\n",
       "      <td>Benzine</td>\n",
       "      <td>Diesel</td>\n",
       "      <td>Diesel</td>\n",
       "      <td>Diesel</td>\n",
       "    </tr>\n",
       "    <tr>\n",
       "      <th>CO2_Emission</th>\n",
       "      <td>99.0</td>\n",
       "      <td>129.0</td>\n",
       "      <td>99.0</td>\n",
       "      <td>99.0</td>\n",
       "      <td>109.0</td>\n",
       "    </tr>\n",
       "    <tr>\n",
       "      <th>Emission_Class</th>\n",
       "      <td>Euro 6</td>\n",
       "      <td>Euro 6</td>\n",
       "      <td>Euro 6</td>\n",
       "      <td>Euro 6</td>\n",
       "      <td>Euro 6</td>\n",
       "    </tr>\n",
       "    <tr>\n",
       "      <th>Comfort_Convenience</th>\n",
       "      <td>Air conditioning,Armrest,Automatic climate con...</td>\n",
       "      <td>Air conditioning,Automatic climate control,Hil...</td>\n",
       "      <td>Air conditioning,Cruise control,Electrical sid...</td>\n",
       "      <td>Air suspension,Armrest,Auxiliary heating,Elect...</td>\n",
       "      <td>Air conditioning,Armrest,Automatic climate con...</td>\n",
       "    </tr>\n",
       "    <tr>\n",
       "      <th>Entertainment_Media</th>\n",
       "      <td>['Bluetooth', 'Hands-free equipment', 'On-boar...</td>\n",
       "      <td>['Bluetooth', 'Hands-free equipment', 'On-boar...</td>\n",
       "      <td>['MP3', 'On-board computer']</td>\n",
       "      <td>['Bluetooth', 'CD player', 'Hands-free equipme...</td>\n",
       "      <td>['Bluetooth', 'CD player', 'Hands-free equipme...</td>\n",
       "    </tr>\n",
       "    <tr>\n",
       "      <th>Extras</th>\n",
       "      <td>Alloy wheels,Catalytic Converter,Voice Control</td>\n",
       "      <td>Alloy wheels,Sport seats,Sport suspension,Voic...</td>\n",
       "      <td>Alloy wheels,Voice Control</td>\n",
       "      <td>Alloy wheels,Sport seats,Voice Control</td>\n",
       "      <td>Alloy wheels,Sport package,Sport suspension,Vo...</td>\n",
       "    </tr>\n",
       "    <tr>\n",
       "      <th>Safety_Security</th>\n",
       "      <td>ABS,Central door lock,Daytime running lights,D...</td>\n",
       "      <td>ABS,Central door lock,Central door lock with r...</td>\n",
       "      <td>ABS,Central door lock,Daytime running lights,D...</td>\n",
       "      <td>ABS,Alarm system,Central door lock with remote...</td>\n",
       "      <td>ABS,Central door lock,Driver-side airbag,Elect...</td>\n",
       "    </tr>\n",
       "    <tr>\n",
       "      <th>Gears</th>\n",
       "      <td>5.0</td>\n",
       "      <td>7.0</td>\n",
       "      <td>5.0</td>\n",
       "      <td>6.0</td>\n",
       "      <td>5.0</td>\n",
       "    </tr>\n",
       "    <tr>\n",
       "      <th>Body_Type</th>\n",
       "      <td>Sedan</td>\n",
       "      <td>Sedan</td>\n",
       "      <td>Sedan</td>\n",
       "      <td>Sedan</td>\n",
       "      <td>Sedan</td>\n",
       "    </tr>\n",
       "    <tr>\n",
       "      <th>VAT_Deductable</th>\n",
       "      <td>True</td>\n",
       "      <td>False</td>\n",
       "      <td>True</td>\n",
       "      <td>False</td>\n",
       "      <td>False</td>\n",
       "    </tr>\n",
       "    <tr>\n",
       "      <th>Price_Negotiable</th>\n",
       "      <td>False</td>\n",
       "      <td>True</td>\n",
       "      <td>False</td>\n",
       "      <td>False</td>\n",
       "      <td>False</td>\n",
       "    </tr>\n",
       "    <tr>\n",
       "      <th>Prev_Owner</th>\n",
       "      <td>2.0</td>\n",
       "      <td>1.0</td>\n",
       "      <td>1.0</td>\n",
       "      <td>1.0</td>\n",
       "      <td>1.0</td>\n",
       "    </tr>\n",
       "    <tr>\n",
       "      <th>Inspection_New</th>\n",
       "      <td>Yes</td>\n",
       "      <td>No</td>\n",
       "      <td>No</td>\n",
       "      <td>No</td>\n",
       "      <td>Yes</td>\n",
       "    </tr>\n",
       "    <tr>\n",
       "      <th>Body_Color</th>\n",
       "      <td>Black</td>\n",
       "      <td>Red</td>\n",
       "      <td>Black</td>\n",
       "      <td>Brown</td>\n",
       "      <td>Black</td>\n",
       "    </tr>\n",
       "    <tr>\n",
       "      <th>Paint_Type</th>\n",
       "      <td>Metallic</td>\n",
       "      <td>Metallic</td>\n",
       "      <td>Metallic</td>\n",
       "      <td>Metallic</td>\n",
       "      <td>Metallic</td>\n",
       "    </tr>\n",
       "    <tr>\n",
       "      <th>Uphol_Material</th>\n",
       "      <td>Cloth</td>\n",
       "      <td>Cloth</td>\n",
       "      <td>Cloth</td>\n",
       "      <td>Cloth</td>\n",
       "      <td>Cloth</td>\n",
       "    </tr>\n",
       "    <tr>\n",
       "      <th>Uphol_Colors</th>\n",
       "      <td>Black</td>\n",
       "      <td>Grey</td>\n",
       "      <td>Black</td>\n",
       "      <td>Grey</td>\n",
       "      <td>Black</td>\n",
       "    </tr>\n",
       "    <tr>\n",
       "      <th>Country_Cons</th>\n",
       "      <td>4.3</td>\n",
       "      <td>7.1</td>\n",
       "      <td>4.4</td>\n",
       "      <td>4.3</td>\n",
       "      <td>4.6</td>\n",
       "    </tr>\n",
       "    <tr>\n",
       "      <th>City_Cons</th>\n",
       "      <td>3.5</td>\n",
       "      <td>4.7</td>\n",
       "      <td>3.4</td>\n",
       "      <td>3.5</td>\n",
       "      <td>3.8</td>\n",
       "    </tr>\n",
       "    <tr>\n",
       "      <th>Comb_Cons</th>\n",
       "      <td>3.8</td>\n",
       "      <td>5.6</td>\n",
       "      <td>3.8</td>\n",
       "      <td>3.8</td>\n",
       "      <td>4.1</td>\n",
       "    </tr>\n",
       "    <tr>\n",
       "      <th>New_KM</th>\n",
       "      <td>56013.0</td>\n",
       "      <td>80000.0</td>\n",
       "      <td>83450.0</td>\n",
       "      <td>73000.0</td>\n",
       "      <td>16200.0</td>\n",
       "    </tr>\n",
       "  </tbody>\n",
       "</table>\n",
       "</div>"
      ],
      "text/plain": [
       "                                                                     0  \\\n",
       "Price                                                            15770   \n",
       "hp                                                                  66   \n",
       "Type                                                              Used   \n",
       "Warranty                                                          12.0   \n",
       "Brand                                                             Audi   \n",
       "Model                                                               A1   \n",
       "Age                                                                3.0   \n",
       "Nr_of_Doors                                                        5.0   \n",
       "Number_of_Seats                                                    5.0   \n",
       "Gearing_Type                                                 Automatic   \n",
       "Engine_Disp_cc                                                  1422.0   \n",
       "Cylinders                                                          3.0   \n",
       "Drive_chain                                                      front   \n",
       "Fuel                                                            Diesel   \n",
       "CO2_Emission                                                      99.0   \n",
       "Emission_Class                                                  Euro 6   \n",
       "Comfort_Convenience  Air conditioning,Armrest,Automatic climate con...   \n",
       "Entertainment_Media  ['Bluetooth', 'Hands-free equipment', 'On-boar...   \n",
       "Extras                  Alloy wheels,Catalytic Converter,Voice Control   \n",
       "Safety_Security      ABS,Central door lock,Daytime running lights,D...   \n",
       "Gears                                                              5.0   \n",
       "Body_Type                                                        Sedan   \n",
       "VAT_Deductable                                                    True   \n",
       "Price_Negotiable                                                 False   \n",
       "Prev_Owner                                                         2.0   \n",
       "Inspection_New                                                     Yes   \n",
       "Body_Color                                                       Black   \n",
       "Paint_Type                                                    Metallic   \n",
       "Uphol_Material                                                   Cloth   \n",
       "Uphol_Colors                                                     Black   \n",
       "Country_Cons                                                       4.3   \n",
       "City_Cons                                                          3.5   \n",
       "Comb_Cons                                                          3.8   \n",
       "New_KM                                                         56013.0   \n",
       "\n",
       "                                                                     1  \\\n",
       "Price                                                            14500   \n",
       "hp                                                                 141   \n",
       "Type                                                              Used   \n",
       "Warranty                                                          12.0   \n",
       "Brand                                                             Audi   \n",
       "Model                                                               A1   \n",
       "Age                                                                2.0   \n",
       "Nr_of_Doors                                                        3.0   \n",
       "Number_of_Seats                                                    4.0   \n",
       "Gearing_Type                                                 Automatic   \n",
       "Engine_Disp_cc                                                  1798.0   \n",
       "Cylinders                                                          4.0   \n",
       "Drive_chain                                                      front   \n",
       "Fuel                                                           Benzine   \n",
       "CO2_Emission                                                     129.0   \n",
       "Emission_Class                                                  Euro 6   \n",
       "Comfort_Convenience  Air conditioning,Automatic climate control,Hil...   \n",
       "Entertainment_Media  ['Bluetooth', 'Hands-free equipment', 'On-boar...   \n",
       "Extras               Alloy wheels,Sport seats,Sport suspension,Voic...   \n",
       "Safety_Security      ABS,Central door lock,Central door lock with r...   \n",
       "Gears                                                              7.0   \n",
       "Body_Type                                                        Sedan   \n",
       "VAT_Deductable                                                   False   \n",
       "Price_Negotiable                                                  True   \n",
       "Prev_Owner                                                         1.0   \n",
       "Inspection_New                                                      No   \n",
       "Body_Color                                                         Red   \n",
       "Paint_Type                                                    Metallic   \n",
       "Uphol_Material                                                   Cloth   \n",
       "Uphol_Colors                                                      Grey   \n",
       "Country_Cons                                                       7.1   \n",
       "City_Cons                                                          4.7   \n",
       "Comb_Cons                                                          5.6   \n",
       "New_KM                                                         80000.0   \n",
       "\n",
       "                                                                     2  \\\n",
       "Price                                                            14640   \n",
       "hp                                                                  85   \n",
       "Type                                                              Used   \n",
       "Warranty                                                          12.0   \n",
       "Brand                                                             Audi   \n",
       "Model                                                               A1   \n",
       "Age                                                                3.0   \n",
       "Nr_of_Doors                                                        4.0   \n",
       "Number_of_Seats                                                    4.0   \n",
       "Gearing_Type                                                 Automatic   \n",
       "Engine_Disp_cc                                                  1598.0   \n",
       "Cylinders                                                          3.0   \n",
       "Drive_chain                                                      front   \n",
       "Fuel                                                            Diesel   \n",
       "CO2_Emission                                                      99.0   \n",
       "Emission_Class                                                  Euro 6   \n",
       "Comfort_Convenience  Air conditioning,Cruise control,Electrical sid...   \n",
       "Entertainment_Media                       ['MP3', 'On-board computer']   \n",
       "Extras                                      Alloy wheels,Voice Control   \n",
       "Safety_Security      ABS,Central door lock,Daytime running lights,D...   \n",
       "Gears                                                              5.0   \n",
       "Body_Type                                                        Sedan   \n",
       "VAT_Deductable                                                    True   \n",
       "Price_Negotiable                                                 False   \n",
       "Prev_Owner                                                         1.0   \n",
       "Inspection_New                                                      No   \n",
       "Body_Color                                                       Black   \n",
       "Paint_Type                                                    Metallic   \n",
       "Uphol_Material                                                   Cloth   \n",
       "Uphol_Colors                                                     Black   \n",
       "Country_Cons                                                       4.4   \n",
       "City_Cons                                                          3.4   \n",
       "Comb_Cons                                                          3.8   \n",
       "New_KM                                                         83450.0   \n",
       "\n",
       "                                                                     3  \\\n",
       "Price                                                            14500   \n",
       "hp                                                                  66   \n",
       "Type                                                              Used   \n",
       "Warranty                                                          12.0   \n",
       "Brand                                                             Audi   \n",
       "Model                                                               A1   \n",
       "Age                                                                3.0   \n",
       "Nr_of_Doors                                                        3.0   \n",
       "Number_of_Seats                                                    4.0   \n",
       "Gearing_Type                                                 Automatic   \n",
       "Engine_Disp_cc                                                  1422.0   \n",
       "Cylinders                                                          3.0   \n",
       "Drive_chain                                                      front   \n",
       "Fuel                                                            Diesel   \n",
       "CO2_Emission                                                      99.0   \n",
       "Emission_Class                                                  Euro 6   \n",
       "Comfort_Convenience  Air suspension,Armrest,Auxiliary heating,Elect...   \n",
       "Entertainment_Media  ['Bluetooth', 'CD player', 'Hands-free equipme...   \n",
       "Extras                          Alloy wheels,Sport seats,Voice Control   \n",
       "Safety_Security      ABS,Alarm system,Central door lock with remote...   \n",
       "Gears                                                              6.0   \n",
       "Body_Type                                                        Sedan   \n",
       "VAT_Deductable                                                   False   \n",
       "Price_Negotiable                                                 False   \n",
       "Prev_Owner                                                         1.0   \n",
       "Inspection_New                                                      No   \n",
       "Body_Color                                                       Brown   \n",
       "Paint_Type                                                    Metallic   \n",
       "Uphol_Material                                                   Cloth   \n",
       "Uphol_Colors                                                      Grey   \n",
       "Country_Cons                                                       4.3   \n",
       "City_Cons                                                          3.5   \n",
       "Comb_Cons                                                          3.8   \n",
       "New_KM                                                         73000.0   \n",
       "\n",
       "                                                                     4  \n",
       "Price                                                            16790  \n",
       "hp                                                                  66  \n",
       "Type                                                              Used  \n",
       "Warranty                                                          12.0  \n",
       "Brand                                                             Audi  \n",
       "Model                                                               A1  \n",
       "Age                                                                3.0  \n",
       "Nr_of_Doors                                                        5.0  \n",
       "Number_of_Seats                                                    5.0  \n",
       "Gearing_Type                                                 Automatic  \n",
       "Engine_Disp_cc                                                  1422.0  \n",
       "Cylinders                                                          3.0  \n",
       "Drive_chain                                                      front  \n",
       "Fuel                                                            Diesel  \n",
       "CO2_Emission                                                     109.0  \n",
       "Emission_Class                                                  Euro 6  \n",
       "Comfort_Convenience  Air conditioning,Armrest,Automatic climate con...  \n",
       "Entertainment_Media  ['Bluetooth', 'CD player', 'Hands-free equipme...  \n",
       "Extras               Alloy wheels,Sport package,Sport suspension,Vo...  \n",
       "Safety_Security      ABS,Central door lock,Driver-side airbag,Elect...  \n",
       "Gears                                                              5.0  \n",
       "Body_Type                                                        Sedan  \n",
       "VAT_Deductable                                                   False  \n",
       "Price_Negotiable                                                 False  \n",
       "Prev_Owner                                                         1.0  \n",
       "Inspection_New                                                     Yes  \n",
       "Body_Color                                                       Black  \n",
       "Paint_Type                                                    Metallic  \n",
       "Uphol_Material                                                   Cloth  \n",
       "Uphol_Colors                                                     Black  \n",
       "Country_Cons                                                       4.6  \n",
       "City_Cons                                                          3.8  \n",
       "Comb_Cons                                                          4.1  \n",
       "New_KM                                                         16200.0  "
      ]
     },
     "execution_count": 11,
     "metadata": {},
     "output_type": "execute_result"
    }
   ],
   "source": [
    "df.head(5).T"
   ]
  },
  {
   "cell_type": "code",
   "execution_count": 12,
   "id": "39a892fc",
   "metadata": {},
   "outputs": [
    {
     "data": {
      "text/plain": [
       "(15919, 34)"
      ]
     },
     "execution_count": 12,
     "metadata": {},
     "output_type": "execute_result"
    }
   ],
   "source": [
    "df.shape"
   ]
  },
  {
   "cell_type": "code",
   "execution_count": 13,
   "id": "d109e499",
   "metadata": {
    "scrolled": false
   },
   "outputs": [
    {
     "data": {
      "text/plain": [
       "['Price',\n",
       " 'hp',\n",
       " 'Type',\n",
       " 'Warranty',\n",
       " 'Brand',\n",
       " 'Model',\n",
       " 'Age',\n",
       " 'Nr_of_Doors',\n",
       " 'Number_of_Seats',\n",
       " 'Gearing_Type',\n",
       " 'Engine_Disp_cc',\n",
       " 'Cylinders',\n",
       " 'Drive_chain',\n",
       " 'Fuel',\n",
       " 'CO2_Emission',\n",
       " 'Emission_Class',\n",
       " 'Comfort_Convenience',\n",
       " 'Entertainment_Media',\n",
       " 'Extras',\n",
       " 'Safety_Security',\n",
       " 'Gears',\n",
       " 'Body_Type',\n",
       " 'VAT_Deductable',\n",
       " 'Price_Negotiable',\n",
       " 'Prev_Owner',\n",
       " 'Inspection_New',\n",
       " 'Body_Color',\n",
       " 'Paint_Type',\n",
       " 'Uphol_Material',\n",
       " 'Uphol_Colors',\n",
       " 'Country_Cons',\n",
       " 'City_Cons',\n",
       " 'Comb_Cons',\n",
       " 'New_KM']"
      ]
     },
     "execution_count": 13,
     "metadata": {},
     "output_type": "execute_result"
    }
   ],
   "source": [
    "list(df.columns)"
   ]
  },
  {
   "cell_type": "code",
   "execution_count": 14,
   "id": "797b3c12",
   "metadata": {},
   "outputs": [
    {
     "data": {
      "text/html": [
       "<div>\n",
       "<style scoped>\n",
       "    .dataframe tbody tr th:only-of-type {\n",
       "        vertical-align: middle;\n",
       "    }\n",
       "\n",
       "    .dataframe tbody tr th {\n",
       "        vertical-align: top;\n",
       "    }\n",
       "\n",
       "    .dataframe thead th {\n",
       "        text-align: right;\n",
       "    }\n",
       "</style>\n",
       "<table border=\"1\" class=\"dataframe\">\n",
       "  <thead>\n",
       "    <tr style=\"text-align: right;\">\n",
       "      <th></th>\n",
       "      <th>count</th>\n",
       "      <th>mean</th>\n",
       "      <th>std</th>\n",
       "      <th>min</th>\n",
       "      <th>25%</th>\n",
       "      <th>50%</th>\n",
       "      <th>75%</th>\n",
       "      <th>max</th>\n",
       "    </tr>\n",
       "  </thead>\n",
       "  <tbody>\n",
       "    <tr>\n",
       "      <th>Price</th>\n",
       "      <td>15919.0</td>\n",
       "      <td>18019.896727</td>\n",
       "      <td>7386.169409</td>\n",
       "      <td>13.0</td>\n",
       "      <td>12850.0</td>\n",
       "      <td>16900.0</td>\n",
       "      <td>21900.0</td>\n",
       "      <td>74600.0</td>\n",
       "    </tr>\n",
       "    <tr>\n",
       "      <th>hp</th>\n",
       "      <td>15919.0</td>\n",
       "      <td>88.416107</td>\n",
       "      <td>26.877475</td>\n",
       "      <td>1.0</td>\n",
       "      <td>66.0</td>\n",
       "      <td>85.0</td>\n",
       "      <td>101.0</td>\n",
       "      <td>294.0</td>\n",
       "    </tr>\n",
       "    <tr>\n",
       "      <th>Warranty</th>\n",
       "      <td>15919.0</td>\n",
       "      <td>15.050757</td>\n",
       "      <td>9.855008</td>\n",
       "      <td>1.0</td>\n",
       "      <td>12.0</td>\n",
       "      <td>12.0</td>\n",
       "      <td>12.0</td>\n",
       "      <td>72.0</td>\n",
       "    </tr>\n",
       "    <tr>\n",
       "      <th>Age</th>\n",
       "      <td>15919.0</td>\n",
       "      <td>1.417614</td>\n",
       "      <td>1.104472</td>\n",
       "      <td>0.0</td>\n",
       "      <td>0.0</td>\n",
       "      <td>1.0</td>\n",
       "      <td>2.0</td>\n",
       "      <td>3.0</td>\n",
       "    </tr>\n",
       "    <tr>\n",
       "      <th>Nr_of_Doors</th>\n",
       "      <td>15919.0</td>\n",
       "      <td>4.660783</td>\n",
       "      <td>0.641285</td>\n",
       "      <td>2.0</td>\n",
       "      <td>4.0</td>\n",
       "      <td>5.0</td>\n",
       "      <td>5.0</td>\n",
       "      <td>5.0</td>\n",
       "    </tr>\n",
       "    <tr>\n",
       "      <th>Number_of_Seats</th>\n",
       "      <td>15919.0</td>\n",
       "      <td>4.951379</td>\n",
       "      <td>0.500557</td>\n",
       "      <td>2.0</td>\n",
       "      <td>5.0</td>\n",
       "      <td>5.0</td>\n",
       "      <td>5.0</td>\n",
       "      <td>7.0</td>\n",
       "    </tr>\n",
       "    <tr>\n",
       "      <th>Engine_Disp_cc</th>\n",
       "      <td>15919.0</td>\n",
       "      <td>1426.172561</td>\n",
       "      <td>329.676109</td>\n",
       "      <td>1.0</td>\n",
       "      <td>1229.0</td>\n",
       "      <td>1461.0</td>\n",
       "      <td>1598.0</td>\n",
       "      <td>16000.0</td>\n",
       "    </tr>\n",
       "    <tr>\n",
       "      <th>Cylinders</th>\n",
       "      <td>15919.0</td>\n",
       "      <td>3.792701</td>\n",
       "      <td>0.418800</td>\n",
       "      <td>1.0</td>\n",
       "      <td>4.0</td>\n",
       "      <td>4.0</td>\n",
       "      <td>4.0</td>\n",
       "      <td>8.0</td>\n",
       "    </tr>\n",
       "    <tr>\n",
       "      <th>CO2_Emission</th>\n",
       "      <td>15919.0</td>\n",
       "      <td>109.659724</td>\n",
       "      <td>35.742491</td>\n",
       "      <td>0.0</td>\n",
       "      <td>103.0</td>\n",
       "      <td>115.0</td>\n",
       "      <td>128.0</td>\n",
       "      <td>990.0</td>\n",
       "    </tr>\n",
       "    <tr>\n",
       "      <th>Gears</th>\n",
       "      <td>15919.0</td>\n",
       "      <td>5.813493</td>\n",
       "      <td>0.780433</td>\n",
       "      <td>1.0</td>\n",
       "      <td>5.0</td>\n",
       "      <td>6.0</td>\n",
       "      <td>6.0</td>\n",
       "      <td>50.0</td>\n",
       "    </tr>\n",
       "    <tr>\n",
       "      <th>Prev_Owner</th>\n",
       "      <td>15919.0</td>\n",
       "      <td>1.055594</td>\n",
       "      <td>0.235364</td>\n",
       "      <td>1.0</td>\n",
       "      <td>1.0</td>\n",
       "      <td>1.0</td>\n",
       "      <td>1.0</td>\n",
       "      <td>4.0</td>\n",
       "    </tr>\n",
       "    <tr>\n",
       "      <th>Country_Cons</th>\n",
       "      <td>15919.0</td>\n",
       "      <td>5.679710</td>\n",
       "      <td>1.407674</td>\n",
       "      <td>0.0</td>\n",
       "      <td>4.5</td>\n",
       "      <td>5.6</td>\n",
       "      <td>6.8</td>\n",
       "      <td>9.9</td>\n",
       "    </tr>\n",
       "    <tr>\n",
       "      <th>City_Cons</th>\n",
       "      <td>15919.0</td>\n",
       "      <td>4.181444</td>\n",
       "      <td>0.694567</td>\n",
       "      <td>0.0</td>\n",
       "      <td>3.7</td>\n",
       "      <td>4.2</td>\n",
       "      <td>4.5</td>\n",
       "      <td>8.6</td>\n",
       "    </tr>\n",
       "    <tr>\n",
       "      <th>Comb_Cons</th>\n",
       "      <td>15919.0</td>\n",
       "      <td>4.810032</td>\n",
       "      <td>0.914701</td>\n",
       "      <td>0.0</td>\n",
       "      <td>4.0</td>\n",
       "      <td>4.8</td>\n",
       "      <td>5.4</td>\n",
       "      <td>9.1</td>\n",
       "    </tr>\n",
       "    <tr>\n",
       "      <th>New_KM</th>\n",
       "      <td>15919.0</td>\n",
       "      <td>32329.414691</td>\n",
       "      <td>36881.261861</td>\n",
       "      <td>0.0</td>\n",
       "      <td>3000.0</td>\n",
       "      <td>20550.0</td>\n",
       "      <td>47000.0</td>\n",
       "      <td>317000.0</td>\n",
       "    </tr>\n",
       "  </tbody>\n",
       "</table>\n",
       "</div>"
      ],
      "text/plain": [
       "                   count          mean           std   min      25%      50%  \\\n",
       "Price            15919.0  18019.896727   7386.169409  13.0  12850.0  16900.0   \n",
       "hp               15919.0     88.416107     26.877475   1.0     66.0     85.0   \n",
       "Warranty         15919.0     15.050757      9.855008   1.0     12.0     12.0   \n",
       "Age              15919.0      1.417614      1.104472   0.0      0.0      1.0   \n",
       "Nr_of_Doors      15919.0      4.660783      0.641285   2.0      4.0      5.0   \n",
       "Number_of_Seats  15919.0      4.951379      0.500557   2.0      5.0      5.0   \n",
       "Engine_Disp_cc   15919.0   1426.172561    329.676109   1.0   1229.0   1461.0   \n",
       "Cylinders        15919.0      3.792701      0.418800   1.0      4.0      4.0   \n",
       "CO2_Emission     15919.0    109.659724     35.742491   0.0    103.0    115.0   \n",
       "Gears            15919.0      5.813493      0.780433   1.0      5.0      6.0   \n",
       "Prev_Owner       15919.0      1.055594      0.235364   1.0      1.0      1.0   \n",
       "Country_Cons     15919.0      5.679710      1.407674   0.0      4.5      5.6   \n",
       "City_Cons        15919.0      4.181444      0.694567   0.0      3.7      4.2   \n",
       "Comb_Cons        15919.0      4.810032      0.914701   0.0      4.0      4.8   \n",
       "New_KM           15919.0  32329.414691  36881.261861   0.0   3000.0  20550.0   \n",
       "\n",
       "                     75%       max  \n",
       "Price            21900.0   74600.0  \n",
       "hp                 101.0     294.0  \n",
       "Warranty            12.0      72.0  \n",
       "Age                  2.0       3.0  \n",
       "Nr_of_Doors          5.0       5.0  \n",
       "Number_of_Seats      5.0       7.0  \n",
       "Engine_Disp_cc    1598.0   16000.0  \n",
       "Cylinders            4.0       8.0  \n",
       "CO2_Emission       128.0     990.0  \n",
       "Gears                6.0      50.0  \n",
       "Prev_Owner           1.0       4.0  \n",
       "Country_Cons         6.8       9.9  \n",
       "City_Cons            4.5       8.6  \n",
       "Comb_Cons            5.4       9.1  \n",
       "New_KM           47000.0  317000.0  "
      ]
     },
     "execution_count": 14,
     "metadata": {},
     "output_type": "execute_result"
    }
   ],
   "source": [
    "df.describe().T"
   ]
  },
  {
   "cell_type": "code",
   "execution_count": 15,
   "id": "70361448",
   "metadata": {},
   "outputs": [],
   "source": [
    "#category=['Type','Brand','Model','Gearing_Type','Drive_chain','Fuel','Emission_Class','Comfort_Convenience','Entertainment_Media','Extras',\n",
    "         #'Safety_Security','Body_Type','Inspection_New','Body_Color','Paint_Type','Uphol_Material','Uphol_Colors']"
   ]
  },
  {
   "cell_type": "markdown",
   "id": "9aad6c01",
   "metadata": {},
   "source": [
    "## 📌Price"
   ]
  },
  {
   "cell_type": "code",
   "execution_count": 16,
   "id": "bfaf7802",
   "metadata": {},
   "outputs": [
    {
     "data": {
      "text/plain": [
       "14990    154\n",
       "15990    151\n",
       "10990    139\n",
       "15900    106\n",
       "17990    102\n",
       "        ... \n",
       "31940      1\n",
       "15540      1\n",
       "21649      1\n",
       "27790      1\n",
       "34815      1\n",
       "Name: Price, Length: 2956, dtype: int64"
      ]
     },
     "execution_count": 16,
     "metadata": {},
     "output_type": "execute_result"
    }
   ],
   "source": [
    "df.Price.value_counts()"
   ]
  },
  {
   "cell_type": "code",
   "execution_count": 17,
   "id": "45d72c5b",
   "metadata": {},
   "outputs": [
    {
     "data": {
      "text/plain": [
       "count    15919.000000\n",
       "mean     18019.896727\n",
       "std       7386.169409\n",
       "min         13.000000\n",
       "25%      12850.000000\n",
       "50%      16900.000000\n",
       "75%      21900.000000\n",
       "max      74600.000000\n",
       "Name: Price, dtype: float64"
      ]
     },
     "execution_count": 17,
     "metadata": {},
     "output_type": "execute_result"
    }
   ],
   "source": [
    "df.Price.describe().T"
   ]
  },
  {
   "cell_type": "code",
   "execution_count": 18,
   "id": "9550f46c",
   "metadata": {
    "scrolled": false
   },
   "outputs": [
    {
     "data": {
      "image/png": "[encoded data removed]",
      "text/plain": [
       "<Figure size 720x432 with 1 Axes>"
      ]
     },
     "metadata": {
      "needs_background": "light"
     },
     "output_type": "display_data"
    }
   ],
   "source": [
    "plt.figure(figsize=(10,6))\n",
    "plt.boxplot(df.Price)\n",
    "\n",
    "plt.show()"
   ]
  },
  {
   "cell_type": "code",
   "execution_count": 19,
   "id": "1a2d558e",
   "metadata": {},
   "outputs": [
    {
     "data": {
      "image/png": "[encoded data removed]",
      "text/plain": [
       "<Figure size 864x432 with 1 Axes>"
      ]
     },
     "metadata": {
      "needs_background": "light"
     },
     "output_type": "display_data"
    }
   ],
   "source": [
    "plt.figure(figsize=(12,6))\n",
    "plt.hist(df.Price, bins=40)\n",
    "\n",
    "plt.show()"
   ]
  },
  {
   "cell_type": "code",
   "execution_count": 20,
   "id": "3fb2347c",
   "metadata": {},
   "outputs": [],
   "source": [
    "price_outliers=list(df[(df.Price < 3000) | (df.Price > 35475)].index)"
   ]
  },
  {
   "cell_type": "code",
   "execution_count": 21,
   "id": "84557810",
   "metadata": {},
   "outputs": [],
   "source": [
    "df.loc[price_outliers,'Price']= np.nan"
   ]
  },
  {
   "cell_type": "code",
   "execution_count": 22,
   "id": "41a7162c",
   "metadata": {},
   "outputs": [
    {
     "data": {
      "text/plain": [
       "713     NaN\n",
       "732     NaN\n",
       "3587    NaN\n",
       "3589    NaN\n",
       "3590    NaN\n",
       "         ..\n",
       "15914   NaN\n",
       "15915   NaN\n",
       "15916   NaN\n",
       "15917   NaN\n",
       "15918   NaN\n",
       "Name: Price, Length: 483, dtype: float64"
      ]
     },
     "execution_count": 22,
     "metadata": {},
     "output_type": "execute_result"
    }
   ],
   "source": [
    "df.loc[price_outliers,'Price']"
   ]
  },
  {
   "cell_type": "code",
   "execution_count": 23,
   "id": "84d5c678",
   "metadata": {},
   "outputs": [
    {
     "name": "stdout",
     "output_type": "stream",
     "text": [
      "Number of NaN :  0\n",
      "------------------\n",
      "14990.0    154\n",
      "15990.0    151\n",
      "10990.0    139\n",
      "33975.0    125\n",
      "15900.0    106\n",
      "          ... \n",
      "8440.0       1\n",
      "13895.0      1\n",
      "9965.0       1\n",
      "13660.0      1\n",
      "13860.0      1\n",
      "Name: Price, Length: 2665, dtype: int64\n"
     ]
    }
   ],
   "source": [
    "fill(df,'Model','Age','Price','ffill')"
   ]
  },
  {
   "cell_type": "code",
   "execution_count": 24,
   "id": "ce8ea2e3",
   "metadata": {},
   "outputs": [
    {
     "data": {
      "image/png": "[encoded data removed]",
      "text/plain": [
       "<Figure size 864x432 with 1 Axes>"
      ]
     },
     "metadata": {
      "needs_background": "light"
     },
     "output_type": "display_data"
    }
   ],
   "source": [
    "plt.figure(figsize=(12,6))\n",
    "plt.boxplot(df.Price)\n",
    "\n",
    "plt.show()"
   ]
  },
  {
   "cell_type": "code",
   "execution_count": 25,
   "id": "c4dfa26c",
   "metadata": {},
   "outputs": [
    {
     "data": {
      "image/png": "[encoded data removed]",
      "text/plain": [
       "<Figure size 864x432 with 1 Axes>"
      ]
     },
     "metadata": {
      "needs_background": "light"
     },
     "output_type": "display_data"
    }
   ],
   "source": [
    "plt.figure(figsize=(12,6))\n",
    "plt.hist(df.Price, bins=20)\n",
    "\n",
    "plt.show()"
   ]
  },
  {
   "cell_type": "markdown",
   "id": "30d3e671",
   "metadata": {},
   "source": [
    "## 📌HP"
   ]
  },
  {
   "cell_type": "code",
   "execution_count": 26,
   "id": "7638081d",
   "metadata": {
    "scrolled": true
   },
   "outputs": [
    {
     "name": "stdout",
     "output_type": "stream",
     "text": [
      "hp , Sumation of isnull : 0\n",
      "-----------------\n",
      "Samples for hp \n",
      " 14661     56\n",
      "2634      81\n",
      "8297      66\n",
      "3603     294\n",
      "1971      85\n",
      "5744     100\n",
      "14474     87\n",
      "6086      85\n",
      "6331     110\n",
      "15418    118\n",
      "Name: hp, dtype: int64\n",
      "-----------------\n",
      "hp Value_counts is \n",
      " 85     2544\n",
      "66     2130\n",
      "81     1402\n",
      "100    1309\n",
      "110    1114\n",
      "       ... \n",
      "4         1\n",
      "44        1\n",
      "84        1\n",
      "132       1\n",
      "239       1\n",
      "Name: hp, Length: 80, dtype: int64\n"
     ]
    }
   ],
   "source": [
    "check_col(df,'hp')"
   ]
  },
  {
   "cell_type": "code",
   "execution_count": 27,
   "id": "63167315",
   "metadata": {},
   "outputs": [
    {
     "data": {
      "text/plain": [
       "count    15919.000000\n",
       "mean        88.416107\n",
       "std         26.877475\n",
       "min          1.000000\n",
       "25%         66.000000\n",
       "50%         85.000000\n",
       "75%        101.000000\n",
       "max        294.000000\n",
       "Name: hp, dtype: float64"
      ]
     },
     "execution_count": 27,
     "metadata": {},
     "output_type": "execute_result"
    }
   ],
   "source": [
    "df.hp.describe()"
   ]
  },
  {
   "cell_type": "code",
   "execution_count": 28,
   "id": "ea05f8b3",
   "metadata": {
    "scrolled": false
   },
   "outputs": [
    {
     "data": {
      "image/png": "[encoded data removed]",
      "text/plain": [
       "<Figure size 864x432 with 1 Axes>"
      ]
     },
     "metadata": {
      "needs_background": "light"
     },
     "output_type": "display_data"
    }
   ],
   "source": [
    "plt.figure(figsize=(12,6))\n",
    "plt.boxplot(df.hp)\n",
    "\n",
    "plt.show()"
   ]
  },
  {
   "cell_type": "markdown",
   "id": "31133b4d",
   "metadata": {},
   "source": [
    "📍IQR = 2,5 olarak aldik."
   ]
  },
  {
   "cell_type": "code",
   "execution_count": 29,
   "id": "416fdd70",
   "metadata": {},
   "outputs": [],
   "source": [
    "hp_anomali=list(df[df.hp < 44].index)"
   ]
  },
  {
   "cell_type": "code",
   "execution_count": 30,
   "id": "bca4487d",
   "metadata": {},
   "outputs": [],
   "source": [
    "df.loc[hp_anomali,'hp']= np.nan"
   ]
  },
  {
   "cell_type": "code",
   "execution_count": 31,
   "id": "249f70ee",
   "metadata": {},
   "outputs": [
    {
     "data": {
      "text/plain": [
       "3913    NaN\n",
       "6005    NaN\n",
       "6034    NaN\n",
       "6946    NaN\n",
       "7014    NaN\n",
       "7016    NaN\n",
       "7018    NaN\n",
       "7019    NaN\n",
       "8857    NaN\n",
       "9285    NaN\n",
       "9287    NaN\n",
       "9288    NaN\n",
       "9289    NaN\n",
       "9290    NaN\n",
       "9292    NaN\n",
       "9299    NaN\n",
       "10468   NaN\n",
       "10579   NaN\n",
       "10580   NaN\n",
       "10610   NaN\n",
       "13759   NaN\n",
       "13885   NaN\n",
       "15155   NaN\n",
       "15156   NaN\n",
       "Name: hp, dtype: float64"
      ]
     },
     "execution_count": 31,
     "metadata": {},
     "output_type": "execute_result"
    }
   ],
   "source": [
    "df.loc[hp_anomali,'hp']"
   ]
  },
  {
   "cell_type": "code",
   "execution_count": 32,
   "id": "0c02cfa3",
   "metadata": {},
   "outputs": [
    {
     "name": "stdout",
     "output_type": "stream",
     "text": [
      "Number of NaN :  0\n",
      "------------------\n",
      "85.0     2545\n",
      "66.0     2131\n",
      "81.0     1402\n",
      "100.0    1312\n",
      "110.0    1118\n",
      "         ... \n",
      "163.0       1\n",
      "84.0        1\n",
      "137.0       1\n",
      "123.0       1\n",
      "75.0        1\n",
      "Name: hp, Length: 76, dtype: int64\n"
     ]
    }
   ],
   "source": [
    "fill(df,'Model','Body_Type','hp','mode')"
   ]
  },
  {
   "cell_type": "code",
   "execution_count": 33,
   "id": "d5b9adb7",
   "metadata": {},
   "outputs": [
    {
     "data": {
      "text/plain": [
       "0"
      ]
     },
     "execution_count": 33,
     "metadata": {},
     "output_type": "execute_result"
    }
   ],
   "source": [
    "df.hp.isnull().sum()"
   ]
  },
  {
   "cell_type": "code",
   "execution_count": 34,
   "id": "d67d9631",
   "metadata": {},
   "outputs": [
    {
     "data": {
      "image/png": "[encoded data removed]",
      "text/plain": [
       "<Figure size 864x432 with 1 Axes>"
      ]
     },
     "metadata": {
      "needs_background": "light"
     },
     "output_type": "display_data"
    }
   ],
   "source": [
    "plt.figure(figsize=(12,6))\n",
    "plt.boxplot(df.hp)\n",
    "\n",
    "plt.show()"
   ]
  },
  {
   "cell_type": "code",
   "execution_count": 35,
   "id": "0e37c505",
   "metadata": {},
   "outputs": [
    {
     "data": {
      "image/png": "[encoded data removed]",
      "text/plain": [
       "<Figure size 864x432 with 1 Axes>"
      ]
     },
     "metadata": {
      "needs_background": "light"
     },
     "output_type": "display_data"
    }
   ],
   "source": [
    "plt.figure(figsize=(12,6))\n",
    "plt.hist(df.hp, bins=20)\n",
    "\n",
    "plt.show()"
   ]
  },
  {
   "cell_type": "markdown",
   "id": "5509c1bc",
   "metadata": {},
   "source": [
    "## 📌Type"
   ]
  },
  {
   "cell_type": "code",
   "execution_count": 36,
   "id": "8871630c",
   "metadata": {
    "scrolled": true
   },
   "outputs": [
    {
     "name": "stdout",
     "output_type": "stream",
     "text": [
      "Type , Sumation of isnull : 0\n",
      "-----------------\n",
      "Samples for Type \n",
      " 11109              Used\n",
      "8550               Used\n",
      "10059    Pre-registered\n",
      "14363     Demonstration\n",
      "11528              Used\n",
      "689                Used\n",
      "3040               Used\n",
      "14002              Used\n",
      "13307              Used\n",
      "719                Used\n",
      "Name: Type, dtype: object\n",
      "-----------------\n",
      "Type Value_counts is \n",
      " Used              11098\n",
      "New                1650\n",
      "Pre-registered     1364\n",
      "Employee's car     1011\n",
      "Demonstration       796\n",
      "Name: Type, dtype: int64\n"
     ]
    }
   ],
   "source": [
    "check_col(df,'Type')"
   ]
  },
  {
   "cell_type": "markdown",
   "id": "bef65329",
   "metadata": {},
   "source": [
    "## 📌 Warranty"
   ]
  },
  {
   "cell_type": "code",
   "execution_count": 37,
   "id": "4b8eeabe",
   "metadata": {
    "scrolled": true
   },
   "outputs": [
    {
     "name": "stdout",
     "output_type": "stream",
     "text": [
      "Warranty , Sumation of isnull : 0\n",
      "-----------------\n",
      "Samples for Warranty \n",
      " 15636    12.0\n",
      "5634     12.0\n",
      "5252     48.0\n",
      "12625    72.0\n",
      "3819     24.0\n",
      "6046     12.0\n",
      "5164     12.0\n",
      "7075     12.0\n",
      "4708     24.0\n",
      "7534     12.0\n",
      "Name: Warranty, dtype: float64\n",
      "-----------------\n",
      "Warranty Value_counts is \n",
      " 12.0    13636\n",
      "24.0     1124\n",
      "60.0      402\n",
      "36.0      289\n",
      "48.0      149\n",
      "6.0       125\n",
      "72.0       59\n",
      "3.0        33\n",
      "23.0       11\n",
      "16.0       11\n",
      "18.0       10\n",
      "20.0        7\n",
      "25.0        6\n",
      "2.0         5\n",
      "50.0        4\n",
      "26.0        4\n",
      "34.0        3\n",
      "1.0         3\n",
      "13.0        3\n",
      "4.0         3\n",
      "19.0        3\n",
      "9.0         2\n",
      "17.0        2\n",
      "14.0        2\n",
      "28.0        2\n",
      "11.0        2\n",
      "21.0        2\n",
      "45.0        2\n",
      "46.0        2\n",
      "22.0        2\n",
      "15.0        1\n",
      "33.0        1\n",
      "30.0        1\n",
      "56.0        1\n",
      "7.0         1\n",
      "8.0         1\n",
      "10.0        1\n",
      "49.0        1\n",
      "47.0        1\n",
      "40.0        1\n",
      "65.0        1\n",
      "Name: Warranty, dtype: int64\n"
     ]
    }
   ],
   "source": [
    "check_col(df,'Warranty')"
   ]
  },
  {
   "cell_type": "code",
   "execution_count": 38,
   "id": "7c7d5d27",
   "metadata": {},
   "outputs": [],
   "source": [
    "df.drop('Warranty', axis=1, inplace=True)"
   ]
  },
  {
   "cell_type": "markdown",
   "id": "a80d1809",
   "metadata": {},
   "source": [
    "## 📌Brand"
   ]
  },
  {
   "cell_type": "code",
   "execution_count": 39,
   "id": "e9472552",
   "metadata": {},
   "outputs": [
    {
     "name": "stdout",
     "output_type": "stream",
     "text": [
      "Brand , Sumation of isnull : 0\n",
      "-----------------\n",
      "Samples for Brand \n",
      " 6431     Opel\n",
      "7378     Opel\n",
      "11455    Opel\n",
      "3285     Audi\n",
      "12259    Opel\n",
      "7982     Opel\n",
      "4599     Audi\n",
      "8847     Opel\n",
      "10370    Opel\n",
      "4761     Audi\n",
      "Name: Brand, dtype: object\n",
      "-----------------\n",
      "Brand Value_counts is \n",
      " Opel       7343\n",
      "Audi       5712\n",
      "Renault    2864\n",
      "Name: Brand, dtype: int64\n"
     ]
    }
   ],
   "source": [
    "check_col(df,'Brand')"
   ]
  },
  {
   "cell_type": "markdown",
   "id": "999de1e8",
   "metadata": {},
   "source": [
    "## 📌 Model"
   ]
  },
  {
   "cell_type": "code",
   "execution_count": 40,
   "id": "9fe1be9f",
   "metadata": {},
   "outputs": [
    {
     "name": "stdout",
     "output_type": "stream",
     "text": [
      "Model , Sumation of isnull : 0\n",
      "-----------------\n",
      "Samples for Model \n",
      " 1907           A1\n",
      "6258        Astra\n",
      "14869        Clio\n",
      "12178    Insignia\n",
      "10998    Insignia\n",
      "1505           A1\n",
      "6530        Astra\n",
      "6097        Astra\n",
      "9078        Corsa\n",
      "2040           A1\n",
      "Name: Model, dtype: object\n",
      "-----------------\n",
      "Model Value_counts is \n",
      " A3          3097\n",
      "A1          2614\n",
      "Insignia    2598\n",
      "Astra       2526\n",
      "Corsa       2219\n",
      "Clio        1839\n",
      "Espace       991\n",
      "Duster        34\n",
      "A2             1\n",
      "Name: Model, dtype: int64\n"
     ]
    }
   ],
   "source": [
    "check_col(df,'Model')"
   ]
  },
  {
   "cell_type": "markdown",
   "id": "cdeb642c",
   "metadata": {},
   "source": [
    "## 📌Age"
   ]
  },
  {
   "cell_type": "code",
   "execution_count": 41,
   "id": "5a764564",
   "metadata": {},
   "outputs": [
    {
     "name": "stdout",
     "output_type": "stream",
     "text": [
      "Age , Sumation of isnull : 0\n",
      "-----------------\n",
      "Samples for Age \n",
      " 3757     2.0\n",
      "3348     3.0\n",
      "13614    3.0\n",
      "2479     0.0\n",
      "13555    3.0\n",
      "10266    0.0\n",
      "2780     3.0\n",
      "6891     2.0\n",
      "7416     1.0\n",
      "14727    0.0\n",
      "Name: Age, dtype: float64\n",
      "-----------------\n",
      "Age Value_counts is \n",
      " 1.0    4813\n",
      "0.0    4077\n",
      "3.0    3696\n",
      "2.0    3333\n",
      "Name: Age, dtype: int64\n"
     ]
    }
   ],
   "source": [
    "check_col(df,'Age')"
   ]
  },
  {
   "cell_type": "code",
   "execution_count": 42,
   "id": "5294322c",
   "metadata": {
    "scrolled": true
   },
   "outputs": [
    {
     "data": {
      "image/png": "[encoded data removed]",
      "text/plain": [
       "<Figure size 432x288 with 1 Axes>"
      ]
     },
     "metadata": {
      "needs_background": "light"
     },
     "output_type": "display_data"
    }
   ],
   "source": [
    "sns.barplot(x=df.Age,y=df.New_KM);"
   ]
  },
  {
   "cell_type": "code",
   "execution_count": 43,
   "id": "51e60128",
   "metadata": {},
   "outputs": [
    {
     "data": {
      "image/png": "[encoded data removed]",
      "text/plain": [
       "<Figure size 432x288 with 1 Axes>"
      ]
     },
     "metadata": {
      "needs_background": "light"
     },
     "output_type": "display_data"
    }
   ],
   "source": [
    "sns.scatterplot(x=df.Age,y=df.New_KM);"
   ]
  },
  {
   "cell_type": "markdown",
   "id": "15f08817",
   "metadata": {},
   "source": [
    "## 📌Nr_of_Doors"
   ]
  },
  {
   "cell_type": "code",
   "execution_count": 44,
   "id": "339d4b16",
   "metadata": {},
   "outputs": [
    {
     "name": "stdout",
     "output_type": "stream",
     "text": [
      "Nr_of_Doors , Sumation of isnull : 0\n",
      "-----------------\n",
      "Samples for Nr_of_Doors \n",
      " 12068    5.0\n",
      "14393    5.0\n",
      "12425    4.0\n",
      "9354     4.0\n",
      "5236     5.0\n",
      "13766    5.0\n",
      "8774     5.0\n",
      "11569    4.0\n",
      "13383    5.0\n",
      "1768     5.0\n",
      "Name: Nr_of_Doors, dtype: float64\n",
      "-----------------\n",
      "Nr_of_Doors Value_counts is \n",
      " 5.0    11789\n",
      "4.0     3079\n",
      "3.0      832\n",
      "2.0      219\n",
      "Name: Nr_of_Doors, dtype: int64\n"
     ]
    }
   ],
   "source": [
    "check_col(df,'Nr_of_Doors')"
   ]
  },
  {
   "cell_type": "code",
   "execution_count": 45,
   "id": "08d85e5a",
   "metadata": {},
   "outputs": [],
   "source": [
    "df.drop('Nr_of_Doors', axis=1, inplace=True)"
   ]
  },
  {
   "cell_type": "markdown",
   "id": "c4d47659",
   "metadata": {},
   "source": [
    "## 📌 Number_of_Seats"
   ]
  },
  {
   "cell_type": "code",
   "execution_count": 46,
   "id": "42c27d4e",
   "metadata": {
    "scrolled": true
   },
   "outputs": [
    {
     "name": "stdout",
     "output_type": "stream",
     "text": [
      "Number_of_Seats , Sumation of isnull : 0\n",
      "-----------------\n",
      "Samples for Number_of_Seats \n",
      " 13458    5.0\n",
      "5093     5.0\n",
      "436      4.0\n",
      "2130     5.0\n",
      "4857     5.0\n",
      "5822     5.0\n",
      "15586    5.0\n",
      "9834     5.0\n",
      "3973     5.0\n",
      "6982     5.0\n",
      "Name: Number_of_Seats, dtype: float64\n",
      "-----------------\n",
      "Number_of_Seats Value_counts is \n",
      " 5.0    14179\n",
      "4.0     1196\n",
      "7.0      409\n",
      "2.0      132\n",
      "6.0        2\n",
      "3.0        1\n",
      "Name: Number_of_Seats, dtype: int64\n"
     ]
    }
   ],
   "source": [
    "check_col(df,'Number_of_Seats')"
   ]
  },
  {
   "cell_type": "code",
   "execution_count": 47,
   "id": "873e3ce8",
   "metadata": {},
   "outputs": [],
   "source": [
    "df.drop('Number_of_Seats', axis=1, inplace=True)"
   ]
  },
  {
   "cell_type": "markdown",
   "id": "656e0418",
   "metadata": {},
   "source": [
    "## 📌Gearing_Type"
   ]
  },
  {
   "cell_type": "code",
   "execution_count": 48,
   "id": "265c0e53",
   "metadata": {},
   "outputs": [
    {
     "name": "stdout",
     "output_type": "stream",
     "text": [
      "Gearing_Type , Sumation of isnull : 0\n",
      "-----------------\n",
      "Samples for Gearing_Type \n",
      " 3201        Manual\n",
      "5852     Automatic\n",
      "6232        Manual\n",
      "13387    Automatic\n",
      "13469       Manual\n",
      "7077     Automatic\n",
      "15207    Automatic\n",
      "10542    Automatic\n",
      "9097        Manual\n",
      "10159    Automatic\n",
      "Name: Gearing_Type, dtype: object\n",
      "-----------------\n",
      "Gearing_Type Value_counts is \n",
      " Manual            8153\n",
      "Automatic         7297\n",
      "Semi-automatic     469\n",
      "Name: Gearing_Type, dtype: int64\n"
     ]
    }
   ],
   "source": [
    "check_col(df,'Gearing_Type')"
   ]
  },
  {
   "cell_type": "code",
   "execution_count": 49,
   "id": "f8572035",
   "metadata": {},
   "outputs": [
    {
     "data": {
      "image/png": "[encoded data removed]",
      "text/plain": [
       "<Figure size 432x288 with 1 Axes>"
      ]
     },
     "metadata": {
      "needs_background": "light"
     },
     "output_type": "display_data"
    }
   ],
   "source": [
    "sns.barplot(x=df.Gearing_Type, y=df.Price);"
   ]
  },
  {
   "cell_type": "markdown",
   "id": "b8e049f9",
   "metadata": {},
   "source": [
    "## 📌Engine_Disp_cc"
   ]
  },
  {
   "cell_type": "code",
   "execution_count": 50,
   "id": "815cbcec",
   "metadata": {},
   "outputs": [
    {
     "name": "stdout",
     "output_type": "stream",
     "text": [
      "Engine_Disp_cc , Sumation of isnull : 0\n",
      "-----------------\n",
      "Samples for Engine_Disp_cc \n",
      " 14415    1618.0\n",
      "801      1598.0\n",
      "4295     1598.0\n",
      "13234    1197.0\n",
      "5614     1498.0\n",
      "3352     1598.0\n",
      "6770      999.0\n",
      "15699    1598.0\n",
      "5628     1598.0\n",
      "11886    1956.0\n",
      "Name: Engine_Disp_cc, dtype: float64\n",
      "-----------------\n",
      "Engine_Disp_cc Value_counts is \n",
      " 1598.0    5063\n",
      "999.0     2467\n",
      "1398.0    1388\n",
      "1399.0     749\n",
      "1461.0     686\n",
      "          ... \n",
      "122.0        1\n",
      "140.0        1\n",
      "1390.0       1\n",
      "54.0         1\n",
      "1533.0       1\n",
      "Name: Engine_Disp_cc, Length: 77, dtype: int64\n"
     ]
    }
   ],
   "source": [
    "check_col(df,'Engine_Disp_cc')"
   ]
  },
  {
   "cell_type": "code",
   "execution_count": 51,
   "id": "125f69a6",
   "metadata": {},
   "outputs": [
    {
     "data": {
      "image/png": "[encoded data removed]",
      "text/plain": [
       "<Figure size 864x432 with 1 Axes>"
      ]
     },
     "metadata": {
      "needs_background": "light"
     },
     "output_type": "display_data"
    }
   ],
   "source": [
    "plt.figure(figsize=(12,6))\n",
    "plt.boxplot(df.Engine_Disp_cc)\n",
    "\n",
    "plt.show()"
   ]
  },
  {
   "cell_type": "code",
   "execution_count": 52,
   "id": "9f83975b",
   "metadata": {},
   "outputs": [
    {
     "data": {
      "text/plain": [
       "count    15919.000000\n",
       "mean      1426.172561\n",
       "std        329.676109\n",
       "min          1.000000\n",
       "25%       1229.000000\n",
       "50%       1461.000000\n",
       "75%       1598.000000\n",
       "max      16000.000000\n",
       "Name: Engine_Disp_cc, dtype: float64"
      ]
     },
     "execution_count": 52,
     "metadata": {},
     "output_type": "execute_result"
    }
   ],
   "source": [
    "df.Engine_Disp_cc.describe()"
   ]
  },
  {
   "cell_type": "code",
   "execution_count": 53,
   "id": "c33aa2c8",
   "metadata": {
    "scrolled": true
   },
   "outputs": [
    {
     "data": {
      "text/html": [
       "<div>\n",
       "<style scoped>\n",
       "    .dataframe tbody tr th:only-of-type {\n",
       "        vertical-align: middle;\n",
       "    }\n",
       "\n",
       "    .dataframe tbody tr th {\n",
       "        vertical-align: top;\n",
       "    }\n",
       "\n",
       "    .dataframe thead th {\n",
       "        text-align: right;\n",
       "    }\n",
       "</style>\n",
       "<table border=\"1\" class=\"dataframe\">\n",
       "  <thead>\n",
       "    <tr style=\"text-align: right;\">\n",
       "      <th></th>\n",
       "      <th>Engine_Disp_cc</th>\n",
       "      <th>Model</th>\n",
       "    </tr>\n",
       "  </thead>\n",
       "  <tbody>\n",
       "    <tr>\n",
       "      <th>14315</th>\n",
       "      <td>1.0</td>\n",
       "      <td>Clio</td>\n",
       "    </tr>\n",
       "    <tr>\n",
       "      <th>12800</th>\n",
       "      <td>1.0</td>\n",
       "      <td>Insignia</td>\n",
       "    </tr>\n",
       "    <tr>\n",
       "      <th>12798</th>\n",
       "      <td>1.0</td>\n",
       "      <td>Insignia</td>\n",
       "    </tr>\n",
       "    <tr>\n",
       "      <th>12796</th>\n",
       "      <td>1.0</td>\n",
       "      <td>Insignia</td>\n",
       "    </tr>\n",
       "    <tr>\n",
       "      <th>12484</th>\n",
       "      <td>1.0</td>\n",
       "      <td>Insignia</td>\n",
       "    </tr>\n",
       "    <tr>\n",
       "      <th>12790</th>\n",
       "      <td>1.0</td>\n",
       "      <td>Insignia</td>\n",
       "    </tr>\n",
       "    <tr>\n",
       "      <th>12786</th>\n",
       "      <td>1.0</td>\n",
       "      <td>Insignia</td>\n",
       "    </tr>\n",
       "    <tr>\n",
       "      <th>12783</th>\n",
       "      <td>1.0</td>\n",
       "      <td>Insignia</td>\n",
       "    </tr>\n",
       "    <tr>\n",
       "      <th>14327</th>\n",
       "      <td>1.0</td>\n",
       "      <td>Clio</td>\n",
       "    </tr>\n",
       "    <tr>\n",
       "      <th>12781</th>\n",
       "      <td>1.0</td>\n",
       "      <td>Insignia</td>\n",
       "    </tr>\n",
       "    <tr>\n",
       "      <th>14326</th>\n",
       "      <td>1.0</td>\n",
       "      <td>Clio</td>\n",
       "    </tr>\n",
       "    <tr>\n",
       "      <th>14325</th>\n",
       "      <td>1.0</td>\n",
       "      <td>Clio</td>\n",
       "    </tr>\n",
       "    <tr>\n",
       "      <th>12769</th>\n",
       "      <td>1.0</td>\n",
       "      <td>Insignia</td>\n",
       "    </tr>\n",
       "    <tr>\n",
       "      <th>12815</th>\n",
       "      <td>1.0</td>\n",
       "      <td>Insignia</td>\n",
       "    </tr>\n",
       "    <tr>\n",
       "      <th>14324</th>\n",
       "      <td>1.0</td>\n",
       "      <td>Clio</td>\n",
       "    </tr>\n",
       "    <tr>\n",
       "      <th>12768</th>\n",
       "      <td>1.0</td>\n",
       "      <td>Insignia</td>\n",
       "    </tr>\n",
       "    <tr>\n",
       "      <th>12750</th>\n",
       "      <td>1.0</td>\n",
       "      <td>Insignia</td>\n",
       "    </tr>\n",
       "    <tr>\n",
       "      <th>14322</th>\n",
       "      <td>1.0</td>\n",
       "      <td>Clio</td>\n",
       "    </tr>\n",
       "    <tr>\n",
       "      <th>14321</th>\n",
       "      <td>1.0</td>\n",
       "      <td>Clio</td>\n",
       "    </tr>\n",
       "    <tr>\n",
       "      <th>12670</th>\n",
       "      <td>1.0</td>\n",
       "      <td>Insignia</td>\n",
       "    </tr>\n",
       "    <tr>\n",
       "      <th>12604</th>\n",
       "      <td>1.0</td>\n",
       "      <td>Insignia</td>\n",
       "    </tr>\n",
       "    <tr>\n",
       "      <th>14320</th>\n",
       "      <td>1.0</td>\n",
       "      <td>Clio</td>\n",
       "    </tr>\n",
       "    <tr>\n",
       "      <th>12467</th>\n",
       "      <td>1.0</td>\n",
       "      <td>Insignia</td>\n",
       "    </tr>\n",
       "    <tr>\n",
       "      <th>12473</th>\n",
       "      <td>1.0</td>\n",
       "      <td>Insignia</td>\n",
       "    </tr>\n",
       "    <tr>\n",
       "      <th>12554</th>\n",
       "      <td>1.0</td>\n",
       "      <td>Insignia</td>\n",
       "    </tr>\n",
       "    <tr>\n",
       "      <th>12501</th>\n",
       "      <td>1.0</td>\n",
       "      <td>Insignia</td>\n",
       "    </tr>\n",
       "    <tr>\n",
       "      <th>12499</th>\n",
       "      <td>1.0</td>\n",
       "      <td>Insignia</td>\n",
       "    </tr>\n",
       "    <tr>\n",
       "      <th>14319</th>\n",
       "      <td>1.0</td>\n",
       "      <td>Clio</td>\n",
       "    </tr>\n",
       "    <tr>\n",
       "      <th>12823</th>\n",
       "      <td>1.0</td>\n",
       "      <td>Insignia</td>\n",
       "    </tr>\n",
       "    <tr>\n",
       "      <th>14328</th>\n",
       "      <td>1.0</td>\n",
       "      <td>Clio</td>\n",
       "    </tr>\n",
       "    <tr>\n",
       "      <th>12849</th>\n",
       "      <td>1.0</td>\n",
       "      <td>Insignia</td>\n",
       "    </tr>\n",
       "    <tr>\n",
       "      <th>13904</th>\n",
       "      <td>1.0</td>\n",
       "      <td>Clio</td>\n",
       "    </tr>\n",
       "    <tr>\n",
       "      <th>12848</th>\n",
       "      <td>1.0</td>\n",
       "      <td>Insignia</td>\n",
       "    </tr>\n",
       "    <tr>\n",
       "      <th>12835</th>\n",
       "      <td>1.0</td>\n",
       "      <td>Insignia</td>\n",
       "    </tr>\n",
       "    <tr>\n",
       "      <th>14314</th>\n",
       "      <td>1.0</td>\n",
       "      <td>Clio</td>\n",
       "    </tr>\n",
       "    <tr>\n",
       "      <th>14284</th>\n",
       "      <td>1.0</td>\n",
       "      <td>Clio</td>\n",
       "    </tr>\n",
       "    <tr>\n",
       "      <th>14198</th>\n",
       "      <td>2.0</td>\n",
       "      <td>Clio</td>\n",
       "    </tr>\n",
       "    <tr>\n",
       "      <th>10559</th>\n",
       "      <td>2.0</td>\n",
       "      <td>Insignia</td>\n",
       "    </tr>\n",
       "    <tr>\n",
       "      <th>13912</th>\n",
       "      <td>54.0</td>\n",
       "      <td>Clio</td>\n",
       "    </tr>\n",
       "    <tr>\n",
       "      <th>10194</th>\n",
       "      <td>122.0</td>\n",
       "      <td>Corsa</td>\n",
       "    </tr>\n",
       "    <tr>\n",
       "      <th>7812</th>\n",
       "      <td>139.0</td>\n",
       "      <td>Astra</td>\n",
       "    </tr>\n",
       "    <tr>\n",
       "      <th>7811</th>\n",
       "      <td>139.0</td>\n",
       "      <td>Astra</td>\n",
       "    </tr>\n",
       "    <tr>\n",
       "      <th>7810</th>\n",
       "      <td>139.0</td>\n",
       "      <td>Astra</td>\n",
       "    </tr>\n",
       "    <tr>\n",
       "      <th>7809</th>\n",
       "      <td>139.0</td>\n",
       "      <td>Astra</td>\n",
       "    </tr>\n",
       "    <tr>\n",
       "      <th>8128</th>\n",
       "      <td>140.0</td>\n",
       "      <td>Astra</td>\n",
       "    </tr>\n",
       "    <tr>\n",
       "      <th>15578</th>\n",
       "      <td>160.0</td>\n",
       "      <td>Espace</td>\n",
       "    </tr>\n",
       "    <tr>\n",
       "      <th>15579</th>\n",
       "      <td>160.0</td>\n",
       "      <td>Espace</td>\n",
       "    </tr>\n",
       "    <tr>\n",
       "      <th>15574</th>\n",
       "      <td>160.0</td>\n",
       "      <td>Espace</td>\n",
       "    </tr>\n",
       "    <tr>\n",
       "      <th>15575</th>\n",
       "      <td>160.0</td>\n",
       "      <td>Espace</td>\n",
       "    </tr>\n",
       "    <tr>\n",
       "      <th>15576</th>\n",
       "      <td>160.0</td>\n",
       "      <td>Espace</td>\n",
       "    </tr>\n",
       "    <tr>\n",
       "      <th>15577</th>\n",
       "      <td>160.0</td>\n",
       "      <td>Espace</td>\n",
       "    </tr>\n",
       "    <tr>\n",
       "      <th>13653</th>\n",
       "      <td>890.0</td>\n",
       "      <td>Clio</td>\n",
       "    </tr>\n",
       "    <tr>\n",
       "      <th>14702</th>\n",
       "      <td>898.0</td>\n",
       "      <td>Clio</td>\n",
       "    </tr>\n",
       "    <tr>\n",
       "      <th>14726</th>\n",
       "      <td>898.0</td>\n",
       "      <td>Clio</td>\n",
       "    </tr>\n",
       "    <tr>\n",
       "      <th>14703</th>\n",
       "      <td>898.0</td>\n",
       "      <td>Clio</td>\n",
       "    </tr>\n",
       "  </tbody>\n",
       "</table>\n",
       "</div>"
      ],
      "text/plain": [
       "       Engine_Disp_cc     Model\n",
       "14315             1.0      Clio\n",
       "12800             1.0  Insignia\n",
       "12798             1.0  Insignia\n",
       "12796             1.0  Insignia\n",
       "12484             1.0  Insignia\n",
       "12790             1.0  Insignia\n",
       "12786             1.0  Insignia\n",
       "12783             1.0  Insignia\n",
       "14327             1.0      Clio\n",
       "12781             1.0  Insignia\n",
       "14326             1.0      Clio\n",
       "14325             1.0      Clio\n",
       "12769             1.0  Insignia\n",
       "12815             1.0  Insignia\n",
       "14324             1.0      Clio\n",
       "12768             1.0  Insignia\n",
       "12750             1.0  Insignia\n",
       "14322             1.0      Clio\n",
       "14321             1.0      Clio\n",
       "12670             1.0  Insignia\n",
       "12604             1.0  Insignia\n",
       "14320             1.0      Clio\n",
       "12467             1.0  Insignia\n",
       "12473             1.0  Insignia\n",
       "12554             1.0  Insignia\n",
       "12501             1.0  Insignia\n",
       "12499             1.0  Insignia\n",
       "14319             1.0      Clio\n",
       "12823             1.0  Insignia\n",
       "14328             1.0      Clio\n",
       "12849             1.0  Insignia\n",
       "13904             1.0      Clio\n",
       "12848             1.0  Insignia\n",
       "12835             1.0  Insignia\n",
       "14314             1.0      Clio\n",
       "14284             1.0      Clio\n",
       "14198             2.0      Clio\n",
       "10559             2.0  Insignia\n",
       "13912            54.0      Clio\n",
       "10194           122.0     Corsa\n",
       "7812            139.0     Astra\n",
       "7811            139.0     Astra\n",
       "7810            139.0     Astra\n",
       "7809            139.0     Astra\n",
       "8128            140.0     Astra\n",
       "15578           160.0    Espace\n",
       "15579           160.0    Espace\n",
       "15574           160.0    Espace\n",
       "15575           160.0    Espace\n",
       "15576           160.0    Espace\n",
       "15577           160.0    Espace\n",
       "13653           890.0      Clio\n",
       "14702           898.0      Clio\n",
       "14726           898.0      Clio\n",
       "14703           898.0      Clio"
      ]
     },
     "execution_count": 53,
     "metadata": {},
     "output_type": "execute_result"
    }
   ],
   "source": [
    "df.sort_values(by=['Engine_Disp_cc'], ascending=True)[['Engine_Disp_cc','Model']].head(55)"
   ]
  },
  {
   "cell_type": "code",
   "execution_count": 54,
   "id": "53690a23",
   "metadata": {
    "scrolled": true
   },
   "outputs": [
    {
     "data": {
      "text/html": [
       "<div>\n",
       "<style scoped>\n",
       "    .dataframe tbody tr th:only-of-type {\n",
       "        vertical-align: middle;\n",
       "    }\n",
       "\n",
       "    .dataframe tbody tr th {\n",
       "        vertical-align: top;\n",
       "    }\n",
       "\n",
       "    .dataframe thead th {\n",
       "        text-align: right;\n",
       "    }\n",
       "</style>\n",
       "<table border=\"1\" class=\"dataframe\">\n",
       "  <thead>\n",
       "    <tr style=\"text-align: right;\">\n",
       "      <th></th>\n",
       "      <th>Engine_Disp_cc</th>\n",
       "      <th>Model</th>\n",
       "    </tr>\n",
       "  </thead>\n",
       "  <tbody>\n",
       "    <tr>\n",
       "      <th>10932</th>\n",
       "      <td>16000.0</td>\n",
       "      <td>Insignia</td>\n",
       "    </tr>\n",
       "    <tr>\n",
       "      <th>7169</th>\n",
       "      <td>15898.0</td>\n",
       "      <td>Astra</td>\n",
       "    </tr>\n",
       "    <tr>\n",
       "      <th>10771</th>\n",
       "      <td>2967.0</td>\n",
       "      <td>Insignia</td>\n",
       "    </tr>\n",
       "    <tr>\n",
       "      <th>3592</th>\n",
       "      <td>2480.0</td>\n",
       "      <td>A3</td>\n",
       "    </tr>\n",
       "    <tr>\n",
       "      <th>3609</th>\n",
       "      <td>2480.0</td>\n",
       "      <td>A3</td>\n",
       "    </tr>\n",
       "    <tr>\n",
       "      <th>3608</th>\n",
       "      <td>2480.0</td>\n",
       "      <td>A3</td>\n",
       "    </tr>\n",
       "    <tr>\n",
       "      <th>3606</th>\n",
       "      <td>2480.0</td>\n",
       "      <td>A3</td>\n",
       "    </tr>\n",
       "    <tr>\n",
       "      <th>3605</th>\n",
       "      <td>2480.0</td>\n",
       "      <td>A3</td>\n",
       "    </tr>\n",
       "    <tr>\n",
       "      <th>3603</th>\n",
       "      <td>2480.0</td>\n",
       "      <td>A3</td>\n",
       "    </tr>\n",
       "    <tr>\n",
       "      <th>3648</th>\n",
       "      <td>2480.0</td>\n",
       "      <td>A3</td>\n",
       "    </tr>\n",
       "    <tr>\n",
       "      <th>3602</th>\n",
       "      <td>2480.0</td>\n",
       "      <td>A3</td>\n",
       "    </tr>\n",
       "    <tr>\n",
       "      <th>3601</th>\n",
       "      <td>2480.0</td>\n",
       "      <td>A3</td>\n",
       "    </tr>\n",
       "    <tr>\n",
       "      <th>3610</th>\n",
       "      <td>2480.0</td>\n",
       "      <td>A3</td>\n",
       "    </tr>\n",
       "    <tr>\n",
       "      <th>3604</th>\n",
       "      <td>2480.0</td>\n",
       "      <td>A3</td>\n",
       "    </tr>\n",
       "    <tr>\n",
       "      <th>3649</th>\n",
       "      <td>2480.0</td>\n",
       "      <td>A3</td>\n",
       "    </tr>\n",
       "    <tr>\n",
       "      <th>3590</th>\n",
       "      <td>2480.0</td>\n",
       "      <td>A3</td>\n",
       "    </tr>\n",
       "    <tr>\n",
       "      <th>3600</th>\n",
       "      <td>2480.0</td>\n",
       "      <td>A3</td>\n",
       "    </tr>\n",
       "    <tr>\n",
       "      <th>3599</th>\n",
       "      <td>2480.0</td>\n",
       "      <td>A3</td>\n",
       "    </tr>\n",
       "    <tr>\n",
       "      <th>3598</th>\n",
       "      <td>2480.0</td>\n",
       "      <td>A3</td>\n",
       "    </tr>\n",
       "    <tr>\n",
       "      <th>3593</th>\n",
       "      <td>2480.0</td>\n",
       "      <td>A3</td>\n",
       "    </tr>\n",
       "    <tr>\n",
       "      <th>3595</th>\n",
       "      <td>2480.0</td>\n",
       "      <td>A3</td>\n",
       "    </tr>\n",
       "    <tr>\n",
       "      <th>3587</th>\n",
       "      <td>2480.0</td>\n",
       "      <td>A3</td>\n",
       "    </tr>\n",
       "    <tr>\n",
       "      <th>3596</th>\n",
       "      <td>2480.0</td>\n",
       "      <td>A3</td>\n",
       "    </tr>\n",
       "    <tr>\n",
       "      <th>11978</th>\n",
       "      <td>2000.0</td>\n",
       "      <td>Insignia</td>\n",
       "    </tr>\n",
       "    <tr>\n",
       "      <th>11988</th>\n",
       "      <td>2000.0</td>\n",
       "      <td>Insignia</td>\n",
       "    </tr>\n",
       "    <tr>\n",
       "      <th>2903</th>\n",
       "      <td>2000.0</td>\n",
       "      <td>A3</td>\n",
       "    </tr>\n",
       "    <tr>\n",
       "      <th>12520</th>\n",
       "      <td>2000.0</td>\n",
       "      <td>Insignia</td>\n",
       "    </tr>\n",
       "    <tr>\n",
       "      <th>12519</th>\n",
       "      <td>2000.0</td>\n",
       "      <td>Insignia</td>\n",
       "    </tr>\n",
       "    <tr>\n",
       "      <th>12503</th>\n",
       "      <td>2000.0</td>\n",
       "      <td>Insignia</td>\n",
       "    </tr>\n",
       "    <tr>\n",
       "      <th>12181</th>\n",
       "      <td>2000.0</td>\n",
       "      <td>Insignia</td>\n",
       "    </tr>\n",
       "    <tr>\n",
       "      <th>12938</th>\n",
       "      <td>2000.0</td>\n",
       "      <td>Insignia</td>\n",
       "    </tr>\n",
       "    <tr>\n",
       "      <th>12414</th>\n",
       "      <td>2000.0</td>\n",
       "      <td>Insignia</td>\n",
       "    </tr>\n",
       "    <tr>\n",
       "      <th>12518</th>\n",
       "      <td>2000.0</td>\n",
       "      <td>Insignia</td>\n",
       "    </tr>\n",
       "    <tr>\n",
       "      <th>11977</th>\n",
       "      <td>2000.0</td>\n",
       "      <td>Insignia</td>\n",
       "    </tr>\n",
       "    <tr>\n",
       "      <th>11800</th>\n",
       "      <td>2000.0</td>\n",
       "      <td>Insignia</td>\n",
       "    </tr>\n",
       "    <tr>\n",
       "      <th>12226</th>\n",
       "      <td>2000.0</td>\n",
       "      <td>Insignia</td>\n",
       "    </tr>\n",
       "    <tr>\n",
       "      <th>12945</th>\n",
       "      <td>2000.0</td>\n",
       "      <td>Insignia</td>\n",
       "    </tr>\n",
       "    <tr>\n",
       "      <th>12179</th>\n",
       "      <td>2000.0</td>\n",
       "      <td>Insignia</td>\n",
       "    </tr>\n",
       "    <tr>\n",
       "      <th>12170</th>\n",
       "      <td>2000.0</td>\n",
       "      <td>Insignia</td>\n",
       "    </tr>\n",
       "    <tr>\n",
       "      <th>12521</th>\n",
       "      <td>2000.0</td>\n",
       "      <td>Insignia</td>\n",
       "    </tr>\n",
       "    <tr>\n",
       "      <th>11234</th>\n",
       "      <td>2000.0</td>\n",
       "      <td>Insignia</td>\n",
       "    </tr>\n",
       "    <tr>\n",
       "      <th>10556</th>\n",
       "      <td>2000.0</td>\n",
       "      <td>Insignia</td>\n",
       "    </tr>\n",
       "    <tr>\n",
       "      <th>13027</th>\n",
       "      <td>2000.0</td>\n",
       "      <td>Insignia</td>\n",
       "    </tr>\n",
       "    <tr>\n",
       "      <th>13029</th>\n",
       "      <td>2000.0</td>\n",
       "      <td>Insignia</td>\n",
       "    </tr>\n",
       "    <tr>\n",
       "      <th>13050</th>\n",
       "      <td>2000.0</td>\n",
       "      <td>Insignia</td>\n",
       "    </tr>\n",
       "    <tr>\n",
       "      <th>13054</th>\n",
       "      <td>2000.0</td>\n",
       "      <td>Insignia</td>\n",
       "    </tr>\n",
       "    <tr>\n",
       "      <th>12462</th>\n",
       "      <td>2000.0</td>\n",
       "      <td>Insignia</td>\n",
       "    </tr>\n",
       "    <tr>\n",
       "      <th>11032</th>\n",
       "      <td>2000.0</td>\n",
       "      <td>Insignia</td>\n",
       "    </tr>\n",
       "    <tr>\n",
       "      <th>15197</th>\n",
       "      <td>2000.0</td>\n",
       "      <td>Espace</td>\n",
       "    </tr>\n",
       "    <tr>\n",
       "      <th>12527</th>\n",
       "      <td>2000.0</td>\n",
       "      <td>Insignia</td>\n",
       "    </tr>\n",
       "    <tr>\n",
       "      <th>12464</th>\n",
       "      <td>2000.0</td>\n",
       "      <td>Insignia</td>\n",
       "    </tr>\n",
       "    <tr>\n",
       "      <th>12469</th>\n",
       "      <td>2000.0</td>\n",
       "      <td>Insignia</td>\n",
       "    </tr>\n",
       "    <tr>\n",
       "      <th>12470</th>\n",
       "      <td>2000.0</td>\n",
       "      <td>Insignia</td>\n",
       "    </tr>\n",
       "    <tr>\n",
       "      <th>12472</th>\n",
       "      <td>2000.0</td>\n",
       "      <td>Insignia</td>\n",
       "    </tr>\n",
       "    <tr>\n",
       "      <th>12114</th>\n",
       "      <td>2000.0</td>\n",
       "      <td>Insignia</td>\n",
       "    </tr>\n",
       "  </tbody>\n",
       "</table>\n",
       "</div>"
      ],
      "text/plain": [
       "       Engine_Disp_cc     Model\n",
       "10932         16000.0  Insignia\n",
       "7169          15898.0     Astra\n",
       "10771          2967.0  Insignia\n",
       "3592           2480.0        A3\n",
       "3609           2480.0        A3\n",
       "3608           2480.0        A3\n",
       "3606           2480.0        A3\n",
       "3605           2480.0        A3\n",
       "3603           2480.0        A3\n",
       "3648           2480.0        A3\n",
       "3602           2480.0        A3\n",
       "3601           2480.0        A3\n",
       "3610           2480.0        A3\n",
       "3604           2480.0        A3\n",
       "3649           2480.0        A3\n",
       "3590           2480.0        A3\n",
       "3600           2480.0        A3\n",
       "3599           2480.0        A3\n",
       "3598           2480.0        A3\n",
       "3593           2480.0        A3\n",
       "3595           2480.0        A3\n",
       "3587           2480.0        A3\n",
       "3596           2480.0        A3\n",
       "11978          2000.0  Insignia\n",
       "11988          2000.0  Insignia\n",
       "2903           2000.0        A3\n",
       "12520          2000.0  Insignia\n",
       "12519          2000.0  Insignia\n",
       "12503          2000.0  Insignia\n",
       "12181          2000.0  Insignia\n",
       "12938          2000.0  Insignia\n",
       "12414          2000.0  Insignia\n",
       "12518          2000.0  Insignia\n",
       "11977          2000.0  Insignia\n",
       "11800          2000.0  Insignia\n",
       "12226          2000.0  Insignia\n",
       "12945          2000.0  Insignia\n",
       "12179          2000.0  Insignia\n",
       "12170          2000.0  Insignia\n",
       "12521          2000.0  Insignia\n",
       "11234          2000.0  Insignia\n",
       "10556          2000.0  Insignia\n",
       "13027          2000.0  Insignia\n",
       "13029          2000.0  Insignia\n",
       "13050          2000.0  Insignia\n",
       "13054          2000.0  Insignia\n",
       "12462          2000.0  Insignia\n",
       "11032          2000.0  Insignia\n",
       "15197          2000.0    Espace\n",
       "12527          2000.0  Insignia\n",
       "12464          2000.0  Insignia\n",
       "12469          2000.0  Insignia\n",
       "12470          2000.0  Insignia\n",
       "12472          2000.0  Insignia\n",
       "12114          2000.0  Insignia"
      ]
     },
     "execution_count": 54,
     "metadata": {},
     "output_type": "execute_result"
    }
   ],
   "source": [
    "df.sort_values(by=['Engine_Disp_cc'], ascending=False)[['Engine_Disp_cc','Model']].head(55)"
   ]
  },
  {
   "cell_type": "code",
   "execution_count": 55,
   "id": "73dd9825",
   "metadata": {},
   "outputs": [],
   "source": [
    "Engine_Disp_cc_anomalies=list(df[(df.Engine_Disp_cc < 898)|(df.Engine_Disp_cc > 2480)].index)"
   ]
  },
  {
   "cell_type": "code",
   "execution_count": 56,
   "id": "1352f740",
   "metadata": {},
   "outputs": [],
   "source": [
    "df.loc[Engine_Disp_cc_anomalies,'Engine_Disp_cc']= np.nan"
   ]
  },
  {
   "cell_type": "code",
   "execution_count": 57,
   "id": "c51e7733",
   "metadata": {
    "scrolled": true
   },
   "outputs": [
    {
     "data": {
      "text/plain": [
       "7169    NaN\n",
       "7809    NaN\n",
       "7810    NaN\n",
       "7811    NaN\n",
       "7812    NaN\n",
       "8128    NaN\n",
       "10194   NaN\n",
       "10559   NaN\n",
       "10771   NaN\n",
       "10932   NaN\n",
       "12467   NaN\n",
       "12473   NaN\n",
       "12484   NaN\n",
       "12499   NaN\n",
       "12501   NaN\n",
       "12554   NaN\n",
       "12604   NaN\n",
       "12670   NaN\n",
       "12750   NaN\n",
       "12768   NaN\n",
       "12769   NaN\n",
       "12781   NaN\n",
       "12783   NaN\n",
       "12786   NaN\n",
       "12790   NaN\n",
       "12796   NaN\n",
       "12798   NaN\n",
       "12800   NaN\n",
       "12815   NaN\n",
       "12823   NaN\n",
       "12835   NaN\n",
       "12848   NaN\n",
       "12849   NaN\n",
       "13653   NaN\n",
       "13904   NaN\n",
       "13912   NaN\n",
       "14198   NaN\n",
       "14284   NaN\n",
       "14314   NaN\n",
       "14315   NaN\n",
       "14319   NaN\n",
       "14320   NaN\n",
       "14321   NaN\n",
       "14322   NaN\n",
       "14324   NaN\n",
       "14325   NaN\n",
       "14326   NaN\n",
       "14327   NaN\n",
       "14328   NaN\n",
       "15574   NaN\n",
       "15575   NaN\n",
       "15576   NaN\n",
       "15577   NaN\n",
       "15578   NaN\n",
       "15579   NaN\n",
       "Name: Engine_Disp_cc, dtype: float64"
      ]
     },
     "execution_count": 57,
     "metadata": {},
     "output_type": "execute_result"
    }
   ],
   "source": [
    "df.loc[Engine_Disp_cc_anomalies,'Engine_Disp_cc']"
   ]
  },
  {
   "cell_type": "code",
   "execution_count": 58,
   "id": "9502daf9",
   "metadata": {},
   "outputs": [
    {
     "name": "stdout",
     "output_type": "stream",
     "text": [
      "Number of NaN :  0\n",
      "------------------\n",
      "1598.0    5097\n",
      "999.0     2467\n",
      "1398.0    1389\n",
      "1399.0     753\n",
      "1461.0     702\n",
      "          ... \n",
      "1195.0       1\n",
      "1696.0       1\n",
      "1350.0       1\n",
      "1390.0       1\n",
      "1533.0       1\n",
      "Name: Engine_Disp_cc, Length: 66, dtype: int64\n"
     ]
    }
   ],
   "source": [
    "fill(df, 'Model', 'Body_Type','Engine_Disp_cc','median')"
   ]
  },
  {
   "cell_type": "markdown",
   "id": "2b44751b",
   "metadata": {},
   "source": [
    "## 📌Cylinders"
   ]
  },
  {
   "cell_type": "code",
   "execution_count": 59,
   "id": "3e1a48be",
   "metadata": {
    "scrolled": true
   },
   "outputs": [
    {
     "name": "stdout",
     "output_type": "stream",
     "text": [
      "Cylinders , Sumation of isnull : 0\n",
      "-----------------\n",
      "Samples for Cylinders \n",
      " 15654    4.0\n",
      "10453    4.0\n",
      "12096    4.0\n",
      "7697     4.0\n",
      "4507     4.0\n",
      "7194     4.0\n",
      "13557    4.0\n",
      "137      3.0\n",
      "2647     4.0\n",
      "11618    4.0\n",
      "Name: Cylinders, dtype: float64\n",
      "-----------------\n",
      "Cylinders Value_counts is \n",
      " 4.0    12544\n",
      "3.0     3340\n",
      "5.0       23\n",
      "8.0        5\n",
      "6.0        3\n",
      "2.0        3\n",
      "1.0        1\n",
      "Name: Cylinders, dtype: int64\n"
     ]
    }
   ],
   "source": [
    "check_col(df,'Cylinders')"
   ]
  },
  {
   "cell_type": "code",
   "execution_count": 61,
   "id": "3ab3b1d3",
   "metadata": {},
   "outputs": [],
   "source": [
    "Cylinders_anomalies=list(df[(df.Cylinders < 3.0)|(df.Cylinders > 5.0)].index) #1,2,6 ve 8 i anomali olarak aldik."
   ]
  },
  {
   "cell_type": "code",
   "execution_count": 62,
   "id": "248408fc",
   "metadata": {},
   "outputs": [],
   "source": [
    "df.loc[Cylinders_anomalies,'Cylinders']= np.nan"
   ]
  },
  {
   "cell_type": "code",
   "execution_count": 63,
   "id": "9d60ee54",
   "metadata": {},
   "outputs": [
    {
     "data": {
      "text/plain": [
       "535     NaN\n",
       "536     NaN\n",
       "537     NaN\n",
       "9956    NaN\n",
       "10771   NaN\n",
       "10826   NaN\n",
       "11342   NaN\n",
       "12897   NaN\n",
       "15055   NaN\n",
       "15056   NaN\n",
       "15835   NaN\n",
       "15836   NaN\n",
       "Name: Cylinders, dtype: float64"
      ]
     },
     "execution_count": 63,
     "metadata": {},
     "output_type": "execute_result"
    }
   ],
   "source": [
    "df.loc[Cylinders_anomalies,'Cylinders']"
   ]
  },
  {
   "cell_type": "code",
   "execution_count": 64,
   "id": "eee839e9",
   "metadata": {},
   "outputs": [
    {
     "name": "stdout",
     "output_type": "stream",
     "text": [
      "Number of NaN :  0\n",
      "------------------\n",
      "4.0    12553\n",
      "3.0     3343\n",
      "5.0       23\n",
      "Name: Cylinders, dtype: int64\n"
     ]
    }
   ],
   "source": [
    "fill(df,'Model','Body_Type','Cylinders','mode')"
   ]
  },
  {
   "cell_type": "code",
   "execution_count": null,
   "id": "01f3feae",
   "metadata": {},
   "outputs": [],
   "source": []
  },
  {
   "cell_type": "code",
   "execution_count": 65,
   "id": "4d19294c",
   "metadata": {},
   "outputs": [
    {
     "data": {
      "text/plain": [
       "Index(['Price', 'hp', 'Type', 'Brand', 'Model', 'Age', 'Gearing_Type',\n",
       "       'Engine_Disp_cc', 'Cylinders', 'Drive_chain', 'Fuel', 'CO2_Emission',\n",
       "       'Emission_Class', 'Comfort_Convenience', 'Entertainment_Media',\n",
       "       'Extras', 'Safety_Security', 'Gears', 'Body_Type', 'VAT_Deductable',\n",
       "       'Price_Negotiable', 'Prev_Owner', 'Inspection_New', 'Body_Color',\n",
       "       'Paint_Type', 'Uphol_Material', 'Uphol_Colors', 'Country_Cons',\n",
       "       'City_Cons', 'Comb_Cons', 'New_KM'],\n",
       "      dtype='object')"
      ]
     },
     "execution_count": 65,
     "metadata": {},
     "output_type": "execute_result"
    }
   ],
   "source": []
  },
  {
   "cell_type": "markdown",
   "id": "8654e4dd",
   "metadata": {},
   "source": [
    "## Drive_chain"
   ]
  },
  {
   "cell_type": "code",
   "execution_count": 66,
   "id": "a4d8fffc",
   "metadata": {},
   "outputs": [
    {
     "name": "stdout",
     "output_type": "stream",
     "text": [
      "Drive_chain , Sumation of isnull : 0\n",
      "-----------------\n",
      "Samples for Drive_chain \n",
      " 10143    front\n",
      "12295    front\n",
      "2450     front\n",
      "2222     front\n",
      "772      front\n",
      "7962     front\n",
      "7475     front\n",
      "494      front\n",
      "14673    front\n",
      "4334     front\n",
      "Name: Drive_chain, dtype: object\n",
      "-----------------\n",
      "Drive_chain Value_counts is \n",
      " front    15711\n",
      "4WD        204\n",
      "rear         4\n",
      "Name: Drive_chain, dtype: int64\n"
     ]
    }
   ],
   "source": [
    "check_col(df,'Drive_chain')"
   ]
  },
  {
   "cell_type": "code",
   "execution_count": 67,
   "id": "df581335",
   "metadata": {},
   "outputs": [],
   "source": [
    "df.drop('Drive_chain',axis = 1,inplace = True)"
   ]
  },
  {
   "cell_type": "markdown",
   "id": "443ec771",
   "metadata": {},
   "source": [
    "## Fuel"
   ]
  },
  {
   "cell_type": "code",
   "execution_count": 68,
   "id": "cf4d94e7",
   "metadata": {
    "scrolled": true
   },
   "outputs": [
    {
     "name": "stdout",
     "output_type": "stream",
     "text": [
      "Fuel , Sumation of isnull : 0\n",
      "-----------------\n",
      "Samples for Fuel \n",
      " 965       Others\n",
      "8519     Benzine\n",
      "3231      Diesel\n",
      "12496     Diesel\n",
      "8726      Diesel\n",
      "12483     Others\n",
      "4852     Benzine\n",
      "3723     CNG/LPG\n",
      "14661    Benzine\n",
      "8030     Benzine\n",
      "Name: Fuel, dtype: object\n",
      "-----------------\n",
      "Fuel Value_counts is \n",
      " Benzine     7707\n",
      "Diesel      7299\n",
      "Others       844\n",
      "CNG/LPG       64\n",
      "Electric       5\n",
      "Name: Fuel, dtype: int64\n"
     ]
    }
   ],
   "source": [
    "check_col(df,'Fuel')"
   ]
  },
  {
   "cell_type": "code",
   "execution_count": 69,
   "id": "ce3785e1",
   "metadata": {},
   "outputs": [],
   "source": [
    "Fuel_missing=list(df[df.Fuel == 'Others'].index)"
   ]
  },
  {
   "cell_type": "code",
   "execution_count": 70,
   "id": "f5efc691",
   "metadata": {},
   "outputs": [],
   "source": [
    "df.loc[Fuel_missing,'Fuel']= np.nan"
   ]
  },
  {
   "cell_type": "code",
   "execution_count": 71,
   "id": "08861dce",
   "metadata": {},
   "outputs": [
    {
     "name": "stdout",
     "output_type": "stream",
     "text": [
      "Number of NaN :  0\n",
      "------------------\n",
      "Benzine     8273\n",
      "Diesel      7577\n",
      "CNG/LPG       64\n",
      "Electric       5\n",
      "Name: Fuel, dtype: int64\n"
     ]
    }
   ],
   "source": [
    "fill(df,'Model','Body_Type','Fuel','mode')"
   ]
  },
  {
   "cell_type": "code",
   "execution_count": 72,
   "id": "1fde9ece",
   "metadata": {},
   "outputs": [
    {
     "data": {
      "text/plain": [
       "Index(['Price', 'hp', 'Type', 'Brand', 'Model', 'Age', 'Gearing_Type',\n",
       "       'Engine_Disp_cc', 'Cylinders', 'Fuel', 'CO2_Emission', 'Emission_Class',\n",
       "       'Comfort_Convenience', 'Entertainment_Media', 'Extras',\n",
       "       'Safety_Security', 'Gears', 'Body_Type', 'VAT_Deductable',\n",
       "       'Price_Negotiable', 'Prev_Owner', 'Inspection_New', 'Body_Color',\n",
       "       'Paint_Type', 'Uphol_Material', 'Uphol_Colors', 'Country_Cons',\n",
       "       'City_Cons', 'Comb_Cons', 'New_KM'],\n",
       "      dtype='object')"
      ]
     },
     "execution_count": 72,
     "metadata": {},
     "output_type": "execute_result"
    }
   ],
   "source": [
    "df.columns"
   ]
  },
  {
   "cell_type": "markdown",
   "id": "0cbb87b9",
   "metadata": {},
   "source": [
    "## CO2_Emission"
   ]
  },
  {
   "cell_type": "code",
   "execution_count": 73,
   "id": "23e42ecf",
   "metadata": {},
   "outputs": [
    {
     "name": "stdout",
     "output_type": "stream",
     "text": [
      "CO2_Emission , Sumation of isnull : 0\n",
      "-----------------\n",
      "Samples for CO2_Emission \n",
      " 2593     105.0\n",
      "6922      97.0\n",
      "2988     119.0\n",
      "13523    127.0\n",
      "1437      10.0\n",
      "10963     99.0\n",
      "3451     104.0\n",
      "15820    139.0\n",
      "7780     130.0\n",
      "2292     111.0\n",
      "Name: CO2_Emission, dtype: float64\n",
      "-----------------\n",
      "CO2_Emission Value_counts is \n",
      " 120.000    920\n",
      "97.000     620\n",
      "99.000     619\n",
      "104.000    599\n",
      "10.000     541\n",
      "          ... \n",
      "12.324       1\n",
      "45.000       1\n",
      "51.000       1\n",
      "13.983       1\n",
      "177.000      1\n",
      "Name: CO2_Emission, Length: 120, dtype: int64\n"
     ]
    }
   ],
   "source": [
    "check_col(df,'CO2_Emission')"
   ]
  },
  {
   "cell_type": "code",
   "execution_count": 74,
   "id": "61aebdbb",
   "metadata": {},
   "outputs": [],
   "source": [
    "df.drop('CO2_Emission',axis = 1,inplace = True)"
   ]
  },
  {
   "cell_type": "markdown",
   "id": "8c0cb1ca",
   "metadata": {},
   "source": [
    "## Emission_Class"
   ]
  },
  {
   "cell_type": "code",
   "execution_count": 75,
   "id": "0caa3095",
   "metadata": {},
   "outputs": [
    {
     "name": "stdout",
     "output_type": "stream",
     "text": [
      "Emission_Class , Sumation of isnull : 0\n",
      "-----------------\n",
      "Samples for Emission_Class \n",
      " 6039           Euro 6\n",
      "2714           Euro 6\n",
      "6994           Euro 6\n",
      "10159    Euro 6d-TEMP\n",
      "10855          Euro 6\n",
      "4168           Euro 6\n",
      "9875           Euro 6\n",
      "10291    Euro 6d-TEMP\n",
      "6986           Euro 6\n",
      "9771           Euro 6\n",
      "Name: Emission_Class, dtype: object\n",
      "-----------------\n",
      "Emission_Class Value_counts is \n",
      " Euro 6          13143\n",
      "Euro 6d-TEMP     2467\n",
      "Euro 6c           127\n",
      "Euro 5             78\n",
      "Euro 6d            62\n",
      "Euro 4             42\n",
      "Name: Emission_Class, dtype: int64\n"
     ]
    }
   ],
   "source": [
    "check_col(df,'Emission_Class')"
   ]
  },
  {
   "cell_type": "code",
   "execution_count": 76,
   "id": "77b4dbd1",
   "metadata": {},
   "outputs": [],
   "source": [
    "df.drop('Emission_Class',axis = 1,inplace=True)"
   ]
  },
  {
   "cell_type": "markdown",
   "id": "033d9c6c",
   "metadata": {},
   "source": [
    "## Comfort_Convenience"
   ]
  },
  {
   "cell_type": "code",
   "execution_count": 78,
   "id": "bb9876bc",
   "metadata": {},
   "outputs": [
    {
     "name": "stdout",
     "output_type": "stream",
     "text": [
      "Comfort_Convenience , Sumation of isnull : 0\n",
      "-----------------\n",
      "Samples for Comfort_Convenience \n",
      " 8691     Air conditioning,Cruise control,Electrical sid...\n",
      "318      Air conditioning,Armrest,Automatic climate con...\n",
      "15576    Air conditioning,Automatic climate control,Cru...\n",
      "8439     Air conditioning,Cruise control,Electrical sid...\n",
      "9945     Air conditioning,Cruise control,Electrically h...\n",
      "8848     Air conditioning,Cruise control,Electrical sid...\n",
      "2601     Air conditioning,Armrest,Electrical side mirro...\n",
      "7360     Air conditioning,Cruise control,Leather steeri...\n",
      "9134     Air conditioning,Seat ventilation,Split rear s...\n",
      "10128    Air conditioning,Automatic climate control,Cru...\n",
      "Name: Comfort_Convenience, dtype: object\n",
      "-----------------\n",
      "Comfort_Convenience Value_counts is \n",
      " Air conditioning,Electrical side mirrors,Hill Holder,Power windows                                                                                                                                                                                                                                                                                                                                  234\n",
      "Air conditioning,Electrical side mirrors,Power windows                                                                                                                                                                                                                                                                                                                                              155\n",
      "Air conditioning,Power windows                                                                                                                                                                                                                                                                                                                                                                      148\n",
      "Air conditioning,Armrest,Automatic climate control,Cruise control,Electrical side mirrors,Leather steering wheel,Light sensor,Lumbar support,Multi-function steering wheel,Navigation system,Park Distance Control,Parking assist system sensors front,Parking assist system sensors rear,Power windows,Rain sensor,Seat heating,Start-stop system                                                  106\n",
      "Air conditioning,Armrest,Automatic climate control,Cruise control,Electrical side mirrors,Hill Holder,Leather steering wheel,Light sensor,Multi-function steering wheel,Navigation system,Park Distance Control,Parking assist system sensors rear,Power windows,Rain sensor,Seat heating,Start-stop system                                                                                          92\n",
      "                                                                                                                                                                                                                                                                                                                                                                                                   ... \n",
      "Air conditioning,Automatic climate control,Cruise control,Electrical side mirrors,Hill Holder,Keyless central door lock,Leather steering wheel,Light sensor,Lumbar support,Multi-function steering wheel,Navigation system,Park Distance Control,Parking assist system camera,Parking assist system sensors front,Parking assist system sensors rear,Power windows,Rain sensor,Start-stop system      1\n",
      "Air conditioning,Armrest,Electrical side mirrors,Leather steering wheel,Lumbar support,Park Distance Control,Parking assist system sensors rear,Power windows,Seat heating,Start-stop system                                                                                                                                                                                                          1\n",
      "Air conditioning,Armrest,Heads-up display,Keyless central door lock,Multi-function steering wheel,Navigation system,Power windows,Start-stop system                                                                                                                                                                                                                                                   1\n",
      "Air conditioning,Cruise control,Hill Holder,Multi-function steering wheel,Navigation system,Park Distance Control,Parking assist system camera,Parking assist system sensors rear,Power windows,Split rear seats,Start-stop system                                                                                                                                                                    1\n",
      "Air conditioning,Armrest,Automatic climate control,Cruise control,Electrical side mirrors,Electric tailgate,Hill Holder,Leather steering wheel,Light sensor,Lumbar support,Multi-function steering wheel,Park Distance Control,Parking assist system sensors front,Parking assist system sensors rear,Power windows,Rain sensor,Start-stop system                                                     1\n",
      "Name: Comfort_Convenience, Length: 6198, dtype: int64\n"
     ]
    }
   ],
   "source": [
    "check_col(df,'Comfort_Convenience') #getdummy() uygulanacak."
   ]
  },
  {
   "cell_type": "markdown",
   "id": "9acdf6dc",
   "metadata": {},
   "source": [
    "## Entertainment_Media"
   ]
  },
  {
   "cell_type": "code",
   "execution_count": 81,
   "id": "225cc77b",
   "metadata": {},
   "outputs": [
    {
     "name": "stdout",
     "output_type": "stream",
     "text": [
      "Entertainment_Media , Sumation of isnull : 0\n",
      "-----------------\n",
      "Samples for Entertainment_Media \n",
      " 12836    ['Bluetooth', 'Digital radio', 'Hands-free equ...\n",
      "6108     ['Bluetooth', 'CD player', 'Hands-free equipme...\n",
      "10748    ['Bluetooth', 'Hands-free equipment', 'On-boar...\n",
      "8503     ['Bluetooth', 'CD player', 'On-board computer'...\n",
      "13623                       ['On-board computer', 'Radio']\n",
      "1875     ['Bluetooth', 'CD player', 'Hands-free equipme...\n",
      "10719    ['Bluetooth', 'CD player', 'Digital radio', 'H...\n",
      "1108     ['Bluetooth', 'CD player', 'MP3', 'Radio', 'So...\n",
      "14512    ['Bluetooth', 'Hands-free equipment', 'On-boar...\n",
      "3981                                         ['Bluetooth']\n",
      "Name: Entertainment_Media, dtype: object\n",
      "-----------------\n",
      "Entertainment_Media Value_counts is \n",
      " ['Bluetooth', 'Hands-free equipment', 'On-board computer', 'Radio', 'USB']                        1381\n",
      "['Bluetooth', 'Hands-free equipment', 'MP3', 'On-board computer', 'Radio', 'USB']                 1040\n",
      "['Bluetooth', 'CD player', 'Hands-free equipment', 'MP3', 'On-board computer', 'Radio', 'USB']     842\n",
      "['On-board computer']                                                                              531\n",
      "['On-board computer', 'Radio']                                                                     525\n",
      "                                                                                                  ... \n",
      "['Bluetooth', 'CD player', 'Digital radio', 'Hands-free equipment', 'MP3', 'USB']                    1\n",
      "['Bluetooth', 'Digital radio', 'On-board computer', 'Radio', 'Sound system']                         1\n",
      "['Bluetooth', 'CD player', 'On-board computer', 'Sound system', 'USB']                               1\n",
      "['Bluetooth', 'CD player', 'Digital radio', 'On-board computer']                                     1\n",
      "['CD player', 'Hands-free equipment', 'MP3', 'Radio']                                                1\n",
      "Name: Entertainment_Media, Length: 346, dtype: int64\n"
     ]
    }
   ],
   "source": [
    "check_col(df,'Entertainment_Media')#getdummy() uygulanacak."
   ]
  },
  {
   "cell_type": "markdown",
   "id": "66a5cc6c",
   "metadata": {},
   "source": [
    "##  Extras"
   ]
  },
  {
   "cell_type": "code",
   "execution_count": 80,
   "id": "7ddfc852",
   "metadata": {},
   "outputs": [
    {
     "name": "stdout",
     "output_type": "stream",
     "text": [
      "Extras , Sumation of isnull : 0\n",
      "-----------------\n",
      "Samples for Extras \n",
      " 7522                                Roof rack,Touch screen\n",
      "2666                      Alloy wheels,Ski bag,Sport seats\n",
      "10940                            Alloy wheels,Touch screen\n",
      "3595     Alloy wheels,Shift paddles,Ski bag,Sport packa...\n",
      "12409    Alloy wheels,Roof rack,Touch screen,Voice Control\n",
      "9150                                          Alloy wheels\n",
      "6756                             Alloy wheels,Touch screen\n",
      "13624                                  Catalytic Converter\n",
      "6296                               Roof rack,Trailer hitch\n",
      "15608                                         Alloy wheels\n",
      "Name: Extras, dtype: object\n",
      "-----------------\n",
      "Extras Value_counts is \n",
      " Alloy wheels                                                                                                             3900\n",
      "Alloy wheels,Touch screen                                                                                                 833\n",
      "Alloy wheels,Voice Control                                                                                                701\n",
      "Alloy wheels,Touch screen,Voice Control                                                                                   639\n",
      "Roof rack                                                                                                                 525\n",
      "                                                                                                                         ... \n",
      "Alloy wheels,Catalytic Converter,Roof rack,Shift paddles,Ski bag,Sport seats,Touch screen,Trailer hitch,Voice Control       1\n",
      "Alloy wheels,Shift paddles,Sport seats,Sport suspension,Trailer hitch,Voice Control                                         1\n",
      "Alloy wheels,Catalytic Converter,Ski bag,Sport seats,Touch screen,Tuned car                                                 1\n",
      "Alloy wheels,Catalytic Converter,Roof rack,Sport suspension,Voice Control,Winter tyres                                      1\n",
      "Shift paddles,Voice Control                                                                                                 1\n",
      "Name: Extras, Length: 659, dtype: int64\n"
     ]
    }
   ],
   "source": [
    "check_col(df,'Extras') #getdummy() uygulanacak"
   ]
  },
  {
   "cell_type": "markdown",
   "id": "a647554f",
   "metadata": {},
   "source": [
    "## Safety_Security"
   ]
  },
  {
   "cell_type": "code",
   "execution_count": 79,
   "id": "a4354c9f",
   "metadata": {},
   "outputs": [
    {
     "name": "stdout",
     "output_type": "stream",
     "text": [
      "Safety_Security , Sumation of isnull : 0\n",
      "-----------------\n",
      "Samples for Safety_Security \n",
      " 13317    ABS,Central door lock,Daytime running lights,D...\n",
      "6395     ABS,Central door lock,Daytime running lights,D...\n",
      "1220     ABS,Central door lock,Daytime running lights,D...\n",
      "5357     ABS,Electronic stability control,Fog lights,He...\n",
      "8598     ABS,Central door lock,Central door lock with r...\n",
      "9354     ABS,Central door lock,Driver-side airbag,Immob...\n",
      "2304     Electronic stability control,Emergency brake a...\n",
      "10189    ABS,Central door lock,Daytime running lights,D...\n",
      "1558     ABS,Central door lock,Daytime running lights,D...\n",
      "4796     ABS,Central door lock,Driver-side airbag,Elect...\n",
      "Name: Safety_Security, dtype: object\n",
      "-----------------\n",
      "Safety_Security Value_counts is \n",
      " ABS,Central door lock,Daytime running lights,Driver-side airbag,Electronic stability control,Fog lights,Immobilizer,Isofix,Passenger-side airbag,Power steering,Side airbag,Tire pressure monitoring system,Traction control                                                                                                             567\n",
      "ABS,Central door lock,Daytime running lights,Driver-side airbag,Electronic stability control,Immobilizer,Isofix,Passenger-side airbag,Power steering,Side airbag,Tire pressure monitoring system,Traction control                                                                                                                        515\n",
      "ABS,Central door lock,Daytime running lights,Driver-side airbag,Electronic stability control,Immobilizer,Isofix,LED Daytime Running Lights,Passenger-side airbag,Power steering,Side airbag,Tire pressure monitoring system,Traction control                                                                                             285\n",
      "ABS,Central door lock,Daytime running lights,Driver-side airbag,Electronic stability control,Fog lights,Immobilizer,Isofix,LED Daytime Running Lights,Passenger-side airbag,Power steering,Side airbag,Tire pressure monitoring system,Traction control                                                                                  284\n",
      "ABS,Central door lock,Daytime running lights,Driver-side airbag,Electronic stability control,Immobilizer,Isofix,Passenger-side airbag,Power steering,Side airbag,Tire pressure monitoring system,Traction control,Xenon headlights                                                                                                       277\n",
      "                                                                                                                                                                                                                                                                                                                                        ... \n",
      "ABS,Central door lock,Central door lock with remote control,Driver-side airbag,Electronic stability control,Head airbag,Immobilizer,LED Daytime Running Lights,Passenger-side airbag,Power steering,Side airbag,Tire pressure monitoring system,Traction control,Xenon headlights                                                          1\n",
      "ABS,Central door lock,Central door lock with remote control,Driver-side airbag,Fog lights,Immobilizer,Isofix,Lane departure warning system,LED Daytime Running Lights,Passenger-side airbag,Power steering,Side airbag,Tire pressure monitoring system                                                                                     1\n",
      "ABS,Central door lock,Driver-side airbag,Electronic stability control,Fog lights,Isofix,LED Daytime Running Lights,Passenger-side airbag,Power steering,Side airbag                                                                                                                                                                        1\n",
      "ABS,Central door lock,Daytime running lights,Driver-side airbag,Electronic stability control,Emergency brake assistant,Emergency system,Fog lights,Immobilizer,Isofix,Lane departure warning system,LED Headlights,Passenger-side airbag,Power steering,Side airbag,Tire pressure monitoring system,Traction control,Xenon headlights      1\n",
      "ABS,Adaptive Cruise Control,Central door lock,Daytime running lights,Driver-side airbag,Electronic stability control,Immobilizer,Lane departure warning system,LED Headlights,Passenger-side airbag,Power steering,Side airbag,Tire pressure monitoring system                                                                             1\n",
      "Name: Safety_Security, Length: 4443, dtype: int64\n"
     ]
    }
   ],
   "source": [
    "check_col(df,'Safety_Security') #getdummy() uygulanacak."
   ]
  },
  {
   "cell_type": "markdown",
   "id": "6996646d",
   "metadata": {},
   "source": [
    "##  Gears"
   ]
  },
  {
   "cell_type": "code",
   "execution_count": 82,
   "id": "388b7c6f",
   "metadata": {},
   "outputs": [
    {
     "name": "stdout",
     "output_type": "stream",
     "text": [
      "Gears , Sumation of isnull : 0\n",
      "-----------------\n",
      "Samples for Gears \n",
      " 8837     6.0\n",
      "3983     7.0\n",
      "10353    5.0\n",
      "14423    6.0\n",
      "5050     7.0\n",
      "7831     6.0\n",
      "13049    6.0\n",
      "3333     7.0\n",
      "6463     6.0\n",
      "4185     6.0\n",
      "Name: Gears, dtype: float64\n",
      "-----------------\n",
      "Gears Value_counts is \n",
      " 6.0     8410\n",
      "5.0     5363\n",
      "7.0     1908\n",
      "8.0      224\n",
      "9.0        6\n",
      "4.0        2\n",
      "1.0        2\n",
      "3.0        2\n",
      "50.0       1\n",
      "2.0        1\n",
      "Name: Gears, dtype: int64\n"
     ]
    }
   ],
   "source": [
    "check_col(df,'Gears') "
   ]
  },
  {
   "cell_type": "code",
   "execution_count": 83,
   "id": "9ee298d5",
   "metadata": {},
   "outputs": [],
   "source": [
    "Gears_anomalies=list(df[(df.Gears == 50) | (df.Gears <5)].index)"
   ]
  },
  {
   "cell_type": "code",
   "execution_count": 84,
   "id": "805bfe16",
   "metadata": {},
   "outputs": [],
   "source": [
    "df.loc[Gears_anomalies,'Gears']= np.nan"
   ]
  },
  {
   "cell_type": "code",
   "execution_count": 85,
   "id": "8c848a20",
   "metadata": {},
   "outputs": [
    {
     "name": "stdout",
     "output_type": "stream",
     "text": [
      "Number of NaN :  0\n",
      "------------------\n",
      "6.0    8414\n",
      "5.0    5367\n",
      "7.0    1908\n",
      "8.0     224\n",
      "9.0       6\n",
      "Name: Gears, dtype: int64\n"
     ]
    }
   ],
   "source": [
    "fill(df,'Model','Body_Type','Gears','mode')"
   ]
  },
  {
   "cell_type": "code",
   "execution_count": 86,
   "id": "68bca6b6",
   "metadata": {},
   "outputs": [],
   "source": [
    "df.drop('Gears',axis = 1,inplace = True)"
   ]
  },
  {
   "cell_type": "markdown",
   "id": "bf626d07",
   "metadata": {},
   "source": [
    "## Body_Type"
   ]
  },
  {
   "cell_type": "code",
   "execution_count": 87,
   "id": "0b751c7f",
   "metadata": {},
   "outputs": [
    {
     "name": "stdout",
     "output_type": "stream",
     "text": [
      "Body_Type , Sumation of isnull : 0\n",
      "-----------------\n",
      "Samples for Body_Type \n",
      " 7842     Station wagon\n",
      "1260             Sedan\n",
      "6331             Sedan\n",
      "15528              Van\n",
      "13903            Sedan\n",
      "15348              Van\n",
      "2897             Sedan\n",
      "6659     Station wagon\n",
      "14943              Van\n",
      "12911    Station wagon\n",
      "Name: Body_Type, dtype: object\n",
      "-----------------\n",
      "Body_Type Value_counts is \n",
      " Sedan            8005\n",
      "Station wagon    3678\n",
      "Compact          3242\n",
      "Van               817\n",
      "Transporter        88\n",
      "Off-Road           56\n",
      "Coupe              25\n",
      "Convertible         8\n",
      "Name: Body_Type, dtype: int64\n"
     ]
    }
   ],
   "source": [
    "check_col(df,'Body_Type') "
   ]
  },
  {
   "cell_type": "markdown",
   "id": "8271edca",
   "metadata": {},
   "source": [
    "## VAT_Deductable"
   ]
  },
  {
   "cell_type": "code",
   "execution_count": 88,
   "id": "291ac16f",
   "metadata": {},
   "outputs": [
    {
     "name": "stdout",
     "output_type": "stream",
     "text": [
      "VAT_Deductable , Sumation of isnull : 0\n",
      "-----------------\n",
      "Samples for VAT_Deductable \n",
      " 10323     True\n",
      "5495      True\n",
      "7777      True\n",
      "392      False\n",
      "1831      True\n",
      "14200    False\n",
      "5537      True\n",
      "4571      True\n",
      "7687      True\n",
      "3790      True\n",
      "Name: VAT_Deductable, dtype: bool\n",
      "-----------------\n",
      "VAT_Deductable Value_counts is \n",
      " True     10980\n",
      "False     4939\n",
      "Name: VAT_Deductable, dtype: int64\n"
     ]
    }
   ],
   "source": [
    "check_col(df,'VAT_Deductable') "
   ]
  },
  {
   "cell_type": "markdown",
   "id": "bbb524b4",
   "metadata": {},
   "source": [
    "## Price_Negotiable"
   ]
  },
  {
   "cell_type": "code",
   "execution_count": 89,
   "id": "6f5f9474",
   "metadata": {
    "scrolled": true
   },
   "outputs": [
    {
     "name": "stdout",
     "output_type": "stream",
     "text": [
      "Price_Negotiable , Sumation of isnull : 0\n",
      "-----------------\n",
      "Samples for Price_Negotiable \n",
      " 8800     False\n",
      "4075     False\n",
      "2813     False\n",
      "6622     False\n",
      "5173     False\n",
      "2279     False\n",
      "1055     False\n",
      "10772    False\n",
      "14570    False\n",
      "5929     False\n",
      "Name: Price_Negotiable, dtype: bool\n",
      "-----------------\n",
      "Price_Negotiable Value_counts is \n",
      " False    15493\n",
      "True       426\n",
      "Name: Price_Negotiable, dtype: int64\n"
     ]
    }
   ],
   "source": [
    "check_col(df,'Price_Negotiable') "
   ]
  },
  {
   "cell_type": "code",
   "execution_count": 90,
   "id": "80415cc4",
   "metadata": {},
   "outputs": [],
   "source": [
    "df.drop('Price_Negotiable',axis = 1, inplace = True)"
   ]
  },
  {
   "cell_type": "markdown",
   "id": "e5b40f1b",
   "metadata": {},
   "source": [
    "## Prev_Owner"
   ]
  },
  {
   "cell_type": "code",
   "execution_count": 91,
   "id": "9dd015ec",
   "metadata": {},
   "outputs": [
    {
     "name": "stdout",
     "output_type": "stream",
     "text": [
      "Prev_Owner , Sumation of isnull : 0\n",
      "-----------------\n",
      "Samples for Prev_Owner \n",
      " 14461    1.0\n",
      "1781     1.0\n",
      "12047    1.0\n",
      "10853    1.0\n",
      "12990    1.0\n",
      "326      1.0\n",
      "13190    1.0\n",
      "288      1.0\n",
      "6816     1.0\n",
      "1965     1.0\n",
      "Name: Prev_Owner, dtype: float64\n",
      "-----------------\n",
      "Prev_Owner Value_counts is \n",
      " 1.0    15055\n",
      "2.0      845\n",
      "3.0       17\n",
      "4.0        2\n",
      "Name: Prev_Owner, dtype: int64\n"
     ]
    }
   ],
   "source": [
    "check_col(df,'Prev_Owner') "
   ]
  },
  {
   "cell_type": "code",
   "execution_count": 92,
   "id": "8fa3cee4",
   "metadata": {},
   "outputs": [],
   "source": [
    "df.drop('Prev_Owner',axis = 1,inplace = True)"
   ]
  },
  {
   "cell_type": "markdown",
   "id": "9395690f",
   "metadata": {},
   "source": [
    "## Inspection_New"
   ]
  },
  {
   "cell_type": "code",
   "execution_count": 93,
   "id": "1803d074",
   "metadata": {},
   "outputs": [
    {
     "name": "stdout",
     "output_type": "stream",
     "text": [
      "Inspection_New , Sumation of isnull : 0\n",
      "-----------------\n",
      "Samples for Inspection_New \n",
      " 12951     No\n",
      "15328     No\n",
      "7300      No\n",
      "10756     No\n",
      "4594      No\n",
      "523      Yes\n",
      "11959     No\n",
      "3190      No\n",
      "12774     No\n",
      "12150     No\n",
      "Name: Inspection_New, dtype: object\n",
      "-----------------\n",
      "Inspection_New Value_counts is \n",
      " No     11987\n",
      "Yes     3932\n",
      "Name: Inspection_New, dtype: int64\n"
     ]
    }
   ],
   "source": [
    "check_col(df,'Inspection_New') "
   ]
  },
  {
   "cell_type": "markdown",
   "id": "c715f6bf",
   "metadata": {},
   "source": [
    "## Body_Color"
   ]
  },
  {
   "cell_type": "code",
   "execution_count": 94,
   "id": "d6ed39f5",
   "metadata": {},
   "outputs": [
    {
     "name": "stdout",
     "output_type": "stream",
     "text": [
      "Body_Color , Sumation of isnull : 0\n",
      "-----------------\n",
      "Samples for Body_Color \n",
      " 6059      Black\n",
      "10694    Silver\n",
      "10044      Blue\n",
      "10938     Black\n",
      "12462     Black\n",
      "2088        Red\n",
      "3117     Silver\n",
      "8232      Black\n",
      "14060       Red\n",
      "3964      Black\n",
      "Name: Body_Color, dtype: object\n",
      "-----------------\n",
      "Body_Color Value_counts is \n",
      " Black     3900\n",
      "Grey      3615\n",
      "White     3520\n",
      "Silver    1707\n",
      "Blue      1522\n",
      "Red        995\n",
      "Brown      298\n",
      "Green      166\n",
      "Beige      116\n",
      "Yellow      51\n",
      "Violet      18\n",
      "Bronze       6\n",
      "Orange       3\n",
      "Gold         2\n",
      "Name: Body_Color, dtype: int64\n"
     ]
    }
   ],
   "source": [
    "check_col(df,'Body_Color') "
   ]
  },
  {
   "cell_type": "code",
   "execution_count": 95,
   "id": "d7a3b817",
   "metadata": {},
   "outputs": [],
   "source": [
    "df.drop('Body_Color',axis = 1, inplace = True)"
   ]
  },
  {
   "cell_type": "markdown",
   "id": "5000c771",
   "metadata": {},
   "source": [
    "## Paint_Type"
   ]
  },
  {
   "cell_type": "code",
   "execution_count": 96,
   "id": "410eddd8",
   "metadata": {},
   "outputs": [
    {
     "name": "stdout",
     "output_type": "stream",
     "text": [
      "Paint_Type , Sumation of isnull : 0\n",
      "-----------------\n",
      "Samples for Paint_Type \n",
      " 14315    Metallic\n",
      "15845    Metallic\n",
      "4593     Metallic\n",
      "15851    Metallic\n",
      "4681     Metallic\n",
      "1263     Metallic\n",
      "2123     Metallic\n",
      "5910     Metallic\n",
      "13804    Metallic\n",
      "8296     Metallic\n",
      "Name: Paint_Type, dtype: object\n",
      "-----------------\n",
      "Paint_Type Value_counts is \n",
      " Metallic       15549\n",
      "Uni/basic        364\n",
      "Perl effect        6\n",
      "Name: Paint_Type, dtype: int64\n"
     ]
    }
   ],
   "source": [
    "check_col(df,'Paint_Type') "
   ]
  },
  {
   "cell_type": "markdown",
   "id": "1b2dbf45",
   "metadata": {},
   "source": [
    "## Uphol_Material"
   ]
  },
  {
   "cell_type": "code",
   "execution_count": 97,
   "id": "dce820f8",
   "metadata": {
    "scrolled": true
   },
   "outputs": [
    {
     "name": "stdout",
     "output_type": "stream",
     "text": [
      "Uphol_Material , Sumation of isnull : 0\n",
      "-----------------\n",
      "Samples for Uphol_Material \n",
      " 10800           Cloth\n",
      "8961            Cloth\n",
      "15127    Part leather\n",
      "4497            Cloth\n",
      "9302            Cloth\n",
      "8794            Cloth\n",
      "8569            Cloth\n",
      "4526            Cloth\n",
      "9637            Cloth\n",
      "11153           Cloth\n",
      "Name: Uphol_Material, dtype: object\n",
      "-----------------\n",
      "Uphol_Material Value_counts is \n",
      " Cloth           11693\n",
      "Part leather     2135\n",
      "Full leather     1402\n",
      "Other             518\n",
      "alcantara          92\n",
      "Velour             79\n",
      "Name: Uphol_Material, dtype: int64\n"
     ]
    }
   ],
   "source": [
    "check_col(df,'Uphol_Material') "
   ]
  },
  {
   "cell_type": "code",
   "execution_count": null,
   "id": "5a36c52a",
   "metadata": {},
   "outputs": [],
   "source": []
  },
  {
   "cell_type": "code",
   "execution_count": null,
   "id": "4e4960f1",
   "metadata": {},
   "outputs": [],
   "source": []
  },
  {
   "cell_type": "code",
   "execution_count": null,
   "id": "3638865b",
   "metadata": {},
   "outputs": [],
   "source": []
  },
  {
   "cell_type": "code",
   "execution_count": null,
   "id": "b5804ecc",
   "metadata": {},
   "outputs": [],
   "source": []
  },
  {
   "cell_type": "markdown",
   "id": "a4928758",
   "metadata": {},
   "source": [
    "##  Uphol_Colors"
   ]
  },
  {
   "cell_type": "code",
   "execution_count": 98,
   "id": "82b8492d",
   "metadata": {},
   "outputs": [
    {
     "name": "stdout",
     "output_type": "stream",
     "text": [
      "Uphol_Colors , Sumation of isnull : 0\n",
      "-----------------\n",
      "Samples for Uphol_Colors \n",
      " 10126    Black\n",
      "1897     Black\n",
      "10565    Other\n",
      "11455    Black\n",
      "8136     Cloth\n",
      "11188    Black\n",
      "2981     Black\n",
      "7357     Black\n",
      "7851     Black\n",
      "915      Black\n",
      "Name: Uphol_Colors, dtype: object\n",
      "-----------------\n",
      "Uphol_Colors Value_counts is \n",
      " Black           10481\n",
      "Grey             1975\n",
      "Other            1416\n",
      "Cloth            1215\n",
      "Brown             318\n",
      "Full leather      182\n",
      "Part leather      180\n",
      "Beige              70\n",
      "White              27\n",
      "Blue               22\n",
      "Velour             16\n",
      "Red                10\n",
      "Yellow              4\n",
      "alcantara           2\n",
      "Orange              1\n",
      "Name: Uphol_Colors, dtype: int64\n"
     ]
    }
   ],
   "source": [
    "check_col(df,'Uphol_Colors') "
   ]
  },
  {
   "cell_type": "code",
   "execution_count": 99,
   "id": "d557b72d",
   "metadata": {},
   "outputs": [],
   "source": [
    "df.drop('Uphol_Colors',axis =1,inplace = True)"
   ]
  },
  {
   "cell_type": "markdown",
   "id": "4b9701f8",
   "metadata": {},
   "source": [
    "## Country_Cons"
   ]
  },
  {
   "cell_type": "code",
   "execution_count": 100,
   "id": "0954fbbb",
   "metadata": {},
   "outputs": [
    {
     "name": "stdout",
     "output_type": "stream",
     "text": [
      "Country_Cons , Sumation of isnull : 0\n",
      "-----------------\n",
      "Samples for Country_Cons \n",
      " 10018    7.8\n",
      "1192     4.3\n",
      "14541    7.2\n",
      "8207     6.3\n",
      "1167     5.2\n",
      "15840    6.2\n",
      "6803     4.0\n",
      "603      5.0\n",
      "8249     7.8\n",
      "5160     6.4\n",
      "Name: Country_Cons, dtype: float64\n",
      "-----------------\n",
      "Country_Cons Value_counts is \n",
      " 5.0    1024\n",
      "4.0     957\n",
      "5.8     678\n",
      "4.5     677\n",
      "5.1     636\n",
      "       ... \n",
      "3.6       2\n",
      "9.0       2\n",
      "8.8       2\n",
      "9.5       2\n",
      "9.7       1\n",
      "Name: Country_Cons, Length: 69, dtype: int64\n"
     ]
    }
   ],
   "source": [
    "check_col(df,'Country_Cons') "
   ]
  },
  {
   "cell_type": "code",
   "execution_count": 101,
   "id": "320ae554",
   "metadata": {},
   "outputs": [],
   "source": [
    "df.drop('Country_Cons',axis =1,inplace = True)"
   ]
  },
  {
   "cell_type": "markdown",
   "id": "e63988a9",
   "metadata": {},
   "source": [
    "## City_Cons"
   ]
  },
  {
   "cell_type": "code",
   "execution_count": 102,
   "id": "c7bf24a9",
   "metadata": {},
   "outputs": [
    {
     "name": "stdout",
     "output_type": "stream",
     "text": [
      "City_Cons , Sumation of isnull : 0\n",
      "-----------------\n",
      "Samples for City_Cons \n",
      " 515      4.2\n",
      "5454     4.7\n",
      "12103    4.7\n",
      "15152    4.4\n",
      "11623    3.3\n",
      "4562     3.9\n",
      "10753    4.0\n",
      "46       3.4\n",
      "3831     4.1\n",
      "7206     4.4\n",
      "Name: City_Cons, dtype: float64\n",
      "-----------------\n",
      "City_Cons Value_counts is \n",
      " 4.2    1410\n",
      "3.7    1230\n",
      "4.4    1144\n",
      "4.5    1049\n",
      "3.8     941\n",
      "3.9     937\n",
      "4.1     718\n",
      "4.0     712\n",
      "4.7     705\n",
      "4.3     627\n",
      "3.5     610\n",
      "4.6     590\n",
      "3.1     574\n",
      "3.6     562\n",
      "3.3     559\n",
      "4.9     547\n",
      "3.4     419\n",
      "4.8     372\n",
      "5.3     319\n",
      "5.1     255\n",
      "5.7     244\n",
      "5.4     243\n",
      "3.2     211\n",
      "5.6     181\n",
      "3.0     177\n",
      "5.0     143\n",
      "5.2     100\n",
      "6.3      55\n",
      "5.5      44\n",
      "6.0      43\n",
      "5.8      35\n",
      "1.0      35\n",
      "7.7      20\n",
      "6.6      19\n",
      "6.4      16\n",
      "2.9      16\n",
      "0.0      12\n",
      "2.8      10\n",
      "7.1       7\n",
      "6.5       4\n",
      "7.3       4\n",
      "5.9       3\n",
      "6.7       3\n",
      "2.0       3\n",
      "6.9       3\n",
      "7.8       2\n",
      "7.0       2\n",
      "7.6       1\n",
      "6.1       1\n",
      "8.0       1\n",
      "8.6       1\n",
      "Name: City_Cons, dtype: int64\n"
     ]
    }
   ],
   "source": [
    "check_col(df,'City_Cons') "
   ]
  },
  {
   "cell_type": "code",
   "execution_count": 103,
   "id": "abd0d2aa",
   "metadata": {},
   "outputs": [],
   "source": [
    "df.drop('City_Cons',axis =1,inplace = True)"
   ]
  },
  {
   "cell_type": "markdown",
   "id": "e79af561",
   "metadata": {},
   "source": [
    "## Comb_Cons"
   ]
  },
  {
   "cell_type": "code",
   "execution_count": 104,
   "id": "1d635cd1",
   "metadata": {},
   "outputs": [
    {
     "name": "stdout",
     "output_type": "stream",
     "text": [
      "Comb_Cons , Sumation of isnull : 0\n",
      "-----------------\n",
      "Samples for Comb_Cons \n",
      " 1005     4.9\n",
      "7839     5.6\n",
      "11646    4.5\n",
      "6328     3.9\n",
      "4985     4.2\n",
      "3297     4.0\n",
      "2457     4.6\n",
      "9236     5.3\n",
      "6215     3.6\n",
      "7843     5.6\n",
      "Name: Comb_Cons, dtype: float64\n",
      "-----------------\n",
      "Comb_Cons Value_counts is \n",
      " 5.4    834\n",
      "3.9    814\n",
      "4.0    799\n",
      "5.6    774\n",
      "5.1    739\n",
      "3.8    726\n",
      "4.7    725\n",
      "4.4    711\n",
      "5.0    616\n",
      "4.5    606\n",
      "4.8    596\n",
      "4.6    552\n",
      "5.2    524\n",
      "4.2    485\n",
      "5.3    479\n",
      "5.5    437\n",
      "4.9    428\n",
      "3.7    414\n",
      "3.3    396\n",
      "5.9    393\n",
      "4.3    391\n",
      "4.1    389\n",
      "5.7    386\n",
      "3.5    344\n",
      "6.0    341\n",
      "6.2    233\n",
      "3.6    218\n",
      "5.8    199\n",
      "6.3    189\n",
      "6.1    176\n",
      "6.6    171\n",
      "6.8    149\n",
      "3.4    126\n",
      "3.0     82\n",
      "6.4     77\n",
      "7.4     70\n",
      "6.7     52\n",
      "6.5     39\n",
      "1.0     38\n",
      "7.1     38\n",
      "3.2     33\n",
      "6.9     28\n",
      "8.3     21\n",
      "7.6     14\n",
      "7.0     12\n",
      "3.1     11\n",
      "7.8     10\n",
      "7.2      8\n",
      "8.0      6\n",
      "8.6      5\n",
      "8.7      3\n",
      "7.9      2\n",
      "7.5      2\n",
      "7.3      2\n",
      "8.1      2\n",
      "0.0      2\n",
      "1.2      1\n",
      "9.1      1\n",
      "Name: Comb_Cons, dtype: int64\n"
     ]
    }
   ],
   "source": [
    "check_col(df,'Comb_Cons') "
   ]
  },
  {
   "cell_type": "markdown",
   "id": "765e17b0",
   "metadata": {},
   "source": [
    "## New_KM"
   ]
  },
  {
   "cell_type": "code",
   "execution_count": 105,
   "id": "62e79f91",
   "metadata": {},
   "outputs": [
    {
     "name": "stdout",
     "output_type": "stream",
     "text": [
      "New_KM , Sumation of isnull : 0\n",
      "-----------------\n",
      "Samples for New_KM \n",
      " 9351     12843.0\n",
      "13754    93000.0\n",
      "8743     46631.0\n",
      "13649    92130.0\n",
      "6172     79800.0\n",
      "4311     28400.0\n",
      "10413       10.0\n",
      "4805     32191.0\n",
      "3684     38000.0\n",
      "6356     24890.0\n",
      "Name: New_KM, dtype: float64\n",
      "-----------------\n",
      "New_KM Value_counts is \n",
      " 10.000000       1045\n",
      "1748.271975      812\n",
      "1.000000         367\n",
      "17479.470969     180\n",
      "5.000000         170\n",
      "                ... \n",
      "20719.000000       1\n",
      "91910.000000       1\n",
      "39860.000000       1\n",
      "28084.000000       1\n",
      "57889.000000       1\n",
      "Name: New_KM, Length: 6693, dtype: int64\n"
     ]
    }
   ],
   "source": [
    "check_col(df,'New_KM') "
   ]
  },
  {
   "cell_type": "code",
   "execution_count": 107,
   "id": "5b157dd8",
   "metadata": {},
   "outputs": [],
   "source": [
    "df.rename(columns = {'New_KM':'KM'}, inplace = True)"
   ]
  },
  {
   "cell_type": "code",
   "execution_count": 108,
   "id": "5dae4043",
   "metadata": {},
   "outputs": [
    {
     "data": {
      "text/plain": [
       "Index(['Price', 'hp', 'Type', 'Brand', 'Model', 'Age', 'Gearing_Type',\n",
       "       'Engine_Disp_cc', 'Cylinders', 'Fuel', 'Comfort_Convenience',\n",
       "       'Entertainment_Media', 'Extras', 'Safety_Security', 'Body_Type',\n",
       "       'VAT_Deductable', 'Inspection_New', 'Paint_Type', 'Uphol_Material',\n",
       "       'Comb_Cons', 'KM'],\n",
       "      dtype='object')"
      ]
     },
     "execution_count": 108,
     "metadata": {},
     "output_type": "execute_result"
    }
   ],
   "source": [
    "df.columns"
   ]
  },
  {
   "cell_type": "code",
   "execution_count": 109,
   "id": "aa336276",
   "metadata": {},
   "outputs": [
    {
     "data": {
      "text/plain": [
       "(15919, 21)"
      ]
     },
     "execution_count": 109,
     "metadata": {},
     "output_type": "execute_result"
    }
   ],
   "source": [
    "df.shape"
   ]
  },
  {
   "cell_type": "code",
   "execution_count": null,
   "id": "b5938b4d",
   "metadata": {},
   "outputs": [],
   "source": []
  },
  {
   "cell_type": "code",
   "execution_count": null,
   "id": "a82c8533",
   "metadata": {},
   "outputs": [],
   "source": [
    "hp_anomali=list(df[df.hp < 44].index)"
   ]
  },
  {
   "cell_type": "code",
   "execution_count": null,
   "id": "32d623b3",
   "metadata": {},
   "outputs": [],
   "source": [
    "df.loc[hp_anomali,'hp']= np.nan"
   ]
  },
  {
   "cell_type": "code",
   "execution_count": null,
   "id": "263254d5",
   "metadata": {},
   "outputs": [],
   "source": [
    "df.loc[hp_anomali,'hp']"
   ]
  },
  {
   "cell_type": "code",
   "execution_count": null,
   "id": "8ceee380",
   "metadata": {},
   "outputs": [],
   "source": [
    "list(df.columns)"
   ]
  },
  {
   "cell_type": "code",
   "execution_count": null,
   "id": "9d1b036d",
   "metadata": {},
   "outputs": [],
   "source": []
  },
  {
   "cell_type": "code",
   "execution_count": null,
   "id": "90756265",
   "metadata": {},
   "outputs": [],
   "source": []
  },
  {
   "cell_type": "code",
   "execution_count": null,
   "id": "005bf8c8",
   "metadata": {},
   "outputs": [],
   "source": []
  },
  {
   "cell_type": "code",
   "execution_count": 106,
   "id": "5aae619e",
   "metadata": {},
   "outputs": [
    {
     "data": {
      "text/plain": [
       "Index(['Price', 'hp', 'Type', 'Brand', 'Model', 'Age', 'Gearing_Type',\n",
       "       'Engine_Disp_cc', 'Cylinders', 'Fuel', 'Comfort_Convenience',\n",
       "       'Entertainment_Media', 'Extras', 'Safety_Security', 'Body_Type',\n",
       "       'VAT_Deductable', 'Inspection_New', 'Paint_Type', 'Uphol_Material',\n",
       "       'Comb_Cons', 'New_KM'],\n",
       "      dtype='object')"
      ]
     },
     "execution_count": 106,
     "metadata": {},
     "output_type": "execute_result"
    }
   ],
   "source": [
    "df.columns"
   ]
  },
  {
   "cell_type": "code",
   "execution_count": null,
   "id": "03ca749d",
   "metadata": {},
   "outputs": [],
   "source": []
  },
  {
   "cell_type": "code",
   "execution_count": null,
   "id": "4fdf9ec6",
   "metadata": {},
   "outputs": [],
   "source": []
  },
  {
   "cell_type": "code",
   "execution_count": null,
   "id": "f49e2118",
   "metadata": {},
   "outputs": [],
   "source": []
  },
  {
   "cell_type": "code",
   "execution_count": null,
   "id": "13ef7ae6",
   "metadata": {},
   "outputs": [],
   "source": []
  },
  {
   "cell_type": "code",
   "execution_count": null,
   "id": "084c4169",
   "metadata": {},
   "outputs": [],
   "source": []
  },
  {
   "cell_type": "code",
   "execution_count": null,
   "id": "84a290f1",
   "metadata": {},
   "outputs": [],
   "source": []
  },
  {
   "cell_type": "code",
   "execution_count": null,
   "id": "2fb31b83",
   "metadata": {},
   "outputs": [],
   "source": []
  },
  {
   "cell_type": "code",
   "execution_count": null,
   "id": "07a6fa59",
   "metadata": {},
   "outputs": [],
   "source": []
  },
  {
   "cell_type": "code",
   "execution_count": null,
   "id": "166d710b",
   "metadata": {},
   "outputs": [],
   "source": []
  },
  {
   "cell_type": "code",
   "execution_count": null,
   "id": "2a985c4c",
   "metadata": {},
   "outputs": [],
   "source": []
  },
  {
   "cell_type": "code",
   "execution_count": null,
   "id": "8e8af861",
   "metadata": {},
   "outputs": [],
   "source": []
  },
  {
   "cell_type": "code",
   "execution_count": null,
   "id": "858fb3f4",
   "metadata": {},
   "outputs": [],
   "source": []
  },
  {
   "cell_type": "code",
   "execution_count": null,
   "id": "8481f46e",
   "metadata": {},
   "outputs": [],
   "source": []
  },
  {
   "cell_type": "code",
   "execution_count": null,
   "id": "f9ec6296",
   "metadata": {},
   "outputs": [],
   "source": []
  },
  {
   "cell_type": "code",
   "execution_count": null,
   "id": "cb2b218f",
   "metadata": {},
   "outputs": [],
   "source": []
  }
 ],
 "metadata": {
  "kernelspec": {
   "display_name": "Python 3",
   "language": "python",
   "name": "python3"
  },
  "language_info": {
   "codemirror_mode": {
    "name": "ipython",
    "version": 3
   },
   "file_extension": ".py",
   "mimetype": "text/x-python",
   "name": "python",
   "nbconvert_exporter": "python",
   "pygments_lexer": "ipython3",
   "version": "3.8.8"
  }
 },
 "nbformat": 4,
 "nbformat_minor": 5
}
