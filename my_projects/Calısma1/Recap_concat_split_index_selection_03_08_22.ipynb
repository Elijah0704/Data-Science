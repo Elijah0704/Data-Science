{
  "nbformat": 4,
  "nbformat_minor": 0,
  "metadata": {
    "colab": {
      "name": "Recap_concat_split_index_selection_03_08_22.ipynb",
      "provenance": [],
      "collapsed_sections": []
    },
    "kernelspec": {
      "name": "python3",
      "display_name": "Python 3"
    },
    "language_info": {
      "name": "python"
    }
  },
  "cells": [
    {
      "cell_type": "markdown",
      "source": [
        "**.concatenate**()"
      ],
      "metadata": {
        "id": "OKfeEVdp0_aM"
      }
    },
    {
      "cell_type": "code",
      "execution_count": 80,
      "metadata": {
        "id": "dRyjsvcnqss9"
      },
      "outputs": [],
      "source": [
        "import numpy as np\n",
        "import pandas as pd"
      ]
    },
    {
      "cell_type": "code",
      "source": [
        "x = np.array([1, 2, 3])\n",
        "y = np.array([4, 5, 6])\n",
        "z = np.array([7, 8, 9])\n",
        "print(x)\n",
        "print(y)\n",
        "print(z)"
      ],
      "metadata": {
        "colab": {
          "base_uri": "https://localhost:8080/"
        },
        "id": "8HY1-pw4rBEM",
        "outputId": "56c8310a-4107-4dcc-dd21-7d70d5a6a387"
      },
      "execution_count": null,
      "outputs": [
        {
          "output_type": "stream",
          "name": "stdout",
          "text": [
            "[1 2 3]\n",
            "[4 5 6]\n",
            "[7 8 9]\n"
          ]
        }
      ]
    },
    {
      "cell_type": "code",
      "source": [
        "np.concatenate((x,y,z)) # farklı 1 boyutlu numpy array'lerini satır şeklinde soldan sağa birleştirir."
      ],
      "metadata": {
        "colab": {
          "base_uri": "https://localhost:8080/"
        },
        "id": "LPjERlYrrQ19",
        "outputId": "9d631339-2758-4b33-a7e8-6b2b9426e6bd"
      },
      "execution_count": null,
      "outputs": [
        {
          "output_type": "execute_result",
          "data": {
            "text/plain": [
              "array([1, 2, 3, 4, 5, 6, 7, 8, 9])"
            ]
          },
          "metadata": {},
          "execution_count": 11
        }
      ]
    },
    {
      "cell_type": "code",
      "source": [
        "np.concatenate((z,x,y)) # Farklı numpy array'ler yazıldıkları sıra ile birleştirilir."
      ],
      "metadata": {
        "colab": {
          "base_uri": "https://localhost:8080/"
        },
        "id": "iiBv0x-Or61s",
        "outputId": "cf6caa86-ade6-4d3d-89d9-951262f6bb19"
      },
      "execution_count": null,
      "outputs": [
        {
          "output_type": "execute_result",
          "data": {
            "text/plain": [
              "array([7, 8, 9, 1, 2, 3, 4, 5, 6])"
            ]
          },
          "metadata": {},
          "execution_count": 12
        }
      ]
    },
    {
      "cell_type": "code",
      "source": [
        "np.concatenate([x.reshape(1,3), y.reshape(1,3), z.reshape(1,3)], axis = 0) # .reshape() yeniden boyutlandrıma; reshape(1,3); \"satır(row) = 1\" , \"sütun(col.) = 3\"; \"axis = 0\" --> satır şeklinde çalış"
      ],
      "metadata": {
        "colab": {
          "base_uri": "https://localhost:8080/"
        },
        "id": "v34I28iesl7l",
        "outputId": "877ccf2e-8fd0-456a-8fd7-10aa49e67991"
      },
      "execution_count": null,
      "outputs": [
        {
          "output_type": "execute_result",
          "data": {
            "text/plain": [
              "array([[1, 2, 3],\n",
              "       [4, 5, 6],\n",
              "       [7, 8, 9]])"
            ]
          },
          "metadata": {},
          "execution_count": 15
        }
      ]
    },
    {
      "cell_type": "code",
      "source": [
        "np.concatenate([x.reshape(1,3), y.reshape(1,3), z.reshape(1,3)], axis = 1) # 0\" --> sütun  şeklinde çalış. "
      ],
      "metadata": {
        "colab": {
          "base_uri": "https://localhost:8080/"
        },
        "id": "kbIOwRIIsl18",
        "outputId": "fb5e1252-34f8-4f3c-d92f-2dc6ca68ce0c"
      },
      "execution_count": null,
      "outputs": [
        {
          "output_type": "execute_result",
          "data": {
            "text/plain": [
              "array([[1, 2, 3, 4, 5, 6, 7, 8, 9]])"
            ]
          },
          "metadata": {},
          "execution_count": 18
        }
      ]
    },
    {
      "cell_type": "code",
      "source": [
        "a = np.random.randint(10, size = (2,3)) # random methodu randint fonkisyonu ile 0 - 10 arası(10 hariç) rastgele int type'ta elamanlar üretildi. size(2,3) satır = 2, sutun =3\n",
        "b = np.random.randint(10, size = (2,3))"
      ],
      "metadata": {
        "id": "yBd7Np_PurPL"
      },
      "execution_count": null,
      "outputs": []
    },
    {
      "cell_type": "code",
      "source": [
        "a"
      ],
      "metadata": {
        "colab": {
          "base_uri": "https://localhost:8080/"
        },
        "id": "CNm3k-Guu7cc",
        "outputId": "bb1b0835-aa07-4ca8-c89c-76cfa207dbcd"
      },
      "execution_count": null,
      "outputs": [
        {
          "output_type": "execute_result",
          "data": {
            "text/plain": [
              "array([[4, 9, 2],\n",
              "       [4, 7, 8]])"
            ]
          },
          "metadata": {},
          "execution_count": 20
        }
      ]
    },
    {
      "cell_type": "code",
      "source": [
        "b"
      ],
      "metadata": {
        "colab": {
          "base_uri": "https://localhost:8080/"
        },
        "id": "qGOhioWmu7_A",
        "outputId": "62f33523-de4c-4c90-b21d-7994053b576d"
      },
      "execution_count": null,
      "outputs": [
        {
          "output_type": "execute_result",
          "data": {
            "text/plain": [
              "array([[9, 0, 7],\n",
              "       [9, 8, 2]])"
            ]
          },
          "metadata": {},
          "execution_count": 21
        }
      ]
    },
    {
      "cell_type": "code",
      "source": [
        "np.concatenate((a,b), axis = 0) # 2B array'de axis = 0 satır oluşturacak şekilde alt alta birleştir."
      ],
      "metadata": {
        "colab": {
          "base_uri": "https://localhost:8080/"
        },
        "id": "kPrZQ4E0vVKt",
        "outputId": "683141ed-f7cd-4c98-c446-d85be3dd7175"
      },
      "execution_count": null,
      "outputs": [
        {
          "output_type": "execute_result",
          "data": {
            "text/plain": [
              "array([[4, 9, 2],\n",
              "       [4, 7, 8],\n",
              "       [9, 0, 7],\n",
              "       [9, 8, 2]])"
            ]
          },
          "metadata": {},
          "execution_count": 22
        }
      ]
    },
    {
      "cell_type": "code",
      "source": [
        "np.concatenate((a,b), axis = 1) # 2B array'de axis = 1 sutun oluşturacak şekilde yan yana birleştir."
      ],
      "metadata": {
        "colab": {
          "base_uri": "https://localhost:8080/"
        },
        "id": "4DExmdEzvpd8",
        "outputId": "ce507375-ac67-412f-e8a8-53b3d2c9bd22"
      },
      "execution_count": null,
      "outputs": [
        {
          "output_type": "execute_result",
          "data": {
            "text/plain": [
              "array([[4, 9, 2, 9, 0, 7],\n",
              "       [4, 7, 8, 9, 8, 2]])"
            ]
          },
          "metadata": {},
          "execution_count": 23
        }
      ]
    },
    {
      "cell_type": "markdown",
      "source": [
        "**.split**()"
      ],
      "metadata": {
        "id": "ubm0RQYP1K_o"
      }
    },
    {
      "cell_type": "code",
      "source": [
        "z = np.array([21, 24, 25, 32, 34, 10, 11, 12]) # el ile array oluşturma\n",
        "z"
      ],
      "metadata": {
        "colab": {
          "base_uri": "https://localhost:8080/"
        },
        "id": "5coSPLJ6wBCc",
        "outputId": "a23caa17-b834-48ee-da2c-aa47d12104bf"
      },
      "execution_count": null,
      "outputs": [
        {
          "output_type": "execute_result",
          "data": {
            "text/plain": [
              "array([21, 24, 25, 32, 34, 10, 11, 12])"
            ]
          },
          "metadata": {},
          "execution_count": 26
        }
      ]
    },
    {
      "cell_type": "code",
      "source": [
        "np.split(z, [2,3]) # split array'i parçalara böler (2,3) ->> 2. index'e kadar böler,  2. index'ten 3. indekse ve sonra geri kalanlar şeklinde"
      ],
      "metadata": {
        "colab": {
          "base_uri": "https://localhost:8080/"
        },
        "id": "tQ03MC80wSVE",
        "outputId": "f41428fe-85f1-4def-8ed2-e5a48895fd45"
      },
      "execution_count": null,
      "outputs": [
        {
          "output_type": "execute_result",
          "data": {
            "text/plain": [
              "[array([21, 24]), array([25]), array([32, 34, 10, 11, 12])]"
            ]
          },
          "metadata": {},
          "execution_count": 40
        }
      ]
    },
    {
      "cell_type": "code",
      "source": [
        "np.split(z, [1,5]) # (1,5) ->> 1. index'e kadar böler,  1. index'ten 5. indekse ve sonra geri kalanlar ve sonra geri kalanlar şeklinde"
      ],
      "metadata": {
        "colab": {
          "base_uri": "https://localhost:8080/"
        },
        "id": "CpdSWCNdxhEM",
        "outputId": "c7ec432e-3cc9-43bd-c5a7-e44f023fd285"
      },
      "execution_count": null,
      "outputs": [
        {
          "output_type": "execute_result",
          "data": {
            "text/plain": [
              "[array([21]), array([24, 25, 32, 34]), array([10, 11, 12])]"
            ]
          },
          "metadata": {},
          "execution_count": 42
        }
      ]
    },
    {
      "cell_type": "code",
      "source": [
        "q = np.random.randint(10,50,8)\n",
        "q"
      ],
      "metadata": {
        "colab": {
          "base_uri": "https://localhost:8080/"
        },
        "id": "wXjEYeRs0DMz",
        "outputId": "153725d7-c1d0-4ac5-da94-374f2147cc83"
      },
      "execution_count": null,
      "outputs": [
        {
          "output_type": "execute_result",
          "data": {
            "text/plain": [
              "array([36, 47, 21, 18, 13, 16, 31, 11])"
            ]
          },
          "metadata": {},
          "execution_count": 45
        }
      ]
    },
    {
      "cell_type": "code",
      "source": [
        "np.split(q, 4) # int. değer yazılırsa, yazılan değer kadar(4) eşit parçaya böler. değere tam bölünmelidir."
      ],
      "metadata": {
        "colab": {
          "base_uri": "https://localhost:8080/"
        },
        "id": "0SadAKkD0BLY",
        "outputId": "fa3d6c1f-7165-4dd0-82c8-f6285dbb728f"
      },
      "execution_count": null,
      "outputs": [
        {
          "output_type": "execute_result",
          "data": {
            "text/plain": [
              "[array([36, 47]), array([21, 18]), array([13, 16]), array([31, 11])]"
            ]
          },
          "metadata": {},
          "execution_count": 49
        }
      ]
    },
    {
      "cell_type": "code",
      "source": [
        "np.split(q, [3]) # yazılan indeks numarasından 2'ye böler."
      ],
      "metadata": {
        "colab": {
          "base_uri": "https://localhost:8080/"
        },
        "id": "Hb72wZ090BIs",
        "outputId": "2289c237-eefd-4909-c145-c56bdf101700"
      },
      "execution_count": null,
      "outputs": [
        {
          "output_type": "execute_result",
          "data": {
            "text/plain": [
              "[array([36, 47, 21]), array([18, 13, 16, 31, 11])]"
            ]
          },
          "metadata": {},
          "execution_count": 50
        }
      ]
    },
    {
      "cell_type": "code",
      "source": [
        "m = np.arange(20).reshape(5,4) # 5x4 \n",
        "m"
      ],
      "metadata": {
        "colab": {
          "base_uri": "https://localhost:8080/"
        },
        "id": "mhCAZ5Xm08T8",
        "outputId": "7b1e5ca8-0773-4996-d0de-765beee30428"
      },
      "execution_count": null,
      "outputs": [
        {
          "output_type": "execute_result",
          "data": {
            "text/plain": [
              "array([[ 0,  1,  2,  3],\n",
              "       [ 4,  5,  6,  7],\n",
              "       [ 8,  9, 10, 11],\n",
              "       [12, 13, 14, 15],\n",
              "       [16, 17, 18, 19]])"
            ]
          },
          "metadata": {},
          "execution_count": 51
        }
      ]
    },
    {
      "cell_type": "code",
      "source": [
        "np.split(m, [1,3], axis = 0) # axis = 0 satırlarla çalışma. [1,3] 1. index'e kadar ->> ilk satır, 1 - 3 index(satır arası), geri kalan satırlar(indeks) şeklinde."
      ],
      "metadata": {
        "colab": {
          "base_uri": "https://localhost:8080/"
        },
        "id": "by6j8lcW1QQd",
        "outputId": "5092a25d-ecf0-4e7b-b5cb-0c7975ff6cb9"
      },
      "execution_count": null,
      "outputs": [
        {
          "output_type": "execute_result",
          "data": {
            "text/plain": [
              "[array([[0, 1, 2, 3]]), array([[ 4,  5,  6,  7],\n",
              "        [ 8,  9, 10, 11]]), array([[12, 13, 14, 15],\n",
              "        [16, 17, 18, 19]])]"
            ]
          },
          "metadata": {},
          "execution_count": 52
        }
      ]
    },
    {
      "cell_type": "code",
      "source": [
        "np.split(m, [1,3], axis = 1) # # axis = 1 sutunlarla çalışma [1,3] 1. index'e kadar ilk sütunu, 1. - 3. index(sütun) arası sütunlar ve geri kalan sutunlar(indeks) şeklinde böler"
      ],
      "metadata": {
        "colab": {
          "base_uri": "https://localhost:8080/"
        },
        "id": "_Z_ZeI8v2CDE",
        "outputId": "6bc055a0-f6e8-4a9e-a39b-7230edd52f59"
      },
      "execution_count": null,
      "outputs": [
        {
          "output_type": "execute_result",
          "data": {
            "text/plain": [
              "[array([[ 0],\n",
              "        [ 4],\n",
              "        [ 8],\n",
              "        [12],\n",
              "        [16]]), array([[ 1,  2],\n",
              "        [ 5,  6],\n",
              "        [ 9, 10],\n",
              "        [13, 14],\n",
              "        [17, 18]]), array([[ 3],\n",
              "        [ 7],\n",
              "        [11],\n",
              "        [15],\n",
              "        [19]])]"
            ]
          },
          "metadata": {},
          "execution_count": 54
        }
      ]
    },
    {
      "cell_type": "markdown",
      "source": [
        "**.sort()**"
      ],
      "metadata": {
        "id": "GqEFA5-f2Yll"
      }
    },
    {
      "cell_type": "code",
      "source": [
        "k = np.array([2, 1, 4, 8, 11]) # array değerlerini sıralar"
      ],
      "metadata": {
        "id": "TfhV5fW72b0M"
      },
      "execution_count": null,
      "outputs": []
    },
    {
      "cell_type": "code",
      "source": [
        "np.sort(k) # "
      ],
      "metadata": {
        "colab": {
          "base_uri": "https://localhost:8080/"
        },
        "id": "s-Sp8J7X2zwu",
        "outputId": "52ac3fe7-0710-489c-c2e5-132e5c23ef9b"
      },
      "execution_count": null,
      "outputs": [
        {
          "output_type": "execute_result",
          "data": {
            "text/plain": [
              "array([ 1,  2,  4,  8, 11])"
            ]
          },
          "metadata": {},
          "execution_count": 57
        }
      ]
    },
    {
      "cell_type": "code",
      "source": [
        "str = np.array([\"ab\", \"eg\", \"d\", \"b\", \"51\"]) # array değerlerini sıralar\n",
        "str"
      ],
      "metadata": {
        "colab": {
          "base_uri": "https://localhost:8080/"
        },
        "id": "Z-UGVrDq3bG-",
        "outputId": "f2ce6d0a-6e08-4530-c9bb-74b24d4196f4"
      },
      "execution_count": null,
      "outputs": [
        {
          "output_type": "execute_result",
          "data": {
            "text/plain": [
              "array(['ab', 'eg', 'd', 'b', '51'], dtype='<U2')"
            ]
          },
          "metadata": {},
          "execution_count": 67
        }
      ]
    },
    {
      "cell_type": "code",
      "source": [
        "np.sort(str) # string değer sıralama"
      ],
      "metadata": {
        "colab": {
          "base_uri": "https://localhost:8080/"
        },
        "id": "rWge9wTE3eU8",
        "outputId": "b952f04e-9b48-4095-d869-5f10a30ffb1b"
      },
      "execution_count": null,
      "outputs": [
        {
          "output_type": "execute_result",
          "data": {
            "text/plain": [
              "array(['51', 'ab', 'b', 'd', 'eg'], dtype='<U2')"
            ]
          },
          "metadata": {},
          "execution_count": 68
        }
      ]
    },
    {
      "cell_type": "code",
      "source": [
        "twoD = np.random.randint(5, 50, (3,3)) # 5 - 50 arası rastgele değer 3x3, 2 Boyutlu\n",
        "twoD"
      ],
      "metadata": {
        "colab": {
          "base_uri": "https://localhost:8080/"
        },
        "id": "rkgclsbv4cI0",
        "outputId": "ccb89f23-1fd5-4c9a-c059-a8d3488c7078"
      },
      "execution_count": null,
      "outputs": [
        {
          "output_type": "execute_result",
          "data": {
            "text/plain": [
              "array([[12, 27,  9],\n",
              "       [29, 41, 21],\n",
              "       [34, 25, 16]])"
            ]
          },
          "metadata": {},
          "execution_count": 76
        }
      ]
    },
    {
      "cell_type": "code",
      "source": [
        "np.sort(twoD, axis = 0) # axis = 0 satır bazında. satır sayısı aşağı doğru artar... satır satır yukarıdan aşağı sıralar. 1. satırdaki en küçük değer sonra altına 2. satırdaki en küçük değer...."
      ],
      "metadata": {
        "colab": {
          "base_uri": "https://localhost:8080/"
        },
        "id": "xpGT1k764oPj",
        "outputId": "801fde87-1662-46a1-e13e-a4a72bc6b007"
      },
      "execution_count": null,
      "outputs": [
        {
          "output_type": "execute_result",
          "data": {
            "text/plain": [
              "array([[12, 25,  9],\n",
              "       [29, 27, 16],\n",
              "       [34, 41, 21]])"
            ]
          },
          "metadata": {},
          "execution_count": 79
        }
      ]
    },
    {
      "cell_type": "code",
      "source": [
        "twoD"
      ],
      "metadata": {
        "colab": {
          "base_uri": "https://localhost:8080/"
        },
        "id": "h2_z8qmf7Hhu",
        "outputId": "3194fffc-e806-4154-ecd9-4b60822b2ef1"
      },
      "execution_count": null,
      "outputs": [
        {
          "output_type": "execute_result",
          "data": {
            "text/plain": [
              "array([[12, 27,  9],\n",
              "       [29, 41, 21],\n",
              "       [34, 25, 16]])"
            ]
          },
          "metadata": {},
          "execution_count": 81
        }
      ]
    },
    {
      "cell_type": "code",
      "source": [
        "np.sort(twoD, axis = 1) # axis = 1 sutun bazında çalışma. sutun sayısı sola doğru artar... sutun sutun soladan sağa sıralar. 1. sütundaki en küçük değer sonra altına 2. satırdaki en küçük değer...."
      ],
      "metadata": {
        "colab": {
          "base_uri": "https://localhost:8080/"
        },
        "id": "LhQ_cjiz5ZTE",
        "outputId": "d38cf32d-c411-4500-81b5-897e1462448a"
      },
      "execution_count": null,
      "outputs": [
        {
          "output_type": "execute_result",
          "data": {
            "text/plain": [
              "array([[ 9, 12, 27],\n",
              "       [21, 29, 41],\n",
              "       [16, 25, 34]])"
            ]
          },
          "metadata": {},
          "execution_count": 80
        }
      ]
    },
    {
      "cell_type": "markdown",
      "metadata": {
        "id": "mNljteUtEOru"
      },
      "source": [
        "**Bracket Indexing & Selection**"
      ]
    },
    {
      "cell_type": "code",
      "source": [
        "arr = np.arange(0,11)\n",
        "arr"
      ],
      "metadata": {
        "colab": {
          "base_uri": "https://localhost:8080/"
        },
        "id": "2H2Et2dglfQf",
        "outputId": "b1cc4c90-19d1-4584-b659-9c265cd6a82b"
      },
      "execution_count": 3,
      "outputs": [
        {
          "output_type": "execute_result",
          "data": {
            "text/plain": [
              "array([ 0,  1,  2,  3,  4,  5,  6,  7,  8,  9, 10])"
            ]
          },
          "metadata": {},
          "execution_count": 3
        }
      ]
    },
    {
      "cell_type": "code",
      "source": [
        "arr[1::2] # 1 Boyutlu array; [start, stop, step] 1. index'ten başla sonuna kadar git 2 steple ilerle"
      ],
      "metadata": {
        "colab": {
          "base_uri": "https://localhost:8080/"
        },
        "id": "8HgfHvlVlsR9",
        "outputId": "b5ddd036-8246-40c9-c86f-c7f072614729"
      },
      "execution_count": 4,
      "outputs": [
        {
          "output_type": "execute_result",
          "data": {
            "text/plain": [
              "array([1, 3, 5, 7, 9])"
            ]
          },
          "metadata": {},
          "execution_count": 4
        }
      ]
    },
    {
      "cell_type": "code",
      "source": [
        "arr_2d = np.array([[5, 10, 15], [20, 25, 30], [35, 40, 45]])\n",
        "\n",
        "arr_2d"
      ],
      "metadata": {
        "colab": {
          "base_uri": "https://localhost:8080/"
        },
        "id": "29p4VR8CmJPf",
        "outputId": "14dedbf7-8fd5-4136-b49b-f953a8db51a1"
      },
      "execution_count": 5,
      "outputs": [
        {
          "output_type": "execute_result",
          "data": {
            "text/plain": [
              "array([[ 5, 10, 15],\n",
              "       [20, 25, 30],\n",
              "       [35, 40, 45]])"
            ]
          },
          "metadata": {},
          "execution_count": 5
        }
      ]
    },
    {
      "cell_type": "code",
      "source": [
        "arr_2d[1] # 2 Boyutlu array [satır , sutun] 1. indexteki satır"
      ],
      "metadata": {
        "colab": {
          "base_uri": "https://localhost:8080/"
        },
        "id": "vgzYYXpmmToc",
        "outputId": "e7ec713d-517a-4c99-d1e6-2032391ac9a4"
      },
      "execution_count": 6,
      "outputs": [
        {
          "output_type": "execute_result",
          "data": {
            "text/plain": [
              "array([20, 25, 30])"
            ]
          },
          "metadata": {},
          "execution_count": 6
        }
      ]
    },
    {
      "cell_type": "code",
      "source": [
        "arr_2d[0,2] # 0. indexteki satır ile 2. indexteki sütunun kesişimi"
      ],
      "metadata": {
        "colab": {
          "base_uri": "https://localhost:8080/"
        },
        "id": "jfxIwDqEm7pw",
        "outputId": "7e13c28f-e4eb-40a5-c3f4-4930fdf2baf5"
      },
      "execution_count": 7,
      "outputs": [
        {
          "output_type": "execute_result",
          "data": {
            "text/plain": [
              "15"
            ]
          },
          "metadata": {},
          "execution_count": 7
        }
      ]
    },
    {
      "cell_type": "code",
      "source": [
        "arr_2d[:2,1:] # satıra baştan başla(indeks=0) 2. index'teki satıra kadar git, 1. index'teki sutundan başla sonuncu index'teki satıra kadar git"
      ],
      "metadata": {
        "colab": {
          "base_uri": "https://localhost:8080/"
        },
        "id": "orJE7rvXm0f9",
        "outputId": "8fbdd6b2-409d-49fb-ea5a-3fb639aeb81d"
      },
      "execution_count": 8,
      "outputs": [
        {
          "output_type": "execute_result",
          "data": {
            "text/plain": [
              "array([[10, 15],\n",
              "       [25, 30]])"
            ]
          },
          "metadata": {},
          "execution_count": 8
        }
      ]
    },
    {
      "cell_type": "code",
      "source": [
        "arr_2d[1,1] = 55 # yeni değer atama satır 1. index ile sutun 1. index kesişimini 55 yap\n"
      ],
      "metadata": {
        "colab": {
          "base_uri": "https://localhost:8080/"
        },
        "id": "EtGPusi5oJVa",
        "outputId": "73a8f030-f807-45c5-f780-a515e877f424"
      },
      "execution_count": 10,
      "outputs": [
        {
          "output_type": "execute_result",
          "data": {
            "text/plain": [
              "array([[ 5, 10, 15],\n",
              "       [20, 55, 30],\n",
              "       [35, 40, 45]])"
            ]
          },
          "metadata": {},
          "execution_count": 10
        }
      ]
    },
    {
      "cell_type": "markdown",
      "source": [
        "**Fancy Index**"
      ],
      "metadata": {
        "id": "2SqP51rOoea6"
      }
    },
    {
      "cell_type": "code",
      "source": [
        "q = np.arange(20, 60, 3) # 3 step'le 20'den 60'a kadar array oluşturma\n",
        "q"
      ],
      "metadata": {
        "colab": {
          "base_uri": "https://localhost:8080/"
        },
        "id": "4_5s_Rhzoiey",
        "outputId": "90f9653e-3c61-4305-cd3c-b4c6304752f2"
      },
      "execution_count": 14,
      "outputs": [
        {
          "output_type": "execute_result",
          "data": {
            "text/plain": [
              "array([20, 23, 26, 29, 32, 35, 38, 41, 44, 47, 50, 53, 56, 59])"
            ]
          },
          "metadata": {},
          "execution_count": 14
        }
      ]
    },
    {
      "cell_type": "code",
      "source": [
        "q[[1,3,5]] # [1,2,5] liste şeklinde index numaralırındaki elemanları getir. index = 1., 2. ve 5."
      ],
      "metadata": {
        "colab": {
          "base_uri": "https://localhost:8080/"
        },
        "id": "5hVBW948o4Bh",
        "outputId": "924c79ca-4a30-48d2-b6c7-77d8f2dca885"
      },
      "execution_count": 15,
      "outputs": [
        {
          "output_type": "execute_result",
          "data": {
            "text/plain": [
              "array([23, 29, 35])"
            ]
          },
          "metadata": {},
          "execution_count": 15
        }
      ]
    },
    {
      "cell_type": "code",
      "source": [
        "arr2d =np.zeros((10,10), dtype = int) # 0(sıfır)'lardan 10x10 matris oluşturma\n",
        "arr2d"
      ],
      "metadata": {
        "colab": {
          "base_uri": "https://localhost:8080/"
        },
        "id": "5i5aSyMopnEp",
        "outputId": "a548cd02-c7c8-4bd9-c3a8-7f3e9a66d236"
      },
      "execution_count": 17,
      "outputs": [
        {
          "output_type": "execute_result",
          "data": {
            "text/plain": [
              "array([[0, 0, 0, 0, 0, 0, 0, 0, 0, 0],\n",
              "       [0, 0, 0, 0, 0, 0, 0, 0, 0, 0],\n",
              "       [0, 0, 0, 0, 0, 0, 0, 0, 0, 0],\n",
              "       [0, 0, 0, 0, 0, 0, 0, 0, 0, 0],\n",
              "       [0, 0, 0, 0, 0, 0, 0, 0, 0, 0],\n",
              "       [0, 0, 0, 0, 0, 0, 0, 0, 0, 0],\n",
              "       [0, 0, 0, 0, 0, 0, 0, 0, 0, 0],\n",
              "       [0, 0, 0, 0, 0, 0, 0, 0, 0, 0],\n",
              "       [0, 0, 0, 0, 0, 0, 0, 0, 0, 0],\n",
              "       [0, 0, 0, 0, 0, 0, 0, 0, 0, 0]])"
            ]
          },
          "metadata": {},
          "execution_count": 17
        }
      ]
    },
    {
      "cell_type": "code",
      "source": [
        "arr2d.shape[0]"
      ],
      "metadata": {
        "colab": {
          "base_uri": "https://localhost:8080/"
        },
        "id": "ryJ9G5clq8V5",
        "outputId": "02360358-ae65-4abe-da74-13b10448059d"
      },
      "execution_count": 21,
      "outputs": [
        {
          "output_type": "execute_result",
          "data": {
            "text/plain": [
              "10"
            ]
          },
          "metadata": {},
          "execution_count": 21
        }
      ]
    },
    {
      "cell_type": "code",
      "source": [
        "for i in range(arr2d.shape[0]): # for döngüsü ile her seferinde arr2d array'inin shape numarasını al. \"(arr2d.shape[0] = 10)\"\" olduğu için \"range(0,10)\" yazmış olduk\n",
        "  arr2d[i] = i # arr2d for döngüsünden gelen 10'a kadar numaraları sırayla \"[]\" indeksleme ile karşılık gelen indeks'e yazdır\n",
        "arr2d"
      ],
      "metadata": {
        "colab": {
          "base_uri": "https://localhost:8080/"
        },
        "id": "TsdpeVmjpyq4",
        "outputId": "2e7502df-7957-4fea-8469-2a4850166397"
      },
      "execution_count": 20,
      "outputs": [
        {
          "output_type": "execute_result",
          "data": {
            "text/plain": [
              "array([[0, 0, 0, 0, 0, 0, 0, 0, 0, 0],\n",
              "       [1, 1, 1, 1, 1, 1, 1, 1, 1, 1],\n",
              "       [2, 2, 2, 2, 2, 2, 2, 2, 2, 2],\n",
              "       [3, 3, 3, 3, 3, 3, 3, 3, 3, 3],\n",
              "       [4, 4, 4, 4, 4, 4, 4, 4, 4, 4],\n",
              "       [5, 5, 5, 5, 5, 5, 5, 5, 5, 5],\n",
              "       [6, 6, 6, 6, 6, 6, 6, 6, 6, 6],\n",
              "       [7, 7, 7, 7, 7, 7, 7, 7, 7, 7],\n",
              "       [8, 8, 8, 8, 8, 8, 8, 8, 8, 8],\n",
              "       [9, 9, 9, 9, 9, 9, 9, 9, 9, 9]])"
            ]
          },
          "metadata": {},
          "execution_count": 20
        }
      ]
    },
    {
      "cell_type": "code",
      "source": [
        "arr2d[[2,4,8,6]] # iki köşeli parantez 2b array oluşturur. arrayler yazılan sıra ile oluşur."
      ],
      "metadata": {
        "colab": {
          "base_uri": "https://localhost:8080/"
        },
        "id": "-mO9upODrjEo",
        "outputId": "3d6d4438-6293-4f25-8912-d992e0488710"
      },
      "execution_count": 22,
      "outputs": [
        {
          "output_type": "execute_result",
          "data": {
            "text/plain": [
              "array([[2, 2, 2, 2, 2, 2, 2, 2, 2, 2],\n",
              "       [4, 4, 4, 4, 4, 4, 4, 4, 4, 4],\n",
              "       [8, 8, 8, 8, 8, 8, 8, 8, 8, 8],\n",
              "       [6, 6, 6, 6, 6, 6, 6, 6, 6, 6]])"
            ]
          },
          "metadata": {},
          "execution_count": 22
        }
      ]
    },
    {
      "cell_type": "code",
      "source": [
        "jj = np.arange(1,17).reshape(4,4) # 1 -17 arasında 4 satır 4 sütundan oluşan array oluşturur. # shape(4,4) = 4*4 = 16 = range(1,17) ya da reshape(2,8) yazabilirdik\n",
        "jj"
      ],
      "metadata": {
        "colab": {
          "base_uri": "https://localhost:8080/"
        },
        "id": "B0n_bEgnr3Fx",
        "outputId": "2612efea-e95b-4db7-8c63-ff5a5d25ff08"
      },
      "execution_count": 29,
      "outputs": [
        {
          "output_type": "execute_result",
          "data": {
            "text/plain": [
              "array([[ 1,  2,  3,  4],\n",
              "       [ 5,  6,  7,  8],\n",
              "       [ 9, 10, 11, 12],\n",
              "       [13, 14, 15, 16]])"
            ]
          },
          "metadata": {},
          "execution_count": 29
        }
      ]
    },
    {
      "cell_type": "code",
      "source": [
        "jj[0,1] # [satır index = 0, sütun index = 1] şeklinde array elemanı seçme"
      ],
      "metadata": {
        "colab": {
          "base_uri": "https://localhost:8080/"
        },
        "id": "OAdw6X7CsLlI",
        "outputId": "1ca93e08-fdc9-4a84-8e4a-6f5924db792b"
      },
      "execution_count": 30,
      "outputs": [
        {
          "output_type": "execute_result",
          "data": {
            "text/plain": [
              "2"
            ]
          },
          "metadata": {},
          "execution_count": 30
        }
      ]
    },
    {
      "cell_type": "code",
      "source": [
        "jj[[1,2],[0,3]] # liste şeklinde index nuamrası.. [1,2] [0,3] liste index numarasına göre karşılıklı eşleşir = satır index no = 1, sütun index no = 0  satır index no = 2, sütun index no = 3"
      ],
      "metadata": {
        "colab": {
          "base_uri": "https://localhost:8080/"
        },
        "id": "UqZ_n6MssjjZ",
        "outputId": "32967e66-8ee5-4bf1-d478-860bea320107"
      },
      "execution_count": 32,
      "outputs": [
        {
          "output_type": "execute_result",
          "data": {
            "text/plain": [
              "array([ 5, 12])"
            ]
          },
          "metadata": {},
          "execution_count": 32
        }
      ]
    },
    {
      "cell_type": "code",
      "source": [
        "jj[[0,2,3],[0,1,3]] # liste şeklinde index nuamrası.. iste index numarasına göre karşılıklı eşleşir"
      ],
      "metadata": {
        "colab": {
          "base_uri": "https://localhost:8080/"
        },
        "id": "Ziam6QD3vGzy",
        "outputId": "360fe580-9364-4490-8742-0d82839a7470"
      },
      "execution_count": 33,
      "outputs": [
        {
          "output_type": "execute_result",
          "data": {
            "text/plain": [
              "array([ 1, 10, 16])"
            ]
          },
          "metadata": {},
          "execution_count": 33
        }
      ]
    },
    {
      "cell_type": "code",
      "source": [
        "jj[1,[1,3]] # python zekası :)) [1,[1,3]] = [1,1], [1,3] şeklinde "
      ],
      "metadata": {
        "id": "f6frH9R-vg4J"
      },
      "execution_count": null,
      "outputs": []
    },
    {
      "cell_type": "code",
      "source": [
        "jj [:,[1,3]] # [:] baştan başla sonuna kadar git  = tüm satırlar, bu satırlara kesişen 1. ve 3. index'teki sütunlar"
      ],
      "metadata": {
        "colab": {
          "base_uri": "https://localhost:8080/"
        },
        "id": "x5PDMwldv4MR",
        "outputId": "1af6c040-d2c2-4523-95ac-d16ee4f8a0e7"
      },
      "execution_count": 34,
      "outputs": [
        {
          "output_type": "execute_result",
          "data": {
            "text/plain": [
              "array([[ 2,  4],\n",
              "       [ 6,  8],\n",
              "       [10, 12],\n",
              "       [14, 16]])"
            ]
          },
          "metadata": {},
          "execution_count": 34
        }
      ]
    },
    {
      "cell_type": "markdown",
      "source": [
        "**Selection On Condition**"
      ],
      "metadata": {
        "id": "ynkA4canxBCp"
      }
    },
    {
      "cell_type": "code",
      "source": [
        "arr = np.arange(1,11)\n",
        "arr"
      ],
      "metadata": {
        "colab": {
          "base_uri": "https://localhost:8080/"
        },
        "id": "ApxSt8-ExgLx",
        "outputId": "b661b5bc-462c-4769-92c9-3e1f22522cfe"
      },
      "execution_count": 37,
      "outputs": [
        {
          "output_type": "execute_result",
          "data": {
            "text/plain": [
              "array([ 1,  2,  3,  4,  5,  6,  7,  8,  9, 10])"
            ]
          },
          "metadata": {},
          "execution_count": 37
        }
      ]
    },
    {
      "cell_type": "code",
      "source": [
        "arr > 4 # 4. index'ten büyük olanları True olarak getirir."
      ],
      "metadata": {
        "colab": {
          "base_uri": "https://localhost:8080/"
        },
        "id": "7INZNKYzxI7q",
        "outputId": "4ad96b3a-3d64-4d31-e44f-47979de06b4c"
      },
      "execution_count": 36,
      "outputs": [
        {
          "output_type": "execute_result",
          "data": {
            "text/plain": [
              "array([False, False, False, False,  True,  True,  True,  True,  True,\n",
              "        True])"
            ]
          },
          "metadata": {},
          "execution_count": 36
        }
      ]
    },
    {
      "cell_type": "code",
      "source": [
        "dd =np.array([\"a\", \"b\", \"c\"])\n",
        "dd"
      ],
      "metadata": {
        "id": "O54LE3O7xiNq"
      },
      "execution_count": null,
      "outputs": []
    },
    {
      "cell_type": "code",
      "source": [
        "arr < 2 4 # 2. index'ten küçük olanları True olarak getirir."
      ],
      "metadata": {
        "id": "_6lpFPMlxvyR"
      },
      "execution_count": null,
      "outputs": []
    },
    {
      "cell_type": "code",
      "source": [
        "bool_arr = arr > 4\n",
        "arr[bool_arr] # conditiona göre seçim"
      ],
      "metadata": {
        "colab": {
          "base_uri": "https://localhost:8080/"
        },
        "id": "CthwcHkWyScR",
        "outputId": "6fdc5038-e5f2-4fd8-fefc-41a44ae27064"
      },
      "execution_count": 45,
      "outputs": [
        {
          "output_type": "execute_result",
          "data": {
            "text/plain": [
              "array([ 5,  6,  7,  8,  9, 10])"
            ]
          },
          "metadata": {},
          "execution_count": 45
        }
      ]
    },
    {
      "cell_type": "code",
      "source": [
        "arr[(arr < 3) | (arr > 8) & ((arr != 9) & (arr != 4))] # çoklu condition (okşul) operatörlerinin kullanımı"
      ],
      "metadata": {
        "colab": {
          "base_uri": "https://localhost:8080/"
        },
        "id": "MPk-XaQiyXSI",
        "outputId": "dbd67850-a39a-4ccc-ceab-bfd5bbe9f657"
      },
      "execution_count": 46,
      "outputs": [
        {
          "output_type": "execute_result",
          "data": {
            "text/plain": [
              "array([ 1,  2, 10])"
            ]
          },
          "metadata": {},
          "execution_count": 46
        }
      ]
    },
    {
      "cell_type": "markdown",
      "source": [
        "**Array Broadcasting**"
      ],
      "metadata": {
        "id": "PuPMjY2byzXi"
      }
    },
    {
      "cell_type": "code",
      "source": [
        "arr[:5] = 77 # seçilen elemanlara 77 atandı (yayma = broadcasting)"
      ],
      "metadata": {
        "id": "1qre9a_kyxvY"
      },
      "execution_count": 47,
      "outputs": []
    },
    {
      "cell_type": "code",
      "source": [
        "arr = np.arange(20, 30)\n",
        "arr"
      ],
      "metadata": {
        "colab": {
          "base_uri": "https://localhost:8080/"
        },
        "id": "LlBxa5CWzG97",
        "outputId": "3300f4a9-a654-49ff-ae36-e530192ed7bf"
      },
      "execution_count": 49,
      "outputs": [
        {
          "output_type": "execute_result",
          "data": {
            "text/plain": [
              "array([20, 21, 22, 23, 24, 25, 26, 27, 28, 29])"
            ]
          },
          "metadata": {},
          "execution_count": 49
        }
      ]
    },
    {
      "cell_type": "code",
      "source": [
        "slice_of_arr = arr[0:6] # 0 - 6. index arası yeni değere atandı.bu şekilde orjinal array'de değişir.\n",
        "slice_of_arr"
      ],
      "metadata": {
        "colab": {
          "base_uri": "https://localhost:8080/"
        },
        "id": "rtllzZFizQuT",
        "outputId": "c73ed737-288b-48ee-c159-64d876dd5dec"
      },
      "execution_count": 50,
      "outputs": [
        {
          "output_type": "execute_result",
          "data": {
            "text/plain": [
              "array([20, 21, 22, 23, 24, 25])"
            ]
          },
          "metadata": {},
          "execution_count": 50
        }
      ]
    },
    {
      "cell_type": "code",
      "source": [
        "slice_of_arr [:] = 99 # bu şekilde orjinal array'de değişir.\n",
        "arr"
      ],
      "metadata": {
        "colab": {
          "base_uri": "https://localhost:8080/"
        },
        "id": "9WfkSsdAzf3g",
        "outputId": "25d8b772-a0b9-4f5e-c3cf-67ca491067f9"
      },
      "execution_count": 52,
      "outputs": [
        {
          "output_type": "execute_result",
          "data": {
            "text/plain": [
              "array([99, 99, 99, 99, 99, 99, 26, 27, 28, 29])"
            ]
          },
          "metadata": {},
          "execution_count": 52
        }
      ]
    },
    {
      "cell_type": "code",
      "source": [
        "arr_copy = arr.copy() # orjinal verimizin değişmesini istemiyorsak .copy() işlemi ile bir kopyası alınır. Büyük veride hafızaya dikkat !!\n",
        "arr_copy"
      ],
      "metadata": {
        "colab": {
          "base_uri": "https://localhost:8080/"
        },
        "id": "qqHXEYeRzsQo",
        "outputId": "da09ca28-c3d4-4c51-c499-4493980295a6"
      },
      "execution_count": 53,
      "outputs": [
        {
          "output_type": "execute_result",
          "data": {
            "text/plain": [
              "array([99, 99, 99, 99, 99, 99, 26, 27, 28, 29])"
            ]
          },
          "metadata": {},
          "execution_count": 53
        }
      ]
    },
    {
      "cell_type": "markdown",
      "source": [
        "**Array Aritmetik İşlemler - ve (vectorisitation özelliği)**"
      ],
      "metadata": {
        "id": "61bCDi5i1EhY"
      }
    },
    {
      "cell_type": "code",
      "source": [
        "arr1 = np.arange(1,11)\n",
        "arr1"
      ],
      "metadata": {
        "colab": {
          "base_uri": "https://localhost:8080/"
        },
        "id": "Ti_bbgaM1F6g",
        "outputId": "acbdc7b3-4bf2-4129-8e0d-56f2979478ae"
      },
      "execution_count": 93,
      "outputs": [
        {
          "output_type": "execute_result",
          "data": {
            "text/plain": [
              "array([ 1,  2,  3,  4,  5,  6,  7,  8,  9, 10])"
            ]
          },
          "metadata": {},
          "execution_count": 93
        }
      ]
    },
    {
      "cell_type": "code",
      "source": [
        "arr2 = np.arange(20,30)\n",
        "arr2"
      ],
      "metadata": {
        "colab": {
          "base_uri": "https://localhost:8080/"
        },
        "id": "Qn0uR0nG1lNQ",
        "outputId": "f21b663a-3465-46dd-8562-e19f6e348cb4"
      },
      "execution_count": 94,
      "outputs": [
        {
          "output_type": "execute_result",
          "data": {
            "text/plain": [
              "array([20, 21, 22, 23, 24, 25, 26, 27, 28, 29])"
            ]
          },
          "metadata": {},
          "execution_count": 94
        }
      ]
    },
    {
      "cell_type": "code",
      "source": [
        "arr1 * arr1 # tüm elemanları kendisi ile çarpar.diğer işlemler içinde aynı Bu işlemler array'lerin vectorisitation (tüm elemanlara aynı işlemi uygulama) özellği  sayesinde olur."
      ],
      "metadata": {
        "colab": {
          "base_uri": "https://localhost:8080/"
        },
        "id": "DNxMn5jj1GA6",
        "outputId": "32192c66-4884-4c6e-c454-1cfeb6245ce6"
      },
      "execution_count": 74,
      "outputs": [
        {
          "output_type": "execute_result",
          "data": {
            "text/plain": [
              "array([  1,   4,   9,  16,  25,  36,  49,  64,  81, 100])"
            ]
          },
          "metadata": {},
          "execution_count": 74
        }
      ]
    },
    {
      "cell_type": "code",
      "source": [
        "arr1 * arr2 # iki farklı array indeks numaralarına göre çarpılır. diğer işlemler içinde aynı. not: eleman sayısı eşit olmalı"
      ],
      "metadata": {
        "colab": {
          "base_uri": "https://localhost:8080/"
        },
        "id": "393Mxnmr1oF4",
        "outputId": "f3fb4db3-303a-4b8b-889e-064b513eac71"
      },
      "execution_count": 72,
      "outputs": [
        {
          "output_type": "execute_result",
          "data": {
            "text/plain": [
              "array([ 20,  42,  66,  92, 120, 150, 182, 216, 252, 290])"
            ]
          },
          "metadata": {},
          "execution_count": 72
        }
      ]
    },
    {
      "cell_type": "code",
      "source": [
        "arr1 / arr2"
      ],
      "metadata": {
        "colab": {
          "base_uri": "https://localhost:8080/"
        },
        "id": "0egRmhJO2UWw",
        "outputId": "b722a0e6-5736-49c1-8ca8-1522fa23c26b"
      },
      "execution_count": 71,
      "outputs": [
        {
          "output_type": "execute_result",
          "data": {
            "text/plain": [
              "array([0.05      , 0.0952381 , 0.13636364, 0.17391304, 0.20833333,\n",
              "       0.24      , 0.26923077, 0.2962963 , 0.32142857, 0.34482759])"
            ]
          },
          "metadata": {},
          "execution_count": 71
        }
      ]
    },
    {
      "cell_type": "code",
      "source": [
        "arr1 * 4 # tüm elemalar 4 ile çarpıldı"
      ],
      "metadata": {
        "colab": {
          "base_uri": "https://localhost:8080/"
        },
        "id": "1Wf1dwxZ3cV7",
        "outputId": "3a1b71bc-f2c6-4433-a515-fa4511e9067a"
      },
      "execution_count": 75,
      "outputs": [
        {
          "output_type": "execute_result",
          "data": {
            "text/plain": [
              "array([ 4,  8, 12, 16, 20, 24, 28, 32, 36, 40])"
            ]
          },
          "metadata": {},
          "execution_count": 75
        }
      ]
    },
    {
      "cell_type": "code",
      "source": [
        "np.add((arr1,10) # tüm elemanları yazılan değerle topla"
      ],
      "metadata": {
        "colab": {
          "base_uri": "https://localhost:8080/"
        },
        "id": "6eq6-7cd3ouP",
        "outputId": "ef9aae9f-4560-4dee-be8c-4e1fdbc5d6c2"
      },
      "execution_count": 77,
      "outputs": [
        {
          "output_type": "execute_result",
          "data": {
            "text/plain": [
              "array([11, 12, 13, 14, 15, 16, 17, 18, 19, 20])"
            ]
          },
          "metadata": {},
          "execution_count": 77
        }
      ]
    },
    {
      "cell_type": "code",
      "source": [
        "np.subtract((arr2),(arr1*4)) # çıkarma "
      ],
      "metadata": {
        "colab": {
          "base_uri": "https://localhost:8080/"
        },
        "id": "RHlMxm5k4tCw",
        "outputId": "cdf52bf5-3970-4852-8db5-550076743053"
      },
      "execution_count": 83,
      "outputs": [
        {
          "output_type": "execute_result",
          "data": {
            "text/plain": [
              "array([ 16,  13,  10,   7,   4,   1,  -2,  -5,  -8, -11])"
            ]
          },
          "metadata": {},
          "execution_count": 83
        }
      ]
    },
    {
      "cell_type": "code",
      "source": [
        "np.multiply((arr1),((np.sqrt(arr2)) - (arr1/3))) # çarpma"
      ],
      "metadata": {
        "colab": {
          "base_uri": "https://localhost:8080/"
        },
        "id": "ex7Y9A3F470A",
        "outputId": "abfd64ad-02ee-48ec-e96e-861dfbb7226e"
      },
      "execution_count": 98,
      "outputs": [
        {
          "output_type": "execute_result",
          "data": {
            "text/plain": [
              "array([ 4.13880262,  7.83181806, 11.07124728, 13.84999276, 16.16156409,\n",
              "       18.        , 19.35980326, 20.23588605, 20.6235236 , 20.51831474])"
            ]
          },
          "metadata": {},
          "execution_count": 98
        }
      ]
    },
    {
      "cell_type": "code",
      "source": [
        "np.divide((arr2),(np.max(arr1))) # bölme"
      ],
      "metadata": {
        "colab": {
          "base_uri": "https://localhost:8080/"
        },
        "id": "wmZubY8h6dEK",
        "outputId": "c6f4c32f-1c59-4906-e67b-ff7eafa79aa7"
      },
      "execution_count": 102,
      "outputs": [
        {
          "output_type": "execute_result",
          "data": {
            "text/plain": [
              "array([2. , 2.1, 2.2, 2.3, 2.4, 2.5, 2.6, 2.7, 2.8, 2.9])"
            ]
          },
          "metadata": {},
          "execution_count": 102
        }
      ]
    },
    {
      "cell_type": "code",
      "source": [
        "np.max(arr2) # ya da \"arr2.max()\"\" bu şekilde max değer"
      ],
      "metadata": {
        "colab": {
          "base_uri": "https://localhost:8080/"
        },
        "id": "8amXRse768Mo",
        "outputId": "c2fdfa79-4621-4414-b041-a92594b0f40f"
      },
      "execution_count": 103,
      "outputs": [
        {
          "output_type": "execute_result",
          "data": {
            "text/plain": [
              "29"
            ]
          },
          "metadata": {},
          "execution_count": 103
        }
      ]
    },
    {
      "cell_type": "code",
      "source": [
        "arr2.max() # max değer"
      ],
      "metadata": {
        "colab": {
          "base_uri": "https://localhost:8080/"
        },
        "id": "1ZRJqt3l7T3_",
        "outputId": "bf4e21f0-3078-42b9-f156-7a71c52622b6"
      },
      "execution_count": 107,
      "outputs": [
        {
          "output_type": "execute_result",
          "data": {
            "text/plain": [
              "29"
            ]
          },
          "metadata": {},
          "execution_count": 107
        }
      ]
    },
    {
      "cell_type": "code",
      "source": [
        "np.min(arr1) # min değer"
      ],
      "metadata": {
        "colab": {
          "base_uri": "https://localhost:8080/"
        },
        "id": "bx9igdNA7GrJ",
        "outputId": "0a7101e4-2e5c-4269-aad0-c37e94d3db85"
      },
      "execution_count": 104,
      "outputs": [
        {
          "output_type": "execute_result",
          "data": {
            "text/plain": [
              "1"
            ]
          },
          "metadata": {},
          "execution_count": 104
        }
      ]
    },
    {
      "cell_type": "code",
      "source": [
        "np.max(t, axis = 1) # axis'e göre max. değerler"
      ],
      "metadata": {
        "colab": {
          "base_uri": "https://localhost:8080/"
        },
        "id": "132B4n8M8hRw",
        "outputId": "07c6105a-f05e-405b-84b2-cace9d3520fe"
      },
      "execution_count": 114,
      "outputs": [
        {
          "output_type": "execute_result",
          "data": {
            "text/plain": [
              "array([ 4,  9, 14, 19])"
            ]
          },
          "metadata": {},
          "execution_count": 114
        }
      ]
    },
    {
      "cell_type": "code",
      "source": [
        "np.min(t, axis = 1) # axis'e göre min. değerler"
      ],
      "metadata": {
        "colab": {
          "base_uri": "https://localhost:8080/"
        },
        "id": "SelOYoBr9HBC",
        "outputId": "f0bc856e-e83b-409f-b684-53c22cecaf9a"
      },
      "execution_count": 115,
      "outputs": [
        {
          "output_type": "execute_result",
          "data": {
            "text/plain": [
              "array([ 0,  5, 10, 15])"
            ]
          },
          "metadata": {},
          "execution_count": 115
        }
      ]
    },
    {
      "cell_type": "code",
      "source": [
        "np.sqrt(arr2) # karekök"
      ],
      "metadata": {
        "colab": {
          "base_uri": "https://localhost:8080/"
        },
        "id": "1eQJXm8g7J_w",
        "outputId": "2d2e2127-bce7-4956-d89b-35efcc87f987"
      },
      "execution_count": 108,
      "outputs": [
        {
          "output_type": "execute_result",
          "data": {
            "text/plain": [
              "array([4.47213595, 4.58257569, 4.69041576, 4.79583152, 4.89897949,\n",
              "       5.        , 5.09901951, 5.19615242, 5.29150262, 5.38516481])"
            ]
          },
          "metadata": {},
          "execution_count": 108
        }
      ]
    },
    {
      "cell_type": "code",
      "source": [
        "np.exp(arr1) #exponential"
      ],
      "metadata": {
        "colab": {
          "base_uri": "https://localhost:8080/"
        },
        "id": "mj1dK61z8BJZ",
        "outputId": "ee969c1c-9d25-483c-a60c-3bc72722c65c"
      },
      "execution_count": 109,
      "outputs": [
        {
          "output_type": "execute_result",
          "data": {
            "text/plain": [
              "array([2.71828183e+00, 7.38905610e+00, 2.00855369e+01, 5.45981500e+01,\n",
              "       1.48413159e+02, 4.03428793e+02, 1.09663316e+03, 2.98095799e+03,\n",
              "       8.10308393e+03, 2.20264658e+04])"
            ]
          },
          "metadata": {},
          "execution_count": 109
        }
      ]
    },
    {
      "cell_type": "code",
      "source": [
        "t = np.random.randint(20,100,20).reshape(4,5)\n",
        "t"
      ],
      "metadata": {
        "colab": {
          "base_uri": "https://localhost:8080/"
        },
        "id": "oPHQmEhJ-0cg",
        "outputId": "481b23c7-fb22-4c54-d971-6b4c0df96e86"
      },
      "execution_count": 129,
      "outputs": [
        {
          "output_type": "execute_result",
          "data": {
            "text/plain": [
              "array([[61, 87, 44, 20, 90],\n",
              "       [34, 66, 96, 73, 85],\n",
              "       [56, 26, 31, 26, 96],\n",
              "       [20, 60, 43, 92, 27]])"
            ]
          },
          "metadata": {},
          "execution_count": 129
        }
      ]
    },
    {
      "cell_type": "code",
      "source": [
        ""
      ],
      "metadata": {
        "id": "6dO_p6-c-0OQ"
      },
      "execution_count": null,
      "outputs": []
    },
    {
      "cell_type": "code",
      "source": [
        "np.std(t, axis = 1) #  axis =1' göre standard deviation hesaplama"
      ],
      "metadata": {
        "colab": {
          "base_uri": "https://localhost:8080/"
        },
        "id": "9QtPZ0CH8Ol4",
        "outputId": "2b00c545-27a3-4a76-89e4-59717324022c"
      },
      "execution_count": 130,
      "outputs": [
        {
          "output_type": "execute_result",
          "data": {
            "text/plain": [
              "array([26.40151511, 21.06561179, 26.90724809, 25.80387568])"
            ]
          },
          "metadata": {},
          "execution_count": 130
        }
      ]
    },
    {
      "cell_type": "code",
      "source": [
        "np.std(t) standard deviation"
      ],
      "metadata": {
        "colab": {
          "base_uri": "https://localhost:8080/"
        },
        "id": "TPRo496b9r_Q",
        "outputId": "c8c9e975-1ad9-4253-ec98-58844a8461c6"
      },
      "execution_count": 134,
      "outputs": [
        {
          "output_type": "execute_result",
          "data": {
            "text/plain": [
              "26.95417407378679"
            ]
          },
          "metadata": {},
          "execution_count": 134
        }
      ]
    },
    {
      "cell_type": "code",
      "source": [
        "np.mean(t) #mean (ortalama) hesaplama"
      ],
      "metadata": {
        "colab": {
          "base_uri": "https://localhost:8080/"
        },
        "id": "zEoisIAz-aII",
        "outputId": "2d08a90e-4c89-4e2d-de5c-034a128b6065"
      },
      "execution_count": 133,
      "outputs": [
        {
          "output_type": "execute_result",
          "data": {
            "text/plain": [
              "56.65"
            ]
          },
          "metadata": {},
          "execution_count": 133
        }
      ]
    },
    {
      "cell_type": "code",
      "source": [
        "np.median(t)  # medyan hesaplama"
      ],
      "metadata": {
        "colab": {
          "base_uri": "https://localhost:8080/"
        },
        "id": "-zpijnDu-iz4",
        "outputId": "e0dff788-cc2b-42ac-b90f-70f24dedf760"
      },
      "execution_count": 126,
      "outputs": [
        {
          "output_type": "execute_result",
          "data": {
            "text/plain": [
              "55.5"
            ]
          },
          "metadata": {},
          "execution_count": 126
        }
      ]
    },
    {
      "cell_type": "code",
      "source": [
        "np.corrcoef(t) # correlation coefficient (korelasyon katsayısı)"
      ],
      "metadata": {
        "colab": {
          "base_uri": "https://localhost:8080/"
        },
        "id": "K7WJnFpR_YWI",
        "outputId": "ba86a781-9303-4f5a-a3b1-3f424c52053f"
      },
      "execution_count": 135,
      "outputs": [
        {
          "output_type": "execute_result",
          "data": {
            "text/plain": [
              "array([[ 1.        , -0.08328478,  0.56532159, -0.59149101],\n",
              "       [-0.08328478,  1.        ,  0.00564555,  0.23746518],\n",
              "       [ 0.56532159,  0.00564555,  1.        , -0.68470729],\n",
              "       [-0.59149101,  0.23746518, -0.68470729,  1.        ]])"
            ]
          },
          "metadata": {},
          "execution_count": 135
        }
      ]
    },
    {
      "cell_type": "code",
      "source": [
        "np.var(arr2) # variance (varyans) hesaplama"
      ],
      "metadata": {
        "colab": {
          "base_uri": "https://localhost:8080/"
        },
        "id": "6ZC3MFen_pgQ",
        "outputId": "b55e4440-87b8-4a11-90c2-f10acd64c276"
      },
      "execution_count": 136,
      "outputs": [
        {
          "output_type": "execute_result",
          "data": {
            "text/plain": [
              "8.25"
            ]
          },
          "metadata": {},
          "execution_count": 136
        }
      ]
    },
    {
      "cell_type": "code",
      "source": [
        "np.percentile(t,75) # = IQR3"
      ],
      "metadata": {
        "colab": {
          "base_uri": "https://localhost:8080/"
        },
        "id": "5kNOOk9NAAKH",
        "outputId": "94447639-1db6-4bb9-da65-0e131598de47"
      },
      "execution_count": 137,
      "outputs": [
        {
          "output_type": "execute_result",
          "data": {
            "text/plain": [
              "85.5"
            ]
          },
          "metadata": {},
          "execution_count": 137
        }
      ]
    },
    {
      "cell_type": "code",
      "source": [
        "np.percentile(t,25) # = IQR1"
      ],
      "metadata": {
        "colab": {
          "base_uri": "https://localhost:8080/"
        },
        "id": "PLF52oV1AN8n",
        "outputId": "477bb152-383d-4baa-d705-e168e307d6f1"
      },
      "execution_count": 138,
      "outputs": [
        {
          "output_type": "execute_result",
          "data": {
            "text/plain": [
              "30.0"
            ]
          },
          "metadata": {},
          "execution_count": 138
        }
      ]
    },
    {
      "cell_type": "code",
      "source": [
        "np.random.seed(41)   # random değeri sabitler (içine yazılan sayının bir önemi yok.)\n",
        "xarr = np.random.randn(3,5)\n",
        "xarr"
      ],
      "metadata": {
        "colab": {
          "base_uri": "https://localhost:8080/"
        },
        "id": "rQ2BxcW5AW4w",
        "outputId": "2cf5a5cc-7c33-4f25-fe03-587318ab14cc"
      },
      "execution_count": 139,
      "outputs": [
        {
          "output_type": "execute_result",
          "data": {
            "text/plain": [
              "array([[-0.27071232,  0.10484805,  0.25052782, -0.92519997,  0.56714366],\n",
              "       [-1.04018022, -0.15367595,  0.78985181, -1.22621585, -0.94800699],\n",
              "       [-0.56965394, -0.97715021, -0.77063171, -0.03371129, -1.03285925]])"
            ]
          },
          "metadata": {},
          "execution_count": 139
        }
      ]
    },
    {
      "cell_type": "code",
      "source": [
        "import warnings\n",
        "warnings.filterwarnings('ignore') # kod çalıştığı halde uyarı veren mesajları kaldırmak için kullanılır."
      ],
      "metadata": {
        "id": "RSE7WXj9AkSI"
      },
      "execution_count": null,
      "outputs": []
    }
  ]
}