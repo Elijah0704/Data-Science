{
 "cells": [
  {
   "cell_type": "markdown",
   "id": "aeae55d3",
   "metadata": {},
   "source": [
    "## DataFrame(df)"
   ]
  },
  {
   "cell_type": "code",
   "execution_count": 3,
   "id": "7e3d9405",
   "metadata": {},
   "outputs": [],
   "source": [
    "import pandas as pd\n",
    "import numpy as np"
   ]
  },
  {
   "cell_type": "markdown",
   "id": "2aed5de0",
   "metadata": {},
   "source": [
    "Pandas DataFrame, 2 boyutlu bir array veya satırlar ve sütunlar içeren bir tablo gibi 2 boyutlu bir veri yapısıdır."
   ]
  },
  {
   "cell_type": "markdown",
   "id": "830f011c",
   "metadata": {},
   "source": [
    "Series bir sütun gibidir, DataFrame tüm tablodur.yani df: n(series) 'dan oluşur."
   ]
  },
  {
   "cell_type": "markdown",
   "id": "9ed1f37a",
   "metadata": {},
   "source": [
    "Kendi df'imizi  de oluşturabiliriz hazır olan df'leri de kullanabiliriz : "
   ]
  },
  {
   "cell_type": "markdown",
   "id": "d962cbd3",
   "metadata": {},
   "source": [
    "1- kendimiz nasıl df oluştururuz ?  pd.DataFrame() ile bunu yapabiliriz."
   ]
  },
  {
   "attachments": {
    "image.png": {
     "image/png": "[encoded data removed]"
    }
   },
   "cell_type": "markdown",
   "id": "09979b35",
   "metadata": {},
   "source": [
    "![image.png](attachment:image.png)"
   ]
  },
  {
   "cell_type": "code",
   "execution_count": 7,
   "id": "1124341d",
   "metadata": {},
   "outputs": [
    {
     "data": {
      "text/plain": [
       "array([[36, 23, 10],\n",
       "       [71, 95, 27],\n",
       "       [ 2, 28,  9],\n",
       "       [11, 78, 67]])"
      ]
     },
     "execution_count": 7,
     "metadata": {},
     "output_type": "execute_result"
    }
   ],
   "source": [
    "data = np.random.randint(1,101,(4,3))\n",
    "data"
   ]
  },
  {
   "cell_type": "code",
   "execution_count": 8,
   "id": "0a3be16d",
   "metadata": {},
   "outputs": [
    {
     "data": {
      "text/html": [
       "<div>\n",
       "<style scoped>\n",
       "    .dataframe tbody tr th:only-of-type {\n",
       "        vertical-align: middle;\n",
       "    }\n",
       "\n",
       "    .dataframe tbody tr th {\n",
       "        vertical-align: top;\n",
       "    }\n",
       "\n",
       "    .dataframe thead th {\n",
       "        text-align: right;\n",
       "    }\n",
       "</style>\n",
       "<table border=\"1\" class=\"dataframe\">\n",
       "  <thead>\n",
       "    <tr style=\"text-align: right;\">\n",
       "      <th></th>\n",
       "      <th>0</th>\n",
       "      <th>1</th>\n",
       "      <th>2</th>\n",
       "    </tr>\n",
       "  </thead>\n",
       "  <tbody>\n",
       "    <tr>\n",
       "      <th>0</th>\n",
       "      <td>36</td>\n",
       "      <td>23</td>\n",
       "      <td>10</td>\n",
       "    </tr>\n",
       "    <tr>\n",
       "      <th>1</th>\n",
       "      <td>71</td>\n",
       "      <td>95</td>\n",
       "      <td>27</td>\n",
       "    </tr>\n",
       "    <tr>\n",
       "      <th>2</th>\n",
       "      <td>2</td>\n",
       "      <td>28</td>\n",
       "      <td>9</td>\n",
       "    </tr>\n",
       "    <tr>\n",
       "      <th>3</th>\n",
       "      <td>11</td>\n",
       "      <td>78</td>\n",
       "      <td>67</td>\n",
       "    </tr>\n",
       "  </tbody>\n",
       "</table>\n",
       "</div>"
      ],
      "text/plain": [
       "    0   1   2\n",
       "0  36  23  10\n",
       "1  71  95  27\n",
       "2   2  28   9\n",
       "3  11  78  67"
      ]
     },
     "execution_count": 8,
     "metadata": {},
     "output_type": "execute_result"
    }
   ],
   "source": [
    "df = pd.DataFrame(data)\n",
    "df"
   ]
  },
  {
   "cell_type": "markdown",
   "id": "c7b03d3a",
   "metadata": {},
   "source": [
    "column'lar ve rowlar 0'dan başlayarak indexlendi buna dikkat edelim."
   ]
  },
  {
   "cell_type": "markdown",
   "id": "c3343c42",
   "metadata": {},
   "source": [
    "df[0] yaparsak column mu gelecek ilk satır mı?"
   ]
  },
  {
   "cell_type": "code",
   "execution_count": 10,
   "id": "9e15cbcf",
   "metadata": {},
   "outputs": [
    {
     "data": {
      "text/plain": [
       "0    36\n",
       "1    71\n",
       "2     2\n",
       "3    11\n",
       "Name: 0, dtype: int32"
      ]
     },
     "execution_count": 10,
     "metadata": {},
     "output_type": "execute_result"
    }
   ],
   "source": [
    "df[0]"
   ]
  },
  {
   "cell_type": "code",
   "execution_count": 11,
   "id": "3b80ca00",
   "metadata": {},
   "outputs": [
    {
     "data": {
      "text/plain": [
       "0    23\n",
       "1    95\n",
       "2    28\n",
       "3    78\n",
       "Name: 1, dtype: int32"
      ]
     },
     "execution_count": 11,
     "metadata": {},
     "output_type": "execute_result"
    }
   ],
   "source": [
    "df[1]"
   ]
  },
  {
   "cell_type": "markdown",
   "id": "aaec0972",
   "metadata": {},
   "source": [
    "** column  getirdi**"
   ]
  },
  {
   "cell_type": "markdown",
   "id": "4bb0de2b",
   "metadata": {},
   "source": [
    "Peki ben sütun getirmek istemiyorum  istediğim satırı nasıl getireceğim ?"
   ]
  },
  {
   "cell_type": "markdown",
   "id": "a50c6020",
   "metadata": {},
   "source": [
    "bunun için loc attribute'nu kullanacağız : (locate)"
   ]
  },
  {
   "cell_type": "code",
   "execution_count": 12,
   "id": "a99ed342",
   "metadata": {},
   "outputs": [
    {
     "data": {
      "text/plain": [
       "0    71\n",
       "1    95\n",
       "2    27\n",
       "Name: 1, dtype: int32"
      ]
     },
     "execution_count": 12,
     "metadata": {},
     "output_type": "execute_result"
    }
   ],
   "source": [
    "df.loc[1]    "
   ]
  },
  {
   "cell_type": "code",
   "execution_count": 13,
   "id": "c206c9d9",
   "metadata": {},
   "outputs": [
    {
     "data": {
      "text/plain": [
       "0    36\n",
       "1    23\n",
       "2    10\n",
       "Name: 0, dtype: int32"
      ]
     },
     "execution_count": 13,
     "metadata": {},
     "output_type": "execute_result"
    }
   ],
   "source": [
    "df.loc[0]   "
   ]
  },
  {
   "cell_type": "markdown",
   "id": "b3fa129d",
   "metadata": {},
   "source": [
    "satırları da sütunları da demek ki alabiliyorum peki bize bunları ne olarak getiriyor yine bir df mi getiriyor bize ?"
   ]
  },
  {
   "cell_type": "code",
   "execution_count": 14,
   "id": "a4ba5600",
   "metadata": {},
   "outputs": [
    {
     "data": {
      "text/plain": [
       "pandas.core.series.Series"
      ]
     },
     "execution_count": 14,
     "metadata": {},
     "output_type": "execute_result"
    }
   ],
   "source": [
    "type(df[0])"
   ]
  },
  {
   "cell_type": "code",
   "execution_count": 15,
   "id": "b4dc19b9",
   "metadata": {},
   "outputs": [
    {
     "data": {
      "text/plain": [
       "pandas.core.series.Series"
      ]
     },
     "execution_count": 15,
     "metadata": {},
     "output_type": "execute_result"
    }
   ],
   "source": [
    "type(df.loc[0])  "
   ]
  },
  {
   "cell_type": "markdown",
   "id": "0a986aa0",
   "metadata": {},
   "source": [
    "satırı da getirse sütunu da getirse bize bunları aslında pandas series olarak getiriyor,df'in oluşum şekline de uyuyor mantıken."
   ]
  },
  {
   "cell_type": "markdown",
   "id": "3673301d",
   "metadata": {},
   "source": [
    "dict'ten df oluşturma:"
   ]
  },
  {
   "cell_type": "code",
   "execution_count": 56,
   "id": "37b5e26f",
   "metadata": {},
   "outputs": [
    {
     "data": {
      "text/html": [
       "<div>\n",
       "<style scoped>\n",
       "    .dataframe tbody tr th:only-of-type {\n",
       "        vertical-align: middle;\n",
       "    }\n",
       "\n",
       "    .dataframe tbody tr th {\n",
       "        vertical-align: top;\n",
       "    }\n",
       "\n",
       "    .dataframe thead th {\n",
       "        text-align: right;\n",
       "    }\n",
       "</style>\n",
       "<table border=\"1\" class=\"dataframe\">\n",
       "  <thead>\n",
       "    <tr style=\"text-align: right;\">\n",
       "      <th></th>\n",
       "      <th>mesafe(m)</th>\n",
       "      <th>süre</th>\n",
       "    </tr>\n",
       "  </thead>\n",
       "  <tbody>\n",
       "    <tr>\n",
       "      <th>0</th>\n",
       "      <td>100</td>\n",
       "      <td>15</td>\n",
       "    </tr>\n",
       "    <tr>\n",
       "      <th>1</th>\n",
       "      <td>200</td>\n",
       "      <td>32</td>\n",
       "    </tr>\n",
       "    <tr>\n",
       "      <th>2</th>\n",
       "      <td>400</td>\n",
       "      <td>58</td>\n",
       "    </tr>\n",
       "  </tbody>\n",
       "</table>\n",
       "</div>"
      ],
      "text/plain": [
       "   mesafe(m)  süre\n",
       "0        100    15\n",
       "1        200    32\n",
       "2        400    58"
      ]
     },
     "execution_count": 56,
     "metadata": {},
     "output_type": "execute_result"
    }
   ],
   "source": [
    "data = {\n",
    "  \"mesafe(m)\": [100,200,400],\n",
    "  \"süre\": [15,32,58]\n",
    "}\n",
    "\n",
    "df = pd.DataFrame(data)                 \n",
    "df           "
   ]
  },
  {
   "cell_type": "markdown",
   "id": "a6e5344f",
   "metadata": {},
   "source": [
    "Hatırlarsak biz bir dict ile seri oluşturduğumuzda dict'imizin keyleri bizim labellarımız(index) oluyordu. Burada key'lerin column adları olduğuna ve rowlarında 0'dan başlayarak indexlendiğine dikkat edelim."
   ]
  },
  {
   "cell_type": "code",
   "execution_count": 57,
   "id": "7322d1e6",
   "metadata": {},
   "outputs": [
    {
     "data": {
      "text/plain": [
       "pandas.core.frame.DataFrame"
      ]
     },
     "execution_count": 57,
     "metadata": {},
     "output_type": "execute_result"
    }
   ],
   "source": [
    "type(df)"
   ]
  },
  {
   "cell_type": "code",
   "execution_count": 61,
   "id": "3c07b523",
   "metadata": {},
   "outputs": [],
   "source": [
    "# df[0] hata verecek çünkü böyle bir sütun yok"
   ]
  },
  {
   "cell_type": "code",
   "execution_count": 60,
   "id": "f6684405",
   "metadata": {},
   "outputs": [
    {
     "data": {
      "text/plain": [
       "mesafe(m)    100\n",
       "süre          15\n",
       "Name: 0, dtype: int64"
      ]
     },
     "execution_count": 60,
     "metadata": {},
     "output_type": "execute_result"
    }
   ],
   "source": [
    "df.loc[0]"
   ]
  },
  {
   "cell_type": "code",
   "execution_count": 63,
   "id": "1fdf8fec",
   "metadata": {},
   "outputs": [
    {
     "data": {
      "text/plain": [
       "0    15\n",
       "1    32\n",
       "2    58\n",
       "Name: süre, dtype: int64"
      ]
     },
     "execution_count": 63,
     "metadata": {},
     "output_type": "execute_result"
    }
   ],
   "source": [
    "df[\"süre\"]"
   ]
  },
  {
   "cell_type": "markdown",
   "id": "66d096e2",
   "metadata": {},
   "source": [
    "## df' de labels(etiketleme)(indexleme)"
   ]
  },
  {
   "cell_type": "markdown",
   "id": "bc8f2bd2",
   "metadata": {},
   "source": [
    "df'de series'den farklı olarak column da label'ı olduğunu farkettik demekki ben etiketleme yaparken onu da değiştirebileceğim"
   ]
  },
  {
   "attachments": {
    "image.png": {
     "image/png": "[encoded data removed]"
    }
   },
   "cell_type": "markdown",
   "id": "5b05d405",
   "metadata": {},
   "source": [
    "![image.png](attachment:image.png)"
   ]
  },
  {
   "cell_type": "code",
   "execution_count": 180,
   "id": "3e209eda",
   "metadata": {},
   "outputs": [
    {
     "data": {
      "text/plain": [
       "array([[89, 51, 85],\n",
       "       [40, 44, 38],\n",
       "       [42, 48, 81],\n",
       "       [90, 79, 85]])"
      ]
     },
     "execution_count": 180,
     "metadata": {},
     "output_type": "execute_result"
    }
   ],
   "source": [
    "data = np.random.randint(1,101,(4,3))\n",
    "data"
   ]
  },
  {
   "cell_type": "code",
   "execution_count": 181,
   "id": "1b8a0753",
   "metadata": {},
   "outputs": [],
   "source": [
    "label1= [\"madrid\",\"inter\",\"liverpool\",\"m.city\"]\n",
    "label2=[\"atılangol\",\"yenilengol\",\"puan\"]"
   ]
  },
  {
   "cell_type": "code",
   "execution_count": 182,
   "id": "6485c20c",
   "metadata": {},
   "outputs": [
    {
     "data": {
      "text/html": [
       "<div>\n",
       "<style scoped>\n",
       "    .dataframe tbody tr th:only-of-type {\n",
       "        vertical-align: middle;\n",
       "    }\n",
       "\n",
       "    .dataframe tbody tr th {\n",
       "        vertical-align: top;\n",
       "    }\n",
       "\n",
       "    .dataframe thead th {\n",
       "        text-align: right;\n",
       "    }\n",
       "</style>\n",
       "<table border=\"1\" class=\"dataframe\">\n",
       "  <thead>\n",
       "    <tr style=\"text-align: right;\">\n",
       "      <th></th>\n",
       "      <th>atılangol</th>\n",
       "      <th>yenilengol</th>\n",
       "      <th>puan</th>\n",
       "    </tr>\n",
       "  </thead>\n",
       "  <tbody>\n",
       "    <tr>\n",
       "      <th>madrid</th>\n",
       "      <td>89</td>\n",
       "      <td>51</td>\n",
       "      <td>85</td>\n",
       "    </tr>\n",
       "    <tr>\n",
       "      <th>inter</th>\n",
       "      <td>40</td>\n",
       "      <td>44</td>\n",
       "      <td>38</td>\n",
       "    </tr>\n",
       "    <tr>\n",
       "      <th>liverpool</th>\n",
       "      <td>42</td>\n",
       "      <td>48</td>\n",
       "      <td>81</td>\n",
       "    </tr>\n",
       "    <tr>\n",
       "      <th>m.city</th>\n",
       "      <td>90</td>\n",
       "      <td>79</td>\n",
       "      <td>85</td>\n",
       "    </tr>\n",
       "  </tbody>\n",
       "</table>\n",
       "</div>"
      ],
      "text/plain": [
       "           atılangol  yenilengol  puan\n",
       "madrid            89          51    85\n",
       "inter             40          44    38\n",
       "liverpool         42          48    81\n",
       "m.city            90          79    85"
      ]
     },
     "execution_count": 182,
     "metadata": {},
     "output_type": "execute_result"
    }
   ],
   "source": [
    "df = pd.DataFrame(data,index=label1, columns=label2)\n",
    "df"
   ]
  },
  {
   "cell_type": "markdown",
   "id": "bb9fc071",
   "metadata": {},
   "source": [
    "burada da etiketleme yapacağım satır ve sütunların sayısı ile labellarımın uzunluklarının aynı olması gerekiyor.columns=label1 , index=label2 yazarsam datamın satır,sütunuyla labellar uymadığından hata alacağım tamamen series gibi"
   ]
  },
  {
   "cell_type": "code",
   "execution_count": 24,
   "id": "2dde4e1d",
   "metadata": {},
   "outputs": [],
   "source": [
    "# df = pd.DataFrame(data,index=label2, columns=label1)  \n",
    "# df"
   ]
  },
  {
   "cell_type": "code",
   "execution_count": 183,
   "id": "faa8d63c",
   "metadata": {},
   "outputs": [
    {
     "data": {
      "text/plain": [
       "madrid       85\n",
       "inter        38\n",
       "liverpool    81\n",
       "m.city       85\n",
       "Name: puan, dtype: int32"
      ]
     },
     "execution_count": 183,
     "metadata": {},
     "output_type": "execute_result"
    }
   ],
   "source": [
    "df[\"puan\"]"
   ]
  },
  {
   "cell_type": "code",
   "execution_count": 184,
   "id": "4afa21fe",
   "metadata": {},
   "outputs": [
    {
     "data": {
      "text/plain": [
       "madrid       89\n",
       "inter        40\n",
       "liverpool    42\n",
       "m.city       90\n",
       "Name: atılangol, dtype: int32"
      ]
     },
     "execution_count": 184,
     "metadata": {},
     "output_type": "execute_result"
    }
   ],
   "source": [
    "df[\"atılangol\"]"
   ]
  },
  {
   "cell_type": "markdown",
   "id": "ed3c8d71",
   "metadata": {},
   "source": [
    "df[\"madrid\"] yaparsak bize hata verecek çünkü satırı getirmek için loc attribute'nu kullanıyorduk"
   ]
  },
  {
   "cell_type": "code",
   "execution_count": 65,
   "id": "24632b7d",
   "metadata": {},
   "outputs": [],
   "source": [
    "# df[\"madrid\"]   # böyle bir sütun yok diyor (KeyError)"
   ]
  },
  {
   "cell_type": "code",
   "execution_count": 185,
   "id": "e769d395",
   "metadata": {},
   "outputs": [
    {
     "data": {
      "text/plain": [
       "atılangol     89\n",
       "yenilengol    51\n",
       "puan          85\n",
       "Name: madrid, dtype: int32"
      ]
     },
     "execution_count": 185,
     "metadata": {},
     "output_type": "execute_result"
    }
   ],
   "source": [
    "df.loc[\"madrid\"]"
   ]
  },
  {
   "cell_type": "markdown",
   "id": "93da82d2",
   "metadata": {},
   "source": [
    "Series'de ben etiketlemeyi yapsam da arka planda indexleri 0'dan başlatıyordu: yani kısaca hatırlarsak:"
   ]
  },
  {
   "cell_type": "code",
   "execution_count": 186,
   "id": "4ee8c874",
   "metadata": {},
   "outputs": [],
   "source": [
    "a = [\"ali\",\"ahmet\",\"veli\",\"mehmet\"]\n",
    "b =[\"w\",\"x\",\"y\",\"z\"]"
   ]
  },
  {
   "cell_type": "code",
   "execution_count": 187,
   "id": "4ccbe696",
   "metadata": {},
   "outputs": [
    {
     "data": {
      "text/plain": [
       "w       ali\n",
       "x     ahmet\n",
       "y      veli\n",
       "z    mehmet\n",
       "dtype: object"
      ]
     },
     "execution_count": 187,
     "metadata": {},
     "output_type": "execute_result"
    }
   ],
   "source": [
    "ps = pd.Series(data=a,index=b)\n",
    "ps"
   ]
  },
  {
   "cell_type": "markdown",
   "id": "389b31e4",
   "metadata": {},
   "source": [
    "ps[\"w\"] nasıl ki bana ali'yi getiriyorsa;"
   ]
  },
  {
   "cell_type": "code",
   "execution_count": 188,
   "id": "9332ed34",
   "metadata": {},
   "outputs": [
    {
     "data": {
      "text/plain": [
       "'ali'"
      ]
     },
     "execution_count": 188,
     "metadata": {},
     "output_type": "execute_result"
    }
   ],
   "source": [
    "ps[\"w\"]"
   ]
  },
  {
   "cell_type": "markdown",
   "id": "5738be66",
   "metadata": {},
   "source": [
    "aynı şekilde ps[0]  da ali'yi getiriyordu"
   ]
  },
  {
   "cell_type": "code",
   "execution_count": 189,
   "id": "5af01091",
   "metadata": {},
   "outputs": [
    {
     "data": {
      "text/plain": [
       "'ali'"
      ]
     },
     "execution_count": 189,
     "metadata": {},
     "output_type": "execute_result"
    }
   ],
   "source": [
    "ps[0]"
   ]
  },
  {
   "cell_type": "markdown",
   "id": "69aa832b",
   "metadata": {},
   "source": [
    "peki df'lerde durum nasıl önce df için kullandığımız data vs yeniden kopyalayalım:"
   ]
  },
  {
   "cell_type": "code",
   "execution_count": 190,
   "id": "85d83b9b",
   "metadata": {},
   "outputs": [
    {
     "data": {
      "text/plain": [
       "array([[98, 60, 62],\n",
       "       [13, 95, 16],\n",
       "       [10, 94, 52],\n",
       "       [38, 55, 42]])"
      ]
     },
     "execution_count": 190,
     "metadata": {},
     "output_type": "execute_result"
    }
   ],
   "source": [
    "data = np.random.randint(1,101,(4,3))\n",
    "data"
   ]
  },
  {
   "cell_type": "code",
   "execution_count": 191,
   "id": "9f309797",
   "metadata": {},
   "outputs": [],
   "source": [
    "label1= [\"madrid\",\"inter\",\"liverpool\",\"m.city\"]\n",
    "label2=[\"atılangol\",\"yenilengol\",\"puan\"]"
   ]
  },
  {
   "cell_type": "code",
   "execution_count": 192,
   "id": "48baca37",
   "metadata": {},
   "outputs": [
    {
     "data": {
      "text/html": [
       "<div>\n",
       "<style scoped>\n",
       "    .dataframe tbody tr th:only-of-type {\n",
       "        vertical-align: middle;\n",
       "    }\n",
       "\n",
       "    .dataframe tbody tr th {\n",
       "        vertical-align: top;\n",
       "    }\n",
       "\n",
       "    .dataframe thead th {\n",
       "        text-align: right;\n",
       "    }\n",
       "</style>\n",
       "<table border=\"1\" class=\"dataframe\">\n",
       "  <thead>\n",
       "    <tr style=\"text-align: right;\">\n",
       "      <th></th>\n",
       "      <th>atılangol</th>\n",
       "      <th>yenilengol</th>\n",
       "      <th>puan</th>\n",
       "    </tr>\n",
       "  </thead>\n",
       "  <tbody>\n",
       "    <tr>\n",
       "      <th>madrid</th>\n",
       "      <td>98</td>\n",
       "      <td>60</td>\n",
       "      <td>62</td>\n",
       "    </tr>\n",
       "    <tr>\n",
       "      <th>inter</th>\n",
       "      <td>13</td>\n",
       "      <td>95</td>\n",
       "      <td>16</td>\n",
       "    </tr>\n",
       "    <tr>\n",
       "      <th>liverpool</th>\n",
       "      <td>10</td>\n",
       "      <td>94</td>\n",
       "      <td>52</td>\n",
       "    </tr>\n",
       "    <tr>\n",
       "      <th>m.city</th>\n",
       "      <td>38</td>\n",
       "      <td>55</td>\n",
       "      <td>42</td>\n",
       "    </tr>\n",
       "  </tbody>\n",
       "</table>\n",
       "</div>"
      ],
      "text/plain": [
       "           atılangol  yenilengol  puan\n",
       "madrid            98          60    62\n",
       "inter             13          95    16\n",
       "liverpool         10          94    52\n",
       "m.city            38          55    42"
      ]
     },
     "execution_count": 192,
     "metadata": {},
     "output_type": "execute_result"
    }
   ],
   "source": [
    "df = pd.DataFrame(data,index=label1, columns=label2)\n",
    "df"
   ]
  },
  {
   "cell_type": "code",
   "execution_count": 193,
   "id": "2e1d373a",
   "metadata": {},
   "outputs": [
    {
     "data": {
      "text/plain": [
       "madrid       98\n",
       "inter        13\n",
       "liverpool    10\n",
       "m.city       38\n",
       "Name: atılangol, dtype: int32"
      ]
     },
     "execution_count": 193,
     "metadata": {},
     "output_type": "execute_result"
    }
   ],
   "source": [
    "df[\"atılangol\"]"
   ]
  },
  {
   "cell_type": "code",
   "execution_count": 194,
   "id": "7cc6fe3a",
   "metadata": {},
   "outputs": [],
   "source": [
    "# df[0]          #column için hayali bir indexleme yapMAMIŞ"
   ]
  },
  {
   "cell_type": "markdown",
   "id": "65c45a39",
   "metadata": {},
   "source": [
    "satırlar için yapmış mı ona bakalım "
   ]
  },
  {
   "cell_type": "code",
   "execution_count": 195,
   "id": "54b7321c",
   "metadata": {},
   "outputs": [
    {
     "data": {
      "text/plain": [
       "atılangol     13\n",
       "yenilengol    95\n",
       "puan          16\n",
       "Name: inter, dtype: int32"
      ]
     },
     "execution_count": 195,
     "metadata": {},
     "output_type": "execute_result"
    }
   ],
   "source": [
    "df.loc[\"inter\"]"
   ]
  },
  {
   "cell_type": "code",
   "execution_count": 196,
   "id": "e6d10698",
   "metadata": {},
   "outputs": [],
   "source": [
    "# df.loc[1] satırlar için de yapmamış gibi duruyor"
   ]
  },
  {
   "cell_type": "markdown",
   "id": "86190177",
   "metadata": {},
   "source": [
    "## AMA bunun için ayrı bir attribute var onu kullanabiliriz : df.iloc[] : (index'i esas alan location)"
   ]
  },
  {
   "cell_type": "code",
   "execution_count": 197,
   "id": "c1176bda",
   "metadata": {},
   "outputs": [
    {
     "data": {
      "text/plain": [
       "atılangol     13\n",
       "yenilengol    95\n",
       "puan          16\n",
       "Name: inter, dtype: int32"
      ]
     },
     "execution_count": 197,
     "metadata": {},
     "output_type": "execute_result"
    }
   ],
   "source": [
    "df.iloc[1]"
   ]
  },
  {
   "cell_type": "markdown",
   "id": "e17b2710",
   "metadata": {},
   "source": [
    "demek ki rowlar için aslında arka planda yine kendince bir indexleme yapmış"
   ]
  },
  {
   "cell_type": "code",
   "execution_count": 198,
   "id": "afc756df",
   "metadata": {},
   "outputs": [
    {
     "data": {
      "text/plain": [
       "atılangol     98\n",
       "yenilengol    60\n",
       "puan          62\n",
       "Name: madrid, dtype: int32"
      ]
     },
     "execution_count": 198,
     "metadata": {},
     "output_type": "execute_result"
    }
   ],
   "source": [
    "df.iloc[0]"
   ]
  },
  {
   "cell_type": "markdown",
   "id": "38be5b5d",
   "metadata": {},
   "source": [
    "Yukarıda dedik ki : satırı da getirse sütunu da getirse bize bunları aslında pandas series olarak getiriyor peki ben df olarak getirmesini istiyorsam ne yapacağım ?"
   ]
  },
  {
   "cell_type": "code",
   "execution_count": 199,
   "id": "f696fbf4",
   "metadata": {},
   "outputs": [
    {
     "data": {
      "text/html": [
       "<div>\n",
       "<style scoped>\n",
       "    .dataframe tbody tr th:only-of-type {\n",
       "        vertical-align: middle;\n",
       "    }\n",
       "\n",
       "    .dataframe tbody tr th {\n",
       "        vertical-align: top;\n",
       "    }\n",
       "\n",
       "    .dataframe thead th {\n",
       "        text-align: right;\n",
       "    }\n",
       "</style>\n",
       "<table border=\"1\" class=\"dataframe\">\n",
       "  <thead>\n",
       "    <tr style=\"text-align: right;\">\n",
       "      <th></th>\n",
       "      <th>atılangol</th>\n",
       "    </tr>\n",
       "  </thead>\n",
       "  <tbody>\n",
       "    <tr>\n",
       "      <th>madrid</th>\n",
       "      <td>98</td>\n",
       "    </tr>\n",
       "    <tr>\n",
       "      <th>inter</th>\n",
       "      <td>13</td>\n",
       "    </tr>\n",
       "    <tr>\n",
       "      <th>liverpool</th>\n",
       "      <td>10</td>\n",
       "    </tr>\n",
       "    <tr>\n",
       "      <th>m.city</th>\n",
       "      <td>38</td>\n",
       "    </tr>\n",
       "  </tbody>\n",
       "</table>\n",
       "</div>"
      ],
      "text/plain": [
       "           atılangol\n",
       "madrid            98\n",
       "inter             13\n",
       "liverpool         10\n",
       "m.city            38"
      ]
     },
     "execution_count": 199,
     "metadata": {},
     "output_type": "execute_result"
    }
   ],
   "source": [
    "df[[\"atılangol\"]] # bir köşeli parantez daha kullanmam gerekiyor böyle bir durumda"
   ]
  },
  {
   "cell_type": "code",
   "execution_count": 200,
   "id": "6d78c860",
   "metadata": {},
   "outputs": [
    {
     "data": {
      "text/plain": [
       "madrid       98\n",
       "inter        13\n",
       "liverpool    10\n",
       "m.city       38\n",
       "Name: atılangol, dtype: int32"
      ]
     },
     "execution_count": 200,
     "metadata": {},
     "output_type": "execute_result"
    }
   ],
   "source": [
    "df[\"atılangol\"]"
   ]
  },
  {
   "cell_type": "code",
   "execution_count": 201,
   "id": "817287c9",
   "metadata": {},
   "outputs": [
    {
     "data": {
      "text/plain": [
       "pandas.core.frame.DataFrame"
      ]
     },
     "execution_count": 201,
     "metadata": {},
     "output_type": "execute_result"
    }
   ],
   "source": [
    "type(df[[\"atılangol\"]] )"
   ]
  },
  {
   "cell_type": "code",
   "execution_count": 202,
   "id": "f0349b62",
   "metadata": {},
   "outputs": [
    {
     "data": {
      "text/html": [
       "<div>\n",
       "<style scoped>\n",
       "    .dataframe tbody tr th:only-of-type {\n",
       "        vertical-align: middle;\n",
       "    }\n",
       "\n",
       "    .dataframe tbody tr th {\n",
       "        vertical-align: top;\n",
       "    }\n",
       "\n",
       "    .dataframe thead th {\n",
       "        text-align: right;\n",
       "    }\n",
       "</style>\n",
       "<table border=\"1\" class=\"dataframe\">\n",
       "  <thead>\n",
       "    <tr style=\"text-align: right;\">\n",
       "      <th></th>\n",
       "      <th>atılangol</th>\n",
       "      <th>yenilengol</th>\n",
       "      <th>puan</th>\n",
       "    </tr>\n",
       "  </thead>\n",
       "  <tbody>\n",
       "    <tr>\n",
       "      <th>madrid</th>\n",
       "      <td>98</td>\n",
       "      <td>60</td>\n",
       "      <td>62</td>\n",
       "    </tr>\n",
       "  </tbody>\n",
       "</table>\n",
       "</div>"
      ],
      "text/plain": [
       "        atılangol  yenilengol  puan\n",
       "madrid         98          60    62"
      ]
     },
     "execution_count": 202,
     "metadata": {},
     "output_type": "execute_result"
    }
   ],
   "source": [
    "df.loc[[\"madrid\"]]"
   ]
  },
  {
   "cell_type": "code",
   "execution_count": 203,
   "id": "24b7ac8e",
   "metadata": {},
   "outputs": [
    {
     "data": {
      "text/plain": [
       "pandas.core.frame.DataFrame"
      ]
     },
     "execution_count": 203,
     "metadata": {},
     "output_type": "execute_result"
    }
   ],
   "source": [
    "type(df.loc[[\"madrid\"]])"
   ]
  },
  {
   "cell_type": "markdown",
   "id": "36772e45",
   "metadata": {},
   "source": [
    "[  ] sayesinde df olarak alabildiğimize göre bizim birden fazla satır veya sütünu da getiriyor olabilmemiz lazım :"
   ]
  },
  {
   "cell_type": "code",
   "execution_count": 204,
   "id": "5ee3d692",
   "metadata": {},
   "outputs": [
    {
     "data": {
      "text/html": [
       "<div>\n",
       "<style scoped>\n",
       "    .dataframe tbody tr th:only-of-type {\n",
       "        vertical-align: middle;\n",
       "    }\n",
       "\n",
       "    .dataframe tbody tr th {\n",
       "        vertical-align: top;\n",
       "    }\n",
       "\n",
       "    .dataframe thead th {\n",
       "        text-align: right;\n",
       "    }\n",
       "</style>\n",
       "<table border=\"1\" class=\"dataframe\">\n",
       "  <thead>\n",
       "    <tr style=\"text-align: right;\">\n",
       "      <th></th>\n",
       "      <th>atılangol</th>\n",
       "      <th>puan</th>\n",
       "    </tr>\n",
       "  </thead>\n",
       "  <tbody>\n",
       "    <tr>\n",
       "      <th>madrid</th>\n",
       "      <td>98</td>\n",
       "      <td>62</td>\n",
       "    </tr>\n",
       "    <tr>\n",
       "      <th>inter</th>\n",
       "      <td>13</td>\n",
       "      <td>16</td>\n",
       "    </tr>\n",
       "    <tr>\n",
       "      <th>liverpool</th>\n",
       "      <td>10</td>\n",
       "      <td>52</td>\n",
       "    </tr>\n",
       "    <tr>\n",
       "      <th>m.city</th>\n",
       "      <td>38</td>\n",
       "      <td>42</td>\n",
       "    </tr>\n",
       "  </tbody>\n",
       "</table>\n",
       "</div>"
      ],
      "text/plain": [
       "           atılangol  puan\n",
       "madrid            98    62\n",
       "inter             13    16\n",
       "liverpool         10    52\n",
       "m.city            38    42"
      ]
     },
     "execution_count": 204,
     "metadata": {},
     "output_type": "execute_result"
    }
   ],
   "source": [
    "df[[\"atılangol\",\"puan\"]]"
   ]
  },
  {
   "cell_type": "code",
   "execution_count": 205,
   "id": "285bffe4",
   "metadata": {},
   "outputs": [
    {
     "data": {
      "text/html": [
       "<div>\n",
       "<style scoped>\n",
       "    .dataframe tbody tr th:only-of-type {\n",
       "        vertical-align: middle;\n",
       "    }\n",
       "\n",
       "    .dataframe tbody tr th {\n",
       "        vertical-align: top;\n",
       "    }\n",
       "\n",
       "    .dataframe thead th {\n",
       "        text-align: right;\n",
       "    }\n",
       "</style>\n",
       "<table border=\"1\" class=\"dataframe\">\n",
       "  <thead>\n",
       "    <tr style=\"text-align: right;\">\n",
       "      <th></th>\n",
       "      <th>atılangol</th>\n",
       "      <th>yenilengol</th>\n",
       "      <th>puan</th>\n",
       "    </tr>\n",
       "  </thead>\n",
       "  <tbody>\n",
       "    <tr>\n",
       "      <th>madrid</th>\n",
       "      <td>98</td>\n",
       "      <td>60</td>\n",
       "      <td>62</td>\n",
       "    </tr>\n",
       "    <tr>\n",
       "      <th>liverpool</th>\n",
       "      <td>10</td>\n",
       "      <td>94</td>\n",
       "      <td>52</td>\n",
       "    </tr>\n",
       "  </tbody>\n",
       "</table>\n",
       "</div>"
      ],
      "text/plain": [
       "           atılangol  yenilengol  puan\n",
       "madrid            98          60    62\n",
       "liverpool         10          94    52"
      ]
     },
     "execution_count": 205,
     "metadata": {},
     "output_type": "execute_result"
    }
   ],
   "source": [
    "df.loc[[\"madrid\",\"liverpool\"]]"
   ]
  },
  {
   "cell_type": "markdown",
   "id": "666ee2c7",
   "metadata": {},
   "source": [
    "# Oluşturduğumuz df'e column eklemek"
   ]
  },
  {
   "cell_type": "code",
   "execution_count": 206,
   "id": "77017e5b",
   "metadata": {},
   "outputs": [
    {
     "data": {
      "text/html": [
       "<div>\n",
       "<style scoped>\n",
       "    .dataframe tbody tr th:only-of-type {\n",
       "        vertical-align: middle;\n",
       "    }\n",
       "\n",
       "    .dataframe tbody tr th {\n",
       "        vertical-align: top;\n",
       "    }\n",
       "\n",
       "    .dataframe thead th {\n",
       "        text-align: right;\n",
       "    }\n",
       "</style>\n",
       "<table border=\"1\" class=\"dataframe\">\n",
       "  <thead>\n",
       "    <tr style=\"text-align: right;\">\n",
       "      <th></th>\n",
       "      <th>atılangol</th>\n",
       "      <th>yenilengol</th>\n",
       "      <th>puan</th>\n",
       "    </tr>\n",
       "  </thead>\n",
       "  <tbody>\n",
       "    <tr>\n",
       "      <th>madrid</th>\n",
       "      <td>98</td>\n",
       "      <td>60</td>\n",
       "      <td>62</td>\n",
       "    </tr>\n",
       "    <tr>\n",
       "      <th>inter</th>\n",
       "      <td>13</td>\n",
       "      <td>95</td>\n",
       "      <td>16</td>\n",
       "    </tr>\n",
       "    <tr>\n",
       "      <th>liverpool</th>\n",
       "      <td>10</td>\n",
       "      <td>94</td>\n",
       "      <td>52</td>\n",
       "    </tr>\n",
       "    <tr>\n",
       "      <th>m.city</th>\n",
       "      <td>38</td>\n",
       "      <td>55</td>\n",
       "      <td>42</td>\n",
       "    </tr>\n",
       "  </tbody>\n",
       "</table>\n",
       "</div>"
      ],
      "text/plain": [
       "           atılangol  yenilengol  puan\n",
       "madrid            98          60    62\n",
       "inter             13          95    16\n",
       "liverpool         10          94    52\n",
       "m.city            38          55    42"
      ]
     },
     "execution_count": 206,
     "metadata": {},
     "output_type": "execute_result"
    }
   ],
   "source": [
    "df"
   ]
  },
  {
   "cell_type": "code",
   "execution_count": 207,
   "id": "e802a073",
   "metadata": {},
   "outputs": [
    {
     "data": {
      "text/plain": [
       "madrid       62\n",
       "inter        16\n",
       "liverpool    52\n",
       "m.city       42\n",
       "Name: puan, dtype: int32"
      ]
     },
     "execution_count": 207,
     "metadata": {},
     "output_type": "execute_result"
    }
   ],
   "source": [
    "df[\"puan\"]"
   ]
  },
  {
   "cell_type": "markdown",
   "id": "dc7cb344",
   "metadata": {},
   "source": [
    "yeni bir sütun eklerken :  dictlerdeki  dict[olmayan key] = value pair'i bize hatırlarsak yeni bir key,value pair'ı oluşturuyordu buna benzer bir mantıkla df'lerde de yeni bir column ekleyebiliyoruz."
   ]
  },
  {
   "cell_type": "code",
   "execution_count": 208,
   "id": "94637b66",
   "metadata": {},
   "outputs": [],
   "source": [
    "df[\"oynananmac\"]=[4,5,6,7]"
   ]
  },
  {
   "cell_type": "code",
   "execution_count": 209,
   "id": "94823891",
   "metadata": {},
   "outputs": [
    {
     "data": {
      "text/html": [
       "<div>\n",
       "<style scoped>\n",
       "    .dataframe tbody tr th:only-of-type {\n",
       "        vertical-align: middle;\n",
       "    }\n",
       "\n",
       "    .dataframe tbody tr th {\n",
       "        vertical-align: top;\n",
       "    }\n",
       "\n",
       "    .dataframe thead th {\n",
       "        text-align: right;\n",
       "    }\n",
       "</style>\n",
       "<table border=\"1\" class=\"dataframe\">\n",
       "  <thead>\n",
       "    <tr style=\"text-align: right;\">\n",
       "      <th></th>\n",
       "      <th>atılangol</th>\n",
       "      <th>yenilengol</th>\n",
       "      <th>puan</th>\n",
       "      <th>oynananmac</th>\n",
       "    </tr>\n",
       "  </thead>\n",
       "  <tbody>\n",
       "    <tr>\n",
       "      <th>madrid</th>\n",
       "      <td>98</td>\n",
       "      <td>60</td>\n",
       "      <td>62</td>\n",
       "      <td>4</td>\n",
       "    </tr>\n",
       "    <tr>\n",
       "      <th>inter</th>\n",
       "      <td>13</td>\n",
       "      <td>95</td>\n",
       "      <td>16</td>\n",
       "      <td>5</td>\n",
       "    </tr>\n",
       "    <tr>\n",
       "      <th>liverpool</th>\n",
       "      <td>10</td>\n",
       "      <td>94</td>\n",
       "      <td>52</td>\n",
       "      <td>6</td>\n",
       "    </tr>\n",
       "    <tr>\n",
       "      <th>m.city</th>\n",
       "      <td>38</td>\n",
       "      <td>55</td>\n",
       "      <td>42</td>\n",
       "      <td>7</td>\n",
       "    </tr>\n",
       "  </tbody>\n",
       "</table>\n",
       "</div>"
      ],
      "text/plain": [
       "           atılangol  yenilengol  puan  oynananmac\n",
       "madrid            98          60    62           4\n",
       "inter             13          95    16           5\n",
       "liverpool         10          94    52           6\n",
       "m.city            38          55    42           7"
      ]
     },
     "execution_count": 209,
     "metadata": {},
     "output_type": "execute_result"
    }
   ],
   "source": [
    "df"
   ]
  },
  {
   "cell_type": "markdown",
   "id": "e90d2261",
   "metadata": {},
   "source": [
    "df[\"oynanmac\"]=[4,5,6,7]   listemizin satır sayısı kadar olduğuna dikkat edelim ya öyle olmasaydı ?"
   ]
  },
  {
   "cell_type": "code",
   "execution_count": 121,
   "id": "f0e4eeba",
   "metadata": {},
   "outputs": [],
   "source": [
    "# df[\"galibiyet\"]=[2,3,5] böyle olsaydı hata alacaktık"
   ]
  },
  {
   "cell_type": "markdown",
   "id": "58f32489",
   "metadata": {},
   "source": [
    "yeni bir column'u şöyle de ekleyebiliyoruz:"
   ]
  },
  {
   "cell_type": "code",
   "execution_count": 210,
   "id": "47bccda0",
   "metadata": {},
   "outputs": [
    {
     "data": {
      "text/html": [
       "<div>\n",
       "<style scoped>\n",
       "    .dataframe tbody tr th:only-of-type {\n",
       "        vertical-align: middle;\n",
       "    }\n",
       "\n",
       "    .dataframe tbody tr th {\n",
       "        vertical-align: top;\n",
       "    }\n",
       "\n",
       "    .dataframe thead th {\n",
       "        text-align: right;\n",
       "    }\n",
       "</style>\n",
       "<table border=\"1\" class=\"dataframe\">\n",
       "  <thead>\n",
       "    <tr style=\"text-align: right;\">\n",
       "      <th></th>\n",
       "      <th>atılangol</th>\n",
       "      <th>yenilengol</th>\n",
       "      <th>puan</th>\n",
       "      <th>oynananmac</th>\n",
       "      <th>average</th>\n",
       "    </tr>\n",
       "  </thead>\n",
       "  <tbody>\n",
       "    <tr>\n",
       "      <th>madrid</th>\n",
       "      <td>98</td>\n",
       "      <td>60</td>\n",
       "      <td>62</td>\n",
       "      <td>4</td>\n",
       "      <td>38</td>\n",
       "    </tr>\n",
       "    <tr>\n",
       "      <th>inter</th>\n",
       "      <td>13</td>\n",
       "      <td>95</td>\n",
       "      <td>16</td>\n",
       "      <td>5</td>\n",
       "      <td>-82</td>\n",
       "    </tr>\n",
       "    <tr>\n",
       "      <th>liverpool</th>\n",
       "      <td>10</td>\n",
       "      <td>94</td>\n",
       "      <td>52</td>\n",
       "      <td>6</td>\n",
       "      <td>-84</td>\n",
       "    </tr>\n",
       "    <tr>\n",
       "      <th>m.city</th>\n",
       "      <td>38</td>\n",
       "      <td>55</td>\n",
       "      <td>42</td>\n",
       "      <td>7</td>\n",
       "      <td>-17</td>\n",
       "    </tr>\n",
       "  </tbody>\n",
       "</table>\n",
       "</div>"
      ],
      "text/plain": [
       "           atılangol  yenilengol  puan  oynananmac  average\n",
       "madrid            98          60    62           4       38\n",
       "inter             13          95    16           5      -82\n",
       "liverpool         10          94    52           6      -84\n",
       "m.city            38          55    42           7      -17"
      ]
     },
     "execution_count": 210,
     "metadata": {},
     "output_type": "execute_result"
    }
   ],
   "source": [
    "df[\"average\"] = df[\"atılangol\"] - df[\"yenilengol\"]\n",
    "df"
   ]
  },
  {
   "cell_type": "markdown",
   "id": "d0d518b8",
   "metadata": {},
   "source": [
    "## bir df'den column nasıl sileriz?"
   ]
  },
  {
   "cell_type": "markdown",
   "id": "67282db7",
   "metadata": {},
   "source": [
    "aşağıdaki kodu çalıştırdığımızda hata alacağız "
   ]
  },
  {
   "cell_type": "code",
   "execution_count": 108,
   "id": "dfa857e9",
   "metadata": {},
   "outputs": [],
   "source": [
    "# df.drop(\"oynanmac\")"
   ]
  },
  {
   "attachments": {
    "image.png": {
     "image/png": "[encoded data removed]"
    }
   },
   "cell_type": "markdown",
   "id": "6395508d",
   "metadata": {},
   "source": [
    "bunun nedeni :![image.png](attachment:image.png)   "
   ]
  },
  {
   "cell_type": "markdown",
   "id": "d8b4047b",
   "metadata": {},
   "source": [
    "görüldüğü üzere biz yukarıdaki kodu çalıştırdığımızda default olarak axis=0 olduğundan sileceğimiz şeyi rowlarda arıyor ben sütunda aramasını istiyorsam axis = 1 yapacağım."
   ]
  },
  {
   "cell_type": "code",
   "execution_count": 211,
   "id": "12d78851",
   "metadata": {},
   "outputs": [
    {
     "data": {
      "text/html": [
       "<div>\n",
       "<style scoped>\n",
       "    .dataframe tbody tr th:only-of-type {\n",
       "        vertical-align: middle;\n",
       "    }\n",
       "\n",
       "    .dataframe tbody tr th {\n",
       "        vertical-align: top;\n",
       "    }\n",
       "\n",
       "    .dataframe thead th {\n",
       "        text-align: right;\n",
       "    }\n",
       "</style>\n",
       "<table border=\"1\" class=\"dataframe\">\n",
       "  <thead>\n",
       "    <tr style=\"text-align: right;\">\n",
       "      <th></th>\n",
       "      <th>atılangol</th>\n",
       "      <th>yenilengol</th>\n",
       "      <th>puan</th>\n",
       "      <th>average</th>\n",
       "    </tr>\n",
       "  </thead>\n",
       "  <tbody>\n",
       "    <tr>\n",
       "      <th>madrid</th>\n",
       "      <td>98</td>\n",
       "      <td>60</td>\n",
       "      <td>62</td>\n",
       "      <td>38</td>\n",
       "    </tr>\n",
       "    <tr>\n",
       "      <th>inter</th>\n",
       "      <td>13</td>\n",
       "      <td>95</td>\n",
       "      <td>16</td>\n",
       "      <td>-82</td>\n",
       "    </tr>\n",
       "    <tr>\n",
       "      <th>liverpool</th>\n",
       "      <td>10</td>\n",
       "      <td>94</td>\n",
       "      <td>52</td>\n",
       "      <td>-84</td>\n",
       "    </tr>\n",
       "    <tr>\n",
       "      <th>m.city</th>\n",
       "      <td>38</td>\n",
       "      <td>55</td>\n",
       "      <td>42</td>\n",
       "      <td>-17</td>\n",
       "    </tr>\n",
       "  </tbody>\n",
       "</table>\n",
       "</div>"
      ],
      "text/plain": [
       "           atılangol  yenilengol  puan  average\n",
       "madrid            98          60    62       38\n",
       "inter             13          95    16      -82\n",
       "liverpool         10          94    52      -84\n",
       "m.city            38          55    42      -17"
      ]
     },
     "execution_count": 211,
     "metadata": {},
     "output_type": "execute_result"
    }
   ],
   "source": [
    "df.drop(\"oynananmac\",axis=1)"
   ]
  },
  {
   "cell_type": "markdown",
   "id": "9907f744",
   "metadata": {},
   "source": [
    "burdan anlayacağımız üzere rowlardan birini sileceksem ben df.drop(\"row\") yazmam yeterli"
   ]
  },
  {
   "cell_type": "code",
   "execution_count": 212,
   "id": "82d91159",
   "metadata": {},
   "outputs": [
    {
     "data": {
      "text/html": [
       "<div>\n",
       "<style scoped>\n",
       "    .dataframe tbody tr th:only-of-type {\n",
       "        vertical-align: middle;\n",
       "    }\n",
       "\n",
       "    .dataframe tbody tr th {\n",
       "        vertical-align: top;\n",
       "    }\n",
       "\n",
       "    .dataframe thead th {\n",
       "        text-align: right;\n",
       "    }\n",
       "</style>\n",
       "<table border=\"1\" class=\"dataframe\">\n",
       "  <thead>\n",
       "    <tr style=\"text-align: right;\">\n",
       "      <th></th>\n",
       "      <th>atılangol</th>\n",
       "      <th>yenilengol</th>\n",
       "      <th>puan</th>\n",
       "      <th>oynananmac</th>\n",
       "      <th>average</th>\n",
       "    </tr>\n",
       "  </thead>\n",
       "  <tbody>\n",
       "    <tr>\n",
       "      <th>madrid</th>\n",
       "      <td>98</td>\n",
       "      <td>60</td>\n",
       "      <td>62</td>\n",
       "      <td>4</td>\n",
       "      <td>38</td>\n",
       "    </tr>\n",
       "    <tr>\n",
       "      <th>liverpool</th>\n",
       "      <td>10</td>\n",
       "      <td>94</td>\n",
       "      <td>52</td>\n",
       "      <td>6</td>\n",
       "      <td>-84</td>\n",
       "    </tr>\n",
       "    <tr>\n",
       "      <th>m.city</th>\n",
       "      <td>38</td>\n",
       "      <td>55</td>\n",
       "      <td>42</td>\n",
       "      <td>7</td>\n",
       "      <td>-17</td>\n",
       "    </tr>\n",
       "  </tbody>\n",
       "</table>\n",
       "</div>"
      ],
      "text/plain": [
       "           atılangol  yenilengol  puan  oynananmac  average\n",
       "madrid            98          60    62           4       38\n",
       "liverpool         10          94    52           6      -84\n",
       "m.city            38          55    42           7      -17"
      ]
     },
     "execution_count": 212,
     "metadata": {},
     "output_type": "execute_result"
    }
   ],
   "source": [
    "df.drop(\"inter\")"
   ]
  },
  {
   "cell_type": "markdown",
   "id": "19cccc86",
   "metadata": {},
   "source": [
    "tekrar bir df'i çağıralım"
   ]
  },
  {
   "cell_type": "code",
   "execution_count": 213,
   "id": "f418447d",
   "metadata": {},
   "outputs": [
    {
     "data": {
      "text/html": [
       "<div>\n",
       "<style scoped>\n",
       "    .dataframe tbody tr th:only-of-type {\n",
       "        vertical-align: middle;\n",
       "    }\n",
       "\n",
       "    .dataframe tbody tr th {\n",
       "        vertical-align: top;\n",
       "    }\n",
       "\n",
       "    .dataframe thead th {\n",
       "        text-align: right;\n",
       "    }\n",
       "</style>\n",
       "<table border=\"1\" class=\"dataframe\">\n",
       "  <thead>\n",
       "    <tr style=\"text-align: right;\">\n",
       "      <th></th>\n",
       "      <th>atılangol</th>\n",
       "      <th>yenilengol</th>\n",
       "      <th>puan</th>\n",
       "      <th>oynananmac</th>\n",
       "      <th>average</th>\n",
       "    </tr>\n",
       "  </thead>\n",
       "  <tbody>\n",
       "    <tr>\n",
       "      <th>madrid</th>\n",
       "      <td>98</td>\n",
       "      <td>60</td>\n",
       "      <td>62</td>\n",
       "      <td>4</td>\n",
       "      <td>38</td>\n",
       "    </tr>\n",
       "    <tr>\n",
       "      <th>inter</th>\n",
       "      <td>13</td>\n",
       "      <td>95</td>\n",
       "      <td>16</td>\n",
       "      <td>5</td>\n",
       "      <td>-82</td>\n",
       "    </tr>\n",
       "    <tr>\n",
       "      <th>liverpool</th>\n",
       "      <td>10</td>\n",
       "      <td>94</td>\n",
       "      <td>52</td>\n",
       "      <td>6</td>\n",
       "      <td>-84</td>\n",
       "    </tr>\n",
       "    <tr>\n",
       "      <th>m.city</th>\n",
       "      <td>38</td>\n",
       "      <td>55</td>\n",
       "      <td>42</td>\n",
       "      <td>7</td>\n",
       "      <td>-17</td>\n",
       "    </tr>\n",
       "  </tbody>\n",
       "</table>\n",
       "</div>"
      ],
      "text/plain": [
       "           atılangol  yenilengol  puan  oynananmac  average\n",
       "madrid            98          60    62           4       38\n",
       "inter             13          95    16           5      -82\n",
       "liverpool         10          94    52           6      -84\n",
       "m.city            38          55    42           7      -17"
      ]
     },
     "execution_count": 213,
     "metadata": {},
     "output_type": "execute_result"
    }
   ],
   "source": [
    "df"
   ]
  },
  {
   "cell_type": "markdown",
   "id": "d21eab4b",
   "metadata": {},
   "source": [
    "görüldüğü üzere eklerken direk ekliyor ama silerken aslında df'in üzerinden silmiyor silince nasıl gözükür bize onu gösteriyor zira df.drop() bir attribute'tur, metot değildir ; biz eğer df'den gerçekten silmek istiyorsak df = df.drop() yapmalıyız"
   ]
  },
  {
   "cell_type": "code",
   "execution_count": 214,
   "id": "5618fe67",
   "metadata": {},
   "outputs": [],
   "source": [
    "df = df.drop(\"oynananmac\",axis=1)"
   ]
  },
  {
   "cell_type": "code",
   "execution_count": 215,
   "id": "b4cf7307",
   "metadata": {},
   "outputs": [
    {
     "data": {
      "text/html": [
       "<div>\n",
       "<style scoped>\n",
       "    .dataframe tbody tr th:only-of-type {\n",
       "        vertical-align: middle;\n",
       "    }\n",
       "\n",
       "    .dataframe tbody tr th {\n",
       "        vertical-align: top;\n",
       "    }\n",
       "\n",
       "    .dataframe thead th {\n",
       "        text-align: right;\n",
       "    }\n",
       "</style>\n",
       "<table border=\"1\" class=\"dataframe\">\n",
       "  <thead>\n",
       "    <tr style=\"text-align: right;\">\n",
       "      <th></th>\n",
       "      <th>atılangol</th>\n",
       "      <th>yenilengol</th>\n",
       "      <th>puan</th>\n",
       "      <th>average</th>\n",
       "    </tr>\n",
       "  </thead>\n",
       "  <tbody>\n",
       "    <tr>\n",
       "      <th>madrid</th>\n",
       "      <td>98</td>\n",
       "      <td>60</td>\n",
       "      <td>62</td>\n",
       "      <td>38</td>\n",
       "    </tr>\n",
       "    <tr>\n",
       "      <th>inter</th>\n",
       "      <td>13</td>\n",
       "      <td>95</td>\n",
       "      <td>16</td>\n",
       "      <td>-82</td>\n",
       "    </tr>\n",
       "    <tr>\n",
       "      <th>liverpool</th>\n",
       "      <td>10</td>\n",
       "      <td>94</td>\n",
       "      <td>52</td>\n",
       "      <td>-84</td>\n",
       "    </tr>\n",
       "    <tr>\n",
       "      <th>m.city</th>\n",
       "      <td>38</td>\n",
       "      <td>55</td>\n",
       "      <td>42</td>\n",
       "      <td>-17</td>\n",
       "    </tr>\n",
       "  </tbody>\n",
       "</table>\n",
       "</div>"
      ],
      "text/plain": [
       "           atılangol  yenilengol  puan  average\n",
       "madrid            98          60    62       38\n",
       "inter             13          95    16      -82\n",
       "liverpool         10          94    52      -84\n",
       "m.city            38          55    42      -17"
      ]
     },
     "execution_count": 215,
     "metadata": {},
     "output_type": "execute_result"
    }
   ],
   "source": [
    "df"
   ]
  },
  {
   "cell_type": "code",
   "execution_count": 216,
   "id": "7ef56487",
   "metadata": {},
   "outputs": [],
   "source": [
    "df = df.drop(\"inter\")"
   ]
  },
  {
   "cell_type": "code",
   "execution_count": 217,
   "id": "c809bb17",
   "metadata": {},
   "outputs": [
    {
     "data": {
      "text/html": [
       "<div>\n",
       "<style scoped>\n",
       "    .dataframe tbody tr th:only-of-type {\n",
       "        vertical-align: middle;\n",
       "    }\n",
       "\n",
       "    .dataframe tbody tr th {\n",
       "        vertical-align: top;\n",
       "    }\n",
       "\n",
       "    .dataframe thead th {\n",
       "        text-align: right;\n",
       "    }\n",
       "</style>\n",
       "<table border=\"1\" class=\"dataframe\">\n",
       "  <thead>\n",
       "    <tr style=\"text-align: right;\">\n",
       "      <th></th>\n",
       "      <th>atılangol</th>\n",
       "      <th>yenilengol</th>\n",
       "      <th>puan</th>\n",
       "      <th>average</th>\n",
       "    </tr>\n",
       "  </thead>\n",
       "  <tbody>\n",
       "    <tr>\n",
       "      <th>madrid</th>\n",
       "      <td>98</td>\n",
       "      <td>60</td>\n",
       "      <td>62</td>\n",
       "      <td>38</td>\n",
       "    </tr>\n",
       "    <tr>\n",
       "      <th>liverpool</th>\n",
       "      <td>10</td>\n",
       "      <td>94</td>\n",
       "      <td>52</td>\n",
       "      <td>-84</td>\n",
       "    </tr>\n",
       "    <tr>\n",
       "      <th>m.city</th>\n",
       "      <td>38</td>\n",
       "      <td>55</td>\n",
       "      <td>42</td>\n",
       "      <td>-17</td>\n",
       "    </tr>\n",
       "  </tbody>\n",
       "</table>\n",
       "</div>"
      ],
      "text/plain": [
       "           atılangol  yenilengol  puan  average\n",
       "madrid            98          60    62       38\n",
       "liverpool         10          94    52      -84\n",
       "m.city            38          55    42      -17"
      ]
     },
     "execution_count": 217,
     "metadata": {},
     "output_type": "execute_result"
    }
   ],
   "source": [
    "df"
   ]
  },
  {
   "cell_type": "markdown",
   "id": "a8b471bb",
   "metadata": {},
   "source": [
    "## 2.yolu: yani df = df.drop() gibi bir eşitleme yapmayacağız ama yine gerçekten de df üzerinden silme işlemini yapabileceğiz:"
   ]
  },
  {
   "attachments": {
    "image.png": {
     "image/png": "[encoded data removed]"
    }
   },
   "cell_type": "markdown",
   "id": "885299e7",
   "metadata": {},
   "source": [
    "df.drop()' in içerisine bakarsak şöyle bir şey göreceğiz :![image.png](attachment:image.png)"
   ]
  },
  {
   "attachments": {
    "image.png": {
     "image/png": "[encoded data removed]"
    }
   },
   "cell_type": "markdown",
   "id": "0f964001",
   "metadata": {},
   "source": [
    "![image.png](attachment:image.png)"
   ]
  },
  {
   "cell_type": "code",
   "execution_count": 132,
   "id": "c18483b6",
   "metadata": {},
   "outputs": [
    {
     "data": {
      "text/html": [
       "<div>\n",
       "<style scoped>\n",
       "    .dataframe tbody tr th:only-of-type {\n",
       "        vertical-align: middle;\n",
       "    }\n",
       "\n",
       "    .dataframe tbody tr th {\n",
       "        vertical-align: top;\n",
       "    }\n",
       "\n",
       "    .dataframe thead th {\n",
       "        text-align: right;\n",
       "    }\n",
       "</style>\n",
       "<table border=\"1\" class=\"dataframe\">\n",
       "  <thead>\n",
       "    <tr style=\"text-align: right;\">\n",
       "      <th></th>\n",
       "      <th>atılangol</th>\n",
       "      <th>yenilengol</th>\n",
       "      <th>puan</th>\n",
       "      <th>average</th>\n",
       "    </tr>\n",
       "  </thead>\n",
       "  <tbody>\n",
       "    <tr>\n",
       "      <th>madrid</th>\n",
       "      <td>46</td>\n",
       "      <td>32</td>\n",
       "      <td>48</td>\n",
       "      <td>14</td>\n",
       "    </tr>\n",
       "    <tr>\n",
       "      <th>liverpool</th>\n",
       "      <td>66</td>\n",
       "      <td>40</td>\n",
       "      <td>18</td>\n",
       "      <td>26</td>\n",
       "    </tr>\n",
       "    <tr>\n",
       "      <th>m.city</th>\n",
       "      <td>73</td>\n",
       "      <td>74</td>\n",
       "      <td>56</td>\n",
       "      <td>-1</td>\n",
       "    </tr>\n",
       "  </tbody>\n",
       "</table>\n",
       "</div>"
      ],
      "text/plain": [
       "           atılangol  yenilengol  puan  average\n",
       "madrid            46          32    48       14\n",
       "liverpool         66          40    18       26\n",
       "m.city            73          74    56       -1"
      ]
     },
     "execution_count": 132,
     "metadata": {},
     "output_type": "execute_result"
    }
   ],
   "source": [
    "df          # inplace ----> yerinde yap"
   ]
  },
  {
   "cell_type": "code",
   "execution_count": 218,
   "id": "cbba84f3",
   "metadata": {},
   "outputs": [],
   "source": [
    "df.drop(\"puan\",axis=1,inplace=True)"
   ]
  },
  {
   "cell_type": "code",
   "execution_count": 219,
   "id": "14617d20",
   "metadata": {},
   "outputs": [
    {
     "data": {
      "text/html": [
       "<div>\n",
       "<style scoped>\n",
       "    .dataframe tbody tr th:only-of-type {\n",
       "        vertical-align: middle;\n",
       "    }\n",
       "\n",
       "    .dataframe tbody tr th {\n",
       "        vertical-align: top;\n",
       "    }\n",
       "\n",
       "    .dataframe thead th {\n",
       "        text-align: right;\n",
       "    }\n",
       "</style>\n",
       "<table border=\"1\" class=\"dataframe\">\n",
       "  <thead>\n",
       "    <tr style=\"text-align: right;\">\n",
       "      <th></th>\n",
       "      <th>atılangol</th>\n",
       "      <th>yenilengol</th>\n",
       "      <th>average</th>\n",
       "    </tr>\n",
       "  </thead>\n",
       "  <tbody>\n",
       "    <tr>\n",
       "      <th>madrid</th>\n",
       "      <td>98</td>\n",
       "      <td>60</td>\n",
       "      <td>38</td>\n",
       "    </tr>\n",
       "    <tr>\n",
       "      <th>liverpool</th>\n",
       "      <td>10</td>\n",
       "      <td>94</td>\n",
       "      <td>-84</td>\n",
       "    </tr>\n",
       "    <tr>\n",
       "      <th>m.city</th>\n",
       "      <td>38</td>\n",
       "      <td>55</td>\n",
       "      <td>-17</td>\n",
       "    </tr>\n",
       "  </tbody>\n",
       "</table>\n",
       "</div>"
      ],
      "text/plain": [
       "           atılangol  yenilengol  average\n",
       "madrid            98          60       38\n",
       "liverpool         10          94      -84\n",
       "m.city            38          55      -17"
      ]
     },
     "execution_count": 219,
     "metadata": {},
     "output_type": "execute_result"
    }
   ],
   "source": [
    "df"
   ]
  },
  {
   "cell_type": "code",
   "execution_count": 220,
   "id": "fd0c032f",
   "metadata": {},
   "outputs": [
    {
     "data": {
      "text/plain": [
       "(3, 3)"
      ]
     },
     "execution_count": 220,
     "metadata": {},
     "output_type": "execute_result"
    }
   ],
   "source": [
    "df.shape"
   ]
  },
  {
   "cell_type": "markdown",
   "id": "bef4b5fa",
   "metadata": {},
   "source": [
    "## ben row'u silmek istemiyorum  ama adını değiştirmek istiyorum ne yapacağım ?"
   ]
  },
  {
   "cell_type": "code",
   "execution_count": 221,
   "id": "7ee1632b",
   "metadata": {},
   "outputs": [
    {
     "data": {
      "text/html": [
       "<div>\n",
       "<style scoped>\n",
       "    .dataframe tbody tr th:only-of-type {\n",
       "        vertical-align: middle;\n",
       "    }\n",
       "\n",
       "    .dataframe tbody tr th {\n",
       "        vertical-align: top;\n",
       "    }\n",
       "\n",
       "    .dataframe thead th {\n",
       "        text-align: right;\n",
       "    }\n",
       "</style>\n",
       "<table border=\"1\" class=\"dataframe\">\n",
       "  <thead>\n",
       "    <tr style=\"text-align: right;\">\n",
       "      <th></th>\n",
       "      <th>atılangol</th>\n",
       "      <th>yenilengol</th>\n",
       "      <th>average</th>\n",
       "    </tr>\n",
       "  </thead>\n",
       "  <tbody>\n",
       "    <tr>\n",
       "      <th>madrid</th>\n",
       "      <td>98</td>\n",
       "      <td>60</td>\n",
       "      <td>38</td>\n",
       "    </tr>\n",
       "    <tr>\n",
       "      <th>liverpool</th>\n",
       "      <td>10</td>\n",
       "      <td>94</td>\n",
       "      <td>-84</td>\n",
       "    </tr>\n",
       "    <tr>\n",
       "      <th>m.city</th>\n",
       "      <td>38</td>\n",
       "      <td>55</td>\n",
       "      <td>-17</td>\n",
       "    </tr>\n",
       "  </tbody>\n",
       "</table>\n",
       "</div>"
      ],
      "text/plain": [
       "           atılangol  yenilengol  average\n",
       "madrid            98          60       38\n",
       "liverpool         10          94      -84\n",
       "m.city            38          55      -17"
      ]
     },
     "execution_count": 221,
     "metadata": {},
     "output_type": "execute_result"
    }
   ],
   "source": [
    "df"
   ]
  },
  {
   "cell_type": "markdown",
   "id": "7dcf7135",
   "metadata": {},
   "source": [
    "1-) df.reset_index() adı üzerinde indexleri resetliyor"
   ]
  },
  {
   "cell_type": "code",
   "execution_count": 222,
   "id": "55a95e0e",
   "metadata": {},
   "outputs": [
    {
     "data": {
      "text/html": [
       "<div>\n",
       "<style scoped>\n",
       "    .dataframe tbody tr th:only-of-type {\n",
       "        vertical-align: middle;\n",
       "    }\n",
       "\n",
       "    .dataframe tbody tr th {\n",
       "        vertical-align: top;\n",
       "    }\n",
       "\n",
       "    .dataframe thead th {\n",
       "        text-align: right;\n",
       "    }\n",
       "</style>\n",
       "<table border=\"1\" class=\"dataframe\">\n",
       "  <thead>\n",
       "    <tr style=\"text-align: right;\">\n",
       "      <th></th>\n",
       "      <th>index</th>\n",
       "      <th>atılangol</th>\n",
       "      <th>yenilengol</th>\n",
       "      <th>average</th>\n",
       "    </tr>\n",
       "  </thead>\n",
       "  <tbody>\n",
       "    <tr>\n",
       "      <th>0</th>\n",
       "      <td>madrid</td>\n",
       "      <td>98</td>\n",
       "      <td>60</td>\n",
       "      <td>38</td>\n",
       "    </tr>\n",
       "    <tr>\n",
       "      <th>1</th>\n",
       "      <td>liverpool</td>\n",
       "      <td>10</td>\n",
       "      <td>94</td>\n",
       "      <td>-84</td>\n",
       "    </tr>\n",
       "    <tr>\n",
       "      <th>2</th>\n",
       "      <td>m.city</td>\n",
       "      <td>38</td>\n",
       "      <td>55</td>\n",
       "      <td>-17</td>\n",
       "    </tr>\n",
       "  </tbody>\n",
       "</table>\n",
       "</div>"
      ],
      "text/plain": [
       "       index  atılangol  yenilengol  average\n",
       "0     madrid         98          60       38\n",
       "1  liverpool         10          94      -84\n",
       "2     m.city         38          55      -17"
      ]
     },
     "execution_count": 222,
     "metadata": {},
     "output_type": "execute_result"
    }
   ],
   "source": [
    "df.reset_index() "
   ]
  },
  {
   "cell_type": "markdown",
   "id": "ffb62cda",
   "metadata": {},
   "source": [
    "index diye kendince bir column açtı ve bizim label1'imizi onun altında topladı ve sol tarafta da 0'dan ileriye doğru indexledi."
   ]
  },
  {
   "cell_type": "code",
   "execution_count": 161,
   "id": "70832662",
   "metadata": {},
   "outputs": [
    {
     "data": {
      "text/html": [
       "<div>\n",
       "<style scoped>\n",
       "    .dataframe tbody tr th:only-of-type {\n",
       "        vertical-align: middle;\n",
       "    }\n",
       "\n",
       "    .dataframe tbody tr th {\n",
       "        vertical-align: top;\n",
       "    }\n",
       "\n",
       "    .dataframe thead th {\n",
       "        text-align: right;\n",
       "    }\n",
       "</style>\n",
       "<table border=\"1\" class=\"dataframe\">\n",
       "  <thead>\n",
       "    <tr style=\"text-align: right;\">\n",
       "      <th></th>\n",
       "      <th>atılangol</th>\n",
       "      <th>yenilengol</th>\n",
       "      <th>average</th>\n",
       "    </tr>\n",
       "  </thead>\n",
       "  <tbody>\n",
       "    <tr>\n",
       "      <th>madrid</th>\n",
       "      <td>46</td>\n",
       "      <td>32</td>\n",
       "      <td>14</td>\n",
       "    </tr>\n",
       "    <tr>\n",
       "      <th>liverpool</th>\n",
       "      <td>66</td>\n",
       "      <td>40</td>\n",
       "      <td>26</td>\n",
       "    </tr>\n",
       "    <tr>\n",
       "      <th>m.city</th>\n",
       "      <td>73</td>\n",
       "      <td>74</td>\n",
       "      <td>-1</td>\n",
       "    </tr>\n",
       "  </tbody>\n",
       "</table>\n",
       "</div>"
      ],
      "text/plain": [
       "           atılangol  yenilengol  average\n",
       "madrid            46          32       14\n",
       "liverpool         66          40       26\n",
       "m.city            73          74       -1"
      ]
     },
     "execution_count": 161,
     "metadata": {},
     "output_type": "execute_result"
    }
   ],
   "source": [
    "df"
   ]
  },
  {
   "attachments": {
    "image.png": {
     "image/png": "[encoded data removed]"
    }
   },
   "cell_type": "markdown",
   "id": "bb0e6b29",
   "metadata": {},
   "source": [
    "df yine değişmedi çünkü burada da df.drop() ile aynı mantık geçerli ![image.png](attachment:image.png)\n"
   ]
  },
  {
   "cell_type": "markdown",
   "id": "297ccebd",
   "metadata": {},
   "source": [
    "yani istersek inplace = True yapabiliriz."
   ]
  },
  {
   "cell_type": "code",
   "execution_count": 223,
   "id": "3816eb91",
   "metadata": {},
   "outputs": [
    {
     "data": {
      "text/html": [
       "<div>\n",
       "<style scoped>\n",
       "    .dataframe tbody tr th:only-of-type {\n",
       "        vertical-align: middle;\n",
       "    }\n",
       "\n",
       "    .dataframe tbody tr th {\n",
       "        vertical-align: top;\n",
       "    }\n",
       "\n",
       "    .dataframe thead th {\n",
       "        text-align: right;\n",
       "    }\n",
       "</style>\n",
       "<table border=\"1\" class=\"dataframe\">\n",
       "  <thead>\n",
       "    <tr style=\"text-align: right;\">\n",
       "      <th></th>\n",
       "      <th>atılangol</th>\n",
       "      <th>yenilengol</th>\n",
       "      <th>average</th>\n",
       "    </tr>\n",
       "  </thead>\n",
       "  <tbody>\n",
       "    <tr>\n",
       "      <th>madrid</th>\n",
       "      <td>98</td>\n",
       "      <td>60</td>\n",
       "      <td>38</td>\n",
       "    </tr>\n",
       "    <tr>\n",
       "      <th>liverpool</th>\n",
       "      <td>10</td>\n",
       "      <td>94</td>\n",
       "      <td>-84</td>\n",
       "    </tr>\n",
       "    <tr>\n",
       "      <th>m.city</th>\n",
       "      <td>38</td>\n",
       "      <td>55</td>\n",
       "      <td>-17</td>\n",
       "    </tr>\n",
       "  </tbody>\n",
       "</table>\n",
       "</div>"
      ],
      "text/plain": [
       "           atılangol  yenilengol  average\n",
       "madrid            98          60       38\n",
       "liverpool         10          94      -84\n",
       "m.city            38          55      -17"
      ]
     },
     "execution_count": 223,
     "metadata": {},
     "output_type": "execute_result"
    }
   ],
   "source": [
    "df"
   ]
  },
  {
   "cell_type": "markdown",
   "id": "594497a9",
   "metadata": {},
   "source": [
    "2-) ben  0'dan başlamasını istemiyorum indexlerin; yeni isimler koymak istiyorum:"
   ]
  },
  {
   "cell_type": "code",
   "execution_count": 224,
   "id": "f07ba81e",
   "metadata": {},
   "outputs": [],
   "source": [
    "new_indexlist = [\"barcelona\",\"chelsea\",\"porto\"]"
   ]
  },
  {
   "attachments": {
    "image-2.png": {
     "image/png": "[encoded data removed]"
    }
   },
   "cell_type": "markdown",
   "id": "a54faf91",
   "metadata": {},
   "source": [
    "![image-2.png](attachment:image-2.png)"
   ]
  },
  {
   "cell_type": "markdown",
   "id": "9f1d0648",
   "metadata": {},
   "source": [
    "Docstring'ine bakarsak df.set_index()'in \"Mevcut sütunları kullanarak DataFrame indexini ayarlayın.\"\n",
    "yani ben new_indexlist'i doğrudan ser_index()'in içine gönderirsem hata alacağım çünkü df'im içerisinde böyle bir column yok"
   ]
  },
  {
   "cell_type": "code",
   "execution_count": 225,
   "id": "476e681c",
   "metadata": {},
   "outputs": [],
   "source": [
    "# df.set_index(\"new_indexlist\")                  # set:ayarlamak"
   ]
  },
  {
   "cell_type": "markdown",
   "id": "8248b93e",
   "metadata": {},
   "source": [
    "## Ama biz şunu yapabiliriz: olmasını istediğimiz yeni indexleri önce df ' me sütun olarak ekleriz sonra df.set_index()' e uygulamaya koyabilirim:"
   ]
  },
  {
   "cell_type": "code",
   "execution_count": 226,
   "id": "42ed487e",
   "metadata": {},
   "outputs": [
    {
     "data": {
      "text/html": [
       "<div>\n",
       "<style scoped>\n",
       "    .dataframe tbody tr th:only-of-type {\n",
       "        vertical-align: middle;\n",
       "    }\n",
       "\n",
       "    .dataframe tbody tr th {\n",
       "        vertical-align: top;\n",
       "    }\n",
       "\n",
       "    .dataframe thead th {\n",
       "        text-align: right;\n",
       "    }\n",
       "</style>\n",
       "<table border=\"1\" class=\"dataframe\">\n",
       "  <thead>\n",
       "    <tr style=\"text-align: right;\">\n",
       "      <th></th>\n",
       "      <th>atılangol</th>\n",
       "      <th>yenilengol</th>\n",
       "      <th>average</th>\n",
       "    </tr>\n",
       "  </thead>\n",
       "  <tbody>\n",
       "    <tr>\n",
       "      <th>madrid</th>\n",
       "      <td>98</td>\n",
       "      <td>60</td>\n",
       "      <td>38</td>\n",
       "    </tr>\n",
       "    <tr>\n",
       "      <th>liverpool</th>\n",
       "      <td>10</td>\n",
       "      <td>94</td>\n",
       "      <td>-84</td>\n",
       "    </tr>\n",
       "    <tr>\n",
       "      <th>m.city</th>\n",
       "      <td>38</td>\n",
       "      <td>55</td>\n",
       "      <td>-17</td>\n",
       "    </tr>\n",
       "  </tbody>\n",
       "</table>\n",
       "</div>"
      ],
      "text/plain": [
       "           atılangol  yenilengol  average\n",
       "madrid            98          60       38\n",
       "liverpool         10          94      -84\n",
       "m.city            38          55      -17"
      ]
     },
     "execution_count": 226,
     "metadata": {},
     "output_type": "execute_result"
    }
   ],
   "source": [
    "df"
   ]
  },
  {
   "cell_type": "code",
   "execution_count": 227,
   "id": "9f373140",
   "metadata": {},
   "outputs": [],
   "source": [
    "df[\"index\"] = new_indexlist"
   ]
  },
  {
   "cell_type": "code",
   "execution_count": 228,
   "id": "5107c4a1",
   "metadata": {},
   "outputs": [
    {
     "data": {
      "text/html": [
       "<div>\n",
       "<style scoped>\n",
       "    .dataframe tbody tr th:only-of-type {\n",
       "        vertical-align: middle;\n",
       "    }\n",
       "\n",
       "    .dataframe tbody tr th {\n",
       "        vertical-align: top;\n",
       "    }\n",
       "\n",
       "    .dataframe thead th {\n",
       "        text-align: right;\n",
       "    }\n",
       "</style>\n",
       "<table border=\"1\" class=\"dataframe\">\n",
       "  <thead>\n",
       "    <tr style=\"text-align: right;\">\n",
       "      <th></th>\n",
       "      <th>atılangol</th>\n",
       "      <th>yenilengol</th>\n",
       "      <th>average</th>\n",
       "      <th>index</th>\n",
       "    </tr>\n",
       "  </thead>\n",
       "  <tbody>\n",
       "    <tr>\n",
       "      <th>madrid</th>\n",
       "      <td>98</td>\n",
       "      <td>60</td>\n",
       "      <td>38</td>\n",
       "      <td>barcelona</td>\n",
       "    </tr>\n",
       "    <tr>\n",
       "      <th>liverpool</th>\n",
       "      <td>10</td>\n",
       "      <td>94</td>\n",
       "      <td>-84</td>\n",
       "      <td>chelsea</td>\n",
       "    </tr>\n",
       "    <tr>\n",
       "      <th>m.city</th>\n",
       "      <td>38</td>\n",
       "      <td>55</td>\n",
       "      <td>-17</td>\n",
       "      <td>porto</td>\n",
       "    </tr>\n",
       "  </tbody>\n",
       "</table>\n",
       "</div>"
      ],
      "text/plain": [
       "           atılangol  yenilengol  average      index\n",
       "madrid            98          60       38  barcelona\n",
       "liverpool         10          94      -84    chelsea\n",
       "m.city            38          55      -17      porto"
      ]
     },
     "execution_count": 228,
     "metadata": {},
     "output_type": "execute_result"
    }
   ],
   "source": [
    "df"
   ]
  },
  {
   "cell_type": "markdown",
   "id": "ea02337b",
   "metadata": {},
   "source": [
    "index labellı bir column oluşturmuş olduk yani artık mevcut bir column'um var"
   ]
  },
  {
   "cell_type": "code",
   "execution_count": 229,
   "id": "8ecd9689",
   "metadata": {},
   "outputs": [
    {
     "data": {
      "text/html": [
       "<div>\n",
       "<style scoped>\n",
       "    .dataframe tbody tr th:only-of-type {\n",
       "        vertical-align: middle;\n",
       "    }\n",
       "\n",
       "    .dataframe tbody tr th {\n",
       "        vertical-align: top;\n",
       "    }\n",
       "\n",
       "    .dataframe thead th {\n",
       "        text-align: right;\n",
       "    }\n",
       "</style>\n",
       "<table border=\"1\" class=\"dataframe\">\n",
       "  <thead>\n",
       "    <tr style=\"text-align: right;\">\n",
       "      <th></th>\n",
       "      <th>atılangol</th>\n",
       "      <th>yenilengol</th>\n",
       "      <th>average</th>\n",
       "    </tr>\n",
       "    <tr>\n",
       "      <th>index</th>\n",
       "      <th></th>\n",
       "      <th></th>\n",
       "      <th></th>\n",
       "    </tr>\n",
       "  </thead>\n",
       "  <tbody>\n",
       "    <tr>\n",
       "      <th>barcelona</th>\n",
       "      <td>98</td>\n",
       "      <td>60</td>\n",
       "      <td>38</td>\n",
       "    </tr>\n",
       "    <tr>\n",
       "      <th>chelsea</th>\n",
       "      <td>10</td>\n",
       "      <td>94</td>\n",
       "      <td>-84</td>\n",
       "    </tr>\n",
       "    <tr>\n",
       "      <th>porto</th>\n",
       "      <td>38</td>\n",
       "      <td>55</td>\n",
       "      <td>-17</td>\n",
       "    </tr>\n",
       "  </tbody>\n",
       "</table>\n",
       "</div>"
      ],
      "text/plain": [
       "           atılangol  yenilengol  average\n",
       "index                                    \n",
       "barcelona         98          60       38\n",
       "chelsea           10          94      -84\n",
       "porto             38          55      -17"
      ]
     },
     "execution_count": 229,
     "metadata": {},
     "output_type": "execute_result"
    }
   ],
   "source": [
    "df.set_index(\"index\")"
   ]
  },
  {
   "cell_type": "markdown",
   "id": "6441d7e0",
   "metadata": {},
   "source": [
    "inplace =False defaultu burada da geçerli yine inplace = True ile değişiklik yapabiliriz."
   ]
  },
  {
   "cell_type": "code",
   "execution_count": 230,
   "id": "f01d2c99",
   "metadata": {},
   "outputs": [
    {
     "data": {
      "text/html": [
       "<div>\n",
       "<style scoped>\n",
       "    .dataframe tbody tr th:only-of-type {\n",
       "        vertical-align: middle;\n",
       "    }\n",
       "\n",
       "    .dataframe tbody tr th {\n",
       "        vertical-align: top;\n",
       "    }\n",
       "\n",
       "    .dataframe thead th {\n",
       "        text-align: right;\n",
       "    }\n",
       "</style>\n",
       "<table border=\"1\" class=\"dataframe\">\n",
       "  <thead>\n",
       "    <tr style=\"text-align: right;\">\n",
       "      <th></th>\n",
       "      <th>atılangol</th>\n",
       "      <th>yenilengol</th>\n",
       "      <th>average</th>\n",
       "      <th>index</th>\n",
       "    </tr>\n",
       "  </thead>\n",
       "  <tbody>\n",
       "    <tr>\n",
       "      <th>madrid</th>\n",
       "      <td>98</td>\n",
       "      <td>60</td>\n",
       "      <td>38</td>\n",
       "      <td>barcelona</td>\n",
       "    </tr>\n",
       "    <tr>\n",
       "      <th>liverpool</th>\n",
       "      <td>10</td>\n",
       "      <td>94</td>\n",
       "      <td>-84</td>\n",
       "      <td>chelsea</td>\n",
       "    </tr>\n",
       "    <tr>\n",
       "      <th>m.city</th>\n",
       "      <td>38</td>\n",
       "      <td>55</td>\n",
       "      <td>-17</td>\n",
       "      <td>porto</td>\n",
       "    </tr>\n",
       "  </tbody>\n",
       "</table>\n",
       "</div>"
      ],
      "text/plain": [
       "           atılangol  yenilengol  average      index\n",
       "madrid            98          60       38  barcelona\n",
       "liverpool         10          94      -84    chelsea\n",
       "m.city            38          55      -17      porto"
      ]
     },
     "execution_count": 230,
     "metadata": {},
     "output_type": "execute_result"
    }
   ],
   "source": [
    "df"
   ]
  },
  {
   "cell_type": "code",
   "execution_count": 231,
   "id": "6a9bbc37",
   "metadata": {},
   "outputs": [],
   "source": [
    "df.set_index(\"index\",inplace=True)"
   ]
  },
  {
   "cell_type": "code",
   "execution_count": 232,
   "id": "1ba612c6",
   "metadata": {},
   "outputs": [
    {
     "data": {
      "text/html": [
       "<div>\n",
       "<style scoped>\n",
       "    .dataframe tbody tr th:only-of-type {\n",
       "        vertical-align: middle;\n",
       "    }\n",
       "\n",
       "    .dataframe tbody tr th {\n",
       "        vertical-align: top;\n",
       "    }\n",
       "\n",
       "    .dataframe thead th {\n",
       "        text-align: right;\n",
       "    }\n",
       "</style>\n",
       "<table border=\"1\" class=\"dataframe\">\n",
       "  <thead>\n",
       "    <tr style=\"text-align: right;\">\n",
       "      <th></th>\n",
       "      <th>atılangol</th>\n",
       "      <th>yenilengol</th>\n",
       "      <th>average</th>\n",
       "    </tr>\n",
       "    <tr>\n",
       "      <th>index</th>\n",
       "      <th></th>\n",
       "      <th></th>\n",
       "      <th></th>\n",
       "    </tr>\n",
       "  </thead>\n",
       "  <tbody>\n",
       "    <tr>\n",
       "      <th>barcelona</th>\n",
       "      <td>98</td>\n",
       "      <td>60</td>\n",
       "      <td>38</td>\n",
       "    </tr>\n",
       "    <tr>\n",
       "      <th>chelsea</th>\n",
       "      <td>10</td>\n",
       "      <td>94</td>\n",
       "      <td>-84</td>\n",
       "    </tr>\n",
       "    <tr>\n",
       "      <th>porto</th>\n",
       "      <td>38</td>\n",
       "      <td>55</td>\n",
       "      <td>-17</td>\n",
       "    </tr>\n",
       "  </tbody>\n",
       "</table>\n",
       "</div>"
      ],
      "text/plain": [
       "           atılangol  yenilengol  average\n",
       "index                                    \n",
       "barcelona         98          60       38\n",
       "chelsea           10          94      -84\n",
       "porto             38          55      -17"
      ]
     },
     "execution_count": 232,
     "metadata": {},
     "output_type": "execute_result"
    }
   ],
   "source": [
    "df"
   ]
  },
  {
   "cell_type": "code",
   "execution_count": 233,
   "id": "a71f1f38",
   "metadata": {},
   "outputs": [
    {
     "data": {
      "text/plain": [
       "atılangol     38\n",
       "yenilengol    55\n",
       "average      -17\n",
       "Name: porto, dtype: int32"
      ]
     },
     "execution_count": 233,
     "metadata": {},
     "output_type": "execute_result"
    }
   ],
   "source": [
    "df.loc[\"porto\"]"
   ]
  },
  {
   "cell_type": "markdown",
   "id": "12ea70d0",
   "metadata": {},
   "source": [
    "## bir satırdaki veya sütundaki spesifik bir değeri döndürme"
   ]
  },
  {
   "cell_type": "markdown",
   "id": "dae5b05a",
   "metadata": {},
   "source": [
    "python'dan bir hatırlatma:"
   ]
  },
  {
   "cell_type": "code",
   "execution_count": 135,
   "id": "aa0959e9",
   "metadata": {},
   "outputs": [],
   "source": [
    "a = [\"kalem\",\"klavye\",\"pc\"]"
   ]
  },
  {
   "cell_type": "code",
   "execution_count": 234,
   "id": "7af9e806",
   "metadata": {},
   "outputs": [
    {
     "data": {
      "text/plain": [
       "'a'"
      ]
     },
     "execution_count": 234,
     "metadata": {},
     "output_type": "execute_result"
    }
   ],
   "source": [
    "a[0][0]    \n",
    "# yapabiliyordum yani a[0] bana bir daha indexlenebilen bir şey veriyorsa indexlemeye devam edebiliyordum. "
   ]
  },
  {
   "cell_type": "markdown",
   "id": "1e8f921d",
   "metadata": {},
   "source": [
    "burada da aynı mantık geçerli : df.loc[\"row_name\"] veya df[\"column_name\"] bize series döndürüyordu ve biz series da da indexlemeye devam edebiliyoruz :"
   ]
  },
  {
   "cell_type": "code",
   "execution_count": 235,
   "id": "ed274718",
   "metadata": {},
   "outputs": [
    {
     "data": {
      "text/html": [
       "<div>\n",
       "<style scoped>\n",
       "    .dataframe tbody tr th:only-of-type {\n",
       "        vertical-align: middle;\n",
       "    }\n",
       "\n",
       "    .dataframe tbody tr th {\n",
       "        vertical-align: top;\n",
       "    }\n",
       "\n",
       "    .dataframe thead th {\n",
       "        text-align: right;\n",
       "    }\n",
       "</style>\n",
       "<table border=\"1\" class=\"dataframe\">\n",
       "  <thead>\n",
       "    <tr style=\"text-align: right;\">\n",
       "      <th></th>\n",
       "      <th>atılangol</th>\n",
       "      <th>yenilengol</th>\n",
       "      <th>average</th>\n",
       "    </tr>\n",
       "    <tr>\n",
       "      <th>index</th>\n",
       "      <th></th>\n",
       "      <th></th>\n",
       "      <th></th>\n",
       "    </tr>\n",
       "  </thead>\n",
       "  <tbody>\n",
       "    <tr>\n",
       "      <th>barcelona</th>\n",
       "      <td>98</td>\n",
       "      <td>60</td>\n",
       "      <td>38</td>\n",
       "    </tr>\n",
       "    <tr>\n",
       "      <th>chelsea</th>\n",
       "      <td>10</td>\n",
       "      <td>94</td>\n",
       "      <td>-84</td>\n",
       "    </tr>\n",
       "    <tr>\n",
       "      <th>porto</th>\n",
       "      <td>38</td>\n",
       "      <td>55</td>\n",
       "      <td>-17</td>\n",
       "    </tr>\n",
       "  </tbody>\n",
       "</table>\n",
       "</div>"
      ],
      "text/plain": [
       "           atılangol  yenilengol  average\n",
       "index                                    \n",
       "barcelona         98          60       38\n",
       "chelsea           10          94      -84\n",
       "porto             38          55      -17"
      ]
     },
     "execution_count": 235,
     "metadata": {},
     "output_type": "execute_result"
    }
   ],
   "source": [
    "df"
   ]
  },
  {
   "cell_type": "code",
   "execution_count": 236,
   "id": "36d24b92",
   "metadata": {},
   "outputs": [
    {
     "data": {
      "text/plain": [
       "10"
      ]
     },
     "execution_count": 236,
     "metadata": {},
     "output_type": "execute_result"
    }
   ],
   "source": [
    "df.loc[\"chelsea\"][\"atılangol\"]"
   ]
  },
  {
   "cell_type": "code",
   "execution_count": 237,
   "id": "fba39401",
   "metadata": {},
   "outputs": [
    {
     "data": {
      "text/plain": [
       "55"
      ]
     },
     "execution_count": 237,
     "metadata": {},
     "output_type": "execute_result"
    }
   ],
   "source": [
    "df[\"yenilengol\"][\"porto\"]"
   ]
  },
  {
   "cell_type": "markdown",
   "id": "325ded48",
   "metadata": {},
   "source": [
    "bunu böyle yapabileceğimiz gibi burada şöyle de bir kolaylık var"
   ]
  },
  {
   "cell_type": "code",
   "execution_count": 238,
   "id": "d9f9055b",
   "metadata": {},
   "outputs": [
    {
     "data": {
      "text/plain": [
       "10"
      ]
     },
     "execution_count": 238,
     "metadata": {},
     "output_type": "execute_result"
    }
   ],
   "source": [
    "df.loc[\"chelsea\",\"atılangol\"]"
   ]
  },
  {
   "cell_type": "markdown",
   "id": "4747a6f2",
   "metadata": {},
   "source": [
    "yani tek [  ] içerisine virgüllerle ayırarak indexleme yapabiliyoruz"
   ]
  },
  {
   "cell_type": "code",
   "execution_count": 239,
   "id": "9d147d07",
   "metadata": {},
   "outputs": [
    {
     "data": {
      "text/html": [
       "<div>\n",
       "<style scoped>\n",
       "    .dataframe tbody tr th:only-of-type {\n",
       "        vertical-align: middle;\n",
       "    }\n",
       "\n",
       "    .dataframe tbody tr th {\n",
       "        vertical-align: top;\n",
       "    }\n",
       "\n",
       "    .dataframe thead th {\n",
       "        text-align: right;\n",
       "    }\n",
       "</style>\n",
       "<table border=\"1\" class=\"dataframe\">\n",
       "  <thead>\n",
       "    <tr style=\"text-align: right;\">\n",
       "      <th></th>\n",
       "      <th>atılangol</th>\n",
       "      <th>yenilengol</th>\n",
       "      <th>average</th>\n",
       "    </tr>\n",
       "    <tr>\n",
       "      <th>index</th>\n",
       "      <th></th>\n",
       "      <th></th>\n",
       "      <th></th>\n",
       "    </tr>\n",
       "  </thead>\n",
       "  <tbody>\n",
       "    <tr>\n",
       "      <th>barcelona</th>\n",
       "      <td>98</td>\n",
       "      <td>60</td>\n",
       "      <td>38</td>\n",
       "    </tr>\n",
       "    <tr>\n",
       "      <th>chelsea</th>\n",
       "      <td>10</td>\n",
       "      <td>94</td>\n",
       "      <td>-84</td>\n",
       "    </tr>\n",
       "    <tr>\n",
       "      <th>porto</th>\n",
       "      <td>38</td>\n",
       "      <td>55</td>\n",
       "      <td>-17</td>\n",
       "    </tr>\n",
       "  </tbody>\n",
       "</table>\n",
       "</div>"
      ],
      "text/plain": [
       "           atılangol  yenilengol  average\n",
       "index                                    \n",
       "barcelona         98          60       38\n",
       "chelsea           10          94      -84\n",
       "porto             38          55      -17"
      ]
     },
     "execution_count": 239,
     "metadata": {},
     "output_type": "execute_result"
    }
   ],
   "source": [
    "df"
   ]
  },
  {
   "cell_type": "markdown",
   "id": "2acc590b",
   "metadata": {},
   "source": [
    "## conditions"
   ]
  },
  {
   "cell_type": "code",
   "execution_count": 240,
   "id": "a4478c90",
   "metadata": {},
   "outputs": [
    {
     "data": {
      "text/html": [
       "<div>\n",
       "<style scoped>\n",
       "    .dataframe tbody tr th:only-of-type {\n",
       "        vertical-align: middle;\n",
       "    }\n",
       "\n",
       "    .dataframe tbody tr th {\n",
       "        vertical-align: top;\n",
       "    }\n",
       "\n",
       "    .dataframe thead th {\n",
       "        text-align: right;\n",
       "    }\n",
       "</style>\n",
       "<table border=\"1\" class=\"dataframe\">\n",
       "  <thead>\n",
       "    <tr style=\"text-align: right;\">\n",
       "      <th></th>\n",
       "      <th>atılangol</th>\n",
       "      <th>yenilengol</th>\n",
       "      <th>average</th>\n",
       "    </tr>\n",
       "    <tr>\n",
       "      <th>index</th>\n",
       "      <th></th>\n",
       "      <th></th>\n",
       "      <th></th>\n",
       "    </tr>\n",
       "  </thead>\n",
       "  <tbody>\n",
       "    <tr>\n",
       "      <th>barcelona</th>\n",
       "      <td>True</td>\n",
       "      <td>True</td>\n",
       "      <td>False</td>\n",
       "    </tr>\n",
       "    <tr>\n",
       "      <th>chelsea</th>\n",
       "      <td>False</td>\n",
       "      <td>True</td>\n",
       "      <td>False</td>\n",
       "    </tr>\n",
       "    <tr>\n",
       "      <th>porto</th>\n",
       "      <td>False</td>\n",
       "      <td>True</td>\n",
       "      <td>False</td>\n",
       "    </tr>\n",
       "  </tbody>\n",
       "</table>\n",
       "</div>"
      ],
      "text/plain": [
       "           atılangol  yenilengol  average\n",
       "index                                    \n",
       "barcelona       True        True    False\n",
       "chelsea        False        True    False\n",
       "porto          False        True    False"
      ]
     },
     "execution_count": 240,
     "metadata": {},
     "output_type": "execute_result"
    }
   ],
   "source": [
    "df > 50"
   ]
  },
  {
   "cell_type": "code",
   "execution_count": 241,
   "id": "1db15860",
   "metadata": {},
   "outputs": [
    {
     "data": {
      "text/html": [
       "<div>\n",
       "<style scoped>\n",
       "    .dataframe tbody tr th:only-of-type {\n",
       "        vertical-align: middle;\n",
       "    }\n",
       "\n",
       "    .dataframe tbody tr th {\n",
       "        vertical-align: top;\n",
       "    }\n",
       "\n",
       "    .dataframe thead th {\n",
       "        text-align: right;\n",
       "    }\n",
       "</style>\n",
       "<table border=\"1\" class=\"dataframe\">\n",
       "  <thead>\n",
       "    <tr style=\"text-align: right;\">\n",
       "      <th></th>\n",
       "      <th>atılangol</th>\n",
       "      <th>yenilengol</th>\n",
       "      <th>average</th>\n",
       "    </tr>\n",
       "    <tr>\n",
       "      <th>index</th>\n",
       "      <th></th>\n",
       "      <th></th>\n",
       "      <th></th>\n",
       "    </tr>\n",
       "  </thead>\n",
       "  <tbody>\n",
       "    <tr>\n",
       "      <th>barcelona</th>\n",
       "      <td>98.0</td>\n",
       "      <td>60</td>\n",
       "      <td>NaN</td>\n",
       "    </tr>\n",
       "    <tr>\n",
       "      <th>chelsea</th>\n",
       "      <td>NaN</td>\n",
       "      <td>94</td>\n",
       "      <td>NaN</td>\n",
       "    </tr>\n",
       "    <tr>\n",
       "      <th>porto</th>\n",
       "      <td>NaN</td>\n",
       "      <td>55</td>\n",
       "      <td>NaN</td>\n",
       "    </tr>\n",
       "  </tbody>\n",
       "</table>\n",
       "</div>"
      ],
      "text/plain": [
       "           atılangol  yenilengol  average\n",
       "index                                    \n",
       "barcelona       98.0          60      NaN\n",
       "chelsea          NaN          94      NaN\n",
       "porto            NaN          55      NaN"
      ]
     },
     "execution_count": 241,
     "metadata": {},
     "output_type": "execute_result"
    }
   ],
   "source": [
    "df[df>50]"
   ]
  },
  {
   "cell_type": "code",
   "execution_count": 242,
   "id": "f1001a1f",
   "metadata": {},
   "outputs": [
    {
     "data": {
      "text/html": [
       "<div>\n",
       "<style scoped>\n",
       "    .dataframe tbody tr th:only-of-type {\n",
       "        vertical-align: middle;\n",
       "    }\n",
       "\n",
       "    .dataframe tbody tr th {\n",
       "        vertical-align: top;\n",
       "    }\n",
       "\n",
       "    .dataframe thead th {\n",
       "        text-align: right;\n",
       "    }\n",
       "</style>\n",
       "<table border=\"1\" class=\"dataframe\">\n",
       "  <thead>\n",
       "    <tr style=\"text-align: right;\">\n",
       "      <th></th>\n",
       "      <th>atılangol</th>\n",
       "      <th>yenilengol</th>\n",
       "      <th>average</th>\n",
       "    </tr>\n",
       "    <tr>\n",
       "      <th>index</th>\n",
       "      <th></th>\n",
       "      <th></th>\n",
       "      <th></th>\n",
       "    </tr>\n",
       "  </thead>\n",
       "  <tbody>\n",
       "    <tr>\n",
       "      <th>barcelona</th>\n",
       "      <td>98</td>\n",
       "      <td>60</td>\n",
       "      <td>38</td>\n",
       "    </tr>\n",
       "    <tr>\n",
       "      <th>chelsea</th>\n",
       "      <td>10</td>\n",
       "      <td>94</td>\n",
       "      <td>-84</td>\n",
       "    </tr>\n",
       "    <tr>\n",
       "      <th>porto</th>\n",
       "      <td>38</td>\n",
       "      <td>55</td>\n",
       "      <td>-17</td>\n",
       "    </tr>\n",
       "  </tbody>\n",
       "</table>\n",
       "</div>"
      ],
      "text/plain": [
       "           atılangol  yenilengol  average\n",
       "index                                    \n",
       "barcelona         98          60       38\n",
       "chelsea           10          94      -84\n",
       "porto             38          55      -17"
      ]
     },
     "execution_count": 242,
     "metadata": {},
     "output_type": "execute_result"
    }
   ],
   "source": [
    "df"
   ]
  },
  {
   "cell_type": "code",
   "execution_count": 243,
   "id": "f23ddfb9",
   "metadata": {},
   "outputs": [
    {
     "data": {
      "text/plain": [
       "index\n",
       "barcelona     True\n",
       "chelsea      False\n",
       "porto        False\n",
       "Name: average, dtype: bool"
      ]
     },
     "execution_count": 243,
     "metadata": {},
     "output_type": "execute_result"
    }
   ],
   "source": [
    "df[\"average\"] >10"
   ]
  },
  {
   "cell_type": "code",
   "execution_count": 244,
   "id": "04399ddc",
   "metadata": {},
   "outputs": [
    {
     "data": {
      "text/html": [
       "<div>\n",
       "<style scoped>\n",
       "    .dataframe tbody tr th:only-of-type {\n",
       "        vertical-align: middle;\n",
       "    }\n",
       "\n",
       "    .dataframe tbody tr th {\n",
       "        vertical-align: top;\n",
       "    }\n",
       "\n",
       "    .dataframe thead th {\n",
       "        text-align: right;\n",
       "    }\n",
       "</style>\n",
       "<table border=\"1\" class=\"dataframe\">\n",
       "  <thead>\n",
       "    <tr style=\"text-align: right;\">\n",
       "      <th></th>\n",
       "      <th>atılangol</th>\n",
       "      <th>yenilengol</th>\n",
       "      <th>average</th>\n",
       "    </tr>\n",
       "    <tr>\n",
       "      <th>index</th>\n",
       "      <th></th>\n",
       "      <th></th>\n",
       "      <th></th>\n",
       "    </tr>\n",
       "  </thead>\n",
       "  <tbody>\n",
       "    <tr>\n",
       "      <th>barcelona</th>\n",
       "      <td>98</td>\n",
       "      <td>60</td>\n",
       "      <td>38</td>\n",
       "    </tr>\n",
       "  </tbody>\n",
       "</table>\n",
       "</div>"
      ],
      "text/plain": [
       "           atılangol  yenilengol  average\n",
       "index                                    \n",
       "barcelona         98          60       38"
      ]
     },
     "execution_count": 244,
     "metadata": {},
     "output_type": "execute_result"
    }
   ],
   "source": [
    "df[df[\"average\"]  > 10]"
   ]
  },
  {
   "cell_type": "code",
   "execution_count": 245,
   "id": "cefa63b9",
   "metadata": {},
   "outputs": [
    {
     "data": {
      "text/html": [
       "<div>\n",
       "<style scoped>\n",
       "    .dataframe tbody tr th:only-of-type {\n",
       "        vertical-align: middle;\n",
       "    }\n",
       "\n",
       "    .dataframe tbody tr th {\n",
       "        vertical-align: top;\n",
       "    }\n",
       "\n",
       "    .dataframe thead th {\n",
       "        text-align: right;\n",
       "    }\n",
       "</style>\n",
       "<table border=\"1\" class=\"dataframe\">\n",
       "  <thead>\n",
       "    <tr style=\"text-align: right;\">\n",
       "      <th></th>\n",
       "      <th>atılangol</th>\n",
       "      <th>yenilengol</th>\n",
       "      <th>average</th>\n",
       "    </tr>\n",
       "    <tr>\n",
       "      <th>index</th>\n",
       "      <th></th>\n",
       "      <th></th>\n",
       "      <th></th>\n",
       "    </tr>\n",
       "  </thead>\n",
       "  <tbody>\n",
       "    <tr>\n",
       "      <th>barcelona</th>\n",
       "      <td>98</td>\n",
       "      <td>60</td>\n",
       "      <td>38</td>\n",
       "    </tr>\n",
       "    <tr>\n",
       "      <th>chelsea</th>\n",
       "      <td>10</td>\n",
       "      <td>94</td>\n",
       "      <td>-84</td>\n",
       "    </tr>\n",
       "    <tr>\n",
       "      <th>porto</th>\n",
       "      <td>38</td>\n",
       "      <td>55</td>\n",
       "      <td>-17</td>\n",
       "    </tr>\n",
       "  </tbody>\n",
       "</table>\n",
       "</div>"
      ],
      "text/plain": [
       "           atılangol  yenilengol  average\n",
       "index                                    \n",
       "barcelona         98          60       38\n",
       "chelsea           10          94      -84\n",
       "porto             38          55      -17"
      ]
     },
     "execution_count": 245,
     "metadata": {},
     "output_type": "execute_result"
    }
   ],
   "source": [
    "df"
   ]
  },
  {
   "cell_type": "code",
   "execution_count": null,
   "id": "cb71a9f0",
   "metadata": {},
   "outputs": [],
   "source": []
  },
  {
   "cell_type": "code",
   "execution_count": null,
   "id": "22d4a1d5",
   "metadata": {},
   "outputs": [],
   "source": []
  },
  {
   "cell_type": "code",
   "execution_count": null,
   "id": "dc0a939d",
   "metadata": {},
   "outputs": [],
   "source": []
  },
  {
   "cell_type": "code",
   "execution_count": null,
   "id": "2ef96b92",
   "metadata": {},
   "outputs": [],
   "source": []
  },
  {
   "cell_type": "code",
   "execution_count": null,
   "id": "3b7eba73",
   "metadata": {},
   "outputs": [],
   "source": []
  }
 ],
 "metadata": {
  "kernelspec": {
   "display_name": "Python 3 (ipykernel)",
   "language": "python",
   "name": "python3"
  },
  "language_info": {
   "codemirror_mode": {
    "name": "ipython",
    "version": 3
   },
   "file_extension": ".py",
   "mimetype": "text/x-python",
   "name": "python",
   "nbconvert_exporter": "python",
   "pygments_lexer": "ipython3",
   "version": "3.9.7"
  }
 },
 "nbformat": 4,
 "nbformat_minor": 5
}
