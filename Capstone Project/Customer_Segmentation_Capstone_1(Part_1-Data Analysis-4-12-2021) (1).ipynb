{
 "cells": [
  {
   "cell_type": "markdown",
   "metadata": {
    "id": "yG6Ti6UOiqav"
   },
   "source": [
    "___\n",
    "\n",
    "<p style=\"text-align: center;\"><img src=\"https://docs.google.com/uc?id=1lY0Uj5R04yMY3-ZppPWxqCr5pvBLYPnV\" class=\"img-fluid\" alt=\"CLRSWY\"></p>\n",
    "\n",
    "___"
   ]
  },
  {
   "cell_type": "markdown",
   "metadata": {
    "id": "M2v-2JDuiqa0"
   },
   "source": [
    "# WELCOME!"
   ]
  },
  {
   "cell_type": "markdown",
   "metadata": {
    "id": "oLS5y2Jqiqa1"
   },
   "source": [
    "Welcome to \"RFM Customer Segmentation & Cohort Analysis Project\". This is the first project of the Capstone Project Series, which consists of 4 different project that contain different scenarios.\n",
    "\n",
    "This is a project which you will learn what is RFM? And how to apply RFM Analysis and Customer Segmentation using K-Means Clustering. Also you will improve your Data Cleaning, Data Visualization and Exploratory Data Analysis capabilities. On the other hand you will create Cohort and Conduct Cohort Analysis. \n",
    "\n",
    "Before diving into the project, please take a look at the determines and project structure.\n",
    "\n",
    "- **NOTE:** This tutorial assumes that you already know the basics of coding in Python and are familiar with the theory behind K-Means Clustering.\n",
    "\n"
   ]
  },
  {
   "cell_type": "markdown",
   "metadata": {
    "id": "1SCOFEfqiqa1"
   },
   "source": [
    "# #Determines\n",
    "\n",
    "Using the [Online Retail dataset](https://archive.ics.uci.edu/ml/datasets/Online+Retail) from the UCI Machine Learning Repository for exploratory data analysis, ***Customer Segmentation***, ***RFM Analysis***, ***K-Means Clustering*** and ***Cohort Analysis***.\n",
    "\n",
    "This is a transnational data set which contains all the transactions occurring between 01/12/2010 and 09/12/2011 for a UK-based and registered non-store online retail. The company mainly sells unique all-occasion gifts. Many customers of the company are wholesalers.\n",
    "\n",
    "Feature Information:\n",
    "\n",
    "**InvoiceNo**: Invoice number. *Nominal*, a 6-digit integral number uniquely assigned to each transaction. If this code starts with letter 'c', it indicates a cancellation. \n",
    "<br>\n",
    "**StockCode**: Product (item) code. *Nominal*, a 5-digit integral number uniquely assigned to each distinct product.\n",
    "<br>\n",
    "**Description**: Product (item) name. *Nominal*. \n",
    "<br>\n",
    "**Quantity**: The quantities of each product (item) per transaction. *Numeric*.\n",
    "<br>\n",
    "**InvoiceDate**: Invoice Date and time. *Numeric*, the day and time when each transaction was generated.\n",
    "<br>\n",
    "**UnitPrice**: Unit price. *Numeric*, Product price per unit in sterling.\n",
    "<br>\n",
    "**CustomerID**: Customer number. *Nominal*, a 5-digit integral number uniquely assigned to each customer.\n",
    "<br>\n",
    "**Country**: Country name. *Nominal*, the name of the country where each customer resides.\n",
    "\n",
    "\n",
    "---\n",
    "\n",
    "\n",
    "First of all, to observe the structure of the data and missing values, you can use exploratory data analysis and data visualization techniques.\n",
    "\n",
    "You must do descriptive analysis. Because you must understand the relationship of the features to each other and clear the noise and missing values in the data. After that, the data set will be ready for RFM analysis.\n",
    "\n",
    "Before starting the RFM Analysis, you will be asked to do some analysis regarding the distribution of *Orders*, *Customers* and *Countries*. These analyzes will help the company develop its sales policies and contribute to the correct use of resources.\n",
    "\n",
    "You will notice that the UK not only has the most sales revenue, but also the most customers. So you will continue to analyze only UK transactions in the next RFM Analysis, Customer Segmentation and K-Means Clustering topics.\n",
    "\n",
    "Next, you will begin RFM Analysis, a customer segmentation technique based on customers' past purchasing behavior. \n",
    "\n",
    "By using RFM Analysis, you can enable companies to develop different approaches to different customer segments so that they can get to know their customers better, observe trends better, and increase customer retention and sales revenues.\n",
    "\n",
    "You will calculate the Recency, Frequency and Monetary values of the customers in the RFM Analysis you will make using the data consisting of UK transactions. Ultimately, you have to create an RFM table containing these values.\n",
    "\n",
    "In the Customer Segmentation section, you will create an RFM Segmentation Table where you segment your customers by using the RFM table. For example, you can label the best customer as \"Big Spenders\" and the lost customer as \"Lost Customer\".\n",
    "\n",
    "We will segment the customers ourselves based on their recency, frequency, and monetary values. But can an **unsupervised learning** model do this better for us? You will use the K-Means algorithm to find the answer to this question. Then you will compare the classification made by the algorithm with the classification you have made yourself.\n",
    "\n",
    "Before applying K-Means Clustering, you should do data pre-processing. In this context, it will be useful to examine feature correlations and distributions. In addition, the data you apply for K-Means should be normalized.\n",
    "\n",
    "On the other hand, you should inform the K-means algorithm about the number of clusters it will predict. You will also try the *** Elbow method *** and *** Silhouette Analysis *** to find the optimum number of clusters.\n",
    "\n",
    "After the above operations, you will have made cluster estimation with K-Means. You should visualize the cluster distribution by using a scatter plot. You can observe the properties of the resulting clusters with the help of the boxplot. Thus you will be able to tag clusters and interpret results.\n",
    "\n",
    "Finally, you will do Cohort Analysis with the data you used at the beginning, regardless of the analysis you have done before. Cohort analysis is a subset of behavioral analytics that takes the user data and breaks them into related groups for analysis. This analysis can further be used to do customer segmentation and track metrics like retention, churn, and lifetime value.\n"
   ]
  },
  {
   "cell_type": "markdown",
   "metadata": {
    "id": "KQ62QseViqa2"
   },
   "source": [
    "# #Project Structures\n",
    "\n",
    "- Data Cleaning & Exploratory Data Analysis\n",
    "- RFM Analysis\n",
    "- Customer Segmentation\n",
    "- Applying K-Means Clustering\n",
    "- Create Cohort and Conduct Cohort Analysis"
   ]
  },
  {
   "cell_type": "markdown",
   "metadata": {
    "id": "wsPQ1tUwiqa2"
   },
   "source": [
    "# #Tasks\n",
    "\n",
    "#### 1. Data Cleaning & Exploratory Data Analysis\n",
    "\n",
    "- Import Modules, Load Data & Data Review\n",
    "- Follow the Steps Below\n",
    "\n",
    "    *i. Take a look at relationships between InvoiceNo, Quantity and UnitPrice columns.*\n",
    "    \n",
    "    *ii. What does the letter \"C\" in the invoiceno column mean?*\n",
    "    \n",
    "    *iii. Handling Missing Values*\n",
    "    \n",
    "    *iv. Clean the Data from the Noise and Missing Values*\n",
    "    \n",
    "    *v. Explore the Orders*\n",
    "    \n",
    "    *vi. Explore Customers by Country*\n",
    "    \n",
    "    *vii. Explore the UK Market*\n",
    "    \n",
    "#### 2. RFM Analysis\n",
    "\n",
    "- Follow the steps below\n",
    "\n",
    "   *i. Import Libraries*\n",
    "   \n",
    "   *ii. Review \"df_uk\" DataFrame (the df_uk what you create at the end of the Task 1)*\n",
    "   \n",
    "   *iii. Calculate Recency*\n",
    "   \n",
    "   *iv. Calculate Frequency*\n",
    "   \n",
    "   *v. Calculate Monetary Values*\n",
    "   \n",
    "   *vi. Create RFM Table*\n",
    "\n",
    "#### 3. Customer Segmentation with RFM Scores\n",
    "- Calculate RFM Scoring\n",
    "\n",
    "    *i. Creating the RFM Segmentation Table*\n",
    " \n",
    "- Plot RFM Segments\n",
    "\n",
    "#### 4. Applying K-Means Clustering\n",
    "- Data Pre-Processing and Exploring\n",
    "\n",
    "    *i. Define and Plot Feature Correlations*\n",
    " \n",
    "    *ii. Visualize Feature Distributions*\n",
    " \n",
    "    *iii. Data Normalization*\n",
    "\n",
    "- K-Means Implementation\n",
    "\n",
    "    *i. Define Optimal Cluster Number (K) by using \"Elbow Method\" and \"Silhouette Analysis\"*\n",
    " \n",
    "    *ii. Visualize the Clusters*\n",
    " \n",
    "    *iii. Assign the label*\n",
    " \n",
    "    *iv. Conclusion*\n",
    " \n",
    "#### 5. Create Cohort and Conduct Cohort Analysis\n",
    "- Future Engineering\n",
    "\n",
    "    *i. Extract the Month of the Purchase*\n",
    " \n",
    "    *ii. Calculating time offset in Months i.e. Cohort Index*\n",
    " \n",
    "- Create 1st Cohort: User Number & Retention Rate \n",
    "\n",
    "    *i. Pivot Cohort and Cohort Retention*\n",
    " \n",
    "    *ii. Visualize analysis of cohort 1 using seaborn and matplotlib*\n",
    "\n",
    "- Create 2nd Cohort: Average Quantity Sold \n",
    "\n",
    "    *i. Pivot Cohort and Cohort Retention*\n",
    " \n",
    "    *ii. Visualize analysis of cohort 2 using seaborn and matplotlib*\n",
    "\n",
    "- Create 3rd Cohort: Average Sales\n",
    "\n",
    "    *i. Pivot Cohort and Cohort Retention*\n",
    " \n",
    "    *ii. Visualize analysis of cohort 3 using seaborn and matplotlib*\n",
    "    \n",
    "- **Note: There may be sub-tasks associated with each task, you will see them in order during the course of the work.**\n"
   ]
  },
  {
   "cell_type": "markdown",
   "metadata": {
    "id": "k-NlVU1UQGVA"
   },
   "source": [
    "# 1. Data Cleaning & Exploratory Data Analysis"
   ]
  },
  {
   "cell_type": "markdown",
   "metadata": {},
   "source": [
    "<div class=\"alert alert-block alert-success\">\n",
    "\n",
    "## <span style=\" color:Purple\"> 1-Data Cleaning & Exploratory Data Analysis </span>\n",
    "\n",
    "- Import Modules, Load Data & Data Review\n",
    "\n",
    "Follow the Steps Below\n",
    "\n",
    "i. Take a look at relationships between InvoiceNo, Quantity and UnitPrice columns.\n",
    "\n",
    "ii. What does the letter \"C\" in the invoiceno column mean?\n",
    "\n",
    "iii. Handling Missing Values\n",
    "\n",
    "iv. Clean the Data from the Noise and Missing Values\n",
    "\n",
    "v. Explore the Orders\n",
    "\n",
    "vi. Explore Customers by Country\n",
    "\n",
    "vii. Explore the UK Market\n"
   ]
  },
  {
   "cell_type": "markdown",
   "metadata": {
    "id": "L63G_-Dqiqa3"
   },
   "source": [
    "## Import Modules, Load Data & Data Review"
   ]
  },
  {
   "cell_type": "code",
   "execution_count": 1,
   "metadata": {},
   "outputs": [],
   "source": [
    "#!pip install pyforest"
   ]
  },
  {
   "cell_type": "code",
   "execution_count": 37,
   "metadata": {
    "id": "J-Zb5JfOiqa3"
   },
   "outputs": [],
   "source": [
    "import pyforest\n",
    "import numpy as np\n",
    "import pandas as pd\n",
    "import seaborn as sns \n",
    "import matplotlib.pyplot as plt\n",
    "\n",
    "import warnings\n",
    "warnings.filterwarnings(\"ignore\")\n",
    "warnings.warn(\"this will not show\")\n",
    "\n",
    "%matplotlib inline\n",
    "# %matplotlib notebook\n",
    "\n",
    "plt.rcParams[\"figure.figsize\"] = (10,6)\n",
    "# plt.rcParams['figure.dpi'] = 100\n",
    "\n",
    "sns.set_style(\"whitegrid\")\n",
    "pd.set_option('display.float_format', lambda x: '%.3f' % x)\n",
    "\n",
    "pd.options.display.max_rows = 100\n",
    "pd.options.display.max_columns = 100"
   ]
  },
  {
   "cell_type": "code",
   "execution_count": 38,
   "metadata": {},
   "outputs": [],
   "source": [
    "df = pd.read_excel('Online Retail.xlsx')"
   ]
  },
  {
   "cell_type": "code",
   "execution_count": 39,
   "metadata": {},
   "outputs": [
    {
     "data": {
      "text/html": [
       "<div>\n",
       "<style scoped>\n",
       "    .dataframe tbody tr th:only-of-type {\n",
       "        vertical-align: middle;\n",
       "    }\n",
       "\n",
       "    .dataframe tbody tr th {\n",
       "        vertical-align: top;\n",
       "    }\n",
       "\n",
       "    .dataframe thead th {\n",
       "        text-align: right;\n",
       "    }\n",
       "</style>\n",
       "<table border=\"1\" class=\"dataframe\">\n",
       "  <thead>\n",
       "    <tr style=\"text-align: right;\">\n",
       "      <th></th>\n",
       "      <th>InvoiceNo</th>\n",
       "      <th>StockCode</th>\n",
       "      <th>Description</th>\n",
       "      <th>Quantity</th>\n",
       "      <th>InvoiceDate</th>\n",
       "      <th>UnitPrice</th>\n",
       "      <th>CustomerID</th>\n",
       "      <th>Country</th>\n",
       "    </tr>\n",
       "  </thead>\n",
       "  <tbody>\n",
       "    <tr>\n",
       "      <th>520352</th>\n",
       "      <td>580279</td>\n",
       "      <td>22675</td>\n",
       "      <td>FRENCH KITCHEN SIGN BLUE METAL</td>\n",
       "      <td>12</td>\n",
       "      <td>2011-12-02 13:12:00</td>\n",
       "      <td>1.250</td>\n",
       "      <td>15123.000</td>\n",
       "      <td>United Kingdom</td>\n",
       "    </tr>\n",
       "    <tr>\n",
       "      <th>381172</th>\n",
       "      <td>569847</td>\n",
       "      <td>22727</td>\n",
       "      <td>ALARM CLOCK BAKELIKE RED</td>\n",
       "      <td>4</td>\n",
       "      <td>2011-10-06 13:45:00</td>\n",
       "      <td>3.750</td>\n",
       "      <td>14116.000</td>\n",
       "      <td>United Kingdom</td>\n",
       "    </tr>\n",
       "    <tr>\n",
       "      <th>238639</th>\n",
       "      <td>557951</td>\n",
       "      <td>23202</td>\n",
       "      <td>JUMBO BAG VINTAGE LEAF</td>\n",
       "      <td>10</td>\n",
       "      <td>2011-06-23 17:53:00</td>\n",
       "      <td>2.080</td>\n",
       "      <td>14825.000</td>\n",
       "      <td>United Kingdom</td>\n",
       "    </tr>\n",
       "    <tr>\n",
       "      <th>422119</th>\n",
       "      <td>573038</td>\n",
       "      <td>82552</td>\n",
       "      <td>WASHROOM METAL SIGN</td>\n",
       "      <td>2</td>\n",
       "      <td>2011-10-27 13:48:00</td>\n",
       "      <td>1.450</td>\n",
       "      <td>17545.000</td>\n",
       "      <td>United Kingdom</td>\n",
       "    </tr>\n",
       "    <tr>\n",
       "      <th>30807</th>\n",
       "      <td>538881</td>\n",
       "      <td>21888</td>\n",
       "      <td>BINGO SET</td>\n",
       "      <td>1</td>\n",
       "      <td>2010-12-14 15:54:00</td>\n",
       "      <td>7.620</td>\n",
       "      <td>NaN</td>\n",
       "      <td>United Kingdom</td>\n",
       "    </tr>\n",
       "    <tr>\n",
       "      <th>194430</th>\n",
       "      <td>553585</td>\n",
       "      <td>22708</td>\n",
       "      <td>WRAP DOLLY GIRL</td>\n",
       "      <td>25</td>\n",
       "      <td>2011-05-18 10:41:00</td>\n",
       "      <td>0.420</td>\n",
       "      <td>15301.000</td>\n",
       "      <td>United Kingdom</td>\n",
       "    </tr>\n",
       "    <tr>\n",
       "      <th>98745</th>\n",
       "      <td>544684</td>\n",
       "      <td>21243</td>\n",
       "      <td>PINK  POLKADOT PLATE</td>\n",
       "      <td>1</td>\n",
       "      <td>2011-02-22 16:32:00</td>\n",
       "      <td>3.290</td>\n",
       "      <td>NaN</td>\n",
       "      <td>United Kingdom</td>\n",
       "    </tr>\n",
       "    <tr>\n",
       "      <th>517838</th>\n",
       "      <td>580094</td>\n",
       "      <td>22677</td>\n",
       "      <td>FRENCH BLUE METAL DOOR SIGN 2</td>\n",
       "      <td>1</td>\n",
       "      <td>2011-12-01 14:50:00</td>\n",
       "      <td>1.250</td>\n",
       "      <td>15904.000</td>\n",
       "      <td>United Kingdom</td>\n",
       "    </tr>\n",
       "    <tr>\n",
       "      <th>324394</th>\n",
       "      <td>565397</td>\n",
       "      <td>84987</td>\n",
       "      <td>SET OF 36 TEATIME PAPER DOILIES</td>\n",
       "      <td>2</td>\n",
       "      <td>2011-09-02 16:43:00</td>\n",
       "      <td>1.450</td>\n",
       "      <td>14171.000</td>\n",
       "      <td>United Kingdom</td>\n",
       "    </tr>\n",
       "    <tr>\n",
       "      <th>267497</th>\n",
       "      <td>560300</td>\n",
       "      <td>16259</td>\n",
       "      <td>PIECE OF CAMO STATIONERY SET</td>\n",
       "      <td>108</td>\n",
       "      <td>2011-07-18 10:29:00</td>\n",
       "      <td>0.080</td>\n",
       "      <td>14911.000</td>\n",
       "      <td>EIRE</td>\n",
       "    </tr>\n",
       "  </tbody>\n",
       "</table>\n",
       "</div>"
      ],
      "text/plain": [
       "       InvoiceNo StockCode                      Description  Quantity  \\\n",
       "520352    580279     22675   FRENCH KITCHEN SIGN BLUE METAL        12   \n",
       "381172    569847     22727        ALARM CLOCK BAKELIKE RED          4   \n",
       "238639    557951     23202           JUMBO BAG VINTAGE LEAF        10   \n",
       "422119    573038     82552              WASHROOM METAL SIGN         2   \n",
       "30807     538881     21888                        BINGO SET         1   \n",
       "194430    553585     22708                  WRAP DOLLY GIRL        25   \n",
       "98745     544684     21243            PINK  POLKADOT PLATE          1   \n",
       "517838    580094     22677    FRENCH BLUE METAL DOOR SIGN 2         1   \n",
       "324394    565397     84987  SET OF 36 TEATIME PAPER DOILIES         2   \n",
       "267497    560300     16259     PIECE OF CAMO STATIONERY SET       108   \n",
       "\n",
       "               InvoiceDate  UnitPrice  CustomerID         Country  \n",
       "520352 2011-12-02 13:12:00      1.250   15123.000  United Kingdom  \n",
       "381172 2011-10-06 13:45:00      3.750   14116.000  United Kingdom  \n",
       "238639 2011-06-23 17:53:00      2.080   14825.000  United Kingdom  \n",
       "422119 2011-10-27 13:48:00      1.450   17545.000  United Kingdom  \n",
       "30807  2010-12-14 15:54:00      7.620         NaN  United Kingdom  \n",
       "194430 2011-05-18 10:41:00      0.420   15301.000  United Kingdom  \n",
       "98745  2011-02-22 16:32:00      3.290         NaN  United Kingdom  \n",
       "517838 2011-12-01 14:50:00      1.250   15904.000  United Kingdom  \n",
       "324394 2011-09-02 16:43:00      1.450   14171.000  United Kingdom  \n",
       "267497 2011-07-18 10:29:00      0.080   14911.000            EIRE  "
      ]
     },
     "execution_count": 39,
     "metadata": {},
     "output_type": "execute_result"
    }
   ],
   "source": [
    "df.sample(10)"
   ]
  },
  {
   "cell_type": "code",
   "execution_count": 40,
   "metadata": {},
   "outputs": [
    {
     "name": "stdout",
     "output_type": "stream",
     "text": [
      "<class 'pandas.core.frame.DataFrame'>\n",
      "RangeIndex: 541909 entries, 0 to 541908\n",
      "Data columns (total 8 columns):\n",
      " #   Column       Non-Null Count   Dtype         \n",
      "---  ------       --------------   -----         \n",
      " 0   InvoiceNo    541909 non-null  object        \n",
      " 1   StockCode    541909 non-null  object        \n",
      " 2   Description  540455 non-null  object        \n",
      " 3   Quantity     541909 non-null  int64         \n",
      " 4   InvoiceDate  541909 non-null  datetime64[ns]\n",
      " 5   UnitPrice    541909 non-null  float64       \n",
      " 6   CustomerID   406829 non-null  float64       \n",
      " 7   Country      541909 non-null  object        \n",
      "dtypes: datetime64[ns](1), float64(2), int64(1), object(4)\n",
      "memory usage: 33.1+ MB\n"
     ]
    }
   ],
   "source": [
    "df.info()"
   ]
  },
  {
   "cell_type": "code",
   "execution_count": 41,
   "metadata": {},
   "outputs": [
    {
     "data": {
      "text/plain": [
       "(541909, 8)"
      ]
     },
     "execution_count": 41,
     "metadata": {},
     "output_type": "execute_result"
    }
   ],
   "source": [
    "df.shape"
   ]
  },
  {
   "cell_type": "markdown",
   "metadata": {},
   "source": [
    "<div class=\"alert alert-block alert-info\">\n",
    "👇🏻Duplicate rows bakildiginda 5258 tane var.Bunlari drop edip yola 536641 satirla devam ediyoruz."
   ]
  },
  {
   "cell_type": "code",
   "execution_count": 42,
   "metadata": {},
   "outputs": [
    {
     "data": {
      "text/html": [
       "<div>\n",
       "<style scoped>\n",
       "    .dataframe tbody tr th:only-of-type {\n",
       "        vertical-align: middle;\n",
       "    }\n",
       "\n",
       "    .dataframe tbody tr th {\n",
       "        vertical-align: top;\n",
       "    }\n",
       "\n",
       "    .dataframe thead th {\n",
       "        text-align: right;\n",
       "    }\n",
       "</style>\n",
       "<table border=\"1\" class=\"dataframe\">\n",
       "  <thead>\n",
       "    <tr style=\"text-align: right;\">\n",
       "      <th></th>\n",
       "      <th>InvoiceNo</th>\n",
       "      <th>StockCode</th>\n",
       "      <th>Description</th>\n",
       "      <th>Quantity</th>\n",
       "      <th>InvoiceDate</th>\n",
       "      <th>UnitPrice</th>\n",
       "      <th>CustomerID</th>\n",
       "      <th>Country</th>\n",
       "    </tr>\n",
       "  </thead>\n",
       "  <tbody>\n",
       "    <tr>\n",
       "      <th>517</th>\n",
       "      <td>536409</td>\n",
       "      <td>21866</td>\n",
       "      <td>UNION JACK FLAG LUGGAGE TAG</td>\n",
       "      <td>1</td>\n",
       "      <td>2010-12-01 11:45:00</td>\n",
       "      <td>1.250</td>\n",
       "      <td>17908.000</td>\n",
       "      <td>United Kingdom</td>\n",
       "    </tr>\n",
       "    <tr>\n",
       "      <th>527</th>\n",
       "      <td>536409</td>\n",
       "      <td>22866</td>\n",
       "      <td>HAND WARMER SCOTTY DOG DESIGN</td>\n",
       "      <td>1</td>\n",
       "      <td>2010-12-01 11:45:00</td>\n",
       "      <td>2.100</td>\n",
       "      <td>17908.000</td>\n",
       "      <td>United Kingdom</td>\n",
       "    </tr>\n",
       "    <tr>\n",
       "      <th>537</th>\n",
       "      <td>536409</td>\n",
       "      <td>22900</td>\n",
       "      <td>SET 2 TEA TOWELS I LOVE LONDON</td>\n",
       "      <td>1</td>\n",
       "      <td>2010-12-01 11:45:00</td>\n",
       "      <td>2.950</td>\n",
       "      <td>17908.000</td>\n",
       "      <td>United Kingdom</td>\n",
       "    </tr>\n",
       "    <tr>\n",
       "      <th>539</th>\n",
       "      <td>536409</td>\n",
       "      <td>22111</td>\n",
       "      <td>SCOTTIE DOG HOT WATER BOTTLE</td>\n",
       "      <td>1</td>\n",
       "      <td>2010-12-01 11:45:00</td>\n",
       "      <td>4.950</td>\n",
       "      <td>17908.000</td>\n",
       "      <td>United Kingdom</td>\n",
       "    </tr>\n",
       "    <tr>\n",
       "      <th>555</th>\n",
       "      <td>536412</td>\n",
       "      <td>22327</td>\n",
       "      <td>ROUND SNACK BOXES SET OF 4 SKULLS</td>\n",
       "      <td>1</td>\n",
       "      <td>2010-12-01 11:49:00</td>\n",
       "      <td>2.950</td>\n",
       "      <td>17920.000</td>\n",
       "      <td>United Kingdom</td>\n",
       "    </tr>\n",
       "    <tr>\n",
       "      <th>...</th>\n",
       "      <td>...</td>\n",
       "      <td>...</td>\n",
       "      <td>...</td>\n",
       "      <td>...</td>\n",
       "      <td>...</td>\n",
       "      <td>...</td>\n",
       "      <td>...</td>\n",
       "      <td>...</td>\n",
       "    </tr>\n",
       "    <tr>\n",
       "      <th>541675</th>\n",
       "      <td>581538</td>\n",
       "      <td>22068</td>\n",
       "      <td>BLACK PIRATE TREASURE CHEST</td>\n",
       "      <td>1</td>\n",
       "      <td>2011-12-09 11:34:00</td>\n",
       "      <td>0.390</td>\n",
       "      <td>14446.000</td>\n",
       "      <td>United Kingdom</td>\n",
       "    </tr>\n",
       "    <tr>\n",
       "      <th>541689</th>\n",
       "      <td>581538</td>\n",
       "      <td>23318</td>\n",
       "      <td>BOX OF 6 MINI VINTAGE CRACKERS</td>\n",
       "      <td>1</td>\n",
       "      <td>2011-12-09 11:34:00</td>\n",
       "      <td>2.490</td>\n",
       "      <td>14446.000</td>\n",
       "      <td>United Kingdom</td>\n",
       "    </tr>\n",
       "    <tr>\n",
       "      <th>541692</th>\n",
       "      <td>581538</td>\n",
       "      <td>22992</td>\n",
       "      <td>REVOLVER WOODEN RULER</td>\n",
       "      <td>1</td>\n",
       "      <td>2011-12-09 11:34:00</td>\n",
       "      <td>1.950</td>\n",
       "      <td>14446.000</td>\n",
       "      <td>United Kingdom</td>\n",
       "    </tr>\n",
       "    <tr>\n",
       "      <th>541699</th>\n",
       "      <td>581538</td>\n",
       "      <td>22694</td>\n",
       "      <td>WICKER STAR</td>\n",
       "      <td>1</td>\n",
       "      <td>2011-12-09 11:34:00</td>\n",
       "      <td>2.100</td>\n",
       "      <td>14446.000</td>\n",
       "      <td>United Kingdom</td>\n",
       "    </tr>\n",
       "    <tr>\n",
       "      <th>541701</th>\n",
       "      <td>581538</td>\n",
       "      <td>23343</td>\n",
       "      <td>JUMBO BAG VINTAGE CHRISTMAS</td>\n",
       "      <td>1</td>\n",
       "      <td>2011-12-09 11:34:00</td>\n",
       "      <td>2.080</td>\n",
       "      <td>14446.000</td>\n",
       "      <td>United Kingdom</td>\n",
       "    </tr>\n",
       "  </tbody>\n",
       "</table>\n",
       "<p>5268 rows × 8 columns</p>\n",
       "</div>"
      ],
      "text/plain": [
       "       InvoiceNo StockCode                        Description  Quantity  \\\n",
       "517       536409     21866        UNION JACK FLAG LUGGAGE TAG         1   \n",
       "527       536409     22866      HAND WARMER SCOTTY DOG DESIGN         1   \n",
       "537       536409     22900    SET 2 TEA TOWELS I LOVE LONDON          1   \n",
       "539       536409     22111       SCOTTIE DOG HOT WATER BOTTLE         1   \n",
       "555       536412     22327  ROUND SNACK BOXES SET OF 4 SKULLS         1   \n",
       "...          ...       ...                                ...       ...   \n",
       "541675    581538     22068        BLACK PIRATE TREASURE CHEST         1   \n",
       "541689    581538     23318     BOX OF 6 MINI VINTAGE CRACKERS         1   \n",
       "541692    581538     22992             REVOLVER WOODEN RULER          1   \n",
       "541699    581538     22694                       WICKER STAR          1   \n",
       "541701    581538     23343       JUMBO BAG VINTAGE CHRISTMAS          1   \n",
       "\n",
       "               InvoiceDate  UnitPrice  CustomerID         Country  \n",
       "517    2010-12-01 11:45:00      1.250   17908.000  United Kingdom  \n",
       "527    2010-12-01 11:45:00      2.100   17908.000  United Kingdom  \n",
       "537    2010-12-01 11:45:00      2.950   17908.000  United Kingdom  \n",
       "539    2010-12-01 11:45:00      4.950   17908.000  United Kingdom  \n",
       "555    2010-12-01 11:49:00      2.950   17920.000  United Kingdom  \n",
       "...                    ...        ...         ...             ...  \n",
       "541675 2011-12-09 11:34:00      0.390   14446.000  United Kingdom  \n",
       "541689 2011-12-09 11:34:00      2.490   14446.000  United Kingdom  \n",
       "541692 2011-12-09 11:34:00      1.950   14446.000  United Kingdom  \n",
       "541699 2011-12-09 11:34:00      2.100   14446.000  United Kingdom  \n",
       "541701 2011-12-09 11:34:00      2.080   14446.000  United Kingdom  \n",
       "\n",
       "[5268 rows x 8 columns]"
      ]
     },
     "execution_count": 42,
     "metadata": {},
     "output_type": "execute_result"
    }
   ],
   "source": [
    "df[df.duplicated()] # they do not seem to be duplicated , they are orders on the same invoice"
   ]
  },
  {
   "cell_type": "code",
   "execution_count": 43,
   "metadata": {},
   "outputs": [
    {
     "data": {
      "text/plain": [
       "5268"
      ]
     },
     "execution_count": 43,
     "metadata": {},
     "output_type": "execute_result"
    }
   ],
   "source": [
    "df.duplicated().sum()"
   ]
  },
  {
   "cell_type": "code",
   "execution_count": 71,
   "metadata": {},
   "outputs": [
    {
     "data": {
      "text/html": [
       "<div>\n",
       "<style scoped>\n",
       "    .dataframe tbody tr th:only-of-type {\n",
       "        vertical-align: middle;\n",
       "    }\n",
       "\n",
       "    .dataframe tbody tr th {\n",
       "        vertical-align: top;\n",
       "    }\n",
       "\n",
       "    .dataframe thead th {\n",
       "        text-align: right;\n",
       "    }\n",
       "</style>\n",
       "<table border=\"1\" class=\"dataframe\">\n",
       "  <thead>\n",
       "    <tr style=\"text-align: right;\">\n",
       "      <th></th>\n",
       "      <th>InvoiceNo</th>\n",
       "      <th>StockCode</th>\n",
       "      <th>Description</th>\n",
       "      <th>Quantity</th>\n",
       "      <th>InvoiceDate</th>\n",
       "      <th>UnitPrice</th>\n",
       "      <th>CustomerID</th>\n",
       "      <th>Country</th>\n",
       "    </tr>\n",
       "  </thead>\n",
       "  <tbody>\n",
       "    <tr>\n",
       "      <th>494</th>\n",
       "      <td>536409</td>\n",
       "      <td>21866</td>\n",
       "      <td>UNION JACK FLAG LUGGAGE TAG</td>\n",
       "      <td>1</td>\n",
       "      <td>2010-12-01 11:45:00</td>\n",
       "      <td>1.250</td>\n",
       "      <td>17908.000</td>\n",
       "      <td>United Kingdom</td>\n",
       "    </tr>\n",
       "    <tr>\n",
       "      <th>517</th>\n",
       "      <td>536409</td>\n",
       "      <td>21866</td>\n",
       "      <td>UNION JACK FLAG LUGGAGE TAG</td>\n",
       "      <td>1</td>\n",
       "      <td>2010-12-01 11:45:00</td>\n",
       "      <td>1.250</td>\n",
       "      <td>17908.000</td>\n",
       "      <td>United Kingdom</td>\n",
       "    </tr>\n",
       "  </tbody>\n",
       "</table>\n",
       "</div>"
      ],
      "text/plain": [
       "    InvoiceNo StockCode                  Description  Quantity  \\\n",
       "494    536409     21866  UNION JACK FLAG LUGGAGE TAG         1   \n",
       "517    536409     21866  UNION JACK FLAG LUGGAGE TAG         1   \n",
       "\n",
       "            InvoiceDate  UnitPrice  CustomerID         Country  \n",
       "494 2010-12-01 11:45:00      1.250   17908.000  United Kingdom  \n",
       "517 2010-12-01 11:45:00      1.250   17908.000  United Kingdom  "
      ]
     },
     "execution_count": 71,
     "metadata": {},
     "output_type": "execute_result"
    }
   ],
   "source": [
    "df[(df.InvoiceNo == 536409)& (df.Description == 'UNION JACK FLAG LUGGAGE TAG')]\n"
   ]
  },
  {
   "cell_type": "code",
   "execution_count": 72,
   "metadata": {},
   "outputs": [],
   "source": [
    "df = df.drop_duplicates()"
   ]
  },
  {
   "cell_type": "code",
   "execution_count": 73,
   "metadata": {},
   "outputs": [
    {
     "data": {
      "text/plain": [
       "(401604, 8)"
      ]
     },
     "execution_count": 73,
     "metadata": {},
     "output_type": "execute_result"
    }
   ],
   "source": [
    "df.shape"
   ]
  },
  {
   "cell_type": "markdown",
   "metadata": {},
   "source": [
    "<div class=\"alert alert-block alert-info\">\n",
    "\n",
    "Object type li sutunlarin unique value sayilari👇🏻"
   ]
  },
  {
   "cell_type": "code",
   "execution_count": 44,
   "metadata": {},
   "outputs": [
    {
     "name": "stdout",
     "output_type": "stream",
     "text": [
      "Column InvoiceNo has 25900 unique values.\n",
      "Column StockCode has 4070 unique values.\n",
      "Column Description has 4223 unique values.\n",
      "Column Country has 38 unique values.\n"
     ]
    }
   ],
   "source": [
    "for column in df.select_dtypes('object').columns:\n",
    "    print(f'Column {column} has {df[column].nunique()} unique values.')"
   ]
  },
  {
   "cell_type": "markdown",
   "metadata": {},
   "source": [
    "<div class=\"alert alert-block alert-info\">\n",
    "    \n",
    "🔍Missing value durumuma genel bakis"
   ]
  },
  {
   "cell_type": "code",
   "execution_count": 45,
   "metadata": {
    "scrolled": true
   },
   "outputs": [
    {
     "data": {
      "text/plain": [
       "InvoiceNo           0\n",
       "StockCode           0\n",
       "Description      1454\n",
       "Quantity            0\n",
       "InvoiceDate         0\n",
       "UnitPrice           0\n",
       "CustomerID     135080\n",
       "Country             0\n",
       "dtype: int64"
      ]
     },
     "execution_count": 45,
     "metadata": {},
     "output_type": "execute_result"
    }
   ],
   "source": [
    "df.isnull().sum()"
   ]
  },
  {
   "cell_type": "code",
   "execution_count": 46,
   "metadata": {},
   "outputs": [
    {
     "data": {
      "text/html": [
       "<div>\n",
       "<style scoped>\n",
       "    .dataframe tbody tr th:only-of-type {\n",
       "        vertical-align: middle;\n",
       "    }\n",
       "\n",
       "    .dataframe tbody tr th {\n",
       "        vertical-align: top;\n",
       "    }\n",
       "\n",
       "    .dataframe thead th {\n",
       "        text-align: right;\n",
       "    }\n",
       "</style>\n",
       "<table border=\"1\" class=\"dataframe\">\n",
       "  <thead>\n",
       "    <tr style=\"text-align: right;\">\n",
       "      <th></th>\n",
       "      <th>count</th>\n",
       "      <th>mean</th>\n",
       "      <th>std</th>\n",
       "      <th>min</th>\n",
       "      <th>25%</th>\n",
       "      <th>50%</th>\n",
       "      <th>75%</th>\n",
       "      <th>max</th>\n",
       "    </tr>\n",
       "  </thead>\n",
       "  <tbody>\n",
       "    <tr>\n",
       "      <th>Quantity</th>\n",
       "      <td>541909.000</td>\n",
       "      <td>9.552</td>\n",
       "      <td>218.081</td>\n",
       "      <td>-80995.000</td>\n",
       "      <td>1.000</td>\n",
       "      <td>3.000</td>\n",
       "      <td>10.000</td>\n",
       "      <td>80995.000</td>\n",
       "    </tr>\n",
       "    <tr>\n",
       "      <th>UnitPrice</th>\n",
       "      <td>541909.000</td>\n",
       "      <td>4.611</td>\n",
       "      <td>96.760</td>\n",
       "      <td>-11062.060</td>\n",
       "      <td>1.250</td>\n",
       "      <td>2.080</td>\n",
       "      <td>4.130</td>\n",
       "      <td>38970.000</td>\n",
       "    </tr>\n",
       "    <tr>\n",
       "      <th>CustomerID</th>\n",
       "      <td>406829.000</td>\n",
       "      <td>15287.691</td>\n",
       "      <td>1713.600</td>\n",
       "      <td>12346.000</td>\n",
       "      <td>13953.000</td>\n",
       "      <td>15152.000</td>\n",
       "      <td>16791.000</td>\n",
       "      <td>18287.000</td>\n",
       "    </tr>\n",
       "  </tbody>\n",
       "</table>\n",
       "</div>"
      ],
      "text/plain": [
       "                count      mean      std        min       25%       50%  \\\n",
       "Quantity   541909.000     9.552  218.081 -80995.000     1.000     3.000   \n",
       "UnitPrice  541909.000     4.611   96.760 -11062.060     1.250     2.080   \n",
       "CustomerID 406829.000 15287.691 1713.600  12346.000 13953.000 15152.000   \n",
       "\n",
       "                 75%       max  \n",
       "Quantity      10.000 80995.000  \n",
       "UnitPrice      4.130 38970.000  \n",
       "CustomerID 16791.000 18287.000  "
      ]
     },
     "execution_count": 46,
     "metadata": {},
     "output_type": "execute_result"
    }
   ],
   "source": [
    "df.describe().T"
   ]
  },
  {
   "cell_type": "code",
   "execution_count": null,
   "metadata": {},
   "outputs": [],
   "source": []
  },
  {
   "cell_type": "code",
   "execution_count": 47,
   "metadata": {},
   "outputs": [
    {
     "data": {
      "image/png": "[encoded data removed]",
      "text/plain": [
       "<Figure size 864x720 with 1 Axes>"
      ]
     },
     "metadata": {},
     "output_type": "display_data"
    }
   ],
   "source": [
    "df[\"Country\"].value_counts().plot(kind=\"pie\", autopct='%1.1f%%',figsize=(12,10));"
   ]
  },
  {
   "cell_type": "markdown",
   "metadata": {
    "id": "YECMxCzUQGV7"
   },
   "source": [
    "### i. Take a look at relationships between InvoiceNo, Quantity and UnitPrice columns."
   ]
  },
  {
   "cell_type": "code",
   "execution_count": 48,
   "metadata": {
    "id": "nQ8vAKbbiqa4"
   },
   "outputs": [
    {
     "data": {
      "text/html": [
       "<div>\n",
       "<style scoped>\n",
       "    .dataframe tbody tr th:only-of-type {\n",
       "        vertical-align: middle;\n",
       "    }\n",
       "\n",
       "    .dataframe tbody tr th {\n",
       "        vertical-align: top;\n",
       "    }\n",
       "\n",
       "    .dataframe thead th {\n",
       "        text-align: right;\n",
       "    }\n",
       "</style>\n",
       "<table border=\"1\" class=\"dataframe\">\n",
       "  <thead>\n",
       "    <tr style=\"text-align: right;\">\n",
       "      <th></th>\n",
       "      <th>Quantity</th>\n",
       "      <th>UnitPrice</th>\n",
       "      <th>Description</th>\n",
       "    </tr>\n",
       "  </thead>\n",
       "  <tbody>\n",
       "    <tr>\n",
       "      <th>303968</th>\n",
       "      <td>24</td>\n",
       "      <td>0.550</td>\n",
       "      <td>60 CAKE CASES DOLLY GIRL DESIGN</td>\n",
       "    </tr>\n",
       "    <tr>\n",
       "      <th>304007</th>\n",
       "      <td>16</td>\n",
       "      <td>0.650</td>\n",
       "      <td>COLOUR GLASS T-LIGHT HOLDER HANGING</td>\n",
       "    </tr>\n",
       "    <tr>\n",
       "      <th>303944</th>\n",
       "      <td>4</td>\n",
       "      <td>4.950</td>\n",
       "      <td>SET OF TEA COFFEE SUGAR TINS PANTRY</td>\n",
       "    </tr>\n",
       "    <tr>\n",
       "      <th>303998</th>\n",
       "      <td>12</td>\n",
       "      <td>1.250</td>\n",
       "      <td>FRENCH WC SIGN BLUE METAL</td>\n",
       "    </tr>\n",
       "    <tr>\n",
       "      <th>304001</th>\n",
       "      <td>12</td>\n",
       "      <td>1.250</td>\n",
       "      <td>FRENCH GARDEN SIGN BLUE METAL</td>\n",
       "    </tr>\n",
       "    <tr>\n",
       "      <th>303989</th>\n",
       "      <td>24</td>\n",
       "      <td>0.850</td>\n",
       "      <td>METAL DECORATION NAUGHTY CHILDREN</td>\n",
       "    </tr>\n",
       "    <tr>\n",
       "      <th>303929</th>\n",
       "      <td>4</td>\n",
       "      <td>4.950</td>\n",
       "      <td>SET 3 RETROSPOT TEA,COFFEE,SUGAR</td>\n",
       "    </tr>\n",
       "    <tr>\n",
       "      <th>303884</th>\n",
       "      <td>4</td>\n",
       "      <td>4.150</td>\n",
       "      <td>CHILDRENS CUTLERY POLKADOT GREEN</td>\n",
       "    </tr>\n",
       "    <tr>\n",
       "      <th>304026</th>\n",
       "      <td>4</td>\n",
       "      <td>9.950</td>\n",
       "      <td>FAMILY PHOTO FRAME CORNICE</td>\n",
       "    </tr>\n",
       "    <tr>\n",
       "      <th>303889</th>\n",
       "      <td>12</td>\n",
       "      <td>0.850</td>\n",
       "      <td>VINTAGE SNAP CARDS</td>\n",
       "    </tr>\n",
       "  </tbody>\n",
       "</table>\n",
       "</div>"
      ],
      "text/plain": [
       "        Quantity  UnitPrice                          Description\n",
       "303968        24      0.550      60 CAKE CASES DOLLY GIRL DESIGN\n",
       "304007        16      0.650  COLOUR GLASS T-LIGHT HOLDER HANGING\n",
       "303944         4      4.950  SET OF TEA COFFEE SUGAR TINS PANTRY\n",
       "303998        12      1.250            FRENCH WC SIGN BLUE METAL\n",
       "304001        12      1.250        FRENCH GARDEN SIGN BLUE METAL\n",
       "303989        24      0.850   METAL DECORATION NAUGHTY CHILDREN \n",
       "303929         4      4.950     SET 3 RETROSPOT TEA,COFFEE,SUGAR\n",
       "303884         4      4.150    CHILDRENS CUTLERY POLKADOT GREEN \n",
       "304026         4      9.950           FAMILY PHOTO FRAME CORNICE\n",
       "303889        12      0.850                   VINTAGE SNAP CARDS"
      ]
     },
     "execution_count": 48,
     "metadata": {},
     "output_type": "execute_result"
    }
   ],
   "source": [
    "df[df['InvoiceNo'] == 563557 ][['Quantity',\"UnitPrice\",'Description']].sample(10)"
   ]
  },
  {
   "cell_type": "code",
   "execution_count": 49,
   "metadata": {},
   "outputs": [
    {
     "data": {
      "text/html": [
       "<style  type=\"text/css\" >\n",
       "#T_30152_row0_col0,#T_30152_row1_col1{\n",
       "            background-color:  #08306b;\n",
       "            color:  #f1f1f1;\n",
       "        }#T_30152_row0_col1,#T_30152_row1_col0{\n",
       "            background-color:  #f7fbff;\n",
       "            color:  #000000;\n",
       "        }</style><table id=\"T_30152_\" ><thead>    <tr>        <th class=\"blank level0\" ></th>        <th class=\"col_heading level0 col0\" >Quantity</th>        <th class=\"col_heading level0 col1\" >UnitPrice</th>    </tr></thead><tbody>\n",
       "                <tr>\n",
       "                        <th id=\"T_30152_level0_row0\" class=\"row_heading level0 row0\" >Quantity</th>\n",
       "                        <td id=\"T_30152_row0_col0\" class=\"data row0 col0\" >1.000000</td>\n",
       "                        <td id=\"T_30152_row0_col1\" class=\"data row0 col1\" >-0.001235</td>\n",
       "            </tr>\n",
       "            <tr>\n",
       "                        <th id=\"T_30152_level0_row1\" class=\"row_heading level0 row1\" >UnitPrice</th>\n",
       "                        <td id=\"T_30152_row1_col0\" class=\"data row1 col0\" >-0.001235</td>\n",
       "                        <td id=\"T_30152_row1_col1\" class=\"data row1 col1\" >1.000000</td>\n",
       "            </tr>\n",
       "    </tbody></table>"
      ],
      "text/plain": [
       "<pandas.io.formats.style.Styler at 0x24ae2e784c0>"
      ]
     },
     "execution_count": 49,
     "metadata": {},
     "output_type": "execute_result"
    }
   ],
   "source": [
    "df[['Quantity',\"UnitPrice\"]].corr().style.background_gradient(cmap=\"Blues\")"
   ]
  },
  {
   "cell_type": "code",
   "execution_count": 50,
   "metadata": {
    "scrolled": true
   },
   "outputs": [
    {
     "data": {
      "text/html": [
       "<div>\n",
       "<style scoped>\n",
       "    .dataframe tbody tr th:only-of-type {\n",
       "        vertical-align: middle;\n",
       "    }\n",
       "\n",
       "    .dataframe tbody tr th {\n",
       "        vertical-align: top;\n",
       "    }\n",
       "\n",
       "    .dataframe thead th {\n",
       "        text-align: right;\n",
       "    }\n",
       "</style>\n",
       "<table border=\"1\" class=\"dataframe\">\n",
       "  <thead>\n",
       "    <tr style=\"text-align: right;\">\n",
       "      <th></th>\n",
       "      <th>InvoiceNo</th>\n",
       "      <th>Quantity</th>\n",
       "      <th>UnitPrice</th>\n",
       "      <th>Description</th>\n",
       "    </tr>\n",
       "  </thead>\n",
       "  <tbody>\n",
       "    <tr>\n",
       "      <th>145702</th>\n",
       "      <td>548894</td>\n",
       "      <td>40</td>\n",
       "      <td>1.630</td>\n",
       "      <td>WHITE JEWELLED HEART DECORATION</td>\n",
       "    </tr>\n",
       "    <tr>\n",
       "      <th>43118</th>\n",
       "      <td>540026</td>\n",
       "      <td>1</td>\n",
       "      <td>8.470</td>\n",
       "      <td>SPOTTY PINK DUCK DOORSTOP</td>\n",
       "    </tr>\n",
       "    <tr>\n",
       "      <th>117040</th>\n",
       "      <td>546324</td>\n",
       "      <td>12</td>\n",
       "      <td>1.250</td>\n",
       "      <td>SET OF 3 HEART COOKIE CUTTERS</td>\n",
       "    </tr>\n",
       "    <tr>\n",
       "      <th>405641</th>\n",
       "      <td>571716</td>\n",
       "      <td>1</td>\n",
       "      <td>5.790</td>\n",
       "      <td>SILVER PLATE CANDLE BOWL SMALL</td>\n",
       "    </tr>\n",
       "    <tr>\n",
       "      <th>475677</th>\n",
       "      <td>576910</td>\n",
       "      <td>12</td>\n",
       "      <td>1.250</td>\n",
       "      <td>ROTATING LEAVES T-LIGHT HOLDER</td>\n",
       "    </tr>\n",
       "    <tr>\n",
       "      <th>14254</th>\n",
       "      <td>537468</td>\n",
       "      <td>3</td>\n",
       "      <td>18.000</td>\n",
       "      <td>POSTAGE</td>\n",
       "    </tr>\n",
       "    <tr>\n",
       "      <th>221104</th>\n",
       "      <td>556237</td>\n",
       "      <td>5</td>\n",
       "      <td>3.290</td>\n",
       "      <td>FRENCH FLORAL CUSHION COVER</td>\n",
       "    </tr>\n",
       "    <tr>\n",
       "      <th>483851</th>\n",
       "      <td>577511</td>\n",
       "      <td>2</td>\n",
       "      <td>1.250</td>\n",
       "      <td>SET OF 6 TEA TIME BAKING CASES</td>\n",
       "    </tr>\n",
       "    <tr>\n",
       "      <th>180951</th>\n",
       "      <td>552376</td>\n",
       "      <td>2</td>\n",
       "      <td>7.950</td>\n",
       "      <td>DOORMAT HEARTS</td>\n",
       "    </tr>\n",
       "    <tr>\n",
       "      <th>418483</th>\n",
       "      <td>572726</td>\n",
       "      <td>3</td>\n",
       "      <td>1.650</td>\n",
       "      <td>SMALL WHITE HEART OF WICKER</td>\n",
       "    </tr>\n",
       "    <tr>\n",
       "      <th>100337</th>\n",
       "      <td>544812</td>\n",
       "      <td>6</td>\n",
       "      <td>3.330</td>\n",
       "      <td>RED SPOT CERAMIC DRAWER KNOB</td>\n",
       "    </tr>\n",
       "    <tr>\n",
       "      <th>143459</th>\n",
       "      <td>548702</td>\n",
       "      <td>10</td>\n",
       "      <td>0.290</td>\n",
       "      <td>STRIPY DESIGN SHOWER CAP</td>\n",
       "    </tr>\n",
       "    <tr>\n",
       "      <th>300203</th>\n",
       "      <td>563193</td>\n",
       "      <td>1</td>\n",
       "      <td>1.250</td>\n",
       "      <td>BATHROOM METAL SIGN</td>\n",
       "    </tr>\n",
       "    <tr>\n",
       "      <th>117940</th>\n",
       "      <td>546415</td>\n",
       "      <td>12</td>\n",
       "      <td>0.290</td>\n",
       "      <td>PACK OF 12 LONDON TISSUES</td>\n",
       "    </tr>\n",
       "    <tr>\n",
       "      <th>78726</th>\n",
       "      <td>542895</td>\n",
       "      <td>1</td>\n",
       "      <td>2.100</td>\n",
       "      <td>I'M ON HOLIDAY METAL SIGN</td>\n",
       "    </tr>\n",
       "  </tbody>\n",
       "</table>\n",
       "</div>"
      ],
      "text/plain": [
       "       InvoiceNo  Quantity  UnitPrice                      Description\n",
       "145702    548894        40      1.630  WHITE JEWELLED HEART DECORATION\n",
       "43118     540026         1      8.470        SPOTTY PINK DUCK DOORSTOP\n",
       "117040    546324        12      1.250    SET OF 3 HEART COOKIE CUTTERS\n",
       "405641    571716         1      5.790   SILVER PLATE CANDLE BOWL SMALL\n",
       "475677    576910        12      1.250   ROTATING LEAVES T-LIGHT HOLDER\n",
       "14254     537468         3     18.000                          POSTAGE\n",
       "221104    556237         5      3.290     FRENCH FLORAL CUSHION COVER \n",
       "483851    577511         2      1.250   SET OF 6 TEA TIME BAKING CASES\n",
       "180951    552376         2      7.950                   DOORMAT HEARTS\n",
       "418483    572726         3      1.650      SMALL WHITE HEART OF WICKER\n",
       "100337    544812         6      3.330     RED SPOT CERAMIC DRAWER KNOB\n",
       "143459    548702        10      0.290         STRIPY DESIGN SHOWER CAP\n",
       "300203    563193         1      1.250              BATHROOM METAL SIGN\n",
       "117940    546415        12      0.290       PACK OF 12 LONDON TISSUES \n",
       "78726     542895         1      2.100        I'M ON HOLIDAY METAL SIGN"
      ]
     },
     "execution_count": 50,
     "metadata": {},
     "output_type": "execute_result"
    }
   ],
   "source": [
    "df[['InvoiceNo','Quantity',\"UnitPrice\",'Description']].sample(15)"
   ]
  },
  {
   "cell_type": "markdown",
   "metadata": {
    "id": "KiSW67N_QGV8"
   },
   "source": [
    "We see that there are negative values in the Quantity and UnitPrice columns. These are possibly canceled and returned orders. Let's check it out."
   ]
  },
  {
   "cell_type": "code",
   "execution_count": 51,
   "metadata": {
    "id": "ZoHopX7-iqa4",
    "scrolled": false
   },
   "outputs": [
    {
     "data": {
      "text/html": [
       "<div>\n",
       "<style scoped>\n",
       "    .dataframe tbody tr th:only-of-type {\n",
       "        vertical-align: middle;\n",
       "    }\n",
       "\n",
       "    .dataframe tbody tr th {\n",
       "        vertical-align: top;\n",
       "    }\n",
       "\n",
       "    .dataframe thead th {\n",
       "        text-align: right;\n",
       "    }\n",
       "</style>\n",
       "<table border=\"1\" class=\"dataframe\">\n",
       "  <thead>\n",
       "    <tr style=\"text-align: right;\">\n",
       "      <th></th>\n",
       "      <th>InvoiceNo</th>\n",
       "      <th>StockCode</th>\n",
       "      <th>Description</th>\n",
       "      <th>Quantity</th>\n",
       "      <th>InvoiceDate</th>\n",
       "      <th>UnitPrice</th>\n",
       "      <th>CustomerID</th>\n",
       "      <th>Country</th>\n",
       "    </tr>\n",
       "  </thead>\n",
       "  <tbody>\n",
       "    <tr>\n",
       "      <th>246780</th>\n",
       "      <td>C558727</td>\n",
       "      <td>20914</td>\n",
       "      <td>SET/5 RED RETROSPOT LID GLASS BOWLS</td>\n",
       "      <td>-1</td>\n",
       "      <td>2011-07-01 14:35:00</td>\n",
       "      <td>2.550</td>\n",
       "      <td>12709.000</td>\n",
       "      <td>Germany</td>\n",
       "    </tr>\n",
       "    <tr>\n",
       "      <th>117069</th>\n",
       "      <td>C546362</td>\n",
       "      <td>22423</td>\n",
       "      <td>REGENCY CAKESTAND 3 TIER</td>\n",
       "      <td>-1</td>\n",
       "      <td>2011-03-11 11:18:00</td>\n",
       "      <td>12.750</td>\n",
       "      <td>16419.000</td>\n",
       "      <td>United Kingdom</td>\n",
       "    </tr>\n",
       "    <tr>\n",
       "      <th>95047</th>\n",
       "      <td>C544435</td>\n",
       "      <td>22962</td>\n",
       "      <td>JAM JAR WITH PINK LID</td>\n",
       "      <td>-4</td>\n",
       "      <td>2011-02-18 16:32:00</td>\n",
       "      <td>0.850</td>\n",
       "      <td>15122.000</td>\n",
       "      <td>United Kingdom</td>\n",
       "    </tr>\n",
       "    <tr>\n",
       "      <th>375189</th>\n",
       "      <td>C569421</td>\n",
       "      <td>22592</td>\n",
       "      <td>CARDHOLDER HOLLY WREATH METAL</td>\n",
       "      <td>-1</td>\n",
       "      <td>2011-10-04 10:37:00</td>\n",
       "      <td>3.750</td>\n",
       "      <td>15339.000</td>\n",
       "      <td>United Kingdom</td>\n",
       "    </tr>\n",
       "    <tr>\n",
       "      <th>71506</th>\n",
       "      <td>C542138</td>\n",
       "      <td>84536B</td>\n",
       "      <td>FAIRY CAKES NOTEBOOK A7 SIZE</td>\n",
       "      <td>-32</td>\n",
       "      <td>2011-01-25 17:21:00</td>\n",
       "      <td>0.420</td>\n",
       "      <td>17368.000</td>\n",
       "      <td>United Kingdom</td>\n",
       "    </tr>\n",
       "    <tr>\n",
       "      <th>100852</th>\n",
       "      <td>C544840</td>\n",
       "      <td>22728</td>\n",
       "      <td>ALARM CLOCK BAKELIKE PINK</td>\n",
       "      <td>-1</td>\n",
       "      <td>2011-02-24 11:06:00</td>\n",
       "      <td>3.750</td>\n",
       "      <td>16719.000</td>\n",
       "      <td>United Kingdom</td>\n",
       "    </tr>\n",
       "    <tr>\n",
       "      <th>466263</th>\n",
       "      <td>C576325</td>\n",
       "      <td>23414</td>\n",
       "      <td>ZINC BOX SIGN HOME</td>\n",
       "      <td>-4</td>\n",
       "      <td>2011-11-14 15:13:00</td>\n",
       "      <td>9.950</td>\n",
       "      <td>15050.000</td>\n",
       "      <td>United Kingdom</td>\n",
       "    </tr>\n",
       "    <tr>\n",
       "      <th>240225</th>\n",
       "      <td>C558095</td>\n",
       "      <td>23210</td>\n",
       "      <td>WHITE ROCKING HORSE HAND PAINTED</td>\n",
       "      <td>-144</td>\n",
       "      <td>2011-06-26 13:13:00</td>\n",
       "      <td>1.040</td>\n",
       "      <td>15046.000</td>\n",
       "      <td>United Kingdom</td>\n",
       "    </tr>\n",
       "    <tr>\n",
       "      <th>151036</th>\n",
       "      <td>C549530</td>\n",
       "      <td>22998</td>\n",
       "      <td>TRAVEL CARD WALLET KEEP CALM</td>\n",
       "      <td>-1</td>\n",
       "      <td>2011-04-08 17:03:00</td>\n",
       "      <td>0.420</td>\n",
       "      <td>13863.000</td>\n",
       "      <td>United Kingdom</td>\n",
       "    </tr>\n",
       "    <tr>\n",
       "      <th>536926</th>\n",
       "      <td>C581229</td>\n",
       "      <td>21507</td>\n",
       "      <td>ELEPHANT BIRTHDAY CARD</td>\n",
       "      <td>-12</td>\n",
       "      <td>2011-12-08 10:14:00</td>\n",
       "      <td>0.420</td>\n",
       "      <td>12558.000</td>\n",
       "      <td>USA</td>\n",
       "    </tr>\n",
       "    <tr>\n",
       "      <th>140278</th>\n",
       "      <td>C548391</td>\n",
       "      <td>22698</td>\n",
       "      <td>PINK REGENCY TEACUP AND SAUCER</td>\n",
       "      <td>-1</td>\n",
       "      <td>2011-03-30 17:06:00</td>\n",
       "      <td>2.950</td>\n",
       "      <td>13488.000</td>\n",
       "      <td>United Kingdom</td>\n",
       "    </tr>\n",
       "    <tr>\n",
       "      <th>381725</th>\n",
       "      <td>C569891</td>\n",
       "      <td>23165</td>\n",
       "      <td>LARGE CERAMIC TOP STORAGE JAR</td>\n",
       "      <td>-2</td>\n",
       "      <td>2011-10-06 15:46:00</td>\n",
       "      <td>1.650</td>\n",
       "      <td>13924.000</td>\n",
       "      <td>United Kingdom</td>\n",
       "    </tr>\n",
       "    <tr>\n",
       "      <th>422643</th>\n",
       "      <td>C573101</td>\n",
       "      <td>23541</td>\n",
       "      <td>WALL ART CLASSIC PUDDINGS</td>\n",
       "      <td>-2</td>\n",
       "      <td>2011-10-27 14:50:00</td>\n",
       "      <td>8.250</td>\n",
       "      <td>16592.000</td>\n",
       "      <td>United Kingdom</td>\n",
       "    </tr>\n",
       "    <tr>\n",
       "      <th>421928</th>\n",
       "      <td>C573031</td>\n",
       "      <td>22818</td>\n",
       "      <td>CARD CHRISTMAS VILLAGE</td>\n",
       "      <td>-12</td>\n",
       "      <td>2011-10-27 13:35:00</td>\n",
       "      <td>0.420</td>\n",
       "      <td>13004.000</td>\n",
       "      <td>United Kingdom</td>\n",
       "    </tr>\n",
       "    <tr>\n",
       "      <th>24919</th>\n",
       "      <td>C538350</td>\n",
       "      <td>37450</td>\n",
       "      <td>CERAMIC CAKE BOWL + HANGING CAKES</td>\n",
       "      <td>-20</td>\n",
       "      <td>2010-12-10 15:01:00</td>\n",
       "      <td>2.550</td>\n",
       "      <td>13798.000</td>\n",
       "      <td>United Kingdom</td>\n",
       "    </tr>\n",
       "  </tbody>\n",
       "</table>\n",
       "</div>"
      ],
      "text/plain": [
       "       InvoiceNo StockCode                          Description  Quantity  \\\n",
       "246780   C558727     20914  SET/5 RED RETROSPOT LID GLASS BOWLS        -1   \n",
       "117069   C546362     22423             REGENCY CAKESTAND 3 TIER        -1   \n",
       "95047    C544435     22962                JAM JAR WITH PINK LID        -4   \n",
       "375189   C569421     22592        CARDHOLDER HOLLY WREATH METAL        -1   \n",
       "71506    C542138    84536B         FAIRY CAKES NOTEBOOK A7 SIZE       -32   \n",
       "100852   C544840     22728            ALARM CLOCK BAKELIKE PINK        -1   \n",
       "466263   C576325     23414                   ZINC BOX SIGN HOME        -4   \n",
       "240225   C558095     23210     WHITE ROCKING HORSE HAND PAINTED      -144   \n",
       "151036   C549530     22998         TRAVEL CARD WALLET KEEP CALM        -1   \n",
       "536926   C581229     21507              ELEPHANT BIRTHDAY CARD        -12   \n",
       "140278   C548391     22698       PINK REGENCY TEACUP AND SAUCER        -1   \n",
       "381725   C569891     23165        LARGE CERAMIC TOP STORAGE JAR        -2   \n",
       "422643   C573101     23541           WALL ART CLASSIC PUDDINGS         -2   \n",
       "421928   C573031     22818               CARD CHRISTMAS VILLAGE       -12   \n",
       "24919    C538350     37450    CERAMIC CAKE BOWL + HANGING CAKES       -20   \n",
       "\n",
       "               InvoiceDate  UnitPrice  CustomerID         Country  \n",
       "246780 2011-07-01 14:35:00      2.550   12709.000         Germany  \n",
       "117069 2011-03-11 11:18:00     12.750   16419.000  United Kingdom  \n",
       "95047  2011-02-18 16:32:00      0.850   15122.000  United Kingdom  \n",
       "375189 2011-10-04 10:37:00      3.750   15339.000  United Kingdom  \n",
       "71506  2011-01-25 17:21:00      0.420   17368.000  United Kingdom  \n",
       "100852 2011-02-24 11:06:00      3.750   16719.000  United Kingdom  \n",
       "466263 2011-11-14 15:13:00      9.950   15050.000  United Kingdom  \n",
       "240225 2011-06-26 13:13:00      1.040   15046.000  United Kingdom  \n",
       "151036 2011-04-08 17:03:00      0.420   13863.000  United Kingdom  \n",
       "536926 2011-12-08 10:14:00      0.420   12558.000             USA  \n",
       "140278 2011-03-30 17:06:00      2.950   13488.000  United Kingdom  \n",
       "381725 2011-10-06 15:46:00      1.650   13924.000  United Kingdom  \n",
       "422643 2011-10-27 14:50:00      8.250   16592.000  United Kingdom  \n",
       "421928 2011-10-27 13:35:00      0.420   13004.000  United Kingdom  \n",
       "24919  2010-12-10 15:01:00      2.550   13798.000  United Kingdom  "
      ]
     },
     "execution_count": 51,
     "metadata": {},
     "output_type": "execute_result"
    }
   ],
   "source": [
    "df[df.InvoiceNo.str.startswith('C', na=False)].sample(15)"
   ]
  },
  {
   "cell_type": "code",
   "execution_count": 52,
   "metadata": {
    "scrolled": true
   },
   "outputs": [
    {
     "data": {
      "text/html": [
       "<div>\n",
       "<style scoped>\n",
       "    .dataframe tbody tr th:only-of-type {\n",
       "        vertical-align: middle;\n",
       "    }\n",
       "\n",
       "    .dataframe tbody tr th {\n",
       "        vertical-align: top;\n",
       "    }\n",
       "\n",
       "    .dataframe thead th {\n",
       "        text-align: right;\n",
       "    }\n",
       "</style>\n",
       "<table border=\"1\" class=\"dataframe\">\n",
       "  <thead>\n",
       "    <tr style=\"text-align: right;\">\n",
       "      <th></th>\n",
       "      <th>InvoiceNo</th>\n",
       "      <th>StockCode</th>\n",
       "      <th>Description</th>\n",
       "      <th>Quantity</th>\n",
       "      <th>InvoiceDate</th>\n",
       "      <th>UnitPrice</th>\n",
       "      <th>CustomerID</th>\n",
       "      <th>Country</th>\n",
       "    </tr>\n",
       "  </thead>\n",
       "  <tbody>\n",
       "    <tr>\n",
       "      <th>141</th>\n",
       "      <td>C536379</td>\n",
       "      <td>D</td>\n",
       "      <td>Discount</td>\n",
       "      <td>-1</td>\n",
       "      <td>2010-12-01 09:41:00</td>\n",
       "      <td>27.500</td>\n",
       "      <td>14527.000</td>\n",
       "      <td>United Kingdom</td>\n",
       "    </tr>\n",
       "    <tr>\n",
       "      <th>9038</th>\n",
       "      <td>C537164</td>\n",
       "      <td>D</td>\n",
       "      <td>Discount</td>\n",
       "      <td>-1</td>\n",
       "      <td>2010-12-05 13:21:00</td>\n",
       "      <td>29.290</td>\n",
       "      <td>14527.000</td>\n",
       "      <td>United Kingdom</td>\n",
       "    </tr>\n",
       "    <tr>\n",
       "      <th>14498</th>\n",
       "      <td>C537597</td>\n",
       "      <td>D</td>\n",
       "      <td>Discount</td>\n",
       "      <td>-1</td>\n",
       "      <td>2010-12-07 12:34:00</td>\n",
       "      <td>281.000</td>\n",
       "      <td>15498.000</td>\n",
       "      <td>United Kingdom</td>\n",
       "    </tr>\n",
       "    <tr>\n",
       "      <th>19392</th>\n",
       "      <td>C537857</td>\n",
       "      <td>D</td>\n",
       "      <td>Discount</td>\n",
       "      <td>-1</td>\n",
       "      <td>2010-12-08 16:00:00</td>\n",
       "      <td>267.120</td>\n",
       "      <td>17340.000</td>\n",
       "      <td>United Kingdom</td>\n",
       "    </tr>\n",
       "    <tr>\n",
       "      <th>31134</th>\n",
       "      <td>C538897</td>\n",
       "      <td>D</td>\n",
       "      <td>Discount</td>\n",
       "      <td>-1</td>\n",
       "      <td>2010-12-15 09:14:00</td>\n",
       "      <td>5.760</td>\n",
       "      <td>16422.000</td>\n",
       "      <td>United Kingdom</td>\n",
       "    </tr>\n",
       "    <tr>\n",
       "      <th>31135</th>\n",
       "      <td>C538897</td>\n",
       "      <td>D</td>\n",
       "      <td>Discount</td>\n",
       "      <td>-1</td>\n",
       "      <td>2010-12-15 09:14:00</td>\n",
       "      <td>42.500</td>\n",
       "      <td>16422.000</td>\n",
       "      <td>United Kingdom</td>\n",
       "    </tr>\n",
       "    <tr>\n",
       "      <th>31663</th>\n",
       "      <td>C539003</td>\n",
       "      <td>D</td>\n",
       "      <td>Discount</td>\n",
       "      <td>-1</td>\n",
       "      <td>2010-12-15 12:35:00</td>\n",
       "      <td>26.930</td>\n",
       "      <td>14527.000</td>\n",
       "      <td>United Kingdom</td>\n",
       "    </tr>\n",
       "    <tr>\n",
       "      <th>38609</th>\n",
       "      <td>C539589</td>\n",
       "      <td>D</td>\n",
       "      <td>Discount</td>\n",
       "      <td>-1</td>\n",
       "      <td>2010-12-20 13:14:00</td>\n",
       "      <td>13.880</td>\n",
       "      <td>14527.000</td>\n",
       "      <td>United Kingdom</td>\n",
       "    </tr>\n",
       "    <tr>\n",
       "      <th>44405</th>\n",
       "      <td>C540171</td>\n",
       "      <td>D</td>\n",
       "      <td>Discount</td>\n",
       "      <td>-1</td>\n",
       "      <td>2011-01-05 12:26:00</td>\n",
       "      <td>22.970</td>\n",
       "      <td>14527.000</td>\n",
       "      <td>United Kingdom</td>\n",
       "    </tr>\n",
       "    <tr>\n",
       "      <th>88032</th>\n",
       "      <td>C543752</td>\n",
       "      <td>D</td>\n",
       "      <td>Discount</td>\n",
       "      <td>-1</td>\n",
       "      <td>2011-02-11 14:12:00</td>\n",
       "      <td>64.270</td>\n",
       "      <td>14031.000</td>\n",
       "      <td>United Kingdom</td>\n",
       "    </tr>\n",
       "    <tr>\n",
       "      <th>88071</th>\n",
       "      <td>C543758</td>\n",
       "      <td>D</td>\n",
       "      <td>Discount</td>\n",
       "      <td>-1</td>\n",
       "      <td>2011-02-11 15:07:00</td>\n",
       "      <td>65.910</td>\n",
       "      <td>15299.000</td>\n",
       "      <td>United Kingdom</td>\n",
       "    </tr>\n",
       "    <tr>\n",
       "      <th>88211</th>\n",
       "      <td>C543789</td>\n",
       "      <td>D</td>\n",
       "      <td>Discount</td>\n",
       "      <td>-1</td>\n",
       "      <td>2011-02-11 17:10:00</td>\n",
       "      <td>84.800</td>\n",
       "      <td>17450.000</td>\n",
       "      <td>United Kingdom</td>\n",
       "    </tr>\n",
       "    <tr>\n",
       "      <th>89282</th>\n",
       "      <td>C543840</td>\n",
       "      <td>D</td>\n",
       "      <td>Discount</td>\n",
       "      <td>-1</td>\n",
       "      <td>2011-02-14 11:19:00</td>\n",
       "      <td>70.010</td>\n",
       "      <td>14527.000</td>\n",
       "      <td>United Kingdom</td>\n",
       "    </tr>\n",
       "    <tr>\n",
       "      <th>108071</th>\n",
       "      <td>C545476</td>\n",
       "      <td>D</td>\n",
       "      <td>Discount</td>\n",
       "      <td>-1</td>\n",
       "      <td>2011-03-03 11:05:00</td>\n",
       "      <td>30.380</td>\n",
       "      <td>14527.000</td>\n",
       "      <td>United Kingdom</td>\n",
       "    </tr>\n",
       "    <tr>\n",
       "      <th>108088</th>\n",
       "      <td>C545478</td>\n",
       "      <td>D</td>\n",
       "      <td>Discount</td>\n",
       "      <td>-720</td>\n",
       "      <td>2011-03-03 11:08:00</td>\n",
       "      <td>0.010</td>\n",
       "      <td>16422.000</td>\n",
       "      <td>United Kingdom</td>\n",
       "    </tr>\n",
       "    <tr>\n",
       "      <th>115091</th>\n",
       "      <td>C546106</td>\n",
       "      <td>D</td>\n",
       "      <td>Discount</td>\n",
       "      <td>-1</td>\n",
       "      <td>2011-03-09 12:21:00</td>\n",
       "      <td>9.870</td>\n",
       "      <td>14527.000</td>\n",
       "      <td>United Kingdom</td>\n",
       "    </tr>\n",
       "    <tr>\n",
       "      <th>140555</th>\n",
       "      <td>C548411</td>\n",
       "      <td>D</td>\n",
       "      <td>Discount</td>\n",
       "      <td>-1</td>\n",
       "      <td>2011-03-31 10:36:00</td>\n",
       "      <td>162.240</td>\n",
       "      <td>13316.000</td>\n",
       "      <td>United Kingdom</td>\n",
       "    </tr>\n",
       "    <tr>\n",
       "      <th>140795</th>\n",
       "      <td>C548462</td>\n",
       "      <td>D</td>\n",
       "      <td>Discount</td>\n",
       "      <td>-1</td>\n",
       "      <td>2011-03-31 12:11:00</td>\n",
       "      <td>14.520</td>\n",
       "      <td>14527.000</td>\n",
       "      <td>United Kingdom</td>\n",
       "    </tr>\n",
       "    <tr>\n",
       "      <th>150591</th>\n",
       "      <td>C549452</td>\n",
       "      <td>D</td>\n",
       "      <td>Discount</td>\n",
       "      <td>-1</td>\n",
       "      <td>2011-04-08 14:17:00</td>\n",
       "      <td>1867.860</td>\n",
       "      <td>17940.000</td>\n",
       "      <td>United Kingdom</td>\n",
       "    </tr>\n",
       "    <tr>\n",
       "      <th>169541</th>\n",
       "      <td>C551190</td>\n",
       "      <td>D</td>\n",
       "      <td>Discount</td>\n",
       "      <td>-1</td>\n",
       "      <td>2011-04-27 10:22:00</td>\n",
       "      <td>120.000</td>\n",
       "      <td>17940.000</td>\n",
       "      <td>United Kingdom</td>\n",
       "    </tr>\n",
       "    <tr>\n",
       "      <th>169834</th>\n",
       "      <td>C551265</td>\n",
       "      <td>D</td>\n",
       "      <td>Discount</td>\n",
       "      <td>-1</td>\n",
       "      <td>2011-04-27 12:06:00</td>\n",
       "      <td>11.760</td>\n",
       "      <td>14527.000</td>\n",
       "      <td>United Kingdom</td>\n",
       "    </tr>\n",
       "    <tr>\n",
       "      <th>181009</th>\n",
       "      <td>C552423</td>\n",
       "      <td>D</td>\n",
       "      <td>Discount</td>\n",
       "      <td>-1</td>\n",
       "      <td>2011-05-09 12:44:00</td>\n",
       "      <td>11.840</td>\n",
       "      <td>14527.000</td>\n",
       "      <td>United Kingdom</td>\n",
       "    </tr>\n",
       "    <tr>\n",
       "      <th>182729</th>\n",
       "      <td>C552569</td>\n",
       "      <td>D</td>\n",
       "      <td>Discount</td>\n",
       "      <td>-240</td>\n",
       "      <td>2011-05-10 12:06:00</td>\n",
       "      <td>0.030</td>\n",
       "      <td>12901.000</td>\n",
       "      <td>United Kingdom</td>\n",
       "    </tr>\n",
       "    <tr>\n",
       "      <th>183138</th>\n",
       "      <td>C552650</td>\n",
       "      <td>D</td>\n",
       "      <td>Discount</td>\n",
       "      <td>-18</td>\n",
       "      <td>2011-05-10 14:03:00</td>\n",
       "      <td>1.450</td>\n",
       "      <td>16672.000</td>\n",
       "      <td>United Kingdom</td>\n",
       "    </tr>\n",
       "    <tr>\n",
       "      <th>192807</th>\n",
       "      <td>C553482</td>\n",
       "      <td>D</td>\n",
       "      <td>Discount</td>\n",
       "      <td>-1</td>\n",
       "      <td>2011-05-17 12:07:00</td>\n",
       "      <td>9.840</td>\n",
       "      <td>14527.000</td>\n",
       "      <td>United Kingdom</td>\n",
       "    </tr>\n",
       "    <tr>\n",
       "      <th>194727</th>\n",
       "      <td>C553665</td>\n",
       "      <td>D</td>\n",
       "      <td>Discount</td>\n",
       "      <td>-1</td>\n",
       "      <td>2011-05-18 12:16:00</td>\n",
       "      <td>15.960</td>\n",
       "      <td>14527.000</td>\n",
       "      <td>United Kingdom</td>\n",
       "    </tr>\n",
       "    <tr>\n",
       "      <th>196362</th>\n",
       "      <td>C553841</td>\n",
       "      <td>D</td>\n",
       "      <td>Discount</td>\n",
       "      <td>-48</td>\n",
       "      <td>2011-05-19 12:19:00</td>\n",
       "      <td>0.200</td>\n",
       "      <td>16029.000</td>\n",
       "      <td>United Kingdom</td>\n",
       "    </tr>\n",
       "    <tr>\n",
       "      <th>203526</th>\n",
       "      <td>C554516</td>\n",
       "      <td>D</td>\n",
       "      <td>Discount</td>\n",
       "      <td>-1</td>\n",
       "      <td>2011-05-24 16:50:00</td>\n",
       "      <td>13.880</td>\n",
       "      <td>14527.000</td>\n",
       "      <td>United Kingdom</td>\n",
       "    </tr>\n",
       "    <tr>\n",
       "      <th>214671</th>\n",
       "      <td>C555597</td>\n",
       "      <td>D</td>\n",
       "      <td>Discount</td>\n",
       "      <td>-1</td>\n",
       "      <td>2011-06-06 10:19:00</td>\n",
       "      <td>42.000</td>\n",
       "      <td>15796.000</td>\n",
       "      <td>United Kingdom</td>\n",
       "    </tr>\n",
       "    <tr>\n",
       "      <th>218253</th>\n",
       "      <td>C556037</td>\n",
       "      <td>D</td>\n",
       "      <td>Discount</td>\n",
       "      <td>-1</td>\n",
       "      <td>2011-06-08 12:37:00</td>\n",
       "      <td>20.920</td>\n",
       "      <td>14527.000</td>\n",
       "      <td>United Kingdom</td>\n",
       "    </tr>\n",
       "    <tr>\n",
       "      <th>221712</th>\n",
       "      <td>C556265</td>\n",
       "      <td>D</td>\n",
       "      <td>Discount</td>\n",
       "      <td>-1</td>\n",
       "      <td>2011-06-09 19:24:00</td>\n",
       "      <td>28.040</td>\n",
       "      <td>16684.000</td>\n",
       "      <td>United Kingdom</td>\n",
       "    </tr>\n",
       "    <tr>\n",
       "      <th>226396</th>\n",
       "      <td>C556796</td>\n",
       "      <td>D</td>\n",
       "      <td>Discount</td>\n",
       "      <td>-96</td>\n",
       "      <td>2011-06-14 14:40:00</td>\n",
       "      <td>0.700</td>\n",
       "      <td>16013.000</td>\n",
       "      <td>United Kingdom</td>\n",
       "    </tr>\n",
       "    <tr>\n",
       "      <th>227481</th>\n",
       "      <td>C556877</td>\n",
       "      <td>D</td>\n",
       "      <td>Discount</td>\n",
       "      <td>-1</td>\n",
       "      <td>2011-06-15 12:00:00</td>\n",
       "      <td>129.900</td>\n",
       "      <td>15498.000</td>\n",
       "      <td>United Kingdom</td>\n",
       "    </tr>\n",
       "    <tr>\n",
       "      <th>227705</th>\n",
       "      <td>C556904</td>\n",
       "      <td>D</td>\n",
       "      <td>Discount</td>\n",
       "      <td>-1</td>\n",
       "      <td>2011-06-15 12:56:00</td>\n",
       "      <td>14.420</td>\n",
       "      <td>14527.000</td>\n",
       "      <td>United Kingdom</td>\n",
       "    </tr>\n",
       "    <tr>\n",
       "      <th>238153</th>\n",
       "      <td>C557927</td>\n",
       "      <td>D</td>\n",
       "      <td>Discount</td>\n",
       "      <td>-1</td>\n",
       "      <td>2011-06-23 14:56:00</td>\n",
       "      <td>10.000</td>\n",
       "      <td>16029.000</td>\n",
       "      <td>United Kingdom</td>\n",
       "    </tr>\n",
       "    <tr>\n",
       "      <th>263482</th>\n",
       "      <td>C559992</td>\n",
       "      <td>D</td>\n",
       "      <td>Discount</td>\n",
       "      <td>-1</td>\n",
       "      <td>2011-07-14 12:30:00</td>\n",
       "      <td>13.990</td>\n",
       "      <td>14527.000</td>\n",
       "      <td>United Kingdom</td>\n",
       "    </tr>\n",
       "    <tr>\n",
       "      <th>273604</th>\n",
       "      <td>C560842</td>\n",
       "      <td>D</td>\n",
       "      <td>Discount</td>\n",
       "      <td>-1</td>\n",
       "      <td>2011-07-21 12:25:00</td>\n",
       "      <td>12.150</td>\n",
       "      <td>14527.000</td>\n",
       "      <td>United Kingdom</td>\n",
       "    </tr>\n",
       "    <tr>\n",
       "      <th>273935</th>\n",
       "      <td>C560869</td>\n",
       "      <td>D</td>\n",
       "      <td>Discount</td>\n",
       "      <td>-1</td>\n",
       "      <td>2011-07-21 14:32:00</td>\n",
       "      <td>66.240</td>\n",
       "      <td>12830.000</td>\n",
       "      <td>United Kingdom</td>\n",
       "    </tr>\n",
       "    <tr>\n",
       "      <th>279033</th>\n",
       "      <td>C561225</td>\n",
       "      <td>D</td>\n",
       "      <td>Discount</td>\n",
       "      <td>-1</td>\n",
       "      <td>2011-07-26 10:06:00</td>\n",
       "      <td>45.600</td>\n",
       "      <td>16029.000</td>\n",
       "      <td>United Kingdom</td>\n",
       "    </tr>\n",
       "    <tr>\n",
       "      <th>280503</th>\n",
       "      <td>C561464</td>\n",
       "      <td>D</td>\n",
       "      <td>Discount</td>\n",
       "      <td>-1</td>\n",
       "      <td>2011-07-27 12:40:00</td>\n",
       "      <td>26.050</td>\n",
       "      <td>14527.000</td>\n",
       "      <td>United Kingdom</td>\n",
       "    </tr>\n",
       "    <tr>\n",
       "      <th>295575</th>\n",
       "      <td>C562796</td>\n",
       "      <td>D</td>\n",
       "      <td>Discount</td>\n",
       "      <td>-1</td>\n",
       "      <td>2011-08-09 14:27:00</td>\n",
       "      <td>64.000</td>\n",
       "      <td>13694.000</td>\n",
       "      <td>United Kingdom</td>\n",
       "    </tr>\n",
       "    <tr>\n",
       "      <th>300951</th>\n",
       "      <td>C563225</td>\n",
       "      <td>D</td>\n",
       "      <td>Discount</td>\n",
       "      <td>-1</td>\n",
       "      <td>2011-08-14 14:35:00</td>\n",
       "      <td>434.510</td>\n",
       "      <td>14911.000</td>\n",
       "      <td>EIRE</td>\n",
       "    </tr>\n",
       "    <tr>\n",
       "      <th>304661</th>\n",
       "      <td>C563592</td>\n",
       "      <td>D</td>\n",
       "      <td>Discount</td>\n",
       "      <td>-1</td>\n",
       "      <td>2011-08-18 06:12:00</td>\n",
       "      <td>9.600</td>\n",
       "      <td>16029.000</td>\n",
       "      <td>United Kingdom</td>\n",
       "    </tr>\n",
       "    <tr>\n",
       "      <th>304662</th>\n",
       "      <td>C563593</td>\n",
       "      <td>D</td>\n",
       "      <td>Discount</td>\n",
       "      <td>-1</td>\n",
       "      <td>2011-08-18 06:13:00</td>\n",
       "      <td>206.400</td>\n",
       "      <td>14646.000</td>\n",
       "      <td>Netherlands</td>\n",
       "    </tr>\n",
       "    <tr>\n",
       "      <th>313360</th>\n",
       "      <td>C564487</td>\n",
       "      <td>D</td>\n",
       "      <td>Discount</td>\n",
       "      <td>-1</td>\n",
       "      <td>2011-08-25 14:07:00</td>\n",
       "      <td>11.520</td>\n",
       "      <td>15838.000</td>\n",
       "      <td>United Kingdom</td>\n",
       "    </tr>\n",
       "    <tr>\n",
       "      <th>317545</th>\n",
       "      <td>C564812</td>\n",
       "      <td>D</td>\n",
       "      <td>Discount</td>\n",
       "      <td>-1</td>\n",
       "      <td>2011-08-30 11:45:00</td>\n",
       "      <td>16.670</td>\n",
       "      <td>14527.000</td>\n",
       "      <td>United Kingdom</td>\n",
       "    </tr>\n",
       "    <tr>\n",
       "      <th>317546</th>\n",
       "      <td>C564812</td>\n",
       "      <td>D</td>\n",
       "      <td>Discount</td>\n",
       "      <td>-1</td>\n",
       "      <td>2011-08-30 11:45:00</td>\n",
       "      <td>15.070</td>\n",
       "      <td>14527.000</td>\n",
       "      <td>United Kingdom</td>\n",
       "    </tr>\n",
       "    <tr>\n",
       "      <th>317547</th>\n",
       "      <td>C564812</td>\n",
       "      <td>D</td>\n",
       "      <td>Discount</td>\n",
       "      <td>-1</td>\n",
       "      <td>2011-08-30 11:45:00</td>\n",
       "      <td>10.060</td>\n",
       "      <td>14527.000</td>\n",
       "      <td>United Kingdom</td>\n",
       "    </tr>\n",
       "    <tr>\n",
       "      <th>317548</th>\n",
       "      <td>C564812</td>\n",
       "      <td>D</td>\n",
       "      <td>Discount</td>\n",
       "      <td>-1</td>\n",
       "      <td>2011-08-30 11:45:00</td>\n",
       "      <td>13.000</td>\n",
       "      <td>14527.000</td>\n",
       "      <td>United Kingdom</td>\n",
       "    </tr>\n",
       "    <tr>\n",
       "      <th>319865</th>\n",
       "      <td>C564909</td>\n",
       "      <td>D</td>\n",
       "      <td>Discount</td>\n",
       "      <td>-1</td>\n",
       "      <td>2011-08-31 12:29:00</td>\n",
       "      <td>66.170</td>\n",
       "      <td>15498.000</td>\n",
       "      <td>United Kingdom</td>\n",
       "    </tr>\n",
       "    <tr>\n",
       "      <th>319866</th>\n",
       "      <td>C564909</td>\n",
       "      <td>D</td>\n",
       "      <td>Discount</td>\n",
       "      <td>-1</td>\n",
       "      <td>2011-08-31 12:29:00</td>\n",
       "      <td>33.750</td>\n",
       "      <td>15498.000</td>\n",
       "      <td>United Kingdom</td>\n",
       "    </tr>\n",
       "    <tr>\n",
       "      <th>320697</th>\n",
       "      <td>C565075</td>\n",
       "      <td>D</td>\n",
       "      <td>Discount</td>\n",
       "      <td>-1</td>\n",
       "      <td>2011-08-31 17:25:00</td>\n",
       "      <td>36.300</td>\n",
       "      <td>13408.000</td>\n",
       "      <td>United Kingdom</td>\n",
       "    </tr>\n",
       "    <tr>\n",
       "      <th>320698</th>\n",
       "      <td>C565075</td>\n",
       "      <td>D</td>\n",
       "      <td>Discount</td>\n",
       "      <td>-1</td>\n",
       "      <td>2011-08-31 17:25:00</td>\n",
       "      <td>38.390</td>\n",
       "      <td>13408.000</td>\n",
       "      <td>United Kingdom</td>\n",
       "    </tr>\n",
       "    <tr>\n",
       "      <th>320704</th>\n",
       "      <td>C565078</td>\n",
       "      <td>D</td>\n",
       "      <td>Discount</td>\n",
       "      <td>-1</td>\n",
       "      <td>2011-08-31 17:45:00</td>\n",
       "      <td>57.600</td>\n",
       "      <td>16422.000</td>\n",
       "      <td>United Kingdom</td>\n",
       "    </tr>\n",
       "    <tr>\n",
       "      <th>323492</th>\n",
       "      <td>C565313</td>\n",
       "      <td>D</td>\n",
       "      <td>Discount</td>\n",
       "      <td>-1</td>\n",
       "      <td>2011-09-02 12:41:00</td>\n",
       "      <td>14.500</td>\n",
       "      <td>14527.000</td>\n",
       "      <td>United Kingdom</td>\n",
       "    </tr>\n",
       "    <tr>\n",
       "      <th>324132</th>\n",
       "      <td>C565390</td>\n",
       "      <td>D</td>\n",
       "      <td>Discount</td>\n",
       "      <td>-1</td>\n",
       "      <td>2011-09-02 16:23:00</td>\n",
       "      <td>110.430</td>\n",
       "      <td>13408.000</td>\n",
       "      <td>United Kingdom</td>\n",
       "    </tr>\n",
       "    <tr>\n",
       "      <th>332535</th>\n",
       "      <td>C566078</td>\n",
       "      <td>D</td>\n",
       "      <td>Discount</td>\n",
       "      <td>-1</td>\n",
       "      <td>2011-09-09 09:38:00</td>\n",
       "      <td>45.330</td>\n",
       "      <td>13137.000</td>\n",
       "      <td>United Kingdom</td>\n",
       "    </tr>\n",
       "    <tr>\n",
       "      <th>337787</th>\n",
       "      <td>C566475</td>\n",
       "      <td>D</td>\n",
       "      <td>Discount</td>\n",
       "      <td>-1</td>\n",
       "      <td>2011-09-12 18:26:00</td>\n",
       "      <td>20.750</td>\n",
       "      <td>14527.000</td>\n",
       "      <td>United Kingdom</td>\n",
       "    </tr>\n",
       "    <tr>\n",
       "      <th>340223</th>\n",
       "      <td>C566613</td>\n",
       "      <td>D</td>\n",
       "      <td>Discount</td>\n",
       "      <td>-1</td>\n",
       "      <td>2011-09-13 17:17:00</td>\n",
       "      <td>15.000</td>\n",
       "      <td>16029.000</td>\n",
       "      <td>United Kingdom</td>\n",
       "    </tr>\n",
       "    <tr>\n",
       "      <th>340224</th>\n",
       "      <td>C566614</td>\n",
       "      <td>D</td>\n",
       "      <td>Discount</td>\n",
       "      <td>-1</td>\n",
       "      <td>2011-09-13 17:28:00</td>\n",
       "      <td>102.240</td>\n",
       "      <td>16029.000</td>\n",
       "      <td>United Kingdom</td>\n",
       "    </tr>\n",
       "    <tr>\n",
       "      <th>354737</th>\n",
       "      <td>C567896</td>\n",
       "      <td>D</td>\n",
       "      <td>Discount</td>\n",
       "      <td>-1</td>\n",
       "      <td>2011-09-22 15:59:00</td>\n",
       "      <td>18.620</td>\n",
       "      <td>14527.000</td>\n",
       "      <td>United Kingdom</td>\n",
       "    </tr>\n",
       "    <tr>\n",
       "      <th>380685</th>\n",
       "      <td>C569829</td>\n",
       "      <td>D</td>\n",
       "      <td>Discount</td>\n",
       "      <td>-1</td>\n",
       "      <td>2011-10-06 12:37:00</td>\n",
       "      <td>16.740</td>\n",
       "      <td>14527.000</td>\n",
       "      <td>United Kingdom</td>\n",
       "    </tr>\n",
       "    <tr>\n",
       "      <th>380686</th>\n",
       "      <td>C569829</td>\n",
       "      <td>D</td>\n",
       "      <td>Discount</td>\n",
       "      <td>-1</td>\n",
       "      <td>2011-10-06 12:37:00</td>\n",
       "      <td>16.070</td>\n",
       "      <td>14527.000</td>\n",
       "      <td>United Kingdom</td>\n",
       "    </tr>\n",
       "    <tr>\n",
       "      <th>422377</th>\n",
       "      <td>C573081</td>\n",
       "      <td>D</td>\n",
       "      <td>Discount</td>\n",
       "      <td>-1</td>\n",
       "      <td>2011-10-27 14:20:00</td>\n",
       "      <td>23.270</td>\n",
       "      <td>14527.000</td>\n",
       "      <td>United Kingdom</td>\n",
       "    </tr>\n",
       "    <tr>\n",
       "      <th>436717</th>\n",
       "      <td>C574238</td>\n",
       "      <td>D</td>\n",
       "      <td>Discount</td>\n",
       "      <td>-1</td>\n",
       "      <td>2011-11-03 12:39:00</td>\n",
       "      <td>11.840</td>\n",
       "      <td>13408.000</td>\n",
       "      <td>United Kingdom</td>\n",
       "    </tr>\n",
       "    <tr>\n",
       "      <th>436718</th>\n",
       "      <td>C574238</td>\n",
       "      <td>D</td>\n",
       "      <td>Discount</td>\n",
       "      <td>-1</td>\n",
       "      <td>2011-11-03 12:39:00</td>\n",
       "      <td>39.700</td>\n",
       "      <td>13408.000</td>\n",
       "      <td>United Kingdom</td>\n",
       "    </tr>\n",
       "    <tr>\n",
       "      <th>436719</th>\n",
       "      <td>C574238</td>\n",
       "      <td>D</td>\n",
       "      <td>Discount</td>\n",
       "      <td>-1</td>\n",
       "      <td>2011-11-03 12:39:00</td>\n",
       "      <td>11.590</td>\n",
       "      <td>13408.000</td>\n",
       "      <td>United Kingdom</td>\n",
       "    </tr>\n",
       "    <tr>\n",
       "      <th>459263</th>\n",
       "      <td>C575872</td>\n",
       "      <td>D</td>\n",
       "      <td>Discount</td>\n",
       "      <td>-1</td>\n",
       "      <td>2011-11-11 12:52:00</td>\n",
       "      <td>97.140</td>\n",
       "      <td>13408.000</td>\n",
       "      <td>United Kingdom</td>\n",
       "    </tr>\n",
       "    <tr>\n",
       "      <th>465290</th>\n",
       "      <td>C576218</td>\n",
       "      <td>D</td>\n",
       "      <td>Discount</td>\n",
       "      <td>-1</td>\n",
       "      <td>2011-11-14 12:57:00</td>\n",
       "      <td>183.000</td>\n",
       "      <td>13694.000</td>\n",
       "      <td>United Kingdom</td>\n",
       "    </tr>\n",
       "    <tr>\n",
       "      <th>465548</th>\n",
       "      <td>C576244</td>\n",
       "      <td>D</td>\n",
       "      <td>Discount</td>\n",
       "      <td>-1</td>\n",
       "      <td>2011-11-14 13:40:00</td>\n",
       "      <td>6.000</td>\n",
       "      <td>18167.000</td>\n",
       "      <td>United Kingdom</td>\n",
       "    </tr>\n",
       "    <tr>\n",
       "      <th>479866</th>\n",
       "      <td>C577227</td>\n",
       "      <td>D</td>\n",
       "      <td>Discount</td>\n",
       "      <td>-1</td>\n",
       "      <td>2011-11-18 12:06:00</td>\n",
       "      <td>27.260</td>\n",
       "      <td>14527.000</td>\n",
       "      <td>United Kingdom</td>\n",
       "    </tr>\n",
       "    <tr>\n",
       "      <th>479867</th>\n",
       "      <td>C577227</td>\n",
       "      <td>D</td>\n",
       "      <td>Discount</td>\n",
       "      <td>-1</td>\n",
       "      <td>2011-11-18 12:06:00</td>\n",
       "      <td>14.880</td>\n",
       "      <td>14527.000</td>\n",
       "      <td>United Kingdom</td>\n",
       "    </tr>\n",
       "    <tr>\n",
       "      <th>479868</th>\n",
       "      <td>C577227</td>\n",
       "      <td>D</td>\n",
       "      <td>Discount</td>\n",
       "      <td>-1</td>\n",
       "      <td>2011-11-18 12:06:00</td>\n",
       "      <td>19.820</td>\n",
       "      <td>14527.000</td>\n",
       "      <td>United Kingdom</td>\n",
       "    </tr>\n",
       "    <tr>\n",
       "      <th>479869</th>\n",
       "      <td>C577227</td>\n",
       "      <td>D</td>\n",
       "      <td>Discount</td>\n",
       "      <td>-1</td>\n",
       "      <td>2011-11-18 12:06:00</td>\n",
       "      <td>16.760</td>\n",
       "      <td>14527.000</td>\n",
       "      <td>United Kingdom</td>\n",
       "    </tr>\n",
       "    <tr>\n",
       "      <th>493613</th>\n",
       "      <td>C578239</td>\n",
       "      <td>D</td>\n",
       "      <td>Discount</td>\n",
       "      <td>-1</td>\n",
       "      <td>2011-11-23 12:29:00</td>\n",
       "      <td>26.330</td>\n",
       "      <td>14912.000</td>\n",
       "      <td>Italy</td>\n",
       "    </tr>\n",
       "    <tr>\n",
       "      <th>516221</th>\n",
       "      <td>C579884</td>\n",
       "      <td>D</td>\n",
       "      <td>Discount</td>\n",
       "      <td>-1</td>\n",
       "      <td>2011-11-30 17:34:00</td>\n",
       "      <td>20.530</td>\n",
       "      <td>14527.000</td>\n",
       "      <td>United Kingdom</td>\n",
       "    </tr>\n",
       "    <tr>\n",
       "      <th>516455</th>\n",
       "      <td>C579908</td>\n",
       "      <td>D</td>\n",
       "      <td>Discount</td>\n",
       "      <td>-1</td>\n",
       "      <td>2011-12-01 08:49:00</td>\n",
       "      <td>28.680</td>\n",
       "      <td>14527.000</td>\n",
       "      <td>United Kingdom</td>\n",
       "    </tr>\n",
       "  </tbody>\n",
       "</table>\n",
       "</div>"
      ],
      "text/plain": [
       "       InvoiceNo StockCode Description  Quantity         InvoiceDate  \\\n",
       "141      C536379         D    Discount        -1 2010-12-01 09:41:00   \n",
       "9038     C537164         D    Discount        -1 2010-12-05 13:21:00   \n",
       "14498    C537597         D    Discount        -1 2010-12-07 12:34:00   \n",
       "19392    C537857         D    Discount        -1 2010-12-08 16:00:00   \n",
       "31134    C538897         D    Discount        -1 2010-12-15 09:14:00   \n",
       "31135    C538897         D    Discount        -1 2010-12-15 09:14:00   \n",
       "31663    C539003         D    Discount        -1 2010-12-15 12:35:00   \n",
       "38609    C539589         D    Discount        -1 2010-12-20 13:14:00   \n",
       "44405    C540171         D    Discount        -1 2011-01-05 12:26:00   \n",
       "88032    C543752         D    Discount        -1 2011-02-11 14:12:00   \n",
       "88071    C543758         D    Discount        -1 2011-02-11 15:07:00   \n",
       "88211    C543789         D    Discount        -1 2011-02-11 17:10:00   \n",
       "89282    C543840         D    Discount        -1 2011-02-14 11:19:00   \n",
       "108071   C545476         D    Discount        -1 2011-03-03 11:05:00   \n",
       "108088   C545478         D    Discount      -720 2011-03-03 11:08:00   \n",
       "115091   C546106         D    Discount        -1 2011-03-09 12:21:00   \n",
       "140555   C548411         D    Discount        -1 2011-03-31 10:36:00   \n",
       "140795   C548462         D    Discount        -1 2011-03-31 12:11:00   \n",
       "150591   C549452         D    Discount        -1 2011-04-08 14:17:00   \n",
       "169541   C551190         D    Discount        -1 2011-04-27 10:22:00   \n",
       "169834   C551265         D    Discount        -1 2011-04-27 12:06:00   \n",
       "181009   C552423         D    Discount        -1 2011-05-09 12:44:00   \n",
       "182729   C552569         D    Discount      -240 2011-05-10 12:06:00   \n",
       "183138   C552650         D    Discount       -18 2011-05-10 14:03:00   \n",
       "192807   C553482         D    Discount        -1 2011-05-17 12:07:00   \n",
       "194727   C553665         D    Discount        -1 2011-05-18 12:16:00   \n",
       "196362   C553841         D    Discount       -48 2011-05-19 12:19:00   \n",
       "203526   C554516         D    Discount        -1 2011-05-24 16:50:00   \n",
       "214671   C555597         D    Discount        -1 2011-06-06 10:19:00   \n",
       "218253   C556037         D    Discount        -1 2011-06-08 12:37:00   \n",
       "221712   C556265         D    Discount        -1 2011-06-09 19:24:00   \n",
       "226396   C556796         D    Discount       -96 2011-06-14 14:40:00   \n",
       "227481   C556877         D    Discount        -1 2011-06-15 12:00:00   \n",
       "227705   C556904         D    Discount        -1 2011-06-15 12:56:00   \n",
       "238153   C557927         D    Discount        -1 2011-06-23 14:56:00   \n",
       "263482   C559992         D    Discount        -1 2011-07-14 12:30:00   \n",
       "273604   C560842         D    Discount        -1 2011-07-21 12:25:00   \n",
       "273935   C560869         D    Discount        -1 2011-07-21 14:32:00   \n",
       "279033   C561225         D    Discount        -1 2011-07-26 10:06:00   \n",
       "280503   C561464         D    Discount        -1 2011-07-27 12:40:00   \n",
       "295575   C562796         D    Discount        -1 2011-08-09 14:27:00   \n",
       "300951   C563225         D    Discount        -1 2011-08-14 14:35:00   \n",
       "304661   C563592         D    Discount        -1 2011-08-18 06:12:00   \n",
       "304662   C563593         D    Discount        -1 2011-08-18 06:13:00   \n",
       "313360   C564487         D    Discount        -1 2011-08-25 14:07:00   \n",
       "317545   C564812         D    Discount        -1 2011-08-30 11:45:00   \n",
       "317546   C564812         D    Discount        -1 2011-08-30 11:45:00   \n",
       "317547   C564812         D    Discount        -1 2011-08-30 11:45:00   \n",
       "317548   C564812         D    Discount        -1 2011-08-30 11:45:00   \n",
       "319865   C564909         D    Discount        -1 2011-08-31 12:29:00   \n",
       "319866   C564909         D    Discount        -1 2011-08-31 12:29:00   \n",
       "320697   C565075         D    Discount        -1 2011-08-31 17:25:00   \n",
       "320698   C565075         D    Discount        -1 2011-08-31 17:25:00   \n",
       "320704   C565078         D    Discount        -1 2011-08-31 17:45:00   \n",
       "323492   C565313         D    Discount        -1 2011-09-02 12:41:00   \n",
       "324132   C565390         D    Discount        -1 2011-09-02 16:23:00   \n",
       "332535   C566078         D    Discount        -1 2011-09-09 09:38:00   \n",
       "337787   C566475         D    Discount        -1 2011-09-12 18:26:00   \n",
       "340223   C566613         D    Discount        -1 2011-09-13 17:17:00   \n",
       "340224   C566614         D    Discount        -1 2011-09-13 17:28:00   \n",
       "354737   C567896         D    Discount        -1 2011-09-22 15:59:00   \n",
       "380685   C569829         D    Discount        -1 2011-10-06 12:37:00   \n",
       "380686   C569829         D    Discount        -1 2011-10-06 12:37:00   \n",
       "422377   C573081         D    Discount        -1 2011-10-27 14:20:00   \n",
       "436717   C574238         D    Discount        -1 2011-11-03 12:39:00   \n",
       "436718   C574238         D    Discount        -1 2011-11-03 12:39:00   \n",
       "436719   C574238         D    Discount        -1 2011-11-03 12:39:00   \n",
       "459263   C575872         D    Discount        -1 2011-11-11 12:52:00   \n",
       "465290   C576218         D    Discount        -1 2011-11-14 12:57:00   \n",
       "465548   C576244         D    Discount        -1 2011-11-14 13:40:00   \n",
       "479866   C577227         D    Discount        -1 2011-11-18 12:06:00   \n",
       "479867   C577227         D    Discount        -1 2011-11-18 12:06:00   \n",
       "479868   C577227         D    Discount        -1 2011-11-18 12:06:00   \n",
       "479869   C577227         D    Discount        -1 2011-11-18 12:06:00   \n",
       "493613   C578239         D    Discount        -1 2011-11-23 12:29:00   \n",
       "516221   C579884         D    Discount        -1 2011-11-30 17:34:00   \n",
       "516455   C579908         D    Discount        -1 2011-12-01 08:49:00   \n",
       "\n",
       "        UnitPrice  CustomerID         Country  \n",
       "141        27.500   14527.000  United Kingdom  \n",
       "9038       29.290   14527.000  United Kingdom  \n",
       "14498     281.000   15498.000  United Kingdom  \n",
       "19392     267.120   17340.000  United Kingdom  \n",
       "31134       5.760   16422.000  United Kingdom  \n",
       "31135      42.500   16422.000  United Kingdom  \n",
       "31663      26.930   14527.000  United Kingdom  \n",
       "38609      13.880   14527.000  United Kingdom  \n",
       "44405      22.970   14527.000  United Kingdom  \n",
       "88032      64.270   14031.000  United Kingdom  \n",
       "88071      65.910   15299.000  United Kingdom  \n",
       "88211      84.800   17450.000  United Kingdom  \n",
       "89282      70.010   14527.000  United Kingdom  \n",
       "108071     30.380   14527.000  United Kingdom  \n",
       "108088      0.010   16422.000  United Kingdom  \n",
       "115091      9.870   14527.000  United Kingdom  \n",
       "140555    162.240   13316.000  United Kingdom  \n",
       "140795     14.520   14527.000  United Kingdom  \n",
       "150591   1867.860   17940.000  United Kingdom  \n",
       "169541    120.000   17940.000  United Kingdom  \n",
       "169834     11.760   14527.000  United Kingdom  \n",
       "181009     11.840   14527.000  United Kingdom  \n",
       "182729      0.030   12901.000  United Kingdom  \n",
       "183138      1.450   16672.000  United Kingdom  \n",
       "192807      9.840   14527.000  United Kingdom  \n",
       "194727     15.960   14527.000  United Kingdom  \n",
       "196362      0.200   16029.000  United Kingdom  \n",
       "203526     13.880   14527.000  United Kingdom  \n",
       "214671     42.000   15796.000  United Kingdom  \n",
       "218253     20.920   14527.000  United Kingdom  \n",
       "221712     28.040   16684.000  United Kingdom  \n",
       "226396      0.700   16013.000  United Kingdom  \n",
       "227481    129.900   15498.000  United Kingdom  \n",
       "227705     14.420   14527.000  United Kingdom  \n",
       "238153     10.000   16029.000  United Kingdom  \n",
       "263482     13.990   14527.000  United Kingdom  \n",
       "273604     12.150   14527.000  United Kingdom  \n",
       "273935     66.240   12830.000  United Kingdom  \n",
       "279033     45.600   16029.000  United Kingdom  \n",
       "280503     26.050   14527.000  United Kingdom  \n",
       "295575     64.000   13694.000  United Kingdom  \n",
       "300951    434.510   14911.000            EIRE  \n",
       "304661      9.600   16029.000  United Kingdom  \n",
       "304662    206.400   14646.000     Netherlands  \n",
       "313360     11.520   15838.000  United Kingdom  \n",
       "317545     16.670   14527.000  United Kingdom  \n",
       "317546     15.070   14527.000  United Kingdom  \n",
       "317547     10.060   14527.000  United Kingdom  \n",
       "317548     13.000   14527.000  United Kingdom  \n",
       "319865     66.170   15498.000  United Kingdom  \n",
       "319866     33.750   15498.000  United Kingdom  \n",
       "320697     36.300   13408.000  United Kingdom  \n",
       "320698     38.390   13408.000  United Kingdom  \n",
       "320704     57.600   16422.000  United Kingdom  \n",
       "323492     14.500   14527.000  United Kingdom  \n",
       "324132    110.430   13408.000  United Kingdom  \n",
       "332535     45.330   13137.000  United Kingdom  \n",
       "337787     20.750   14527.000  United Kingdom  \n",
       "340223     15.000   16029.000  United Kingdom  \n",
       "340224    102.240   16029.000  United Kingdom  \n",
       "354737     18.620   14527.000  United Kingdom  \n",
       "380685     16.740   14527.000  United Kingdom  \n",
       "380686     16.070   14527.000  United Kingdom  \n",
       "422377     23.270   14527.000  United Kingdom  \n",
       "436717     11.840   13408.000  United Kingdom  \n",
       "436718     39.700   13408.000  United Kingdom  \n",
       "436719     11.590   13408.000  United Kingdom  \n",
       "459263     97.140   13408.000  United Kingdom  \n",
       "465290    183.000   13694.000  United Kingdom  \n",
       "465548      6.000   18167.000  United Kingdom  \n",
       "479866     27.260   14527.000  United Kingdom  \n",
       "479867     14.880   14527.000  United Kingdom  \n",
       "479868     19.820   14527.000  United Kingdom  \n",
       "479869     16.760   14527.000  United Kingdom  \n",
       "493613     26.330   14912.000           Italy  \n",
       "516221     20.530   14527.000  United Kingdom  \n",
       "516455     28.680   14527.000  United Kingdom  "
      ]
     },
     "execution_count": 52,
     "metadata": {},
     "output_type": "execute_result"
    }
   ],
   "source": [
    "df[df['StockCode']=='D']"
   ]
  },
  {
   "cell_type": "code",
   "execution_count": 53,
   "metadata": {},
   "outputs": [
    {
     "data": {
      "text/html": [
       "<div>\n",
       "<style scoped>\n",
       "    .dataframe tbody tr th:only-of-type {\n",
       "        vertical-align: middle;\n",
       "    }\n",
       "\n",
       "    .dataframe tbody tr th {\n",
       "        vertical-align: top;\n",
       "    }\n",
       "\n",
       "    .dataframe thead th {\n",
       "        text-align: right;\n",
       "    }\n",
       "</style>\n",
       "<table border=\"1\" class=\"dataframe\">\n",
       "  <thead>\n",
       "    <tr style=\"text-align: right;\">\n",
       "      <th></th>\n",
       "      <th>InvoiceNo</th>\n",
       "      <th>StockCode</th>\n",
       "      <th>Description</th>\n",
       "      <th>Quantity</th>\n",
       "      <th>InvoiceDate</th>\n",
       "      <th>UnitPrice</th>\n",
       "      <th>CustomerID</th>\n",
       "      <th>Country</th>\n",
       "    </tr>\n",
       "  </thead>\n",
       "  <tbody>\n",
       "    <tr>\n",
       "      <th>299982</th>\n",
       "      <td>A563185</td>\n",
       "      <td>B</td>\n",
       "      <td>Adjust bad debt</td>\n",
       "      <td>1</td>\n",
       "      <td>2011-08-12 14:50:00</td>\n",
       "      <td>11062.060</td>\n",
       "      <td>NaN</td>\n",
       "      <td>United Kingdom</td>\n",
       "    </tr>\n",
       "    <tr>\n",
       "      <th>299983</th>\n",
       "      <td>A563186</td>\n",
       "      <td>B</td>\n",
       "      <td>Adjust bad debt</td>\n",
       "      <td>1</td>\n",
       "      <td>2011-08-12 14:51:00</td>\n",
       "      <td>-11062.060</td>\n",
       "      <td>NaN</td>\n",
       "      <td>United Kingdom</td>\n",
       "    </tr>\n",
       "    <tr>\n",
       "      <th>299984</th>\n",
       "      <td>A563187</td>\n",
       "      <td>B</td>\n",
       "      <td>Adjust bad debt</td>\n",
       "      <td>1</td>\n",
       "      <td>2011-08-12 14:52:00</td>\n",
       "      <td>-11062.060</td>\n",
       "      <td>NaN</td>\n",
       "      <td>United Kingdom</td>\n",
       "    </tr>\n",
       "  </tbody>\n",
       "</table>\n",
       "</div>"
      ],
      "text/plain": [
       "       InvoiceNo StockCode      Description  Quantity         InvoiceDate  \\\n",
       "299982   A563185         B  Adjust bad debt         1 2011-08-12 14:50:00   \n",
       "299983   A563186         B  Adjust bad debt         1 2011-08-12 14:51:00   \n",
       "299984   A563187         B  Adjust bad debt         1 2011-08-12 14:52:00   \n",
       "\n",
       "        UnitPrice  CustomerID         Country  \n",
       "299982  11062.060         NaN  United Kingdom  \n",
       "299983 -11062.060         NaN  United Kingdom  \n",
       "299984 -11062.060         NaN  United Kingdom  "
      ]
     },
     "execution_count": 53,
     "metadata": {},
     "output_type": "execute_result"
    }
   ],
   "source": [
    "df[df.InvoiceNo.str.startswith('A', na=False)]"
   ]
  },
  {
   "cell_type": "markdown",
   "metadata": {
    "id": "7OoPE-QLiqa4"
   },
   "source": [
    "### ii. What does the letter \"C\" in the InvoiceNo column mean?"
   ]
  },
  {
   "cell_type": "code",
   "execution_count": null,
   "metadata": {
    "id": "PgN0C80Giqa5"
   },
   "outputs": [],
   "source": []
  },
  {
   "cell_type": "markdown",
   "metadata": {
    "id": "Kt32SZgJQGV8"
   },
   "source": [
    "If the invoice number starts with the letter \"C\", it means the order was cancelled. Or those who abandon their order."
   ]
  },
  {
   "cell_type": "code",
   "execution_count": 54,
   "metadata": {
    "id": "-sdD1F4Xiqa5",
    "scrolled": true
   },
   "outputs": [
    {
     "data": {
      "text/html": [
       "<div>\n",
       "<style scoped>\n",
       "    .dataframe tbody tr th:only-of-type {\n",
       "        vertical-align: middle;\n",
       "    }\n",
       "\n",
       "    .dataframe tbody tr th {\n",
       "        vertical-align: top;\n",
       "    }\n",
       "\n",
       "    .dataframe thead th {\n",
       "        text-align: right;\n",
       "    }\n",
       "</style>\n",
       "<table border=\"1\" class=\"dataframe\">\n",
       "  <thead>\n",
       "    <tr style=\"text-align: right;\">\n",
       "      <th></th>\n",
       "      <th>InvoiceNo</th>\n",
       "      <th>StockCode</th>\n",
       "      <th>Description</th>\n",
       "      <th>Quantity</th>\n",
       "      <th>InvoiceDate</th>\n",
       "      <th>UnitPrice</th>\n",
       "      <th>CustomerID</th>\n",
       "      <th>Country</th>\n",
       "    </tr>\n",
       "  </thead>\n",
       "  <tbody>\n",
       "    <tr>\n",
       "      <th>381684</th>\n",
       "      <td>569883</td>\n",
       "      <td>90014A</td>\n",
       "      <td>check</td>\n",
       "      <td>-12</td>\n",
       "      <td>2011-10-06 15:16:00</td>\n",
       "      <td>0.000</td>\n",
       "      <td>NaN</td>\n",
       "      <td>United Kingdom</td>\n",
       "    </tr>\n",
       "    <tr>\n",
       "      <th>4879</th>\n",
       "      <td>C536814</td>\n",
       "      <td>21586</td>\n",
       "      <td>KINGS CHOICE GIANT TUBE MATCHES</td>\n",
       "      <td>-12</td>\n",
       "      <td>2010-12-02 17:03:00</td>\n",
       "      <td>2.550</td>\n",
       "      <td>13958.000</td>\n",
       "      <td>United Kingdom</td>\n",
       "    </tr>\n",
       "    <tr>\n",
       "      <th>38941</th>\n",
       "      <td>C539602</td>\n",
       "      <td>21231</td>\n",
       "      <td>SWEETHEART CERAMIC TRINKET BOX</td>\n",
       "      <td>-4</td>\n",
       "      <td>2010-12-20 14:02:00</td>\n",
       "      <td>1.250</td>\n",
       "      <td>13369.000</td>\n",
       "      <td>United Kingdom</td>\n",
       "    </tr>\n",
       "    <tr>\n",
       "      <th>407332</th>\n",
       "      <td>C571860</td>\n",
       "      <td>22942</td>\n",
       "      <td>CHRISTMAS LIGHTS 10 SANTAS</td>\n",
       "      <td>-1</td>\n",
       "      <td>2011-10-19 13:42:00</td>\n",
       "      <td>8.500</td>\n",
       "      <td>14175.000</td>\n",
       "      <td>United Kingdom</td>\n",
       "    </tr>\n",
       "    <tr>\n",
       "      <th>176771</th>\n",
       "      <td>C552020</td>\n",
       "      <td>22359</td>\n",
       "      <td>GLASS JAR KINGS CHOICE</td>\n",
       "      <td>-1</td>\n",
       "      <td>2011-05-05 17:47:00</td>\n",
       "      <td>2.950</td>\n",
       "      <td>18183.000</td>\n",
       "      <td>United Kingdom</td>\n",
       "    </tr>\n",
       "    <tr>\n",
       "      <th>207961</th>\n",
       "      <td>C555046</td>\n",
       "      <td>22859</td>\n",
       "      <td>EASTER TIN BUNNY BOUQUET</td>\n",
       "      <td>-6</td>\n",
       "      <td>2011-05-31 11:29:00</td>\n",
       "      <td>1.650</td>\n",
       "      <td>12431.000</td>\n",
       "      <td>Australia</td>\n",
       "    </tr>\n",
       "    <tr>\n",
       "      <th>235939</th>\n",
       "      <td>C557663</td>\n",
       "      <td>22083</td>\n",
       "      <td>PAPER CHAIN KIT RETROSPOT</td>\n",
       "      <td>-9</td>\n",
       "      <td>2011-06-21 17:59:00</td>\n",
       "      <td>2.950</td>\n",
       "      <td>NaN</td>\n",
       "      <td>EIRE</td>\n",
       "    </tr>\n",
       "    <tr>\n",
       "      <th>75224</th>\n",
       "      <td>542548</td>\n",
       "      <td>20892</td>\n",
       "      <td>NaN</td>\n",
       "      <td>-1</td>\n",
       "      <td>2011-01-28 14:45:00</td>\n",
       "      <td>0.000</td>\n",
       "      <td>NaN</td>\n",
       "      <td>United Kingdom</td>\n",
       "    </tr>\n",
       "    <tr>\n",
       "      <th>29058</th>\n",
       "      <td>C538696</td>\n",
       "      <td>22768</td>\n",
       "      <td>FAMILY PHOTO FRAME CORNICE</td>\n",
       "      <td>-1</td>\n",
       "      <td>2010-12-14 10:02:00</td>\n",
       "      <td>8.500</td>\n",
       "      <td>13050.000</td>\n",
       "      <td>United Kingdom</td>\n",
       "    </tr>\n",
       "    <tr>\n",
       "      <th>355345</th>\n",
       "      <td>567923</td>\n",
       "      <td>37343</td>\n",
       "      <td>damaged</td>\n",
       "      <td>-2</td>\n",
       "      <td>2011-09-22 17:24:00</td>\n",
       "      <td>0.000</td>\n",
       "      <td>NaN</td>\n",
       "      <td>United Kingdom</td>\n",
       "    </tr>\n",
       "    <tr>\n",
       "      <th>311803</th>\n",
       "      <td>C564320</td>\n",
       "      <td>22767</td>\n",
       "      <td>TRIPLE PHOTO FRAME CORNICE</td>\n",
       "      <td>-1</td>\n",
       "      <td>2011-08-24 13:20:00</td>\n",
       "      <td>9.950</td>\n",
       "      <td>16536.000</td>\n",
       "      <td>United Kingdom</td>\n",
       "    </tr>\n",
       "    <tr>\n",
       "      <th>291227</th>\n",
       "      <td>C562438</td>\n",
       "      <td>22423</td>\n",
       "      <td>REGENCY CAKESTAND 3 TIER</td>\n",
       "      <td>-1</td>\n",
       "      <td>2011-08-04 17:58:00</td>\n",
       "      <td>12.750</td>\n",
       "      <td>14621.000</td>\n",
       "      <td>United Kingdom</td>\n",
       "    </tr>\n",
       "    <tr>\n",
       "      <th>230959</th>\n",
       "      <td>C557224</td>\n",
       "      <td>75049L</td>\n",
       "      <td>LARGE CIRCULAR MIRROR MOBILE</td>\n",
       "      <td>-5</td>\n",
       "      <td>2011-06-17 13:22:00</td>\n",
       "      <td>0.850</td>\n",
       "      <td>15311.000</td>\n",
       "      <td>United Kingdom</td>\n",
       "    </tr>\n",
       "    <tr>\n",
       "      <th>47143</th>\n",
       "      <td>C540386</td>\n",
       "      <td>22666</td>\n",
       "      <td>RECIPE BOX PANTRY YELLOW DESIGN</td>\n",
       "      <td>-1</td>\n",
       "      <td>2011-01-06 17:57:00</td>\n",
       "      <td>2.950</td>\n",
       "      <td>12417.000</td>\n",
       "      <td>Belgium</td>\n",
       "    </tr>\n",
       "    <tr>\n",
       "      <th>268451</th>\n",
       "      <td>560424</td>\n",
       "      <td>21503</td>\n",
       "      <td>NaN</td>\n",
       "      <td>-84</td>\n",
       "      <td>2011-07-18 15:15:00</td>\n",
       "      <td>0.000</td>\n",
       "      <td>NaN</td>\n",
       "      <td>United Kingdom</td>\n",
       "    </tr>\n",
       "    <tr>\n",
       "      <th>394000</th>\n",
       "      <td>C570867</td>\n",
       "      <td>23229</td>\n",
       "      <td>VINTAGE DONKEY TAIL GAME</td>\n",
       "      <td>-6</td>\n",
       "      <td>2011-10-12 16:17:00</td>\n",
       "      <td>3.750</td>\n",
       "      <td>12607.000</td>\n",
       "      <td>USA</td>\n",
       "    </tr>\n",
       "    <tr>\n",
       "      <th>88059</th>\n",
       "      <td>C543755</td>\n",
       "      <td>21591</td>\n",
       "      <td>COSY HOUR CIGAR BOX MATCHES</td>\n",
       "      <td>-24</td>\n",
       "      <td>2011-02-11 14:48:00</td>\n",
       "      <td>1.250</td>\n",
       "      <td>14304.000</td>\n",
       "      <td>United Kingdom</td>\n",
       "    </tr>\n",
       "    <tr>\n",
       "      <th>456027</th>\n",
       "      <td>C575662</td>\n",
       "      <td>22423</td>\n",
       "      <td>REGENCY CAKESTAND 3 TIER</td>\n",
       "      <td>-5</td>\n",
       "      <td>2011-11-10 14:48:00</td>\n",
       "      <td>12.750</td>\n",
       "      <td>13767.000</td>\n",
       "      <td>United Kingdom</td>\n",
       "    </tr>\n",
       "    <tr>\n",
       "      <th>42561</th>\n",
       "      <td>C540007</td>\n",
       "      <td>22274</td>\n",
       "      <td>FELTCRAFT DOLL EMILY</td>\n",
       "      <td>-6</td>\n",
       "      <td>2011-01-04 11:08:00</td>\n",
       "      <td>2.950</td>\n",
       "      <td>15379.000</td>\n",
       "      <td>United Kingdom</td>\n",
       "    </tr>\n",
       "    <tr>\n",
       "      <th>98251</th>\n",
       "      <td>C544674</td>\n",
       "      <td>22379</td>\n",
       "      <td>RECYCLING BAG RETROSPOT</td>\n",
       "      <td>-1</td>\n",
       "      <td>2011-02-22 15:48:00</td>\n",
       "      <td>2.100</td>\n",
       "      <td>13421.000</td>\n",
       "      <td>United Kingdom</td>\n",
       "    </tr>\n",
       "  </tbody>\n",
       "</table>\n",
       "</div>"
      ],
      "text/plain": [
       "       InvoiceNo StockCode                      Description  Quantity  \\\n",
       "381684    569883    90014A                            check       -12   \n",
       "4879     C536814     21586  KINGS CHOICE GIANT TUBE MATCHES       -12   \n",
       "38941    C539602     21231   SWEETHEART CERAMIC TRINKET BOX        -4   \n",
       "407332   C571860     22942      CHRISTMAS LIGHTS 10 SANTAS         -1   \n",
       "176771   C552020     22359           GLASS JAR KINGS CHOICE        -1   \n",
       "207961   C555046     22859         EASTER TIN BUNNY BOUQUET        -6   \n",
       "235939   C557663     22083        PAPER CHAIN KIT RETROSPOT        -9   \n",
       "75224     542548     20892                              NaN        -1   \n",
       "29058    C538696     22768       FAMILY PHOTO FRAME CORNICE        -1   \n",
       "355345    567923     37343                          damaged        -2   \n",
       "311803   C564320     22767      TRIPLE PHOTO FRAME CORNICE         -1   \n",
       "291227   C562438     22423         REGENCY CAKESTAND 3 TIER        -1   \n",
       "230959   C557224    75049L     LARGE CIRCULAR MIRROR MOBILE        -5   \n",
       "47143    C540386     22666  RECIPE BOX PANTRY YELLOW DESIGN        -1   \n",
       "268451    560424     21503                              NaN       -84   \n",
       "394000   C570867     23229        VINTAGE DONKEY TAIL GAME         -6   \n",
       "88059    C543755     21591     COSY HOUR CIGAR BOX MATCHES        -24   \n",
       "456027   C575662     22423         REGENCY CAKESTAND 3 TIER        -5   \n",
       "42561    C540007     22274             FELTCRAFT DOLL EMILY        -6   \n",
       "98251    C544674     22379         RECYCLING BAG RETROSPOT         -1   \n",
       "\n",
       "               InvoiceDate  UnitPrice  CustomerID         Country  \n",
       "381684 2011-10-06 15:16:00      0.000         NaN  United Kingdom  \n",
       "4879   2010-12-02 17:03:00      2.550   13958.000  United Kingdom  \n",
       "38941  2010-12-20 14:02:00      1.250   13369.000  United Kingdom  \n",
       "407332 2011-10-19 13:42:00      8.500   14175.000  United Kingdom  \n",
       "176771 2011-05-05 17:47:00      2.950   18183.000  United Kingdom  \n",
       "207961 2011-05-31 11:29:00      1.650   12431.000       Australia  \n",
       "235939 2011-06-21 17:59:00      2.950         NaN            EIRE  \n",
       "75224  2011-01-28 14:45:00      0.000         NaN  United Kingdom  \n",
       "29058  2010-12-14 10:02:00      8.500   13050.000  United Kingdom  \n",
       "355345 2011-09-22 17:24:00      0.000         NaN  United Kingdom  \n",
       "311803 2011-08-24 13:20:00      9.950   16536.000  United Kingdom  \n",
       "291227 2011-08-04 17:58:00     12.750   14621.000  United Kingdom  \n",
       "230959 2011-06-17 13:22:00      0.850   15311.000  United Kingdom  \n",
       "47143  2011-01-06 17:57:00      2.950   12417.000         Belgium  \n",
       "268451 2011-07-18 15:15:00      0.000         NaN  United Kingdom  \n",
       "394000 2011-10-12 16:17:00      3.750   12607.000             USA  \n",
       "88059  2011-02-11 14:48:00      1.250   14304.000  United Kingdom  \n",
       "456027 2011-11-10 14:48:00     12.750   13767.000  United Kingdom  \n",
       "42561  2011-01-04 11:08:00      2.950   15379.000  United Kingdom  \n",
       "98251  2011-02-22 15:48:00      2.100   13421.000  United Kingdom  "
      ]
     },
     "execution_count": 54,
     "metadata": {},
     "output_type": "execute_result"
    }
   ],
   "source": [
    "df[(df['Quantity']<0) | (df['UnitPrice']<0)].sample(20)"
   ]
  },
  {
   "cell_type": "code",
   "execution_count": 55,
   "metadata": {
    "scrolled": true
   },
   "outputs": [
    {
     "data": {
      "text/html": [
       "<div>\n",
       "<style scoped>\n",
       "    .dataframe tbody tr th:only-of-type {\n",
       "        vertical-align: middle;\n",
       "    }\n",
       "\n",
       "    .dataframe tbody tr th {\n",
       "        vertical-align: top;\n",
       "    }\n",
       "\n",
       "    .dataframe thead th {\n",
       "        text-align: right;\n",
       "    }\n",
       "</style>\n",
       "<table border=\"1\" class=\"dataframe\">\n",
       "  <thead>\n",
       "    <tr style=\"text-align: right;\">\n",
       "      <th></th>\n",
       "      <th>InvoiceNo</th>\n",
       "      <th>StockCode</th>\n",
       "      <th>Description</th>\n",
       "      <th>Quantity</th>\n",
       "      <th>InvoiceDate</th>\n",
       "      <th>UnitPrice</th>\n",
       "      <th>CustomerID</th>\n",
       "      <th>Country</th>\n",
       "    </tr>\n",
       "  </thead>\n",
       "  <tbody>\n",
       "    <tr>\n",
       "      <th>622</th>\n",
       "      <td>536414</td>\n",
       "      <td>22139</td>\n",
       "      <td>NaN</td>\n",
       "      <td>56</td>\n",
       "      <td>2010-12-01 11:52:00</td>\n",
       "      <td>0.000</td>\n",
       "      <td>NaN</td>\n",
       "      <td>United Kingdom</td>\n",
       "    </tr>\n",
       "    <tr>\n",
       "      <th>1970</th>\n",
       "      <td>536545</td>\n",
       "      <td>21134</td>\n",
       "      <td>NaN</td>\n",
       "      <td>1</td>\n",
       "      <td>2010-12-01 14:32:00</td>\n",
       "      <td>0.000</td>\n",
       "      <td>NaN</td>\n",
       "      <td>United Kingdom</td>\n",
       "    </tr>\n",
       "    <tr>\n",
       "      <th>1971</th>\n",
       "      <td>536546</td>\n",
       "      <td>22145</td>\n",
       "      <td>NaN</td>\n",
       "      <td>1</td>\n",
       "      <td>2010-12-01 14:33:00</td>\n",
       "      <td>0.000</td>\n",
       "      <td>NaN</td>\n",
       "      <td>United Kingdom</td>\n",
       "    </tr>\n",
       "    <tr>\n",
       "      <th>1972</th>\n",
       "      <td>536547</td>\n",
       "      <td>37509</td>\n",
       "      <td>NaN</td>\n",
       "      <td>1</td>\n",
       "      <td>2010-12-01 14:33:00</td>\n",
       "      <td>0.000</td>\n",
       "      <td>NaN</td>\n",
       "      <td>United Kingdom</td>\n",
       "    </tr>\n",
       "    <tr>\n",
       "      <th>1987</th>\n",
       "      <td>536549</td>\n",
       "      <td>85226A</td>\n",
       "      <td>NaN</td>\n",
       "      <td>1</td>\n",
       "      <td>2010-12-01 14:34:00</td>\n",
       "      <td>0.000</td>\n",
       "      <td>NaN</td>\n",
       "      <td>United Kingdom</td>\n",
       "    </tr>\n",
       "    <tr>\n",
       "      <th>...</th>\n",
       "      <td>...</td>\n",
       "      <td>...</td>\n",
       "      <td>...</td>\n",
       "      <td>...</td>\n",
       "      <td>...</td>\n",
       "      <td>...</td>\n",
       "      <td>...</td>\n",
       "      <td>...</td>\n",
       "    </tr>\n",
       "    <tr>\n",
       "      <th>535322</th>\n",
       "      <td>581199</td>\n",
       "      <td>84581</td>\n",
       "      <td>NaN</td>\n",
       "      <td>-2</td>\n",
       "      <td>2011-12-07 18:26:00</td>\n",
       "      <td>0.000</td>\n",
       "      <td>NaN</td>\n",
       "      <td>United Kingdom</td>\n",
       "    </tr>\n",
       "    <tr>\n",
       "      <th>535326</th>\n",
       "      <td>581203</td>\n",
       "      <td>23406</td>\n",
       "      <td>NaN</td>\n",
       "      <td>15</td>\n",
       "      <td>2011-12-07 18:31:00</td>\n",
       "      <td>0.000</td>\n",
       "      <td>NaN</td>\n",
       "      <td>United Kingdom</td>\n",
       "    </tr>\n",
       "    <tr>\n",
       "      <th>535332</th>\n",
       "      <td>581209</td>\n",
       "      <td>21620</td>\n",
       "      <td>NaN</td>\n",
       "      <td>6</td>\n",
       "      <td>2011-12-07 18:35:00</td>\n",
       "      <td>0.000</td>\n",
       "      <td>NaN</td>\n",
       "      <td>United Kingdom</td>\n",
       "    </tr>\n",
       "    <tr>\n",
       "      <th>536981</th>\n",
       "      <td>581234</td>\n",
       "      <td>72817</td>\n",
       "      <td>NaN</td>\n",
       "      <td>27</td>\n",
       "      <td>2011-12-08 10:33:00</td>\n",
       "      <td>0.000</td>\n",
       "      <td>NaN</td>\n",
       "      <td>United Kingdom</td>\n",
       "    </tr>\n",
       "    <tr>\n",
       "      <th>538554</th>\n",
       "      <td>581408</td>\n",
       "      <td>85175</td>\n",
       "      <td>NaN</td>\n",
       "      <td>20</td>\n",
       "      <td>2011-12-08 14:06:00</td>\n",
       "      <td>0.000</td>\n",
       "      <td>NaN</td>\n",
       "      <td>United Kingdom</td>\n",
       "    </tr>\n",
       "  </tbody>\n",
       "</table>\n",
       "<p>1454 rows × 8 columns</p>\n",
       "</div>"
      ],
      "text/plain": [
       "       InvoiceNo StockCode Description  Quantity         InvoiceDate  \\\n",
       "622       536414     22139         NaN        56 2010-12-01 11:52:00   \n",
       "1970      536545     21134         NaN         1 2010-12-01 14:32:00   \n",
       "1971      536546     22145         NaN         1 2010-12-01 14:33:00   \n",
       "1972      536547     37509         NaN         1 2010-12-01 14:33:00   \n",
       "1987      536549    85226A         NaN         1 2010-12-01 14:34:00   \n",
       "...          ...       ...         ...       ...                 ...   \n",
       "535322    581199     84581         NaN        -2 2011-12-07 18:26:00   \n",
       "535326    581203     23406         NaN        15 2011-12-07 18:31:00   \n",
       "535332    581209     21620         NaN         6 2011-12-07 18:35:00   \n",
       "536981    581234     72817         NaN        27 2011-12-08 10:33:00   \n",
       "538554    581408     85175         NaN        20 2011-12-08 14:06:00   \n",
       "\n",
       "        UnitPrice  CustomerID         Country  \n",
       "622         0.000         NaN  United Kingdom  \n",
       "1970        0.000         NaN  United Kingdom  \n",
       "1971        0.000         NaN  United Kingdom  \n",
       "1972        0.000         NaN  United Kingdom  \n",
       "1987        0.000         NaN  United Kingdom  \n",
       "...           ...         ...             ...  \n",
       "535322      0.000         NaN  United Kingdom  \n",
       "535326      0.000         NaN  United Kingdom  \n",
       "535332      0.000         NaN  United Kingdom  \n",
       "536981      0.000         NaN  United Kingdom  \n",
       "538554      0.000         NaN  United Kingdom  \n",
       "\n",
       "[1454 rows x 8 columns]"
      ]
     },
     "execution_count": 55,
     "metadata": {},
     "output_type": "execute_result"
    }
   ],
   "source": [
    "df[df['Description'].isnull()]"
   ]
  },
  {
   "cell_type": "code",
   "execution_count": 56,
   "metadata": {
    "scrolled": true
   },
   "outputs": [
    {
     "data": {
      "text/html": [
       "<div>\n",
       "<style scoped>\n",
       "    .dataframe tbody tr th:only-of-type {\n",
       "        vertical-align: middle;\n",
       "    }\n",
       "\n",
       "    .dataframe tbody tr th {\n",
       "        vertical-align: top;\n",
       "    }\n",
       "\n",
       "    .dataframe thead th {\n",
       "        text-align: right;\n",
       "    }\n",
       "</style>\n",
       "<table border=\"1\" class=\"dataframe\">\n",
       "  <thead>\n",
       "    <tr style=\"text-align: right;\">\n",
       "      <th></th>\n",
       "      <th>InvoiceNo</th>\n",
       "      <th>StockCode</th>\n",
       "      <th>Description</th>\n",
       "      <th>Quantity</th>\n",
       "      <th>InvoiceDate</th>\n",
       "      <th>UnitPrice</th>\n",
       "      <th>CustomerID</th>\n",
       "      <th>Country</th>\n",
       "    </tr>\n",
       "  </thead>\n",
       "  <tbody>\n",
       "    <tr>\n",
       "      <th>53409</th>\n",
       "      <td>540832</td>\n",
       "      <td>21976</td>\n",
       "      <td>PACK OF 60 MUSHROOM CAKE CASES</td>\n",
       "      <td>4</td>\n",
       "      <td>2011-01-11 14:42:00</td>\n",
       "      <td>2.080</td>\n",
       "      <td>NaN</td>\n",
       "      <td>United Kingdom</td>\n",
       "    </tr>\n",
       "    <tr>\n",
       "      <th>316941</th>\n",
       "      <td>564757</td>\n",
       "      <td>22299</td>\n",
       "      <td>PIG KEYRING WITH LIGHT &amp; SOUND</td>\n",
       "      <td>5</td>\n",
       "      <td>2011-08-30 10:36:00</td>\n",
       "      <td>2.460</td>\n",
       "      <td>NaN</td>\n",
       "      <td>United Kingdom</td>\n",
       "    </tr>\n",
       "    <tr>\n",
       "      <th>131322</th>\n",
       "      <td>547552</td>\n",
       "      <td>21577</td>\n",
       "      <td>SAVE THE PLANET COTTON TOTE BAG</td>\n",
       "      <td>1</td>\n",
       "      <td>2011-03-23 15:55:00</td>\n",
       "      <td>4.960</td>\n",
       "      <td>NaN</td>\n",
       "      <td>United Kingdom</td>\n",
       "    </tr>\n",
       "    <tr>\n",
       "      <th>339717</th>\n",
       "      <td>566602</td>\n",
       "      <td>22726</td>\n",
       "      <td>ALARM CLOCK BAKELIKE GREEN</td>\n",
       "      <td>1</td>\n",
       "      <td>2011-09-13 16:05:00</td>\n",
       "      <td>7.460</td>\n",
       "      <td>NaN</td>\n",
       "      <td>United Kingdom</td>\n",
       "    </tr>\n",
       "    <tr>\n",
       "      <th>104807</th>\n",
       "      <td>545215</td>\n",
       "      <td>22161</td>\n",
       "      <td>HEART DECORATION RUSTIC HANGING</td>\n",
       "      <td>3</td>\n",
       "      <td>2011-02-28 16:47:00</td>\n",
       "      <td>0.790</td>\n",
       "      <td>NaN</td>\n",
       "      <td>United Kingdom</td>\n",
       "    </tr>\n",
       "    <tr>\n",
       "      <th>55660</th>\n",
       "      <td>540995</td>\n",
       "      <td>22344</td>\n",
       "      <td>PARTY PIZZA DISH PINK POLKADOT</td>\n",
       "      <td>5</td>\n",
       "      <td>2011-01-13 09:30:00</td>\n",
       "      <td>0.420</td>\n",
       "      <td>NaN</td>\n",
       "      <td>United Kingdom</td>\n",
       "    </tr>\n",
       "    <tr>\n",
       "      <th>76274</th>\n",
       "      <td>542622</td>\n",
       "      <td>22551</td>\n",
       "      <td>PLASTERS IN TIN SPACEBOY</td>\n",
       "      <td>1</td>\n",
       "      <td>2011-01-31 09:09:00</td>\n",
       "      <td>3.290</td>\n",
       "      <td>NaN</td>\n",
       "      <td>United Kingdom</td>\n",
       "    </tr>\n",
       "    <tr>\n",
       "      <th>241760</th>\n",
       "      <td>558240</td>\n",
       "      <td>22654</td>\n",
       "      <td>DELUXE SEWING KIT</td>\n",
       "      <td>2</td>\n",
       "      <td>2011-06-27 15:27:00</td>\n",
       "      <td>11.630</td>\n",
       "      <td>NaN</td>\n",
       "      <td>United Kingdom</td>\n",
       "    </tr>\n",
       "    <tr>\n",
       "      <th>60848</th>\n",
       "      <td>541423</td>\n",
       "      <td>21429</td>\n",
       "      <td>RED GINGHAM ROSE JEWELLERY BOX</td>\n",
       "      <td>1</td>\n",
       "      <td>2011-01-17 17:54:00</td>\n",
       "      <td>1.650</td>\n",
       "      <td>NaN</td>\n",
       "      <td>United Kingdom</td>\n",
       "    </tr>\n",
       "    <tr>\n",
       "      <th>523701</th>\n",
       "      <td>580519</td>\n",
       "      <td>22727</td>\n",
       "      <td>ALARM CLOCK BAKELIKE RED</td>\n",
       "      <td>13</td>\n",
       "      <td>2011-12-04 14:51:00</td>\n",
       "      <td>8.290</td>\n",
       "      <td>NaN</td>\n",
       "      <td>United Kingdom</td>\n",
       "    </tr>\n",
       "    <tr>\n",
       "      <th>161184</th>\n",
       "      <td>550471</td>\n",
       "      <td>15039</td>\n",
       "      <td>SANDALWOOD FAN</td>\n",
       "      <td>1</td>\n",
       "      <td>2011-04-18 13:52:00</td>\n",
       "      <td>1.630</td>\n",
       "      <td>NaN</td>\n",
       "      <td>United Kingdom</td>\n",
       "    </tr>\n",
       "    <tr>\n",
       "      <th>330619</th>\n",
       "      <td>565919</td>\n",
       "      <td>85014B</td>\n",
       "      <td>RED RETROSPOT UMBRELLA</td>\n",
       "      <td>5</td>\n",
       "      <td>2011-09-07 16:48:00</td>\n",
       "      <td>5.950</td>\n",
       "      <td>NaN</td>\n",
       "      <td>United Kingdom</td>\n",
       "    </tr>\n",
       "    <tr>\n",
       "      <th>316730</th>\n",
       "      <td>564755</td>\n",
       "      <td>90214E</td>\n",
       "      <td>LETTER \"E\" BLING KEY RING</td>\n",
       "      <td>1</td>\n",
       "      <td>2011-08-30 10:31:00</td>\n",
       "      <td>0.830</td>\n",
       "      <td>NaN</td>\n",
       "      <td>United Kingdom</td>\n",
       "    </tr>\n",
       "    <tr>\n",
       "      <th>289324</th>\n",
       "      <td>562264</td>\n",
       "      <td>21232</td>\n",
       "      <td>STRAWBERRY CERAMIC TRINKET BOX</td>\n",
       "      <td>1</td>\n",
       "      <td>2011-08-03 16:14:00</td>\n",
       "      <td>2.460</td>\n",
       "      <td>NaN</td>\n",
       "      <td>United Kingdom</td>\n",
       "    </tr>\n",
       "    <tr>\n",
       "      <th>120356</th>\n",
       "      <td>546653</td>\n",
       "      <td>20725</td>\n",
       "      <td>LUNCH BAG RED RETROSPOT</td>\n",
       "      <td>3</td>\n",
       "      <td>2011-03-15 14:18:00</td>\n",
       "      <td>4.960</td>\n",
       "      <td>NaN</td>\n",
       "      <td>United Kingdom</td>\n",
       "    </tr>\n",
       "    <tr>\n",
       "      <th>398687</th>\n",
       "      <td>571257</td>\n",
       "      <td>85099C</td>\n",
       "      <td>JUMBO  BAG BAROQUE BLACK WHITE</td>\n",
       "      <td>1</td>\n",
       "      <td>2011-10-14 17:17:00</td>\n",
       "      <td>4.130</td>\n",
       "      <td>NaN</td>\n",
       "      <td>United Kingdom</td>\n",
       "    </tr>\n",
       "    <tr>\n",
       "      <th>457402</th>\n",
       "      <td>575739</td>\n",
       "      <td>22616</td>\n",
       "      <td>PACK OF 12 LONDON TISSUES</td>\n",
       "      <td>1</td>\n",
       "      <td>2011-11-11 09:05:00</td>\n",
       "      <td>0.830</td>\n",
       "      <td>NaN</td>\n",
       "      <td>United Kingdom</td>\n",
       "    </tr>\n",
       "    <tr>\n",
       "      <th>295981</th>\n",
       "      <td>562843</td>\n",
       "      <td>20903</td>\n",
       "      <td>VINTAGE KEEPSAKE BOX TRAVELOGUE</td>\n",
       "      <td>1</td>\n",
       "      <td>2011-08-09 17:37:00</td>\n",
       "      <td>4.130</td>\n",
       "      <td>NaN</td>\n",
       "      <td>United Kingdom</td>\n",
       "    </tr>\n",
       "    <tr>\n",
       "      <th>253466</th>\n",
       "      <td>559163</td>\n",
       "      <td>21790</td>\n",
       "      <td>VINTAGE SNAP CARDS</td>\n",
       "      <td>2</td>\n",
       "      <td>2011-07-06 16:33:00</td>\n",
       "      <td>1.630</td>\n",
       "      <td>NaN</td>\n",
       "      <td>United Kingdom</td>\n",
       "    </tr>\n",
       "    <tr>\n",
       "      <th>337413</th>\n",
       "      <td>566446</td>\n",
       "      <td>22530</td>\n",
       "      <td>MAGIC DRAWING SLATE DOLLY GIRL</td>\n",
       "      <td>1</td>\n",
       "      <td>2011-09-12 15:40:00</td>\n",
       "      <td>0.830</td>\n",
       "      <td>NaN</td>\n",
       "      <td>United Kingdom</td>\n",
       "    </tr>\n",
       "    <tr>\n",
       "      <th>45270</th>\n",
       "      <td>540255</td>\n",
       "      <td>22263</td>\n",
       "      <td>FELT EGG COSY LADYBIRD</td>\n",
       "      <td>1</td>\n",
       "      <td>2011-01-05 16:50:00</td>\n",
       "      <td>0.810</td>\n",
       "      <td>NaN</td>\n",
       "      <td>United Kingdom</td>\n",
       "    </tr>\n",
       "    <tr>\n",
       "      <th>176207</th>\n",
       "      <td>551997</td>\n",
       "      <td>22715</td>\n",
       "      <td>CARD WEDDING DAY</td>\n",
       "      <td>1</td>\n",
       "      <td>2011-05-05 15:47:00</td>\n",
       "      <td>0.830</td>\n",
       "      <td>NaN</td>\n",
       "      <td>United Kingdom</td>\n",
       "    </tr>\n",
       "    <tr>\n",
       "      <th>513629</th>\n",
       "      <td>579557</td>\n",
       "      <td>21155</td>\n",
       "      <td>RED RETROSPOT PEG BAG</td>\n",
       "      <td>4</td>\n",
       "      <td>2011-11-30 11:18:00</td>\n",
       "      <td>4.960</td>\n",
       "      <td>NaN</td>\n",
       "      <td>United Kingdom</td>\n",
       "    </tr>\n",
       "    <tr>\n",
       "      <th>42999</th>\n",
       "      <td>540026</td>\n",
       "      <td>20682</td>\n",
       "      <td>RED RETROSPOT CHILDRENS UMBRELLA</td>\n",
       "      <td>1</td>\n",
       "      <td>2011-01-04 13:25:00</td>\n",
       "      <td>6.770</td>\n",
       "      <td>NaN</td>\n",
       "      <td>United Kingdom</td>\n",
       "    </tr>\n",
       "    <tr>\n",
       "      <th>473866</th>\n",
       "      <td>576837</td>\n",
       "      <td>23158</td>\n",
       "      <td>SET OF 5 LUCKY CAT MAGNETS</td>\n",
       "      <td>1</td>\n",
       "      <td>2011-11-16 15:16:00</td>\n",
       "      <td>4.130</td>\n",
       "      <td>NaN</td>\n",
       "      <td>United Kingdom</td>\n",
       "    </tr>\n",
       "    <tr>\n",
       "      <th>249607</th>\n",
       "      <td>558904</td>\n",
       "      <td>21466</td>\n",
       "      <td>RED FLOWER CROCHET FOOD COVER</td>\n",
       "      <td>5</td>\n",
       "      <td>2011-07-04 16:18:00</td>\n",
       "      <td>3.290</td>\n",
       "      <td>NaN</td>\n",
       "      <td>United Kingdom</td>\n",
       "    </tr>\n",
       "    <tr>\n",
       "      <th>226558</th>\n",
       "      <td>556812</td>\n",
       "      <td>21231</td>\n",
       "      <td>SWEETHEART CERAMIC TRINKET BOX</td>\n",
       "      <td>1</td>\n",
       "      <td>2011-06-14 17:25:00</td>\n",
       "      <td>2.460</td>\n",
       "      <td>NaN</td>\n",
       "      <td>United Kingdom</td>\n",
       "    </tr>\n",
       "    <tr>\n",
       "      <th>354920</th>\n",
       "      <td>567901</td>\n",
       "      <td>21808</td>\n",
       "      <td>CHRISTMAS GARLAND STARS,TREES</td>\n",
       "      <td>1</td>\n",
       "      <td>2011-09-22 16:28:00</td>\n",
       "      <td>3.290</td>\n",
       "      <td>NaN</td>\n",
       "      <td>United Kingdom</td>\n",
       "    </tr>\n",
       "    <tr>\n",
       "      <th>92892</th>\n",
       "      <td>544207</td>\n",
       "      <td>22352</td>\n",
       "      <td>LUNCH BOX WITH CUTLERY RETROSPOT</td>\n",
       "      <td>2</td>\n",
       "      <td>2011-02-17 10:34:00</td>\n",
       "      <td>4.960</td>\n",
       "      <td>NaN</td>\n",
       "      <td>United Kingdom</td>\n",
       "    </tr>\n",
       "    <tr>\n",
       "      <th>212768</th>\n",
       "      <td>555510</td>\n",
       "      <td>20903</td>\n",
       "      <td>VINTAGE KEEPSAKE BOX TRAVELOGUE</td>\n",
       "      <td>1</td>\n",
       "      <td>2011-06-03 17:09:00</td>\n",
       "      <td>12.460</td>\n",
       "      <td>NaN</td>\n",
       "      <td>United Kingdom</td>\n",
       "    </tr>\n",
       "  </tbody>\n",
       "</table>\n",
       "</div>"
      ],
      "text/plain": [
       "       InvoiceNo StockCode                        Description  Quantity  \\\n",
       "53409     540832     21976     PACK OF 60 MUSHROOM CAKE CASES         4   \n",
       "316941    564757     22299    PIG KEYRING WITH LIGHT & SOUND          5   \n",
       "131322    547552     21577    SAVE THE PLANET COTTON TOTE BAG         1   \n",
       "339717    566602     22726         ALARM CLOCK BAKELIKE GREEN         1   \n",
       "104807    545215     22161   HEART DECORATION RUSTIC HANGING          3   \n",
       "55660     540995     22344     PARTY PIZZA DISH PINK POLKADOT         5   \n",
       "76274     542622     22551           PLASTERS IN TIN SPACEBOY         1   \n",
       "241760    558240     22654                 DELUXE SEWING KIT          2   \n",
       "60848     541423     21429     RED GINGHAM ROSE JEWELLERY BOX         1   \n",
       "523701    580519     22727          ALARM CLOCK BAKELIKE RED         13   \n",
       "161184    550471     15039                     SANDALWOOD FAN         1   \n",
       "330619    565919    85014B             RED RETROSPOT UMBRELLA         5   \n",
       "316730    564755    90214E          LETTER \"E\" BLING KEY RING         1   \n",
       "289324    562264     21232     STRAWBERRY CERAMIC TRINKET BOX         1   \n",
       "120356    546653     20725            LUNCH BAG RED RETROSPOT         3   \n",
       "398687    571257    85099C     JUMBO  BAG BAROQUE BLACK WHITE         1   \n",
       "457402    575739     22616         PACK OF 12 LONDON TISSUES          1   \n",
       "295981    562843     20903    VINTAGE KEEPSAKE BOX TRAVELOGUE         1   \n",
       "253466    559163     21790                 VINTAGE SNAP CARDS         2   \n",
       "337413    566446     22530    MAGIC DRAWING SLATE DOLLY GIRL          1   \n",
       "45270     540255     22263            FELT EGG COSY LADYBIRD          1   \n",
       "176207    551997     22715                   CARD WEDDING DAY         1   \n",
       "513629    579557     21155              RED RETROSPOT PEG BAG         4   \n",
       "42999     540026     20682   RED RETROSPOT CHILDRENS UMBRELLA         1   \n",
       "473866    576837     23158        SET OF 5 LUCKY CAT MAGNETS          1   \n",
       "249607    558904     21466      RED FLOWER CROCHET FOOD COVER         5   \n",
       "226558    556812     21231     SWEETHEART CERAMIC TRINKET BOX         1   \n",
       "354920    567901     21808      CHRISTMAS GARLAND STARS,TREES         1   \n",
       "92892     544207     22352  LUNCH BOX WITH CUTLERY RETROSPOT          2   \n",
       "212768    555510     20903    VINTAGE KEEPSAKE BOX TRAVELOGUE         1   \n",
       "\n",
       "               InvoiceDate  UnitPrice  CustomerID         Country  \n",
       "53409  2011-01-11 14:42:00      2.080         NaN  United Kingdom  \n",
       "316941 2011-08-30 10:36:00      2.460         NaN  United Kingdom  \n",
       "131322 2011-03-23 15:55:00      4.960         NaN  United Kingdom  \n",
       "339717 2011-09-13 16:05:00      7.460         NaN  United Kingdom  \n",
       "104807 2011-02-28 16:47:00      0.790         NaN  United Kingdom  \n",
       "55660  2011-01-13 09:30:00      0.420         NaN  United Kingdom  \n",
       "76274  2011-01-31 09:09:00      3.290         NaN  United Kingdom  \n",
       "241760 2011-06-27 15:27:00     11.630         NaN  United Kingdom  \n",
       "60848  2011-01-17 17:54:00      1.650         NaN  United Kingdom  \n",
       "523701 2011-12-04 14:51:00      8.290         NaN  United Kingdom  \n",
       "161184 2011-04-18 13:52:00      1.630         NaN  United Kingdom  \n",
       "330619 2011-09-07 16:48:00      5.950         NaN  United Kingdom  \n",
       "316730 2011-08-30 10:31:00      0.830         NaN  United Kingdom  \n",
       "289324 2011-08-03 16:14:00      2.460         NaN  United Kingdom  \n",
       "120356 2011-03-15 14:18:00      4.960         NaN  United Kingdom  \n",
       "398687 2011-10-14 17:17:00      4.130         NaN  United Kingdom  \n",
       "457402 2011-11-11 09:05:00      0.830         NaN  United Kingdom  \n",
       "295981 2011-08-09 17:37:00      4.130         NaN  United Kingdom  \n",
       "253466 2011-07-06 16:33:00      1.630         NaN  United Kingdom  \n",
       "337413 2011-09-12 15:40:00      0.830         NaN  United Kingdom  \n",
       "45270  2011-01-05 16:50:00      0.810         NaN  United Kingdom  \n",
       "176207 2011-05-05 15:47:00      0.830         NaN  United Kingdom  \n",
       "513629 2011-11-30 11:18:00      4.960         NaN  United Kingdom  \n",
       "42999  2011-01-04 13:25:00      6.770         NaN  United Kingdom  \n",
       "473866 2011-11-16 15:16:00      4.130         NaN  United Kingdom  \n",
       "249607 2011-07-04 16:18:00      3.290         NaN  United Kingdom  \n",
       "226558 2011-06-14 17:25:00      2.460         NaN  United Kingdom  \n",
       "354920 2011-09-22 16:28:00      3.290         NaN  United Kingdom  \n",
       "92892  2011-02-17 10:34:00      4.960         NaN  United Kingdom  \n",
       "212768 2011-06-03 17:09:00     12.460         NaN  United Kingdom  "
      ]
     },
     "execution_count": 56,
     "metadata": {},
     "output_type": "execute_result"
    }
   ],
   "source": [
    "df[df['CustomerID'].isnull()].sample(30)"
   ]
  },
  {
   "cell_type": "markdown",
   "metadata": {
    "id": "YP5RPZq1QGV_"
   },
   "source": [
    "When we filter canceled orders by Quantity> 0 or filter non-canceled orders by Quantity <0 nothing returns, this confirms that negative values mean the order was canceled. So lets find out how many orders were cancelled?"
   ]
  },
  {
   "cell_type": "markdown",
   "metadata": {
    "id": "nrp8logRQGWA"
   },
   "source": [
    "#### 9288 or about 36% of the orders were cancelled. Looking deeper into why these orders were cancelled may prevent future cancellations. Now let's find out what a negative UnitPrice means.\n"
   ]
  },
  {
   "cell_type": "code",
   "execution_count": 58,
   "metadata": {
    "id": "1OI-xuxxiqa5",
    "scrolled": true
   },
   "outputs": [
    {
     "data": {
      "text/html": [
       "<div>\n",
       "<style scoped>\n",
       "    .dataframe tbody tr th:only-of-type {\n",
       "        vertical-align: middle;\n",
       "    }\n",
       "\n",
       "    .dataframe tbody tr th {\n",
       "        vertical-align: top;\n",
       "    }\n",
       "\n",
       "    .dataframe thead th {\n",
       "        text-align: right;\n",
       "    }\n",
       "</style>\n",
       "<table border=\"1\" class=\"dataframe\">\n",
       "  <thead>\n",
       "    <tr style=\"text-align: right;\">\n",
       "      <th></th>\n",
       "      <th>InvoiceNo</th>\n",
       "      <th>StockCode</th>\n",
       "      <th>Description</th>\n",
       "      <th>Quantity</th>\n",
       "      <th>InvoiceDate</th>\n",
       "      <th>UnitPrice</th>\n",
       "      <th>CustomerID</th>\n",
       "      <th>Country</th>\n",
       "    </tr>\n",
       "  </thead>\n",
       "  <tbody>\n",
       "    <tr>\n",
       "      <th>299983</th>\n",
       "      <td>A563186</td>\n",
       "      <td>B</td>\n",
       "      <td>Adjust bad debt</td>\n",
       "      <td>1</td>\n",
       "      <td>2011-08-12 14:51:00</td>\n",
       "      <td>-11062.060</td>\n",
       "      <td>NaN</td>\n",
       "      <td>United Kingdom</td>\n",
       "    </tr>\n",
       "    <tr>\n",
       "      <th>299984</th>\n",
       "      <td>A563187</td>\n",
       "      <td>B</td>\n",
       "      <td>Adjust bad debt</td>\n",
       "      <td>1</td>\n",
       "      <td>2011-08-12 14:52:00</td>\n",
       "      <td>-11062.060</td>\n",
       "      <td>NaN</td>\n",
       "      <td>United Kingdom</td>\n",
       "    </tr>\n",
       "  </tbody>\n",
       "</table>\n",
       "</div>"
      ],
      "text/plain": [
       "       InvoiceNo StockCode      Description  Quantity         InvoiceDate  \\\n",
       "299983   A563186         B  Adjust bad debt         1 2011-08-12 14:51:00   \n",
       "299984   A563187         B  Adjust bad debt         1 2011-08-12 14:52:00   \n",
       "\n",
       "        UnitPrice  CustomerID         Country  \n",
       "299983 -11062.060         NaN  United Kingdom  \n",
       "299984 -11062.060         NaN  United Kingdom  "
      ]
     },
     "execution_count": 58,
     "metadata": {},
     "output_type": "execute_result"
    }
   ],
   "source": [
    "df[df['UnitPrice']<0]"
   ]
  },
  {
   "cell_type": "code",
   "execution_count": 59,
   "metadata": {
    "scrolled": true
   },
   "outputs": [],
   "source": [
    "df_return = df[df['Quantity']<0]"
   ]
  },
  {
   "cell_type": "code",
   "execution_count": 60,
   "metadata": {},
   "outputs": [
    {
     "data": {
      "text/html": [
       "<div>\n",
       "<style scoped>\n",
       "    .dataframe tbody tr th:only-of-type {\n",
       "        vertical-align: middle;\n",
       "    }\n",
       "\n",
       "    .dataframe tbody tr th {\n",
       "        vertical-align: top;\n",
       "    }\n",
       "\n",
       "    .dataframe thead th {\n",
       "        text-align: right;\n",
       "    }\n",
       "</style>\n",
       "<table border=\"1\" class=\"dataframe\">\n",
       "  <thead>\n",
       "    <tr style=\"text-align: right;\">\n",
       "      <th></th>\n",
       "      <th>Quantity</th>\n",
       "      <th>UnitPrice</th>\n",
       "    </tr>\n",
       "    <tr>\n",
       "      <th>StockCode</th>\n",
       "      <th></th>\n",
       "      <th></th>\n",
       "    </tr>\n",
       "  </thead>\n",
       "  <tbody>\n",
       "    <tr>\n",
       "      <th>M</th>\n",
       "      <td>244</td>\n",
       "      <td>244</td>\n",
       "    </tr>\n",
       "    <tr>\n",
       "      <th>22423</th>\n",
       "      <td>184</td>\n",
       "      <td>184</td>\n",
       "    </tr>\n",
       "    <tr>\n",
       "      <th>POST</th>\n",
       "      <td>126</td>\n",
       "      <td>126</td>\n",
       "    </tr>\n",
       "    <tr>\n",
       "      <th>22960</th>\n",
       "      <td>87</td>\n",
       "      <td>87</td>\n",
       "    </tr>\n",
       "    <tr>\n",
       "      <th>D</th>\n",
       "      <td>77</td>\n",
       "      <td>77</td>\n",
       "    </tr>\n",
       "    <tr>\n",
       "      <th>...</th>\n",
       "      <td>...</td>\n",
       "      <td>...</td>\n",
       "    </tr>\n",
       "    <tr>\n",
       "      <th>40003</th>\n",
       "      <td>1</td>\n",
       "      <td>1</td>\n",
       "    </tr>\n",
       "    <tr>\n",
       "      <th>44234</th>\n",
       "      <td>1</td>\n",
       "      <td>1</td>\n",
       "    </tr>\n",
       "    <tr>\n",
       "      <th>21775</th>\n",
       "      <td>1</td>\n",
       "      <td>1</td>\n",
       "    </tr>\n",
       "    <tr>\n",
       "      <th>44265</th>\n",
       "      <td>1</td>\n",
       "      <td>1</td>\n",
       "    </tr>\n",
       "    <tr>\n",
       "      <th>10002</th>\n",
       "      <td>1</td>\n",
       "      <td>1</td>\n",
       "    </tr>\n",
       "  </tbody>\n",
       "</table>\n",
       "<p>2559 rows × 2 columns</p>\n",
       "</div>"
      ],
      "text/plain": [
       "           Quantity  UnitPrice\n",
       "StockCode                     \n",
       "M               244        244\n",
       "22423           184        184\n",
       "POST            126        126\n",
       "22960            87         87\n",
       "D                77         77\n",
       "...             ...        ...\n",
       "40003             1          1\n",
       "44234             1          1\n",
       "21775             1          1\n",
       "44265             1          1\n",
       "10002             1          1\n",
       "\n",
       "[2559 rows x 2 columns]"
      ]
     },
     "execution_count": 60,
     "metadata": {},
     "output_type": "execute_result"
    }
   ],
   "source": [
    "df_return.groupby('StockCode')[['Quantity','UnitPrice']].count().sort_values('UnitPrice', ascending=False)"
   ]
  },
  {
   "cell_type": "code",
   "execution_count": 61,
   "metadata": {},
   "outputs": [
    {
     "data": {
      "text/html": [
       "<div>\n",
       "<style scoped>\n",
       "    .dataframe tbody tr th:only-of-type {\n",
       "        vertical-align: middle;\n",
       "    }\n",
       "\n",
       "    .dataframe tbody tr th {\n",
       "        vertical-align: top;\n",
       "    }\n",
       "\n",
       "    .dataframe thead th {\n",
       "        text-align: right;\n",
       "    }\n",
       "</style>\n",
       "<table border=\"1\" class=\"dataframe\">\n",
       "  <thead>\n",
       "    <tr style=\"text-align: right;\">\n",
       "      <th></th>\n",
       "      <th>InvoiceNo</th>\n",
       "      <th>StockCode</th>\n",
       "      <th>Description</th>\n",
       "      <th>Quantity</th>\n",
       "      <th>InvoiceDate</th>\n",
       "      <th>UnitPrice</th>\n",
       "      <th>CustomerID</th>\n",
       "      <th>Country</th>\n",
       "    </tr>\n",
       "  </thead>\n",
       "  <tbody>\n",
       "    <tr>\n",
       "      <th>150615</th>\n",
       "      <td>549468</td>\n",
       "      <td>M</td>\n",
       "      <td>Manual</td>\n",
       "      <td>1</td>\n",
       "      <td>2011-04-08 14:27:00</td>\n",
       "      <td>1867.860</td>\n",
       "      <td>17940.000</td>\n",
       "      <td>United Kingdom</td>\n",
       "    </tr>\n",
       "    <tr>\n",
       "      <th>461800</th>\n",
       "      <td>575952</td>\n",
       "      <td>M</td>\n",
       "      <td>Manual</td>\n",
       "      <td>1</td>\n",
       "      <td>2011-11-13 11:55:00</td>\n",
       "      <td>0.290</td>\n",
       "      <td>16015.000</td>\n",
       "      <td>United Kingdom</td>\n",
       "    </tr>\n",
       "    <tr>\n",
       "      <th>382453</th>\n",
       "      <td>569901</td>\n",
       "      <td>M</td>\n",
       "      <td>Manual</td>\n",
       "      <td>1</td>\n",
       "      <td>2011-10-06 16:20:00</td>\n",
       "      <td>1.250</td>\n",
       "      <td>12923.000</td>\n",
       "      <td>United Kingdom</td>\n",
       "    </tr>\n",
       "    <tr>\n",
       "      <th>460282</th>\n",
       "      <td>575904</td>\n",
       "      <td>M</td>\n",
       "      <td>Manual</td>\n",
       "      <td>1</td>\n",
       "      <td>2011-11-11 15:28:00</td>\n",
       "      <td>7.950</td>\n",
       "      <td>18014.000</td>\n",
       "      <td>United Kingdom</td>\n",
       "    </tr>\n",
       "    <tr>\n",
       "      <th>113703</th>\n",
       "      <td>545995</td>\n",
       "      <td>M</td>\n",
       "      <td>Manual</td>\n",
       "      <td>6</td>\n",
       "      <td>2011-03-08 13:54:00</td>\n",
       "      <td>2.100</td>\n",
       "      <td>15023.000</td>\n",
       "      <td>United Kingdom</td>\n",
       "    </tr>\n",
       "    <tr>\n",
       "      <th>321919</th>\n",
       "      <td>565210</td>\n",
       "      <td>M</td>\n",
       "      <td>Manual</td>\n",
       "      <td>41</td>\n",
       "      <td>2011-09-01 17:09:00</td>\n",
       "      <td>0.190</td>\n",
       "      <td>17750.000</td>\n",
       "      <td>United Kingdom</td>\n",
       "    </tr>\n",
       "    <tr>\n",
       "      <th>389451</th>\n",
       "      <td>C570468</td>\n",
       "      <td>M</td>\n",
       "      <td>Manual</td>\n",
       "      <td>-1</td>\n",
       "      <td>2011-10-10 16:32:00</td>\n",
       "      <td>238.780</td>\n",
       "      <td>NaN</td>\n",
       "      <td>United Kingdom</td>\n",
       "    </tr>\n",
       "    <tr>\n",
       "      <th>485985</th>\n",
       "      <td>577696</td>\n",
       "      <td>M</td>\n",
       "      <td>Manual</td>\n",
       "      <td>1</td>\n",
       "      <td>2011-11-21 11:57:00</td>\n",
       "      <td>0.000</td>\n",
       "      <td>16406.000</td>\n",
       "      <td>United Kingdom</td>\n",
       "    </tr>\n",
       "    <tr>\n",
       "      <th>111519</th>\n",
       "      <td>C545739</td>\n",
       "      <td>M</td>\n",
       "      <td>Manual</td>\n",
       "      <td>-1</td>\n",
       "      <td>2011-03-07 11:46:00</td>\n",
       "      <td>45.570</td>\n",
       "      <td>12754.000</td>\n",
       "      <td>Japan</td>\n",
       "    </tr>\n",
       "    <tr>\n",
       "      <th>73446</th>\n",
       "      <td>C542348</td>\n",
       "      <td>M</td>\n",
       "      <td>Manual</td>\n",
       "      <td>-1</td>\n",
       "      <td>2011-01-27 12:09:00</td>\n",
       "      <td>1715.850</td>\n",
       "      <td>12539.000</td>\n",
       "      <td>Spain</td>\n",
       "    </tr>\n",
       "    <tr>\n",
       "      <th>331033</th>\n",
       "      <td>C565962</td>\n",
       "      <td>M</td>\n",
       "      <td>Manual</td>\n",
       "      <td>-12</td>\n",
       "      <td>2011-09-08 11:25:00</td>\n",
       "      <td>1.250</td>\n",
       "      <td>14410.000</td>\n",
       "      <td>United Kingdom</td>\n",
       "    </tr>\n",
       "    <tr>\n",
       "      <th>467481</th>\n",
       "      <td>576349</td>\n",
       "      <td>M</td>\n",
       "      <td>Manual</td>\n",
       "      <td>1</td>\n",
       "      <td>2011-11-14 15:41:00</td>\n",
       "      <td>2.100</td>\n",
       "      <td>16519.000</td>\n",
       "      <td>United Kingdom</td>\n",
       "    </tr>\n",
       "    <tr>\n",
       "      <th>64663</th>\n",
       "      <td>541658</td>\n",
       "      <td>M</td>\n",
       "      <td>Manual</td>\n",
       "      <td>1</td>\n",
       "      <td>2011-01-20 12:16:00</td>\n",
       "      <td>2.550</td>\n",
       "      <td>15529.000</td>\n",
       "      <td>United Kingdom</td>\n",
       "    </tr>\n",
       "    <tr>\n",
       "      <th>173391</th>\n",
       "      <td>C551699</td>\n",
       "      <td>M</td>\n",
       "      <td>Manual</td>\n",
       "      <td>-1</td>\n",
       "      <td>2011-05-03 14:12:00</td>\n",
       "      <td>6930.000</td>\n",
       "      <td>16029.000</td>\n",
       "      <td>United Kingdom</td>\n",
       "    </tr>\n",
       "    <tr>\n",
       "      <th>12667</th>\n",
       "      <td>537392</td>\n",
       "      <td>M</td>\n",
       "      <td>Manual</td>\n",
       "      <td>5</td>\n",
       "      <td>2010-12-06 13:58:00</td>\n",
       "      <td>1.250</td>\n",
       "      <td>17068.000</td>\n",
       "      <td>United Kingdom</td>\n",
       "    </tr>\n",
       "    <tr>\n",
       "      <th>188277</th>\n",
       "      <td>553018</td>\n",
       "      <td>M</td>\n",
       "      <td>Manual</td>\n",
       "      <td>1</td>\n",
       "      <td>2011-05-12 19:02:00</td>\n",
       "      <td>557.720</td>\n",
       "      <td>12757.000</td>\n",
       "      <td>Portugal</td>\n",
       "    </tr>\n",
       "    <tr>\n",
       "      <th>297438</th>\n",
       "      <td>562946</td>\n",
       "      <td>M</td>\n",
       "      <td>Manual</td>\n",
       "      <td>1</td>\n",
       "      <td>2011-08-11 09:38:00</td>\n",
       "      <td>2500.000</td>\n",
       "      <td>15581.000</td>\n",
       "      <td>United Kingdom</td>\n",
       "    </tr>\n",
       "    <tr>\n",
       "      <th>7976</th>\n",
       "      <td>537077</td>\n",
       "      <td>M</td>\n",
       "      <td>Manual</td>\n",
       "      <td>12</td>\n",
       "      <td>2010-12-05 11:59:00</td>\n",
       "      <td>0.420</td>\n",
       "      <td>17062.000</td>\n",
       "      <td>United Kingdom</td>\n",
       "    </tr>\n",
       "    <tr>\n",
       "      <th>297908</th>\n",
       "      <td>C562958</td>\n",
       "      <td>M</td>\n",
       "      <td>Manual</td>\n",
       "      <td>-1</td>\n",
       "      <td>2011-08-11 10:19:00</td>\n",
       "      <td>3.250</td>\n",
       "      <td>17531.000</td>\n",
       "      <td>United Kingdom</td>\n",
       "    </tr>\n",
       "    <tr>\n",
       "      <th>387587</th>\n",
       "      <td>570333</td>\n",
       "      <td>M</td>\n",
       "      <td>Manual</td>\n",
       "      <td>6</td>\n",
       "      <td>2011-10-10 12:19:00</td>\n",
       "      <td>0.390</td>\n",
       "      <td>18126.000</td>\n",
       "      <td>United Kingdom</td>\n",
       "    </tr>\n",
       "  </tbody>\n",
       "</table>\n",
       "</div>"
      ],
      "text/plain": [
       "       InvoiceNo StockCode Description  Quantity         InvoiceDate  \\\n",
       "150615    549468         M      Manual         1 2011-04-08 14:27:00   \n",
       "461800    575952         M      Manual         1 2011-11-13 11:55:00   \n",
       "382453    569901         M      Manual         1 2011-10-06 16:20:00   \n",
       "460282    575904         M      Manual         1 2011-11-11 15:28:00   \n",
       "113703    545995         M      Manual         6 2011-03-08 13:54:00   \n",
       "321919    565210         M      Manual        41 2011-09-01 17:09:00   \n",
       "389451   C570468         M      Manual        -1 2011-10-10 16:32:00   \n",
       "485985    577696         M      Manual         1 2011-11-21 11:57:00   \n",
       "111519   C545739         M      Manual        -1 2011-03-07 11:46:00   \n",
       "73446    C542348         M      Manual        -1 2011-01-27 12:09:00   \n",
       "331033   C565962         M      Manual       -12 2011-09-08 11:25:00   \n",
       "467481    576349         M      Manual         1 2011-11-14 15:41:00   \n",
       "64663     541658         M      Manual         1 2011-01-20 12:16:00   \n",
       "173391   C551699         M      Manual        -1 2011-05-03 14:12:00   \n",
       "12667     537392         M      Manual         5 2010-12-06 13:58:00   \n",
       "188277    553018         M      Manual         1 2011-05-12 19:02:00   \n",
       "297438    562946         M      Manual         1 2011-08-11 09:38:00   \n",
       "7976      537077         M      Manual        12 2010-12-05 11:59:00   \n",
       "297908   C562958         M      Manual        -1 2011-08-11 10:19:00   \n",
       "387587    570333         M      Manual         6 2011-10-10 12:19:00   \n",
       "\n",
       "        UnitPrice  CustomerID         Country  \n",
       "150615   1867.860   17940.000  United Kingdom  \n",
       "461800      0.290   16015.000  United Kingdom  \n",
       "382453      1.250   12923.000  United Kingdom  \n",
       "460282      7.950   18014.000  United Kingdom  \n",
       "113703      2.100   15023.000  United Kingdom  \n",
       "321919      0.190   17750.000  United Kingdom  \n",
       "389451    238.780         NaN  United Kingdom  \n",
       "485985      0.000   16406.000  United Kingdom  \n",
       "111519     45.570   12754.000           Japan  \n",
       "73446    1715.850   12539.000           Spain  \n",
       "331033      1.250   14410.000  United Kingdom  \n",
       "467481      2.100   16519.000  United Kingdom  \n",
       "64663       2.550   15529.000  United Kingdom  \n",
       "173391   6930.000   16029.000  United Kingdom  \n",
       "12667       1.250   17068.000  United Kingdom  \n",
       "188277    557.720   12757.000        Portugal  \n",
       "297438   2500.000   15581.000  United Kingdom  \n",
       "7976        0.420   17062.000  United Kingdom  \n",
       "297908      3.250   17531.000  United Kingdom  \n",
       "387587      0.390   18126.000  United Kingdom  "
      ]
     },
     "execution_count": 61,
     "metadata": {},
     "output_type": "execute_result"
    }
   ],
   "source": [
    "df[df['StockCode'] =='M'].sample(20)"
   ]
  },
  {
   "cell_type": "code",
   "execution_count": 62,
   "metadata": {},
   "outputs": [
    {
     "data": {
      "text/html": [
       "<div>\n",
       "<style scoped>\n",
       "    .dataframe tbody tr th:only-of-type {\n",
       "        vertical-align: middle;\n",
       "    }\n",
       "\n",
       "    .dataframe tbody tr th {\n",
       "        vertical-align: top;\n",
       "    }\n",
       "\n",
       "    .dataframe thead th {\n",
       "        text-align: right;\n",
       "    }\n",
       "</style>\n",
       "<table border=\"1\" class=\"dataframe\">\n",
       "  <thead>\n",
       "    <tr style=\"text-align: right;\">\n",
       "      <th></th>\n",
       "      <th>InvoiceNo</th>\n",
       "      <th>StockCode</th>\n",
       "      <th>Description</th>\n",
       "      <th>Quantity</th>\n",
       "      <th>InvoiceDate</th>\n",
       "      <th>UnitPrice</th>\n",
       "      <th>CustomerID</th>\n",
       "      <th>Country</th>\n",
       "    </tr>\n",
       "  </thead>\n",
       "  <tbody>\n",
       "    <tr>\n",
       "      <th>54065</th>\n",
       "      <td>540849</td>\n",
       "      <td>22423</td>\n",
       "      <td>REGENCY CAKESTAND 3 TIER</td>\n",
       "      <td>2</td>\n",
       "      <td>2011-01-12 09:33:00</td>\n",
       "      <td>12.750</td>\n",
       "      <td>14270.000</td>\n",
       "      <td>United Kingdom</td>\n",
       "    </tr>\n",
       "    <tr>\n",
       "      <th>263030</th>\n",
       "      <td>559930</td>\n",
       "      <td>22423</td>\n",
       "      <td>REGENCY CAKESTAND 3 TIER</td>\n",
       "      <td>8</td>\n",
       "      <td>2011-07-14 09:22:00</td>\n",
       "      <td>12.750</td>\n",
       "      <td>17738.000</td>\n",
       "      <td>United Kingdom</td>\n",
       "    </tr>\n",
       "    <tr>\n",
       "      <th>58472</th>\n",
       "      <td>541244</td>\n",
       "      <td>22423</td>\n",
       "      <td>REGENCY CAKESTAND 3 TIER</td>\n",
       "      <td>2</td>\n",
       "      <td>2011-01-16 12:35:00</td>\n",
       "      <td>12.750</td>\n",
       "      <td>15535.000</td>\n",
       "      <td>United Kingdom</td>\n",
       "    </tr>\n",
       "    <tr>\n",
       "      <th>207680</th>\n",
       "      <td>554998</td>\n",
       "      <td>22423</td>\n",
       "      <td>REGENCY CAKESTAND 3 TIER</td>\n",
       "      <td>3</td>\n",
       "      <td>2011-05-29 15:35:00</td>\n",
       "      <td>12.750</td>\n",
       "      <td>15925.000</td>\n",
       "      <td>United Kingdom</td>\n",
       "    </tr>\n",
       "    <tr>\n",
       "      <th>523327</th>\n",
       "      <td>580505</td>\n",
       "      <td>22423</td>\n",
       "      <td>REGENCY CAKESTAND 3 TIER</td>\n",
       "      <td>4</td>\n",
       "      <td>2011-12-04 13:32:00</td>\n",
       "      <td>12.750</td>\n",
       "      <td>15867.000</td>\n",
       "      <td>United Kingdom</td>\n",
       "    </tr>\n",
       "    <tr>\n",
       "      <th>16286</th>\n",
       "      <td>537646</td>\n",
       "      <td>22423</td>\n",
       "      <td>REGENCY CAKESTAND 3 TIER</td>\n",
       "      <td>4</td>\n",
       "      <td>2010-12-07 15:39:00</td>\n",
       "      <td>12.750</td>\n",
       "      <td>17591.000</td>\n",
       "      <td>United Kingdom</td>\n",
       "    </tr>\n",
       "    <tr>\n",
       "      <th>282998</th>\n",
       "      <td>C561684</td>\n",
       "      <td>22423</td>\n",
       "      <td>REGENCY CAKESTAND 3 TIER</td>\n",
       "      <td>-1</td>\n",
       "      <td>2011-07-28 19:36:00</td>\n",
       "      <td>12.750</td>\n",
       "      <td>13136.000</td>\n",
       "      <td>United Kingdom</td>\n",
       "    </tr>\n",
       "    <tr>\n",
       "      <th>401559</th>\n",
       "      <td>571441</td>\n",
       "      <td>22423</td>\n",
       "      <td>REGENCY CAKESTAND 3 TIER</td>\n",
       "      <td>2</td>\n",
       "      <td>2011-10-17 13:31:00</td>\n",
       "      <td>24.960</td>\n",
       "      <td>14096.000</td>\n",
       "      <td>United Kingdom</td>\n",
       "    </tr>\n",
       "    <tr>\n",
       "      <th>84843</th>\n",
       "      <td>543448</td>\n",
       "      <td>22423</td>\n",
       "      <td>REGENCY CAKESTAND 3 TIER</td>\n",
       "      <td>11</td>\n",
       "      <td>2011-02-08 12:12:00</td>\n",
       "      <td>24.960</td>\n",
       "      <td>NaN</td>\n",
       "      <td>United Kingdom</td>\n",
       "    </tr>\n",
       "    <tr>\n",
       "      <th>209201</th>\n",
       "      <td>555195</td>\n",
       "      <td>22423</td>\n",
       "      <td>REGENCY CAKESTAND 3 TIER</td>\n",
       "      <td>1</td>\n",
       "      <td>2011-06-01 11:27:00</td>\n",
       "      <td>12.750</td>\n",
       "      <td>15240.000</td>\n",
       "      <td>United Kingdom</td>\n",
       "    </tr>\n",
       "    <tr>\n",
       "      <th>82448</th>\n",
       "      <td>543232</td>\n",
       "      <td>22423</td>\n",
       "      <td>REGENCY CAKESTAND 3 TIER</td>\n",
       "      <td>16</td>\n",
       "      <td>2011-02-04 13:28:00</td>\n",
       "      <td>10.950</td>\n",
       "      <td>13113.000</td>\n",
       "      <td>United Kingdom</td>\n",
       "    </tr>\n",
       "    <tr>\n",
       "      <th>490163</th>\n",
       "      <td>578041</td>\n",
       "      <td>22423</td>\n",
       "      <td>REGENCY CAKESTAND 3 TIER</td>\n",
       "      <td>3</td>\n",
       "      <td>2011-11-22 14:23:00</td>\n",
       "      <td>12.750</td>\n",
       "      <td>17338.000</td>\n",
       "      <td>United Kingdom</td>\n",
       "    </tr>\n",
       "    <tr>\n",
       "      <th>321425</th>\n",
       "      <td>565150</td>\n",
       "      <td>22423</td>\n",
       "      <td>REGENCY CAKESTAND 3 TIER</td>\n",
       "      <td>16</td>\n",
       "      <td>2011-09-01 14:26:00</td>\n",
       "      <td>10.950</td>\n",
       "      <td>14298.000</td>\n",
       "      <td>United Kingdom</td>\n",
       "    </tr>\n",
       "    <tr>\n",
       "      <th>355516</th>\n",
       "      <td>C567940</td>\n",
       "      <td>22423</td>\n",
       "      <td>REGENCY CAKESTAND 3 TIER</td>\n",
       "      <td>-1</td>\n",
       "      <td>2011-09-22 18:21:00</td>\n",
       "      <td>12.750</td>\n",
       "      <td>16984.000</td>\n",
       "      <td>United Kingdom</td>\n",
       "    </tr>\n",
       "    <tr>\n",
       "      <th>279121</th>\n",
       "      <td>561236</td>\n",
       "      <td>22423</td>\n",
       "      <td>REGENCY CAKESTAND 3 TIER</td>\n",
       "      <td>4</td>\n",
       "      <td>2011-07-26 10:27:00</td>\n",
       "      <td>12.750</td>\n",
       "      <td>15159.000</td>\n",
       "      <td>United Kingdom</td>\n",
       "    </tr>\n",
       "    <tr>\n",
       "      <th>226128</th>\n",
       "      <td>556780</td>\n",
       "      <td>22423</td>\n",
       "      <td>REGENCY CAKESTAND 3 TIER</td>\n",
       "      <td>1</td>\n",
       "      <td>2011-06-14 12:46:00</td>\n",
       "      <td>12.750</td>\n",
       "      <td>14524.000</td>\n",
       "      <td>United Kingdom</td>\n",
       "    </tr>\n",
       "    <tr>\n",
       "      <th>320708</th>\n",
       "      <td>565082</td>\n",
       "      <td>22423</td>\n",
       "      <td>REGENCY CAKESTAND 3 TIER</td>\n",
       "      <td>2</td>\n",
       "      <td>2011-09-01 09:15:00</td>\n",
       "      <td>12.750</td>\n",
       "      <td>13305.000</td>\n",
       "      <td>United Kingdom</td>\n",
       "    </tr>\n",
       "    <tr>\n",
       "      <th>258247</th>\n",
       "      <td>559557</td>\n",
       "      <td>22423</td>\n",
       "      <td>REGENCY CAKESTAND 3 TIER</td>\n",
       "      <td>1</td>\n",
       "      <td>2011-07-11 10:33:00</td>\n",
       "      <td>12.750</td>\n",
       "      <td>17444.000</td>\n",
       "      <td>Canada</td>\n",
       "    </tr>\n",
       "    <tr>\n",
       "      <th>186918</th>\n",
       "      <td>552888</td>\n",
       "      <td>22423</td>\n",
       "      <td>REGENCY CAKESTAND 3 TIER</td>\n",
       "      <td>120</td>\n",
       "      <td>2011-05-12 10:23:00</td>\n",
       "      <td>10.950</td>\n",
       "      <td>15061.000</td>\n",
       "      <td>United Kingdom</td>\n",
       "    </tr>\n",
       "    <tr>\n",
       "      <th>39193</th>\n",
       "      <td>539631</td>\n",
       "      <td>22423</td>\n",
       "      <td>REGENCY CAKESTAND 3 TIER</td>\n",
       "      <td>1</td>\n",
       "      <td>2010-12-20 15:03:00</td>\n",
       "      <td>25.490</td>\n",
       "      <td>NaN</td>\n",
       "      <td>United Kingdom</td>\n",
       "    </tr>\n",
       "  </tbody>\n",
       "</table>\n",
       "</div>"
      ],
      "text/plain": [
       "       InvoiceNo StockCode               Description  Quantity  \\\n",
       "54065     540849     22423  REGENCY CAKESTAND 3 TIER         2   \n",
       "263030    559930     22423  REGENCY CAKESTAND 3 TIER         8   \n",
       "58472     541244     22423  REGENCY CAKESTAND 3 TIER         2   \n",
       "207680    554998     22423  REGENCY CAKESTAND 3 TIER         3   \n",
       "523327    580505     22423  REGENCY CAKESTAND 3 TIER         4   \n",
       "16286     537646     22423  REGENCY CAKESTAND 3 TIER         4   \n",
       "282998   C561684     22423  REGENCY CAKESTAND 3 TIER        -1   \n",
       "401559    571441     22423  REGENCY CAKESTAND 3 TIER         2   \n",
       "84843     543448     22423  REGENCY CAKESTAND 3 TIER        11   \n",
       "209201    555195     22423  REGENCY CAKESTAND 3 TIER         1   \n",
       "82448     543232     22423  REGENCY CAKESTAND 3 TIER        16   \n",
       "490163    578041     22423  REGENCY CAKESTAND 3 TIER         3   \n",
       "321425    565150     22423  REGENCY CAKESTAND 3 TIER        16   \n",
       "355516   C567940     22423  REGENCY CAKESTAND 3 TIER        -1   \n",
       "279121    561236     22423  REGENCY CAKESTAND 3 TIER         4   \n",
       "226128    556780     22423  REGENCY CAKESTAND 3 TIER         1   \n",
       "320708    565082     22423  REGENCY CAKESTAND 3 TIER         2   \n",
       "258247    559557     22423  REGENCY CAKESTAND 3 TIER         1   \n",
       "186918    552888     22423  REGENCY CAKESTAND 3 TIER       120   \n",
       "39193     539631     22423  REGENCY CAKESTAND 3 TIER         1   \n",
       "\n",
       "               InvoiceDate  UnitPrice  CustomerID         Country  \n",
       "54065  2011-01-12 09:33:00     12.750   14270.000  United Kingdom  \n",
       "263030 2011-07-14 09:22:00     12.750   17738.000  United Kingdom  \n",
       "58472  2011-01-16 12:35:00     12.750   15535.000  United Kingdom  \n",
       "207680 2011-05-29 15:35:00     12.750   15925.000  United Kingdom  \n",
       "523327 2011-12-04 13:32:00     12.750   15867.000  United Kingdom  \n",
       "16286  2010-12-07 15:39:00     12.750   17591.000  United Kingdom  \n",
       "282998 2011-07-28 19:36:00     12.750   13136.000  United Kingdom  \n",
       "401559 2011-10-17 13:31:00     24.960   14096.000  United Kingdom  \n",
       "84843  2011-02-08 12:12:00     24.960         NaN  United Kingdom  \n",
       "209201 2011-06-01 11:27:00     12.750   15240.000  United Kingdom  \n",
       "82448  2011-02-04 13:28:00     10.950   13113.000  United Kingdom  \n",
       "490163 2011-11-22 14:23:00     12.750   17338.000  United Kingdom  \n",
       "321425 2011-09-01 14:26:00     10.950   14298.000  United Kingdom  \n",
       "355516 2011-09-22 18:21:00     12.750   16984.000  United Kingdom  \n",
       "279121 2011-07-26 10:27:00     12.750   15159.000  United Kingdom  \n",
       "226128 2011-06-14 12:46:00     12.750   14524.000  United Kingdom  \n",
       "320708 2011-09-01 09:15:00     12.750   13305.000  United Kingdom  \n",
       "258247 2011-07-11 10:33:00     12.750   17444.000          Canada  \n",
       "186918 2011-05-12 10:23:00     10.950   15061.000  United Kingdom  \n",
       "39193  2010-12-20 15:03:00     25.490         NaN  United Kingdom  "
      ]
     },
     "execution_count": 62,
     "metadata": {},
     "output_type": "execute_result"
    }
   ],
   "source": [
    "df[df['StockCode'] == 22423].sample(20)"
   ]
  },
  {
   "cell_type": "code",
   "execution_count": null,
   "metadata": {},
   "outputs": [],
   "source": []
  },
  {
   "cell_type": "markdown",
   "metadata": {
    "id": "nXVVls6sQGVQ"
   },
   "source": [
    "### iii. Handling Missing Values"
   ]
  },
  {
   "cell_type": "code",
   "execution_count": 63,
   "metadata": {
    "id": "yExVxnQsiqa6",
    "scrolled": true
   },
   "outputs": [
    {
     "data": {
      "text/plain": [
       "541909"
      ]
     },
     "execution_count": 63,
     "metadata": {},
     "output_type": "execute_result"
    }
   ],
   "source": [
    "df.CustomerID.isnull().count()"
   ]
  },
  {
   "cell_type": "code",
   "execution_count": 64,
   "metadata": {},
   "outputs": [],
   "source": [
    "df.dropna(subset=['CustomerID'],inplace = True)\n"
   ]
  },
  {
   "cell_type": "code",
   "execution_count": 65,
   "metadata": {},
   "outputs": [
    {
     "data": {
      "text/plain": [
       "InvoiceNo      0\n",
       "StockCode      0\n",
       "Description    0\n",
       "Quantity       0\n",
       "InvoiceDate    0\n",
       "UnitPrice      0\n",
       "CustomerID     0\n",
       "Country        0\n",
       "dtype: int64"
      ]
     },
     "execution_count": 65,
     "metadata": {},
     "output_type": "execute_result"
    }
   ],
   "source": [
    "df[df.CustomerID.isnull()==True].count()"
   ]
  },
  {
   "cell_type": "code",
   "execution_count": 66,
   "metadata": {},
   "outputs": [
    {
     "data": {
      "text/plain": [
       "(406829, 8)"
      ]
     },
     "execution_count": 66,
     "metadata": {},
     "output_type": "execute_result"
    }
   ],
   "source": [
    "df.shape"
   ]
  },
  {
   "cell_type": "markdown",
   "metadata": {
    "id": "EQtZK5paQGVf"
   },
   "source": [
    "Since the customer ID's are missing, lets assume these orders were not made by the customers already in the data set because those customers already have ID's. \n",
    "\n",
    "We also don't want to assign these orders to those customers because this would alter the insights we draw from the data. \n"
   ]
  },
  {
   "cell_type": "code",
   "execution_count": 67,
   "metadata": {
    "id": "WjvtekM3iqa6"
   },
   "outputs": [
    {
     "name": "stdout",
     "output_type": "stream",
     "text": [
      "<class 'pandas.core.frame.DataFrame'>\n",
      "Int64Index: 406829 entries, 0 to 541908\n",
      "Data columns (total 8 columns):\n",
      " #   Column       Non-Null Count   Dtype         \n",
      "---  ------       --------------   -----         \n",
      " 0   InvoiceNo    406829 non-null  object        \n",
      " 1   StockCode    406829 non-null  object        \n",
      " 2   Description  406829 non-null  object        \n",
      " 3   Quantity     406829 non-null  int64         \n",
      " 4   InvoiceDate  406829 non-null  datetime64[ns]\n",
      " 5   UnitPrice    406829 non-null  float64       \n",
      " 6   CustomerID   406829 non-null  float64       \n",
      " 7   Country      406829 non-null  object        \n",
      "dtypes: datetime64[ns](1), float64(2), int64(1), object(4)\n",
      "memory usage: 27.9+ MB\n"
     ]
    }
   ],
   "source": [
    "df.info()"
   ]
  },
  {
   "cell_type": "markdown",
   "metadata": {
    "id": "llu-bMTAiqa6"
   },
   "source": [
    "### iv. Clean the Data from the Noise and Missing Values"
   ]
  },
  {
   "cell_type": "code",
   "execution_count": 68,
   "metadata": {
    "id": "R-TgtE4Ziqa6"
   },
   "outputs": [
    {
     "data": {
      "text/plain": [
       "0"
      ]
     },
     "execution_count": 68,
     "metadata": {},
     "output_type": "execute_result"
    }
   ],
   "source": [
    "df.Description.isnull().sum()"
   ]
  },
  {
   "cell_type": "code",
   "execution_count": 69,
   "metadata": {
    "scrolled": true
   },
   "outputs": [
    {
     "data": {
      "text/html": [
       "<div>\n",
       "<style scoped>\n",
       "    .dataframe tbody tr th:only-of-type {\n",
       "        vertical-align: middle;\n",
       "    }\n",
       "\n",
       "    .dataframe tbody tr th {\n",
       "        vertical-align: top;\n",
       "    }\n",
       "\n",
       "    .dataframe thead th {\n",
       "        text-align: right;\n",
       "    }\n",
       "</style>\n",
       "<table border=\"1\" class=\"dataframe\">\n",
       "  <thead>\n",
       "    <tr style=\"text-align: right;\">\n",
       "      <th></th>\n",
       "      <th>InvoiceNo</th>\n",
       "      <th>StockCode</th>\n",
       "      <th>Description</th>\n",
       "      <th>Quantity</th>\n",
       "      <th>InvoiceDate</th>\n",
       "      <th>UnitPrice</th>\n",
       "      <th>CustomerID</th>\n",
       "      <th>Country</th>\n",
       "    </tr>\n",
       "  </thead>\n",
       "  <tbody>\n",
       "  </tbody>\n",
       "</table>\n",
       "</div>"
      ],
      "text/plain": [
       "Empty DataFrame\n",
       "Columns: [InvoiceNo, StockCode, Description, Quantity, InvoiceDate, UnitPrice, CustomerID, Country]\n",
       "Index: []"
      ]
     },
     "execution_count": 69,
     "metadata": {},
     "output_type": "execute_result"
    }
   ],
   "source": [
    "df[(df['Quantity']<0) | (df['UnitPrice']<0)][df.InvoiceNo.str.contains('C') == False]"
   ]
  },
  {
   "cell_type": "code",
   "execution_count": 70,
   "metadata": {},
   "outputs": [
    {
     "data": {
      "text/html": [
       "<div>\n",
       "<style scoped>\n",
       "    .dataframe tbody tr th:only-of-type {\n",
       "        vertical-align: middle;\n",
       "    }\n",
       "\n",
       "    .dataframe tbody tr th {\n",
       "        vertical-align: top;\n",
       "    }\n",
       "\n",
       "    .dataframe thead th {\n",
       "        text-align: right;\n",
       "    }\n",
       "</style>\n",
       "<table border=\"1\" class=\"dataframe\">\n",
       "  <thead>\n",
       "    <tr style=\"text-align: right;\">\n",
       "      <th></th>\n",
       "      <th>InvoiceNo</th>\n",
       "      <th>StockCode</th>\n",
       "      <th>Description</th>\n",
       "      <th>Quantity</th>\n",
       "      <th>InvoiceDate</th>\n",
       "      <th>UnitPrice</th>\n",
       "      <th>CustomerID</th>\n",
       "      <th>Country</th>\n",
       "    </tr>\n",
       "  </thead>\n",
       "  <tbody>\n",
       "    <tr>\n",
       "      <th>0</th>\n",
       "      <td>536365</td>\n",
       "      <td>85123A</td>\n",
       "      <td>WHITE HANGING HEART T-LIGHT HOLDER</td>\n",
       "      <td>6</td>\n",
       "      <td>2010-12-01 08:26:00</td>\n",
       "      <td>2.550</td>\n",
       "      <td>17850.000</td>\n",
       "      <td>United Kingdom</td>\n",
       "    </tr>\n",
       "    <tr>\n",
       "      <th>1</th>\n",
       "      <td>536365</td>\n",
       "      <td>71053</td>\n",
       "      <td>WHITE METAL LANTERN</td>\n",
       "      <td>6</td>\n",
       "      <td>2010-12-01 08:26:00</td>\n",
       "      <td>3.390</td>\n",
       "      <td>17850.000</td>\n",
       "      <td>United Kingdom</td>\n",
       "    </tr>\n",
       "    <tr>\n",
       "      <th>2</th>\n",
       "      <td>536365</td>\n",
       "      <td>84406B</td>\n",
       "      <td>CREAM CUPID HEARTS COAT HANGER</td>\n",
       "      <td>8</td>\n",
       "      <td>2010-12-01 08:26:00</td>\n",
       "      <td>2.750</td>\n",
       "      <td>17850.000</td>\n",
       "      <td>United Kingdom</td>\n",
       "    </tr>\n",
       "    <tr>\n",
       "      <th>3</th>\n",
       "      <td>536365</td>\n",
       "      <td>84029G</td>\n",
       "      <td>KNITTED UNION FLAG HOT WATER BOTTLE</td>\n",
       "      <td>6</td>\n",
       "      <td>2010-12-01 08:26:00</td>\n",
       "      <td>3.390</td>\n",
       "      <td>17850.000</td>\n",
       "      <td>United Kingdom</td>\n",
       "    </tr>\n",
       "    <tr>\n",
       "      <th>4</th>\n",
       "      <td>536365</td>\n",
       "      <td>84029E</td>\n",
       "      <td>RED WOOLLY HOTTIE WHITE HEART.</td>\n",
       "      <td>6</td>\n",
       "      <td>2010-12-01 08:26:00</td>\n",
       "      <td>3.390</td>\n",
       "      <td>17850.000</td>\n",
       "      <td>United Kingdom</td>\n",
       "    </tr>\n",
       "    <tr>\n",
       "      <th>...</th>\n",
       "      <td>...</td>\n",
       "      <td>...</td>\n",
       "      <td>...</td>\n",
       "      <td>...</td>\n",
       "      <td>...</td>\n",
       "      <td>...</td>\n",
       "      <td>...</td>\n",
       "      <td>...</td>\n",
       "    </tr>\n",
       "    <tr>\n",
       "      <th>541904</th>\n",
       "      <td>581587</td>\n",
       "      <td>22613</td>\n",
       "      <td>PACK OF 20 SPACEBOY NAPKINS</td>\n",
       "      <td>12</td>\n",
       "      <td>2011-12-09 12:50:00</td>\n",
       "      <td>0.850</td>\n",
       "      <td>12680.000</td>\n",
       "      <td>France</td>\n",
       "    </tr>\n",
       "    <tr>\n",
       "      <th>541905</th>\n",
       "      <td>581587</td>\n",
       "      <td>22899</td>\n",
       "      <td>CHILDREN'S APRON DOLLY GIRL</td>\n",
       "      <td>6</td>\n",
       "      <td>2011-12-09 12:50:00</td>\n",
       "      <td>2.100</td>\n",
       "      <td>12680.000</td>\n",
       "      <td>France</td>\n",
       "    </tr>\n",
       "    <tr>\n",
       "      <th>541906</th>\n",
       "      <td>581587</td>\n",
       "      <td>23254</td>\n",
       "      <td>CHILDRENS CUTLERY DOLLY GIRL</td>\n",
       "      <td>4</td>\n",
       "      <td>2011-12-09 12:50:00</td>\n",
       "      <td>4.150</td>\n",
       "      <td>12680.000</td>\n",
       "      <td>France</td>\n",
       "    </tr>\n",
       "    <tr>\n",
       "      <th>541907</th>\n",
       "      <td>581587</td>\n",
       "      <td>23255</td>\n",
       "      <td>CHILDRENS CUTLERY CIRCUS PARADE</td>\n",
       "      <td>4</td>\n",
       "      <td>2011-12-09 12:50:00</td>\n",
       "      <td>4.150</td>\n",
       "      <td>12680.000</td>\n",
       "      <td>France</td>\n",
       "    </tr>\n",
       "    <tr>\n",
       "      <th>541908</th>\n",
       "      <td>581587</td>\n",
       "      <td>22138</td>\n",
       "      <td>BAKING SET 9 PIECE RETROSPOT</td>\n",
       "      <td>3</td>\n",
       "      <td>2011-12-09 12:50:00</td>\n",
       "      <td>4.950</td>\n",
       "      <td>12680.000</td>\n",
       "      <td>France</td>\n",
       "    </tr>\n",
       "  </tbody>\n",
       "</table>\n",
       "<p>406829 rows × 8 columns</p>\n",
       "</div>"
      ],
      "text/plain": [
       "       InvoiceNo StockCode                          Description  Quantity  \\\n",
       "0         536365    85123A   WHITE HANGING HEART T-LIGHT HOLDER         6   \n",
       "1         536365     71053                  WHITE METAL LANTERN         6   \n",
       "2         536365    84406B       CREAM CUPID HEARTS COAT HANGER         8   \n",
       "3         536365    84029G  KNITTED UNION FLAG HOT WATER BOTTLE         6   \n",
       "4         536365    84029E       RED WOOLLY HOTTIE WHITE HEART.         6   \n",
       "...          ...       ...                                  ...       ...   \n",
       "541904    581587     22613          PACK OF 20 SPACEBOY NAPKINS        12   \n",
       "541905    581587     22899         CHILDREN'S APRON DOLLY GIRL          6   \n",
       "541906    581587     23254        CHILDRENS CUTLERY DOLLY GIRL          4   \n",
       "541907    581587     23255      CHILDRENS CUTLERY CIRCUS PARADE         4   \n",
       "541908    581587     22138        BAKING SET 9 PIECE RETROSPOT          3   \n",
       "\n",
       "               InvoiceDate  UnitPrice  CustomerID         Country  \n",
       "0      2010-12-01 08:26:00      2.550   17850.000  United Kingdom  \n",
       "1      2010-12-01 08:26:00      3.390   17850.000  United Kingdom  \n",
       "2      2010-12-01 08:26:00      2.750   17850.000  United Kingdom  \n",
       "3      2010-12-01 08:26:00      3.390   17850.000  United Kingdom  \n",
       "4      2010-12-01 08:26:00      3.390   17850.000  United Kingdom  \n",
       "...                    ...        ...         ...             ...  \n",
       "541904 2011-12-09 12:50:00      0.850   12680.000          France  \n",
       "541905 2011-12-09 12:50:00      2.100   12680.000          France  \n",
       "541906 2011-12-09 12:50:00      4.150   12680.000          France  \n",
       "541907 2011-12-09 12:50:00      4.150   12680.000          France  \n",
       "541908 2011-12-09 12:50:00      4.950   12680.000          France  \n",
       "\n",
       "[406829 rows x 8 columns]"
      ]
     },
     "execution_count": 70,
     "metadata": {},
     "output_type": "execute_result"
    }
   ],
   "source": [
    "df"
   ]
  },
  {
   "cell_type": "code",
   "execution_count": 77,
   "metadata": {},
   "outputs": [],
   "source": [
    "df1=df[~df[\"InvoiceNo\"].str.contains(\"C\", na=False)]\n"
   ]
  },
  {
   "cell_type": "code",
   "execution_count": 78,
   "metadata": {},
   "outputs": [],
   "source": [
    "df1= df[(df[\"Quantity\"]>0)]\n"
   ]
  },
  {
   "cell_type": "code",
   "execution_count": 80,
   "metadata": {},
   "outputs": [
    {
     "data": {
      "text/plain": [
       "(392732, 8)"
      ]
     },
     "execution_count": 80,
     "metadata": {},
     "output_type": "execute_result"
    }
   ],
   "source": [
    "df1.shape"
   ]
  },
  {
   "cell_type": "markdown",
   "metadata": {
    "id": "25MkNjZqQGWC"
   },
   "source": [
    "### v. Explore the Orders\n"
   ]
  },
  {
   "cell_type": "markdown",
   "metadata": {
    "id": "8OAkPoUjiqa7"
   },
   "source": [
    "1. Find the unique number of InvoiceNo  per customer"
   ]
  },
  {
   "cell_type": "code",
   "execution_count": 84,
   "metadata": {
    "id": "n1A76M7Jiqa7"
   },
   "outputs": [
    {
     "data": {
      "text/plain": [
       "CustomerID\n",
       "12748.000    210\n",
       "14911.000    201\n",
       "17841.000    124\n",
       "13089.000     97\n",
       "14606.000     93\n",
       "            ... \n",
       "14355.000      1\n",
       "13403.000      1\n",
       "15488.000      1\n",
       "14353.000      1\n",
       "12346.000      1\n",
       "Name: InvoiceNo, Length: 4339, dtype: int64"
      ]
     },
     "execution_count": 84,
     "metadata": {},
     "output_type": "execute_result"
    }
   ],
   "source": [
    "df1.groupby('CustomerID')['InvoiceNo'].nunique().sort_values(ascending=False)\n"
   ]
  },
  {
   "cell_type": "markdown",
   "metadata": {
    "id": "di03OKjzQGWE"
   },
   "source": [
    "2. What's the average number of unqiue items per order or per customer?"
   ]
  },
  {
   "cell_type": "code",
   "execution_count": 85,
   "metadata": {
    "id": "V4LxkeIIiqa7"
   },
   "outputs": [
    {
     "data": {
      "text/plain": [
       "90.51209956211109"
      ]
     },
     "execution_count": 85,
     "metadata": {},
     "output_type": "execute_result"
    }
   ],
   "source": [
    "df1.groupby('CustomerID')['StockCode'].count().mean()\n"
   ]
  },
  {
   "cell_type": "code",
   "execution_count": 86,
   "metadata": {},
   "outputs": [
    {
     "data": {
      "text/plain": [
       "InvoiceNo  StockCode\n",
       "536365     21730       6.000\n",
       "           22752       2.000\n",
       "           71053       6.000\n",
       "           84029E      6.000\n",
       "           84029G      6.000\n",
       "                        ... \n",
       "581587     22730       4.000\n",
       "           22899       6.000\n",
       "           23254       4.000\n",
       "           23255       4.000\n",
       "           23256       4.000\n",
       "Name: Quantity, Length: 387875, dtype: float64"
      ]
     },
     "execution_count": 86,
     "metadata": {},
     "output_type": "execute_result"
    }
   ],
   "source": [
    "df1.groupby(['InvoiceNo','StockCode'])['Quantity'].mean()\n"
   ]
  },
  {
   "cell_type": "markdown",
   "metadata": {
    "id": "HUKzA73dQGWH"
   },
   "source": [
    "3. Let's see how this compares to the number of unique products per customer."
   ]
  },
  {
   "cell_type": "code",
   "execution_count": 88,
   "metadata": {
    "id": "b8uzjYyKiqa7",
    "scrolled": true
   },
   "outputs": [
    {
     "data": {
      "text/plain": [
       "CustomerID\n",
       "14911.000    1787\n",
       "12748.000    1768\n",
       "17841.000    1323\n",
       "14096.000    1119\n",
       "14298.000     884\n",
       "             ... \n",
       "13366.000       1\n",
       "13391.000       1\n",
       "13452.000       1\n",
       "16078.000       1\n",
       "12346.000       1\n",
       "Name: StockCode, Length: 4339, dtype: int64"
      ]
     },
     "execution_count": 88,
     "metadata": {},
     "output_type": "execute_result"
    }
   ],
   "source": [
    "df1.groupby('CustomerID')['StockCode'].nunique().sort_values(ascending=False)\n"
   ]
  },
  {
   "cell_type": "markdown",
   "metadata": {
    "id": "I_Ozp-U5QGWK"
   },
   "source": [
    "### vi. Explore Customers by Country"
   ]
  },
  {
   "cell_type": "markdown",
   "metadata": {
    "id": "SP6M3isLiqa8"
   },
   "source": [
    "1. What's the total revenue per country?"
   ]
  },
  {
   "cell_type": "code",
   "execution_count": 89,
   "metadata": {},
   "outputs": [],
   "source": [
    "df1['Total_Price'] =(df1.UnitPrice) * (df1.Quantity)"
   ]
  },
  {
   "cell_type": "code",
   "execution_count": 91,
   "metadata": {},
   "outputs": [
    {
     "data": {
      "text/html": [
       "<div>\n",
       "<style scoped>\n",
       "    .dataframe tbody tr th:only-of-type {\n",
       "        vertical-align: middle;\n",
       "    }\n",
       "\n",
       "    .dataframe tbody tr th {\n",
       "        vertical-align: top;\n",
       "    }\n",
       "\n",
       "    .dataframe thead th {\n",
       "        text-align: right;\n",
       "    }\n",
       "</style>\n",
       "<table border=\"1\" class=\"dataframe\">\n",
       "  <thead>\n",
       "    <tr style=\"text-align: right;\">\n",
       "      <th></th>\n",
       "      <th>InvoiceNo</th>\n",
       "      <th>StockCode</th>\n",
       "      <th>Description</th>\n",
       "      <th>Quantity</th>\n",
       "      <th>InvoiceDate</th>\n",
       "      <th>UnitPrice</th>\n",
       "      <th>CustomerID</th>\n",
       "      <th>Country</th>\n",
       "      <th>Total_Price</th>\n",
       "    </tr>\n",
       "  </thead>\n",
       "  <tbody>\n",
       "    <tr>\n",
       "      <th>0</th>\n",
       "      <td>536365</td>\n",
       "      <td>85123A</td>\n",
       "      <td>WHITE HANGING HEART T-LIGHT HOLDER</td>\n",
       "      <td>6</td>\n",
       "      <td>2010-12-01 08:26:00</td>\n",
       "      <td>2.550</td>\n",
       "      <td>17850.000</td>\n",
       "      <td>United Kingdom</td>\n",
       "      <td>15.300</td>\n",
       "    </tr>\n",
       "    <tr>\n",
       "      <th>1</th>\n",
       "      <td>536365</td>\n",
       "      <td>71053</td>\n",
       "      <td>WHITE METAL LANTERN</td>\n",
       "      <td>6</td>\n",
       "      <td>2010-12-01 08:26:00</td>\n",
       "      <td>3.390</td>\n",
       "      <td>17850.000</td>\n",
       "      <td>United Kingdom</td>\n",
       "      <td>20.340</td>\n",
       "    </tr>\n",
       "    <tr>\n",
       "      <th>2</th>\n",
       "      <td>536365</td>\n",
       "      <td>84406B</td>\n",
       "      <td>CREAM CUPID HEARTS COAT HANGER</td>\n",
       "      <td>8</td>\n",
       "      <td>2010-12-01 08:26:00</td>\n",
       "      <td>2.750</td>\n",
       "      <td>17850.000</td>\n",
       "      <td>United Kingdom</td>\n",
       "      <td>22.000</td>\n",
       "    </tr>\n",
       "    <tr>\n",
       "      <th>3</th>\n",
       "      <td>536365</td>\n",
       "      <td>84029G</td>\n",
       "      <td>KNITTED UNION FLAG HOT WATER BOTTLE</td>\n",
       "      <td>6</td>\n",
       "      <td>2010-12-01 08:26:00</td>\n",
       "      <td>3.390</td>\n",
       "      <td>17850.000</td>\n",
       "      <td>United Kingdom</td>\n",
       "      <td>20.340</td>\n",
       "    </tr>\n",
       "    <tr>\n",
       "      <th>4</th>\n",
       "      <td>536365</td>\n",
       "      <td>84029E</td>\n",
       "      <td>RED WOOLLY HOTTIE WHITE HEART.</td>\n",
       "      <td>6</td>\n",
       "      <td>2010-12-01 08:26:00</td>\n",
       "      <td>3.390</td>\n",
       "      <td>17850.000</td>\n",
       "      <td>United Kingdom</td>\n",
       "      <td>20.340</td>\n",
       "    </tr>\n",
       "  </tbody>\n",
       "</table>\n",
       "</div>"
      ],
      "text/plain": [
       "  InvoiceNo StockCode                          Description  Quantity  \\\n",
       "0    536365    85123A   WHITE HANGING HEART T-LIGHT HOLDER         6   \n",
       "1    536365     71053                  WHITE METAL LANTERN         6   \n",
       "2    536365    84406B       CREAM CUPID HEARTS COAT HANGER         8   \n",
       "3    536365    84029G  KNITTED UNION FLAG HOT WATER BOTTLE         6   \n",
       "4    536365    84029E       RED WOOLLY HOTTIE WHITE HEART.         6   \n",
       "\n",
       "          InvoiceDate  UnitPrice  CustomerID         Country  Total_Price  \n",
       "0 2010-12-01 08:26:00      2.550   17850.000  United Kingdom       15.300  \n",
       "1 2010-12-01 08:26:00      3.390   17850.000  United Kingdom       20.340  \n",
       "2 2010-12-01 08:26:00      2.750   17850.000  United Kingdom       22.000  \n",
       "3 2010-12-01 08:26:00      3.390   17850.000  United Kingdom       20.340  \n",
       "4 2010-12-01 08:26:00      3.390   17850.000  United Kingdom       20.340  "
      ]
     },
     "execution_count": 91,
     "metadata": {},
     "output_type": "execute_result"
    }
   ],
   "source": [
    "df1.head()"
   ]
  },
  {
   "cell_type": "code",
   "execution_count": 92,
   "metadata": {
    "id": "VISxZ3Ixiqa8"
   },
   "outputs": [
    {
     "data": {
      "text/plain": [
       "Country\n",
       "United Kingdom         7285024.644\n",
       "Netherlands             285446.340\n",
       "EIRE                    265262.460\n",
       "Germany                 228678.400\n",
       "France                  208934.310\n",
       "Australia               138453.810\n",
       "Spain                    61558.560\n",
       "Switzerland              56443.950\n",
       "Belgium                  41196.340\n",
       "Sweden                   38367.830\n",
       "Japan                    37416.370\n",
       "Norway                   36165.440\n",
       "Portugal                 33375.840\n",
       "Finland                  22546.080\n",
       "Singapore                21279.290\n",
       "Channel Islands          20440.540\n",
       "Denmark                  18955.340\n",
       "Italy                    17483.240\n",
       "Cyprus                   13502.850\n",
       "Austria                  10198.680\n",
       "Poland                    7334.650\n",
       "Israel                    7215.840\n",
       "Greece                    4760.520\n",
       "Iceland                   4310.000\n",
       "Canada                    3666.380\n",
       "USA                       3580.390\n",
       "Malta                     2725.590\n",
       "Unspecified               2660.770\n",
       "United Arab Emirates      1902.280\n",
       "Lebanon                   1693.880\n",
       "Lithuania                 1661.060\n",
       "European Community        1300.250\n",
       "Brazil                    1143.600\n",
       "RSA                       1002.310\n",
       "Czech Republic             826.740\n",
       "Bahrain                    548.400\n",
       "Saudi Arabia               145.920\n",
       "Name: Total_Price, dtype: float64"
      ]
     },
     "execution_count": 92,
     "metadata": {},
     "output_type": "execute_result"
    }
   ],
   "source": [
    "df1.groupby('Country')['Total_Price'].sum().sort_values(ascending = False)"
   ]
  },
  {
   "cell_type": "markdown",
   "metadata": {
    "id": "qk64qtEliqa8"
   },
   "source": [
    "2. Visualize number of customer per country"
   ]
  },
  {
   "cell_type": "code",
   "execution_count": 109,
   "metadata": {},
   "outputs": [
    {
     "data": {
      "text/plain": [
       "<AxesSubplot:ylabel='Country'>"
      ]
     },
     "execution_count": 109,
     "metadata": {},
     "output_type": "execute_result"
    },
    {
     "data": {
      "image/png": "[encoded data removed]",
      "text/plain": [
       "<Figure size 864x720 with 1 Axes>"
      ]
     },
     "metadata": {},
     "output_type": "display_data"
    }
   ],
   "source": [
    "xx =df1.groupby(['Country'])['CustomerID'].nunique().sort_values(ascending=False)\n",
    "plt.figure(figsize=(12,10))\n",
    "sns.barplot(xx.values,xx.index)\n"
   ]
  },
  {
   "cell_type": "markdown",
   "metadata": {
    "id": "2TD66fT3iqa8"
   },
   "source": [
    "3. Visualize total cost per country"
   ]
  },
  {
   "cell_type": "code",
   "execution_count": 110,
   "metadata": {
    "id": "5i0nVOggiqa8"
   },
   "outputs": [
    {
     "data": {
      "text/plain": [
       "<AxesSubplot:ylabel='Country'>"
      ]
     },
     "execution_count": 110,
     "metadata": {},
     "output_type": "execute_result"
    },
    {
     "data": {
      "image/png": "[encoded data removed]",
      "text/plain": [
       "<Figure size 864x720 with 1 Axes>"
      ]
     },
     "metadata": {},
     "output_type": "display_data"
    }
   ],
   "source": [
    "xx =df1.groupby(['Country'])['Total_Price'].sum().sort_values(ascending=False)\n",
    "plt.figure(figsize=(12,10))\n",
    "sns.barplot(xx.values,xx.index)\n"
   ]
  },
  {
   "cell_type": "markdown",
   "metadata": {
    "id": "hwfJuBVCQGWR"
   },
   "source": [
    "#### The UK not only has the most sales revenue, but also the most customers. Since the majority of this data set contains orders from the UK, we can explore the UK market further by finding out what products the customers buy together and any other buying behaviors to improve our sales and targeting strategy."
   ]
  },
  {
   "cell_type": "code",
   "execution_count": null,
   "metadata": {
    "id": "LlyhW9eXiqa9"
   },
   "outputs": [],
   "source": []
  },
  {
   "cell_type": "markdown",
   "metadata": {
    "id": "7A25nnqIQGWR"
   },
   "source": [
    "### vii. Explore the UK Market\n"
   ]
  },
  {
   "cell_type": "markdown",
   "metadata": {
    "id": "wtWchB1Ziqa9"
   },
   "source": [
    "1. Create df_uk DataFrame"
   ]
  },
  {
   "cell_type": "code",
   "execution_count": 111,
   "metadata": {
    "id": "dsdH3cuZiqa9"
   },
   "outputs": [],
   "source": [
    "df_uk=df1[df1.Country=='United Kingdom']\n"
   ]
  },
  {
   "cell_type": "markdown",
   "metadata": {
    "id": "is5kus2bQGWT"
   },
   "source": [
    "2. What are the most popular products that are bought in the UK?"
   ]
  },
  {
   "cell_type": "code",
   "execution_count": 117,
   "metadata": {
    "id": "sCN56amLiqa9",
    "scrolled": false
   },
   "outputs": [
    {
     "data": {
      "text/html": [
       "<div>\n",
       "<style scoped>\n",
       "    .dataframe tbody tr th:only-of-type {\n",
       "        vertical-align: middle;\n",
       "    }\n",
       "\n",
       "    .dataframe tbody tr th {\n",
       "        vertical-align: top;\n",
       "    }\n",
       "\n",
       "    .dataframe thead th {\n",
       "        text-align: right;\n",
       "    }\n",
       "</style>\n",
       "<table border=\"1\" class=\"dataframe\">\n",
       "  <thead>\n",
       "    <tr style=\"text-align: right;\">\n",
       "      <th></th>\n",
       "      <th></th>\n",
       "      <th>Quantity</th>\n",
       "    </tr>\n",
       "    <tr>\n",
       "      <th>StockCode</th>\n",
       "      <th>Description</th>\n",
       "      <th></th>\n",
       "    </tr>\n",
       "  </thead>\n",
       "  <tbody>\n",
       "    <tr>\n",
       "      <th>23843</th>\n",
       "      <th>PAPER CRAFT , LITTLE BIRDIE</th>\n",
       "      <td>80995</td>\n",
       "    </tr>\n",
       "    <tr>\n",
       "      <th>23166</th>\n",
       "      <th>MEDIUM CERAMIC TOP STORAGE JAR</th>\n",
       "      <td>76919</td>\n",
       "    </tr>\n",
       "    <tr>\n",
       "      <th>84077</th>\n",
       "      <th>WORLD WAR 2 GLIDERS ASSTD DESIGNS</th>\n",
       "      <td>49086</td>\n",
       "    </tr>\n",
       "    <tr>\n",
       "      <th>85099B</th>\n",
       "      <th>JUMBO BAG RED RETROSPOT</th>\n",
       "      <td>41878</td>\n",
       "    </tr>\n",
       "    <tr>\n",
       "      <th>85123A</th>\n",
       "      <th>WHITE HANGING HEART T-LIGHT HOLDER</th>\n",
       "      <td>34630</td>\n",
       "    </tr>\n",
       "  </tbody>\n",
       "</table>\n",
       "</div>"
      ],
      "text/plain": [
       "                                              Quantity\n",
       "StockCode Description                                 \n",
       "23843     PAPER CRAFT , LITTLE BIRDIE            80995\n",
       "23166     MEDIUM CERAMIC TOP STORAGE JAR         76919\n",
       "84077     WORLD WAR 2 GLIDERS ASSTD DESIGNS      49086\n",
       "85099B    JUMBO BAG RED RETROSPOT                41878\n",
       "85123A    WHITE HANGING HEART T-LIGHT HOLDER     34630"
      ]
     },
     "execution_count": 117,
     "metadata": {},
     "output_type": "execute_result"
    }
   ],
   "source": [
    "df_uk.groupby(['StockCode','Description'])[['Quantity']].sum().sort_values(by='Quantity',ascending=False).head()\n",
    "#paper craft, little birdie"
   ]
  },
  {
   "cell_type": "markdown",
   "metadata": {
    "id": "LHbqJD7bQGWU"
   },
   "source": [
    "### We will continue analyzing the UK transactions with customer segmentation."
   ]
  },
  {
   "cell_type": "markdown",
   "metadata": {
    "id": "MAtzWvugQGWV"
   },
   "source": [
    "# 2. RFM Analysis"
   ]
  },
  {
   "cell_type": "markdown",
   "metadata": {
    "id": "v5uUAUQpQGWV"
   },
   "source": [
    "In the age of the internet and e-commerce, companies that do not expand their businesses online or utilize digital tools to reach their customers will run into issues like scalability and a lack of digital precsence. An important marketing strategy e-commerce businesses use for analyzing and predicting customer value is customer segmentation. Customer data is used to sort customers into group based on their behaviors and preferences.\n",
    "\n",
    "**[RFM](https://www.putler.com/rfm-analysis/) (Recency, Frequency, Monetary) Analysis** is a customer segmentation technique for analyzing customer value based on past buying behavior. RFM analysis was first used by the direct mail industry more than four decades ago, yet it is still an effective way to optimize your marketing.\n",
    "<br>\n",
    "<br>\n",
    "Our goal in this Notebook is to cluster the customers in our data set to:\n",
    " - Recognize who are our most valuable customers\n",
    " - Increase revenue\n",
    " - Increase customer retention\n",
    " - Learn more about the trends and behaviors of our customers\n",
    " - Define customers that are at risk\n",
    "\n",
    "We will start with **RFM Analysis** and then compliment our findings with predictive analysis using **K-Means Clustering Algorithms.**\n",
    "\n",
    "- RECENCY (R): Time since last purchase\n",
    "- FREQUENCY (F): Total number of purchases\n",
    "- MONETARY VALUE (M): Total monetary value\n",
    "\n",
    "\n",
    "\n",
    "\n",
    "Benefits of RFM Analysis\n",
    "\n",
    "- Increased customer retention\n",
    "- Increased response rate\n",
    "- Increased conversion rate\n",
    "- Increased revenue\n",
    "\n",
    "RFM Analysis answers the following questions:\n",
    " - Who are our best customers?\n",
    " - Who has the potential to be converted into more profitable customers?\n",
    " - Which customers do we need to retain?\n",
    " - Which group of customers is most likely to respond to our marketing campaign?\n",
    " "
   ]
  },
  {
   "cell_type": "markdown",
   "metadata": {
    "id": "zX47_J8OQGWV"
   },
   "source": [
    "### i. Import Libraries"
   ]
  },
  {
   "cell_type": "code",
   "execution_count": 119,
   "metadata": {
    "id": "MOD15BxHiqa-"
   },
   "outputs": [],
   "source": [
    "import datetime as dt\n",
    "from datetime import timedelta\n"
   ]
  },
  {
   "cell_type": "markdown",
   "metadata": {
    "id": "9rYM4MJsQGWW"
   },
   "source": [
    "### ii. Review df_uk DataFrame"
   ]
  },
  {
   "cell_type": "code",
   "execution_count": 122,
   "metadata": {
    "id": "oQHyAJNeiqa-",
    "scrolled": true
   },
   "outputs": [
    {
     "name": "stdout",
     "output_type": "stream",
     "text": [
      "<class 'pandas.core.frame.DataFrame'>\n",
      "Int64Index: 349227 entries, 0 to 541893\n",
      "Data columns (total 9 columns):\n",
      " #   Column       Non-Null Count   Dtype         \n",
      "---  ------       --------------   -----         \n",
      " 0   InvoiceNo    349227 non-null  object        \n",
      " 1   StockCode    349227 non-null  object        \n",
      " 2   Description  349227 non-null  object        \n",
      " 3   Quantity     349227 non-null  int64         \n",
      " 4   InvoiceDate  349227 non-null  datetime64[ns]\n",
      " 5   UnitPrice    349227 non-null  float64       \n",
      " 6   CustomerID   349227 non-null  float64       \n",
      " 7   Country      349227 non-null  object        \n",
      " 8   Total_Price  349227 non-null  float64       \n",
      "dtypes: datetime64[ns](1), float64(3), int64(1), object(4)\n",
      "memory usage: 26.6+ MB\n"
     ]
    }
   ],
   "source": [
    "df_uk.info()"
   ]
  },
  {
   "cell_type": "code",
   "execution_count": 123,
   "metadata": {},
   "outputs": [
    {
     "data": {
      "text/plain": [
       "(349227, 9)"
      ]
     },
     "execution_count": 123,
     "metadata": {},
     "output_type": "execute_result"
    }
   ],
   "source": [
    "df_uk.shape"
   ]
  },
  {
   "cell_type": "markdown",
   "metadata": {
    "id": "MvfCcPLgQGWa"
   },
   "source": [
    "### iii. Recency: Days since last purchase\n",
    "To calculate the recency values, follow these steps in order:\n",
    "\n",
    "1. To calculate recency, we need to choose a date as a point of reference to evaluate how many days ago was the customer's last purchase.\n",
    "2. Create a new column called Date which contains the invoice date without the timestamp\n",
    "3. Group by CustomerID and check the last date of purchase\n",
    "4. Calculate the days since last purchase\n",
    "5. Drop Last_Purchase_Date since we don't need it anymore\n",
    "6. Plot RFM distributions"
   ]
  },
  {
   "cell_type": "markdown",
   "metadata": {
    "id": "b7Gzn6r6QGWb"
   },
   "source": [
    "1. Choose a date as a point of reference to evaluate how many days ago was the customer's last purchase."
   ]
  },
  {
   "cell_type": "code",
   "execution_count": 127,
   "metadata": {
    "id": "DwWODVSZiqa-"
   },
   "outputs": [],
   "source": [
    "df_uk['InvoiceDate' ]= df_uk.InvoiceDate.dt.date"
   ]
  },
  {
   "cell_type": "code",
   "execution_count": 128,
   "metadata": {
    "scrolled": true
   },
   "outputs": [
    {
     "data": {
      "text/html": [
       "<div>\n",
       "<style scoped>\n",
       "    .dataframe tbody tr th:only-of-type {\n",
       "        vertical-align: middle;\n",
       "    }\n",
       "\n",
       "    .dataframe tbody tr th {\n",
       "        vertical-align: top;\n",
       "    }\n",
       "\n",
       "    .dataframe thead th {\n",
       "        text-align: right;\n",
       "    }\n",
       "</style>\n",
       "<table border=\"1\" class=\"dataframe\">\n",
       "  <thead>\n",
       "    <tr style=\"text-align: right;\">\n",
       "      <th></th>\n",
       "      <th>InvoiceNo</th>\n",
       "      <th>StockCode</th>\n",
       "      <th>Description</th>\n",
       "      <th>Quantity</th>\n",
       "      <th>InvoiceDate</th>\n",
       "      <th>UnitPrice</th>\n",
       "      <th>CustomerID</th>\n",
       "      <th>Country</th>\n",
       "      <th>Total_Price</th>\n",
       "    </tr>\n",
       "  </thead>\n",
       "  <tbody>\n",
       "    <tr>\n",
       "      <th>0</th>\n",
       "      <td>536365</td>\n",
       "      <td>85123A</td>\n",
       "      <td>WHITE HANGING HEART T-LIGHT HOLDER</td>\n",
       "      <td>6</td>\n",
       "      <td>2010-12-01</td>\n",
       "      <td>2.550</td>\n",
       "      <td>17850.000</td>\n",
       "      <td>United Kingdom</td>\n",
       "      <td>15.300</td>\n",
       "    </tr>\n",
       "    <tr>\n",
       "      <th>1</th>\n",
       "      <td>536365</td>\n",
       "      <td>71053</td>\n",
       "      <td>WHITE METAL LANTERN</td>\n",
       "      <td>6</td>\n",
       "      <td>2010-12-01</td>\n",
       "      <td>3.390</td>\n",
       "      <td>17850.000</td>\n",
       "      <td>United Kingdom</td>\n",
       "      <td>20.340</td>\n",
       "    </tr>\n",
       "    <tr>\n",
       "      <th>2</th>\n",
       "      <td>536365</td>\n",
       "      <td>84406B</td>\n",
       "      <td>CREAM CUPID HEARTS COAT HANGER</td>\n",
       "      <td>8</td>\n",
       "      <td>2010-12-01</td>\n",
       "      <td>2.750</td>\n",
       "      <td>17850.000</td>\n",
       "      <td>United Kingdom</td>\n",
       "      <td>22.000</td>\n",
       "    </tr>\n",
       "    <tr>\n",
       "      <th>3</th>\n",
       "      <td>536365</td>\n",
       "      <td>84029G</td>\n",
       "      <td>KNITTED UNION FLAG HOT WATER BOTTLE</td>\n",
       "      <td>6</td>\n",
       "      <td>2010-12-01</td>\n",
       "      <td>3.390</td>\n",
       "      <td>17850.000</td>\n",
       "      <td>United Kingdom</td>\n",
       "      <td>20.340</td>\n",
       "    </tr>\n",
       "    <tr>\n",
       "      <th>4</th>\n",
       "      <td>536365</td>\n",
       "      <td>84029E</td>\n",
       "      <td>RED WOOLLY HOTTIE WHITE HEART.</td>\n",
       "      <td>6</td>\n",
       "      <td>2010-12-01</td>\n",
       "      <td>3.390</td>\n",
       "      <td>17850.000</td>\n",
       "      <td>United Kingdom</td>\n",
       "      <td>20.340</td>\n",
       "    </tr>\n",
       "    <tr>\n",
       "      <th>...</th>\n",
       "      <td>...</td>\n",
       "      <td>...</td>\n",
       "      <td>...</td>\n",
       "      <td>...</td>\n",
       "      <td>...</td>\n",
       "      <td>...</td>\n",
       "      <td>...</td>\n",
       "      <td>...</td>\n",
       "      <td>...</td>\n",
       "    </tr>\n",
       "    <tr>\n",
       "      <th>541889</th>\n",
       "      <td>581585</td>\n",
       "      <td>22466</td>\n",
       "      <td>FAIRY TALE COTTAGE NIGHT LIGHT</td>\n",
       "      <td>12</td>\n",
       "      <td>2011-12-09</td>\n",
       "      <td>1.950</td>\n",
       "      <td>15804.000</td>\n",
       "      <td>United Kingdom</td>\n",
       "      <td>23.400</td>\n",
       "    </tr>\n",
       "    <tr>\n",
       "      <th>541890</th>\n",
       "      <td>581586</td>\n",
       "      <td>22061</td>\n",
       "      <td>LARGE CAKE STAND  HANGING STRAWBERY</td>\n",
       "      <td>8</td>\n",
       "      <td>2011-12-09</td>\n",
       "      <td>2.950</td>\n",
       "      <td>13113.000</td>\n",
       "      <td>United Kingdom</td>\n",
       "      <td>23.600</td>\n",
       "    </tr>\n",
       "    <tr>\n",
       "      <th>541891</th>\n",
       "      <td>581586</td>\n",
       "      <td>23275</td>\n",
       "      <td>SET OF 3 HANGING OWLS OLLIE BEAK</td>\n",
       "      <td>24</td>\n",
       "      <td>2011-12-09</td>\n",
       "      <td>1.250</td>\n",
       "      <td>13113.000</td>\n",
       "      <td>United Kingdom</td>\n",
       "      <td>30.000</td>\n",
       "    </tr>\n",
       "    <tr>\n",
       "      <th>541892</th>\n",
       "      <td>581586</td>\n",
       "      <td>21217</td>\n",
       "      <td>RED RETROSPOT ROUND CAKE TINS</td>\n",
       "      <td>24</td>\n",
       "      <td>2011-12-09</td>\n",
       "      <td>8.950</td>\n",
       "      <td>13113.000</td>\n",
       "      <td>United Kingdom</td>\n",
       "      <td>214.800</td>\n",
       "    </tr>\n",
       "    <tr>\n",
       "      <th>541893</th>\n",
       "      <td>581586</td>\n",
       "      <td>20685</td>\n",
       "      <td>DOORMAT RED RETROSPOT</td>\n",
       "      <td>10</td>\n",
       "      <td>2011-12-09</td>\n",
       "      <td>7.080</td>\n",
       "      <td>13113.000</td>\n",
       "      <td>United Kingdom</td>\n",
       "      <td>70.800</td>\n",
       "    </tr>\n",
       "  </tbody>\n",
       "</table>\n",
       "<p>349227 rows × 9 columns</p>\n",
       "</div>"
      ],
      "text/plain": [
       "       InvoiceNo StockCode                          Description  Quantity  \\\n",
       "0         536365    85123A   WHITE HANGING HEART T-LIGHT HOLDER         6   \n",
       "1         536365     71053                  WHITE METAL LANTERN         6   \n",
       "2         536365    84406B       CREAM CUPID HEARTS COAT HANGER         8   \n",
       "3         536365    84029G  KNITTED UNION FLAG HOT WATER BOTTLE         6   \n",
       "4         536365    84029E       RED WOOLLY HOTTIE WHITE HEART.         6   \n",
       "...          ...       ...                                  ...       ...   \n",
       "541889    581585     22466       FAIRY TALE COTTAGE NIGHT LIGHT        12   \n",
       "541890    581586     22061  LARGE CAKE STAND  HANGING STRAWBERY         8   \n",
       "541891    581586     23275     SET OF 3 HANGING OWLS OLLIE BEAK        24   \n",
       "541892    581586     21217        RED RETROSPOT ROUND CAKE TINS        24   \n",
       "541893    581586     20685                DOORMAT RED RETROSPOT        10   \n",
       "\n",
       "       InvoiceDate  UnitPrice  CustomerID         Country  Total_Price  \n",
       "0       2010-12-01      2.550   17850.000  United Kingdom       15.300  \n",
       "1       2010-12-01      3.390   17850.000  United Kingdom       20.340  \n",
       "2       2010-12-01      2.750   17850.000  United Kingdom       22.000  \n",
       "3       2010-12-01      3.390   17850.000  United Kingdom       20.340  \n",
       "4       2010-12-01      3.390   17850.000  United Kingdom       20.340  \n",
       "...            ...        ...         ...             ...          ...  \n",
       "541889  2011-12-09      1.950   15804.000  United Kingdom       23.400  \n",
       "541890  2011-12-09      2.950   13113.000  United Kingdom       23.600  \n",
       "541891  2011-12-09      1.250   13113.000  United Kingdom       30.000  \n",
       "541892  2011-12-09      8.950   13113.000  United Kingdom      214.800  \n",
       "541893  2011-12-09      7.080   13113.000  United Kingdom       70.800  \n",
       "\n",
       "[349227 rows x 9 columns]"
      ]
     },
     "execution_count": 128,
     "metadata": {},
     "output_type": "execute_result"
    }
   ],
   "source": [
    "df_uk"
   ]
  },
  {
   "cell_type": "code",
   "execution_count": 129,
   "metadata": {},
   "outputs": [
    {
     "data": {
      "text/plain": [
       "datetime.date(2011, 12, 9)"
      ]
     },
     "execution_count": 129,
     "metadata": {},
     "output_type": "execute_result"
    }
   ],
   "source": [
    "df_uk['InvoiceDate'].max()"
   ]
  },
  {
   "cell_type": "code",
   "execution_count": 130,
   "metadata": {},
   "outputs": [],
   "source": [
    "today_date = dt.datetime(2011, 12, 9)\n"
   ]
  },
  {
   "cell_type": "code",
   "execution_count": null,
   "metadata": {},
   "outputs": [],
   "source": []
  },
  {
   "cell_type": "markdown",
   "metadata": {
    "id": "Ge34PCT0iqa-"
   },
   "source": [
    "2. Create a new column called Date which contains the invoice date without the timestamp"
   ]
  },
  {
   "cell_type": "code",
   "execution_count": null,
   "metadata": {
    "id": "xsaFUydXiqa_"
   },
   "outputs": [],
   "source": []
  },
  {
   "cell_type": "markdown",
   "metadata": {
    "id": "1KJzP5Ldiqa_"
   },
   "source": [
    "3. Group by CustomerID and check the last date of purchase"
   ]
  },
  {
   "cell_type": "code",
   "execution_count": 131,
   "metadata": {
    "id": "x8kMt-Uyiqa_",
    "scrolled": false
   },
   "outputs": [
    {
     "data": {
      "text/plain": [
       "CustomerID\n",
       "12346.000    2011-01-18\n",
       "12747.000    2011-12-07\n",
       "12748.000    2011-12-09\n",
       "12749.000    2011-12-06\n",
       "12820.000    2011-12-06\n",
       "                ...    \n",
       "18280.000    2011-03-07\n",
       "18281.000    2011-06-12\n",
       "18282.000    2011-12-02\n",
       "18283.000    2011-12-06\n",
       "18287.000    2011-10-28\n",
       "Name: InvoiceDate, Length: 3921, dtype: object"
      ]
     },
     "execution_count": 131,
     "metadata": {},
     "output_type": "execute_result"
    }
   ],
   "source": [
    "df_uk.groupby('CustomerID')['InvoiceDate'].max()"
   ]
  },
  {
   "cell_type": "markdown",
   "metadata": {
    "id": "1Zxs1mzPiqa_"
   },
   "source": [
    "4. Calculate the days since last purchase"
   ]
  },
  {
   "cell_type": "code",
   "execution_count": null,
   "metadata": {},
   "outputs": [],
   "source": []
  },
  {
   "cell_type": "markdown",
   "metadata": {
    "id": "yAuMSkfsiqa_"
   },
   "source": [
    "5. Drop Last_Purchase_Date since we don't need it anymore"
   ]
  },
  {
   "cell_type": "code",
   "execution_count": null,
   "metadata": {
    "id": "4bNmKqHNiqa_"
   },
   "outputs": [],
   "source": []
  },
  {
   "cell_type": "markdown",
   "metadata": {
    "id": "IB9a0AL9iqa_"
   },
   "source": [
    "6. Plot RFM distributions"
   ]
  },
  {
   "cell_type": "code",
   "execution_count": null,
   "metadata": {
    "id": "c8e-QiwRiqa_"
   },
   "outputs": [],
   "source": []
  },
  {
   "cell_type": "markdown",
   "metadata": {
    "id": "MAjKZD0KQGWg"
   },
   "source": [
    "### iv. Frequency: Number of purchases\n",
    "\n",
    "To calculate how many times a customer purchased something, we need to count how many invoices each customer has. To calculate the frequency values, follow these steps in order:"
   ]
  },
  {
   "cell_type": "markdown",
   "metadata": {
    "id": "TDoNslseiqbA"
   },
   "source": [
    "1. Make a copy of df_uk and drop duplicates"
   ]
  },
  {
   "cell_type": "code",
   "execution_count": null,
   "metadata": {
    "id": "6gk2gokFiqbA"
   },
   "outputs": [],
   "source": []
  },
  {
   "cell_type": "markdown",
   "metadata": {
    "id": "7KrnuXrLiqbA"
   },
   "source": [
    "2. Calculate the frequency of purchases"
   ]
  },
  {
   "cell_type": "code",
   "execution_count": null,
   "metadata": {
    "id": "1LTM_cxpiqbA"
   },
   "outputs": [],
   "source": []
  },
  {
   "cell_type": "markdown",
   "metadata": {
    "id": "V9NNBCNgiqbA"
   },
   "source": [
    "3. Plot RFM distributions"
   ]
  },
  {
   "cell_type": "code",
   "execution_count": null,
   "metadata": {
    "id": "yUtZAHu1iqbA"
   },
   "outputs": [],
   "source": []
  },
  {
   "cell_type": "markdown",
   "metadata": {
    "id": "wUY3gKjQQGWh"
   },
   "source": [
    "### v. Monetary: Total amount of money spent\n",
    "\n",
    "The monetary value is calculated by adding together the cost of the customers' purchases.\n"
   ]
  },
  {
   "cell_type": "markdown",
   "metadata": {
    "id": "5_4_QLWtiqbA"
   },
   "source": [
    "1. Calculate sum total cost by customers and named \"Monetary\""
   ]
  },
  {
   "cell_type": "code",
   "execution_count": null,
   "metadata": {
    "id": "bilKBqvIiqbB"
   },
   "outputs": [],
   "source": []
  },
  {
   "cell_type": "markdown",
   "metadata": {
    "id": "dYsaCPRDiqbB"
   },
   "source": [
    "2. Plot RFM distributions"
   ]
  },
  {
   "cell_type": "code",
   "execution_count": null,
   "metadata": {
    "id": "Sd41fD67iqbB"
   },
   "outputs": [],
   "source": []
  },
  {
   "cell_type": "markdown",
   "metadata": {
    "id": "SeaecPkSQGWj"
   },
   "source": [
    "### vi. Create RFM Table\n",
    "Merge the recency, frequency and motetary dataframes"
   ]
  },
  {
   "cell_type": "code",
   "execution_count": null,
   "metadata": {
    "id": "M88KNSbyiqbB"
   },
   "outputs": [],
   "source": []
  },
  {
   "cell_type": "markdown",
   "metadata": {
    "id": "ULWwsxCkQGWl"
   },
   "source": [
    "# 3. Customer Segmentation with RFM Scores"
   ]
  },
  {
   "cell_type": "markdown",
   "metadata": {
    "id": "TZrxUBX4iqbB"
   },
   "source": [
    "Businesses have this ever-lasting urge to understand their customers. The better you understand the customer, the better you serve them, and the higher the financial gain you receive from that customer. Since the dawn of trade, this process of understanding customers for a strategic gain has been there practiced and this task is known majorly as [Customer Segmentation](https://clevertap.com/blog/rfm-analysis/).\n",
    "Well as the name suggests, Customer Segmentation could segment customers according to their precise needs. Some of the common ways of segmenting customers are based on their Recency-Frequency-Monatory values, their demographics like gender, region, country, etc, and some of their business-crafted scores. You will use Recency-Frequency-Monatory values for this case.\n",
    "\n",
    "In this section, you will create an RFM Segmentation Table where you segment your customers by using the RFM table. For example, you can label the best customer as \"Big Spenders\" and the lost customer as \"Lost Customer\"."
   ]
  },
  {
   "cell_type": "markdown",
   "metadata": {
    "id": "anOsOGpfQGWl"
   },
   "source": [
    "## Calculate RFM Scoring\n",
    "\n",
    "The simplest way to create customer segments from an RFM model is by using **Quartiles**. We will assign a score from 1 to 4 to each category (Recency, Frequency, and Monetary) with 4 being the highest/best value. The final RFM score is calculated by combining all RFM values. For Customer Segmentation, you will use the df_rfm data set resulting from the RFM analysis.\n",
    "<br>\n",
    "<br>\n",
    "**Note**: Data can be assigned into more groups for better granularity, but we will use 4 in this case."
   ]
  },
  {
   "cell_type": "markdown",
   "metadata": {
    "id": "WiwXSsP7iqbB"
   },
   "source": [
    "1. Divide the df_rfm into quarters"
   ]
  },
  {
   "cell_type": "code",
   "execution_count": null,
   "metadata": {
    "id": "mFQJGPYHiqbC"
   },
   "outputs": [],
   "source": []
  },
  {
   "cell_type": "markdown",
   "metadata": {
    "id": "KnkzCAf9QGWo"
   },
   "source": [
    "### i. Creating the RFM Segmentation Table\n"
   ]
  },
  {
   "cell_type": "markdown",
   "metadata": {
    "id": "hLIB-z-_iqbC"
   },
   "source": [
    "1. Create two functions, one for Recency and one for Frequency and Monetary. For Recency, customers in the first quarter should be scored as 4, this represents the highest Recency value. Conversely, for Frequency and Monetary, customers in the last quarter should be scored as 4, representing the highest Frequency and Monetary values."
   ]
  },
  {
   "cell_type": "code",
   "execution_count": null,
   "metadata": {
    "id": "SXnW03R8iqbC"
   },
   "outputs": [],
   "source": []
  },
  {
   "cell_type": "markdown",
   "metadata": {
    "id": "tLDK_XeLiqbC"
   },
   "source": [
    "2. Score customers from 1 to 4 by applying the functions you have created. Also create separate score column for each value. "
   ]
  },
  {
   "cell_type": "code",
   "execution_count": null,
   "metadata": {
    "id": "plReZMcQiqbC"
   },
   "outputs": [],
   "source": []
  },
  {
   "cell_type": "markdown",
   "metadata": {
    "id": "JskteCFdQGWq"
   },
   "source": [
    "3. Now that scored each customer, you'll combine the scores for segmentation."
   ]
  },
  {
   "cell_type": "code",
   "execution_count": null,
   "metadata": {
    "id": "ZYfoHF6QiqbC"
   },
   "outputs": [],
   "source": []
  },
  {
   "cell_type": "markdown",
   "metadata": {
    "id": "uWwWeyjPiqbC"
   },
   "source": [
    "4. Define rfm_level function that tags customers by using RFM_Scrores and Create a new variable RFM_Level"
   ]
  },
  {
   "cell_type": "code",
   "execution_count": null,
   "metadata": {
    "id": "mxXk7jFPiqbD"
   },
   "outputs": [],
   "source": []
  },
  {
   "cell_type": "markdown",
   "metadata": {
    "id": "Lq36PiX3iqbD"
   },
   "source": [
    "5. Calculate average values for each RFM_Level, and return a size of each segment "
   ]
  },
  {
   "cell_type": "code",
   "execution_count": null,
   "metadata": {
    "id": "jn5r5P2WiqbD"
   },
   "outputs": [],
   "source": []
  },
  {
   "cell_type": "markdown",
   "metadata": {
    "id": "tuZ5Olo4iqbD"
   },
   "source": [
    "## Plot RFM Segments"
   ]
  },
  {
   "cell_type": "markdown",
   "metadata": {
    "id": "STfELckwiqbD"
   },
   "source": [
    "1. Create your plot and resize it."
   ]
  },
  {
   "cell_type": "code",
   "execution_count": null,
   "metadata": {
    "id": "Oef37q3diqbD"
   },
   "outputs": [],
   "source": []
  },
  {
   "cell_type": "markdown",
   "metadata": {
    "id": "FhOe2bb6QGWu"
   },
   "source": [
    "Using customer segmentation categories found [here](http://www.blastam.com/blog/rfm-analysis-boosts-sales) we can formulate different marketing strategies and approaches for customer engagement for each type of customer.\n",
    "\n",
    "Note: The author in the article scores 1 as the highest and 4 as the lowest"
   ]
  },
  {
   "cell_type": "markdown",
   "metadata": {
    "id": "Te_6gUR5iqbD"
   },
   "source": [
    "2. How many customers do we have in each segment?"
   ]
  },
  {
   "cell_type": "code",
   "execution_count": null,
   "metadata": {
    "id": "Gs4rP-0viqbD"
   },
   "outputs": [],
   "source": []
  },
  {
   "cell_type": "markdown",
   "metadata": {
    "id": "1RwemvLyQGWv"
   },
   "source": [
    "# 3. Applying K-Means Clustering"
   ]
  },
  {
   "cell_type": "markdown",
   "metadata": {
    "id": "h6WZ0PnZQGWv"
   },
   "source": [
    "Now that we have our customers segmented into 6 different categories, we can gain further insight into customer behavior by using predictive models in conjuction with out RFM model.\n",
    "Possible algorithms include **Logistic Regression**, **K-means Clustering**, and **K-nearest Neighbor**. We will go with [K-Means](https://towardsdatascience.com/understanding-k-means-clustering-in-machine-learning-6a6e67336aa1) since we already have our distinct groups determined. K-means has also been widely used for market segmentation and has the advantage of being simple to implement."
   ]
  },
  {
   "cell_type": "markdown",
   "metadata": {
    "id": "IrWIRLkMiqbE"
   },
   "source": [
    "## Data Pre-Processing and Exploring"
   ]
  },
  {
   "cell_type": "code",
   "execution_count": null,
   "metadata": {
    "id": "cLoRGR6NiqbE"
   },
   "outputs": [],
   "source": []
  },
  {
   "cell_type": "markdown",
   "metadata": {
    "id": "-6SGV0xoQGWw"
   },
   "source": [
    "### i. Define and Plot Feature Correlations"
   ]
  },
  {
   "cell_type": "markdown",
   "metadata": {
    "id": "JpMAiWNBiqbE"
   },
   "source": [
    "Create Heatmap and evaluate the results "
   ]
  },
  {
   "cell_type": "code",
   "execution_count": null,
   "metadata": {
    "id": "I6Cv8_EqiqbE"
   },
   "outputs": [],
   "source": []
  },
  {
   "cell_type": "markdown",
   "metadata": {
    "id": "8WhL5MBEQGWy"
   },
   "source": [
    "### ii. Visualize Feature Distributions\n",
    "\n",
    "To get a better understanding of the dataset, you can costruct a scatter matrix of each of the three features in the RFM data."
   ]
  },
  {
   "cell_type": "code",
   "execution_count": null,
   "metadata": {
    "id": "FHE0Vb0KiqbE"
   },
   "outputs": [],
   "source": []
  },
  {
   "cell_type": "markdown",
   "metadata": {
    "id": "Q2RsjzjbQGWz"
   },
   "source": [
    "### iii. Data Normalization"
   ]
  },
  {
   "cell_type": "markdown",
   "metadata": {
    "id": "hXsrPpegiqbF"
   },
   "source": [
    "1. You can use the logarithm method to normalize the values in a column."
   ]
  },
  {
   "cell_type": "code",
   "execution_count": null,
   "metadata": {
    "id": "b-cBU8jxiqbF"
   },
   "outputs": [],
   "source": []
  },
  {
   "cell_type": "markdown",
   "metadata": {
    "id": "fC6dHnqKiqbF"
   },
   "source": [
    "2. Plot normalized data with scatter matrix or pairplot. Also evaluate results."
   ]
  },
  {
   "cell_type": "code",
   "execution_count": null,
   "metadata": {
    "id": "iB9jDUPriqbF"
   },
   "outputs": [],
   "source": []
  },
  {
   "cell_type": "markdown",
   "metadata": {
    "id": "35c0aDixQGW4"
   },
   "source": [
    "## K-Means Implementation\n",
    "\n",
    "For k-means, you have to set k to the number of clusters you want, but figuring out how many clusters is not obvious from the beginning. We will try different cluster numbers and check their [silhouette coefficient](http://scikit-learn.org/stable/auto_examples/cluster/plot_kmeans_silhouette_analysis.html). The silhouette coefficient for a data point measures how similar it is to its assigned cluster from -1 (dissimilar) to 1 (similar). \n",
    "<br>\n",
    "<br>\n",
    "**Note**: K-means is sensitive to initializations because they are critical to qualifty of optima found. Thus, we will use smart initialization called \"Elbow Method\"."
   ]
  },
  {
   "cell_type": "markdown",
   "metadata": {
    "id": "JloMSEeriqbF"
   },
   "source": [
    "### i. Define the Optimal Number of Clusters"
   ]
  },
  {
   "cell_type": "markdown",
   "metadata": {
    "id": "McFq6IWZt5hg"
   },
   "source": [
    "[The Elbow Method](https://en.wikipedia.org/wiki/Elbow_method_(clustering) "
   ]
  },
  {
   "cell_type": "code",
   "execution_count": null,
   "metadata": {
    "id": "2202eo2riqbF"
   },
   "outputs": [],
   "source": []
  },
  {
   "cell_type": "markdown",
   "metadata": {
    "id": "ACT_d0UpwUSC"
   },
   "source": [
    "[Silhouette Coefficient](http://scikit-learn.org/stable/auto_examples/cluster/plot_kmeans_silhouette_analysis.html)"
   ]
  },
  {
   "cell_type": "code",
   "execution_count": null,
   "metadata": {
    "id": "qS4TLbRniqbG"
   },
   "outputs": [],
   "source": []
  },
  {
   "cell_type": "markdown",
   "metadata": {
    "id": "o6dW2MWZiqbG"
   },
   "source": [
    "### ii. Model Fitting"
   ]
  },
  {
   "cell_type": "markdown",
   "metadata": {
    "id": "cXM5ksoPiqbG"
   },
   "source": [
    "Fit the K-Means Algorithm with the optimal number of clusters you decided and save the model to disk."
   ]
  },
  {
   "cell_type": "code",
   "execution_count": null,
   "metadata": {
    "id": "geMuViLniqbG"
   },
   "outputs": [],
   "source": []
  },
  {
   "cell_type": "markdown",
   "metadata": {
    "id": "GqcSwNZTQGW7"
   },
   "source": [
    "### iii. Visualize the Clusters"
   ]
  },
  {
   "cell_type": "markdown",
   "metadata": {
    "id": "Cfx5kzPriqbG"
   },
   "source": [
    "1. Create a scatter plot and select cluster centers"
   ]
  },
  {
   "cell_type": "code",
   "execution_count": null,
   "metadata": {
    "id": "cyrovJB0iqbH"
   },
   "outputs": [],
   "source": []
  },
  {
   "cell_type": "markdown",
   "metadata": {
    "id": "D4sHOvlniqbH"
   },
   "source": [
    "2. Visualize Cluster Id vs Recency, Cluster Id vs Frequency and Cluster Id vs Monetary using Box plot. Also evaluate the results. "
   ]
  },
  {
   "cell_type": "code",
   "execution_count": null,
   "metadata": {
    "id": "lzPl-LXViqbH"
   },
   "outputs": [],
   "source": []
  },
  {
   "cell_type": "markdown",
   "metadata": {
    "id": "yRyku5qJiqbH"
   },
   "source": [
    "### iv. Assign the Label"
   ]
  },
  {
   "cell_type": "code",
   "execution_count": null,
   "metadata": {
    "id": "gVrkisf9iqbH"
   },
   "outputs": [],
   "source": []
  },
  {
   "cell_type": "markdown",
   "metadata": {
    "id": "_DiG6sxS4gWH"
   },
   "source": [
    "**Conclusion**\n",
    "\n",
    "- Cluster 0 : The first cluster belongs to the \"Best Customers\" segment which we saw earlier as they purchase recently (R=4), frequent buyers (F=4), and spent the most (M=4)\n",
    "\n",
    "- Cluster 1 : Second cluster can be interpreted as passer customers as their last purchase is long ago (R<=1),purchased very few (F>=2 & F < 4) and spent little (M>=4 & M < 4).Company has to come up with new strategies to make them permanent members. Low value customers\n",
    "- Cluster 2 : The third cluster is more related to the \"Almost Lost\" segment as they Haven’t purchased for some time(R=1), but used to purchase frequently and spent a lot."
   ]
  },
  {
   "cell_type": "markdown",
   "metadata": {
    "id": "lf4OsPmSQGXA"
   },
   "source": [
    "### v. Conclusion\n",
    "\n",
    "Discuss your final results. Compare your own labels from the Customer Segmentation with the labels found by K-Means."
   ]
  },
  {
   "cell_type": "markdown",
   "metadata": {
    "id": "UFaHgoLoQGXA"
   },
   "source": [
    "How we want to continue this analysis depends on how the business plans to use the results and the level of granularity the business stakeholders want to see in the clusters. We can also ask what range of customer behavior from high to low value customers are the stakeholders interested in exploring. From those answers, various methods of clustering can be used and applied on RFM variable or directly on the transaction data set."
   ]
  },
  {
   "cell_type": "markdown",
   "metadata": {
    "id": "ysCkU1B-iqbI"
   },
   "source": [
    "**Annotation:**\n",
    "\n",
    "Limitations of K-means clustering:\n",
    "\n",
    "1. There is no assurance that it will lead to the global best solution.\n",
    "2. Can't deal with different shapes(not circular) and consider one point's probability of belonging to more than one cluster.\n",
    "\n",
    "These disadvantages of K-means show that for many datasets (especially low-dimensional datasets), it may not perform as well as you might hope."
   ]
  },
  {
   "cell_type": "markdown",
   "metadata": {
    "id": "xiPd_IbnQGVn"
   },
   "source": [
    "# 5. Create Cohort & Conduct Cohort Analysis\n",
    "[Cohort Analysis](https://medium.com/swlh/cohort-analysis-using-python-and-pandas-d2a60f4d0a4d) is specifically useful in analyzing user growth patterns for products. In terms of a product, a cohort can be a group of people with the same sign-up date, the same usage starts month/date, or the same traffic source.\n",
    "Cohort analysis is an analytics method by which these groups can be tracked over time for finding key insights. This analysis can further be used to do customer segmentation and track metrics like retention, churn, and lifetime value.\n",
    "\n",
    "For e-commerce organizations, cohort analysis is a unique opportunity to find out which clients are the most valuable to their business. by performing Cohort analysis you can get the following answers to the following questions:\n",
    "\n",
    "- How much effective was a marketing campaign held in a particular time period?\n",
    "- Did the strategy employ to improve the conversion rates of Customers worked?\n",
    "- Should I focus more on retention rather than acquiring new customers?\n",
    "- Are my customer nurturing strategies effective?\n",
    "- Which marketing channels bring me the best results?\n",
    "- Is there a seasonality pattern in Customer behavior?\n",
    "- Along with various performance measures/metrics for your organization."
   ]
  },
  {
   "cell_type": "markdown",
   "metadata": {
    "id": "xhiYivPrQGVo"
   },
   "source": [
    "Since we will be performing Cohort Analysis based on transaction records of customers, the columns we will be dealing with mainly:\n",
    "- Invoice Data\n",
    "- CustomerID\n",
    "- Price\n",
    "- Quantity\n",
    "\n",
    "The following steps will performed to generate the Cohort Chart of Retention Rate:\n",
    "- Month Extraction from InvioceDate column\n",
    "- Assigning Cohort to Each Transaction\n",
    "- Assigning Cohort Index to each transaction\n",
    "- Calculating number of unique customers in each Group of (ChortDate,Index)\n",
    "- Creating Cohort Table for Retention Rate\n",
    "- Creating the Cohort Chart using the Cohort Table\n",
    "\n",
    "The Detailed information about each step is given below:"
   ]
  },
  {
   "cell_type": "markdown",
   "metadata": {
    "id": "eo0GB_osiqbI"
   },
   "source": [
    "## Future Engineering"
   ]
  },
  {
   "cell_type": "markdown",
   "metadata": {
    "id": "JVwPNjpyQGVo"
   },
   "source": [
    "### i. Extract the Month of the Purchase\n",
    "First we will create a function, which takes any date and returns the formatted date with day value as 1st of the same month and Year."
   ]
  },
  {
   "cell_type": "code",
   "execution_count": null,
   "metadata": {
    "id": "lK1CqlNQiqbI"
   },
   "outputs": [],
   "source": []
  },
  {
   "cell_type": "markdown",
   "metadata": {
    "id": "NQKsM_9IQGVq"
   },
   "source": [
    "Now we will use the function created above to convert all the invoice dates into respective month date format."
   ]
  },
  {
   "cell_type": "code",
   "execution_count": null,
   "metadata": {
    "id": "DL17u0dniqbJ"
   },
   "outputs": [],
   "source": []
  },
  {
   "cell_type": "markdown",
   "metadata": {
    "id": "XPE7kTz2QGVs"
   },
   "source": [
    "### ii. Calculating time offset in Months i.e. Cohort Index:\n",
    "Calculating time offset for each transaction will allows us to report the metrics for each cohort in a comparable fashion.\n",
    "First, you will create 4 variables that capture the integer value of years, months for Invoice and Cohort Date using the get_date_int() function which you'll create it below."
   ]
  },
  {
   "cell_type": "code",
   "execution_count": null,
   "metadata": {
    "id": "1_3aYf4FiqbJ"
   },
   "outputs": [],
   "source": []
  },
  {
   "cell_type": "markdown",
   "metadata": {
    "id": "SGm1eweDQGVu"
   },
   "source": [
    "You will use this function to extract the integer values for Invoice as well as Cohort Date in 3 seperate series for each of the two columns"
   ]
  },
  {
   "cell_type": "code",
   "execution_count": null,
   "metadata": {
    "id": "2wF_ViD_iqbJ"
   },
   "outputs": [],
   "source": []
  },
  {
   "cell_type": "markdown",
   "metadata": {
    "id": "Z9jYVljviqbJ"
   },
   "source": [
    "Use the variables created above to calcualte the difference in days and store them in cohort Index column."
   ]
  },
  {
   "cell_type": "code",
   "execution_count": null,
   "metadata": {
    "id": "wVlAYCbEiqbJ"
   },
   "outputs": [],
   "source": []
  },
  {
   "cell_type": "markdown",
   "metadata": {
    "id": "W-t76CXSQGVw"
   },
   "source": [
    "## Create 1st Cohort: User number & Retention Rate"
   ]
  },
  {
   "cell_type": "markdown",
   "metadata": {
    "id": "bKvUWci9iqbJ"
   },
   "source": [
    "### i. Pivot Cohort and Cohort Retention"
   ]
  },
  {
   "cell_type": "code",
   "execution_count": null,
   "metadata": {
    "id": "U-8HzlZWiqbK"
   },
   "outputs": [],
   "source": []
  },
  {
   "cell_type": "markdown",
   "metadata": {
    "id": "63TIyBY6iqbK"
   },
   "source": [
    "### ii. Visualize analysis of cohort 1 using seaborn and matplotlib modules"
   ]
  },
  {
   "cell_type": "code",
   "execution_count": null,
   "metadata": {
    "id": "SY7mPvCAiqbK"
   },
   "outputs": [],
   "source": []
  },
  {
   "cell_type": "markdown",
   "metadata": {
    "id": "yORYolvqQGV0"
   },
   "source": [
    "## Create the 2nd Cohort: Average Quantity Sold"
   ]
  },
  {
   "cell_type": "markdown",
   "metadata": {
    "id": "Tu1hM3CFiqbK"
   },
   "source": [
    "### i. Pivot Cohort and Cohort Retention"
   ]
  },
  {
   "cell_type": "code",
   "execution_count": null,
   "metadata": {
    "id": "yQ8jlhPEiqbK"
   },
   "outputs": [],
   "source": []
  },
  {
   "cell_type": "markdown",
   "metadata": {
    "id": "F3PJHMS6iqbK"
   },
   "source": [
    "### ii. Visualize analysis of cohort 2 using seaborn and matplotlib modules"
   ]
  },
  {
   "cell_type": "code",
   "execution_count": null,
   "metadata": {
    "id": "9vuHi3wPiqbK"
   },
   "outputs": [],
   "source": []
  },
  {
   "cell_type": "markdown",
   "metadata": {
    "id": "UUoG5yUIQGV3"
   },
   "source": [
    "## Create the 3rd Cohort: Average Sales\n"
   ]
  },
  {
   "cell_type": "markdown",
   "metadata": {
    "id": "EKNS-mO5iqbL"
   },
   "source": [
    "### i. Pivot Cohort and Cohort Retention"
   ]
  },
  {
   "cell_type": "code",
   "execution_count": null,
   "metadata": {
    "id": "t2s-zyWeiqbL"
   },
   "outputs": [],
   "source": []
  },
  {
   "cell_type": "markdown",
   "metadata": {
    "id": "tRGOpeUPiqbL"
   },
   "source": [
    "### ii. Visualize analysis of cohort 3 using seaborn and matplotlib modules"
   ]
  },
  {
   "cell_type": "code",
   "execution_count": null,
   "metadata": {
    "id": "EYkkDncXiqbL"
   },
   "outputs": [],
   "source": []
  },
  {
   "cell_type": "markdown",
   "metadata": {
    "id": "uD9lu1ExQGV5"
   },
   "source": [
    "For e-commerce organisations, cohort analysis is a unique opportunity to find out which clients are the most valuable to their business. by performing Cohort analysis you can get answers to following questions:\n",
    "\n",
    "- How much effective was a marketing campaign held in a particular time period?\n",
    "- Did the strategy employed to improve the conversion rates of Customers worked?\n",
    "- Should I focus more on retention rather than acquiring new customers?\n",
    "- Are my customer nurturing strategies effective?\n",
    "- Which marketing channels bring me the best results?\n",
    "- Is there a seasoanlity pattern in Customer behahiour?"
   ]
  },
  {
   "cell_type": "markdown",
   "metadata": {
    "id": "ZX_Y6S36iqbL"
   },
   "source": [
    "___\n",
    "\n",
    "<p style=\"text-align: center;\"><img src=\"https://docs.google.com/uc?id=1lY0Uj5R04yMY3-ZppPWxqCr5pvBLYPnV\" class=\"img-fluid\" alt=\"CLRSWY\"></p>\n",
    "\n",
    "___"
   ]
  }
 ],
 "metadata": {
  "colab": {
   "collapsed_sections": [
    "lf4OsPmSQGXA"
   ],
   "name": "RFM - Customer Segmentation_Student_V3.ipynb",
   "provenance": [],
   "toc_visible": true
  },
  "kernelspec": {
   "display_name": "Python 3",
   "language": "python",
   "name": "python3"
  },
  "language_info": {
   "codemirror_mode": {
    "name": "ipython",
    "version": 3
   },
   "file_extension": ".py",
   "mimetype": "text/x-python",
   "name": "python",
   "nbconvert_exporter": "python",
   "pygments_lexer": "ipython3",
   "version": "3.8.8"
  }
 },
 "nbformat": 4,
 "nbformat_minor": 1
}
