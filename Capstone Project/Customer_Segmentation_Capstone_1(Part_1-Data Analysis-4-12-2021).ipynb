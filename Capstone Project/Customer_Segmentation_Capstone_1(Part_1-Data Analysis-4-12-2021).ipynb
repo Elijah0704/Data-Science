{
 "cells": [
  {
   "cell_type": "markdown",
   "metadata": {
    "id": "yG6Ti6UOiqav"
   },
   "source": [
    "___\n",
    "\n",
    "<p style=\"text-align: center;\"><img src=\"https://docs.google.com/uc?id=1lY0Uj5R04yMY3-ZppPWxqCr5pvBLYPnV\" class=\"img-fluid\" alt=\"CLRSWY\"></p>\n",
    "\n",
    "___"
   ]
  },
  {
   "cell_type": "markdown",
   "metadata": {
    "id": "M2v-2JDuiqa0"
   },
   "source": [
    "# WELCOME!"
   ]
  },
  {
   "cell_type": "markdown",
   "metadata": {
    "id": "oLS5y2Jqiqa1"
   },
   "source": [
    "Welcome to \"RFM Customer Segmentation & Cohort Analysis Project\". This is the first project of the Capstone Project Series, which consists of 4 different project that contain different scenarios.\n",
    "\n",
    "This is a project which you will learn what is RFM? And how to apply RFM Analysis and Customer Segmentation using K-Means Clustering. Also you will improve your Data Cleaning, Data Visualization and Exploratory Data Analysis capabilities. On the other hand you will create Cohort and Conduct Cohort Analysis. \n",
    "\n",
    "Before diving into the project, please take a look at the determines and project structure.\n",
    "\n",
    "- **NOTE:** This tutorial assumes that you already know the basics of coding in Python and are familiar with the theory behind K-Means Clustering.\n",
    "\n"
   ]
  },
  {
   "cell_type": "markdown",
   "metadata": {
    "id": "1SCOFEfqiqa1"
   },
   "source": [
    "# #Determines\n",
    "\n",
    "Using the [Online Retail dataset](https://archive.ics.uci.edu/ml/datasets/Online+Retail) from the UCI Machine Learning Repository for exploratory data analysis, ***Customer Segmentation***, ***RFM Analysis***, ***K-Means Clustering*** and ***Cohort Analysis***.\n",
    "\n",
    "This is a transnational data set which contains all the transactions occurring between 01/12/2010 and 09/12/2011 for a UK-based and registered non-store online retail. The company mainly sells unique all-occasion gifts. Many customers of the company are wholesalers.\n",
    "\n",
    "Feature Information:\n",
    "\n",
    "**InvoiceNo**: Invoice number. *Nominal*, a 6-digit integral number uniquely assigned to each transaction. If this code starts with letter 'c', it indicates a cancellation. \n",
    "<br>\n",
    "**StockCode**: Product (item) code. *Nominal*, a 5-digit integral number uniquely assigned to each distinct product.\n",
    "<br>\n",
    "**Description**: Product (item) name. *Nominal*. \n",
    "<br>\n",
    "**Quantity**: The quantities of each product (item) per transaction. *Numeric*.\n",
    "<br>\n",
    "**InvoiceDate**: Invoice Date and time. *Numeric*, the day and time when each transaction was generated.\n",
    "<br>\n",
    "**UnitPrice**: Unit price. *Numeric*, Product price per unit in sterling.\n",
    "<br>\n",
    "**CustomerID**: Customer number. *Nominal*, a 5-digit integral number uniquely assigned to each customer.\n",
    "<br>\n",
    "**Country**: Country name. *Nominal*, the name of the country where each customer resides.\n",
    "\n",
    "\n",
    "---\n",
    "\n",
    "\n",
    "First of all, to observe the structure of the data and missing values, you can use exploratory data analysis and data visualization techniques.\n",
    "\n",
    "You must do descriptive analysis. Because you must understand the relationship of the features to each other and clear the noise and missing values in the data. After that, the data set will be ready for RFM analysis.\n",
    "\n",
    "Before starting the RFM Analysis, you will be asked to do some analysis regarding the distribution of *Orders*, *Customers* and *Countries*. These analyzes will help the company develop its sales policies and contribute to the correct use of resources.\n",
    "\n",
    "You will notice that the UK not only has the most sales revenue, but also the most customers. So you will continue to analyze only UK transactions in the next RFM Analysis, Customer Segmentation and K-Means Clustering topics.\n",
    "\n",
    "Next, you will begin RFM Analysis, a customer segmentation technique based on customers' past purchasing behavior. \n",
    "\n",
    "By using RFM Analysis, you can enable companies to develop different approaches to different customer segments so that they can get to know their customers better, observe trends better, and increase customer retention and sales revenues.\n",
    "\n",
    "You will calculate the Recency, Frequency and Monetary values of the customers in the RFM Analysis you will make using the data consisting of UK transactions. Ultimately, you have to create an RFM table containing these values.\n",
    "\n",
    "In the Customer Segmentation section, you will create an RFM Segmentation Table where you segment your customers by using the RFM table. For example, you can label the best customer as \"Big Spenders\" and the lost customer as \"Lost Customer\".\n",
    "\n",
    "We will segment the customers ourselves based on their recency, frequency, and monetary values. But can an **unsupervised learning** model do this better for us? You will use the K-Means algorithm to find the answer to this question. Then you will compare the classification made by the algorithm with the classification you have made yourself.\n",
    "\n",
    "Before applying K-Means Clustering, you should do data pre-processing. In this context, it will be useful to examine feature correlations and distributions. In addition, the data you apply for K-Means should be normalized.\n",
    "\n",
    "On the other hand, you should inform the K-means algorithm about the number of clusters it will predict. You will also try the *** Elbow method *** and *** Silhouette Analysis *** to find the optimum number of clusters.\n",
    "\n",
    "After the above operations, you will have made cluster estimation with K-Means. You should visualize the cluster distribution by using a scatter plot. You can observe the properties of the resulting clusters with the help of the boxplot. Thus you will be able to tag clusters and interpret results.\n",
    "\n",
    "Finally, you will do Cohort Analysis with the data you used at the beginning, regardless of the analysis you have done before. Cohort analysis is a subset of behavioral analytics that takes the user data and breaks them into related groups for analysis. This analysis can further be used to do customer segmentation and track metrics like retention, churn, and lifetime value.\n"
   ]
  },
  {
   "cell_type": "markdown",
   "metadata": {
    "id": "KQ62QseViqa2"
   },
   "source": [
    "# #Project Structures\n",
    "\n",
    "- Data Cleaning & Exploratory Data Analysis\n",
    "- RFM Analysis\n",
    "- Customer Segmentation\n",
    "- Applying K-Means Clustering\n",
    "- Create Cohort and Conduct Cohort Analysis"
   ]
  },
  {
   "cell_type": "markdown",
   "metadata": {
    "id": "wsPQ1tUwiqa2"
   },
   "source": [
    "# #Tasks\n",
    "\n",
    "#### 1. Data Cleaning & Exploratory Data Analysis\n",
    "\n",
    "- Import Modules, Load Data & Data Review\n",
    "- Follow the Steps Below\n",
    "\n",
    "    *i. Take a look at relationships between InvoiceNo, Quantity and UnitPrice columns.*\n",
    "    \n",
    "    *ii. What does the letter \"C\" in the invoiceno column mean?*\n",
    "    \n",
    "    *iii. Handling Missing Values*\n",
    "    \n",
    "    *iv. Clean the Data from the Noise and Missing Values*\n",
    "    \n",
    "    *v. Explore the Orders*\n",
    "    \n",
    "    *vi. Explore Customers by Country*\n",
    "    \n",
    "    *vii. Explore the UK Market*\n",
    "    \n",
    "#### 2. RFM Analysis\n",
    "\n",
    "- Follow the steps below\n",
    "\n",
    "   *i. Import Libraries*\n",
    "   \n",
    "   *ii. Review \"df_uk\" DataFrame (the df_uk what you create at the end of the Task 1)*\n",
    "   \n",
    "   *iii. Calculate Recency*\n",
    "   \n",
    "   *iv. Calculate Frequency*\n",
    "   \n",
    "   *v. Calculate Monetary Values*\n",
    "   \n",
    "   *vi. Create RFM Table*\n",
    "\n",
    "#### 3. Customer Segmentation with RFM Scores\n",
    "- Calculate RFM Scoring\n",
    "\n",
    "    *i. Creating the RFM Segmentation Table*\n",
    " \n",
    "- Plot RFM Segments\n",
    "\n",
    "#### 4. Applying K-Means Clustering\n",
    "- Data Pre-Processing and Exploring\n",
    "\n",
    "    *i. Define and Plot Feature Correlations*\n",
    " \n",
    "    *ii. Visualize Feature Distributions*\n",
    " \n",
    "    *iii. Data Normalization*\n",
    "\n",
    "- K-Means Implementation\n",
    "\n",
    "    *i. Define Optimal Cluster Number (K) by using \"Elbow Method\" and \"Silhouette Analysis\"*\n",
    " \n",
    "    *ii. Visualize the Clusters*\n",
    " \n",
    "    *iii. Assign the label*\n",
    " \n",
    "    *iv. Conclusion*\n",
    " \n",
    "#### 5. Create Cohort and Conduct Cohort Analysis\n",
    "- Future Engineering\n",
    "\n",
    "    *i. Extract the Month of the Purchase*\n",
    " \n",
    "    *ii. Calculating time offset in Months i.e. Cohort Index*\n",
    " \n",
    "- Create 1st Cohort: User Number & Retention Rate \n",
    "\n",
    "    *i. Pivot Cohort and Cohort Retention*\n",
    " \n",
    "    *ii. Visualize analysis of cohort 1 using seaborn and matplotlib*\n",
    "\n",
    "- Create 2nd Cohort: Average Quantity Sold \n",
    "\n",
    "    *i. Pivot Cohort and Cohort Retention*\n",
    " \n",
    "    *ii. Visualize analysis of cohort 2 using seaborn and matplotlib*\n",
    "\n",
    "- Create 3rd Cohort: Average Sales\n",
    "\n",
    "    *i. Pivot Cohort and Cohort Retention*\n",
    " \n",
    "    *ii. Visualize analysis of cohort 3 using seaborn and matplotlib*\n",
    "    \n",
    "- **Note: There may be sub-tasks associated with each task, you will see them in order during the course of the work.**\n"
   ]
  },
  {
   "cell_type": "markdown",
   "metadata": {
    "id": "k-NlVU1UQGVA"
   },
   "source": [
    "# 1. Data Cleaning & Exploratory Data Analysis"
   ]
  },
  {
   "cell_type": "markdown",
   "metadata": {},
   "source": [
    "<div class=\"alert alert-block alert-success\">\n",
    "\n",
    "## <span style=\" color:Purple\"> 1-Data Cleaning & Exploratory Data Analysis </span>\n",
    "\n",
    "- Import Modules, Load Data & Data Review\n",
    "\n",
    "Follow the Steps Below\n",
    "\n",
    "i. Take a look at relationships between InvoiceNo, Quantity and UnitPrice columns.\n",
    "\n",
    "ii. What does the letter \"C\" in the invoiceno column mean?\n",
    "\n",
    "iii. Handling Missing Values\n",
    "\n",
    "iv. Clean the Data from the Noise and Missing Values\n",
    "\n",
    "v. Explore the Orders\n",
    "\n",
    "vi. Explore Customers by Country\n",
    "\n",
    "vii. Explore the UK Market\n"
   ]
  },
  {
   "cell_type": "markdown",
   "metadata": {
    "id": "L63G_-Dqiqa3"
   },
   "source": [
    "## Import Modules, Load Data & Data Review"
   ]
  },
  {
   "cell_type": "code",
   "execution_count": 1,
   "metadata": {
    "id": "J-Zb5JfOiqa3"
   },
   "outputs": [],
   "source": [
    "import pyforest\n",
    "import numpy as np\n",
    "import pandas as pd\n",
    "import seaborn as sns \n",
    "import matplotlib.pyplot as plt\n",
    "\n",
    "import warnings\n",
    "warnings.filterwarnings(\"ignore\")\n",
    "warnings.warn(\"this will not show\")\n",
    "\n",
    "%matplotlib inline\n",
    "# %matplotlib notebook\n",
    "\n",
    "plt.rcParams[\"figure.figsize\"] = (10,6)\n",
    "# plt.rcParams['figure.dpi'] = 100\n",
    "\n",
    "sns.set_style(\"whitegrid\")\n",
    "pd.set_option('display.float_format', lambda x: '%.3f' % x)\n",
    "\n",
    "pd.options.display.max_rows = 100\n",
    "pd.options.display.max_columns = 100"
   ]
  },
  {
   "cell_type": "code",
   "execution_count": 2,
   "metadata": {},
   "outputs": [],
   "source": [
    "df = pd.read_excel('Online Retail.xlsx')"
   ]
  },
  {
   "cell_type": "code",
   "execution_count": 3,
   "metadata": {},
   "outputs": [
    {
     "data": {
      "text/html": [
       "<div>\n",
       "<style scoped>\n",
       "    .dataframe tbody tr th:only-of-type {\n",
       "        vertical-align: middle;\n",
       "    }\n",
       "\n",
       "    .dataframe tbody tr th {\n",
       "        vertical-align: top;\n",
       "    }\n",
       "\n",
       "    .dataframe thead th {\n",
       "        text-align: right;\n",
       "    }\n",
       "</style>\n",
       "<table border=\"1\" class=\"dataframe\">\n",
       "  <thead>\n",
       "    <tr style=\"text-align: right;\">\n",
       "      <th></th>\n",
       "      <th>InvoiceNo</th>\n",
       "      <th>StockCode</th>\n",
       "      <th>Description</th>\n",
       "      <th>Quantity</th>\n",
       "      <th>InvoiceDate</th>\n",
       "      <th>UnitPrice</th>\n",
       "      <th>CustomerID</th>\n",
       "      <th>Country</th>\n",
       "    </tr>\n",
       "  </thead>\n",
       "  <tbody>\n",
       "    <tr>\n",
       "      <th>387355</th>\n",
       "      <td>570285</td>\n",
       "      <td>23222</td>\n",
       "      <td>CHRISTMAS TREE HANGING GOLD</td>\n",
       "      <td>12</td>\n",
       "      <td>2011-10-10 11:32:00</td>\n",
       "      <td>0.830</td>\n",
       "      <td>16637.000</td>\n",
       "      <td>United Kingdom</td>\n",
       "    </tr>\n",
       "    <tr>\n",
       "      <th>325862</th>\n",
       "      <td>565459</td>\n",
       "      <td>22725</td>\n",
       "      <td>ALARM CLOCK BAKELIKE CHOCOLATE</td>\n",
       "      <td>24</td>\n",
       "      <td>2011-09-05 09:20:00</td>\n",
       "      <td>3.750</td>\n",
       "      <td>16656.000</td>\n",
       "      <td>United Kingdom</td>\n",
       "    </tr>\n",
       "    <tr>\n",
       "      <th>239573</th>\n",
       "      <td>558063</td>\n",
       "      <td>21498</td>\n",
       "      <td>RED RETROSPOT WRAP</td>\n",
       "      <td>25</td>\n",
       "      <td>2011-06-24 15:28:00</td>\n",
       "      <td>0.420</td>\n",
       "      <td>16395.000</td>\n",
       "      <td>United Kingdom</td>\n",
       "    </tr>\n",
       "    <tr>\n",
       "      <th>227567</th>\n",
       "      <td>556882</td>\n",
       "      <td>21485</td>\n",
       "      <td>RETROSPOT HEART HOT WATER BOTTLE</td>\n",
       "      <td>2</td>\n",
       "      <td>2011-06-15 12:21:00</td>\n",
       "      <td>4.950</td>\n",
       "      <td>14395.000</td>\n",
       "      <td>United Kingdom</td>\n",
       "    </tr>\n",
       "    <tr>\n",
       "      <th>528610</th>\n",
       "      <td>580729</td>\n",
       "      <td>23401</td>\n",
       "      <td>RUSTIC MIRROR WITH LACE HEART</td>\n",
       "      <td>1</td>\n",
       "      <td>2011-12-05 17:24:00</td>\n",
       "      <td>12.460</td>\n",
       "      <td>NaN</td>\n",
       "      <td>United Kingdom</td>\n",
       "    </tr>\n",
       "    <tr>\n",
       "      <th>94983</th>\n",
       "      <td>544434</td>\n",
       "      <td>22974</td>\n",
       "      <td>CHILDRENS DOLLY GIRL MUG</td>\n",
       "      <td>1</td>\n",
       "      <td>2011-02-18 16:12:00</td>\n",
       "      <td>3.290</td>\n",
       "      <td>NaN</td>\n",
       "      <td>United Kingdom</td>\n",
       "    </tr>\n",
       "    <tr>\n",
       "      <th>65420</th>\n",
       "      <td>541695</td>\n",
       "      <td>DOT</td>\n",
       "      <td>DOTCOM POSTAGE</td>\n",
       "      <td>1</td>\n",
       "      <td>2011-01-20 18:01:00</td>\n",
       "      <td>334.160</td>\n",
       "      <td>NaN</td>\n",
       "      <td>United Kingdom</td>\n",
       "    </tr>\n",
       "    <tr>\n",
       "      <th>285567</th>\n",
       "      <td>561911</td>\n",
       "      <td>15058A</td>\n",
       "      <td>BLUE POLKADOT GARDEN PARASOL</td>\n",
       "      <td>2</td>\n",
       "      <td>2011-08-01 10:26:00</td>\n",
       "      <td>7.950</td>\n",
       "      <td>12534.000</td>\n",
       "      <td>Germany</td>\n",
       "    </tr>\n",
       "    <tr>\n",
       "      <th>323392</th>\n",
       "      <td>565303</td>\n",
       "      <td>22904</td>\n",
       "      <td>CALENDAR PAPER CUT DESIGN</td>\n",
       "      <td>1</td>\n",
       "      <td>2011-09-02 12:17:00</td>\n",
       "      <td>2.950</td>\n",
       "      <td>NaN</td>\n",
       "      <td>Unspecified</td>\n",
       "    </tr>\n",
       "    <tr>\n",
       "      <th>286181</th>\n",
       "      <td>562024</td>\n",
       "      <td>22386</td>\n",
       "      <td>JUMBO BAG PINK POLKADOT</td>\n",
       "      <td>1</td>\n",
       "      <td>2011-08-01 16:07:00</td>\n",
       "      <td>4.130</td>\n",
       "      <td>NaN</td>\n",
       "      <td>United Kingdom</td>\n",
       "    </tr>\n",
       "  </tbody>\n",
       "</table>\n",
       "</div>"
      ],
      "text/plain": [
       "       InvoiceNo StockCode                       Description  Quantity  \\\n",
       "387355    570285     23222       CHRISTMAS TREE HANGING GOLD        12   \n",
       "325862    565459     22725    ALARM CLOCK BAKELIKE CHOCOLATE        24   \n",
       "239573    558063     21498               RED RETROSPOT WRAP         25   \n",
       "227567    556882     21485  RETROSPOT HEART HOT WATER BOTTLE         2   \n",
       "528610    580729     23401     RUSTIC MIRROR WITH LACE HEART         1   \n",
       "94983     544434     22974          CHILDRENS DOLLY GIRL MUG         1   \n",
       "65420     541695       DOT                    DOTCOM POSTAGE         1   \n",
       "285567    561911    15058A      BLUE POLKADOT GARDEN PARASOL         2   \n",
       "323392    565303     22904         CALENDAR PAPER CUT DESIGN         1   \n",
       "286181    562024     22386           JUMBO BAG PINK POLKADOT         1   \n",
       "\n",
       "               InvoiceDate  UnitPrice  CustomerID         Country  \n",
       "387355 2011-10-10 11:32:00      0.830   16637.000  United Kingdom  \n",
       "325862 2011-09-05 09:20:00      3.750   16656.000  United Kingdom  \n",
       "239573 2011-06-24 15:28:00      0.420   16395.000  United Kingdom  \n",
       "227567 2011-06-15 12:21:00      4.950   14395.000  United Kingdom  \n",
       "528610 2011-12-05 17:24:00     12.460         NaN  United Kingdom  \n",
       "94983  2011-02-18 16:12:00      3.290         NaN  United Kingdom  \n",
       "65420  2011-01-20 18:01:00    334.160         NaN  United Kingdom  \n",
       "285567 2011-08-01 10:26:00      7.950   12534.000         Germany  \n",
       "323392 2011-09-02 12:17:00      2.950         NaN     Unspecified  \n",
       "286181 2011-08-01 16:07:00      4.130         NaN  United Kingdom  "
      ]
     },
     "execution_count": 3,
     "metadata": {},
     "output_type": "execute_result"
    }
   ],
   "source": [
    "df.sample(10)"
   ]
  },
  {
   "cell_type": "code",
   "execution_count": 4,
   "metadata": {},
   "outputs": [
    {
     "name": "stdout",
     "output_type": "stream",
     "text": [
      "<class 'pandas.core.frame.DataFrame'>\n",
      "RangeIndex: 541909 entries, 0 to 541908\n",
      "Data columns (total 8 columns):\n",
      " #   Column       Non-Null Count   Dtype         \n",
      "---  ------       --------------   -----         \n",
      " 0   InvoiceNo    541909 non-null  object        \n",
      " 1   StockCode    541909 non-null  object        \n",
      " 2   Description  540455 non-null  object        \n",
      " 3   Quantity     541909 non-null  int64         \n",
      " 4   InvoiceDate  541909 non-null  datetime64[ns]\n",
      " 5   UnitPrice    541909 non-null  float64       \n",
      " 6   CustomerID   406829 non-null  float64       \n",
      " 7   Country      541909 non-null  object        \n",
      "dtypes: datetime64[ns](1), float64(2), int64(1), object(4)\n",
      "memory usage: 33.1+ MB\n"
     ]
    }
   ],
   "source": [
    "df.info()"
   ]
  },
  {
   "cell_type": "code",
   "execution_count": 5,
   "metadata": {},
   "outputs": [
    {
     "data": {
      "text/plain": [
       "(541909, 8)"
      ]
     },
     "execution_count": 5,
     "metadata": {},
     "output_type": "execute_result"
    }
   ],
   "source": [
    "df.shape"
   ]
  },
  {
   "cell_type": "markdown",
   "metadata": {},
   "source": [
    "<div class=\"alert alert-block alert-info\">\n",
    "👇🏻Duplicate rows bakildiginda 5258 tane var.Bunlari drop edip yola 536641 satirla devam ediyoruz."
   ]
  },
  {
   "cell_type": "code",
   "execution_count": 6,
   "metadata": {},
   "outputs": [
    {
     "data": {
      "text/html": [
       "<div>\n",
       "<style scoped>\n",
       "    .dataframe tbody tr th:only-of-type {\n",
       "        vertical-align: middle;\n",
       "    }\n",
       "\n",
       "    .dataframe tbody tr th {\n",
       "        vertical-align: top;\n",
       "    }\n",
       "\n",
       "    .dataframe thead th {\n",
       "        text-align: right;\n",
       "    }\n",
       "</style>\n",
       "<table border=\"1\" class=\"dataframe\">\n",
       "  <thead>\n",
       "    <tr style=\"text-align: right;\">\n",
       "      <th></th>\n",
       "      <th>InvoiceNo</th>\n",
       "      <th>StockCode</th>\n",
       "      <th>Description</th>\n",
       "      <th>Quantity</th>\n",
       "      <th>InvoiceDate</th>\n",
       "      <th>UnitPrice</th>\n",
       "      <th>CustomerID</th>\n",
       "      <th>Country</th>\n",
       "    </tr>\n",
       "  </thead>\n",
       "  <tbody>\n",
       "    <tr>\n",
       "      <th>517</th>\n",
       "      <td>536409</td>\n",
       "      <td>21866</td>\n",
       "      <td>UNION JACK FLAG LUGGAGE TAG</td>\n",
       "      <td>1</td>\n",
       "      <td>2010-12-01 11:45:00</td>\n",
       "      <td>1.250</td>\n",
       "      <td>17908.000</td>\n",
       "      <td>United Kingdom</td>\n",
       "    </tr>\n",
       "    <tr>\n",
       "      <th>527</th>\n",
       "      <td>536409</td>\n",
       "      <td>22866</td>\n",
       "      <td>HAND WARMER SCOTTY DOG DESIGN</td>\n",
       "      <td>1</td>\n",
       "      <td>2010-12-01 11:45:00</td>\n",
       "      <td>2.100</td>\n",
       "      <td>17908.000</td>\n",
       "      <td>United Kingdom</td>\n",
       "    </tr>\n",
       "    <tr>\n",
       "      <th>537</th>\n",
       "      <td>536409</td>\n",
       "      <td>22900</td>\n",
       "      <td>SET 2 TEA TOWELS I LOVE LONDON</td>\n",
       "      <td>1</td>\n",
       "      <td>2010-12-01 11:45:00</td>\n",
       "      <td>2.950</td>\n",
       "      <td>17908.000</td>\n",
       "      <td>United Kingdom</td>\n",
       "    </tr>\n",
       "    <tr>\n",
       "      <th>539</th>\n",
       "      <td>536409</td>\n",
       "      <td>22111</td>\n",
       "      <td>SCOTTIE DOG HOT WATER BOTTLE</td>\n",
       "      <td>1</td>\n",
       "      <td>2010-12-01 11:45:00</td>\n",
       "      <td>4.950</td>\n",
       "      <td>17908.000</td>\n",
       "      <td>United Kingdom</td>\n",
       "    </tr>\n",
       "    <tr>\n",
       "      <th>555</th>\n",
       "      <td>536412</td>\n",
       "      <td>22327</td>\n",
       "      <td>ROUND SNACK BOXES SET OF 4 SKULLS</td>\n",
       "      <td>1</td>\n",
       "      <td>2010-12-01 11:49:00</td>\n",
       "      <td>2.950</td>\n",
       "      <td>17920.000</td>\n",
       "      <td>United Kingdom</td>\n",
       "    </tr>\n",
       "    <tr>\n",
       "      <th>...</th>\n",
       "      <td>...</td>\n",
       "      <td>...</td>\n",
       "      <td>...</td>\n",
       "      <td>...</td>\n",
       "      <td>...</td>\n",
       "      <td>...</td>\n",
       "      <td>...</td>\n",
       "      <td>...</td>\n",
       "    </tr>\n",
       "    <tr>\n",
       "      <th>541675</th>\n",
       "      <td>581538</td>\n",
       "      <td>22068</td>\n",
       "      <td>BLACK PIRATE TREASURE CHEST</td>\n",
       "      <td>1</td>\n",
       "      <td>2011-12-09 11:34:00</td>\n",
       "      <td>0.390</td>\n",
       "      <td>14446.000</td>\n",
       "      <td>United Kingdom</td>\n",
       "    </tr>\n",
       "    <tr>\n",
       "      <th>541689</th>\n",
       "      <td>581538</td>\n",
       "      <td>23318</td>\n",
       "      <td>BOX OF 6 MINI VINTAGE CRACKERS</td>\n",
       "      <td>1</td>\n",
       "      <td>2011-12-09 11:34:00</td>\n",
       "      <td>2.490</td>\n",
       "      <td>14446.000</td>\n",
       "      <td>United Kingdom</td>\n",
       "    </tr>\n",
       "    <tr>\n",
       "      <th>541692</th>\n",
       "      <td>581538</td>\n",
       "      <td>22992</td>\n",
       "      <td>REVOLVER WOODEN RULER</td>\n",
       "      <td>1</td>\n",
       "      <td>2011-12-09 11:34:00</td>\n",
       "      <td>1.950</td>\n",
       "      <td>14446.000</td>\n",
       "      <td>United Kingdom</td>\n",
       "    </tr>\n",
       "    <tr>\n",
       "      <th>541699</th>\n",
       "      <td>581538</td>\n",
       "      <td>22694</td>\n",
       "      <td>WICKER STAR</td>\n",
       "      <td>1</td>\n",
       "      <td>2011-12-09 11:34:00</td>\n",
       "      <td>2.100</td>\n",
       "      <td>14446.000</td>\n",
       "      <td>United Kingdom</td>\n",
       "    </tr>\n",
       "    <tr>\n",
       "      <th>541701</th>\n",
       "      <td>581538</td>\n",
       "      <td>23343</td>\n",
       "      <td>JUMBO BAG VINTAGE CHRISTMAS</td>\n",
       "      <td>1</td>\n",
       "      <td>2011-12-09 11:34:00</td>\n",
       "      <td>2.080</td>\n",
       "      <td>14446.000</td>\n",
       "      <td>United Kingdom</td>\n",
       "    </tr>\n",
       "  </tbody>\n",
       "</table>\n",
       "<p>5268 rows × 8 columns</p>\n",
       "</div>"
      ],
      "text/plain": [
       "       InvoiceNo StockCode                        Description  Quantity  \\\n",
       "517       536409     21866        UNION JACK FLAG LUGGAGE TAG         1   \n",
       "527       536409     22866      HAND WARMER SCOTTY DOG DESIGN         1   \n",
       "537       536409     22900    SET 2 TEA TOWELS I LOVE LONDON          1   \n",
       "539       536409     22111       SCOTTIE DOG HOT WATER BOTTLE         1   \n",
       "555       536412     22327  ROUND SNACK BOXES SET OF 4 SKULLS         1   \n",
       "...          ...       ...                                ...       ...   \n",
       "541675    581538     22068        BLACK PIRATE TREASURE CHEST         1   \n",
       "541689    581538     23318     BOX OF 6 MINI VINTAGE CRACKERS         1   \n",
       "541692    581538     22992             REVOLVER WOODEN RULER          1   \n",
       "541699    581538     22694                       WICKER STAR          1   \n",
       "541701    581538     23343       JUMBO BAG VINTAGE CHRISTMAS          1   \n",
       "\n",
       "               InvoiceDate  UnitPrice  CustomerID         Country  \n",
       "517    2010-12-01 11:45:00      1.250   17908.000  United Kingdom  \n",
       "527    2010-12-01 11:45:00      2.100   17908.000  United Kingdom  \n",
       "537    2010-12-01 11:45:00      2.950   17908.000  United Kingdom  \n",
       "539    2010-12-01 11:45:00      4.950   17908.000  United Kingdom  \n",
       "555    2010-12-01 11:49:00      2.950   17920.000  United Kingdom  \n",
       "...                    ...        ...         ...             ...  \n",
       "541675 2011-12-09 11:34:00      0.390   14446.000  United Kingdom  \n",
       "541689 2011-12-09 11:34:00      2.490   14446.000  United Kingdom  \n",
       "541692 2011-12-09 11:34:00      1.950   14446.000  United Kingdom  \n",
       "541699 2011-12-09 11:34:00      2.100   14446.000  United Kingdom  \n",
       "541701 2011-12-09 11:34:00      2.080   14446.000  United Kingdom  \n",
       "\n",
       "[5268 rows x 8 columns]"
      ]
     },
     "execution_count": 6,
     "metadata": {},
     "output_type": "execute_result"
    }
   ],
   "source": [
    "df[df.duplicated()] # they do not seem to be duplicated , they are orders on the same invoice"
   ]
  },
  {
   "cell_type": "code",
   "execution_count": 7,
   "metadata": {},
   "outputs": [
    {
     "data": {
      "text/plain": [
       "5268"
      ]
     },
     "execution_count": 7,
     "metadata": {},
     "output_type": "execute_result"
    }
   ],
   "source": [
    "df.duplicated().sum()"
   ]
  },
  {
   "cell_type": "markdown",
   "metadata": {},
   "source": [
    "<div class=\"alert alert-block alert-info\">\n",
    "\n",
    "Object type li sutunlarin unique value sayilari👇🏻"
   ]
  },
  {
   "cell_type": "code",
   "execution_count": 8,
   "metadata": {},
   "outputs": [
    {
     "name": "stdout",
     "output_type": "stream",
     "text": [
      "Column InvoiceNo has 25900 unique values.\n",
      "Column StockCode has 4070 unique values.\n",
      "Column Description has 4223 unique values.\n",
      "Column Country has 38 unique values.\n"
     ]
    }
   ],
   "source": [
    "for column in df.select_dtypes('object').columns:\n",
    "    print(f'Column {column} has {df[column].nunique()} unique values.')"
   ]
  },
  {
   "cell_type": "markdown",
   "metadata": {},
   "source": [
    "<div class=\"alert alert-block alert-info\">\n",
    "    \n",
    "🔍Missing value durumuma genel bakis"
   ]
  },
  {
   "cell_type": "code",
   "execution_count": 9,
   "metadata": {
    "scrolled": true
   },
   "outputs": [
    {
     "data": {
      "text/plain": [
       "InvoiceNo           0\n",
       "StockCode           0\n",
       "Description      1454\n",
       "Quantity            0\n",
       "InvoiceDate         0\n",
       "UnitPrice           0\n",
       "CustomerID     135080\n",
       "Country             0\n",
       "dtype: int64"
      ]
     },
     "execution_count": 9,
     "metadata": {},
     "output_type": "execute_result"
    }
   ],
   "source": [
    "df.isnull().sum()"
   ]
  },
  {
   "cell_type": "code",
   "execution_count": 10,
   "metadata": {},
   "outputs": [
    {
     "data": {
      "text/html": [
       "<div>\n",
       "<style scoped>\n",
       "    .dataframe tbody tr th:only-of-type {\n",
       "        vertical-align: middle;\n",
       "    }\n",
       "\n",
       "    .dataframe tbody tr th {\n",
       "        vertical-align: top;\n",
       "    }\n",
       "\n",
       "    .dataframe thead th {\n",
       "        text-align: right;\n",
       "    }\n",
       "</style>\n",
       "<table border=\"1\" class=\"dataframe\">\n",
       "  <thead>\n",
       "    <tr style=\"text-align: right;\">\n",
       "      <th></th>\n",
       "      <th>count</th>\n",
       "      <th>mean</th>\n",
       "      <th>std</th>\n",
       "      <th>min</th>\n",
       "      <th>25%</th>\n",
       "      <th>50%</th>\n",
       "      <th>75%</th>\n",
       "      <th>max</th>\n",
       "    </tr>\n",
       "  </thead>\n",
       "  <tbody>\n",
       "    <tr>\n",
       "      <th>Quantity</th>\n",
       "      <td>541909.000</td>\n",
       "      <td>9.552</td>\n",
       "      <td>218.081</td>\n",
       "      <td>-80995.000</td>\n",
       "      <td>1.000</td>\n",
       "      <td>3.000</td>\n",
       "      <td>10.000</td>\n",
       "      <td>80995.000</td>\n",
       "    </tr>\n",
       "    <tr>\n",
       "      <th>UnitPrice</th>\n",
       "      <td>541909.000</td>\n",
       "      <td>4.611</td>\n",
       "      <td>96.760</td>\n",
       "      <td>-11062.060</td>\n",
       "      <td>1.250</td>\n",
       "      <td>2.080</td>\n",
       "      <td>4.130</td>\n",
       "      <td>38970.000</td>\n",
       "    </tr>\n",
       "    <tr>\n",
       "      <th>CustomerID</th>\n",
       "      <td>406829.000</td>\n",
       "      <td>15287.691</td>\n",
       "      <td>1713.600</td>\n",
       "      <td>12346.000</td>\n",
       "      <td>13953.000</td>\n",
       "      <td>15152.000</td>\n",
       "      <td>16791.000</td>\n",
       "      <td>18287.000</td>\n",
       "    </tr>\n",
       "  </tbody>\n",
       "</table>\n",
       "</div>"
      ],
      "text/plain": [
       "                count      mean      std        min       25%       50%  \\\n",
       "Quantity   541909.000     9.552  218.081 -80995.000     1.000     3.000   \n",
       "UnitPrice  541909.000     4.611   96.760 -11062.060     1.250     2.080   \n",
       "CustomerID 406829.000 15287.691 1713.600  12346.000 13953.000 15152.000   \n",
       "\n",
       "                 75%       max  \n",
       "Quantity      10.000 80995.000  \n",
       "UnitPrice      4.130 38970.000  \n",
       "CustomerID 16791.000 18287.000  "
      ]
     },
     "execution_count": 10,
     "metadata": {},
     "output_type": "execute_result"
    }
   ],
   "source": [
    "df.describe().T"
   ]
  },
  {
   "cell_type": "code",
   "execution_count": null,
   "metadata": {},
   "outputs": [],
   "source": []
  },
  {
   "cell_type": "code",
   "execution_count": 11,
   "metadata": {},
   "outputs": [
    {
     "data": {
      "image/png": "[encoded data removed]",
      "text/plain": [
       "<Figure size 864x720 with 1 Axes>"
      ]
     },
     "metadata": {},
     "output_type": "display_data"
    }
   ],
   "source": [
    "df[\"Country\"].value_counts().plot(kind=\"pie\", autopct='%1.1f%%',figsize=(12,10));"
   ]
  },
  {
   "cell_type": "markdown",
   "metadata": {
    "id": "YECMxCzUQGV7"
   },
   "source": [
    "### i. Take a look at relationships between InvoiceNo, Quantity and UnitPrice columns."
   ]
  },
  {
   "cell_type": "code",
   "execution_count": 12,
   "metadata": {
    "id": "nQ8vAKbbiqa4"
   },
   "outputs": [
    {
     "data": {
      "text/html": [
       "<div>\n",
       "<style scoped>\n",
       "    .dataframe tbody tr th:only-of-type {\n",
       "        vertical-align: middle;\n",
       "    }\n",
       "\n",
       "    .dataframe tbody tr th {\n",
       "        vertical-align: top;\n",
       "    }\n",
       "\n",
       "    .dataframe thead th {\n",
       "        text-align: right;\n",
       "    }\n",
       "</style>\n",
       "<table border=\"1\" class=\"dataframe\">\n",
       "  <thead>\n",
       "    <tr style=\"text-align: right;\">\n",
       "      <th></th>\n",
       "      <th>Quantity</th>\n",
       "      <th>UnitPrice</th>\n",
       "      <th>Description</th>\n",
       "    </tr>\n",
       "  </thead>\n",
       "  <tbody>\n",
       "    <tr>\n",
       "      <th>303955</th>\n",
       "      <td>12</td>\n",
       "      <td>1.450</td>\n",
       "      <td>SET OF 72 RETROSPOT PAPER  DOILIES</td>\n",
       "    </tr>\n",
       "    <tr>\n",
       "      <th>303957</th>\n",
       "      <td>12</td>\n",
       "      <td>1.450</td>\n",
       "      <td>SET OF 36 DOILIES PANTRY DESIGN</td>\n",
       "    </tr>\n",
       "    <tr>\n",
       "      <th>303948</th>\n",
       "      <td>12</td>\n",
       "      <td>1.250</td>\n",
       "      <td>SET OF 4 PANTRY JELLY MOULDS</td>\n",
       "    </tr>\n",
       "    <tr>\n",
       "      <th>303890</th>\n",
       "      <td>20</td>\n",
       "      <td>0.850</td>\n",
       "      <td>SET OF 9 BLACK SKULL BALLOONS</td>\n",
       "    </tr>\n",
       "    <tr>\n",
       "      <th>304009</th>\n",
       "      <td>12</td>\n",
       "      <td>1.650</td>\n",
       "      <td>NATURAL SLATE RECTANGLE CHALKBOARD</td>\n",
       "    </tr>\n",
       "    <tr>\n",
       "      <th>303935</th>\n",
       "      <td>4</td>\n",
       "      <td>3.950</td>\n",
       "      <td>GLASS APOTHECARY BOTTLE ELIXIR</td>\n",
       "    </tr>\n",
       "    <tr>\n",
       "      <th>303982</th>\n",
       "      <td>24</td>\n",
       "      <td>1.250</td>\n",
       "      <td>BLUE SPOT CERAMIC DRAWER KNOB</td>\n",
       "    </tr>\n",
       "    <tr>\n",
       "      <th>303895</th>\n",
       "      <td>48</td>\n",
       "      <td>0.850</td>\n",
       "      <td>FUNKY DIVA PEN</td>\n",
       "    </tr>\n",
       "    <tr>\n",
       "      <th>303909</th>\n",
       "      <td>24</td>\n",
       "      <td>0.290</td>\n",
       "      <td>PACK OF 12 PINK PAISLEY TISSUES</td>\n",
       "    </tr>\n",
       "    <tr>\n",
       "      <th>303894</th>\n",
       "      <td>12</td>\n",
       "      <td>1.250</td>\n",
       "      <td>HAPPY STENCIL CRAFT</td>\n",
       "    </tr>\n",
       "  </tbody>\n",
       "</table>\n",
       "</div>"
      ],
      "text/plain": [
       "        Quantity  UnitPrice                         Description\n",
       "303955        12      1.450  SET OF 72 RETROSPOT PAPER  DOILIES\n",
       "303957        12      1.450     SET OF 36 DOILIES PANTRY DESIGN\n",
       "303948        12      1.250        SET OF 4 PANTRY JELLY MOULDS\n",
       "303890        20      0.850       SET OF 9 BLACK SKULL BALLOONS\n",
       "304009        12      1.650  NATURAL SLATE RECTANGLE CHALKBOARD\n",
       "303935         4      3.950      GLASS APOTHECARY BOTTLE ELIXIR\n",
       "303982        24      1.250       BLUE SPOT CERAMIC DRAWER KNOB\n",
       "303895        48      0.850                      FUNKY DIVA PEN\n",
       "303909        24      0.290    PACK OF 12 PINK PAISLEY TISSUES \n",
       "303894        12      1.250                 HAPPY STENCIL CRAFT"
      ]
     },
     "execution_count": 12,
     "metadata": {},
     "output_type": "execute_result"
    }
   ],
   "source": [
    "df[df['InvoiceNo'] == 563557 ][['Quantity',\"UnitPrice\",'Description']].sample(10)"
   ]
  },
  {
   "cell_type": "code",
   "execution_count": null,
   "metadata": {},
   "outputs": [],
   "source": [
    "df[['Quantity',\"UnitPrice\"]].corr().style.background_gradient(cmap=\"Blues\")"
   ]
  },
  {
   "cell_type": "code",
   "execution_count": 13,
   "metadata": {},
   "outputs": [
    {
     "data": {
      "text/html": [
       "<div>\n",
       "<style scoped>\n",
       "    .dataframe tbody tr th:only-of-type {\n",
       "        vertical-align: middle;\n",
       "    }\n",
       "\n",
       "    .dataframe tbody tr th {\n",
       "        vertical-align: top;\n",
       "    }\n",
       "\n",
       "    .dataframe thead th {\n",
       "        text-align: right;\n",
       "    }\n",
       "</style>\n",
       "<table border=\"1\" class=\"dataframe\">\n",
       "  <thead>\n",
       "    <tr style=\"text-align: right;\">\n",
       "      <th></th>\n",
       "      <th>InvoiceNo</th>\n",
       "      <th>Quantity</th>\n",
       "      <th>UnitPrice</th>\n",
       "      <th>Description</th>\n",
       "    </tr>\n",
       "  </thead>\n",
       "  <tbody>\n",
       "    <tr>\n",
       "      <th>419763</th>\n",
       "      <td>572858</td>\n",
       "      <td>2</td>\n",
       "      <td>1.690</td>\n",
       "      <td>YOU'RE CONFUSING ME METAL SIGN</td>\n",
       "    </tr>\n",
       "    <tr>\n",
       "      <th>171236</th>\n",
       "      <td>551398</td>\n",
       "      <td>6</td>\n",
       "      <td>2.550</td>\n",
       "      <td>BAKING MOULD CHOCOLATE CUPCAKES</td>\n",
       "    </tr>\n",
       "    <tr>\n",
       "      <th>248821</th>\n",
       "      <td>558873</td>\n",
       "      <td>48</td>\n",
       "      <td>0.550</td>\n",
       "      <td>PACK OF 72 RETROSPOT CAKE CASES</td>\n",
       "    </tr>\n",
       "    <tr>\n",
       "      <th>508462</th>\n",
       "      <td>579196</td>\n",
       "      <td>1</td>\n",
       "      <td>5.790</td>\n",
       "      <td>RED PAPER PARASOL</td>\n",
       "    </tr>\n",
       "    <tr>\n",
       "      <th>75993</th>\n",
       "      <td>542617</td>\n",
       "      <td>1</td>\n",
       "      <td>1.450</td>\n",
       "      <td>HANGING CHICK CREAM DECORATION</td>\n",
       "    </tr>\n",
       "    <tr>\n",
       "      <th>290169</th>\n",
       "      <td>562365</td>\n",
       "      <td>1</td>\n",
       "      <td>2.950</td>\n",
       "      <td>GREEN REGENCY TEACUP AND SAUCER</td>\n",
       "    </tr>\n",
       "    <tr>\n",
       "      <th>527619</th>\n",
       "      <td>580727</td>\n",
       "      <td>1</td>\n",
       "      <td>7.460</td>\n",
       "      <td>CHICK GREY HOT WATER BOTTLE</td>\n",
       "    </tr>\n",
       "    <tr>\n",
       "      <th>53186</th>\n",
       "      <td>540823</td>\n",
       "      <td>2</td>\n",
       "      <td>1.250</td>\n",
       "      <td>PHOTO CLIP LINE</td>\n",
       "    </tr>\n",
       "    <tr>\n",
       "      <th>344274</th>\n",
       "      <td>567024</td>\n",
       "      <td>2</td>\n",
       "      <td>7.460</td>\n",
       "      <td>BIRD HOUSE HOT WATER BOTTLE</td>\n",
       "    </tr>\n",
       "    <tr>\n",
       "      <th>131006</th>\n",
       "      <td>547539</td>\n",
       "      <td>4</td>\n",
       "      <td>9.950</td>\n",
       "      <td>PICNIC BASKET WICKER LARGE</td>\n",
       "    </tr>\n",
       "    <tr>\n",
       "      <th>110280</th>\n",
       "      <td>545683</td>\n",
       "      <td>4</td>\n",
       "      <td>2.100</td>\n",
       "      <td>SMALL GLASS HEART TRINKET POT</td>\n",
       "    </tr>\n",
       "    <tr>\n",
       "      <th>437937</th>\n",
       "      <td>574298</td>\n",
       "      <td>1</td>\n",
       "      <td>5.790</td>\n",
       "      <td>OFFICE MUG WARMER CHOC+BLUE</td>\n",
       "    </tr>\n",
       "    <tr>\n",
       "      <th>224710</th>\n",
       "      <td>556573</td>\n",
       "      <td>1</td>\n",
       "      <td>2.080</td>\n",
       "      <td>TREASURE TIN GYMKHANA DESIGN</td>\n",
       "    </tr>\n",
       "    <tr>\n",
       "      <th>482607</th>\n",
       "      <td>577480</td>\n",
       "      <td>6</td>\n",
       "      <td>2.950</td>\n",
       "      <td>WOODEN PICTURE FRAME WHITE FINISH</td>\n",
       "    </tr>\n",
       "    <tr>\n",
       "      <th>123248</th>\n",
       "      <td>546892</td>\n",
       "      <td>1</td>\n",
       "      <td>5.790</td>\n",
       "      <td>ROSES REGENCY TEACUP AND SAUCER</td>\n",
       "    </tr>\n",
       "  </tbody>\n",
       "</table>\n",
       "</div>"
      ],
      "text/plain": [
       "       InvoiceNo  Quantity  UnitPrice                        Description\n",
       "419763    572858         2      1.690    YOU'RE CONFUSING ME METAL SIGN \n",
       "171236    551398         6      2.550    BAKING MOULD CHOCOLATE CUPCAKES\n",
       "248821    558873        48      0.550    PACK OF 72 RETROSPOT CAKE CASES\n",
       "508462    579196         1      5.790                  RED PAPER PARASOL\n",
       "75993     542617         1      1.450     HANGING CHICK CREAM DECORATION\n",
       "290169    562365         1      2.950    GREEN REGENCY TEACUP AND SAUCER\n",
       "527619    580727         1      7.460        CHICK GREY HOT WATER BOTTLE\n",
       "53186     540823         2      1.250                    PHOTO CLIP LINE\n",
       "344274    567024         2      7.460        BIRD HOUSE HOT WATER BOTTLE\n",
       "131006    547539         4      9.950         PICNIC BASKET WICKER LARGE\n",
       "110280    545683         4      2.100      SMALL GLASS HEART TRINKET POT\n",
       "437937    574298         1      5.790        OFFICE MUG WARMER CHOC+BLUE\n",
       "224710    556573         1      2.080       TREASURE TIN GYMKHANA DESIGN\n",
       "482607    577480         6      2.950  WOODEN PICTURE FRAME WHITE FINISH\n",
       "123248    546892         1      5.790   ROSES REGENCY TEACUP AND SAUCER "
      ]
     },
     "execution_count": 13,
     "metadata": {},
     "output_type": "execute_result"
    }
   ],
   "source": [
    "df[['InvoiceNo','Quantity',\"UnitPrice\",'Description']].sample(15)"
   ]
  },
  {
   "cell_type": "markdown",
   "metadata": {
    "id": "KiSW67N_QGV8"
   },
   "source": [
    "We see that there are negative values in the Quantity and UnitPrice columns. These are possibly canceled and returned orders. Let's check it out."
   ]
  },
  {
   "cell_type": "code",
   "execution_count": 25,
   "metadata": {
    "id": "ZoHopX7-iqa4",
    "scrolled": false
   },
   "outputs": [
    {
     "data": {
      "text/html": [
       "<div>\n",
       "<style scoped>\n",
       "    .dataframe tbody tr th:only-of-type {\n",
       "        vertical-align: middle;\n",
       "    }\n",
       "\n",
       "    .dataframe tbody tr th {\n",
       "        vertical-align: top;\n",
       "    }\n",
       "\n",
       "    .dataframe thead th {\n",
       "        text-align: right;\n",
       "    }\n",
       "</style>\n",
       "<table border=\"1\" class=\"dataframe\">\n",
       "  <thead>\n",
       "    <tr style=\"text-align: right;\">\n",
       "      <th></th>\n",
       "      <th>InvoiceNo</th>\n",
       "      <th>StockCode</th>\n",
       "      <th>Description</th>\n",
       "      <th>Quantity</th>\n",
       "      <th>InvoiceDate</th>\n",
       "      <th>UnitPrice</th>\n",
       "      <th>CustomerID</th>\n",
       "      <th>Country</th>\n",
       "    </tr>\n",
       "  </thead>\n",
       "  <tbody>\n",
       "    <tr>\n",
       "      <th>394042</th>\n",
       "      <td>C570867</td>\n",
       "      <td>22138</td>\n",
       "      <td>BAKING SET 9 PIECE RETROSPOT</td>\n",
       "      <td>-3</td>\n",
       "      <td>2011-10-12 16:17:00</td>\n",
       "      <td>4.950</td>\n",
       "      <td>12607.000</td>\n",
       "      <td>USA</td>\n",
       "    </tr>\n",
       "    <tr>\n",
       "      <th>497343</th>\n",
       "      <td>C578363</td>\n",
       "      <td>21135</td>\n",
       "      <td>VICTORIAN  METAL POSTCARD SPRING</td>\n",
       "      <td>-288</td>\n",
       "      <td>2011-11-24 10:40:00</td>\n",
       "      <td>0.400</td>\n",
       "      <td>15482.000</td>\n",
       "      <td>United Kingdom</td>\n",
       "    </tr>\n",
       "    <tr>\n",
       "      <th>481910</th>\n",
       "      <td>C577388</td>\n",
       "      <td>22699</td>\n",
       "      <td>ROSES REGENCY TEACUP AND SAUCER</td>\n",
       "      <td>-6</td>\n",
       "      <td>2011-11-18 16:58:00</td>\n",
       "      <td>2.950</td>\n",
       "      <td>14911.000</td>\n",
       "      <td>EIRE</td>\n",
       "    </tr>\n",
       "    <tr>\n",
       "      <th>399729</th>\n",
       "      <td>C571285</td>\n",
       "      <td>22923</td>\n",
       "      <td>FRIDGE MAGNETS LES ENFANTS ASSORTED</td>\n",
       "      <td>-30</td>\n",
       "      <td>2011-10-16 14:26:00</td>\n",
       "      <td>0.850</td>\n",
       "      <td>16533.000</td>\n",
       "      <td>United Kingdom</td>\n",
       "    </tr>\n",
       "    <tr>\n",
       "      <th>492597</th>\n",
       "      <td>C578136</td>\n",
       "      <td>23328</td>\n",
       "      <td>SET 6 SCHOOL MILK BOTTLES IN CRATE</td>\n",
       "      <td>-1</td>\n",
       "      <td>2011-11-23 10:57:00</td>\n",
       "      <td>3.750</td>\n",
       "      <td>14156.000</td>\n",
       "      <td>EIRE</td>\n",
       "    </tr>\n",
       "    <tr>\n",
       "      <th>238153</th>\n",
       "      <td>C557927</td>\n",
       "      <td>D</td>\n",
       "      <td>Discount</td>\n",
       "      <td>-1</td>\n",
       "      <td>2011-06-23 14:56:00</td>\n",
       "      <td>10.000</td>\n",
       "      <td>16029.000</td>\n",
       "      <td>United Kingdom</td>\n",
       "    </tr>\n",
       "    <tr>\n",
       "      <th>347982</th>\n",
       "      <td>C567365</td>\n",
       "      <td>22691</td>\n",
       "      <td>DOORMAT WELCOME SUNRISE</td>\n",
       "      <td>-1</td>\n",
       "      <td>2011-09-19 16:59:00</td>\n",
       "      <td>8.250</td>\n",
       "      <td>15443.000</td>\n",
       "      <td>United Kingdom</td>\n",
       "    </tr>\n",
       "    <tr>\n",
       "      <th>123558</th>\n",
       "      <td>C546897</td>\n",
       "      <td>22720</td>\n",
       "      <td>SET OF 3 CAKE TINS PANTRY DESIGN</td>\n",
       "      <td>-1</td>\n",
       "      <td>2011-03-17 18:25:00</td>\n",
       "      <td>4.950</td>\n",
       "      <td>18183.000</td>\n",
       "      <td>United Kingdom</td>\n",
       "    </tr>\n",
       "    <tr>\n",
       "      <th>414323</th>\n",
       "      <td>C572449</td>\n",
       "      <td>23393</td>\n",
       "      <td>HOME SWEET HOME CUSHION COVER</td>\n",
       "      <td>-2</td>\n",
       "      <td>2011-10-24 12:34:00</td>\n",
       "      <td>3.750</td>\n",
       "      <td>14428.000</td>\n",
       "      <td>United Kingdom</td>\n",
       "    </tr>\n",
       "    <tr>\n",
       "      <th>320703</th>\n",
       "      <td>C565077</td>\n",
       "      <td>23197</td>\n",
       "      <td>SKETCHBOOK MAGNETIC SHOPPING LIST</td>\n",
       "      <td>-12</td>\n",
       "      <td>2011-08-31 17:31:00</td>\n",
       "      <td>1.450</td>\n",
       "      <td>17451.000</td>\n",
       "      <td>United Kingdom</td>\n",
       "    </tr>\n",
       "    <tr>\n",
       "      <th>187024</th>\n",
       "      <td>C552944</td>\n",
       "      <td>21246</td>\n",
       "      <td>RED RETROSPOT BIG BOWL</td>\n",
       "      <td>-1</td>\n",
       "      <td>2011-05-12 11:40:00</td>\n",
       "      <td>4.950</td>\n",
       "      <td>17811.000</td>\n",
       "      <td>United Kingdom</td>\n",
       "    </tr>\n",
       "    <tr>\n",
       "      <th>282050</th>\n",
       "      <td>C561621</td>\n",
       "      <td>22797</td>\n",
       "      <td>CHEST OF DRAWERS GINGHAM HEART</td>\n",
       "      <td>-2</td>\n",
       "      <td>2011-07-28 13:41:00</td>\n",
       "      <td>16.950</td>\n",
       "      <td>12722.000</td>\n",
       "      <td>France</td>\n",
       "    </tr>\n",
       "    <tr>\n",
       "      <th>394933</th>\n",
       "      <td>C570889</td>\n",
       "      <td>22847</td>\n",
       "      <td>BREAD BIN DINER STYLE IVORY</td>\n",
       "      <td>-1</td>\n",
       "      <td>2011-10-13 10:49:00</td>\n",
       "      <td>16.950</td>\n",
       "      <td>13954.000</td>\n",
       "      <td>United Kingdom</td>\n",
       "    </tr>\n",
       "    <tr>\n",
       "      <th>274386</th>\n",
       "      <td>C560907</td>\n",
       "      <td>84997A</td>\n",
       "      <td>CHILDRENS CUTLERY POLKADOT GREEN</td>\n",
       "      <td>-3</td>\n",
       "      <td>2011-07-21 17:55:00</td>\n",
       "      <td>4.150</td>\n",
       "      <td>16875.000</td>\n",
       "      <td>United Kingdom</td>\n",
       "    </tr>\n",
       "    <tr>\n",
       "      <th>118955</th>\n",
       "      <td>C546507</td>\n",
       "      <td>22171</td>\n",
       "      <td>3 HOOK PHOTO SHELF ANTIQUE WHITE</td>\n",
       "      <td>-4</td>\n",
       "      <td>2011-03-14 11:47:00</td>\n",
       "      <td>8.500</td>\n",
       "      <td>12712.000</td>\n",
       "      <td>Germany</td>\n",
       "    </tr>\n",
       "  </tbody>\n",
       "</table>\n",
       "</div>"
      ],
      "text/plain": [
       "       InvoiceNo StockCode                          Description  Quantity  \\\n",
       "394042   C570867     22138        BAKING SET 9 PIECE RETROSPOT         -3   \n",
       "497343   C578363     21135     VICTORIAN  METAL POSTCARD SPRING      -288   \n",
       "481910   C577388     22699     ROSES REGENCY TEACUP AND SAUCER         -6   \n",
       "399729   C571285     22923  FRIDGE MAGNETS LES ENFANTS ASSORTED       -30   \n",
       "492597   C578136     23328   SET 6 SCHOOL MILK BOTTLES IN CRATE        -1   \n",
       "238153   C557927         D                             Discount        -1   \n",
       "347982   C567365     22691              DOORMAT WELCOME SUNRISE        -1   \n",
       "123558   C546897     22720    SET OF 3 CAKE TINS PANTRY DESIGN         -1   \n",
       "414323   C572449     23393       HOME SWEET HOME CUSHION COVER         -2   \n",
       "320703   C565077     23197    SKETCHBOOK MAGNETIC SHOPPING LIST       -12   \n",
       "187024   C552944     21246               RED RETROSPOT BIG BOWL        -1   \n",
       "282050   C561621     22797      CHEST OF DRAWERS GINGHAM HEART         -2   \n",
       "394933   C570889     22847          BREAD BIN DINER STYLE IVORY        -1   \n",
       "274386   C560907    84997A    CHILDRENS CUTLERY POLKADOT GREEN         -3   \n",
       "118955   C546507     22171     3 HOOK PHOTO SHELF ANTIQUE WHITE        -4   \n",
       "\n",
       "               InvoiceDate  UnitPrice  CustomerID         Country  \n",
       "394042 2011-10-12 16:17:00      4.950   12607.000             USA  \n",
       "497343 2011-11-24 10:40:00      0.400   15482.000  United Kingdom  \n",
       "481910 2011-11-18 16:58:00      2.950   14911.000            EIRE  \n",
       "399729 2011-10-16 14:26:00      0.850   16533.000  United Kingdom  \n",
       "492597 2011-11-23 10:57:00      3.750   14156.000            EIRE  \n",
       "238153 2011-06-23 14:56:00     10.000   16029.000  United Kingdom  \n",
       "347982 2011-09-19 16:59:00      8.250   15443.000  United Kingdom  \n",
       "123558 2011-03-17 18:25:00      4.950   18183.000  United Kingdom  \n",
       "414323 2011-10-24 12:34:00      3.750   14428.000  United Kingdom  \n",
       "320703 2011-08-31 17:31:00      1.450   17451.000  United Kingdom  \n",
       "187024 2011-05-12 11:40:00      4.950   17811.000  United Kingdom  \n",
       "282050 2011-07-28 13:41:00     16.950   12722.000          France  \n",
       "394933 2011-10-13 10:49:00     16.950   13954.000  United Kingdom  \n",
       "274386 2011-07-21 17:55:00      4.150   16875.000  United Kingdom  \n",
       "118955 2011-03-14 11:47:00      8.500   12712.000         Germany  "
      ]
     },
     "execution_count": 25,
     "metadata": {},
     "output_type": "execute_result"
    }
   ],
   "source": [
    "df[df.InvoiceNo.str.startswith('C', na=False)].sample(15)"
   ]
  },
  {
   "cell_type": "code",
   "execution_count": 36,
   "metadata": {
    "scrolled": true
   },
   "outputs": [
    {
     "data": {
      "text/html": [
       "<div>\n",
       "<style scoped>\n",
       "    .dataframe tbody tr th:only-of-type {\n",
       "        vertical-align: middle;\n",
       "    }\n",
       "\n",
       "    .dataframe tbody tr th {\n",
       "        vertical-align: top;\n",
       "    }\n",
       "\n",
       "    .dataframe thead th {\n",
       "        text-align: right;\n",
       "    }\n",
       "</style>\n",
       "<table border=\"1\" class=\"dataframe\">\n",
       "  <thead>\n",
       "    <tr style=\"text-align: right;\">\n",
       "      <th></th>\n",
       "      <th>InvoiceNo</th>\n",
       "      <th>StockCode</th>\n",
       "      <th>Description</th>\n",
       "      <th>Quantity</th>\n",
       "      <th>InvoiceDate</th>\n",
       "      <th>UnitPrice</th>\n",
       "      <th>CustomerID</th>\n",
       "      <th>Country</th>\n",
       "    </tr>\n",
       "  </thead>\n",
       "  <tbody>\n",
       "    <tr>\n",
       "      <th>141</th>\n",
       "      <td>C536379</td>\n",
       "      <td>D</td>\n",
       "      <td>Discount</td>\n",
       "      <td>-1</td>\n",
       "      <td>2010-12-01 09:41:00</td>\n",
       "      <td>27.500</td>\n",
       "      <td>14527.000</td>\n",
       "      <td>United Kingdom</td>\n",
       "    </tr>\n",
       "    <tr>\n",
       "      <th>9038</th>\n",
       "      <td>C537164</td>\n",
       "      <td>D</td>\n",
       "      <td>Discount</td>\n",
       "      <td>-1</td>\n",
       "      <td>2010-12-05 13:21:00</td>\n",
       "      <td>29.290</td>\n",
       "      <td>14527.000</td>\n",
       "      <td>United Kingdom</td>\n",
       "    </tr>\n",
       "    <tr>\n",
       "      <th>14498</th>\n",
       "      <td>C537597</td>\n",
       "      <td>D</td>\n",
       "      <td>Discount</td>\n",
       "      <td>-1</td>\n",
       "      <td>2010-12-07 12:34:00</td>\n",
       "      <td>281.000</td>\n",
       "      <td>15498.000</td>\n",
       "      <td>United Kingdom</td>\n",
       "    </tr>\n",
       "    <tr>\n",
       "      <th>19392</th>\n",
       "      <td>C537857</td>\n",
       "      <td>D</td>\n",
       "      <td>Discount</td>\n",
       "      <td>-1</td>\n",
       "      <td>2010-12-08 16:00:00</td>\n",
       "      <td>267.120</td>\n",
       "      <td>17340.000</td>\n",
       "      <td>United Kingdom</td>\n",
       "    </tr>\n",
       "    <tr>\n",
       "      <th>31134</th>\n",
       "      <td>C538897</td>\n",
       "      <td>D</td>\n",
       "      <td>Discount</td>\n",
       "      <td>-1</td>\n",
       "      <td>2010-12-15 09:14:00</td>\n",
       "      <td>5.760</td>\n",
       "      <td>16422.000</td>\n",
       "      <td>United Kingdom</td>\n",
       "    </tr>\n",
       "    <tr>\n",
       "      <th>31135</th>\n",
       "      <td>C538897</td>\n",
       "      <td>D</td>\n",
       "      <td>Discount</td>\n",
       "      <td>-1</td>\n",
       "      <td>2010-12-15 09:14:00</td>\n",
       "      <td>42.500</td>\n",
       "      <td>16422.000</td>\n",
       "      <td>United Kingdom</td>\n",
       "    </tr>\n",
       "    <tr>\n",
       "      <th>31663</th>\n",
       "      <td>C539003</td>\n",
       "      <td>D</td>\n",
       "      <td>Discount</td>\n",
       "      <td>-1</td>\n",
       "      <td>2010-12-15 12:35:00</td>\n",
       "      <td>26.930</td>\n",
       "      <td>14527.000</td>\n",
       "      <td>United Kingdom</td>\n",
       "    </tr>\n",
       "    <tr>\n",
       "      <th>38609</th>\n",
       "      <td>C539589</td>\n",
       "      <td>D</td>\n",
       "      <td>Discount</td>\n",
       "      <td>-1</td>\n",
       "      <td>2010-12-20 13:14:00</td>\n",
       "      <td>13.880</td>\n",
       "      <td>14527.000</td>\n",
       "      <td>United Kingdom</td>\n",
       "    </tr>\n",
       "    <tr>\n",
       "      <th>44405</th>\n",
       "      <td>C540171</td>\n",
       "      <td>D</td>\n",
       "      <td>Discount</td>\n",
       "      <td>-1</td>\n",
       "      <td>2011-01-05 12:26:00</td>\n",
       "      <td>22.970</td>\n",
       "      <td>14527.000</td>\n",
       "      <td>United Kingdom</td>\n",
       "    </tr>\n",
       "    <tr>\n",
       "      <th>88032</th>\n",
       "      <td>C543752</td>\n",
       "      <td>D</td>\n",
       "      <td>Discount</td>\n",
       "      <td>-1</td>\n",
       "      <td>2011-02-11 14:12:00</td>\n",
       "      <td>64.270</td>\n",
       "      <td>14031.000</td>\n",
       "      <td>United Kingdom</td>\n",
       "    </tr>\n",
       "    <tr>\n",
       "      <th>88071</th>\n",
       "      <td>C543758</td>\n",
       "      <td>D</td>\n",
       "      <td>Discount</td>\n",
       "      <td>-1</td>\n",
       "      <td>2011-02-11 15:07:00</td>\n",
       "      <td>65.910</td>\n",
       "      <td>15299.000</td>\n",
       "      <td>United Kingdom</td>\n",
       "    </tr>\n",
       "    <tr>\n",
       "      <th>88211</th>\n",
       "      <td>C543789</td>\n",
       "      <td>D</td>\n",
       "      <td>Discount</td>\n",
       "      <td>-1</td>\n",
       "      <td>2011-02-11 17:10:00</td>\n",
       "      <td>84.800</td>\n",
       "      <td>17450.000</td>\n",
       "      <td>United Kingdom</td>\n",
       "    </tr>\n",
       "    <tr>\n",
       "      <th>89282</th>\n",
       "      <td>C543840</td>\n",
       "      <td>D</td>\n",
       "      <td>Discount</td>\n",
       "      <td>-1</td>\n",
       "      <td>2011-02-14 11:19:00</td>\n",
       "      <td>70.010</td>\n",
       "      <td>14527.000</td>\n",
       "      <td>United Kingdom</td>\n",
       "    </tr>\n",
       "    <tr>\n",
       "      <th>108071</th>\n",
       "      <td>C545476</td>\n",
       "      <td>D</td>\n",
       "      <td>Discount</td>\n",
       "      <td>-1</td>\n",
       "      <td>2011-03-03 11:05:00</td>\n",
       "      <td>30.380</td>\n",
       "      <td>14527.000</td>\n",
       "      <td>United Kingdom</td>\n",
       "    </tr>\n",
       "    <tr>\n",
       "      <th>108088</th>\n",
       "      <td>C545478</td>\n",
       "      <td>D</td>\n",
       "      <td>Discount</td>\n",
       "      <td>-720</td>\n",
       "      <td>2011-03-03 11:08:00</td>\n",
       "      <td>0.010</td>\n",
       "      <td>16422.000</td>\n",
       "      <td>United Kingdom</td>\n",
       "    </tr>\n",
       "    <tr>\n",
       "      <th>115091</th>\n",
       "      <td>C546106</td>\n",
       "      <td>D</td>\n",
       "      <td>Discount</td>\n",
       "      <td>-1</td>\n",
       "      <td>2011-03-09 12:21:00</td>\n",
       "      <td>9.870</td>\n",
       "      <td>14527.000</td>\n",
       "      <td>United Kingdom</td>\n",
       "    </tr>\n",
       "    <tr>\n",
       "      <th>140555</th>\n",
       "      <td>C548411</td>\n",
       "      <td>D</td>\n",
       "      <td>Discount</td>\n",
       "      <td>-1</td>\n",
       "      <td>2011-03-31 10:36:00</td>\n",
       "      <td>162.240</td>\n",
       "      <td>13316.000</td>\n",
       "      <td>United Kingdom</td>\n",
       "    </tr>\n",
       "    <tr>\n",
       "      <th>140795</th>\n",
       "      <td>C548462</td>\n",
       "      <td>D</td>\n",
       "      <td>Discount</td>\n",
       "      <td>-1</td>\n",
       "      <td>2011-03-31 12:11:00</td>\n",
       "      <td>14.520</td>\n",
       "      <td>14527.000</td>\n",
       "      <td>United Kingdom</td>\n",
       "    </tr>\n",
       "    <tr>\n",
       "      <th>150591</th>\n",
       "      <td>C549452</td>\n",
       "      <td>D</td>\n",
       "      <td>Discount</td>\n",
       "      <td>-1</td>\n",
       "      <td>2011-04-08 14:17:00</td>\n",
       "      <td>1867.860</td>\n",
       "      <td>17940.000</td>\n",
       "      <td>United Kingdom</td>\n",
       "    </tr>\n",
       "    <tr>\n",
       "      <th>169541</th>\n",
       "      <td>C551190</td>\n",
       "      <td>D</td>\n",
       "      <td>Discount</td>\n",
       "      <td>-1</td>\n",
       "      <td>2011-04-27 10:22:00</td>\n",
       "      <td>120.000</td>\n",
       "      <td>17940.000</td>\n",
       "      <td>United Kingdom</td>\n",
       "    </tr>\n",
       "    <tr>\n",
       "      <th>169834</th>\n",
       "      <td>C551265</td>\n",
       "      <td>D</td>\n",
       "      <td>Discount</td>\n",
       "      <td>-1</td>\n",
       "      <td>2011-04-27 12:06:00</td>\n",
       "      <td>11.760</td>\n",
       "      <td>14527.000</td>\n",
       "      <td>United Kingdom</td>\n",
       "    </tr>\n",
       "    <tr>\n",
       "      <th>181009</th>\n",
       "      <td>C552423</td>\n",
       "      <td>D</td>\n",
       "      <td>Discount</td>\n",
       "      <td>-1</td>\n",
       "      <td>2011-05-09 12:44:00</td>\n",
       "      <td>11.840</td>\n",
       "      <td>14527.000</td>\n",
       "      <td>United Kingdom</td>\n",
       "    </tr>\n",
       "    <tr>\n",
       "      <th>182729</th>\n",
       "      <td>C552569</td>\n",
       "      <td>D</td>\n",
       "      <td>Discount</td>\n",
       "      <td>-240</td>\n",
       "      <td>2011-05-10 12:06:00</td>\n",
       "      <td>0.030</td>\n",
       "      <td>12901.000</td>\n",
       "      <td>United Kingdom</td>\n",
       "    </tr>\n",
       "    <tr>\n",
       "      <th>183138</th>\n",
       "      <td>C552650</td>\n",
       "      <td>D</td>\n",
       "      <td>Discount</td>\n",
       "      <td>-18</td>\n",
       "      <td>2011-05-10 14:03:00</td>\n",
       "      <td>1.450</td>\n",
       "      <td>16672.000</td>\n",
       "      <td>United Kingdom</td>\n",
       "    </tr>\n",
       "    <tr>\n",
       "      <th>192807</th>\n",
       "      <td>C553482</td>\n",
       "      <td>D</td>\n",
       "      <td>Discount</td>\n",
       "      <td>-1</td>\n",
       "      <td>2011-05-17 12:07:00</td>\n",
       "      <td>9.840</td>\n",
       "      <td>14527.000</td>\n",
       "      <td>United Kingdom</td>\n",
       "    </tr>\n",
       "    <tr>\n",
       "      <th>194727</th>\n",
       "      <td>C553665</td>\n",
       "      <td>D</td>\n",
       "      <td>Discount</td>\n",
       "      <td>-1</td>\n",
       "      <td>2011-05-18 12:16:00</td>\n",
       "      <td>15.960</td>\n",
       "      <td>14527.000</td>\n",
       "      <td>United Kingdom</td>\n",
       "    </tr>\n",
       "    <tr>\n",
       "      <th>196362</th>\n",
       "      <td>C553841</td>\n",
       "      <td>D</td>\n",
       "      <td>Discount</td>\n",
       "      <td>-48</td>\n",
       "      <td>2011-05-19 12:19:00</td>\n",
       "      <td>0.200</td>\n",
       "      <td>16029.000</td>\n",
       "      <td>United Kingdom</td>\n",
       "    </tr>\n",
       "    <tr>\n",
       "      <th>203526</th>\n",
       "      <td>C554516</td>\n",
       "      <td>D</td>\n",
       "      <td>Discount</td>\n",
       "      <td>-1</td>\n",
       "      <td>2011-05-24 16:50:00</td>\n",
       "      <td>13.880</td>\n",
       "      <td>14527.000</td>\n",
       "      <td>United Kingdom</td>\n",
       "    </tr>\n",
       "    <tr>\n",
       "      <th>214671</th>\n",
       "      <td>C555597</td>\n",
       "      <td>D</td>\n",
       "      <td>Discount</td>\n",
       "      <td>-1</td>\n",
       "      <td>2011-06-06 10:19:00</td>\n",
       "      <td>42.000</td>\n",
       "      <td>15796.000</td>\n",
       "      <td>United Kingdom</td>\n",
       "    </tr>\n",
       "    <tr>\n",
       "      <th>218253</th>\n",
       "      <td>C556037</td>\n",
       "      <td>D</td>\n",
       "      <td>Discount</td>\n",
       "      <td>-1</td>\n",
       "      <td>2011-06-08 12:37:00</td>\n",
       "      <td>20.920</td>\n",
       "      <td>14527.000</td>\n",
       "      <td>United Kingdom</td>\n",
       "    </tr>\n",
       "    <tr>\n",
       "      <th>221712</th>\n",
       "      <td>C556265</td>\n",
       "      <td>D</td>\n",
       "      <td>Discount</td>\n",
       "      <td>-1</td>\n",
       "      <td>2011-06-09 19:24:00</td>\n",
       "      <td>28.040</td>\n",
       "      <td>16684.000</td>\n",
       "      <td>United Kingdom</td>\n",
       "    </tr>\n",
       "    <tr>\n",
       "      <th>226396</th>\n",
       "      <td>C556796</td>\n",
       "      <td>D</td>\n",
       "      <td>Discount</td>\n",
       "      <td>-96</td>\n",
       "      <td>2011-06-14 14:40:00</td>\n",
       "      <td>0.700</td>\n",
       "      <td>16013.000</td>\n",
       "      <td>United Kingdom</td>\n",
       "    </tr>\n",
       "    <tr>\n",
       "      <th>227481</th>\n",
       "      <td>C556877</td>\n",
       "      <td>D</td>\n",
       "      <td>Discount</td>\n",
       "      <td>-1</td>\n",
       "      <td>2011-06-15 12:00:00</td>\n",
       "      <td>129.900</td>\n",
       "      <td>15498.000</td>\n",
       "      <td>United Kingdom</td>\n",
       "    </tr>\n",
       "    <tr>\n",
       "      <th>227705</th>\n",
       "      <td>C556904</td>\n",
       "      <td>D</td>\n",
       "      <td>Discount</td>\n",
       "      <td>-1</td>\n",
       "      <td>2011-06-15 12:56:00</td>\n",
       "      <td>14.420</td>\n",
       "      <td>14527.000</td>\n",
       "      <td>United Kingdom</td>\n",
       "    </tr>\n",
       "    <tr>\n",
       "      <th>238153</th>\n",
       "      <td>C557927</td>\n",
       "      <td>D</td>\n",
       "      <td>Discount</td>\n",
       "      <td>-1</td>\n",
       "      <td>2011-06-23 14:56:00</td>\n",
       "      <td>10.000</td>\n",
       "      <td>16029.000</td>\n",
       "      <td>United Kingdom</td>\n",
       "    </tr>\n",
       "    <tr>\n",
       "      <th>263482</th>\n",
       "      <td>C559992</td>\n",
       "      <td>D</td>\n",
       "      <td>Discount</td>\n",
       "      <td>-1</td>\n",
       "      <td>2011-07-14 12:30:00</td>\n",
       "      <td>13.990</td>\n",
       "      <td>14527.000</td>\n",
       "      <td>United Kingdom</td>\n",
       "    </tr>\n",
       "    <tr>\n",
       "      <th>273604</th>\n",
       "      <td>C560842</td>\n",
       "      <td>D</td>\n",
       "      <td>Discount</td>\n",
       "      <td>-1</td>\n",
       "      <td>2011-07-21 12:25:00</td>\n",
       "      <td>12.150</td>\n",
       "      <td>14527.000</td>\n",
       "      <td>United Kingdom</td>\n",
       "    </tr>\n",
       "    <tr>\n",
       "      <th>273935</th>\n",
       "      <td>C560869</td>\n",
       "      <td>D</td>\n",
       "      <td>Discount</td>\n",
       "      <td>-1</td>\n",
       "      <td>2011-07-21 14:32:00</td>\n",
       "      <td>66.240</td>\n",
       "      <td>12830.000</td>\n",
       "      <td>United Kingdom</td>\n",
       "    </tr>\n",
       "    <tr>\n",
       "      <th>279033</th>\n",
       "      <td>C561225</td>\n",
       "      <td>D</td>\n",
       "      <td>Discount</td>\n",
       "      <td>-1</td>\n",
       "      <td>2011-07-26 10:06:00</td>\n",
       "      <td>45.600</td>\n",
       "      <td>16029.000</td>\n",
       "      <td>United Kingdom</td>\n",
       "    </tr>\n",
       "    <tr>\n",
       "      <th>280503</th>\n",
       "      <td>C561464</td>\n",
       "      <td>D</td>\n",
       "      <td>Discount</td>\n",
       "      <td>-1</td>\n",
       "      <td>2011-07-27 12:40:00</td>\n",
       "      <td>26.050</td>\n",
       "      <td>14527.000</td>\n",
       "      <td>United Kingdom</td>\n",
       "    </tr>\n",
       "    <tr>\n",
       "      <th>295575</th>\n",
       "      <td>C562796</td>\n",
       "      <td>D</td>\n",
       "      <td>Discount</td>\n",
       "      <td>-1</td>\n",
       "      <td>2011-08-09 14:27:00</td>\n",
       "      <td>64.000</td>\n",
       "      <td>13694.000</td>\n",
       "      <td>United Kingdom</td>\n",
       "    </tr>\n",
       "    <tr>\n",
       "      <th>300951</th>\n",
       "      <td>C563225</td>\n",
       "      <td>D</td>\n",
       "      <td>Discount</td>\n",
       "      <td>-1</td>\n",
       "      <td>2011-08-14 14:35:00</td>\n",
       "      <td>434.510</td>\n",
       "      <td>14911.000</td>\n",
       "      <td>EIRE</td>\n",
       "    </tr>\n",
       "    <tr>\n",
       "      <th>304661</th>\n",
       "      <td>C563592</td>\n",
       "      <td>D</td>\n",
       "      <td>Discount</td>\n",
       "      <td>-1</td>\n",
       "      <td>2011-08-18 06:12:00</td>\n",
       "      <td>9.600</td>\n",
       "      <td>16029.000</td>\n",
       "      <td>United Kingdom</td>\n",
       "    </tr>\n",
       "    <tr>\n",
       "      <th>304662</th>\n",
       "      <td>C563593</td>\n",
       "      <td>D</td>\n",
       "      <td>Discount</td>\n",
       "      <td>-1</td>\n",
       "      <td>2011-08-18 06:13:00</td>\n",
       "      <td>206.400</td>\n",
       "      <td>14646.000</td>\n",
       "      <td>Netherlands</td>\n",
       "    </tr>\n",
       "    <tr>\n",
       "      <th>313360</th>\n",
       "      <td>C564487</td>\n",
       "      <td>D</td>\n",
       "      <td>Discount</td>\n",
       "      <td>-1</td>\n",
       "      <td>2011-08-25 14:07:00</td>\n",
       "      <td>11.520</td>\n",
       "      <td>15838.000</td>\n",
       "      <td>United Kingdom</td>\n",
       "    </tr>\n",
       "    <tr>\n",
       "      <th>317545</th>\n",
       "      <td>C564812</td>\n",
       "      <td>D</td>\n",
       "      <td>Discount</td>\n",
       "      <td>-1</td>\n",
       "      <td>2011-08-30 11:45:00</td>\n",
       "      <td>16.670</td>\n",
       "      <td>14527.000</td>\n",
       "      <td>United Kingdom</td>\n",
       "    </tr>\n",
       "    <tr>\n",
       "      <th>317546</th>\n",
       "      <td>C564812</td>\n",
       "      <td>D</td>\n",
       "      <td>Discount</td>\n",
       "      <td>-1</td>\n",
       "      <td>2011-08-30 11:45:00</td>\n",
       "      <td>15.070</td>\n",
       "      <td>14527.000</td>\n",
       "      <td>United Kingdom</td>\n",
       "    </tr>\n",
       "    <tr>\n",
       "      <th>317547</th>\n",
       "      <td>C564812</td>\n",
       "      <td>D</td>\n",
       "      <td>Discount</td>\n",
       "      <td>-1</td>\n",
       "      <td>2011-08-30 11:45:00</td>\n",
       "      <td>10.060</td>\n",
       "      <td>14527.000</td>\n",
       "      <td>United Kingdom</td>\n",
       "    </tr>\n",
       "    <tr>\n",
       "      <th>317548</th>\n",
       "      <td>C564812</td>\n",
       "      <td>D</td>\n",
       "      <td>Discount</td>\n",
       "      <td>-1</td>\n",
       "      <td>2011-08-30 11:45:00</td>\n",
       "      <td>13.000</td>\n",
       "      <td>14527.000</td>\n",
       "      <td>United Kingdom</td>\n",
       "    </tr>\n",
       "    <tr>\n",
       "      <th>319865</th>\n",
       "      <td>C564909</td>\n",
       "      <td>D</td>\n",
       "      <td>Discount</td>\n",
       "      <td>-1</td>\n",
       "      <td>2011-08-31 12:29:00</td>\n",
       "      <td>66.170</td>\n",
       "      <td>15498.000</td>\n",
       "      <td>United Kingdom</td>\n",
       "    </tr>\n",
       "    <tr>\n",
       "      <th>319866</th>\n",
       "      <td>C564909</td>\n",
       "      <td>D</td>\n",
       "      <td>Discount</td>\n",
       "      <td>-1</td>\n",
       "      <td>2011-08-31 12:29:00</td>\n",
       "      <td>33.750</td>\n",
       "      <td>15498.000</td>\n",
       "      <td>United Kingdom</td>\n",
       "    </tr>\n",
       "    <tr>\n",
       "      <th>320697</th>\n",
       "      <td>C565075</td>\n",
       "      <td>D</td>\n",
       "      <td>Discount</td>\n",
       "      <td>-1</td>\n",
       "      <td>2011-08-31 17:25:00</td>\n",
       "      <td>36.300</td>\n",
       "      <td>13408.000</td>\n",
       "      <td>United Kingdom</td>\n",
       "    </tr>\n",
       "    <tr>\n",
       "      <th>320698</th>\n",
       "      <td>C565075</td>\n",
       "      <td>D</td>\n",
       "      <td>Discount</td>\n",
       "      <td>-1</td>\n",
       "      <td>2011-08-31 17:25:00</td>\n",
       "      <td>38.390</td>\n",
       "      <td>13408.000</td>\n",
       "      <td>United Kingdom</td>\n",
       "    </tr>\n",
       "    <tr>\n",
       "      <th>320704</th>\n",
       "      <td>C565078</td>\n",
       "      <td>D</td>\n",
       "      <td>Discount</td>\n",
       "      <td>-1</td>\n",
       "      <td>2011-08-31 17:45:00</td>\n",
       "      <td>57.600</td>\n",
       "      <td>16422.000</td>\n",
       "      <td>United Kingdom</td>\n",
       "    </tr>\n",
       "    <tr>\n",
       "      <th>323492</th>\n",
       "      <td>C565313</td>\n",
       "      <td>D</td>\n",
       "      <td>Discount</td>\n",
       "      <td>-1</td>\n",
       "      <td>2011-09-02 12:41:00</td>\n",
       "      <td>14.500</td>\n",
       "      <td>14527.000</td>\n",
       "      <td>United Kingdom</td>\n",
       "    </tr>\n",
       "    <tr>\n",
       "      <th>324132</th>\n",
       "      <td>C565390</td>\n",
       "      <td>D</td>\n",
       "      <td>Discount</td>\n",
       "      <td>-1</td>\n",
       "      <td>2011-09-02 16:23:00</td>\n",
       "      <td>110.430</td>\n",
       "      <td>13408.000</td>\n",
       "      <td>United Kingdom</td>\n",
       "    </tr>\n",
       "    <tr>\n",
       "      <th>332535</th>\n",
       "      <td>C566078</td>\n",
       "      <td>D</td>\n",
       "      <td>Discount</td>\n",
       "      <td>-1</td>\n",
       "      <td>2011-09-09 09:38:00</td>\n",
       "      <td>45.330</td>\n",
       "      <td>13137.000</td>\n",
       "      <td>United Kingdom</td>\n",
       "    </tr>\n",
       "    <tr>\n",
       "      <th>337787</th>\n",
       "      <td>C566475</td>\n",
       "      <td>D</td>\n",
       "      <td>Discount</td>\n",
       "      <td>-1</td>\n",
       "      <td>2011-09-12 18:26:00</td>\n",
       "      <td>20.750</td>\n",
       "      <td>14527.000</td>\n",
       "      <td>United Kingdom</td>\n",
       "    </tr>\n",
       "    <tr>\n",
       "      <th>340223</th>\n",
       "      <td>C566613</td>\n",
       "      <td>D</td>\n",
       "      <td>Discount</td>\n",
       "      <td>-1</td>\n",
       "      <td>2011-09-13 17:17:00</td>\n",
       "      <td>15.000</td>\n",
       "      <td>16029.000</td>\n",
       "      <td>United Kingdom</td>\n",
       "    </tr>\n",
       "    <tr>\n",
       "      <th>340224</th>\n",
       "      <td>C566614</td>\n",
       "      <td>D</td>\n",
       "      <td>Discount</td>\n",
       "      <td>-1</td>\n",
       "      <td>2011-09-13 17:28:00</td>\n",
       "      <td>102.240</td>\n",
       "      <td>16029.000</td>\n",
       "      <td>United Kingdom</td>\n",
       "    </tr>\n",
       "    <tr>\n",
       "      <th>354737</th>\n",
       "      <td>C567896</td>\n",
       "      <td>D</td>\n",
       "      <td>Discount</td>\n",
       "      <td>-1</td>\n",
       "      <td>2011-09-22 15:59:00</td>\n",
       "      <td>18.620</td>\n",
       "      <td>14527.000</td>\n",
       "      <td>United Kingdom</td>\n",
       "    </tr>\n",
       "    <tr>\n",
       "      <th>380685</th>\n",
       "      <td>C569829</td>\n",
       "      <td>D</td>\n",
       "      <td>Discount</td>\n",
       "      <td>-1</td>\n",
       "      <td>2011-10-06 12:37:00</td>\n",
       "      <td>16.740</td>\n",
       "      <td>14527.000</td>\n",
       "      <td>United Kingdom</td>\n",
       "    </tr>\n",
       "    <tr>\n",
       "      <th>380686</th>\n",
       "      <td>C569829</td>\n",
       "      <td>D</td>\n",
       "      <td>Discount</td>\n",
       "      <td>-1</td>\n",
       "      <td>2011-10-06 12:37:00</td>\n",
       "      <td>16.070</td>\n",
       "      <td>14527.000</td>\n",
       "      <td>United Kingdom</td>\n",
       "    </tr>\n",
       "    <tr>\n",
       "      <th>422377</th>\n",
       "      <td>C573081</td>\n",
       "      <td>D</td>\n",
       "      <td>Discount</td>\n",
       "      <td>-1</td>\n",
       "      <td>2011-10-27 14:20:00</td>\n",
       "      <td>23.270</td>\n",
       "      <td>14527.000</td>\n",
       "      <td>United Kingdom</td>\n",
       "    </tr>\n",
       "    <tr>\n",
       "      <th>436717</th>\n",
       "      <td>C574238</td>\n",
       "      <td>D</td>\n",
       "      <td>Discount</td>\n",
       "      <td>-1</td>\n",
       "      <td>2011-11-03 12:39:00</td>\n",
       "      <td>11.840</td>\n",
       "      <td>13408.000</td>\n",
       "      <td>United Kingdom</td>\n",
       "    </tr>\n",
       "    <tr>\n",
       "      <th>436718</th>\n",
       "      <td>C574238</td>\n",
       "      <td>D</td>\n",
       "      <td>Discount</td>\n",
       "      <td>-1</td>\n",
       "      <td>2011-11-03 12:39:00</td>\n",
       "      <td>39.700</td>\n",
       "      <td>13408.000</td>\n",
       "      <td>United Kingdom</td>\n",
       "    </tr>\n",
       "    <tr>\n",
       "      <th>436719</th>\n",
       "      <td>C574238</td>\n",
       "      <td>D</td>\n",
       "      <td>Discount</td>\n",
       "      <td>-1</td>\n",
       "      <td>2011-11-03 12:39:00</td>\n",
       "      <td>11.590</td>\n",
       "      <td>13408.000</td>\n",
       "      <td>United Kingdom</td>\n",
       "    </tr>\n",
       "    <tr>\n",
       "      <th>459263</th>\n",
       "      <td>C575872</td>\n",
       "      <td>D</td>\n",
       "      <td>Discount</td>\n",
       "      <td>-1</td>\n",
       "      <td>2011-11-11 12:52:00</td>\n",
       "      <td>97.140</td>\n",
       "      <td>13408.000</td>\n",
       "      <td>United Kingdom</td>\n",
       "    </tr>\n",
       "    <tr>\n",
       "      <th>465290</th>\n",
       "      <td>C576218</td>\n",
       "      <td>D</td>\n",
       "      <td>Discount</td>\n",
       "      <td>-1</td>\n",
       "      <td>2011-11-14 12:57:00</td>\n",
       "      <td>183.000</td>\n",
       "      <td>13694.000</td>\n",
       "      <td>United Kingdom</td>\n",
       "    </tr>\n",
       "    <tr>\n",
       "      <th>465548</th>\n",
       "      <td>C576244</td>\n",
       "      <td>D</td>\n",
       "      <td>Discount</td>\n",
       "      <td>-1</td>\n",
       "      <td>2011-11-14 13:40:00</td>\n",
       "      <td>6.000</td>\n",
       "      <td>18167.000</td>\n",
       "      <td>United Kingdom</td>\n",
       "    </tr>\n",
       "    <tr>\n",
       "      <th>479866</th>\n",
       "      <td>C577227</td>\n",
       "      <td>D</td>\n",
       "      <td>Discount</td>\n",
       "      <td>-1</td>\n",
       "      <td>2011-11-18 12:06:00</td>\n",
       "      <td>27.260</td>\n",
       "      <td>14527.000</td>\n",
       "      <td>United Kingdom</td>\n",
       "    </tr>\n",
       "    <tr>\n",
       "      <th>479867</th>\n",
       "      <td>C577227</td>\n",
       "      <td>D</td>\n",
       "      <td>Discount</td>\n",
       "      <td>-1</td>\n",
       "      <td>2011-11-18 12:06:00</td>\n",
       "      <td>14.880</td>\n",
       "      <td>14527.000</td>\n",
       "      <td>United Kingdom</td>\n",
       "    </tr>\n",
       "    <tr>\n",
       "      <th>479868</th>\n",
       "      <td>C577227</td>\n",
       "      <td>D</td>\n",
       "      <td>Discount</td>\n",
       "      <td>-1</td>\n",
       "      <td>2011-11-18 12:06:00</td>\n",
       "      <td>19.820</td>\n",
       "      <td>14527.000</td>\n",
       "      <td>United Kingdom</td>\n",
       "    </tr>\n",
       "    <tr>\n",
       "      <th>479869</th>\n",
       "      <td>C577227</td>\n",
       "      <td>D</td>\n",
       "      <td>Discount</td>\n",
       "      <td>-1</td>\n",
       "      <td>2011-11-18 12:06:00</td>\n",
       "      <td>16.760</td>\n",
       "      <td>14527.000</td>\n",
       "      <td>United Kingdom</td>\n",
       "    </tr>\n",
       "    <tr>\n",
       "      <th>493613</th>\n",
       "      <td>C578239</td>\n",
       "      <td>D</td>\n",
       "      <td>Discount</td>\n",
       "      <td>-1</td>\n",
       "      <td>2011-11-23 12:29:00</td>\n",
       "      <td>26.330</td>\n",
       "      <td>14912.000</td>\n",
       "      <td>Italy</td>\n",
       "    </tr>\n",
       "    <tr>\n",
       "      <th>516221</th>\n",
       "      <td>C579884</td>\n",
       "      <td>D</td>\n",
       "      <td>Discount</td>\n",
       "      <td>-1</td>\n",
       "      <td>2011-11-30 17:34:00</td>\n",
       "      <td>20.530</td>\n",
       "      <td>14527.000</td>\n",
       "      <td>United Kingdom</td>\n",
       "    </tr>\n",
       "    <tr>\n",
       "      <th>516455</th>\n",
       "      <td>C579908</td>\n",
       "      <td>D</td>\n",
       "      <td>Discount</td>\n",
       "      <td>-1</td>\n",
       "      <td>2011-12-01 08:49:00</td>\n",
       "      <td>28.680</td>\n",
       "      <td>14527.000</td>\n",
       "      <td>United Kingdom</td>\n",
       "    </tr>\n",
       "  </tbody>\n",
       "</table>\n",
       "</div>"
      ],
      "text/plain": [
       "       InvoiceNo StockCode Description  Quantity         InvoiceDate  \\\n",
       "141      C536379         D    Discount        -1 2010-12-01 09:41:00   \n",
       "9038     C537164         D    Discount        -1 2010-12-05 13:21:00   \n",
       "14498    C537597         D    Discount        -1 2010-12-07 12:34:00   \n",
       "19392    C537857         D    Discount        -1 2010-12-08 16:00:00   \n",
       "31134    C538897         D    Discount        -1 2010-12-15 09:14:00   \n",
       "31135    C538897         D    Discount        -1 2010-12-15 09:14:00   \n",
       "31663    C539003         D    Discount        -1 2010-12-15 12:35:00   \n",
       "38609    C539589         D    Discount        -1 2010-12-20 13:14:00   \n",
       "44405    C540171         D    Discount        -1 2011-01-05 12:26:00   \n",
       "88032    C543752         D    Discount        -1 2011-02-11 14:12:00   \n",
       "88071    C543758         D    Discount        -1 2011-02-11 15:07:00   \n",
       "88211    C543789         D    Discount        -1 2011-02-11 17:10:00   \n",
       "89282    C543840         D    Discount        -1 2011-02-14 11:19:00   \n",
       "108071   C545476         D    Discount        -1 2011-03-03 11:05:00   \n",
       "108088   C545478         D    Discount      -720 2011-03-03 11:08:00   \n",
       "115091   C546106         D    Discount        -1 2011-03-09 12:21:00   \n",
       "140555   C548411         D    Discount        -1 2011-03-31 10:36:00   \n",
       "140795   C548462         D    Discount        -1 2011-03-31 12:11:00   \n",
       "150591   C549452         D    Discount        -1 2011-04-08 14:17:00   \n",
       "169541   C551190         D    Discount        -1 2011-04-27 10:22:00   \n",
       "169834   C551265         D    Discount        -1 2011-04-27 12:06:00   \n",
       "181009   C552423         D    Discount        -1 2011-05-09 12:44:00   \n",
       "182729   C552569         D    Discount      -240 2011-05-10 12:06:00   \n",
       "183138   C552650         D    Discount       -18 2011-05-10 14:03:00   \n",
       "192807   C553482         D    Discount        -1 2011-05-17 12:07:00   \n",
       "194727   C553665         D    Discount        -1 2011-05-18 12:16:00   \n",
       "196362   C553841         D    Discount       -48 2011-05-19 12:19:00   \n",
       "203526   C554516         D    Discount        -1 2011-05-24 16:50:00   \n",
       "214671   C555597         D    Discount        -1 2011-06-06 10:19:00   \n",
       "218253   C556037         D    Discount        -1 2011-06-08 12:37:00   \n",
       "221712   C556265         D    Discount        -1 2011-06-09 19:24:00   \n",
       "226396   C556796         D    Discount       -96 2011-06-14 14:40:00   \n",
       "227481   C556877         D    Discount        -1 2011-06-15 12:00:00   \n",
       "227705   C556904         D    Discount        -1 2011-06-15 12:56:00   \n",
       "238153   C557927         D    Discount        -1 2011-06-23 14:56:00   \n",
       "263482   C559992         D    Discount        -1 2011-07-14 12:30:00   \n",
       "273604   C560842         D    Discount        -1 2011-07-21 12:25:00   \n",
       "273935   C560869         D    Discount        -1 2011-07-21 14:32:00   \n",
       "279033   C561225         D    Discount        -1 2011-07-26 10:06:00   \n",
       "280503   C561464         D    Discount        -1 2011-07-27 12:40:00   \n",
       "295575   C562796         D    Discount        -1 2011-08-09 14:27:00   \n",
       "300951   C563225         D    Discount        -1 2011-08-14 14:35:00   \n",
       "304661   C563592         D    Discount        -1 2011-08-18 06:12:00   \n",
       "304662   C563593         D    Discount        -1 2011-08-18 06:13:00   \n",
       "313360   C564487         D    Discount        -1 2011-08-25 14:07:00   \n",
       "317545   C564812         D    Discount        -1 2011-08-30 11:45:00   \n",
       "317546   C564812         D    Discount        -1 2011-08-30 11:45:00   \n",
       "317547   C564812         D    Discount        -1 2011-08-30 11:45:00   \n",
       "317548   C564812         D    Discount        -1 2011-08-30 11:45:00   \n",
       "319865   C564909         D    Discount        -1 2011-08-31 12:29:00   \n",
       "319866   C564909         D    Discount        -1 2011-08-31 12:29:00   \n",
       "320697   C565075         D    Discount        -1 2011-08-31 17:25:00   \n",
       "320698   C565075         D    Discount        -1 2011-08-31 17:25:00   \n",
       "320704   C565078         D    Discount        -1 2011-08-31 17:45:00   \n",
       "323492   C565313         D    Discount        -1 2011-09-02 12:41:00   \n",
       "324132   C565390         D    Discount        -1 2011-09-02 16:23:00   \n",
       "332535   C566078         D    Discount        -1 2011-09-09 09:38:00   \n",
       "337787   C566475         D    Discount        -1 2011-09-12 18:26:00   \n",
       "340223   C566613         D    Discount        -1 2011-09-13 17:17:00   \n",
       "340224   C566614         D    Discount        -1 2011-09-13 17:28:00   \n",
       "354737   C567896         D    Discount        -1 2011-09-22 15:59:00   \n",
       "380685   C569829         D    Discount        -1 2011-10-06 12:37:00   \n",
       "380686   C569829         D    Discount        -1 2011-10-06 12:37:00   \n",
       "422377   C573081         D    Discount        -1 2011-10-27 14:20:00   \n",
       "436717   C574238         D    Discount        -1 2011-11-03 12:39:00   \n",
       "436718   C574238         D    Discount        -1 2011-11-03 12:39:00   \n",
       "436719   C574238         D    Discount        -1 2011-11-03 12:39:00   \n",
       "459263   C575872         D    Discount        -1 2011-11-11 12:52:00   \n",
       "465290   C576218         D    Discount        -1 2011-11-14 12:57:00   \n",
       "465548   C576244         D    Discount        -1 2011-11-14 13:40:00   \n",
       "479866   C577227         D    Discount        -1 2011-11-18 12:06:00   \n",
       "479867   C577227         D    Discount        -1 2011-11-18 12:06:00   \n",
       "479868   C577227         D    Discount        -1 2011-11-18 12:06:00   \n",
       "479869   C577227         D    Discount        -1 2011-11-18 12:06:00   \n",
       "493613   C578239         D    Discount        -1 2011-11-23 12:29:00   \n",
       "516221   C579884         D    Discount        -1 2011-11-30 17:34:00   \n",
       "516455   C579908         D    Discount        -1 2011-12-01 08:49:00   \n",
       "\n",
       "        UnitPrice  CustomerID         Country  \n",
       "141        27.500   14527.000  United Kingdom  \n",
       "9038       29.290   14527.000  United Kingdom  \n",
       "14498     281.000   15498.000  United Kingdom  \n",
       "19392     267.120   17340.000  United Kingdom  \n",
       "31134       5.760   16422.000  United Kingdom  \n",
       "31135      42.500   16422.000  United Kingdom  \n",
       "31663      26.930   14527.000  United Kingdom  \n",
       "38609      13.880   14527.000  United Kingdom  \n",
       "44405      22.970   14527.000  United Kingdom  \n",
       "88032      64.270   14031.000  United Kingdom  \n",
       "88071      65.910   15299.000  United Kingdom  \n",
       "88211      84.800   17450.000  United Kingdom  \n",
       "89282      70.010   14527.000  United Kingdom  \n",
       "108071     30.380   14527.000  United Kingdom  \n",
       "108088      0.010   16422.000  United Kingdom  \n",
       "115091      9.870   14527.000  United Kingdom  \n",
       "140555    162.240   13316.000  United Kingdom  \n",
       "140795     14.520   14527.000  United Kingdom  \n",
       "150591   1867.860   17940.000  United Kingdom  \n",
       "169541    120.000   17940.000  United Kingdom  \n",
       "169834     11.760   14527.000  United Kingdom  \n",
       "181009     11.840   14527.000  United Kingdom  \n",
       "182729      0.030   12901.000  United Kingdom  \n",
       "183138      1.450   16672.000  United Kingdom  \n",
       "192807      9.840   14527.000  United Kingdom  \n",
       "194727     15.960   14527.000  United Kingdom  \n",
       "196362      0.200   16029.000  United Kingdom  \n",
       "203526     13.880   14527.000  United Kingdom  \n",
       "214671     42.000   15796.000  United Kingdom  \n",
       "218253     20.920   14527.000  United Kingdom  \n",
       "221712     28.040   16684.000  United Kingdom  \n",
       "226396      0.700   16013.000  United Kingdom  \n",
       "227481    129.900   15498.000  United Kingdom  \n",
       "227705     14.420   14527.000  United Kingdom  \n",
       "238153     10.000   16029.000  United Kingdom  \n",
       "263482     13.990   14527.000  United Kingdom  \n",
       "273604     12.150   14527.000  United Kingdom  \n",
       "273935     66.240   12830.000  United Kingdom  \n",
       "279033     45.600   16029.000  United Kingdom  \n",
       "280503     26.050   14527.000  United Kingdom  \n",
       "295575     64.000   13694.000  United Kingdom  \n",
       "300951    434.510   14911.000            EIRE  \n",
       "304661      9.600   16029.000  United Kingdom  \n",
       "304662    206.400   14646.000     Netherlands  \n",
       "313360     11.520   15838.000  United Kingdom  \n",
       "317545     16.670   14527.000  United Kingdom  \n",
       "317546     15.070   14527.000  United Kingdom  \n",
       "317547     10.060   14527.000  United Kingdom  \n",
       "317548     13.000   14527.000  United Kingdom  \n",
       "319865     66.170   15498.000  United Kingdom  \n",
       "319866     33.750   15498.000  United Kingdom  \n",
       "320697     36.300   13408.000  United Kingdom  \n",
       "320698     38.390   13408.000  United Kingdom  \n",
       "320704     57.600   16422.000  United Kingdom  \n",
       "323492     14.500   14527.000  United Kingdom  \n",
       "324132    110.430   13408.000  United Kingdom  \n",
       "332535     45.330   13137.000  United Kingdom  \n",
       "337787     20.750   14527.000  United Kingdom  \n",
       "340223     15.000   16029.000  United Kingdom  \n",
       "340224    102.240   16029.000  United Kingdom  \n",
       "354737     18.620   14527.000  United Kingdom  \n",
       "380685     16.740   14527.000  United Kingdom  \n",
       "380686     16.070   14527.000  United Kingdom  \n",
       "422377     23.270   14527.000  United Kingdom  \n",
       "436717     11.840   13408.000  United Kingdom  \n",
       "436718     39.700   13408.000  United Kingdom  \n",
       "436719     11.590   13408.000  United Kingdom  \n",
       "459263     97.140   13408.000  United Kingdom  \n",
       "465290    183.000   13694.000  United Kingdom  \n",
       "465548      6.000   18167.000  United Kingdom  \n",
       "479866     27.260   14527.000  United Kingdom  \n",
       "479867     14.880   14527.000  United Kingdom  \n",
       "479868     19.820   14527.000  United Kingdom  \n",
       "479869     16.760   14527.000  United Kingdom  \n",
       "493613     26.330   14912.000           Italy  \n",
       "516221     20.530   14527.000  United Kingdom  \n",
       "516455     28.680   14527.000  United Kingdom  "
      ]
     },
     "execution_count": 36,
     "metadata": {},
     "output_type": "execute_result"
    }
   ],
   "source": [
    "df[df['StockCode']=='D']"
   ]
  },
  {
   "cell_type": "code",
   "execution_count": 18,
   "metadata": {},
   "outputs": [
    {
     "data": {
      "text/html": [
       "<div>\n",
       "<style scoped>\n",
       "    .dataframe tbody tr th:only-of-type {\n",
       "        vertical-align: middle;\n",
       "    }\n",
       "\n",
       "    .dataframe tbody tr th {\n",
       "        vertical-align: top;\n",
       "    }\n",
       "\n",
       "    .dataframe thead th {\n",
       "        text-align: right;\n",
       "    }\n",
       "</style>\n",
       "<table border=\"1\" class=\"dataframe\">\n",
       "  <thead>\n",
       "    <tr style=\"text-align: right;\">\n",
       "      <th></th>\n",
       "      <th>InvoiceNo</th>\n",
       "      <th>StockCode</th>\n",
       "      <th>Description</th>\n",
       "      <th>Quantity</th>\n",
       "      <th>InvoiceDate</th>\n",
       "      <th>UnitPrice</th>\n",
       "      <th>CustomerID</th>\n",
       "      <th>Country</th>\n",
       "    </tr>\n",
       "  </thead>\n",
       "  <tbody>\n",
       "    <tr>\n",
       "      <th>299982</th>\n",
       "      <td>A563185</td>\n",
       "      <td>B</td>\n",
       "      <td>Adjust bad debt</td>\n",
       "      <td>1</td>\n",
       "      <td>2011-08-12 14:50:00</td>\n",
       "      <td>11062.060</td>\n",
       "      <td>NaN</td>\n",
       "      <td>United Kingdom</td>\n",
       "    </tr>\n",
       "    <tr>\n",
       "      <th>299983</th>\n",
       "      <td>A563186</td>\n",
       "      <td>B</td>\n",
       "      <td>Adjust bad debt</td>\n",
       "      <td>1</td>\n",
       "      <td>2011-08-12 14:51:00</td>\n",
       "      <td>-11062.060</td>\n",
       "      <td>NaN</td>\n",
       "      <td>United Kingdom</td>\n",
       "    </tr>\n",
       "    <tr>\n",
       "      <th>299984</th>\n",
       "      <td>A563187</td>\n",
       "      <td>B</td>\n",
       "      <td>Adjust bad debt</td>\n",
       "      <td>1</td>\n",
       "      <td>2011-08-12 14:52:00</td>\n",
       "      <td>-11062.060</td>\n",
       "      <td>NaN</td>\n",
       "      <td>United Kingdom</td>\n",
       "    </tr>\n",
       "  </tbody>\n",
       "</table>\n",
       "</div>"
      ],
      "text/plain": [
       "       InvoiceNo StockCode      Description  Quantity         InvoiceDate  \\\n",
       "299982   A563185         B  Adjust bad debt         1 2011-08-12 14:50:00   \n",
       "299983   A563186         B  Adjust bad debt         1 2011-08-12 14:51:00   \n",
       "299984   A563187         B  Adjust bad debt         1 2011-08-12 14:52:00   \n",
       "\n",
       "        UnitPrice  CustomerID         Country  \n",
       "299982  11062.060         NaN  United Kingdom  \n",
       "299983 -11062.060         NaN  United Kingdom  \n",
       "299984 -11062.060         NaN  United Kingdom  "
      ]
     },
     "execution_count": 18,
     "metadata": {},
     "output_type": "execute_result"
    }
   ],
   "source": [
    "df[df.InvoiceNo.str.startswith('A', na=False)]"
   ]
  },
  {
   "cell_type": "markdown",
   "metadata": {
    "id": "7OoPE-QLiqa4"
   },
   "source": [
    "### ii. What does the letter \"C\" in the InvoiceNo column mean?"
   ]
  },
  {
   "cell_type": "code",
   "execution_count": null,
   "metadata": {
    "id": "PgN0C80Giqa5"
   },
   "outputs": [],
   "source": []
  },
  {
   "cell_type": "markdown",
   "metadata": {
    "id": "Kt32SZgJQGV8"
   },
   "source": [
    "If the invoice number starts with the letter \"C\", it means the order was cancelled. Or those who abandon their order."
   ]
  },
  {
   "cell_type": "code",
   "execution_count": 43,
   "metadata": {
    "id": "-sdD1F4Xiqa5",
    "scrolled": true
   },
   "outputs": [
    {
     "data": {
      "text/html": [
       "<div>\n",
       "<style scoped>\n",
       "    .dataframe tbody tr th:only-of-type {\n",
       "        vertical-align: middle;\n",
       "    }\n",
       "\n",
       "    .dataframe tbody tr th {\n",
       "        vertical-align: top;\n",
       "    }\n",
       "\n",
       "    .dataframe thead th {\n",
       "        text-align: right;\n",
       "    }\n",
       "</style>\n",
       "<table border=\"1\" class=\"dataframe\">\n",
       "  <thead>\n",
       "    <tr style=\"text-align: right;\">\n",
       "      <th></th>\n",
       "      <th>InvoiceNo</th>\n",
       "      <th>StockCode</th>\n",
       "      <th>Description</th>\n",
       "      <th>Quantity</th>\n",
       "      <th>InvoiceDate</th>\n",
       "      <th>UnitPrice</th>\n",
       "      <th>CustomerID</th>\n",
       "      <th>Country</th>\n",
       "    </tr>\n",
       "  </thead>\n",
       "  <tbody>\n",
       "    <tr>\n",
       "      <th>197422</th>\n",
       "      <td>C553906</td>\n",
       "      <td>82482</td>\n",
       "      <td>WOODEN PICTURE FRAME WHITE FINISH</td>\n",
       "      <td>-1</td>\n",
       "      <td>2011-05-19 18:13:00</td>\n",
       "      <td>2.550</td>\n",
       "      <td>16554.000</td>\n",
       "      <td>United Kingdom</td>\n",
       "    </tr>\n",
       "    <tr>\n",
       "      <th>492656</th>\n",
       "      <td>C578144</td>\n",
       "      <td>22699</td>\n",
       "      <td>ROSES REGENCY TEACUP AND SAUCER</td>\n",
       "      <td>-1</td>\n",
       "      <td>2011-11-23 11:06:00</td>\n",
       "      <td>2.950</td>\n",
       "      <td>16201.000</td>\n",
       "      <td>United Kingdom</td>\n",
       "    </tr>\n",
       "    <tr>\n",
       "      <th>231506</th>\n",
       "      <td>C557269</td>\n",
       "      <td>22364</td>\n",
       "      <td>GLASS JAR DIGESTIVE BISCUITS</td>\n",
       "      <td>-1</td>\n",
       "      <td>2011-06-19 11:27:00</td>\n",
       "      <td>2.950</td>\n",
       "      <td>13097.000</td>\n",
       "      <td>United Kingdom</td>\n",
       "    </tr>\n",
       "    <tr>\n",
       "      <th>446652</th>\n",
       "      <td>C574912</td>\n",
       "      <td>23173</td>\n",
       "      <td>REGENCY TEAPOT ROSES</td>\n",
       "      <td>-2</td>\n",
       "      <td>2011-11-07 15:51:00</td>\n",
       "      <td>8.150</td>\n",
       "      <td>13324.000</td>\n",
       "      <td>United Kingdom</td>\n",
       "    </tr>\n",
       "    <tr>\n",
       "      <th>224419</th>\n",
       "      <td>C556522</td>\n",
       "      <td>22920</td>\n",
       "      <td>HERB MARKER BASIL</td>\n",
       "      <td>-1515</td>\n",
       "      <td>2011-06-13 11:21:00</td>\n",
       "      <td>0.550</td>\n",
       "      <td>16938.000</td>\n",
       "      <td>United Kingdom</td>\n",
       "    </tr>\n",
       "    <tr>\n",
       "      <th>88102</th>\n",
       "      <td>C543769</td>\n",
       "      <td>72807C</td>\n",
       "      <td>SET/3 VANILLA SCENTED CANDLE IN BOX</td>\n",
       "      <td>-1</td>\n",
       "      <td>2011-02-11 15:22:00</td>\n",
       "      <td>4.250</td>\n",
       "      <td>17213.000</td>\n",
       "      <td>United Kingdom</td>\n",
       "    </tr>\n",
       "    <tr>\n",
       "      <th>456030</th>\n",
       "      <td>C575665</td>\n",
       "      <td>23113</td>\n",
       "      <td>PANTRY CHOPPING BOARD</td>\n",
       "      <td>-1</td>\n",
       "      <td>2011-11-10 14:54:00</td>\n",
       "      <td>4.950</td>\n",
       "      <td>17442.000</td>\n",
       "      <td>United Kingdom</td>\n",
       "    </tr>\n",
       "    <tr>\n",
       "      <th>246751</th>\n",
       "      <td>C558716</td>\n",
       "      <td>22374</td>\n",
       "      <td>AIRLINE BAG VINTAGE JET SET RED</td>\n",
       "      <td>-2</td>\n",
       "      <td>2011-07-01 13:22:00</td>\n",
       "      <td>4.250</td>\n",
       "      <td>17888.000</td>\n",
       "      <td>United Kingdom</td>\n",
       "    </tr>\n",
       "    <tr>\n",
       "      <th>414325</th>\n",
       "      <td>C572450</td>\n",
       "      <td>M</td>\n",
       "      <td>Manual</td>\n",
       "      <td>-1</td>\n",
       "      <td>2011-10-24 12:35:00</td>\n",
       "      <td>248.870</td>\n",
       "      <td>NaN</td>\n",
       "      <td>United Kingdom</td>\n",
       "    </tr>\n",
       "    <tr>\n",
       "      <th>256176</th>\n",
       "      <td>C559461</td>\n",
       "      <td>20727</td>\n",
       "      <td>LUNCH BAG  BLACK SKULL.</td>\n",
       "      <td>-1</td>\n",
       "      <td>2011-07-08 13:04:00</td>\n",
       "      <td>1.650</td>\n",
       "      <td>14680.000</td>\n",
       "      <td>United Kingdom</td>\n",
       "    </tr>\n",
       "    <tr>\n",
       "      <th>168583</th>\n",
       "      <td>C551061</td>\n",
       "      <td>82551</td>\n",
       "      <td>LAUNDRY 15C METAL SIGN</td>\n",
       "      <td>-1</td>\n",
       "      <td>2011-04-26 12:13:00</td>\n",
       "      <td>1.450</td>\n",
       "      <td>16356.000</td>\n",
       "      <td>United Kingdom</td>\n",
       "    </tr>\n",
       "    <tr>\n",
       "      <th>448137</th>\n",
       "      <td>C575035</td>\n",
       "      <td>22066</td>\n",
       "      <td>LOVE HEART TRINKET POT</td>\n",
       "      <td>-1</td>\n",
       "      <td>2011-11-08 11:38:00</td>\n",
       "      <td>0.390</td>\n",
       "      <td>15005.000</td>\n",
       "      <td>United Kingdom</td>\n",
       "    </tr>\n",
       "    <tr>\n",
       "      <th>290352</th>\n",
       "      <td>C562375</td>\n",
       "      <td>23173</td>\n",
       "      <td>REGENCY TEAPOT ROSES</td>\n",
       "      <td>-24</td>\n",
       "      <td>2011-08-04 14:46:00</td>\n",
       "      <td>8.150</td>\n",
       "      <td>14911.000</td>\n",
       "      <td>EIRE</td>\n",
       "    </tr>\n",
       "    <tr>\n",
       "      <th>196936</th>\n",
       "      <td>C553877</td>\n",
       "      <td>21533</td>\n",
       "      <td>RETROSPOT LARGE MILK JUG</td>\n",
       "      <td>-1</td>\n",
       "      <td>2011-05-19 14:47:00</td>\n",
       "      <td>4.950</td>\n",
       "      <td>13319.000</td>\n",
       "      <td>United Kingdom</td>\n",
       "    </tr>\n",
       "    <tr>\n",
       "      <th>246856</th>\n",
       "      <td>C558735</td>\n",
       "      <td>22424</td>\n",
       "      <td>ENAMEL BREAD BIN CREAM</td>\n",
       "      <td>-1</td>\n",
       "      <td>2011-07-01 15:09:00</td>\n",
       "      <td>12.750</td>\n",
       "      <td>16700.000</td>\n",
       "      <td>United Kingdom</td>\n",
       "    </tr>\n",
       "    <tr>\n",
       "      <th>363320</th>\n",
       "      <td>C568561</td>\n",
       "      <td>21530</td>\n",
       "      <td>DAIRY MAID TOASTRACK</td>\n",
       "      <td>-18</td>\n",
       "      <td>2011-09-27 16:45:00</td>\n",
       "      <td>0.790</td>\n",
       "      <td>15505.000</td>\n",
       "      <td>United Kingdom</td>\n",
       "    </tr>\n",
       "    <tr>\n",
       "      <th>171758</th>\n",
       "      <td>C551463</td>\n",
       "      <td>23142</td>\n",
       "      <td>IVORY WIRE KITCHEN ORGANISER</td>\n",
       "      <td>-1</td>\n",
       "      <td>2011-04-28 16:13:00</td>\n",
       "      <td>10.400</td>\n",
       "      <td>13534.000</td>\n",
       "      <td>United Kingdom</td>\n",
       "    </tr>\n",
       "    <tr>\n",
       "      <th>488408</th>\n",
       "      <td>C577817</td>\n",
       "      <td>22947</td>\n",
       "      <td>WOODEN ADVENT CALENDAR RED</td>\n",
       "      <td>-1</td>\n",
       "      <td>2011-11-22 09:17:00</td>\n",
       "      <td>7.950</td>\n",
       "      <td>13081.000</td>\n",
       "      <td>United Kingdom</td>\n",
       "    </tr>\n",
       "    <tr>\n",
       "      <th>256636</th>\n",
       "      <td>C559500</td>\n",
       "      <td>21735</td>\n",
       "      <td>TWO DOOR CURIO CABINET</td>\n",
       "      <td>-1</td>\n",
       "      <td>2011-07-08 14:27:00</td>\n",
       "      <td>12.750</td>\n",
       "      <td>14016.000</td>\n",
       "      <td>EIRE</td>\n",
       "    </tr>\n",
       "    <tr>\n",
       "      <th>381685</th>\n",
       "      <td>569884</td>\n",
       "      <td>90164B</td>\n",
       "      <td>NaN</td>\n",
       "      <td>-14</td>\n",
       "      <td>2011-10-06 15:16:00</td>\n",
       "      <td>0.000</td>\n",
       "      <td>NaN</td>\n",
       "      <td>United Kingdom</td>\n",
       "    </tr>\n",
       "  </tbody>\n",
       "</table>\n",
       "</div>"
      ],
      "text/plain": [
       "       InvoiceNo StockCode                          Description  Quantity  \\\n",
       "197422   C553906     82482    WOODEN PICTURE FRAME WHITE FINISH        -1   \n",
       "492656   C578144     22699     ROSES REGENCY TEACUP AND SAUCER         -1   \n",
       "231506   C557269     22364         GLASS JAR DIGESTIVE BISCUITS        -1   \n",
       "446652   C574912     23173                REGENCY TEAPOT ROSES         -2   \n",
       "224419   C556522     22920                    HERB MARKER BASIL     -1515   \n",
       "88102    C543769    72807C  SET/3 VANILLA SCENTED CANDLE IN BOX        -1   \n",
       "456030   C575665     23113                PANTRY CHOPPING BOARD        -1   \n",
       "246751   C558716     22374      AIRLINE BAG VINTAGE JET SET RED        -2   \n",
       "414325   C572450         M                               Manual        -1   \n",
       "256176   C559461     20727              LUNCH BAG  BLACK SKULL.        -1   \n",
       "168583   C551061     82551               LAUNDRY 15C METAL SIGN        -1   \n",
       "448137   C575035     22066               LOVE HEART TRINKET POT        -1   \n",
       "290352   C562375     23173                REGENCY TEAPOT ROSES        -24   \n",
       "196936   C553877     21533             RETROSPOT LARGE MILK JUG        -1   \n",
       "246856   C558735     22424               ENAMEL BREAD BIN CREAM        -1   \n",
       "363320   C568561     21530                 DAIRY MAID TOASTRACK       -18   \n",
       "171758   C551463     23142         IVORY WIRE KITCHEN ORGANISER        -1   \n",
       "488408   C577817     22947           WOODEN ADVENT CALENDAR RED        -1   \n",
       "256636   C559500     21735               TWO DOOR CURIO CABINET        -1   \n",
       "381685    569884    90164B                                  NaN       -14   \n",
       "\n",
       "               InvoiceDate  UnitPrice  CustomerID         Country  \n",
       "197422 2011-05-19 18:13:00      2.550   16554.000  United Kingdom  \n",
       "492656 2011-11-23 11:06:00      2.950   16201.000  United Kingdom  \n",
       "231506 2011-06-19 11:27:00      2.950   13097.000  United Kingdom  \n",
       "446652 2011-11-07 15:51:00      8.150   13324.000  United Kingdom  \n",
       "224419 2011-06-13 11:21:00      0.550   16938.000  United Kingdom  \n",
       "88102  2011-02-11 15:22:00      4.250   17213.000  United Kingdom  \n",
       "456030 2011-11-10 14:54:00      4.950   17442.000  United Kingdom  \n",
       "246751 2011-07-01 13:22:00      4.250   17888.000  United Kingdom  \n",
       "414325 2011-10-24 12:35:00    248.870         NaN  United Kingdom  \n",
       "256176 2011-07-08 13:04:00      1.650   14680.000  United Kingdom  \n",
       "168583 2011-04-26 12:13:00      1.450   16356.000  United Kingdom  \n",
       "448137 2011-11-08 11:38:00      0.390   15005.000  United Kingdom  \n",
       "290352 2011-08-04 14:46:00      8.150   14911.000            EIRE  \n",
       "196936 2011-05-19 14:47:00      4.950   13319.000  United Kingdom  \n",
       "246856 2011-07-01 15:09:00     12.750   16700.000  United Kingdom  \n",
       "363320 2011-09-27 16:45:00      0.790   15505.000  United Kingdom  \n",
       "171758 2011-04-28 16:13:00     10.400   13534.000  United Kingdom  \n",
       "488408 2011-11-22 09:17:00      7.950   13081.000  United Kingdom  \n",
       "256636 2011-07-08 14:27:00     12.750   14016.000            EIRE  \n",
       "381685 2011-10-06 15:16:00      0.000         NaN  United Kingdom  "
      ]
     },
     "execution_count": 43,
     "metadata": {},
     "output_type": "execute_result"
    }
   ],
   "source": [
    "df[(df['Quantity']<0) | (df['UnitPrice']<0)].sample(20)"
   ]
  },
  {
   "cell_type": "code",
   "execution_count": 47,
   "metadata": {
    "scrolled": true
   },
   "outputs": [
    {
     "data": {
      "text/html": [
       "<div>\n",
       "<style scoped>\n",
       "    .dataframe tbody tr th:only-of-type {\n",
       "        vertical-align: middle;\n",
       "    }\n",
       "\n",
       "    .dataframe tbody tr th {\n",
       "        vertical-align: top;\n",
       "    }\n",
       "\n",
       "    .dataframe thead th {\n",
       "        text-align: right;\n",
       "    }\n",
       "</style>\n",
       "<table border=\"1\" class=\"dataframe\">\n",
       "  <thead>\n",
       "    <tr style=\"text-align: right;\">\n",
       "      <th></th>\n",
       "      <th>InvoiceNo</th>\n",
       "      <th>StockCode</th>\n",
       "      <th>Description</th>\n",
       "      <th>Quantity</th>\n",
       "      <th>InvoiceDate</th>\n",
       "      <th>UnitPrice</th>\n",
       "      <th>CustomerID</th>\n",
       "      <th>Country</th>\n",
       "    </tr>\n",
       "  </thead>\n",
       "  <tbody>\n",
       "    <tr>\n",
       "      <th>622</th>\n",
       "      <td>536414</td>\n",
       "      <td>22139</td>\n",
       "      <td>NaN</td>\n",
       "      <td>56</td>\n",
       "      <td>2010-12-01 11:52:00</td>\n",
       "      <td>0.000</td>\n",
       "      <td>NaN</td>\n",
       "      <td>United Kingdom</td>\n",
       "    </tr>\n",
       "    <tr>\n",
       "      <th>1970</th>\n",
       "      <td>536545</td>\n",
       "      <td>21134</td>\n",
       "      <td>NaN</td>\n",
       "      <td>1</td>\n",
       "      <td>2010-12-01 14:32:00</td>\n",
       "      <td>0.000</td>\n",
       "      <td>NaN</td>\n",
       "      <td>United Kingdom</td>\n",
       "    </tr>\n",
       "    <tr>\n",
       "      <th>1971</th>\n",
       "      <td>536546</td>\n",
       "      <td>22145</td>\n",
       "      <td>NaN</td>\n",
       "      <td>1</td>\n",
       "      <td>2010-12-01 14:33:00</td>\n",
       "      <td>0.000</td>\n",
       "      <td>NaN</td>\n",
       "      <td>United Kingdom</td>\n",
       "    </tr>\n",
       "    <tr>\n",
       "      <th>1972</th>\n",
       "      <td>536547</td>\n",
       "      <td>37509</td>\n",
       "      <td>NaN</td>\n",
       "      <td>1</td>\n",
       "      <td>2010-12-01 14:33:00</td>\n",
       "      <td>0.000</td>\n",
       "      <td>NaN</td>\n",
       "      <td>United Kingdom</td>\n",
       "    </tr>\n",
       "    <tr>\n",
       "      <th>1987</th>\n",
       "      <td>536549</td>\n",
       "      <td>85226A</td>\n",
       "      <td>NaN</td>\n",
       "      <td>1</td>\n",
       "      <td>2010-12-01 14:34:00</td>\n",
       "      <td>0.000</td>\n",
       "      <td>NaN</td>\n",
       "      <td>United Kingdom</td>\n",
       "    </tr>\n",
       "    <tr>\n",
       "      <th>...</th>\n",
       "      <td>...</td>\n",
       "      <td>...</td>\n",
       "      <td>...</td>\n",
       "      <td>...</td>\n",
       "      <td>...</td>\n",
       "      <td>...</td>\n",
       "      <td>...</td>\n",
       "      <td>...</td>\n",
       "    </tr>\n",
       "    <tr>\n",
       "      <th>535322</th>\n",
       "      <td>581199</td>\n",
       "      <td>84581</td>\n",
       "      <td>NaN</td>\n",
       "      <td>-2</td>\n",
       "      <td>2011-12-07 18:26:00</td>\n",
       "      <td>0.000</td>\n",
       "      <td>NaN</td>\n",
       "      <td>United Kingdom</td>\n",
       "    </tr>\n",
       "    <tr>\n",
       "      <th>535326</th>\n",
       "      <td>581203</td>\n",
       "      <td>23406</td>\n",
       "      <td>NaN</td>\n",
       "      <td>15</td>\n",
       "      <td>2011-12-07 18:31:00</td>\n",
       "      <td>0.000</td>\n",
       "      <td>NaN</td>\n",
       "      <td>United Kingdom</td>\n",
       "    </tr>\n",
       "    <tr>\n",
       "      <th>535332</th>\n",
       "      <td>581209</td>\n",
       "      <td>21620</td>\n",
       "      <td>NaN</td>\n",
       "      <td>6</td>\n",
       "      <td>2011-12-07 18:35:00</td>\n",
       "      <td>0.000</td>\n",
       "      <td>NaN</td>\n",
       "      <td>United Kingdom</td>\n",
       "    </tr>\n",
       "    <tr>\n",
       "      <th>536981</th>\n",
       "      <td>581234</td>\n",
       "      <td>72817</td>\n",
       "      <td>NaN</td>\n",
       "      <td>27</td>\n",
       "      <td>2011-12-08 10:33:00</td>\n",
       "      <td>0.000</td>\n",
       "      <td>NaN</td>\n",
       "      <td>United Kingdom</td>\n",
       "    </tr>\n",
       "    <tr>\n",
       "      <th>538554</th>\n",
       "      <td>581408</td>\n",
       "      <td>85175</td>\n",
       "      <td>NaN</td>\n",
       "      <td>20</td>\n",
       "      <td>2011-12-08 14:06:00</td>\n",
       "      <td>0.000</td>\n",
       "      <td>NaN</td>\n",
       "      <td>United Kingdom</td>\n",
       "    </tr>\n",
       "  </tbody>\n",
       "</table>\n",
       "<p>1454 rows × 8 columns</p>\n",
       "</div>"
      ],
      "text/plain": [
       "       InvoiceNo StockCode Description  Quantity         InvoiceDate  \\\n",
       "622       536414     22139         NaN        56 2010-12-01 11:52:00   \n",
       "1970      536545     21134         NaN         1 2010-12-01 14:32:00   \n",
       "1971      536546     22145         NaN         1 2010-12-01 14:33:00   \n",
       "1972      536547     37509         NaN         1 2010-12-01 14:33:00   \n",
       "1987      536549    85226A         NaN         1 2010-12-01 14:34:00   \n",
       "...          ...       ...         ...       ...                 ...   \n",
       "535322    581199     84581         NaN        -2 2011-12-07 18:26:00   \n",
       "535326    581203     23406         NaN        15 2011-12-07 18:31:00   \n",
       "535332    581209     21620         NaN         6 2011-12-07 18:35:00   \n",
       "536981    581234     72817         NaN        27 2011-12-08 10:33:00   \n",
       "538554    581408     85175         NaN        20 2011-12-08 14:06:00   \n",
       "\n",
       "        UnitPrice  CustomerID         Country  \n",
       "622         0.000         NaN  United Kingdom  \n",
       "1970        0.000         NaN  United Kingdom  \n",
       "1971        0.000         NaN  United Kingdom  \n",
       "1972        0.000         NaN  United Kingdom  \n",
       "1987        0.000         NaN  United Kingdom  \n",
       "...           ...         ...             ...  \n",
       "535322      0.000         NaN  United Kingdom  \n",
       "535326      0.000         NaN  United Kingdom  \n",
       "535332      0.000         NaN  United Kingdom  \n",
       "536981      0.000         NaN  United Kingdom  \n",
       "538554      0.000         NaN  United Kingdom  \n",
       "\n",
       "[1454 rows x 8 columns]"
      ]
     },
     "execution_count": 47,
     "metadata": {},
     "output_type": "execute_result"
    }
   ],
   "source": [
    "df[df['Description'].isnull()]"
   ]
  },
  {
   "cell_type": "code",
   "execution_count": 50,
   "metadata": {
    "scrolled": true
   },
   "outputs": [
    {
     "data": {
      "text/html": [
       "<div>\n",
       "<style scoped>\n",
       "    .dataframe tbody tr th:only-of-type {\n",
       "        vertical-align: middle;\n",
       "    }\n",
       "\n",
       "    .dataframe tbody tr th {\n",
       "        vertical-align: top;\n",
       "    }\n",
       "\n",
       "    .dataframe thead th {\n",
       "        text-align: right;\n",
       "    }\n",
       "</style>\n",
       "<table border=\"1\" class=\"dataframe\">\n",
       "  <thead>\n",
       "    <tr style=\"text-align: right;\">\n",
       "      <th></th>\n",
       "      <th>InvoiceNo</th>\n",
       "      <th>StockCode</th>\n",
       "      <th>Description</th>\n",
       "      <th>Quantity</th>\n",
       "      <th>InvoiceDate</th>\n",
       "      <th>UnitPrice</th>\n",
       "      <th>CustomerID</th>\n",
       "      <th>Country</th>\n",
       "    </tr>\n",
       "  </thead>\n",
       "  <tbody>\n",
       "    <tr>\n",
       "      <th>52898</th>\n",
       "      <td>540821</td>\n",
       "      <td>47504H</td>\n",
       "      <td>ENGLISH ROSE SPIRIT LEVEL</td>\n",
       "      <td>2</td>\n",
       "      <td>2011-01-11 13:16:00</td>\n",
       "      <td>3.360</td>\n",
       "      <td>NaN</td>\n",
       "      <td>United Kingdom</td>\n",
       "    </tr>\n",
       "    <tr>\n",
       "      <th>64572</th>\n",
       "      <td>541652</td>\n",
       "      <td>72802C</td>\n",
       "      <td>VANILLA SCENT CANDLE JEWELLED BOX</td>\n",
       "      <td>1</td>\n",
       "      <td>2011-01-20 11:49:00</td>\n",
       "      <td>4.250</td>\n",
       "      <td>NaN</td>\n",
       "      <td>United Kingdom</td>\n",
       "    </tr>\n",
       "    <tr>\n",
       "      <th>466888</th>\n",
       "      <td>576329</td>\n",
       "      <td>23245</td>\n",
       "      <td>SET OF 3 REGENCY CAKE TINS</td>\n",
       "      <td>1</td>\n",
       "      <td>2011-11-14 15:22:00</td>\n",
       "      <td>10.790</td>\n",
       "      <td>NaN</td>\n",
       "      <td>United Kingdom</td>\n",
       "    </tr>\n",
       "    <tr>\n",
       "      <th>97329</th>\n",
       "      <td>544599</td>\n",
       "      <td>22183</td>\n",
       "      <td>CAKE STAND VICTORIAN FILIGREE MED</td>\n",
       "      <td>3</td>\n",
       "      <td>2011-02-21 18:15:00</td>\n",
       "      <td>5.790</td>\n",
       "      <td>NaN</td>\n",
       "      <td>United Kingdom</td>\n",
       "    </tr>\n",
       "    <tr>\n",
       "      <th>92853</th>\n",
       "      <td>544206</td>\n",
       "      <td>21557</td>\n",
       "      <td>SET OF 6 FUNKY BEAKERS</td>\n",
       "      <td>1</td>\n",
       "      <td>2011-02-17 10:33:00</td>\n",
       "      <td>5.630</td>\n",
       "      <td>NaN</td>\n",
       "      <td>United Kingdom</td>\n",
       "    </tr>\n",
       "    <tr>\n",
       "      <th>24840</th>\n",
       "      <td>538349</td>\n",
       "      <td>84991</td>\n",
       "      <td>60 TEATIME FAIRY CAKE CASES</td>\n",
       "      <td>3</td>\n",
       "      <td>2010-12-10 14:59:00</td>\n",
       "      <td>1.280</td>\n",
       "      <td>NaN</td>\n",
       "      <td>United Kingdom</td>\n",
       "    </tr>\n",
       "    <tr>\n",
       "      <th>260727</th>\n",
       "      <td>559816</td>\n",
       "      <td>22329</td>\n",
       "      <td>ROUND CONTAINER SET OF 5 RETROSPOT</td>\n",
       "      <td>5</td>\n",
       "      <td>2011-07-12 16:11:00</td>\n",
       "      <td>1.630</td>\n",
       "      <td>NaN</td>\n",
       "      <td>United Kingdom</td>\n",
       "    </tr>\n",
       "    <tr>\n",
       "      <th>354853</th>\n",
       "      <td>567901</td>\n",
       "      <td>84987</td>\n",
       "      <td>SET OF 36 TEATIME PAPER DOILIES</td>\n",
       "      <td>1</td>\n",
       "      <td>2011-09-22 16:28:00</td>\n",
       "      <td>2.920</td>\n",
       "      <td>NaN</td>\n",
       "      <td>United Kingdom</td>\n",
       "    </tr>\n",
       "    <tr>\n",
       "      <th>36612</th>\n",
       "      <td>539451</td>\n",
       "      <td>22093</td>\n",
       "      <td>MOTORING TISSUE BOX</td>\n",
       "      <td>1</td>\n",
       "      <td>2010-12-17 16:59:00</td>\n",
       "      <td>2.510</td>\n",
       "      <td>NaN</td>\n",
       "      <td>United Kingdom</td>\n",
       "    </tr>\n",
       "    <tr>\n",
       "      <th>254817</th>\n",
       "      <td>559337</td>\n",
       "      <td>21931</td>\n",
       "      <td>JUMBO STORAGE BAG SUKI</td>\n",
       "      <td>1</td>\n",
       "      <td>2011-07-07 16:27:00</td>\n",
       "      <td>4.130</td>\n",
       "      <td>NaN</td>\n",
       "      <td>United Kingdom</td>\n",
       "    </tr>\n",
       "    <tr>\n",
       "      <th>176347</th>\n",
       "      <td>551997</td>\n",
       "      <td>21790</td>\n",
       "      <td>VINTAGE SNAP CARDS</td>\n",
       "      <td>1</td>\n",
       "      <td>2011-05-05 15:47:00</td>\n",
       "      <td>1.630</td>\n",
       "      <td>NaN</td>\n",
       "      <td>United Kingdom</td>\n",
       "    </tr>\n",
       "    <tr>\n",
       "      <th>344179</th>\n",
       "      <td>566985</td>\n",
       "      <td>21216</td>\n",
       "      <td>SET 3 RETROSPOT TEA,COFFEE,SUGAR</td>\n",
       "      <td>1</td>\n",
       "      <td>2011-09-16 10:42:00</td>\n",
       "      <td>10.790</td>\n",
       "      <td>NaN</td>\n",
       "      <td>United Kingdom</td>\n",
       "    </tr>\n",
       "    <tr>\n",
       "      <th>129597</th>\n",
       "      <td>547386</td>\n",
       "      <td>22696</td>\n",
       "      <td>WICKER WREATH LARGE</td>\n",
       "      <td>1</td>\n",
       "      <td>2011-03-22 15:52:00</td>\n",
       "      <td>4.130</td>\n",
       "      <td>NaN</td>\n",
       "      <td>United Kingdom</td>\n",
       "    </tr>\n",
       "    <tr>\n",
       "      <th>490552</th>\n",
       "      <td>578065</td>\n",
       "      <td>20982</td>\n",
       "      <td>12 PENCILS TALL TUBE SKULLS</td>\n",
       "      <td>10</td>\n",
       "      <td>2011-11-22 15:41:00</td>\n",
       "      <td>1.630</td>\n",
       "      <td>NaN</td>\n",
       "      <td>United Kingdom</td>\n",
       "    </tr>\n",
       "    <tr>\n",
       "      <th>193561</th>\n",
       "      <td>553539</td>\n",
       "      <td>M</td>\n",
       "      <td>Manual</td>\n",
       "      <td>1</td>\n",
       "      <td>2011-05-17 15:27:00</td>\n",
       "      <td>465.870</td>\n",
       "      <td>NaN</td>\n",
       "      <td>United Kingdom</td>\n",
       "    </tr>\n",
       "    <tr>\n",
       "      <th>137587</th>\n",
       "      <td>548163</td>\n",
       "      <td>84970s</td>\n",
       "      <td>HANGING HEART ZINC T-LIGHT HOLDER</td>\n",
       "      <td>1</td>\n",
       "      <td>2011-03-29 13:43:00</td>\n",
       "      <td>2.080</td>\n",
       "      <td>NaN</td>\n",
       "      <td>United Kingdom</td>\n",
       "    </tr>\n",
       "    <tr>\n",
       "      <th>501592</th>\n",
       "      <td>578827</td>\n",
       "      <td>23292</td>\n",
       "      <td>SPACEBOY CHILDRENS CUP</td>\n",
       "      <td>1</td>\n",
       "      <td>2011-11-25 14:25:00</td>\n",
       "      <td>2.460</td>\n",
       "      <td>NaN</td>\n",
       "      <td>United Kingdom</td>\n",
       "    </tr>\n",
       "    <tr>\n",
       "      <th>61187</th>\n",
       "      <td>541423</td>\n",
       "      <td>22200</td>\n",
       "      <td>FRYING PAN PINK POLKADOT</td>\n",
       "      <td>1</td>\n",
       "      <td>2011-01-17 17:54:00</td>\n",
       "      <td>8.290</td>\n",
       "      <td>NaN</td>\n",
       "      <td>United Kingdom</td>\n",
       "    </tr>\n",
       "    <tr>\n",
       "      <th>470961</th>\n",
       "      <td>576618</td>\n",
       "      <td>23344</td>\n",
       "      <td>JUMBO BAG 50'S CHRISTMAS</td>\n",
       "      <td>7</td>\n",
       "      <td>2011-11-15 17:00:00</td>\n",
       "      <td>4.130</td>\n",
       "      <td>NaN</td>\n",
       "      <td>United Kingdom</td>\n",
       "    </tr>\n",
       "    <tr>\n",
       "      <th>11246</th>\n",
       "      <td>537240</td>\n",
       "      <td>22348</td>\n",
       "      <td>TEA BAG PLATE RED RETROSPOT</td>\n",
       "      <td>3</td>\n",
       "      <td>2010-12-06 10:08:00</td>\n",
       "      <td>1.660</td>\n",
       "      <td>NaN</td>\n",
       "      <td>United Kingdom</td>\n",
       "    </tr>\n",
       "    <tr>\n",
       "      <th>85081</th>\n",
       "      <td>543461</td>\n",
       "      <td>22570</td>\n",
       "      <td>FELTCRAFT CUSHION RABBIT</td>\n",
       "      <td>1</td>\n",
       "      <td>2011-02-08 13:35:00</td>\n",
       "      <td>7.460</td>\n",
       "      <td>NaN</td>\n",
       "      <td>United Kingdom</td>\n",
       "    </tr>\n",
       "    <tr>\n",
       "      <th>525137</th>\n",
       "      <td>580612</td>\n",
       "      <td>20674</td>\n",
       "      <td>GREEN POLKADOT BOWL</td>\n",
       "      <td>1</td>\n",
       "      <td>2011-12-05 11:58:00</td>\n",
       "      <td>2.460</td>\n",
       "      <td>NaN</td>\n",
       "      <td>United Kingdom</td>\n",
       "    </tr>\n",
       "    <tr>\n",
       "      <th>466673</th>\n",
       "      <td>576329</td>\n",
       "      <td>22154</td>\n",
       "      <td>ANGEL DECORATION 3 BUTTONS</td>\n",
       "      <td>2</td>\n",
       "      <td>2011-11-14 15:22:00</td>\n",
       "      <td>0.830</td>\n",
       "      <td>NaN</td>\n",
       "      <td>United Kingdom</td>\n",
       "    </tr>\n",
       "    <tr>\n",
       "      <th>343321</th>\n",
       "      <td>566949</td>\n",
       "      <td>DOT</td>\n",
       "      <td>DOTCOM POSTAGE</td>\n",
       "      <td>1</td>\n",
       "      <td>2011-09-15 16:32:00</td>\n",
       "      <td>178.840</td>\n",
       "      <td>NaN</td>\n",
       "      <td>United Kingdom</td>\n",
       "    </tr>\n",
       "    <tr>\n",
       "      <th>123171</th>\n",
       "      <td>546892</td>\n",
       "      <td>21175</td>\n",
       "      <td>GIN + TONIC DIET METAL SIGN</td>\n",
       "      <td>2</td>\n",
       "      <td>2011-03-17 18:20:00</td>\n",
       "      <td>4.960</td>\n",
       "      <td>NaN</td>\n",
       "      <td>United Kingdom</td>\n",
       "    </tr>\n",
       "    <tr>\n",
       "      <th>109949</th>\n",
       "      <td>545667</td>\n",
       "      <td>85169B</td>\n",
       "      <td>BLACK LOVE BIRD CANDLE</td>\n",
       "      <td>1</td>\n",
       "      <td>2011-03-04 16:07:00</td>\n",
       "      <td>2.460</td>\n",
       "      <td>NaN</td>\n",
       "      <td>United Kingdom</td>\n",
       "    </tr>\n",
       "    <tr>\n",
       "      <th>490859</th>\n",
       "      <td>578065</td>\n",
       "      <td>23196</td>\n",
       "      <td>VINTAGE LEAF MAGNETIC NOTEPAD</td>\n",
       "      <td>1</td>\n",
       "      <td>2011-11-22 15:41:00</td>\n",
       "      <td>3.290</td>\n",
       "      <td>NaN</td>\n",
       "      <td>United Kingdom</td>\n",
       "    </tr>\n",
       "    <tr>\n",
       "      <th>145378</th>\n",
       "      <td>548893</td>\n",
       "      <td>22261</td>\n",
       "      <td>FELT EGG COSY WHITE RABBIT</td>\n",
       "      <td>1</td>\n",
       "      <td>2011-04-04 15:54:00</td>\n",
       "      <td>1.630</td>\n",
       "      <td>NaN</td>\n",
       "      <td>United Kingdom</td>\n",
       "    </tr>\n",
       "    <tr>\n",
       "      <th>66955</th>\n",
       "      <td>541827</td>\n",
       "      <td>85131D</td>\n",
       "      <td>BEADED CRYSTAL HEART PINK ON STICK</td>\n",
       "      <td>12</td>\n",
       "      <td>2011-01-21 17:05:00</td>\n",
       "      <td>0.830</td>\n",
       "      <td>NaN</td>\n",
       "      <td>United Kingdom</td>\n",
       "    </tr>\n",
       "    <tr>\n",
       "      <th>233994</th>\n",
       "      <td>557500</td>\n",
       "      <td>20707</td>\n",
       "      <td>CRAZY DAISY HEART DECORATION</td>\n",
       "      <td>1</td>\n",
       "      <td>2011-06-20 15:27:00</td>\n",
       "      <td>0.830</td>\n",
       "      <td>NaN</td>\n",
       "      <td>United Kingdom</td>\n",
       "    </tr>\n",
       "  </tbody>\n",
       "</table>\n",
       "</div>"
      ],
      "text/plain": [
       "       InvoiceNo StockCode                         Description  Quantity  \\\n",
       "52898     540821    47504H          ENGLISH ROSE SPIRIT LEVEL          2   \n",
       "64572     541652    72802C   VANILLA SCENT CANDLE JEWELLED BOX         1   \n",
       "466888    576329     23245          SET OF 3 REGENCY CAKE TINS         1   \n",
       "97329     544599     22183   CAKE STAND VICTORIAN FILIGREE MED         3   \n",
       "92853     544206     21557              SET OF 6 FUNKY BEAKERS         1   \n",
       "24840     538349     84991         60 TEATIME FAIRY CAKE CASES         3   \n",
       "260727    559816     22329  ROUND CONTAINER SET OF 5 RETROSPOT         5   \n",
       "354853    567901     84987     SET OF 36 TEATIME PAPER DOILIES         1   \n",
       "36612     539451     22093                 MOTORING TISSUE BOX         1   \n",
       "254817    559337     21931              JUMBO STORAGE BAG SUKI         1   \n",
       "176347    551997     21790                  VINTAGE SNAP CARDS         1   \n",
       "344179    566985     21216    SET 3 RETROSPOT TEA,COFFEE,SUGAR         1   \n",
       "129597    547386     22696                 WICKER WREATH LARGE         1   \n",
       "490552    578065     20982         12 PENCILS TALL TUBE SKULLS        10   \n",
       "193561    553539         M                              Manual         1   \n",
       "137587    548163    84970s   HANGING HEART ZINC T-LIGHT HOLDER         1   \n",
       "501592    578827     23292              SPACEBOY CHILDRENS CUP         1   \n",
       "61187     541423     22200            FRYING PAN PINK POLKADOT         1   \n",
       "470961    576618     23344           JUMBO BAG 50'S CHRISTMAS          7   \n",
       "11246     537240     22348         TEA BAG PLATE RED RETROSPOT         3   \n",
       "85081     543461     22570            FELTCRAFT CUSHION RABBIT         1   \n",
       "525137    580612     20674                 GREEN POLKADOT BOWL         1   \n",
       "466673    576329     22154         ANGEL DECORATION 3 BUTTONS          2   \n",
       "343321    566949       DOT                      DOTCOM POSTAGE         1   \n",
       "123171    546892     21175         GIN + TONIC DIET METAL SIGN         2   \n",
       "109949    545667    85169B              BLACK LOVE BIRD CANDLE         1   \n",
       "490859    578065     23196       VINTAGE LEAF MAGNETIC NOTEPAD         1   \n",
       "145378    548893     22261         FELT EGG COSY WHITE RABBIT          1   \n",
       "66955     541827    85131D  BEADED CRYSTAL HEART PINK ON STICK        12   \n",
       "233994    557500     20707        CRAZY DAISY HEART DECORATION         1   \n",
       "\n",
       "               InvoiceDate  UnitPrice  CustomerID         Country  \n",
       "52898  2011-01-11 13:16:00      3.360         NaN  United Kingdom  \n",
       "64572  2011-01-20 11:49:00      4.250         NaN  United Kingdom  \n",
       "466888 2011-11-14 15:22:00     10.790         NaN  United Kingdom  \n",
       "97329  2011-02-21 18:15:00      5.790         NaN  United Kingdom  \n",
       "92853  2011-02-17 10:33:00      5.630         NaN  United Kingdom  \n",
       "24840  2010-12-10 14:59:00      1.280         NaN  United Kingdom  \n",
       "260727 2011-07-12 16:11:00      1.630         NaN  United Kingdom  \n",
       "354853 2011-09-22 16:28:00      2.920         NaN  United Kingdom  \n",
       "36612  2010-12-17 16:59:00      2.510         NaN  United Kingdom  \n",
       "254817 2011-07-07 16:27:00      4.130         NaN  United Kingdom  \n",
       "176347 2011-05-05 15:47:00      1.630         NaN  United Kingdom  \n",
       "344179 2011-09-16 10:42:00     10.790         NaN  United Kingdom  \n",
       "129597 2011-03-22 15:52:00      4.130         NaN  United Kingdom  \n",
       "490552 2011-11-22 15:41:00      1.630         NaN  United Kingdom  \n",
       "193561 2011-05-17 15:27:00    465.870         NaN  United Kingdom  \n",
       "137587 2011-03-29 13:43:00      2.080         NaN  United Kingdom  \n",
       "501592 2011-11-25 14:25:00      2.460         NaN  United Kingdom  \n",
       "61187  2011-01-17 17:54:00      8.290         NaN  United Kingdom  \n",
       "470961 2011-11-15 17:00:00      4.130         NaN  United Kingdom  \n",
       "11246  2010-12-06 10:08:00      1.660         NaN  United Kingdom  \n",
       "85081  2011-02-08 13:35:00      7.460         NaN  United Kingdom  \n",
       "525137 2011-12-05 11:58:00      2.460         NaN  United Kingdom  \n",
       "466673 2011-11-14 15:22:00      0.830         NaN  United Kingdom  \n",
       "343321 2011-09-15 16:32:00    178.840         NaN  United Kingdom  \n",
       "123171 2011-03-17 18:20:00      4.960         NaN  United Kingdom  \n",
       "109949 2011-03-04 16:07:00      2.460         NaN  United Kingdom  \n",
       "490859 2011-11-22 15:41:00      3.290         NaN  United Kingdom  \n",
       "145378 2011-04-04 15:54:00      1.630         NaN  United Kingdom  \n",
       "66955  2011-01-21 17:05:00      0.830         NaN  United Kingdom  \n",
       "233994 2011-06-20 15:27:00      0.830         NaN  United Kingdom  "
      ]
     },
     "execution_count": 50,
     "metadata": {},
     "output_type": "execute_result"
    }
   ],
   "source": [
    "df[df['CustomerID'].isnull()].sample(30)"
   ]
  },
  {
   "cell_type": "markdown",
   "metadata": {
    "id": "YP5RPZq1QGV_"
   },
   "source": [
    "When we filter canceled orders by Quantity> 0 or filter non-canceled orders by Quantity <0 nothing returns, this confirms that negative values mean the order was canceled. So lets find out how many orders were cancelled?"
   ]
  },
  {
   "cell_type": "code",
   "execution_count": null,
   "metadata": {
    "id": "IxrhRFHhiqa5"
   },
   "outputs": [],
   "source": [
    "#25900"
   ]
  },
  {
   "cell_type": "markdown",
   "metadata": {
    "id": "nrp8logRQGWA"
   },
   "source": [
    "#### 9288 or about 36% of the orders were cancelled. Looking deeper into why these orders were cancelled may prevent future cancellations. Now let's find out what a negative UnitPrice means.\n"
   ]
  },
  {
   "cell_type": "code",
   "execution_count": 51,
   "metadata": {
    "id": "1OI-xuxxiqa5",
    "scrolled": true
   },
   "outputs": [
    {
     "data": {
      "text/html": [
       "<div>\n",
       "<style scoped>\n",
       "    .dataframe tbody tr th:only-of-type {\n",
       "        vertical-align: middle;\n",
       "    }\n",
       "\n",
       "    .dataframe tbody tr th {\n",
       "        vertical-align: top;\n",
       "    }\n",
       "\n",
       "    .dataframe thead th {\n",
       "        text-align: right;\n",
       "    }\n",
       "</style>\n",
       "<table border=\"1\" class=\"dataframe\">\n",
       "  <thead>\n",
       "    <tr style=\"text-align: right;\">\n",
       "      <th></th>\n",
       "      <th>InvoiceNo</th>\n",
       "      <th>StockCode</th>\n",
       "      <th>Description</th>\n",
       "      <th>Quantity</th>\n",
       "      <th>InvoiceDate</th>\n",
       "      <th>UnitPrice</th>\n",
       "      <th>CustomerID</th>\n",
       "      <th>Country</th>\n",
       "    </tr>\n",
       "  </thead>\n",
       "  <tbody>\n",
       "    <tr>\n",
       "      <th>299983</th>\n",
       "      <td>A563186</td>\n",
       "      <td>B</td>\n",
       "      <td>Adjust bad debt</td>\n",
       "      <td>1</td>\n",
       "      <td>2011-08-12 14:51:00</td>\n",
       "      <td>-11062.060</td>\n",
       "      <td>NaN</td>\n",
       "      <td>United Kingdom</td>\n",
       "    </tr>\n",
       "    <tr>\n",
       "      <th>299984</th>\n",
       "      <td>A563187</td>\n",
       "      <td>B</td>\n",
       "      <td>Adjust bad debt</td>\n",
       "      <td>1</td>\n",
       "      <td>2011-08-12 14:52:00</td>\n",
       "      <td>-11062.060</td>\n",
       "      <td>NaN</td>\n",
       "      <td>United Kingdom</td>\n",
       "    </tr>\n",
       "  </tbody>\n",
       "</table>\n",
       "</div>"
      ],
      "text/plain": [
       "       InvoiceNo StockCode      Description  Quantity         InvoiceDate  \\\n",
       "299983   A563186         B  Adjust bad debt         1 2011-08-12 14:51:00   \n",
       "299984   A563187         B  Adjust bad debt         1 2011-08-12 14:52:00   \n",
       "\n",
       "        UnitPrice  CustomerID         Country  \n",
       "299983 -11062.060         NaN  United Kingdom  \n",
       "299984 -11062.060         NaN  United Kingdom  "
      ]
     },
     "execution_count": 51,
     "metadata": {},
     "output_type": "execute_result"
    }
   ],
   "source": [
    "df[df['UnitPrice']<0]"
   ]
  },
  {
   "cell_type": "code",
   "execution_count": 60,
   "metadata": {
    "scrolled": true
   },
   "outputs": [],
   "source": [
    "df_return = df[df['Quantity']<0]"
   ]
  },
  {
   "cell_type": "code",
   "execution_count": 65,
   "metadata": {},
   "outputs": [
    {
     "data": {
      "text/html": [
       "<div>\n",
       "<style scoped>\n",
       "    .dataframe tbody tr th:only-of-type {\n",
       "        vertical-align: middle;\n",
       "    }\n",
       "\n",
       "    .dataframe tbody tr th {\n",
       "        vertical-align: top;\n",
       "    }\n",
       "\n",
       "    .dataframe thead th {\n",
       "        text-align: right;\n",
       "    }\n",
       "</style>\n",
       "<table border=\"1\" class=\"dataframe\">\n",
       "  <thead>\n",
       "    <tr style=\"text-align: right;\">\n",
       "      <th></th>\n",
       "      <th>Quantity</th>\n",
       "      <th>UnitPrice</th>\n",
       "    </tr>\n",
       "    <tr>\n",
       "      <th>StockCode</th>\n",
       "      <th></th>\n",
       "      <th></th>\n",
       "    </tr>\n",
       "  </thead>\n",
       "  <tbody>\n",
       "    <tr>\n",
       "      <th>M</th>\n",
       "      <td>244</td>\n",
       "      <td>244</td>\n",
       "    </tr>\n",
       "    <tr>\n",
       "      <th>22423</th>\n",
       "      <td>184</td>\n",
       "      <td>184</td>\n",
       "    </tr>\n",
       "    <tr>\n",
       "      <th>POST</th>\n",
       "      <td>126</td>\n",
       "      <td>126</td>\n",
       "    </tr>\n",
       "    <tr>\n",
       "      <th>22960</th>\n",
       "      <td>87</td>\n",
       "      <td>87</td>\n",
       "    </tr>\n",
       "    <tr>\n",
       "      <th>D</th>\n",
       "      <td>77</td>\n",
       "      <td>77</td>\n",
       "    </tr>\n",
       "    <tr>\n",
       "      <th>...</th>\n",
       "      <td>...</td>\n",
       "      <td>...</td>\n",
       "    </tr>\n",
       "    <tr>\n",
       "      <th>40003</th>\n",
       "      <td>1</td>\n",
       "      <td>1</td>\n",
       "    </tr>\n",
       "    <tr>\n",
       "      <th>44234</th>\n",
       "      <td>1</td>\n",
       "      <td>1</td>\n",
       "    </tr>\n",
       "    <tr>\n",
       "      <th>21775</th>\n",
       "      <td>1</td>\n",
       "      <td>1</td>\n",
       "    </tr>\n",
       "    <tr>\n",
       "      <th>44265</th>\n",
       "      <td>1</td>\n",
       "      <td>1</td>\n",
       "    </tr>\n",
       "    <tr>\n",
       "      <th>10002</th>\n",
       "      <td>1</td>\n",
       "      <td>1</td>\n",
       "    </tr>\n",
       "  </tbody>\n",
       "</table>\n",
       "<p>2559 rows × 2 columns</p>\n",
       "</div>"
      ],
      "text/plain": [
       "           Quantity  UnitPrice\n",
       "StockCode                     \n",
       "M               244        244\n",
       "22423           184        184\n",
       "POST            126        126\n",
       "22960            87         87\n",
       "D                77         77\n",
       "...             ...        ...\n",
       "40003             1          1\n",
       "44234             1          1\n",
       "21775             1          1\n",
       "44265             1          1\n",
       "10002             1          1\n",
       "\n",
       "[2559 rows x 2 columns]"
      ]
     },
     "execution_count": 65,
     "metadata": {},
     "output_type": "execute_result"
    }
   ],
   "source": [
    "df_return.groupby('StockCode')[['Quantity','UnitPrice']].count().sort_values('UnitPrice', ascending=False)"
   ]
  },
  {
   "cell_type": "code",
   "execution_count": 72,
   "metadata": {},
   "outputs": [
    {
     "data": {
      "text/html": [
       "<div>\n",
       "<style scoped>\n",
       "    .dataframe tbody tr th:only-of-type {\n",
       "        vertical-align: middle;\n",
       "    }\n",
       "\n",
       "    .dataframe tbody tr th {\n",
       "        vertical-align: top;\n",
       "    }\n",
       "\n",
       "    .dataframe thead th {\n",
       "        text-align: right;\n",
       "    }\n",
       "</style>\n",
       "<table border=\"1\" class=\"dataframe\">\n",
       "  <thead>\n",
       "    <tr style=\"text-align: right;\">\n",
       "      <th></th>\n",
       "      <th>InvoiceNo</th>\n",
       "      <th>StockCode</th>\n",
       "      <th>Description</th>\n",
       "      <th>Quantity</th>\n",
       "      <th>InvoiceDate</th>\n",
       "      <th>UnitPrice</th>\n",
       "      <th>CustomerID</th>\n",
       "      <th>Country</th>\n",
       "    </tr>\n",
       "  </thead>\n",
       "  <tbody>\n",
       "    <tr>\n",
       "      <th>520133</th>\n",
       "      <td>C580263</td>\n",
       "      <td>M</td>\n",
       "      <td>Manual</td>\n",
       "      <td>-4</td>\n",
       "      <td>2011-12-02 12:43:00</td>\n",
       "      <td>9.950</td>\n",
       "      <td>12536.000</td>\n",
       "      <td>France</td>\n",
       "    </tr>\n",
       "    <tr>\n",
       "      <th>123600</th>\n",
       "      <td>C546905</td>\n",
       "      <td>M</td>\n",
       "      <td>Manual</td>\n",
       "      <td>-48</td>\n",
       "      <td>2011-03-17 18:42:00</td>\n",
       "      <td>0.450</td>\n",
       "      <td>15061.000</td>\n",
       "      <td>United Kingdom</td>\n",
       "    </tr>\n",
       "    <tr>\n",
       "      <th>373768</th>\n",
       "      <td>569360</td>\n",
       "      <td>M</td>\n",
       "      <td>Manual</td>\n",
       "      <td>1</td>\n",
       "      <td>2011-10-03 14:59:00</td>\n",
       "      <td>9.950</td>\n",
       "      <td>14653.000</td>\n",
       "      <td>United Kingdom</td>\n",
       "    </tr>\n",
       "    <tr>\n",
       "      <th>227399</th>\n",
       "      <td>C556870</td>\n",
       "      <td>M</td>\n",
       "      <td>Manual</td>\n",
       "      <td>-1</td>\n",
       "      <td>2011-06-15 11:47:00</td>\n",
       "      <td>306.600</td>\n",
       "      <td>NaN</td>\n",
       "      <td>United Kingdom</td>\n",
       "    </tr>\n",
       "    <tr>\n",
       "      <th>142316</th>\n",
       "      <td>548568</td>\n",
       "      <td>M</td>\n",
       "      <td>Manual</td>\n",
       "      <td>1</td>\n",
       "      <td>2011-04-01 10:43:00</td>\n",
       "      <td>12.750</td>\n",
       "      <td>14543.000</td>\n",
       "      <td>United Kingdom</td>\n",
       "    </tr>\n",
       "    <tr>\n",
       "      <th>451789</th>\n",
       "      <td>C575257</td>\n",
       "      <td>M</td>\n",
       "      <td>Manual</td>\n",
       "      <td>-4</td>\n",
       "      <td>2011-11-09 11:59:00</td>\n",
       "      <td>10.950</td>\n",
       "      <td>13623.000</td>\n",
       "      <td>United Kingdom</td>\n",
       "    </tr>\n",
       "    <tr>\n",
       "      <th>538321</th>\n",
       "      <td>581405</td>\n",
       "      <td>M</td>\n",
       "      <td>Manual</td>\n",
       "      <td>3</td>\n",
       "      <td>2011-12-08 13:50:00</td>\n",
       "      <td>0.420</td>\n",
       "      <td>13521.000</td>\n",
       "      <td>United Kingdom</td>\n",
       "    </tr>\n",
       "    <tr>\n",
       "      <th>339083</th>\n",
       "      <td>C566579</td>\n",
       "      <td>M</td>\n",
       "      <td>Manual</td>\n",
       "      <td>-1</td>\n",
       "      <td>2011-09-13 13:34:00</td>\n",
       "      <td>6.590</td>\n",
       "      <td>NaN</td>\n",
       "      <td>United Kingdom</td>\n",
       "    </tr>\n",
       "    <tr>\n",
       "      <th>64569</th>\n",
       "      <td>C541650</td>\n",
       "      <td>M</td>\n",
       "      <td>Manual</td>\n",
       "      <td>-1</td>\n",
       "      <td>2011-01-20 11:44:00</td>\n",
       "      <td>544.400</td>\n",
       "      <td>NaN</td>\n",
       "      <td>United Kingdom</td>\n",
       "    </tr>\n",
       "    <tr>\n",
       "      <th>293438</th>\n",
       "      <td>C562601</td>\n",
       "      <td>M</td>\n",
       "      <td>Manual</td>\n",
       "      <td>-144</td>\n",
       "      <td>2011-08-08 10:09:00</td>\n",
       "      <td>0.110</td>\n",
       "      <td>12901.000</td>\n",
       "      <td>United Kingdom</td>\n",
       "    </tr>\n",
       "    <tr>\n",
       "      <th>412581</th>\n",
       "      <td>572293</td>\n",
       "      <td>M</td>\n",
       "      <td>Manual</td>\n",
       "      <td>1</td>\n",
       "      <td>2011-10-23 13:02:00</td>\n",
       "      <td>50.000</td>\n",
       "      <td>12748.000</td>\n",
       "      <td>United Kingdom</td>\n",
       "    </tr>\n",
       "    <tr>\n",
       "      <th>118262</th>\n",
       "      <td>546426</td>\n",
       "      <td>M</td>\n",
       "      <td>Manual</td>\n",
       "      <td>1</td>\n",
       "      <td>2011-03-13 13:46:00</td>\n",
       "      <td>2.000</td>\n",
       "      <td>13708.000</td>\n",
       "      <td>United Kingdom</td>\n",
       "    </tr>\n",
       "    <tr>\n",
       "      <th>69745</th>\n",
       "      <td>541983</td>\n",
       "      <td>M</td>\n",
       "      <td>Manual</td>\n",
       "      <td>1</td>\n",
       "      <td>2011-01-24 15:47:00</td>\n",
       "      <td>15.000</td>\n",
       "      <td>15797.000</td>\n",
       "      <td>United Kingdom</td>\n",
       "    </tr>\n",
       "    <tr>\n",
       "      <th>106609</th>\n",
       "      <td>545336</td>\n",
       "      <td>M</td>\n",
       "      <td>Manual</td>\n",
       "      <td>2</td>\n",
       "      <td>2011-03-01 16:53:00</td>\n",
       "      <td>275.600</td>\n",
       "      <td>12428.000</td>\n",
       "      <td>Finland</td>\n",
       "    </tr>\n",
       "    <tr>\n",
       "      <th>366900</th>\n",
       "      <td>C568799</td>\n",
       "      <td>M</td>\n",
       "      <td>Manual</td>\n",
       "      <td>-1</td>\n",
       "      <td>2011-09-29 10:34:00</td>\n",
       "      <td>2.880</td>\n",
       "      <td>17450.000</td>\n",
       "      <td>United Kingdom</td>\n",
       "    </tr>\n",
       "    <tr>\n",
       "      <th>479546</th>\n",
       "      <td>577168</td>\n",
       "      <td>M</td>\n",
       "      <td>Manual</td>\n",
       "      <td>1</td>\n",
       "      <td>2011-11-18 10:42:00</td>\n",
       "      <td>0.000</td>\n",
       "      <td>12603.000</td>\n",
       "      <td>Germany</td>\n",
       "    </tr>\n",
       "    <tr>\n",
       "      <th>410388</th>\n",
       "      <td>572103</td>\n",
       "      <td>M</td>\n",
       "      <td>Manual</td>\n",
       "      <td>1</td>\n",
       "      <td>2011-10-20 15:57:00</td>\n",
       "      <td>1.250</td>\n",
       "      <td>17571.000</td>\n",
       "      <td>United Kingdom</td>\n",
       "    </tr>\n",
       "    <tr>\n",
       "      <th>141503</th>\n",
       "      <td>548515</td>\n",
       "      <td>M</td>\n",
       "      <td>Manual</td>\n",
       "      <td>3</td>\n",
       "      <td>2011-03-31 16:19:00</td>\n",
       "      <td>0.650</td>\n",
       "      <td>NaN</td>\n",
       "      <td>United Kingdom</td>\n",
       "    </tr>\n",
       "    <tr>\n",
       "      <th>468046</th>\n",
       "      <td>576389</td>\n",
       "      <td>M</td>\n",
       "      <td>Manual</td>\n",
       "      <td>1</td>\n",
       "      <td>2011-11-15 10:05:00</td>\n",
       "      <td>850.500</td>\n",
       "      <td>12748.000</td>\n",
       "      <td>United Kingdom</td>\n",
       "    </tr>\n",
       "    <tr>\n",
       "      <th>491886</th>\n",
       "      <td>C578076</td>\n",
       "      <td>M</td>\n",
       "      <td>Manual</td>\n",
       "      <td>-24</td>\n",
       "      <td>2011-11-22 16:18:00</td>\n",
       "      <td>0.560</td>\n",
       "      <td>18139.000</td>\n",
       "      <td>United Kingdom</td>\n",
       "    </tr>\n",
       "  </tbody>\n",
       "</table>\n",
       "</div>"
      ],
      "text/plain": [
       "       InvoiceNo StockCode Description  Quantity         InvoiceDate  \\\n",
       "520133   C580263         M      Manual        -4 2011-12-02 12:43:00   \n",
       "123600   C546905         M      Manual       -48 2011-03-17 18:42:00   \n",
       "373768    569360         M      Manual         1 2011-10-03 14:59:00   \n",
       "227399   C556870         M      Manual        -1 2011-06-15 11:47:00   \n",
       "142316    548568         M      Manual         1 2011-04-01 10:43:00   \n",
       "451789   C575257         M      Manual        -4 2011-11-09 11:59:00   \n",
       "538321    581405         M      Manual         3 2011-12-08 13:50:00   \n",
       "339083   C566579         M      Manual        -1 2011-09-13 13:34:00   \n",
       "64569    C541650         M      Manual        -1 2011-01-20 11:44:00   \n",
       "293438   C562601         M      Manual      -144 2011-08-08 10:09:00   \n",
       "412581    572293         M      Manual         1 2011-10-23 13:02:00   \n",
       "118262    546426         M      Manual         1 2011-03-13 13:46:00   \n",
       "69745     541983         M      Manual         1 2011-01-24 15:47:00   \n",
       "106609    545336         M      Manual         2 2011-03-01 16:53:00   \n",
       "366900   C568799         M      Manual        -1 2011-09-29 10:34:00   \n",
       "479546    577168         M      Manual         1 2011-11-18 10:42:00   \n",
       "410388    572103         M      Manual         1 2011-10-20 15:57:00   \n",
       "141503    548515         M      Manual         3 2011-03-31 16:19:00   \n",
       "468046    576389         M      Manual         1 2011-11-15 10:05:00   \n",
       "491886   C578076         M      Manual       -24 2011-11-22 16:18:00   \n",
       "\n",
       "        UnitPrice  CustomerID         Country  \n",
       "520133      9.950   12536.000          France  \n",
       "123600      0.450   15061.000  United Kingdom  \n",
       "373768      9.950   14653.000  United Kingdom  \n",
       "227399    306.600         NaN  United Kingdom  \n",
       "142316     12.750   14543.000  United Kingdom  \n",
       "451789     10.950   13623.000  United Kingdom  \n",
       "538321      0.420   13521.000  United Kingdom  \n",
       "339083      6.590         NaN  United Kingdom  \n",
       "64569     544.400         NaN  United Kingdom  \n",
       "293438      0.110   12901.000  United Kingdom  \n",
       "412581     50.000   12748.000  United Kingdom  \n",
       "118262      2.000   13708.000  United Kingdom  \n",
       "69745      15.000   15797.000  United Kingdom  \n",
       "106609    275.600   12428.000         Finland  \n",
       "366900      2.880   17450.000  United Kingdom  \n",
       "479546      0.000   12603.000         Germany  \n",
       "410388      1.250   17571.000  United Kingdom  \n",
       "141503      0.650         NaN  United Kingdom  \n",
       "468046    850.500   12748.000  United Kingdom  \n",
       "491886      0.560   18139.000  United Kingdom  "
      ]
     },
     "execution_count": 72,
     "metadata": {},
     "output_type": "execute_result"
    }
   ],
   "source": [
    "df[df['StockCode'] =='M'].sample(20)"
   ]
  },
  {
   "cell_type": "code",
   "execution_count": 76,
   "metadata": {},
   "outputs": [
    {
     "data": {
      "text/html": [
       "<div>\n",
       "<style scoped>\n",
       "    .dataframe tbody tr th:only-of-type {\n",
       "        vertical-align: middle;\n",
       "    }\n",
       "\n",
       "    .dataframe tbody tr th {\n",
       "        vertical-align: top;\n",
       "    }\n",
       "\n",
       "    .dataframe thead th {\n",
       "        text-align: right;\n",
       "    }\n",
       "</style>\n",
       "<table border=\"1\" class=\"dataframe\">\n",
       "  <thead>\n",
       "    <tr style=\"text-align: right;\">\n",
       "      <th></th>\n",
       "      <th>InvoiceNo</th>\n",
       "      <th>StockCode</th>\n",
       "      <th>Description</th>\n",
       "      <th>Quantity</th>\n",
       "      <th>InvoiceDate</th>\n",
       "      <th>UnitPrice</th>\n",
       "      <th>CustomerID</th>\n",
       "      <th>Country</th>\n",
       "    </tr>\n",
       "  </thead>\n",
       "  <tbody>\n",
       "    <tr>\n",
       "      <th>440488</th>\n",
       "      <td>574534</td>\n",
       "      <td>22423</td>\n",
       "      <td>REGENCY CAKESTAND 3 TIER</td>\n",
       "      <td>72</td>\n",
       "      <td>2011-11-04 14:26:00</td>\n",
       "      <td>10.950</td>\n",
       "      <td>15061.000</td>\n",
       "      <td>United Kingdom</td>\n",
       "    </tr>\n",
       "    <tr>\n",
       "      <th>430135</th>\n",
       "      <td>573581</td>\n",
       "      <td>22423</td>\n",
       "      <td>REGENCY CAKESTAND 3 TIER</td>\n",
       "      <td>2</td>\n",
       "      <td>2011-10-31 14:22:00</td>\n",
       "      <td>12.750</td>\n",
       "      <td>14911.000</td>\n",
       "      <td>EIRE</td>\n",
       "    </tr>\n",
       "    <tr>\n",
       "      <th>279808</th>\n",
       "      <td>561367</td>\n",
       "      <td>22423</td>\n",
       "      <td>REGENCY CAKESTAND 3 TIER</td>\n",
       "      <td>2</td>\n",
       "      <td>2011-07-26 15:46:00</td>\n",
       "      <td>24.960</td>\n",
       "      <td>NaN</td>\n",
       "      <td>United Kingdom</td>\n",
       "    </tr>\n",
       "    <tr>\n",
       "      <th>41179</th>\n",
       "      <td>539754</td>\n",
       "      <td>22423</td>\n",
       "      <td>REGENCY CAKESTAND 3 TIER</td>\n",
       "      <td>1</td>\n",
       "      <td>2010-12-21 16:06:00</td>\n",
       "      <td>12.750</td>\n",
       "      <td>12748.000</td>\n",
       "      <td>United Kingdom</td>\n",
       "    </tr>\n",
       "    <tr>\n",
       "      <th>18838</th>\n",
       "      <td>537823</td>\n",
       "      <td>22423</td>\n",
       "      <td>REGENCY CAKESTAND 3 TIER</td>\n",
       "      <td>1</td>\n",
       "      <td>2010-12-08 14:25:00</td>\n",
       "      <td>12.720</td>\n",
       "      <td>NaN</td>\n",
       "      <td>United Kingdom</td>\n",
       "    </tr>\n",
       "    <tr>\n",
       "      <th>132960</th>\n",
       "      <td>547712</td>\n",
       "      <td>22423</td>\n",
       "      <td>REGENCY CAKESTAND 3 TIER</td>\n",
       "      <td>3</td>\n",
       "      <td>2011-03-24 19:31:00</td>\n",
       "      <td>12.750</td>\n",
       "      <td>16905.000</td>\n",
       "      <td>United Kingdom</td>\n",
       "    </tr>\n",
       "    <tr>\n",
       "      <th>72757</th>\n",
       "      <td>C542264</td>\n",
       "      <td>22423</td>\n",
       "      <td>REGENCY CAKESTAND 3 TIER</td>\n",
       "      <td>-2</td>\n",
       "      <td>2011-01-26 17:25:00</td>\n",
       "      <td>10.950</td>\n",
       "      <td>15215.000</td>\n",
       "      <td>United Kingdom</td>\n",
       "    </tr>\n",
       "    <tr>\n",
       "      <th>283149</th>\n",
       "      <td>561694</td>\n",
       "      <td>22423</td>\n",
       "      <td>REGENCY CAKESTAND 3 TIER</td>\n",
       "      <td>2</td>\n",
       "      <td>2011-07-29 09:57:00</td>\n",
       "      <td>12.750</td>\n",
       "      <td>16147.000</td>\n",
       "      <td>United Kingdom</td>\n",
       "    </tr>\n",
       "    <tr>\n",
       "      <th>230200</th>\n",
       "      <td>557129</td>\n",
       "      <td>22423</td>\n",
       "      <td>REGENCY CAKESTAND 3 TIER</td>\n",
       "      <td>2</td>\n",
       "      <td>2011-06-16 19:59:00</td>\n",
       "      <td>12.750</td>\n",
       "      <td>17841.000</td>\n",
       "      <td>United Kingdom</td>\n",
       "    </tr>\n",
       "    <tr>\n",
       "      <th>198432</th>\n",
       "      <td>554040</td>\n",
       "      <td>22423</td>\n",
       "      <td>REGENCY CAKESTAND 3 TIER</td>\n",
       "      <td>1</td>\n",
       "      <td>2011-05-20 14:35:00</td>\n",
       "      <td>12.750</td>\n",
       "      <td>15290.000</td>\n",
       "      <td>United Kingdom</td>\n",
       "    </tr>\n",
       "    <tr>\n",
       "      <th>196143</th>\n",
       "      <td>553828</td>\n",
       "      <td>22423</td>\n",
       "      <td>REGENCY CAKESTAND 3 TIER</td>\n",
       "      <td>16</td>\n",
       "      <td>2011-05-19 11:24:00</td>\n",
       "      <td>10.950</td>\n",
       "      <td>17865.000</td>\n",
       "      <td>United Kingdom</td>\n",
       "    </tr>\n",
       "    <tr>\n",
       "      <th>281484</th>\n",
       "      <td>561530</td>\n",
       "      <td>22423</td>\n",
       "      <td>REGENCY CAKESTAND 3 TIER</td>\n",
       "      <td>16</td>\n",
       "      <td>2011-07-28 09:21:00</td>\n",
       "      <td>10.950</td>\n",
       "      <td>16174.000</td>\n",
       "      <td>United Kingdom</td>\n",
       "    </tr>\n",
       "    <tr>\n",
       "      <th>395435</th>\n",
       "      <td>571034</td>\n",
       "      <td>22423</td>\n",
       "      <td>REGENCY CAKESTAND 3 TIER</td>\n",
       "      <td>6</td>\n",
       "      <td>2011-10-13 12:47:00</td>\n",
       "      <td>12.750</td>\n",
       "      <td>12359.000</td>\n",
       "      <td>Cyprus</td>\n",
       "    </tr>\n",
       "    <tr>\n",
       "      <th>154550</th>\n",
       "      <td>C549921</td>\n",
       "      <td>22423</td>\n",
       "      <td>REGENCY CAKESTAND 3 TIER</td>\n",
       "      <td>-1</td>\n",
       "      <td>2011-04-13 09:53:00</td>\n",
       "      <td>12.750</td>\n",
       "      <td>15109.000</td>\n",
       "      <td>United Kingdom</td>\n",
       "    </tr>\n",
       "    <tr>\n",
       "      <th>535211</th>\n",
       "      <td>581192</td>\n",
       "      <td>22423</td>\n",
       "      <td>REGENCY CAKESTAND 3 TIER</td>\n",
       "      <td>2</td>\n",
       "      <td>2011-12-07 17:05:00</td>\n",
       "      <td>12.750</td>\n",
       "      <td>15883.000</td>\n",
       "      <td>United Kingdom</td>\n",
       "    </tr>\n",
       "    <tr>\n",
       "      <th>228240</th>\n",
       "      <td>556917</td>\n",
       "      <td>22423</td>\n",
       "      <td>REGENCY CAKESTAND 3 TIER</td>\n",
       "      <td>32</td>\n",
       "      <td>2011-06-15 13:37:00</td>\n",
       "      <td>10.950</td>\n",
       "      <td>12415.000</td>\n",
       "      <td>Australia</td>\n",
       "    </tr>\n",
       "    <tr>\n",
       "      <th>406447</th>\n",
       "      <td>571793</td>\n",
       "      <td>22423</td>\n",
       "      <td>REGENCY CAKESTAND 3 TIER</td>\n",
       "      <td>3</td>\n",
       "      <td>2011-10-19 11:38:00</td>\n",
       "      <td>12.750</td>\n",
       "      <td>16621.000</td>\n",
       "      <td>United Kingdom</td>\n",
       "    </tr>\n",
       "    <tr>\n",
       "      <th>149393</th>\n",
       "      <td>549293</td>\n",
       "      <td>22423</td>\n",
       "      <td>REGENCY CAKESTAND 3 TIER</td>\n",
       "      <td>3</td>\n",
       "      <td>2011-04-07 19:16:00</td>\n",
       "      <td>12.750</td>\n",
       "      <td>17883.000</td>\n",
       "      <td>United Kingdom</td>\n",
       "    </tr>\n",
       "    <tr>\n",
       "      <th>169823</th>\n",
       "      <td>551259</td>\n",
       "      <td>22423</td>\n",
       "      <td>REGENCY CAKESTAND 3 TIER</td>\n",
       "      <td>150</td>\n",
       "      <td>2011-04-27 12:04:00</td>\n",
       "      <td>10.950</td>\n",
       "      <td>17949.000</td>\n",
       "      <td>United Kingdom</td>\n",
       "    </tr>\n",
       "    <tr>\n",
       "      <th>347703</th>\n",
       "      <td>C567332</td>\n",
       "      <td>22423</td>\n",
       "      <td>REGENCY CAKESTAND 3 TIER</td>\n",
       "      <td>-2</td>\n",
       "      <td>2011-09-19 14:52:00</td>\n",
       "      <td>12.750</td>\n",
       "      <td>13767.000</td>\n",
       "      <td>United Kingdom</td>\n",
       "    </tr>\n",
       "  </tbody>\n",
       "</table>\n",
       "</div>"
      ],
      "text/plain": [
       "       InvoiceNo StockCode               Description  Quantity  \\\n",
       "440488    574534     22423  REGENCY CAKESTAND 3 TIER        72   \n",
       "430135    573581     22423  REGENCY CAKESTAND 3 TIER         2   \n",
       "279808    561367     22423  REGENCY CAKESTAND 3 TIER         2   \n",
       "41179     539754     22423  REGENCY CAKESTAND 3 TIER         1   \n",
       "18838     537823     22423  REGENCY CAKESTAND 3 TIER         1   \n",
       "132960    547712     22423  REGENCY CAKESTAND 3 TIER         3   \n",
       "72757    C542264     22423  REGENCY CAKESTAND 3 TIER        -2   \n",
       "283149    561694     22423  REGENCY CAKESTAND 3 TIER         2   \n",
       "230200    557129     22423  REGENCY CAKESTAND 3 TIER         2   \n",
       "198432    554040     22423  REGENCY CAKESTAND 3 TIER         1   \n",
       "196143    553828     22423  REGENCY CAKESTAND 3 TIER        16   \n",
       "281484    561530     22423  REGENCY CAKESTAND 3 TIER        16   \n",
       "395435    571034     22423  REGENCY CAKESTAND 3 TIER         6   \n",
       "154550   C549921     22423  REGENCY CAKESTAND 3 TIER        -1   \n",
       "535211    581192     22423  REGENCY CAKESTAND 3 TIER         2   \n",
       "228240    556917     22423  REGENCY CAKESTAND 3 TIER        32   \n",
       "406447    571793     22423  REGENCY CAKESTAND 3 TIER         3   \n",
       "149393    549293     22423  REGENCY CAKESTAND 3 TIER         3   \n",
       "169823    551259     22423  REGENCY CAKESTAND 3 TIER       150   \n",
       "347703   C567332     22423  REGENCY CAKESTAND 3 TIER        -2   \n",
       "\n",
       "               InvoiceDate  UnitPrice  CustomerID         Country  \n",
       "440488 2011-11-04 14:26:00     10.950   15061.000  United Kingdom  \n",
       "430135 2011-10-31 14:22:00     12.750   14911.000            EIRE  \n",
       "279808 2011-07-26 15:46:00     24.960         NaN  United Kingdom  \n",
       "41179  2010-12-21 16:06:00     12.750   12748.000  United Kingdom  \n",
       "18838  2010-12-08 14:25:00     12.720         NaN  United Kingdom  \n",
       "132960 2011-03-24 19:31:00     12.750   16905.000  United Kingdom  \n",
       "72757  2011-01-26 17:25:00     10.950   15215.000  United Kingdom  \n",
       "283149 2011-07-29 09:57:00     12.750   16147.000  United Kingdom  \n",
       "230200 2011-06-16 19:59:00     12.750   17841.000  United Kingdom  \n",
       "198432 2011-05-20 14:35:00     12.750   15290.000  United Kingdom  \n",
       "196143 2011-05-19 11:24:00     10.950   17865.000  United Kingdom  \n",
       "281484 2011-07-28 09:21:00     10.950   16174.000  United Kingdom  \n",
       "395435 2011-10-13 12:47:00     12.750   12359.000          Cyprus  \n",
       "154550 2011-04-13 09:53:00     12.750   15109.000  United Kingdom  \n",
       "535211 2011-12-07 17:05:00     12.750   15883.000  United Kingdom  \n",
       "228240 2011-06-15 13:37:00     10.950   12415.000       Australia  \n",
       "406447 2011-10-19 11:38:00     12.750   16621.000  United Kingdom  \n",
       "149393 2011-04-07 19:16:00     12.750   17883.000  United Kingdom  \n",
       "169823 2011-04-27 12:04:00     10.950   17949.000  United Kingdom  \n",
       "347703 2011-09-19 14:52:00     12.750   13767.000  United Kingdom  "
      ]
     },
     "execution_count": 76,
     "metadata": {},
     "output_type": "execute_result"
    }
   ],
   "source": [
    "df[df['StockCode'] == 22423].sample(20)"
   ]
  },
  {
   "cell_type": "code",
   "execution_count": null,
   "metadata": {},
   "outputs": [],
   "source": []
  },
  {
   "cell_type": "markdown",
   "metadata": {
    "id": "nXVVls6sQGVQ"
   },
   "source": [
    "### iii. Handling Missing Values"
   ]
  },
  {
   "cell_type": "code",
   "execution_count": null,
   "metadata": {
    "id": "yExVxnQsiqa6"
   },
   "outputs": [],
   "source": []
  },
  {
   "cell_type": "markdown",
   "metadata": {
    "id": "EQtZK5paQGVf"
   },
   "source": [
    "Since the customer ID's are missing, lets assume these orders were not made by the customers already in the data set because those customers already have ID's. \n",
    "\n",
    "We also don't want to assign these orders to those customers because this would alter the insights we draw from the data. \n"
   ]
  },
  {
   "cell_type": "code",
   "execution_count": null,
   "metadata": {
    "id": "WjvtekM3iqa6"
   },
   "outputs": [],
   "source": []
  },
  {
   "cell_type": "markdown",
   "metadata": {
    "id": "llu-bMTAiqa6"
   },
   "source": [
    "### iv. Clean the Data from the Noise and Missing Values"
   ]
  },
  {
   "cell_type": "code",
   "execution_count": null,
   "metadata": {
    "id": "R-TgtE4Ziqa6"
   },
   "outputs": [],
   "source": []
  },
  {
   "cell_type": "markdown",
   "metadata": {
    "id": "25MkNjZqQGWC"
   },
   "source": [
    "### v. Explore the Orders\n"
   ]
  },
  {
   "cell_type": "markdown",
   "metadata": {
    "id": "8OAkPoUjiqa7"
   },
   "source": [
    "1. Find the unique number of InvoiceNo  per customer"
   ]
  },
  {
   "cell_type": "code",
   "execution_count": null,
   "metadata": {
    "id": "n1A76M7Jiqa7"
   },
   "outputs": [],
   "source": []
  },
  {
   "cell_type": "markdown",
   "metadata": {
    "id": "di03OKjzQGWE"
   },
   "source": [
    "2. What's the average number of unqiue items per order or per customer?"
   ]
  },
  {
   "cell_type": "code",
   "execution_count": null,
   "metadata": {
    "id": "V4LxkeIIiqa7"
   },
   "outputs": [],
   "source": []
  },
  {
   "cell_type": "markdown",
   "metadata": {
    "id": "HUKzA73dQGWH"
   },
   "source": [
    "3. Let's see how this compares to the number of unique products per customer."
   ]
  },
  {
   "cell_type": "code",
   "execution_count": null,
   "metadata": {
    "id": "b8uzjYyKiqa7"
   },
   "outputs": [],
   "source": []
  },
  {
   "cell_type": "markdown",
   "metadata": {
    "id": "I_Ozp-U5QGWK"
   },
   "source": [
    "### vi. Explore Customers by Country"
   ]
  },
  {
   "cell_type": "markdown",
   "metadata": {
    "id": "SP6M3isLiqa8"
   },
   "source": [
    "1. What's the total revenue per country?"
   ]
  },
  {
   "cell_type": "code",
   "execution_count": null,
   "metadata": {
    "id": "VISxZ3Ixiqa8"
   },
   "outputs": [],
   "source": []
  },
  {
   "cell_type": "markdown",
   "metadata": {
    "id": "qk64qtEliqa8"
   },
   "source": [
    "2. Visualize number of customer per country"
   ]
  },
  {
   "cell_type": "code",
   "execution_count": null,
   "metadata": {
    "id": "atuYU8W2iqa8"
   },
   "outputs": [],
   "source": []
  },
  {
   "cell_type": "markdown",
   "metadata": {
    "id": "2TD66fT3iqa8"
   },
   "source": [
    "3. Visualize total cost per country"
   ]
  },
  {
   "cell_type": "code",
   "execution_count": null,
   "metadata": {
    "id": "5i0nVOggiqa8"
   },
   "outputs": [],
   "source": []
  },
  {
   "cell_type": "markdown",
   "metadata": {
    "id": "hwfJuBVCQGWR"
   },
   "source": [
    "#### The UK not only has the most sales revenue, but also the most customers. Since the majority of this data set contains orders from the UK, we can explore the UK market further by finding out what products the customers buy together and any other buying behaviors to improve our sales and targeting strategy."
   ]
  },
  {
   "cell_type": "code",
   "execution_count": null,
   "metadata": {
    "id": "LlyhW9eXiqa9"
   },
   "outputs": [],
   "source": []
  },
  {
   "cell_type": "markdown",
   "metadata": {
    "id": "7A25nnqIQGWR"
   },
   "source": [
    "### vii. Explore the UK Market\n"
   ]
  },
  {
   "cell_type": "markdown",
   "metadata": {
    "id": "wtWchB1Ziqa9"
   },
   "source": [
    "1. Create df_uk DataFrame"
   ]
  },
  {
   "cell_type": "code",
   "execution_count": null,
   "metadata": {
    "id": "dsdH3cuZiqa9"
   },
   "outputs": [],
   "source": []
  },
  {
   "cell_type": "markdown",
   "metadata": {
    "id": "is5kus2bQGWT"
   },
   "source": [
    "2. What are the most popular products that are bought in the UK?"
   ]
  },
  {
   "cell_type": "code",
   "execution_count": null,
   "metadata": {
    "id": "sCN56amLiqa9"
   },
   "outputs": [],
   "source": []
  },
  {
   "cell_type": "markdown",
   "metadata": {
    "id": "LHbqJD7bQGWU"
   },
   "source": [
    "### We will continue analyzing the UK transactions with customer segmentation."
   ]
  },
  {
   "cell_type": "markdown",
   "metadata": {
    "id": "MAtzWvugQGWV"
   },
   "source": [
    "# 2. RFM Analysis"
   ]
  },
  {
   "cell_type": "markdown",
   "metadata": {
    "id": "v5uUAUQpQGWV"
   },
   "source": [
    "In the age of the internet and e-commerce, companies that do not expand their businesses online or utilize digital tools to reach their customers will run into issues like scalability and a lack of digital precsence. An important marketing strategy e-commerce businesses use for analyzing and predicting customer value is customer segmentation. Customer data is used to sort customers into group based on their behaviors and preferences.\n",
    "\n",
    "**[RFM](https://www.putler.com/rfm-analysis/) (Recency, Frequency, Monetary) Analysis** is a customer segmentation technique for analyzing customer value based on past buying behavior. RFM analysis was first used by the direct mail industry more than four decades ago, yet it is still an effective way to optimize your marketing.\n",
    "<br>\n",
    "<br>\n",
    "Our goal in this Notebook is to cluster the customers in our data set to:\n",
    " - Recognize who are our most valuable customers\n",
    " - Increase revenue\n",
    " - Increase customer retention\n",
    " - Learn more about the trends and behaviors of our customers\n",
    " - Define customers that are at risk\n",
    "\n",
    "We will start with **RFM Analysis** and then compliment our findings with predictive analysis using **K-Means Clustering Algorithms.**\n",
    "\n",
    "- RECENCY (R): Time since last purchase\n",
    "- FREQUENCY (F): Total number of purchases\n",
    "- MONETARY VALUE (M): Total monetary value\n",
    "\n",
    "\n",
    "\n",
    "\n",
    "Benefits of RFM Analysis\n",
    "\n",
    "- Increased customer retention\n",
    "- Increased response rate\n",
    "- Increased conversion rate\n",
    "- Increased revenue\n",
    "\n",
    "RFM Analysis answers the following questions:\n",
    " - Who are our best customers?\n",
    " - Who has the potential to be converted into more profitable customers?\n",
    " - Which customers do we need to retain?\n",
    " - Which group of customers is most likely to respond to our marketing campaign?\n",
    " "
   ]
  },
  {
   "cell_type": "markdown",
   "metadata": {
    "id": "zX47_J8OQGWV"
   },
   "source": [
    "### i. Import Libraries"
   ]
  },
  {
   "cell_type": "code",
   "execution_count": null,
   "metadata": {
    "id": "MOD15BxHiqa-"
   },
   "outputs": [],
   "source": []
  },
  {
   "cell_type": "markdown",
   "metadata": {
    "id": "9rYM4MJsQGWW"
   },
   "source": [
    "### ii. Review df_uk DataFrame"
   ]
  },
  {
   "cell_type": "code",
   "execution_count": null,
   "metadata": {
    "id": "oQHyAJNeiqa-"
   },
   "outputs": [],
   "source": []
  },
  {
   "cell_type": "markdown",
   "metadata": {
    "id": "MvfCcPLgQGWa"
   },
   "source": [
    "### iii. Recency: Days since last purchase\n",
    "To calculate the recency values, follow these steps in order:\n",
    "\n",
    "1. To calculate recency, we need to choose a date as a point of reference to evaluate how many days ago was the customer's last purchase.\n",
    "2. Create a new column called Date which contains the invoice date without the timestamp\n",
    "3. Group by CustomerID and check the last date of purchase\n",
    "4. Calculate the days since last purchase\n",
    "5. Drop Last_Purchase_Date since we don't need it anymore\n",
    "6. Plot RFM distributions"
   ]
  },
  {
   "cell_type": "markdown",
   "metadata": {
    "id": "b7Gzn6r6QGWb"
   },
   "source": [
    "1. Choose a date as a point of reference to evaluate how many days ago was the customer's last purchase."
   ]
  },
  {
   "cell_type": "code",
   "execution_count": null,
   "metadata": {
    "id": "DwWODVSZiqa-"
   },
   "outputs": [],
   "source": []
  },
  {
   "cell_type": "markdown",
   "metadata": {
    "id": "Ge34PCT0iqa-"
   },
   "source": [
    "2. Create a new column called Date which contains the invoice date without the timestamp"
   ]
  },
  {
   "cell_type": "code",
   "execution_count": null,
   "metadata": {
    "id": "xsaFUydXiqa_"
   },
   "outputs": [],
   "source": []
  },
  {
   "cell_type": "markdown",
   "metadata": {
    "id": "1KJzP5Ldiqa_"
   },
   "source": [
    "3. Group by CustomerID and check the last date of purchase"
   ]
  },
  {
   "cell_type": "code",
   "execution_count": null,
   "metadata": {
    "id": "x8kMt-Uyiqa_"
   },
   "outputs": [],
   "source": []
  },
  {
   "cell_type": "markdown",
   "metadata": {
    "id": "1Zxs1mzPiqa_"
   },
   "source": [
    "4. Calculate the days since last purchase"
   ]
  },
  {
   "cell_type": "code",
   "execution_count": null,
   "metadata": {
    "id": "iTeKws6giqa_"
   },
   "outputs": [],
   "source": []
  },
  {
   "cell_type": "markdown",
   "metadata": {
    "id": "yAuMSkfsiqa_"
   },
   "source": [
    "5. Drop Last_Purchase_Date since we don't need it anymore"
   ]
  },
  {
   "cell_type": "code",
   "execution_count": null,
   "metadata": {
    "id": "4bNmKqHNiqa_"
   },
   "outputs": [],
   "source": []
  },
  {
   "cell_type": "markdown",
   "metadata": {
    "id": "IB9a0AL9iqa_"
   },
   "source": [
    "6. Plot RFM distributions"
   ]
  },
  {
   "cell_type": "code",
   "execution_count": null,
   "metadata": {
    "id": "c8e-QiwRiqa_"
   },
   "outputs": [],
   "source": []
  },
  {
   "cell_type": "markdown",
   "metadata": {
    "id": "MAjKZD0KQGWg"
   },
   "source": [
    "### iv. Frequency: Number of purchases\n",
    "\n",
    "To calculate how many times a customer purchased something, we need to count how many invoices each customer has. To calculate the frequency values, follow these steps in order:"
   ]
  },
  {
   "cell_type": "markdown",
   "metadata": {
    "id": "TDoNslseiqbA"
   },
   "source": [
    "1. Make a copy of df_uk and drop duplicates"
   ]
  },
  {
   "cell_type": "code",
   "execution_count": null,
   "metadata": {
    "id": "6gk2gokFiqbA"
   },
   "outputs": [],
   "source": []
  },
  {
   "cell_type": "markdown",
   "metadata": {
    "id": "7KrnuXrLiqbA"
   },
   "source": [
    "2. Calculate the frequency of purchases"
   ]
  },
  {
   "cell_type": "code",
   "execution_count": null,
   "metadata": {
    "id": "1LTM_cxpiqbA"
   },
   "outputs": [],
   "source": []
  },
  {
   "cell_type": "markdown",
   "metadata": {
    "id": "V9NNBCNgiqbA"
   },
   "source": [
    "3. Plot RFM distributions"
   ]
  },
  {
   "cell_type": "code",
   "execution_count": null,
   "metadata": {
    "id": "yUtZAHu1iqbA"
   },
   "outputs": [],
   "source": []
  },
  {
   "cell_type": "markdown",
   "metadata": {
    "id": "wUY3gKjQQGWh"
   },
   "source": [
    "### v. Monetary: Total amount of money spent\n",
    "\n",
    "The monetary value is calculated by adding together the cost of the customers' purchases.\n"
   ]
  },
  {
   "cell_type": "markdown",
   "metadata": {
    "id": "5_4_QLWtiqbA"
   },
   "source": [
    "1. Calculate sum total cost by customers and named \"Monetary\""
   ]
  },
  {
   "cell_type": "code",
   "execution_count": null,
   "metadata": {
    "id": "bilKBqvIiqbB"
   },
   "outputs": [],
   "source": []
  },
  {
   "cell_type": "markdown",
   "metadata": {
    "id": "dYsaCPRDiqbB"
   },
   "source": [
    "2. Plot RFM distributions"
   ]
  },
  {
   "cell_type": "code",
   "execution_count": null,
   "metadata": {
    "id": "Sd41fD67iqbB"
   },
   "outputs": [],
   "source": []
  },
  {
   "cell_type": "markdown",
   "metadata": {
    "id": "SeaecPkSQGWj"
   },
   "source": [
    "### vi. Create RFM Table\n",
    "Merge the recency, frequency and motetary dataframes"
   ]
  },
  {
   "cell_type": "code",
   "execution_count": null,
   "metadata": {
    "id": "M88KNSbyiqbB"
   },
   "outputs": [],
   "source": []
  },
  {
   "cell_type": "markdown",
   "metadata": {
    "id": "ULWwsxCkQGWl"
   },
   "source": [
    "# 3. Customer Segmentation with RFM Scores"
   ]
  },
  {
   "cell_type": "markdown",
   "metadata": {
    "id": "TZrxUBX4iqbB"
   },
   "source": [
    "Businesses have this ever-lasting urge to understand their customers. The better you understand the customer, the better you serve them, and the higher the financial gain you receive from that customer. Since the dawn of trade, this process of understanding customers for a strategic gain has been there practiced and this task is known majorly as [Customer Segmentation](https://clevertap.com/blog/rfm-analysis/).\n",
    "Well as the name suggests, Customer Segmentation could segment customers according to their precise needs. Some of the common ways of segmenting customers are based on their Recency-Frequency-Monatory values, their demographics like gender, region, country, etc, and some of their business-crafted scores. You will use Recency-Frequency-Monatory values for this case.\n",
    "\n",
    "In this section, you will create an RFM Segmentation Table where you segment your customers by using the RFM table. For example, you can label the best customer as \"Big Spenders\" and the lost customer as \"Lost Customer\"."
   ]
  },
  {
   "cell_type": "markdown",
   "metadata": {
    "id": "anOsOGpfQGWl"
   },
   "source": [
    "## Calculate RFM Scoring\n",
    "\n",
    "The simplest way to create customer segments from an RFM model is by using **Quartiles**. We will assign a score from 1 to 4 to each category (Recency, Frequency, and Monetary) with 4 being the highest/best value. The final RFM score is calculated by combining all RFM values. For Customer Segmentation, you will use the df_rfm data set resulting from the RFM analysis.\n",
    "<br>\n",
    "<br>\n",
    "**Note**: Data can be assigned into more groups for better granularity, but we will use 4 in this case."
   ]
  },
  {
   "cell_type": "markdown",
   "metadata": {
    "id": "WiwXSsP7iqbB"
   },
   "source": [
    "1. Divide the df_rfm into quarters"
   ]
  },
  {
   "cell_type": "code",
   "execution_count": null,
   "metadata": {
    "id": "mFQJGPYHiqbC"
   },
   "outputs": [],
   "source": []
  },
  {
   "cell_type": "markdown",
   "metadata": {
    "id": "KnkzCAf9QGWo"
   },
   "source": [
    "### i. Creating the RFM Segmentation Table\n"
   ]
  },
  {
   "cell_type": "markdown",
   "metadata": {
    "id": "hLIB-z-_iqbC"
   },
   "source": [
    "1. Create two functions, one for Recency and one for Frequency and Monetary. For Recency, customers in the first quarter should be scored as 4, this represents the highest Recency value. Conversely, for Frequency and Monetary, customers in the last quarter should be scored as 4, representing the highest Frequency and Monetary values."
   ]
  },
  {
   "cell_type": "code",
   "execution_count": null,
   "metadata": {
    "id": "SXnW03R8iqbC"
   },
   "outputs": [],
   "source": []
  },
  {
   "cell_type": "markdown",
   "metadata": {
    "id": "tLDK_XeLiqbC"
   },
   "source": [
    "2. Score customers from 1 to 4 by applying the functions you have created. Also create separate score column for each value. "
   ]
  },
  {
   "cell_type": "code",
   "execution_count": null,
   "metadata": {
    "id": "plReZMcQiqbC"
   },
   "outputs": [],
   "source": []
  },
  {
   "cell_type": "markdown",
   "metadata": {
    "id": "JskteCFdQGWq"
   },
   "source": [
    "3. Now that scored each customer, you'll combine the scores for segmentation."
   ]
  },
  {
   "cell_type": "code",
   "execution_count": null,
   "metadata": {
    "id": "ZYfoHF6QiqbC"
   },
   "outputs": [],
   "source": []
  },
  {
   "cell_type": "markdown",
   "metadata": {
    "id": "uWwWeyjPiqbC"
   },
   "source": [
    "4. Define rfm_level function that tags customers by using RFM_Scrores and Create a new variable RFM_Level"
   ]
  },
  {
   "cell_type": "code",
   "execution_count": null,
   "metadata": {
    "id": "mxXk7jFPiqbD"
   },
   "outputs": [],
   "source": []
  },
  {
   "cell_type": "markdown",
   "metadata": {
    "id": "Lq36PiX3iqbD"
   },
   "source": [
    "5. Calculate average values for each RFM_Level, and return a size of each segment "
   ]
  },
  {
   "cell_type": "code",
   "execution_count": null,
   "metadata": {
    "id": "jn5r5P2WiqbD"
   },
   "outputs": [],
   "source": []
  },
  {
   "cell_type": "markdown",
   "metadata": {
    "id": "tuZ5Olo4iqbD"
   },
   "source": [
    "## Plot RFM Segments"
   ]
  },
  {
   "cell_type": "markdown",
   "metadata": {
    "id": "STfELckwiqbD"
   },
   "source": [
    "1. Create your plot and resize it."
   ]
  },
  {
   "cell_type": "code",
   "execution_count": null,
   "metadata": {
    "id": "Oef37q3diqbD"
   },
   "outputs": [],
   "source": []
  },
  {
   "cell_type": "markdown",
   "metadata": {
    "id": "FhOe2bb6QGWu"
   },
   "source": [
    "Using customer segmentation categories found [here](http://www.blastam.com/blog/rfm-analysis-boosts-sales) we can formulate different marketing strategies and approaches for customer engagement for each type of customer.\n",
    "\n",
    "Note: The author in the article scores 1 as the highest and 4 as the lowest"
   ]
  },
  {
   "cell_type": "markdown",
   "metadata": {
    "id": "Te_6gUR5iqbD"
   },
   "source": [
    "2. How many customers do we have in each segment?"
   ]
  },
  {
   "cell_type": "code",
   "execution_count": null,
   "metadata": {
    "id": "Gs4rP-0viqbD"
   },
   "outputs": [],
   "source": []
  },
  {
   "cell_type": "markdown",
   "metadata": {
    "id": "1RwemvLyQGWv"
   },
   "source": [
    "# 3. Applying K-Means Clustering"
   ]
  },
  {
   "cell_type": "markdown",
   "metadata": {
    "id": "h6WZ0PnZQGWv"
   },
   "source": [
    "Now that we have our customers segmented into 6 different categories, we can gain further insight into customer behavior by using predictive models in conjuction with out RFM model.\n",
    "Possible algorithms include **Logistic Regression**, **K-means Clustering**, and **K-nearest Neighbor**. We will go with [K-Means](https://towardsdatascience.com/understanding-k-means-clustering-in-machine-learning-6a6e67336aa1) since we already have our distinct groups determined. K-means has also been widely used for market segmentation and has the advantage of being simple to implement."
   ]
  },
  {
   "cell_type": "markdown",
   "metadata": {
    "id": "IrWIRLkMiqbE"
   },
   "source": [
    "## Data Pre-Processing and Exploring"
   ]
  },
  {
   "cell_type": "code",
   "execution_count": null,
   "metadata": {
    "id": "cLoRGR6NiqbE"
   },
   "outputs": [],
   "source": []
  },
  {
   "cell_type": "markdown",
   "metadata": {
    "id": "-6SGV0xoQGWw"
   },
   "source": [
    "### i. Define and Plot Feature Correlations"
   ]
  },
  {
   "cell_type": "markdown",
   "metadata": {
    "id": "JpMAiWNBiqbE"
   },
   "source": [
    "Create Heatmap and evaluate the results "
   ]
  },
  {
   "cell_type": "code",
   "execution_count": null,
   "metadata": {
    "id": "I6Cv8_EqiqbE"
   },
   "outputs": [],
   "source": []
  },
  {
   "cell_type": "markdown",
   "metadata": {
    "id": "8WhL5MBEQGWy"
   },
   "source": [
    "### ii. Visualize Feature Distributions\n",
    "\n",
    "To get a better understanding of the dataset, you can costruct a scatter matrix of each of the three features in the RFM data."
   ]
  },
  {
   "cell_type": "code",
   "execution_count": null,
   "metadata": {
    "id": "FHE0Vb0KiqbE"
   },
   "outputs": [],
   "source": []
  },
  {
   "cell_type": "markdown",
   "metadata": {
    "id": "Q2RsjzjbQGWz"
   },
   "source": [
    "### iii. Data Normalization"
   ]
  },
  {
   "cell_type": "markdown",
   "metadata": {
    "id": "hXsrPpegiqbF"
   },
   "source": [
    "1. You can use the logarithm method to normalize the values in a column."
   ]
  },
  {
   "cell_type": "code",
   "execution_count": null,
   "metadata": {
    "id": "b-cBU8jxiqbF"
   },
   "outputs": [],
   "source": []
  },
  {
   "cell_type": "markdown",
   "metadata": {
    "id": "fC6dHnqKiqbF"
   },
   "source": [
    "2. Plot normalized data with scatter matrix or pairplot. Also evaluate results."
   ]
  },
  {
   "cell_type": "code",
   "execution_count": null,
   "metadata": {
    "id": "iB9jDUPriqbF"
   },
   "outputs": [],
   "source": []
  },
  {
   "cell_type": "markdown",
   "metadata": {
    "id": "35c0aDixQGW4"
   },
   "source": [
    "## K-Means Implementation\n",
    "\n",
    "For k-means, you have to set k to the number of clusters you want, but figuring out how many clusters is not obvious from the beginning. We will try different cluster numbers and check their [silhouette coefficient](http://scikit-learn.org/stable/auto_examples/cluster/plot_kmeans_silhouette_analysis.html). The silhouette coefficient for a data point measures how similar it is to its assigned cluster from -1 (dissimilar) to 1 (similar). \n",
    "<br>\n",
    "<br>\n",
    "**Note**: K-means is sensitive to initializations because they are critical to qualifty of optima found. Thus, we will use smart initialization called \"Elbow Method\"."
   ]
  },
  {
   "cell_type": "markdown",
   "metadata": {
    "id": "JloMSEeriqbF"
   },
   "source": [
    "### i. Define the Optimal Number of Clusters"
   ]
  },
  {
   "cell_type": "markdown",
   "metadata": {
    "id": "McFq6IWZt5hg"
   },
   "source": [
    "[The Elbow Method](https://en.wikipedia.org/wiki/Elbow_method_(clustering) "
   ]
  },
  {
   "cell_type": "code",
   "execution_count": null,
   "metadata": {
    "id": "2202eo2riqbF"
   },
   "outputs": [],
   "source": []
  },
  {
   "cell_type": "markdown",
   "metadata": {
    "id": "ACT_d0UpwUSC"
   },
   "source": [
    "[Silhouette Coefficient](http://scikit-learn.org/stable/auto_examples/cluster/plot_kmeans_silhouette_analysis.html)"
   ]
  },
  {
   "cell_type": "code",
   "execution_count": null,
   "metadata": {
    "id": "qS4TLbRniqbG"
   },
   "outputs": [],
   "source": []
  },
  {
   "cell_type": "markdown",
   "metadata": {
    "id": "o6dW2MWZiqbG"
   },
   "source": [
    "### ii. Model Fitting"
   ]
  },
  {
   "cell_type": "markdown",
   "metadata": {
    "id": "cXM5ksoPiqbG"
   },
   "source": [
    "Fit the K-Means Algorithm with the optimal number of clusters you decided and save the model to disk."
   ]
  },
  {
   "cell_type": "code",
   "execution_count": null,
   "metadata": {
    "id": "geMuViLniqbG"
   },
   "outputs": [],
   "source": []
  },
  {
   "cell_type": "markdown",
   "metadata": {
    "id": "GqcSwNZTQGW7"
   },
   "source": [
    "### iii. Visualize the Clusters"
   ]
  },
  {
   "cell_type": "markdown",
   "metadata": {
    "id": "Cfx5kzPriqbG"
   },
   "source": [
    "1. Create a scatter plot and select cluster centers"
   ]
  },
  {
   "cell_type": "code",
   "execution_count": null,
   "metadata": {
    "id": "cyrovJB0iqbH"
   },
   "outputs": [],
   "source": []
  },
  {
   "cell_type": "markdown",
   "metadata": {
    "id": "D4sHOvlniqbH"
   },
   "source": [
    "2. Visualize Cluster Id vs Recency, Cluster Id vs Frequency and Cluster Id vs Monetary using Box plot. Also evaluate the results. "
   ]
  },
  {
   "cell_type": "code",
   "execution_count": null,
   "metadata": {
    "id": "lzPl-LXViqbH"
   },
   "outputs": [],
   "source": []
  },
  {
   "cell_type": "markdown",
   "metadata": {
    "id": "yRyku5qJiqbH"
   },
   "source": [
    "### iv. Assign the Label"
   ]
  },
  {
   "cell_type": "code",
   "execution_count": null,
   "metadata": {
    "id": "gVrkisf9iqbH"
   },
   "outputs": [],
   "source": []
  },
  {
   "cell_type": "markdown",
   "metadata": {
    "id": "_DiG6sxS4gWH"
   },
   "source": [
    "**Conclusion**\n",
    "\n",
    "- Cluster 0 : The first cluster belongs to the \"Best Customers\" segment which we saw earlier as they purchase recently (R=4), frequent buyers (F=4), and spent the most (M=4)\n",
    "\n",
    "- Cluster 1 : Second cluster can be interpreted as passer customers as their last purchase is long ago (R<=1),purchased very few (F>=2 & F < 4) and spent little (M>=4 & M < 4).Company has to come up with new strategies to make them permanent members. Low value customers\n",
    "- Cluster 2 : The third cluster is more related to the \"Almost Lost\" segment as they Haven’t purchased for some time(R=1), but used to purchase frequently and spent a lot."
   ]
  },
  {
   "cell_type": "markdown",
   "metadata": {
    "id": "lf4OsPmSQGXA"
   },
   "source": [
    "### v. Conclusion\n",
    "\n",
    "Discuss your final results. Compare your own labels from the Customer Segmentation with the labels found by K-Means."
   ]
  },
  {
   "cell_type": "markdown",
   "metadata": {
    "id": "UFaHgoLoQGXA"
   },
   "source": [
    "How we want to continue this analysis depends on how the business plans to use the results and the level of granularity the business stakeholders want to see in the clusters. We can also ask what range of customer behavior from high to low value customers are the stakeholders interested in exploring. From those answers, various methods of clustering can be used and applied on RFM variable or directly on the transaction data set."
   ]
  },
  {
   "cell_type": "markdown",
   "metadata": {
    "id": "ysCkU1B-iqbI"
   },
   "source": [
    "**Annotation:**\n",
    "\n",
    "Limitations of K-means clustering:\n",
    "\n",
    "1. There is no assurance that it will lead to the global best solution.\n",
    "2. Can't deal with different shapes(not circular) and consider one point's probability of belonging to more than one cluster.\n",
    "\n",
    "These disadvantages of K-means show that for many datasets (especially low-dimensional datasets), it may not perform as well as you might hope."
   ]
  },
  {
   "cell_type": "markdown",
   "metadata": {
    "id": "xiPd_IbnQGVn"
   },
   "source": [
    "# 5. Create Cohort & Conduct Cohort Analysis\n",
    "[Cohort Analysis](https://medium.com/swlh/cohort-analysis-using-python-and-pandas-d2a60f4d0a4d) is specifically useful in analyzing user growth patterns for products. In terms of a product, a cohort can be a group of people with the same sign-up date, the same usage starts month/date, or the same traffic source.\n",
    "Cohort analysis is an analytics method by which these groups can be tracked over time for finding key insights. This analysis can further be used to do customer segmentation and track metrics like retention, churn, and lifetime value.\n",
    "\n",
    "For e-commerce organizations, cohort analysis is a unique opportunity to find out which clients are the most valuable to their business. by performing Cohort analysis you can get the following answers to the following questions:\n",
    "\n",
    "- How much effective was a marketing campaign held in a particular time period?\n",
    "- Did the strategy employ to improve the conversion rates of Customers worked?\n",
    "- Should I focus more on retention rather than acquiring new customers?\n",
    "- Are my customer nurturing strategies effective?\n",
    "- Which marketing channels bring me the best results?\n",
    "- Is there a seasonality pattern in Customer behavior?\n",
    "- Along with various performance measures/metrics for your organization."
   ]
  },
  {
   "cell_type": "markdown",
   "metadata": {
    "id": "xhiYivPrQGVo"
   },
   "source": [
    "Since we will be performing Cohort Analysis based on transaction records of customers, the columns we will be dealing with mainly:\n",
    "- Invoice Data\n",
    "- CustomerID\n",
    "- Price\n",
    "- Quantity\n",
    "\n",
    "The following steps will performed to generate the Cohort Chart of Retention Rate:\n",
    "- Month Extraction from InvioceDate column\n",
    "- Assigning Cohort to Each Transaction\n",
    "- Assigning Cohort Index to each transaction\n",
    "- Calculating number of unique customers in each Group of (ChortDate,Index)\n",
    "- Creating Cohort Table for Retention Rate\n",
    "- Creating the Cohort Chart using the Cohort Table\n",
    "\n",
    "The Detailed information about each step is given below:"
   ]
  },
  {
   "cell_type": "markdown",
   "metadata": {
    "id": "eo0GB_osiqbI"
   },
   "source": [
    "## Future Engineering"
   ]
  },
  {
   "cell_type": "markdown",
   "metadata": {
    "id": "JVwPNjpyQGVo"
   },
   "source": [
    "### i. Extract the Month of the Purchase\n",
    "First we will create a function, which takes any date and returns the formatted date with day value as 1st of the same month and Year."
   ]
  },
  {
   "cell_type": "code",
   "execution_count": null,
   "metadata": {
    "id": "lK1CqlNQiqbI"
   },
   "outputs": [],
   "source": []
  },
  {
   "cell_type": "markdown",
   "metadata": {
    "id": "NQKsM_9IQGVq"
   },
   "source": [
    "Now we will use the function created above to convert all the invoice dates into respective month date format."
   ]
  },
  {
   "cell_type": "code",
   "execution_count": null,
   "metadata": {
    "id": "DL17u0dniqbJ"
   },
   "outputs": [],
   "source": []
  },
  {
   "cell_type": "markdown",
   "metadata": {
    "id": "XPE7kTz2QGVs"
   },
   "source": [
    "### ii. Calculating time offset in Months i.e. Cohort Index:\n",
    "Calculating time offset for each transaction will allows us to report the metrics for each cohort in a comparable fashion.\n",
    "First, you will create 4 variables that capture the integer value of years, months for Invoice and Cohort Date using the get_date_int() function which you'll create it below."
   ]
  },
  {
   "cell_type": "code",
   "execution_count": null,
   "metadata": {
    "id": "1_3aYf4FiqbJ"
   },
   "outputs": [],
   "source": []
  },
  {
   "cell_type": "markdown",
   "metadata": {
    "id": "SGm1eweDQGVu"
   },
   "source": [
    "You will use this function to extract the integer values for Invoice as well as Cohort Date in 3 seperate series for each of the two columns"
   ]
  },
  {
   "cell_type": "code",
   "execution_count": null,
   "metadata": {
    "id": "2wF_ViD_iqbJ"
   },
   "outputs": [],
   "source": []
  },
  {
   "cell_type": "markdown",
   "metadata": {
    "id": "Z9jYVljviqbJ"
   },
   "source": [
    "Use the variables created above to calcualte the difference in days and store them in cohort Index column."
   ]
  },
  {
   "cell_type": "code",
   "execution_count": null,
   "metadata": {
    "id": "wVlAYCbEiqbJ"
   },
   "outputs": [],
   "source": []
  },
  {
   "cell_type": "markdown",
   "metadata": {
    "id": "W-t76CXSQGVw"
   },
   "source": [
    "## Create 1st Cohort: User number & Retention Rate"
   ]
  },
  {
   "cell_type": "markdown",
   "metadata": {
    "id": "bKvUWci9iqbJ"
   },
   "source": [
    "### i. Pivot Cohort and Cohort Retention"
   ]
  },
  {
   "cell_type": "code",
   "execution_count": null,
   "metadata": {
    "id": "U-8HzlZWiqbK"
   },
   "outputs": [],
   "source": []
  },
  {
   "cell_type": "markdown",
   "metadata": {
    "id": "63TIyBY6iqbK"
   },
   "source": [
    "### ii. Visualize analysis of cohort 1 using seaborn and matplotlib modules"
   ]
  },
  {
   "cell_type": "code",
   "execution_count": null,
   "metadata": {
    "id": "SY7mPvCAiqbK"
   },
   "outputs": [],
   "source": []
  },
  {
   "cell_type": "markdown",
   "metadata": {
    "id": "yORYolvqQGV0"
   },
   "source": [
    "## Create the 2nd Cohort: Average Quantity Sold"
   ]
  },
  {
   "cell_type": "markdown",
   "metadata": {
    "id": "Tu1hM3CFiqbK"
   },
   "source": [
    "### i. Pivot Cohort and Cohort Retention"
   ]
  },
  {
   "cell_type": "code",
   "execution_count": null,
   "metadata": {
    "id": "yQ8jlhPEiqbK"
   },
   "outputs": [],
   "source": []
  },
  {
   "cell_type": "markdown",
   "metadata": {
    "id": "F3PJHMS6iqbK"
   },
   "source": [
    "### ii. Visualize analysis of cohort 2 using seaborn and matplotlib modules"
   ]
  },
  {
   "cell_type": "code",
   "execution_count": null,
   "metadata": {
    "id": "9vuHi3wPiqbK"
   },
   "outputs": [],
   "source": []
  },
  {
   "cell_type": "markdown",
   "metadata": {
    "id": "UUoG5yUIQGV3"
   },
   "source": [
    "## Create the 3rd Cohort: Average Sales\n"
   ]
  },
  {
   "cell_type": "markdown",
   "metadata": {
    "id": "EKNS-mO5iqbL"
   },
   "source": [
    "### i. Pivot Cohort and Cohort Retention"
   ]
  },
  {
   "cell_type": "code",
   "execution_count": null,
   "metadata": {
    "id": "t2s-zyWeiqbL"
   },
   "outputs": [],
   "source": []
  },
  {
   "cell_type": "markdown",
   "metadata": {
    "id": "tRGOpeUPiqbL"
   },
   "source": [
    "### ii. Visualize analysis of cohort 3 using seaborn and matplotlib modules"
   ]
  },
  {
   "cell_type": "code",
   "execution_count": null,
   "metadata": {
    "id": "EYkkDncXiqbL"
   },
   "outputs": [],
   "source": []
  },
  {
   "cell_type": "markdown",
   "metadata": {
    "id": "uD9lu1ExQGV5"
   },
   "source": [
    "For e-commerce organisations, cohort analysis is a unique opportunity to find out which clients are the most valuable to their business. by performing Cohort analysis you can get answers to following questions:\n",
    "\n",
    "- How much effective was a marketing campaign held in a particular time period?\n",
    "- Did the strategy employed to improve the conversion rates of Customers worked?\n",
    "- Should I focus more on retention rather than acquiring new customers?\n",
    "- Are my customer nurturing strategies effective?\n",
    "- Which marketing channels bring me the best results?\n",
    "- Is there a seasoanlity pattern in Customer behahiour?"
   ]
  },
  {
   "cell_type": "markdown",
   "metadata": {
    "id": "ZX_Y6S36iqbL"
   },
   "source": [
    "___\n",
    "\n",
    "<p style=\"text-align: center;\"><img src=\"https://docs.google.com/uc?id=1lY0Uj5R04yMY3-ZppPWxqCr5pvBLYPnV\" class=\"img-fluid\" alt=\"CLRSWY\"></p>\n",
    "\n",
    "___"
   ]
  }
 ],
 "metadata": {
  "colab": {
   "collapsed_sections": [
    "lf4OsPmSQGXA"
   ],
   "name": "RFM - Customer Segmentation_Student_V3.ipynb",
   "provenance": [],
   "toc_visible": true
  },
  "kernelspec": {
   "display_name": "Python 3",
   "language": "python",
   "name": "python3"
  },
  "language_info": {
   "codemirror_mode": {
    "name": "ipython",
    "version": 3
   },
   "file_extension": ".py",
   "mimetype": "text/x-python",
   "name": "python",
   "nbconvert_exporter": "python",
   "pygments_lexer": "ipython3",
   "version": "3.8.8"
  }
 },
 "nbformat": 4,
 "nbformat_minor": 1
}
